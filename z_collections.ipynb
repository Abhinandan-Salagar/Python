{
 "cells": [
  {
   "cell_type": "code",
   "execution_count": 6,
   "id": "f786ede7",
   "metadata": {},
   "outputs": [
    {
     "name": "stdout",
     "output_type": "stream",
     "text": [
      "1 \n",
      "1 2 \n",
      "1 2 3 \n",
      "1 2 3 4 \n",
      "1 2 3 4 5 \n"
     ]
    }
   ],
   "source": [
    "for i in range(1,6):\n",
    "    for j in range(1,i+1):  \n",
    "        print(j,end=\" \")\n",
    "    print(\"\")"
   ]
  },
  {
   "cell_type": "code",
   "execution_count": 4,
   "id": "4051d7e1",
   "metadata": {},
   "outputs": [
    {
     "name": "stdout",
     "output_type": "stream",
     "text": [
      "* \n",
      "* * \n",
      "* * * \n",
      "* * * * \n",
      "* * * * * \n"
     ]
    }
   ],
   "source": [
    "n=5\n",
    "i=1\n",
    "while i<=n:\n",
    "    j=1\n",
    "    while j<=i:\n",
    "        print(\"*\",end=\" \")\n",
    "        j=j+1\n",
    "    print()\n",
    "    i=i+1"
   ]
  },
  {
   "cell_type": "code",
   "execution_count": 17,
   "id": "5c5150cf",
   "metadata": {},
   "outputs": [
    {
     "name": "stdout",
     "output_type": "stream",
     "text": [
      "{'Red', 'Black', 'Blue', 'Orange', 'Green', 'Yellow'}\n",
      "{'Red', 'Black', 'Blue', 'Orange', 'Green', 'Yellow'}\n"
     ]
    }
   ],
   "source": [
    "'''1: Add a list of elements to a set\n",
    "Given a Python list, Write a program to add all its elements into a given set.'''\n",
    "\n",
    "a = {\"Yellow\", \"Orange\", \"Black\"}\n",
    "b = [\"Blue\", \"Green\", \"Red\"]\n",
    "c=list(a)\n",
    "d=c+b\n",
    "e=set(d)\n",
    "print(e)\n",
    "a.update(b)\n",
    "print(a)"
   ]
  },
  {
   "cell_type": "code",
   "execution_count": 18,
   "id": "ae60e8b3",
   "metadata": {},
   "outputs": [
    {
     "name": "stdout",
     "output_type": "stream",
     "text": [
      "{40, 50, 30}\n"
     ]
    }
   ],
   "source": [
    "'''2: Return a new set of identical items from two sets'''\n",
    "a = {10, 20, 30, 40, 50}\n",
    "b = {30, 40, 50, 60, 70}\n",
    "print(a.intersection(b))"
   ]
  },
  {
   "cell_type": "code",
   "execution_count": 21,
   "id": "09ca2fc0",
   "metadata": {},
   "outputs": [
    {
     "name": "stdout",
     "output_type": "stream",
     "text": [
      "{70, 40, 10, 50, 20, 60, 30}\n"
     ]
    }
   ],
   "source": [
    "'''3: Get Only unique items from two sets\n",
    "Write a Python program to return a new set with unique items from both sets by removing duplicates.'''\n",
    "a = {10, 20, 30, 40, 50}\n",
    "b = {30, 40, 50, 60, 70}\n",
    "print(a.union(b))"
   ]
  },
  {
   "cell_type": "code",
   "execution_count": 22,
   "id": "6c305535",
   "metadata": {},
   "outputs": [
    {
     "name": "stdout",
     "output_type": "stream",
     "text": [
      "{10, 30}\n"
     ]
    }
   ],
   "source": [
    "'''4: Update the first set with items that don’t exist in the second set\n",
    "Given two Python sets, write a Python program to update the first set with items that exist only in the first set and not in the second set.'''\n",
    "a = {10, 20, 30}\n",
    "b = {20, 40, 50}\n",
    "print(a.difference(b))"
   ]
  },
  {
   "cell_type": "code",
   "execution_count": 33,
   "id": "b51c8175",
   "metadata": {},
   "outputs": [
    {
     "data": {
      "text/plain": [
       "{40, 50}"
      ]
     },
     "execution_count": 33,
     "metadata": {},
     "output_type": "execute_result"
    }
   ],
   "source": [
    "'''5: Remove items from the set at once\n",
    "Write a Python program to remove items 10, 20, 30 from the following set at once.'''\n",
    "a= {10, 20, 30, 40, 50}\n",
    "a.difference_update({10,20,30})\n",
    "a\n",
    "\n",
    "\n"
   ]
  },
  {
   "cell_type": "code",
   "execution_count": 34,
   "id": "073527d9",
   "metadata": {},
   "outputs": [
    {
     "name": "stdout",
     "output_type": "stream",
     "text": [
      "{20, 70, 10, 60}\n"
     ]
    }
   ],
   "source": [
    "'''6: Return a set of elements present in Set A or B, but not both'''\n",
    "a= {10, 20, 30, 40, 50}\n",
    "b = {30, 40, 50, 60, 70}\n",
    "print(a.symmetric_difference(b))"
   ]
  },
  {
   "cell_type": "code",
   "execution_count": 35,
   "id": "c56e6314",
   "metadata": {},
   "outputs": [
    {
     "name": "stdout",
     "output_type": "stream",
     "text": [
      "{10}\n"
     ]
    }
   ],
   "source": [
    "'''7: Check if two sets have any elements in common. If yes, display the common elements'''\n",
    "a= {10, 20, 30, 40, 50}\n",
    "b = {60, 70, 80, 90, 10}\n",
    "print(a.intersection(b))"
   ]
  },
  {
   "cell_type": "code",
   "execution_count": 38,
   "id": "dcc64f9b",
   "metadata": {},
   "outputs": [
    {
     "name": "stdout",
     "output_type": "stream",
     "text": [
      "{20, 70, 10, 60}\n"
     ]
    }
   ],
   "source": [
    "'''8: Update set1 by adding items from set2, except common items'''\n",
    "a= {10, 20, 30, 40, 50}\n",
    "b = {30, 40, 50, 60, 70}\n",
    "print(a.symmetric_difference(b))"
   ]
  },
  {
   "cell_type": "code",
   "execution_count": 46,
   "id": "538ec479",
   "metadata": {},
   "outputs": [
    {
     "name": "stdout",
     "output_type": "stream",
     "text": [
      "{'Ten': 10, 'Twenty': 20, 'Thirty': 30}\n"
     ]
    }
   ],
   "source": [
    "'''1: Convert two lists into a dictionary'''\n",
    "keys = ['Ten', 'Twenty', 'Thirty']\n",
    "values = [10, 20, 30]\n",
    "d=dict(zip(keys,values))\n",
    "d\n",
    "# empty dictionary\n",
    "res_dict = dict()\n",
    "\n",
    "for i in range(len(keys)):\n",
    "    res_dict.update({keys[i]: values[i]})\n",
    "print(res_dict)"
   ]
  },
  {
   "cell_type": "code",
   "execution_count": 57,
   "id": "e83ed67d",
   "metadata": {},
   "outputs": [
    {
     "name": "stdout",
     "output_type": "stream",
     "text": [
      "{'Ten': 10, 'Twenty': 20, 'Thirty': 30, 'Fourty': 40, 'Fifty': 50}\n",
      "{'Ten': 10, 'Twenty': 20, 'Thirty': 30, 'Fourty': 40, 'Fifty': 50}\n"
     ]
    }
   ],
   "source": [
    "'''2: Merge two Python dictionaries into one'''\n",
    "a = {'Ten': 10, 'Twenty': 20, 'Thirty': 30}\n",
    "b = {'Thirty': 30, 'Fourty': 40, 'Fifty': 50}\n",
    "a.update(b)\n",
    "c= {**a, **b}\n",
    "print(a)\n",
    "print(c)"
   ]
  },
  {
   "cell_type": "code",
   "execution_count": null,
   "id": "48b1b391",
   "metadata": {},
   "outputs": [],
   "source": [
    "a = {'Ten': 10, 'Twenty': 20, 'Thirty': 30}\n",
    "b = {'Thirty': 30, 'Fourty': 40, 'Fifty': 50}\n"
   ]
  },
  {
   "cell_type": "code",
   "execution_count": 59,
   "id": "a36e1c77",
   "metadata": {},
   "outputs": [
    {
     "name": "stdout",
     "output_type": "stream",
     "text": [
      "80\n"
     ]
    }
   ],
   "source": [
    "'''3: Print the value of key ‘history’ from the below dict'''\n",
    "d = {\n",
    "    \"class\": {\n",
    "        \"student\": {\n",
    "            \"name\": \"Mike\",\n",
    "            \"marks\": {\n",
    "                \"physics\": 70,\n",
    "                \"history\": 80\n",
    "            }\n",
    "        }\n",
    "    }\n",
    "}\n",
    "print(d[\"class\"][\"student\"][\"marks\"][\"history\"])"
   ]
  },
  {
   "cell_type": "code",
   "execution_count": 66,
   "id": "1ef6805f",
   "metadata": {},
   "outputs": [
    {
     "name": "stdout",
     "output_type": "stream",
     "text": [
      "{'Kelly': {'designation': 'Developer', 'salary': 8000}, 'Emma': {'designation': 'Developer', 'salary': 8000}}\n",
      "{'Kelly': {'designation': 'Developer', 'salary': 8000}, 'Emma': {'designation': 'Developer', 'salary': 8000}}\n"
     ]
    }
   ],
   "source": [
    "k = ['Kelly', 'Emma']\n",
    "v = {\"designation\": 'Developer', \"salary\": 8000}\n",
    "d =dict()\n",
    "for i in range(len(k)):   \n",
    "    d.update({k[i]:v})\n",
    "print(d)\n",
    "\n",
    "res = dict.fromkeys(k, v)\n",
    "print(res)"
   ]
  },
  {
   "cell_type": "code",
   "execution_count": 77,
   "id": "12ca0a38",
   "metadata": {},
   "outputs": [
    {
     "name": "stdout",
     "output_type": "stream",
     "text": [
      "{'name': 'Kelly'}\n",
      "{'salary': 8000}\n"
     ]
    }
   ],
   "source": [
    "d= {\n",
    "    \"name\": \"Kelly\",\n",
    "    \"age\": 25,\n",
    "    \"salary\": 8000,\n",
    "    \"city\": \"New york\"}\n",
    "b=  [\"name\", \"salary\"]\n",
    "for i in b:\n",
    "    print({i:d[i]})"
   ]
  },
  {
   "cell_type": "code",
   "execution_count": 79,
   "id": "b9cc0d44",
   "metadata": {},
   "outputs": [
    {
     "name": "stdout",
     "output_type": "stream",
     "text": [
      "{'age': 25, 'city': 'New york'}\n"
     ]
    }
   ],
   "source": [
    "'''6: Delete a list of keys from a dictionary'''\n",
    "d= {\n",
    "    \"name\": \"Kelly\",\n",
    "    \"age\": 25,\n",
    "    \"salary\": 8000,\n",
    "    \"city\": \"New york\"\n",
    "}\n",
    "\n",
    "# Keys to remove\n",
    "keys = [\"name\", \"salary\"]\n",
    "for i in b:\n",
    "    del d[i]\n",
    "print(d)"
   ]
  },
  {
   "cell_type": "code",
   "execution_count": 80,
   "id": "945fc61c",
   "metadata": {},
   "outputs": [
    {
     "name": "stdout",
     "output_type": "stream",
     "text": [
      "True\n"
     ]
    }
   ],
   "source": [
    "'''7: Check if a value exists in a dictionary'''\n",
    "d = {'a': 100, 'b': 200, 'c': 300}\n",
    "print(200 in d.values())"
   ]
  },
  {
   "cell_type": "code",
   "execution_count": 88,
   "id": "b9d45d9a",
   "metadata": {},
   "outputs": [
    {
     "data": {
      "text/plain": [
       "{'name': 'Kelly', 'age': 25, 'salary': 8000, 'location': 'New york'}"
      ]
     },
     "execution_count": 88,
     "metadata": {},
     "output_type": "execute_result"
    }
   ],
   "source": [
    "d= {\n",
    "  \"name\": \"Kelly\",\n",
    "  \"age\":25,\n",
    "  \"salary\": 8000,\n",
    "  \"city\": \"New york\"\n",
    "}\n",
    "d[\"location\"]=d.pop(\"city\")\n",
    "d"
   ]
  },
  {
   "cell_type": "code",
   "execution_count": 91,
   "id": "8140bbde",
   "metadata": {},
   "outputs": [
    {
     "name": "stdout",
     "output_type": "stream",
     "text": [
      "Math\n"
     ]
    }
   ],
   "source": [
    "'''9: Get the key of a minimum value from the following dictionary'''\n",
    "d = {\n",
    "  'Physics': 82,\n",
    "  'Math': 65,\n",
    "  'history': 75\n",
    "}\n",
    "print(min(d))"
   ]
  },
  {
   "cell_type": "code",
   "execution_count": 103,
   "id": "62526976",
   "metadata": {},
   "outputs": [
    {
     "name": "stdout",
     "output_type": "stream",
     "text": [
      "{'emp1': {'name': 'Jhon', 'salary': 7500}, 'emp2': {'name': 'Emma', 'salary': 8000}, 'emp3': {'name': 'Brad', 'salary': 8500}}\n"
     ]
    },
    {
     "data": {
      "text/plain": [
       "{'emp1': {'name': 'Jhon', 'salary': 7500},\n",
       " 'emp2': {'name': 'Emma', 'salary': 8000},\n",
       " 'emp3': {'name': 'Brad', 'salary': 8500}}"
      ]
     },
     "execution_count": 103,
     "metadata": {},
     "output_type": "execute_result"
    }
   ],
   "source": [
    "'''10: Change value of a key in a nested dictionary'''\n",
    "d = {\n",
    "    'emp1': {'name': 'Jhon', 'salary': 7500},\n",
    "    'emp2': {'name': 'Emma', 'salary': 8000},\n",
    "    'emp3': {'name': 'Brad', 'salary': 500}\n",
    "}\n",
    "\n",
    "for i in d:   \n",
    "    if d[i][\"name\"] ==\"Brad\":\n",
    "        d[i][\"salary\"]=8500\n",
    "print(d)\n",
    "    \n",
    "d['emp3']['salary'] = 8500\n",
    "d"
   ]
  },
  {
   "cell_type": "code",
   "execution_count": 114,
   "id": "85f77421",
   "metadata": {},
   "outputs": [
    {
     "name": "stdout",
     "output_type": "stream",
     "text": [
      "5\n",
      "11\n"
     ]
    }
   ],
   "source": [
    "'''Q1. Find the number of vowels and digits and spaces from the below string..\n",
    "myString = \"this is the python programming batch of febuary\"'''\n",
    "a=\"this is the python programming language\"\n",
    "c=0\n",
    "d=0\n",
    "for i in range(len(a)):\n",
    "    if a[i] in \"aeiou\":\n",
    "        c=c+1\n",
    "    if a[i].isspace():\n",
    "        d=d+1\n",
    "print(d)\n",
    "print(c)\n"
   ]
  },
  {
   "cell_type": "code",
   "execution_count": 131,
   "id": "287cd17d",
   "metadata": {},
   "outputs": [
    {
     "name": "stdout",
     "output_type": "stream",
     "text": [
      "['madam', 'naman', '12321', 85258, 'ADDydda']\n"
     ]
    }
   ],
   "source": [
    "'''Q2. find which of them is in palindromes.'''\n",
    "a = [\"madam\", \"naman\", \"12321\", \"7530\", False, 45621, 85258, \"ADDydda\"]\n",
    "c=[]\n",
    "for i in a:\n",
    "   \n",
    "   if str(i).lower()[::1]==str(i).lower()[::-1]:\n",
    "      c.append(i)\n",
    "\n",
    "print(c)"
   ]
  },
  {
   "cell_type": "code",
   "execution_count": 139,
   "id": "7fb831b7",
   "metadata": {},
   "outputs": [
    {
     "name": "stdout",
     "output_type": "stream",
     "text": [
      "40320\n",
      "6\n",
      "factoral for 0 is zero\n",
      "-5 negative factoial is not available\n",
      "3628800\n",
      "120\n"
     ]
    }
   ],
   "source": [
    "'''Q3. Find the factorial of the numbers written inside the tuple;'''\n",
    "a = (8, 3, 0, -5, 10, 5)\n",
    "for i in a:\n",
    "    if i==0:     \n",
    "        print(f\"factoral for {i} is one\")\n",
    "    elif i<0:\n",
    "        print(f\"{i} negative factoial is not available\")\n",
    "    else:\n",
    "        f=1\n",
    "        for j in range(i,1,-1):       \n",
    "            if j<=i:\n",
    "             f=f*j\n",
    "        print(f)\n",
    "\n",
    "   \n",
    "      \n",
    "      \n",
    "   \n"
   ]
  },
  {
   "cell_type": "code",
   "execution_count": null,
   "id": "64cd982b",
   "metadata": {},
   "outputs": [],
   "source": [
    "'''Q4. Find the count of each character inside the string\n",
    "myString = \"python programming batch of febuary\"\n",
    "p = ?\n",
    "b = ?\n",
    "f = ??'''\n",
    "d={}\n",
    "a = \"python programming batch of febuary\"\n",
    "for i in a:\n",
    "    d[i]=a.count(i)\n",
    "   # print(i,a.count(i))\n",
    "d"
   ]
  },
  {
   "cell_type": "code",
   "execution_count": 151,
   "id": "b0750ff8",
   "metadata": {},
   "outputs": [
    {
     "name": "stdout",
     "output_type": "stream",
     "text": [
      "(5, 10, -5, 0, 3, 8)\n"
     ]
    }
   ],
   "source": [
    "'''Q5. Write a program (WAP) to reverse the tuple'''\n",
    "a = (8, 3, 0, -5, 10, 5)\n",
    "print(a[::-1])\n"
   ]
  },
  {
   "cell_type": "code",
   "execution_count": 160,
   "id": "7f5d1123",
   "metadata": {},
   "outputs": [
    {
     "name": "stdout",
     "output_type": "stream",
     "text": [
      "name is nitish and mobile number is 7503286013\n",
      "name is shweta and mobile number is 7451425810\n",
      "name is pawan and mobile number is 9987542140\n",
      "name is aman and mobile number is 3074514520\n",
      "name is pravesh and mobile number is 7452479585\n",
      "name is aastha and mobile number is 8888999997\n",
      "name is pooja and mobile number is 4458777789\n"
     ]
    }
   ],
   "source": [
    "'''Q6. You have been given a dictionary highlighting names and their mobile numbers.\n",
    "WAP to find out the mobile number of person by taking its name from user.'''\n",
    "d = {\"nitish\" : 7503286013, \n",
    "             \"shweta\" : 7451425810, \n",
    "             \"pawan\" :  9987542140, \n",
    "             \"aman\" : 3074514520, \n",
    "             \"pravesh\" : 7452479585,\n",
    "              \"aastha\" : 8888999997, \n",
    "              \"pooja\" : 4458777789}\n",
    "\n",
    "for x,y in d.items():\n",
    "    print(f\"name is {x} and mobile number is {y}\")\n"
   ]
  },
  {
   "cell_type": "code",
   "execution_count": 177,
   "id": "5c940297",
   "metadata": {},
   "outputs": [
    {
     "name": "stdout",
     "output_type": "stream",
     "text": [
      "{'abc': 123}\n"
     ]
    }
   ],
   "source": [
    "n=int(input())\n",
    "d=dict()\n",
    "\n",
    "for i in range(n):\n",
    "    x=input(\"name: \")\n",
    "    y=int(input(\"number: \"))\n",
    "    d.update({x:y})\n",
    "print(d)\n",
    "\n"
   ]
  },
  {
   "cell_type": "code",
   "execution_count": 179,
   "id": "5e96db7b",
   "metadata": {},
   "outputs": [
    {
     "name": "stdout",
     "output_type": "stream",
     "text": [
      "Congratulations nitish for entering the tournament. Details are shared in your phone number 7503286013\n",
      "Congratulations shweta for entering the tournament. Details are shared in your phone number 7451425810\n",
      "Congratulations pawan for entering the tournament. Details are shared in your phone number 9987542140\n",
      "Congratulations aman for entering the tournament. Details are shared in your phone number 3074514520\n",
      "Congratulations pravesh for entering the tournament. Details are shared in your phone number 7452479585\n",
      "Congratulations aastha for entering the tournament. Details are shared in your phone number 8888999997\n",
      "Congratulations pooja for entering the tournament. Details are shared in your phone number 4458777789\n"
     ]
    }
   ],
   "source": [
    "\n",
    "\n",
    "d = {\"nitish\" : 7503286013, \n",
    "             \"shweta\" : 7451425810, \n",
    "             \"pawan\" :  9987542140, \n",
    "             \"aman\" : 3074514520, \n",
    "             \"pravesh\" : 7452479585,\n",
    "              \"aastha\" : 8888999997, \n",
    "              \"pooja\" : 4458777789}\n",
    "\n",
    "for x,y in d.items():\n",
    "    print(f\"Congratulations {x} for entering the tournament. Details are shared in your phone number {y}\")"
   ]
  },
  {
   "cell_type": "code",
   "execution_count": 19,
   "id": "0dfad4a2",
   "metadata": {},
   "outputs": [
    {
     "name": "stdout",
     "output_type": "stream",
     "text": [
      "{'r', ' ', 'a', 'g', 'n', 'i', 'b', 's', 'h', 'l', 'd'}\n",
      "r : 1\n",
      "a : 6\n",
      "g : 1\n",
      "n : 3\n",
      "i : 1\n",
      "b : 1\n",
      "s : 1\n",
      "h : 1\n",
      "l : 1\n",
      "d : 1\n"
     ]
    }
   ],
   "source": [
    "a=\"abhinandan salagar\"\n",
    "b=set(a)\n",
    "print(b)\n",
    "for i in b:\n",
    "    if i==\" \":\n",
    "        continue\n",
    "    c=a.count(i)\n",
    "    print(i,\":\",c)\n",
    "  \n"
   ]
  },
  {
   "cell_type": "code",
   "execution_count": null,
   "id": "1beaeee2",
   "metadata": {},
   "outputs": [],
   "source": []
  }
 ],
 "metadata": {
  "kernelspec": {
   "display_name": "Python 3 (ipykernel)",
   "language": "python",
   "name": "python3"
  },
  "language_info": {
   "codemirror_mode": {
    "name": "ipython",
    "version": 3
   },
   "file_extension": ".py",
   "mimetype": "text/x-python",
   "name": "python",
   "nbconvert_exporter": "python",
   "pygments_lexer": "ipython3",
   "version": "3.9.13"
  }
 },
 "nbformat": 4,
 "nbformat_minor": 5
}

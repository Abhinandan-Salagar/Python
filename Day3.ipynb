{
 "cells": [
  {
   "cell_type": "code",
   "execution_count": null,
   "metadata": {},
   "outputs": [],
   "source": [
    "# jupyter --config  # Check ONline"
   ]
  },
  {
   "cell_type": "markdown",
   "metadata": {},
   "source": [
    "# Agenda\n",
    "\n",
    "- comment\n",
    "- how to write\n",
    "- operators\n",
    "- data types\n",
    "\n",
    "https://pynative.com/python/basics/"
   ]
  },
  {
   "cell_type": "markdown",
   "metadata": {},
   "source": [
    "## Comment\n",
    "\n",
    "\n",
    "- documnet for the developer\n",
    "- the interpreters readds the comment and doesn't perform any action\n",
    "- single line commnet :: #\n",
    "- multiple line commnet :: ''' '''  \"\"\" \"\"\"\n",
    "\n"
   ]
  },
  {
   "cell_type": "code",
   "execution_count": null,
   "metadata": {},
   "outputs": [],
   "source": [
    "# this is the comment\n",
    "\n",
    "print( 47 / 6 )\n",
    "print(42 - 25)\n",
    "\n",
    "# Information that has added"
   ]
  },
  {
   "cell_type": "code",
   "execution_count": null,
   "metadata": {},
   "outputs": [],
   "source": [
    "'''\n",
    "\n",
    "feghjdb qwnvdwew\n",
    "    ver r\n",
    "     er \n",
    "        e.,bvc ewvh\n",
    "        e cbnvwecwghsv cgqws\n",
    "        dnwvgcdwfshbwbns\n",
    "        d cbevcvdw\n",
    "        \n",
    "'''\n",
    "\n",
    "\n",
    "\"\"\"\n",
    "\n",
    "feghjdb qwnvdwew\n",
    "    ver r\n",
    "     er \n",
    "        e.,bvc ewvh\n",
    "        e cbnvwecwghsv cgqws\n",
    "        dnwvgcdwfshbwbns\n",
    "        d cbevcvdw\n",
    "        \n",
    "\"\"\"\n",
    "\n",
    "print(10 ** 3)\n"
   ]
  },
  {
   "cell_type": "code",
   "execution_count": null,
   "metadata": {},
   "outputs": [],
   "source": [
    "# # How to Write\n",
    "\n",
    "# No ending of codes with ;\n",
    "# No calling of void functions\n",
    "# No explicit declaration of datatype"
   ]
  },
  {
   "cell_type": "code",
   "execution_count": null,
   "metadata": {},
   "outputs": [],
   "source": [
    "# void fun(){\n",
    "# int x = 100;\n",
    "# }\n",
    "\n",
    "x = 100\n",
    "print(\"Value of x : \", x)\n",
    "print(\"Data Type of x : \",  type( x) )\n",
    "\n",
    "\n",
    "print(\"****************************************\")\n",
    "x = 100.3\n",
    "print(\"Value of x : \", x)\n",
    "print(\"Data Type of x : \",  type( x) )\n",
    "\n",
    "\n",
    "print(\"****************************************\")\n",
    "x = 100.3 - 8j  # real + imaginary (j = sqrt(-1))\n",
    "print(\"Value of x : \", x)\n",
    "print(\"Data Type of x : \",  type( x) )\n",
    "\n",
    "\n",
    "print(\"****************************************\")\n",
    "x = \"100.3\"\n",
    "print(\"Value of x : \", x)\n",
    "print(\"Data Type of x : \",  type( x) )\n"
   ]
  },
  {
   "cell_type": "code",
   "execution_count": null,
   "metadata": {},
   "outputs": [],
   "source": []
  },
  {
   "cell_type": "markdown",
   "metadata": {},
   "source": [
    "## Operators\n"
   ]
  },
  {
   "cell_type": "code",
   "execution_count": null,
   "metadata": {},
   "outputs": [],
   "source": [
    "# 1. Airthmatic Operator\n",
    "## / * - + ** // %\n",
    "\n",
    "\n",
    "print( 25 * 6 )\n",
    "print( 25 + 6 )\n",
    "print( 25 - 6 )\n",
    "print( 25 / 6 )\n",
    "\n",
    "print( 3 ** 2 ) # Power \n",
    "print( 8 ** 4 ) # Power \n",
    "print( 100 ** 0.5 ) # Power "
   ]
  },
  {
   "cell_type": "code",
   "execution_count": null,
   "metadata": {},
   "outputs": [],
   "source": [
    "print( 25 / 6 ) # 6 * 4 + 1 = 25\n",
    "\n",
    "print( 25%6 ) # Modulus :: Return the remainder\n",
    "print( 80 % 3  ) # Return the remainder\n"
   ]
  },
  {
   "cell_type": "code",
   "execution_count": null,
   "metadata": {},
   "outputs": [],
   "source": [
    "print( 25 / 6 ) # 6 * 4 + 1 = 25\n",
    "\n",
    "print( 25 // 6 ) # Return the Quotient\n",
    "print( 80 // 3 ) # Return the Quotient\n",
    "\n",
    "# // Integer Division"
   ]
  },
  {
   "cell_type": "code",
   "execution_count": null,
   "metadata": {},
   "outputs": [],
   "source": [
    "print( int( 25 / 6) ) # 6 * 4 + 1 = 25\n"
   ]
  },
  {
   "cell_type": "code",
   "execution_count": null,
   "metadata": {},
   "outputs": [],
   "source": [
    "x = 5.6  # 5 & 6\n",
    "x = int(x)\n",
    "x\n"
   ]
  },
  {
   "cell_type": "code",
   "execution_count": null,
   "metadata": {},
   "outputs": [],
   "source": [
    "# 2. Assignment operator ( = )\n",
    "# save a value to the variable\n",
    "# \n",
    "\n",
    "# Object  : Anything that can exist in Python\n",
    "    \n",
    "#     Literals : Any value you have mentioned in the program\n",
    "#             : Right side of the = operator\n",
    "#     Variables : That can save the value\n",
    "#             :Left side of = opeator\n",
    "\n"
   ]
  },
  {
   "cell_type": "code",
   "execution_count": null,
   "metadata": {},
   "outputs": [],
   "source": [
    "154\n",
    "2.55\n",
    "4j\n",
    "\"Python\"\n",
    "False\n",
    "[1, 5]\n",
    "(1, 5)\n",
    "{1 : 100, 2 : 200}\n",
    "\n",
    "print( \"END\" )\n",
    "\n",
    "# 154\n",
    "# 2.55\n",
    "# 4j\n",
    "# \"Python\"\n",
    "# False\n"
   ]
  },
  {
   "cell_type": "code",
   "execution_count": null,
   "metadata": {},
   "outputs": [],
   "source": [
    "a = 154\n",
    "b = 2.55\n",
    "c = 4j\n",
    "d = \"Python\"\n",
    "e = False\n",
    "f = [1, 5]\n",
    "g = (1, 5)\n",
    "h = {1 : 100, 2 : 200}\n",
    "\n",
    "print( a ** 0.5  )\n",
    "print( 25 * 6 )\n",
    "print( \"Python\".upper() )\n",
    "\n",
    "print( a + b )"
   ]
  },
  {
   "cell_type": "markdown",
   "metadata": {},
   "source": [
    "### How to write the variables\n",
    "\n",
    "\n"
   ]
  },
  {
   "cell_type": "code",
   "execution_count": null,
   "metadata": {},
   "outputs": [],
   "source": [
    "# 1. Variable name shall be letters, numbers or _\n",
    "\n",
    "place = \"delhi\"\n",
    "place5861 = \"pune\"\n",
    "place_8742gfdftyuj = \"jaipur\"\n"
   ]
  },
  {
   "cell_type": "code",
   "execution_count": null,
   "metadata": {},
   "outputs": [],
   "source": [
    "print( place )\n",
    "print( place5861 )\n",
    "print( place_8742gfdftyuj )"
   ]
  },
  {
   "cell_type": "code",
   "execution_count": null,
   "metadata": {},
   "outputs": [],
   "source": [
    "# 2. Variable name shall not start with numbers\n",
    "\n",
    "# 452place = 'delhi'\n",
    "_place = \"chennai\"\n",
    "\n",
    "print( _place )"
   ]
  },
  {
   "cell_type": "code",
   "execution_count": null,
   "metadata": {},
   "outputs": [],
   "source": [
    "# 3. No Special chars are allowed\n",
    "# !@#$%^&*(){}{:\"?></*-+\"}\n",
    "# place new = \"jammu\"\n",
    "\n",
    "# place.new1 = \"mumbai\"\n",
    "# place><54 = \"pune\"\n",
    "\n"
   ]
  },
  {
   "cell_type": "code",
   "execution_count": 12,
   "metadata": {},
   "outputs": [
    {
     "ename": "SyntaxError",
     "evalue": "invalid syntax (<ipython-input-12-fa2c7924f720>, line 6)",
     "output_type": "error",
     "traceback": [
      "\u001b[1;36m  File \u001b[1;32m\"<ipython-input-12-fa2c7924f720>\"\u001b[1;36m, line \u001b[1;32m6\u001b[0m\n\u001b[1;33m    if = 852\u001b[0m\n\u001b[1;37m       ^\u001b[0m\n\u001b[1;31mSyntaxError\u001b[0m\u001b[1;31m:\u001b[0m invalid syntax\n"
     ]
    }
   ],
   "source": [
    "#** 4. No Keywords are allowed : \n",
    "\n",
    "# def = 100\n",
    "# False = 47852145\n",
    "\n",
    "# if = 852\n",
    "# break = 6856"
   ]
  },
  {
   "cell_type": "code",
   "execution_count": 7,
   "metadata": {},
   "outputs": [
    {
     "name": "stdout",
     "output_type": "stream",
     "text": [
      "['False', 'None', 'True', 'and', 'as', 'assert', 'async', 'await', 'break', 'class', 'continue', 'def', 'del', 'elif', 'else', 'except', 'finally', 'for', 'from', 'global', 'if', 'import', 'in', 'is', 'lambda', 'nonlocal', 'not', 'or', 'pass', 'raise', 'return', 'try', 'while', 'with', 'yield']\n"
     ]
    }
   ],
   "source": [
    "import keyword # Python Keywords\n",
    "\n",
    "print(keyword.kwlist)"
   ]
  },
  {
   "cell_type": "code",
   "execution_count": 9,
   "metadata": {},
   "outputs": [],
   "source": [
    "# in = 1452"
   ]
  },
  {
   "cell_type": "code",
   "execution_count": null,
   "metadata": {},
   "outputs": [],
   "source": []
  },
  {
   "cell_type": "code",
   "execution_count": null,
   "metadata": {},
   "outputs": [],
   "source": []
  },
  {
   "cell_type": "code",
   "execution_count": null,
   "metadata": {},
   "outputs": [],
   "source": [
    "# 3. Relatinal or Comparison Operator\n",
    "# return TRUE if expression is correct\n",
    "# < > <= >= == !=\n",
    "\n",
    "print( 25 > 3 )\n",
    "print( 25 < 3 )\n",
    "print( 25 == 3 )\n",
    "print( 25 != 3 )\n",
    "print( 25 >= 24 )\n",
    "print( 25 <= 24 )\n",
    "\n",
    "\n"
   ]
  },
  {
   "cell_type": "code",
   "execution_count": null,
   "metadata": {},
   "outputs": [],
   "source": [
    "# 4. Logical \n",
    "# and or not\n",
    "\n",
    "\n",
    "# &    |  \n",
    "# ~[Make sure in Data Tables] :: Data Science (Dont Use and or directly)"
   ]
  },
  {
   "cell_type": "code",
   "execution_count": null,
   "metadata": {},
   "outputs": [],
   "source": [
    "# and : return TRUE if all the expressions are true\n",
    "\n",
    "exp1  exp2  Output\n",
    "T     T     T\n",
    "F     T     F\n",
    "T     F     F\n",
    "F     F     F "
   ]
  },
  {
   "cell_type": "code",
   "execution_count": null,
   "metadata": {},
   "outputs": [],
   "source": [
    "print( ( 25 > 20) and ( 10 == 10 ) ) # T and T\n",
    "\n"
   ]
  },
  {
   "cell_type": "code",
   "execution_count": null,
   "metadata": {},
   "outputs": [],
   "source": [
    "print( ( 25 > 20) and ( 10 != 10 ) ) # T and F\n",
    "\n",
    "\n"
   ]
  },
  {
   "cell_type": "code",
   "execution_count": null,
   "metadata": {},
   "outputs": [],
   "source": [
    "print( ( 25 < 20) and ( 10 == 10 ) ) # F and T\n",
    "\n"
   ]
  },
  {
   "cell_type": "code",
   "execution_count": null,
   "metadata": {},
   "outputs": [],
   "source": [
    "print( ( 25 > 20) and ( 10 == 10 ) and (6 < 10 ) and ( 0.5 > 1.5 )   ) # T and T and T and F\n",
    "\n"
   ]
  },
  {
   "cell_type": "code",
   "execution_count": null,
   "metadata": {},
   "outputs": [],
   "source": [
    "# or : return FALSE if all the expressions are False\n",
    "\n",
    "exp1  exp2  Output\n",
    "T     T     T\n",
    "F     T     T\n",
    "T     F     T\n",
    "F     F     F "
   ]
  },
  {
   "cell_type": "code",
   "execution_count": null,
   "metadata": {},
   "outputs": [],
   "source": [
    "print( ( 25 > 20) or ( 10 == 10 ) ) # T or T"
   ]
  },
  {
   "cell_type": "code",
   "execution_count": null,
   "metadata": {},
   "outputs": [],
   "source": [
    "print( ( 25 > 20) or ( 10 != 10 ) ) # T or F"
   ]
  },
  {
   "cell_type": "code",
   "execution_count": null,
   "metadata": {},
   "outputs": [],
   "source": [
    "print( ( 25 < 20) or ( 10 == 10 ) ) # F or T"
   ]
  },
  {
   "cell_type": "code",
   "execution_count": null,
   "metadata": {},
   "outputs": [],
   "source": [
    "print( ( 25 < 20) or ( 10 != 10 ) ) # F or F"
   ]
  },
  {
   "cell_type": "code",
   "execution_count": null,
   "metadata": {},
   "outputs": [],
   "source": [
    "print( ( 25 > 20) or ( 10 == 10 ) or (6 < 10 ) or ( 0.5 > 1.5 )   ) "
   ]
  },
  {
   "cell_type": "code",
   "execution_count": null,
   "metadata": {},
   "outputs": [],
   "source": [
    "print( ( ( 25 > 20) and ( 10 == 10 ) ) or ( (6 < 10 ) and ( 0.5 > 1.5 ) )   ) "
   ]
  },
  {
   "cell_type": "code",
   "execution_count": null,
   "metadata": {},
   "outputs": [],
   "source": [
    "( ( 25 > 20) and ( 10 == 10 ) )"
   ]
  },
  {
   "cell_type": "code",
   "execution_count": null,
   "metadata": {},
   "outputs": [],
   "source": [
    "( (6 < 10 ) and ( 0.5 > 1.5 ) )"
   ]
  },
  {
   "cell_type": "code",
   "execution_count": null,
   "metadata": {},
   "outputs": [],
   "source": [
    "# Not : reverse of the logic\n",
    "# T -> F\n",
    "# F ->T\n"
   ]
  },
  {
   "cell_type": "code",
   "execution_count": null,
   "metadata": {},
   "outputs": [],
   "source": [
    "print( not( 25 > 24 ) ) # not(True)"
   ]
  },
  {
   "cell_type": "code",
   "execution_count": 2,
   "metadata": {},
   "outputs": [
    {
     "data": {
      "text/plain": [
       "True"
      ]
     },
     "execution_count": 2,
     "metadata": {},
     "output_type": "execute_result"
    }
   ],
   "source": [
    "not(False)"
   ]
  },
  {
   "cell_type": "code",
   "execution_count": 3,
   "metadata": {},
   "outputs": [
    {
     "data": {
      "text/plain": [
       "False"
      ]
     },
     "execution_count": 3,
     "metadata": {},
     "output_type": "execute_result"
    }
   ],
   "source": [
    "not(True)"
   ]
  },
  {
   "cell_type": "code",
   "execution_count": null,
   "metadata": {},
   "outputs": [],
   "source": []
  },
  {
   "cell_type": "code",
   "execution_count": null,
   "metadata": {},
   "outputs": [],
   "source": []
  },
  {
   "cell_type": "code",
   "execution_count": null,
   "metadata": {},
   "outputs": [],
   "source": []
  },
  {
   "cell_type": "code",
   "execution_count": null,
   "metadata": {},
   "outputs": [],
   "source": [
    "print( (6 < 10 ) & ( 0.5 > 1.5 ) ) # T and F"
   ]
  },
  {
   "cell_type": "code",
   "execution_count": null,
   "metadata": {},
   "outputs": [],
   "source": [
    "print( (6 < 10 ) | ( 0.5 > 1.5 ) ) # T or F"
   ]
  },
  {
   "cell_type": "code",
   "execution_count": null,
   "metadata": {},
   "outputs": [],
   "source": []
  },
  {
   "cell_type": "code",
   "execution_count": null,
   "metadata": {},
   "outputs": [],
   "source": [
    "# 5. Membership operator (in)\n",
    "# return TRUE if element is present inside the sequence\n",
    "# element in seqName\n",
    "\n",
    "print( \"z\" in \"python programming\" )\n",
    "print( \"mm\" in \"python programming\" )\n",
    "print( \"on\" in \"python programming\" )\n",
    "print( \"P\" in \"python programming\" )"
   ]
  },
  {
   "cell_type": "code",
   "execution_count": 6,
   "metadata": {},
   "outputs": [
    {
     "name": "stdout",
     "output_type": "stream",
     "text": [
      "True\n"
     ]
    }
   ],
   "source": [
    "print(\"ab\" in \"abhi\")"
   ]
  },
  {
   "cell_type": "markdown",
   "metadata": {},
   "source": [
    "## Data Types\n",
    "\n",
    "#### Fundamental :: str, int, float, bool, complex\n",
    "#### Derived :: list, tuple, sets, dictionary\n",
    "\n"
   ]
  },
  {
   "cell_type": "markdown",
   "metadata": {},
   "source": [
    "### 1. String: \n",
    "\n",
    "- collection of characters\n",
    "- write string in a pair or ''  or \" \"\n"
   ]
  },
  {
   "cell_type": "code",
   "execution_count": null,
   "metadata": {},
   "outputs": [],
   "source": [
    "w1 = 'new delhi'\n",
    "w2 = \"jammu kashmir\"\n",
    "\n",
    "print( w1, type(w1) )\n",
    "print( w2, type(w2) )\n"
   ]
  },
  {
   "cell_type": "code",
   "execution_count": null,
   "metadata": {},
   "outputs": [],
   "source": [
    "w1 = 'new \"*/\" delhi'\n",
    "w2 = \"jammu '84' kashmir\"\n",
    "\n",
    "print( w1) \n",
    "print( type(w1) )\n",
    "print( w2, type(w2) )\n"
   ]
  },
  {
   "cell_type": "code",
   "execution_count": null,
   "metadata": {},
   "outputs": [],
   "source": [
    "msg = \"evbfewdgshenvbhjukdjennmbe whdkjw bvqbshqwb wqnhbnn bnhn,nmwe dhgywukjs@#$%^&*( )86325865 \"\n",
    "print( msg )\n",
    "print( id(msg) ) # Return Memory location\n"
   ]
  },
  {
   "cell_type": "code",
   "execution_count": null,
   "metadata": {},
   "outputs": [],
   "source": [
    "abc = 100\n",
    "print( id(abc) )\n",
    "print( id(100) )"
   ]
  },
  {
   "cell_type": "markdown",
   "metadata": {},
   "source": [
    "### 2. Integer\n",
    "\n",
    "- 6, -3, 7\n",
    "- any discrete number"
   ]
  },
  {
   "cell_type": "code",
   "execution_count": null,
   "metadata": {},
   "outputs": [],
   "source": [
    "x1 = 5\n",
    "print(x1 )\n",
    "print( type(x1) )"
   ]
  },
  {
   "cell_type": "code",
   "execution_count": 7,
   "metadata": {},
   "outputs": [
    {
     "name": "stdout",
     "output_type": "stream",
     "text": [
      "-95\n",
      "<class 'int'>\n"
     ]
    }
   ],
   "source": [
    "x1 = -95\n",
    "print(x1 )\n",
    "print( type(x1) )"
   ]
  },
  {
   "cell_type": "code",
   "execution_count": null,
   "metadata": {},
   "outputs": [],
   "source": []
  },
  {
   "cell_type": "markdown",
   "metadata": {},
   "source": [
    "### 3. double / float\n",
    "\n",
    "- 6.6, -3.5, 7.2\n",
    "- any continuous number"
   ]
  },
  {
   "cell_type": "code",
   "execution_count": 1,
   "metadata": {},
   "outputs": [
    {
     "name": "stdout",
     "output_type": "stream",
     "text": [
      "5.248547854\n",
      "<class 'float'>\n"
     ]
    }
   ],
   "source": [
    "x1 = 5.248547854\n",
    "print(x1 )\n",
    "print( type(x1) )"
   ]
  },
  {
   "cell_type": "code",
   "execution_count": null,
   "metadata": {},
   "outputs": [],
   "source": [
    "x1 = -95.300000017\n",
    "print(x1 )\n",
    "print( type(x1) )"
   ]
  },
  {
   "cell_type": "markdown",
   "metadata": {},
   "source": [
    "### 4. Complex\n",
    "\n",
    "- any number that has real and imaginary combinations\n",
    "- real + imaginary(j)\n",
    "- j is sqrt(-1)\n"
   ]
  },
  {
   "cell_type": "code",
   "execution_count": 8,
   "metadata": {},
   "outputs": [
    {
     "name": "stdout",
     "output_type": "stream",
     "text": [
      "(5-4j)\n",
      "<class 'complex'>\n"
     ]
    }
   ],
   "source": [
    "c1 = 5 - 4j\n",
    "print(c1)\n",
    "print(type(c1))"
   ]
  },
  {
   "cell_type": "code",
   "execution_count": null,
   "metadata": {},
   "outputs": [],
   "source": [
    "c1 = 6j\n",
    "print(c1)\n",
    "print(type(c1))"
   ]
  },
  {
   "cell_type": "code",
   "execution_count": 9,
   "metadata": {},
   "outputs": [
    {
     "name": "stdout",
     "output_type": "stream",
     "text": [
      "9.0\n"
     ]
    }
   ],
   "source": [
    "j = 54\n",
    "print(j / 6)"
   ]
  },
  {
   "cell_type": "markdown",
   "metadata": {},
   "source": [
    "### 5. logical / boolean\n",
    "\n",
    "- True and False\n",
    "- Comaprison or Logical or Membership"
   ]
  },
  {
   "cell_type": "code",
   "execution_count": null,
   "metadata": {},
   "outputs": [],
   "source": [
    "f = False\n",
    "print(f)\n",
    "print( type(f) )\n"
   ]
  },
  {
   "cell_type": "code",
   "execution_count": null,
   "metadata": {},
   "outputs": [],
   "source": [
    "f = True\n",
    "print(f)\n",
    "print( type(f) )\n"
   ]
  },
  {
   "cell_type": "code",
   "execution_count": null,
   "metadata": {},
   "outputs": [],
   "source": [
    "f = 58 > 48\n",
    "print(f)\n",
    "print( type(f) )\n"
   ]
  },
  {
   "cell_type": "code",
   "execution_count": null,
   "metadata": {},
   "outputs": [],
   "source": [
    "f = ( 10 > 8 ) and (5 > 3)\n",
    "print(f)\n",
    "print( type(f) )\n"
   ]
  },
  {
   "cell_type": "code",
   "execution_count": null,
   "metadata": {},
   "outputs": [],
   "source": [
    "f = \"P\" in \"python programming\"\n",
    "print(f)\n",
    "print( type(f) )"
   ]
  },
  {
   "cell_type": "code",
   "execution_count": null,
   "metadata": {},
   "outputs": [],
   "source": []
  },
  {
   "cell_type": "code",
   "execution_count": null,
   "metadata": {},
   "outputs": [],
   "source": [
    "# Type casting"
   ]
  },
  {
   "cell_type": "code",
   "execution_count": null,
   "metadata": {},
   "outputs": [],
   "source": [
    "str = \"58\"\n",
    "\n",
    "print(type(str))\n"
   ]
  },
  {
   "cell_type": "code",
   "execution_count": 4,
   "metadata": {},
   "outputs": [
    {
     "name": "stdout",
     "output_type": "stream",
     "text": [
      "58\n",
      "<class 'int'>\n"
     ]
    }
   ],
   "source": [
    "x = int(\"58\")\n",
    "print(x)\n",
    "print(type(x))"
   ]
  },
  {
   "cell_type": "code",
   "execution_count": null,
   "metadata": {},
   "outputs": [],
   "source": [
    "y = int(\"abc\")\n",
    "print(y)"
   ]
  },
  {
   "cell_type": "code",
   "execution_count": null,
   "metadata": {},
   "outputs": [],
   "source": [
    "abc = 158\n",
    "abc = float(abc)\n",
    "print(abc) # 158, 158.0"
   ]
  },
  {
   "cell_type": "code",
   "execution_count": null,
   "metadata": {},
   "outputs": [],
   "source": [
    "abc = 1\n",
    "abc = bool(abc)\n",
    "print(abc)"
   ]
  },
  {
   "cell_type": "code",
   "execution_count": null,
   "metadata": {},
   "outputs": [],
   "source": [
    "abc = 0\n",
    "abc = bool(abc)\n",
    "print(abc)"
   ]
  },
  {
   "cell_type": "code",
   "execution_count": null,
   "metadata": {},
   "outputs": [],
   "source": [
    "abc = False\n",
    "abc = int(abc)\n",
    "print(abc)"
   ]
  },
  {
   "cell_type": "code",
   "execution_count": null,
   "metadata": {},
   "outputs": [],
   "source": [
    "abc = True\n",
    "abc = int(abc)\n",
    "print(abc)"
   ]
  },
  {
   "cell_type": "code",
   "execution_count": 2,
   "metadata": {},
   "outputs": [
    {
     "name": "stdout",
     "output_type": "stream",
     "text": [
      "False\n",
      "<class 'str'>\n"
     ]
    }
   ],
   "source": [
    "abc = False\n",
    "abc = str(abc)\n",
    "print(abc)  # \"False\", \"0\", \"\"\n",
    "print(type(abc))"
   ]
  },
  {
   "cell_type": "code",
   "execution_count": 14,
   "metadata": {},
   "outputs": [],
   "source": [
    "# TypeError: 'str' object is not callable\n",
    "\n",
    "int = 100"
   ]
  },
  {
   "cell_type": "code",
   "execution_count": 13,
   "metadata": {},
   "outputs": [],
   "source": [
    "print = 1478652145\n"
   ]
  },
  {
   "cell_type": "code",
   "execution_count": 15,
   "metadata": {},
   "outputs": [
    {
     "ename": "TypeError",
     "evalue": "'int' object is not callable",
     "output_type": "error",
     "traceback": [
      "\u001b[1;31m---------------------------------------------------------------------------\u001b[0m",
      "\u001b[1;31mTypeError\u001b[0m                                 Traceback (most recent call last)",
      "\u001b[1;32m<ipython-input-15-43d0290e3b7d>\u001b[0m in \u001b[0;36m<module>\u001b[1;34m\u001b[0m\n\u001b[1;32m----> 1\u001b[1;33m \u001b[0mprint\u001b[0m\u001b[1;33m(\u001b[0m\u001b[1;34m\"hello\"\u001b[0m\u001b[1;33m)\u001b[0m\u001b[1;33m\u001b[0m\u001b[1;33m\u001b[0m\u001b[0m\n\u001b[0m",
      "\u001b[1;31mTypeError\u001b[0m: 'int' object is not callable"
     ]
    }
   ],
   "source": [
    "print(\"hello\")"
   ]
  },
  {
   "cell_type": "code",
   "execution_count": 16,
   "metadata": {},
   "outputs": [
    {
     "data": {
      "text/plain": [
       "str"
      ]
     },
     "execution_count": 16,
     "metadata": {},
     "output_type": "execute_result"
    }
   ],
   "source": [
    "str"
   ]
  },
  {
   "cell_type": "code",
   "execution_count": 17,
   "metadata": {},
   "outputs": [
    {
     "data": {
      "text/plain": [
       "100"
      ]
     },
     "execution_count": 17,
     "metadata": {},
     "output_type": "execute_result"
    }
   ],
   "source": [
    "int"
   ]
  },
  {
   "cell_type": "code",
   "execution_count": 18,
   "metadata": {},
   "outputs": [
    {
     "data": {
      "text/plain": [
       "1478652145"
      ]
     },
     "execution_count": 18,
     "metadata": {},
     "output_type": "execute_result"
    }
   ],
   "source": [
    "print"
   ]
  },
  {
   "cell_type": "code",
   "execution_count": null,
   "metadata": {},
   "outputs": [],
   "source": []
  },
  {
   "cell_type": "code",
   "execution_count": null,
   "metadata": {},
   "outputs": [],
   "source": []
  },
  {
   "cell_type": "code",
   "execution_count": null,
   "metadata": {},
   "outputs": [],
   "source": []
  },
  {
   "cell_type": "code",
   "execution_count": null,
   "metadata": {},
   "outputs": [],
   "source": []
  },
  {
   "cell_type": "code",
   "execution_count": null,
   "metadata": {},
   "outputs": [],
   "source": []
  }
 ],
 "metadata": {
  "kernelspec": {
   "display_name": "base",
   "language": "python",
   "name": "python3"
  },
  "language_info": {
   "codemirror_mode": {
    "name": "ipython",
    "version": 3
   },
   "file_extension": ".py",
   "mimetype": "text/x-python",
   "name": "python",
   "nbconvert_exporter": "python",
   "pygments_lexer": "ipython3",
   "version": "3.9.13"
  },
  "vscode": {
   "interpreter": {
    "hash": "5ae58900cfbb8c43ab3495913814b7cf26024f51651a94ce8bf64d6111688e8d"
   }
  }
 },
 "nbformat": 4,
 "nbformat_minor": 4
}

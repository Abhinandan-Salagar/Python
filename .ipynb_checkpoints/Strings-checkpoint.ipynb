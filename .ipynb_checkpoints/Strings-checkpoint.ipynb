{
 "cells": [
  {
   "cell_type": "markdown",
   "metadata": {},
   "source": [
    "# Strings : \n",
    "\n",
    "- collection of chars\n",
    "- Single line string is enclodes in \" \" or ' '\n",
    "- Multiple line string is enclodes in \"\"\" \"\"\" or ''' '''\n",
    "- \n",
    "\n"
   ]
  },
  {
   "cell_type": "code",
   "execution_count": 2,
   "metadata": {},
   "outputs": [
    {
     "name": "stdout",
     "output_type": "stream",
     "text": [
      "new delhi \n",
      "\n",
      "\n",
      " <class 'str'>\n"
     ]
    }
   ],
   "source": [
    "word = \"new delhi\"\n",
    "\n",
    "print( word, \"\\n\\n\\n\" ,type(word) )"
   ]
  },
  {
   "cell_type": "code",
   "execution_count": 3,
   "metadata": {},
   "outputs": [
    {
     "name": "stdout",
     "output_type": "stream",
     "text": [
      "\n",
      "I \n",
      "live\n",
      "in \n",
      "            Delhi\n",
      " \n",
      "\n",
      "\n",
      " <class 'str'>\n"
     ]
    }
   ],
   "source": [
    "word = \"\"\"\n",
    "I \n",
    "live\n",
    "in \n",
    "            Delhi\n",
    "\"\"\"\n",
    "\n",
    "print( word, \"\\n\\n\\n\" ,type(word) )"
   ]
  },
  {
   "cell_type": "markdown",
   "metadata": {},
   "source": [
    "# basic Operations"
   ]
  },
  {
   "cell_type": "code",
   "execution_count": 6,
   "metadata": {},
   "outputs": [
    {
     "name": "stdout",
     "output_type": "stream",
     "text": [
      "python programming is the best for 2023\n",
      "39\n"
     ]
    }
   ],
   "source": [
    "# 1. Len : returns total chars in the string\n",
    "\n",
    "s = \"python programming is the best for 2023\"\n",
    "print(s)\n",
    "print( len(s) )"
   ]
  },
  {
   "cell_type": "code",
   "execution_count": 8,
   "metadata": {},
   "outputs": [
    {
     "name": "stdout",
     "output_type": "stream",
     "text": [
      "python\n",
      "6\n"
     ]
    }
   ],
   "source": [
    "s = \"python\"\n",
    "print(s)\n",
    "print( len(s) )"
   ]
  },
  {
   "cell_type": "code",
   "execution_count": 9,
   "metadata": {},
   "outputs": [
    {
     "name": "stdout",
     "output_type": "stream",
     "text": [
      "pyt hon\n",
      "7\n"
     ]
    }
   ],
   "source": [
    "s = \"pyt hon\"\n",
    "print(s)\n",
    "print( len(s) )"
   ]
  },
  {
   "cell_type": "code",
   "execution_count": 11,
   "metadata": {},
   "outputs": [],
   "source": [
    "# 2. Indexing\n",
    "# return the char at specified integer position number\n",
    "# Indices start from 0\n",
    "# stringName[position]\n"
   ]
  },
  {
   "attachments": {
    "image.png": {
     "image/png": "[encoded data removed]"
    }
   },
   "cell_type": "markdown",
   "metadata": {},
   "source": [
    "![image.png](attachment:image.png)"
   ]
  },
  {
   "cell_type": "code",
   "execution_count": 19,
   "metadata": {},
   "outputs": [
    {
     "name": "stdout",
     "output_type": "stream",
     "text": [
      "p\n",
      "p\n",
      "o\n",
      "o\n",
      "n\n",
      "n\n",
      "n\n"
     ]
    }
   ],
   "source": [
    "stringName = \"python\"\n",
    "\n",
    "print( stringName[0] ) # p\n",
    "print( stringName[-6] ) # p\n",
    "\n",
    "print( stringName[4] ) # o\n",
    "print( stringName[-2] ) # o\n",
    "\n",
    "\n",
    "print( stringName[5] ) # n\n",
    "print( stringName[ len(stringName) - 1 ] )\n",
    "print( stringName[-1] ) # n\n"
   ]
  },
  {
   "cell_type": "code",
   "execution_count": 21,
   "metadata": {},
   "outputs": [
    {
     "name": "stdout",
     "output_type": "stream",
     "text": [
      "python programming is the best for 2023\n",
      "g\n",
      "0\n"
     ]
    }
   ],
   "source": [
    "s = \"python programming is the best for 2023\"\n",
    "print(s)\n",
    "\n",
    "# g\n",
    "print( s[10] )\n",
    "\n",
    "# 0\n",
    "print( s[-3] )\n"
   ]
  },
  {
   "cell_type": "code",
   "execution_count": 22,
   "metadata": {},
   "outputs": [],
   "source": [
    "# 3. Slicing:\n",
    "# return chunk of chars\n",
    "# stringName[ start : end : stepsize]\n",
    "\n",
    "# end ( < ) : end is EXLUSIVE\n",
    "# step size default value is 1'\n",
    "# start default is 0\n",
    "# end default is len"
   ]
  },
  {
   "cell_type": "code",
   "execution_count": 24,
   "metadata": {},
   "outputs": [
    {
     "name": "stdout",
     "output_type": "stream",
     "text": [
      "prog\n"
     ]
    }
   ],
   "source": [
    "s = \"programming\"\n",
    "\n",
    "# read first 4 chars : p r o g\n",
    "print( s[0 : 4 : 1] )\n"
   ]
  },
  {
   "cell_type": "code",
   "execution_count": 40,
   "metadata": {},
   "outputs": [
    {
     "name": "stdout",
     "output_type": "stream",
     "text": [
      "programming\n",
      "11\n",
      "programming\n",
      "programming\n",
      "programming\n"
     ]
    }
   ],
   "source": [
    "# read the entire string\n",
    "s = \"programming\"\n",
    "print(s)\n",
    "print(len(s))\n",
    "\n",
    "# print( s[0 : len(s)  : 1] )  # 0, 0 + 1 = 1, 1 + 1 = 2, 2 + 1 = 3, 3 + 1 = 4 ....\n",
    "\n",
    "\n",
    "# print( s[0 : len(s)  : ] )\n",
    "# print( s[0 : len(s)  ] )\n",
    "\n",
    "print( s[ : len(s)  : ] )\n",
    "print( s[ :   : ] )\n",
    "print( s[ : ] )"
   ]
  },
  {
   "cell_type": "code",
   "execution_count": 28,
   "metadata": {},
   "outputs": [
    {
     "name": "stdout",
     "output_type": "stream",
     "text": [
      "pormig\n"
     ]
    }
   ],
   "source": [
    "print( s[0 : len(s)  : 2] ) # 0, 0 + 2 = 2, 2 + 2 = 4, 4 + 2 = 6 ..."
   ]
  },
  {
   "cell_type": "code",
   "execution_count": 31,
   "metadata": {},
   "outputs": [
    {
     "name": "stdout",
     "output_type": "stream",
     "text": [
      "g\n",
      "g\n",
      "g\n"
     ]
    }
   ],
   "source": [
    "# return g:\n",
    "print(s[-1])\n",
    "print(s[len(s) - 1])\n",
    "print(s[10])"
   ]
  },
  {
   "cell_type": "code",
   "execution_count": 47,
   "metadata": {},
   "outputs": [
    {
     "name": "stdout",
     "output_type": "stream",
     "text": [
      "gnimmargorp\n",
      "gnimmargorp\n",
      "gnimmargorp\n"
     ]
    }
   ],
   "source": [
    "s = \"programming\"  # len = 11\n",
    "\n",
    "# reverse the string\n",
    "print(s[ : : -1] )  # default for start : -1 and end : -len - 1\n",
    "\n",
    "print( s[-1 : -len(s) - 1 : -1] )\n",
    "print( s[-1 : -( len(s) + 1 ) : -1] )"
   ]
  },
  {
   "cell_type": "code",
   "execution_count": null,
   "metadata": {},
   "outputs": [],
   "source": []
  },
  {
   "cell_type": "code",
   "execution_count": null,
   "metadata": {},
   "outputs": [],
   "source": [
    "## Palidnromes ??\n",
    "# madam, naman\n",
    "# words that are equal or read same when taken from left to right or right to left\n",
    "\n",
    "# 1451, Madam == madaM  # Not a palindrome"
   ]
  },
  {
   "cell_type": "code",
   "execution_count": 41,
   "metadata": {},
   "outputs": [],
   "source": [
    "# w1 = madam\n",
    "# m == m\n",
    "# a == a\n",
    "# d == d\n",
    "# a == a\n",
    "# m == m"
   ]
  },
  {
   "cell_type": "code",
   "execution_count": 50,
   "metadata": {},
   "outputs": [
    {
     "name": "stdout",
     "output_type": "stream",
     "text": [
      "Palindrome\n"
     ]
    }
   ],
   "source": [
    "w1 = \"madam\"\n",
    "\n",
    "if w1[ : : 1] == w1[ : : -1] : \n",
    "    print(\"Palindrome\")"
   ]
  },
  {
   "cell_type": "code",
   "execution_count": null,
   "metadata": {},
   "outputs": [],
   "source": []
  },
  {
   "cell_type": "code",
   "execution_count": 51,
   "metadata": {},
   "outputs": [
    {
     "name": "stdout",
     "output_type": "stream",
     "text": [
      "True\n"
     ]
    }
   ],
   "source": [
    "# 4. Membership : in\n",
    "\n",
    "print( \"a\" in \"programming\" )"
   ]
  },
  {
   "cell_type": "code",
   "execution_count": 52,
   "metadata": {},
   "outputs": [
    {
     "name": "stdout",
     "output_type": "stream",
     "text": [
      "Hi  Friends\n"
     ]
    }
   ],
   "source": [
    "# 5. Concat : (+) : merge 2 or more strings\n",
    "\n",
    "res = \"Hi \" + \" Friends\"\n",
    "print(res)"
   ]
  },
  {
   "cell_type": "code",
   "execution_count": 56,
   "metadata": {},
   "outputs": [
    {
     "name": "stdout",
     "output_type": "stream",
     "text": [
      "Hi Friends. Welcome to 202301\n"
     ]
    }
   ],
   "source": [
    "res = \"Hi\" + \" Friends. Welcome to \" + str(2023) + \"01\"\n",
    "print(res)"
   ]
  },
  {
   "cell_type": "code",
   "execution_count": 57,
   "metadata": {},
   "outputs": [],
   "source": [
    "# 6. repeat : (*) : repeat the string n times\n",
    "# stringName * n\n",
    "\n"
   ]
  },
  {
   "cell_type": "code",
   "execution_count": 2,
   "metadata": {},
   "outputs": [
    {
     "name": "stdout",
     "output_type": "stream",
     "text": [
      "pythonpythonpython\n",
      "pythonpythonpython\n"
     ]
    }
   ],
   "source": [
    "a = \"python\"\n",
    "print(a * 3)\n",
    "\n",
    "print(3 * a)  # a * b == b * a"
   ]
  },
  {
   "cell_type": "code",
   "execution_count": 3,
   "metadata": {},
   "outputs": [
    {
     "name": "stdout",
     "output_type": "stream",
     "text": [
      "hh\n"
     ]
    }
   ],
   "source": [
    "print( 2 * a[3] ) # hh"
   ]
  },
  {
   "cell_type": "code",
   "execution_count": 4,
   "metadata": {},
   "outputs": [
    {
     "name": "stdout",
     "output_type": "stream",
     "text": [
      "ononononon\n"
     ]
    }
   ],
   "source": [
    "# ononononon # on 5 times\n",
    "print( a[4 : ]  * 5)"
   ]
  },
  {
   "cell_type": "code",
   "execution_count": 65,
   "metadata": {},
   "outputs": [],
   "source": [
    "# print(\"****\" * 30)"
   ]
  },
  {
   "cell_type": "code",
   "execution_count": null,
   "metadata": {},
   "outputs": [],
   "source": []
  },
  {
   "cell_type": "code",
   "execution_count": null,
   "metadata": {},
   "outputs": [],
   "source": []
  },
  {
   "cell_type": "code",
   "execution_count": null,
   "metadata": {},
   "outputs": [],
   "source": [
    "# *\n",
    "# **\n",
    "# ***\n",
    "\n",
    "\n",
    "# ****\n",
    "# ***\n",
    "# **\n",
    "# *"
   ]
  },
  {
   "cell_type": "code",
   "execution_count": null,
   "metadata": {},
   "outputs": [],
   "source": []
  },
  {
   "cell_type": "markdown",
   "metadata": {},
   "source": [
    "# String Methods : "
   ]
  },
  {
   "cell_type": "code",
   "execution_count": 68,
   "metadata": {},
   "outputs": [],
   "source": [
    "import math"
   ]
  },
  {
   "cell_type": "code",
   "execution_count": 70,
   "metadata": {},
   "outputs": [
    {
     "name": "stdout",
     "output_type": "stream",
     "text": [
      "['__doc__', '__loader__', '__name__', '__package__', '__spec__', 'acos', 'acosh', 'asin', 'asinh', 'atan', 'atan2', 'atanh', 'ceil', 'comb', 'copysign', 'cos', 'cosh', 'degrees', 'dist', 'e', 'erf', 'erfc', 'exp', 'expm1', 'fabs', 'factorial', 'floor', 'fmod', 'frexp', 'fsum', 'gamma', 'gcd', 'hypot', 'inf', 'isclose', 'isfinite', 'isinf', 'isnan', 'isqrt', 'ldexp', 'lgamma', 'log', 'log10', 'log1p', 'log2', 'modf', 'nan', 'perm', 'pi', 'pow', 'prod', 'radians', 'remainder', 'sin', 'sinh', 'sqrt', 'tan', 'tanh', 'tau', 'trunc']\n"
     ]
    }
   ],
   "source": [
    "# 100% knowledge : \n",
    "\n",
    "print( dir( math ) )"
   ]
  },
  {
   "cell_type": "code",
   "execution_count": 87,
   "metadata": {},
   "outputs": [
    {
     "data": {
      "text/plain": [
       "10.0"
      ]
     },
     "execution_count": 87,
     "metadata": {},
     "output_type": "execute_result"
    }
   ],
   "source": [
    "n = 100\n",
    "math.sqrt(n)"
   ]
  },
  {
   "cell_type": "code",
   "execution_count": 71,
   "metadata": {},
   "outputs": [
    {
     "name": "stdout",
     "output_type": "stream",
     "text": [
      "['__add__', '__class__', '__contains__', '__delattr__', '__dir__', '__doc__', '__eq__', '__format__', '__ge__', '__getattribute__', '__getitem__', '__getnewargs__', '__gt__', '__hash__', '__init__', '__init_subclass__', '__iter__', '__le__', '__len__', '__lt__', '__mod__', '__mul__', '__ne__', '__new__', '__reduce__', '__reduce_ex__', '__repr__', '__rmod__', '__rmul__', '__setattr__', '__sizeof__', '__str__', '__subclasshook__', 'capitalize', 'casefold', 'center', 'count', 'encode', 'endswith', 'expandtabs', 'find', 'format', 'format_map', 'index', 'isalnum', 'isalpha', 'isascii', 'isdecimal', 'isdigit', 'isidentifier', 'islower', 'isnumeric', 'isprintable', 'isspace', 'istitle', 'isupper', 'join', 'ljust', 'lower', 'lstrip', 'maketrans', 'partition', 'replace', 'rfind', 'rindex', 'rjust', 'rpartition', 'rsplit', 'rstrip', 'split', 'splitlines', 'startswith', 'strip', 'swapcase', 'title', 'translate', 'upper', 'zfill']\n"
     ]
    }
   ],
   "source": [
    "print( dir( str ) )"
   ]
  },
  {
   "cell_type": "markdown",
   "metadata": {},
   "source": [
    "capitalize', 'casefold', 'center', 'count', 'encode', 'endswith', 'expandtabs', 'find', 'format', 'format_map', 'index', 'isalnum', 'isalpha', 'isascii', 'isdecimal', 'isdigit', 'isidentifier', 'islower', 'isnumeric', 'isprintable', 'isspace', 'istitle', 'isupper', 'join', 'ljust', 'lower', 'lstrip', 'maketrans', 'partition', 'replace', 'rfind', 'rindex', 'rjust', 'rpartition', 'rsplit', 'rstrip', 'split', 'splitlines', 'startswith', 'strip', 'swapcase', 'title', 'translate', 'upper', 'zfill'"
   ]
  },
  {
   "cell_type": "markdown",
   "metadata": {},
   "source": [
    "### Delete from here\n",
    "\n",
    " '', '', '', '', '', '', '', '', '', '', '', '', 'isascii', '', '', 'isidentifier', '', '', 'isprintable', '', '', '', '', '', '', '', '', '', '', '', '', '#', '', '', '', '', '', ''"
   ]
  },
  {
   "cell_type": "code",
   "execution_count": null,
   "metadata": {},
   "outputs": [],
   "source": [
    " 'rpartition', 'rsplit', '', 'split', 'splitlines',join, partition #LIST"
   ]
  },
  {
   "cell_type": "code",
   "execution_count": 78,
   "metadata": {},
   "outputs": [
    {
     "name": "stdout",
     "output_type": "stream",
     "text": [
      "Original String :  pyThoN ProGRAmming\n",
      "python programming\n",
      "PYTHON PROGRAMMING\n",
      "Python Programming\n",
      "PYtHOn pROgraMMING\n",
      "Python programming\n"
     ]
    }
   ],
   "source": [
    "# 1. String Cases : \n",
    "\n",
    "s = \"pyThoN ProGRAmming\"\n",
    "print(\"Original String : \", s)\n",
    "\n",
    "print( s.lower() ) # convert string to lower case\n",
    "print( s.upper() ) # convert string to upper case\n",
    "print( s.title() ) # convert 1st letter of every word as UPPER and rest of them as LOWER\n",
    "print( s.swapcase() ) # convert lower to upper and upper to lower\n",
    "print( s.capitalize() ) # convert 1st letter of the entire string as UPPER and rest as lower\n",
    "\n",
    "\n",
    "# s = s.lower()\n",
    "# print(s)\n"
   ]
  },
  {
   "cell_type": "code",
   "execution_count": 85,
   "metadata": {},
   "outputs": [
    {
     "name": "stdout",
     "output_type": "stream",
     "text": [
      "    pyThoN ProGRAmming           \n",
      "Length of s :  33\n",
      "pyThoN ProGRAmming\n",
      "Length of s :  18\n"
     ]
    }
   ],
   "source": [
    "# 2. Removing the Blank Spaces \n",
    "# strip : remove blank from left and right only\n",
    "\n",
    "s = \"    pyThoN ProGRAmming           \"\n",
    "print(s)\n",
    "print(\"Length of s : \", len(s))\n",
    "\n",
    "\n",
    "s = s.strip()\n",
    "print(s)\n",
    "print(\"Length of s : \", len(s))\n",
    "\n"
   ]
  },
  {
   "cell_type": "code",
   "execution_count": null,
   "metadata": {},
   "outputs": [],
   "source": []
  },
  {
   "cell_type": "code",
   "execution_count": 83,
   "metadata": {},
   "outputs": [
    {
     "name": "stdout",
     "output_type": "stream",
     "text": [
      "Mention your City :     JaiPUR    \n",
      "West\n"
     ]
    }
   ],
   "source": [
    "place = input(\"Mention your City : \")\n",
    "place = place.lower()\n",
    "place = place.strip()\n",
    "\n",
    "# place = input(\"Mention your City : \").strip().lower()\n",
    "\n",
    "if place == \"delhi\" : \n",
    "    print(\"North\")\n",
    "\n",
    "    \n",
    "if place == \"telanagana\" : \n",
    "    print(\"South\")\n",
    "\n",
    "if place == \"jaipur\" : \n",
    "    print(\"West\")\n",
    "    \n",
    "if place == \"manipur\" : \n",
    "    print(\"East\")\n",
    "\n"
   ]
  },
  {
   "cell_type": "code",
   "execution_count": 89,
   "metadata": {},
   "outputs": [
    {
     "name": "stdout",
     "output_type": "stream",
     "text": [
      "2\n",
      "0\n"
     ]
    }
   ],
   "source": [
    "# 3. count : return the occurence of the character, if EXISTS\n",
    "\n",
    "msg = \"python programming is the best\"\n",
    "\n",
    "print( msg.count(\"e\") )\n",
    "print( msg.count(\"T\") )\n"
   ]
  },
  {
   "cell_type": "code",
   "execution_count": 93,
   "metadata": {},
   "outputs": [
    {
     "name": "stdout",
     "output_type": "stream",
     "text": [
      "3\n",
      "4\n",
      "0\n",
      "0\n"
     ]
    }
   ],
   "source": [
    "# 4. index / find : return position of the FIRST char\n",
    "\n",
    "# s.index(char)\n",
    "\n",
    "# indexing : return char at specified position\n",
    "# s[pos]\n",
    "\n",
    "s = \"python\"\n",
    "\n",
    "# pos of h\n",
    "print(s.index(\"h\"))\n",
    "\n",
    "# find on\n",
    "print(s.index(\"on\"))\n",
    "\n",
    "s = \"python programming\"\n",
    "print(s.index(\"p\"))\n",
    "\n",
    "s = \"python programming\"\n",
    "print(s.find(\"p\"))\n",
    "\n"
   ]
  },
  {
   "cell_type": "code",
   "execution_count": 94,
   "metadata": {},
   "outputs": [
    {
     "name": "stdout",
     "output_type": "stream",
     "text": [
      "0\n",
      "6\n"
     ]
    }
   ],
   "source": [
    "s = \"python programming\"\n",
    "print(s.find(\"p\")) # 0 + 1 >> 1\n",
    "\n",
    "newS = s[1 : ]\n",
    "print(newS.find(\"p\"))\n"
   ]
  },
  {
   "cell_type": "code",
   "execution_count": 102,
   "metadata": {},
   "outputs": [
    {
     "name": "stdout",
     "output_type": "stream",
     "text": [
      "0\n",
      "1\n",
      "7\n"
     ]
    }
   ],
   "source": [
    "s = \"python programming\"\n",
    "print(s.find(\"p\"))\n",
    "\n",
    "newStart = s.find(\"p\") + 1\n",
    "print(newStart)\n",
    "print( s.find(\"p\", newStart) )\n"
   ]
  },
  {
   "cell_type": "code",
   "execution_count": 101,
   "metadata": {},
   "outputs": [
    {
     "name": "stdout",
     "output_type": "stream",
     "text": [
      "0\n",
      "7\n"
     ]
    }
   ],
   "source": [
    "s = \"python programming\"\n",
    "print(s.find(\"p\"))\n",
    "\n",
    "print( s.find(\"p\", s.find(\"p\")  +  1 ) )\n"
   ]
  },
  {
   "cell_type": "code",
   "execution_count": 106,
   "metadata": {},
   "outputs": [
    {
     "name": "stdout",
     "output_type": "stream",
     "text": [
      "<class 'str'>\n",
      "<class 'str'>\n",
      "<class 'str'>\n"
     ]
    }
   ],
   "source": [
    "word = \"new DElhi\"\n",
    "print(type(word))\n",
    "\n",
    "res = word.lower()\n",
    "print(type(res))\n",
    "\n",
    "res = res.upper()\n",
    "print(type(res))\n",
    "\n"
   ]
  },
  {
   "cell_type": "code",
   "execution_count": 108,
   "metadata": {},
   "outputs": [
    {
     "data": {
      "text/plain": [
       "2"
      ]
     },
     "execution_count": 108,
     "metadata": {},
     "output_type": "execute_result"
    }
   ],
   "source": [
    "word.lower().upper().strip().count('E')  #.strip()"
   ]
  },
  {
   "cell_type": "code",
   "execution_count": 110,
   "metadata": {},
   "outputs": [
    {
     "name": "stdout",
     "output_type": "stream",
     "text": [
      "0\n",
      "7\n"
     ]
    }
   ],
   "source": [
    "# 5. rindex / rfind : return position of the FIRST char from RIGHT\n",
    "# index reference is wrt LEFT only\n",
    "\n",
    "s = \"python programming\"\n",
    "print(s.find(\"p\"))\n",
    "print(s.rfind(\"p\"))\n",
    "\n"
   ]
  },
  {
   "cell_type": "code",
   "execution_count": 115,
   "metadata": {},
   "outputs": [],
   "source": [
    "# 6. startswith : return TRUE if element is present at the STARTING\n",
    "# 6. endswith : return TRUE if element is present at the ENDING\n",
    "\n",
    "\n",
    "# fileName = \"newPython.py\"\n",
    "fileName = \"newPython.ipynb\"\n",
    "\n",
    "if fileName.endswith('.py') : \n",
    "    print(fileName)\n",
    "\n"
   ]
  },
  {
   "cell_type": "code",
   "execution_count": 125,
   "metadata": {},
   "outputs": [
    {
     "name": "stdout",
     "output_type": "stream",
     "text": [
      "Nitish can learn python from Nitishr lms access. Nitish can do it and Nitish will learn\n",
      "you can learn python from your lms access. you can do it and you will learn\n"
     ]
    }
   ],
   "source": [
    "# 7. replace : replace the old pattern with new pattern\n",
    "\n",
    "msg = \"you can learn python from your lms access. you can do it and you will learn\"\n",
    "\n",
    "print( msg.replace(\"you\", \"Nitish\") )\n",
    "\n",
    "print(msg)"
   ]
  },
  {
   "cell_type": "code",
   "execution_count": 127,
   "metadata": {},
   "outputs": [
    {
     "name": "stdout",
     "output_type": "stream",
     "text": [
      "Nitish can learn python from Nitishr lms access. Nitish can do it and you will learn\n"
     ]
    }
   ],
   "source": [
    "print( msg.replace(\"you\", \"Nitish\", 3) ) # how many \n"
   ]
  },
  {
   "cell_type": "code",
   "execution_count": null,
   "metadata": {},
   "outputs": [],
   "source": []
  },
  {
   "cell_type": "code",
   "execution_count": 135,
   "metadata": {},
   "outputs": [
    {
     "name": "stdout",
     "output_type": "stream",
     "text": [
      "  python  \n",
      "    python\n",
      "python    \n",
      "__python_\n",
      "____python\n",
      "python____\n"
     ]
    }
   ],
   "source": [
    "# 8. Formatting\n",
    "\n",
    "s = \"python\"\n",
    "# __python__\n",
    "# ____python\n",
    "# python____\n",
    "\n",
    "print( s.center(10) )\n",
    "print( s.rjust(10) )\n",
    "print( s.ljust(10) )\n",
    "\n",
    "# print( s.ljust(2) ) # if width < len, then complete WORD will be shown\n",
    "\n",
    "print( s.center(9, \"_\") )\n",
    "print( s.rjust(10, \"_\") )\n",
    "print( s.ljust(10, \"_\") )\n"
   ]
  },
  {
   "cell_type": "code",
   "execution_count": 154,
   "metadata": {},
   "outputs": [
    {
     "name": "stdout",
     "output_type": "stream",
     "text": [
      "0000000000000000000python\n"
     ]
    }
   ],
   "source": [
    "s = \"python\"\n",
    "\n",
    "print(s.zfill(25))"
   ]
  },
  {
   "cell_type": "code",
   "execution_count": null,
   "metadata": {},
   "outputs": [],
   "source": [
    "otp = 8745\n",
    "mobile = 7475747854\n",
    "email = \"nitish@gmail.com\"\n",
    "\n",
    "msg = \"The OTP for current transaction is 8745 and is shared in nitish@gmail.com and 7475747854\""
   ]
  },
  {
   "cell_type": "code",
   "execution_count": null,
   "metadata": {},
   "outputs": [],
   "source": [
    "otp = 7452\n",
    "mobile = 9584745247\n",
    "email = \"aditya@hotmail.com\"\n",
    "\n",
    "\"The OTP for current transaction is 7452 and is shared in aditya@hotmail.com and 9584745247\""
   ]
  },
  {
   "cell_type": "code",
   "execution_count": 136,
   "metadata": {},
   "outputs": [],
   "source": [
    "msg = \"The OTP for current transaction is {} and is shared in {} and {}\""
   ]
  },
  {
   "cell_type": "code",
   "execution_count": 138,
   "metadata": {},
   "outputs": [
    {
     "data": {
      "text/plain": [
       "'The OTP for current transaction is 7452 and is shared in aditya@hotmail.com and 9584745247'"
      ]
     },
     "execution_count": 138,
     "metadata": {},
     "output_type": "execute_result"
    }
   ],
   "source": [
    "otp = 7452\n",
    "mobile = 9584745247\n",
    "email = \"aditya@hotmail.com\"\n",
    "msg = \"The OTP for current transaction is {1} and is shared in {2} and {0}\"\n",
    "\n",
    "msg.format(mobile, otp, email)"
   ]
  },
  {
   "cell_type": "code",
   "execution_count": 139,
   "metadata": {},
   "outputs": [
    {
     "data": {
      "text/plain": [
       "'The OTP for current transaction is 8745 and is shared in nitish@gmail.com and 7475747854'"
      ]
     },
     "execution_count": 139,
     "metadata": {},
     "output_type": "execute_result"
    }
   ],
   "source": [
    "otp = 8745\n",
    "mobile = 7475747854\n",
    "email = \"nitish@gmail.com\"\n",
    "msg = \"The OTP for current transaction is {1} and is shared in {2} and {0}\"\n",
    "\n",
    "msg.format(mobile, otp, email)"
   ]
  },
  {
   "cell_type": "code",
   "execution_count": null,
   "metadata": {},
   "outputs": [],
   "source": []
  },
  {
   "cell_type": "code",
   "execution_count": null,
   "metadata": {},
   "outputs": [],
   "source": [
    "\"\"\"The OTP for current transaction is 7452 and is shared in aditya@hotmail.com and 9584745247.\n",
    "Also, Please register your email : aditya@hotmail.com and mobile :: 9584745247\n",
    "\"\"\""
   ]
  },
  {
   "cell_type": "code",
   "execution_count": 142,
   "metadata": {},
   "outputs": [
    {
     "name": "stdout",
     "output_type": "stream",
     "text": [
      "The OTP for current transaction is 8745 and is shared in nitish@gmail.com and 7475747854.\n",
      "Also, Please register your email : nitish@gmail.com and mobile :: 7475747854\n",
      "\n",
      "The OTP for current transaction is 7475747854 and is shared in 8745 and nitish@gmail.com.\n",
      "Also, Please register your email : 8745 and mobile :: nitish@gmail.com\n",
      "\n"
     ]
    }
   ],
   "source": [
    "otp = 8745\n",
    "mobile = 7475747854\n",
    "email = \"nitish@gmail.com\"\n",
    "msg = \"\"\"The OTP for current transaction is {1} and is shared in {2} and {0}.\n",
    "Also, Please register your email : {2} and mobile :: {0}\n",
    "\"\"\"\n",
    "\n",
    "print( msg.format(mobile, otp, email) )\n",
    "\n",
    "# print( msg.format(email, mobile, otp) )"
   ]
  },
  {
   "cell_type": "code",
   "execution_count": 147,
   "metadata": {},
   "outputs": [
    {
     "name": "stdout",
     "output_type": "stream",
     "text": [
      "The OTP for current transaction is 8745 and is shared in 7475747854 and nitish@gmail.com.\n",
      "Also, Please register your email : nitish@gmail.com and mobile :: 7475747854\n",
      "\n"
     ]
    }
   ],
   "source": [
    "otp = 8745\n",
    "mobile = 7475747854\n",
    "email = \"nitish@gmail.com\"\n",
    "msg = \"\"\"The OTP for current transaction is %d and is shared in %d and %s.\n",
    "Also, Please register your email : %s and mobile :: %d\n",
    "\"\"\"\n",
    "\n",
    "print( msg%(otp, mobile, email, email, mobile) )\n",
    "\n"
   ]
  },
  {
   "cell_type": "code",
   "execution_count": 148,
   "metadata": {},
   "outputs": [
    {
     "name": "stdout",
     "output_type": "stream",
     "text": [
      "The OTP for current transaction is 8745 and is shared in nitish@gmail.com and 7475747854.\n",
      "Also, Please register your email : nitish@gmail.com and mobile :: 7475747854\n",
      "\n"
     ]
    }
   ],
   "source": [
    "otp = 8745\n",
    "mobile = 7475747854\n",
    "email = \"nitish@gmail.com\"\n",
    "\n",
    "msg = f\"\"\"The OTP for current transaction is {otp} and is shared in {email} and {mobile}.\n",
    "Also, Please register your email : {email} and mobile :: {mobile}\n",
    "\"\"\"\n",
    "\n",
    "print( msg )\n",
    "\n"
   ]
  },
  {
   "cell_type": "code",
   "execution_count": 152,
   "metadata": {},
   "outputs": [
    {
     "name": "stdout",
     "output_type": "stream",
     "text": [
      "The OTP for current transaction is 8745 and is shared in nitish@gmail.com and 7475747854.\n",
      "Also, Please register your email : nitish@gmail.com and mobile :: 7475747854.\n",
      "NITISH VIG is using since 22\n",
      "\n"
     ]
    }
   ],
   "source": [
    "otp = 8745\n",
    "mobile = 7475747854\n",
    "email = \"nitish@gmail.com\"\n",
    "name = 'nitish vig'\n",
    "age = 25\n",
    "\n",
    "msg = f\"\"\"The OTP for current transaction is {otp} and is shared in {email} and {mobile}.\n",
    "Also, Please register your email : {email} and mobile :: {mobile}.\n",
    "{name.upper()} is using since {age - 3}\n",
    "\"\"\"\n",
    "\n",
    "print( msg )\n",
    "\n"
   ]
  },
  {
   "cell_type": "code",
   "execution_count": 153,
   "metadata": {},
   "outputs": [
    {
     "name": "stdout",
     "output_type": "stream",
     "text": [
      "The OTP for current transaction is 7452 and is shared in aditya@hotmail.com and 9584745247.\n",
      "Also, Please register your email : aditya@hotmail.com and mobile :: 9584745247.\n",
      "\n"
     ]
    }
   ],
   "source": [
    "otp = 7452\n",
    "mobile = 9584745247\n",
    "email = \"aditya@hotmail.com\"\n",
    "\n",
    "msg = f\"\"\"The OTP for current transaction is {otp} and is shared in {email} and {mobile}.\n",
    "Also, Please register your email : {email} and mobile :: {mobile}.\n",
    "\"\"\"\n",
    "\n",
    "print( msg )\n",
    "\n"
   ]
  },
  {
   "cell_type": "code",
   "execution_count": null,
   "metadata": {},
   "outputs": [],
   "source": []
  },
  {
   "cell_type": "code",
   "execution_count": null,
   "metadata": {},
   "outputs": [],
   "source": []
  },
  {
   "cell_type": "code",
   "execution_count": null,
   "metadata": {},
   "outputs": [],
   "source": []
  },
  {
   "cell_type": "code",
   "execution_count": null,
   "metadata": {},
   "outputs": [],
   "source": []
  }
 ],
 "metadata": {
  "kernelspec": {
   "display_name": "Python 3 (ipykernel)",
   "language": "python",
   "name": "python3"
  },
  "language_info": {
   "codemirror_mode": {
    "name": "ipython",
    "version": 3
   },
   "file_extension": ".py",
   "mimetype": "text/x-python",
   "name": "python",
   "nbconvert_exporter": "python",
   "pygments_lexer": "ipython3",
   "version": "3.9.13"
  }
 },
 "nbformat": 4,
 "nbformat_minor": 4
}

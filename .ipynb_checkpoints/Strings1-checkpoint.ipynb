{
 "cells": [
  {
   "cell_type": "markdown",
   "metadata": {},
   "source": [
    "# Strings\n",
    "\n",
    "- collection of characters\n",
    "- SINGLE LINE STRING is enclosed in a pair of '' or \"\"\n",
    "- MULTIPLE LINE STRING is enclosed in a pair of ''' ''' or \"\"\" \"\"\"\n",
    "- data type is str\n"
   ]
  },
  {
   "cell_type": "code",
   "execution_count": 1,
   "metadata": {},
   "outputs": [
    {
     "name": "stdout",
     "output_type": "stream",
     "text": [
      "hello\n",
      "<class 'str'>\n"
     ]
    }
   ],
   "source": [
    "w1 = \"hello\"\n",
    "print(w1)\n",
    "print(type(w1))"
   ]
  },
  {
   "cell_type": "code",
   "execution_count": 2,
   "metadata": {},
   "outputs": [
    {
     "name": "stdout",
     "output_type": "stream",
     "text": [
      " world\n",
      "<class 'str'>\n"
     ]
    }
   ],
   "source": [
    "w1 = ' world'\n",
    "print(w1)\n",
    "print(type(w1))"
   ]
  },
  {
   "cell_type": "code",
   "execution_count": 3,
   "metadata": {},
   "outputs": [
    {
     "name": "stdout",
     "output_type": "stream",
     "text": [
      "There's an apple\n",
      "<class 'str'>\n"
     ]
    }
   ],
   "source": [
    "w1 = \"There's an apple\"\n",
    "print(w1)\n",
    "print(type(w1))"
   ]
  },
  {
   "cell_type": "code",
   "execution_count": 4,
   "metadata": {},
   "outputs": [
    {
     "name": "stdout",
     "output_type": "stream",
     "text": [
      "There is an \"apple\" \n",
      "<class 'str'>\n"
     ]
    }
   ],
   "source": [
    "w1 = 'There is an \"apple\" '\n",
    "print(w1)\n",
    "print(type(w1))"
   ]
  },
  {
   "cell_type": "code",
   "execution_count": 5,
   "metadata": {},
   "outputs": [
    {
     "ename": "SyntaxError",
     "evalue": "invalid syntax (<ipython-input-5-adbedaebef1a>, line 1)",
     "output_type": "error",
     "traceback": [
      "\u001b[1;36m  File \u001b[1;32m\"<ipython-input-5-adbedaebef1a>\"\u001b[1;36m, line \u001b[1;32m1\u001b[0m\n\u001b[1;33m    w1 = 'There is an 'apple' '\u001b[0m\n\u001b[1;37m                       ^\u001b[0m\n\u001b[1;31mSyntaxError\u001b[0m\u001b[1;31m:\u001b[0m invalid syntax\n"
     ]
    }
   ],
   "source": [
    "w1 = 'There is an 'apple' '\n",
    "print(w1)\n",
    "print(type(w1))"
   ]
  },
  {
   "cell_type": "code",
   "execution_count": 6,
   "metadata": {},
   "outputs": [
    {
     "ename": "SyntaxError",
     "evalue": "EOL while scanning string literal (<ipython-input-6-cdf7b6ea09ec>, line 1)",
     "output_type": "error",
     "traceback": [
      "\u001b[1;36m  File \u001b[1;32m\"<ipython-input-6-cdf7b6ea09ec>\"\u001b[1;36m, line \u001b[1;32m1\u001b[0m\n\u001b[1;33m    w1 = 'There is an apple.\u001b[0m\n\u001b[1;37m                             ^\u001b[0m\n\u001b[1;31mSyntaxError\u001b[0m\u001b[1;31m:\u001b[0m EOL while scanning string literal\n"
     ]
    }
   ],
   "source": [
    "w1 = 'There is an apple. \n",
    "You can buy it from store'\n",
    "\n",
    "print(w1)\n",
    "print(type(w1))"
   ]
  },
  {
   "cell_type": "code",
   "execution_count": 11,
   "metadata": {},
   "outputs": [
    {
     "name": "stdout",
     "output_type": "stream",
     "text": [
      "END\n"
     ]
    }
   ],
   "source": [
    "'''Dear Sir\n",
    "Hope all good\n",
    "\n",
    "Can I connect with you today\n",
    "\n",
    "Regards\n",
    "ABC'''\n",
    "print(\"END\")"
   ]
  },
  {
   "cell_type": "code",
   "execution_count": 14,
   "metadata": {},
   "outputs": [
    {
     "name": "stdout",
     "output_type": "stream",
     "text": [
      "Dear Sir\n",
      "Hope all good\n",
      "\n",
      "Can I connect with you today\n",
      "\n",
      "Regards\n",
      "ABC\n",
      "<class 'str'>\n"
     ]
    }
   ],
   "source": [
    "msg = '''Dear Sir\n",
    "Hope all good\n",
    "\n",
    "Can I connect with you today\n",
    "\n",
    "Regards\n",
    "ABC'''\n",
    "print(msg)\n",
    "print(type(msg))"
   ]
  },
  {
   "cell_type": "code",
   "execution_count": 17,
   "metadata": {},
   "outputs": [
    {
     "name": "stdout",
     "output_type": "stream",
     "text": [
      "Dear Sir \n",
      "Hope all good \n",
      "\n",
      "Can I connect with you today \n",
      "\n",
      "Regards \n",
      "ABC\n",
      "<class 'str'>\n"
     ]
    }
   ],
   "source": [
    "msg = \"Dear Sir \\nHope all good \\n\\nCan I connect with you today \\n\\nRegards \\nABC\"\n",
    "print(msg)\n",
    "print(type(msg))"
   ]
  },
  {
   "cell_type": "code",
   "execution_count": 19,
   "metadata": {},
   "outputs": [
    {
     "name": "stdout",
     "output_type": "stream",
     "text": [
      "Dear Sir \n",
      "Hope all good \n",
      "\n",
      "Can I connect with you today \n",
      "\n",
      "Regards \n",
      "\t\tPersonName\n",
      "<class 'str'>\n"
     ]
    }
   ],
   "source": [
    "msg = \"Dear Sir \\nHope all good \\n\\nCan I connect with you today \\n\\nRegards \\n\\t\\tPersonName\"\n",
    "print(msg)\n",
    "print(type(msg))"
   ]
  },
  {
   "cell_type": "code",
   "execution_count": 21,
   "metadata": {},
   "outputs": [
    {
     "name": "stdout",
     "output_type": "stream",
     "text": [
      "Dear Sir\n",
      "Hope all good\n",
      "\n",
      "Can I connect with you today\n",
      "\n",
      "Regards\n",
      "            PersonName\n",
      "<class 'str'>\n"
     ]
    }
   ],
   "source": [
    "msg = '''Dear Sir\n",
    "Hope all good\n",
    "\n",
    "Can I connect with you today\n",
    "\n",
    "Regards\n",
    "            PersonName'''\n",
    "print(msg)\n",
    "print(type(msg))"
   ]
  },
  {
   "cell_type": "code",
   "execution_count": 23,
   "metadata": {},
   "outputs": [
    {
     "name": "stdout",
     "output_type": "stream",
     "text": [
      "\n",
      "Choose From Bolow : \n",
      "1. \n",
      "2. \n",
      "3. \n",
      "4. \n",
      "5.\n",
      "\n"
     ]
    }
   ],
   "source": [
    "print('''\n",
    "Choose From Bolow : \n",
    "1. \n",
    "2. \n",
    "3. \n",
    "4. \n",
    "5.\n",
    "'''\n",
    ")\n"
   ]
  },
  {
   "cell_type": "code",
   "execution_count": null,
   "metadata": {},
   "outputs": [],
   "source": []
  },
  {
   "cell_type": "code",
   "execution_count": 10,
   "metadata": {},
   "outputs": [
    {
     "ename": "NameError",
     "evalue": "name 'nitish' is not defined",
     "output_type": "error",
     "traceback": [
      "\u001b[1;31m---------------------------------------------------------------------------\u001b[0m",
      "\u001b[1;31mNameError\u001b[0m                                 Traceback (most recent call last)",
      "\u001b[1;32m<ipython-input-10-15c3df34a68f>\u001b[0m in \u001b[0;36m<module>\u001b[1;34m\u001b[0m\n\u001b[0;32m      3\u001b[0m \u001b[1;36m0.22\u001b[0m\u001b[1;33m\u001b[0m\u001b[1;33m\u001b[0m\u001b[0m\n\u001b[0;32m      4\u001b[0m \u001b[1;34m\"bevdhwc vnbfe\"\u001b[0m\u001b[1;33m\u001b[0m\u001b[1;33m\u001b[0m\u001b[0m\n\u001b[1;32m----> 5\u001b[1;33m \u001b[0mnitish\u001b[0m\u001b[1;33m\u001b[0m\u001b[1;33m\u001b[0m\u001b[0m\n\u001b[0m\u001b[0;32m      6\u001b[0m \u001b[0mprint\u001b[0m\u001b[1;33m(\u001b[0m\u001b[1;34m\"AND\"\u001b[0m\u001b[1;33m)\u001b[0m\u001b[1;33m\u001b[0m\u001b[1;33m\u001b[0m\u001b[0m\n",
      "\u001b[1;31mNameError\u001b[0m: name 'nitish' is not defined"
     ]
    }
   ],
   "source": [
    "\"Hell\"\n",
    "6845\n",
    "0.22\n",
    "\"bevdhwc vnbfe\"\n",
    "nitish\n",
    "print(\"AND\")\n"
   ]
  },
  {
   "cell_type": "code",
   "execution_count": null,
   "metadata": {},
   "outputs": [],
   "source": []
  },
  {
   "cell_type": "markdown",
   "metadata": {},
   "source": [
    "## Basic Operations"
   ]
  },
  {
   "cell_type": "markdown",
   "metadata": {},
   "source": [
    "print( dir( str )  )\n",
    " 'capitalize', 'casefold', 'center', 'count', 'encode', 'endswith', 'expandtabs', 'find', 'format', 'format_map', 'index', 'isalnum', 'isalpha', 'isascii', 'isdecimal', 'isdigit', 'isidentifier', 'islower', 'isnumeric', 'isprintable', 'isspace', 'istitle', 'isupper', 'join', 'ljust', 'lower', 'lstrip', 'maketrans', 'partition', 'replace', 'rfind', 'rindex', 'rjust', 'rpartition', 'rsplit', 'rstrip', 'split', 'splitlines', 'startswith', 'strip', 'swapcase', 'title', 'translate', 'upper', 'zfill'"
   ]
  },
  {
   "cell_type": "code",
   "execution_count": 77,
   "metadata": {},
   "outputs": [
    {
     "name": "stdout",
     "output_type": "stream",
     "text": [
      "['__add__', '__class__', '__contains__', '__delattr__', '__delitem__', '__dir__', '__doc__', '__eq__', '__format__', '__ge__', '__getattribute__', '__getitem__', '__gt__', '__hash__', '__iadd__', '__imul__', '__init__', '__init_subclass__', '__iter__', '__le__', '__len__', '__lt__', '__mul__', '__ne__', '__new__', '__reduce__', '__reduce_ex__', '__repr__', '__reversed__', '__rmul__', '__setattr__', '__setitem__', '__sizeof__', '__str__', '__subclasshook__', 'append', 'clear', 'copy', 'count', 'extend', 'index', 'insert', 'pop', 'remove', 'reverse', 'sort']\n"
     ]
    }
   ],
   "source": [
    "print( dir(list) )\n",
    "\n",
    "# 'append', 'clear', 'copy', 'count', 'extend', 'index', 'insert', 'pop', 'remove', 'reverse', 'sort"
   ]
  },
  {
   "cell_type": "code",
   "execution_count": null,
   "metadata": {},
   "outputs": [],
   "source": []
  },
  {
   "cell_type": "code",
   "execution_count": 26,
   "metadata": {},
   "outputs": [
    {
     "name": "stdout",
     "output_type": "stream",
     "text": [
      "     This is Python Lecture      \n",
      "33\n"
     ]
    }
   ],
   "source": [
    "# 1. len : returns total chars\n",
    "\n",
    "myString = \"     This is Python Lecture      \"\n",
    "print(myString)\n",
    "print(len(myString))"
   ]
  },
  {
   "cell_type": "code",
   "execution_count": 34,
   "metadata": {},
   "outputs": [
    {
     "name": "stdout",
     "output_type": "stream",
     "text": [
      "python\n",
      "6\n",
      "p\n",
      "h\n",
      "n\n",
      "n\n"
     ]
    }
   ],
   "source": [
    "# 2. String Index : Return the SINGLE character at specified POSITION\n",
    "# stringName[position]\n",
    "\n",
    "\n",
    "myString = \"python\"\n",
    "print(myString)\n",
    "print(len(myString))\n",
    "\n",
    "# p\n",
    "print( myString[0] )\n",
    "\n",
    "\n",
    "# h\n",
    "print( myString[3] )\n",
    "\n",
    "\n",
    "# n : last char\n",
    "print( myString[5] )\n",
    "print( myString[ len(myString) - 1 ] ) # 6 - 1 = 5\n",
    "\n"
   ]
  },
  {
   "attachments": {
    "image.png": {
     "image/png": "[encoded data removed]"
    }
   },
   "cell_type": "markdown",
   "metadata": {},
   "source": [
    "![image.png](attachment:image.png)"
   ]
  },
  {
   "cell_type": "code",
   "execution_count": 35,
   "metadata": {},
   "outputs": [
    {
     "name": "stdout",
     "output_type": "stream",
     "text": [
      "n\n",
      "n\n",
      "n\n"
     ]
    }
   ],
   "source": [
    "# n\n",
    "print( myString[5] )\n",
    "print( myString[ len(myString) -1] )\n",
    "\n",
    "print( myString[-1] )"
   ]
  },
  {
   "cell_type": "code",
   "execution_count": 36,
   "metadata": {},
   "outputs": [
    {
     "name": "stdout",
     "output_type": "stream",
     "text": [
      "p\n",
      "p\n"
     ]
    }
   ],
   "source": [
    "# p\n",
    "print( myString[0] )\n",
    "\n",
    "print( myString[-len(myString)] )"
   ]
  },
  {
   "cell_type": "code",
   "execution_count": 40,
   "metadata": {},
   "outputs": [],
   "source": [
    "# # Take an action on any char of the string\n",
    "# # loop on the string'\n",
    "# # iterate over the string\n",
    "\n",
    "# myString = \"python\"\n",
    "\n",
    "# for i in range(len(myString)) : \n",
    "#     print(myString[i])\n",
    "\n",
    "\n"
   ]
  },
  {
   "cell_type": "code",
   "execution_count": null,
   "metadata": {},
   "outputs": [],
   "source": [
    "# FIX FORMAT MESSAGE\n",
    "# msg = \"The OTP for this transaction is 79742\" #take action on specific positions"
   ]
  },
  {
   "cell_type": "code",
   "execution_count": null,
   "metadata": {},
   "outputs": [],
   "source": []
  },
  {
   "cell_type": "code",
   "execution_count": 45,
   "metadata": {},
   "outputs": [
    {
     "name": "stdout",
     "output_type": "stream",
     "text": [
      "programming world\n",
      "pro\n",
      "ing\n"
     ]
    }
   ],
   "source": [
    "# 3. String Slicing : Return the MULTIPLE character at specified POSITIONs\n",
    "# stringName[start : end  : stepsize]\n",
    "# end is not INCLUDED\n",
    "# stepsize : default value is 1\n",
    "# start : default value is 0\n",
    "# end : default value is LENGTH\n",
    "\n",
    "myString = \"programming world\"  \n",
    "# p r o g r a m m i n  g      w   o  r  l  d\n",
    "# 0 1 2 3 4 5 6 7 8 9 10  11  12  13 14 15 16 \n",
    "\n",
    "print( myString )\n",
    "\n",
    "# read the first 3 chars\n",
    "print( myString[0 : 3 : 1] ) # 0 , 0 + 1 = 1, 1 + 1 = 2, XXXX 2 + 1 = 3 \n",
    "\n",
    "\n",
    "# i n  g \n",
    "print( myString[8 : 11 : 1] ) # 8, 8 + 1 = 9, 9 + 1 = 10, XXXXXX 10 + 1 = 11"
   ]
  },
  {
   "cell_type": "code",
   "execution_count": 56,
   "metadata": {},
   "outputs": [
    {
     "name": "stdout",
     "output_type": "stream",
     "text": [
      "programming world\n",
      "17\n",
      "programming world\n",
      "programming world\n",
      "programming world\n",
      "programming world\n",
      "programming world\n",
      "programming world\n"
     ]
    }
   ],
   "source": [
    "# \"programming world\"  \n",
    "print( myString )\n",
    "print( len(myString) )\n",
    "print( myString[0 : 17 : 1] )\n",
    "print( myString[0 : len(myString) : 1] ) # END IS NOT INCLUDED : len(myString) - 1\n",
    "print( myString[0 : len(myString) ] ) \n",
    "print( myString[0 : len(myString) : ] ) \n",
    "print( myString[ : len(myString) : ] ) \n",
    "print( myString[ :  : ] ) \n"
   ]
  },
  {
   "cell_type": "code",
   "execution_count": 51,
   "metadata": {},
   "outputs": [
    {
     "name": "stdout",
     "output_type": "stream",
     "text": [
      "programming world\n",
      "17\n",
      "pormigwrd\n"
     ]
    }
   ],
   "source": [
    "# return the chars at even positions only\n",
    "# p   o   r   m   i    g      w       r     d\n",
    "# 0 1 2 3 4 5 6 7 8 9 10  11  12  13 14 15 16 \n",
    "\n",
    "# \"programming world\"  \n",
    "print( myString )\n",
    "print( len(myString) )\n",
    "print( myString[0 : len(myString) : 2] ) # END IS NOT INCLUDED : len(myString) - 1\n",
    "# 0, 0 + 2 = 2, 2 + 2 = 4, 4 + 2 = 6 .........."
   ]
  },
  {
   "cell_type": "code",
   "execution_count": 59,
   "metadata": {},
   "outputs": [
    {
     "name": "stdout",
     "output_type": "stream",
     "text": [
      "<class 'str'>\n",
      "hello everyone\n"
     ]
    }
   ],
   "source": [
    "# 4. Concatenation : merging two or more strings to make a single string\n",
    "# str1 + str2 + str3 .....\n",
    "\n",
    "res = 'hello '       +       \"everyone\"\n",
    "print(type(res))\n",
    "print(res)\n"
   ]
  },
  {
   "cell_type": "code",
   "execution_count": 62,
   "metadata": {},
   "outputs": [
    {
     "name": "stdout",
     "output_type": "stream",
     "text": [
      "Good Morning\n",
      "Good Morning\n"
     ]
    }
   ],
   "source": [
    "print(\"Good\", 'Morning')\n",
    "print(\"Good \" + 'Morning')"
   ]
  },
  {
   "cell_type": "code",
   "execution_count": 65,
   "metadata": {},
   "outputs": [
    {
     "name": "stdout",
     "output_type": "stream",
     "text": [
      "Good Morning 2020\n",
      "GoodMorning2020\n",
      "GoodMorning2020\n",
      "Good  Morning 2020\n"
     ]
    }
   ],
   "source": [
    "print(\"Good\", 'Morning' , 2020)\n",
    "print(\"Good\" + 'Morning' + str( 2020 )  )\n",
    "print(\"Good\" + 'Morning' + \"2020\"  )\n",
    "\n",
    "\n",
    "print(\"Good \" + ' Morning ' + str( 2020 )  )\n"
   ]
  },
  {
   "cell_type": "code",
   "execution_count": null,
   "metadata": {},
   "outputs": [],
   "source": []
  },
  {
   "cell_type": "code",
   "execution_count": 66,
   "metadata": {},
   "outputs": [],
   "source": [
    "# 5. repition : repeat the string\n",
    "# stringName * IntegerNumber"
   ]
  },
  {
   "cell_type": "code",
   "execution_count": 67,
   "metadata": {},
   "outputs": [
    {
     "name": "stdout",
     "output_type": "stream",
     "text": [
      "aaaaaaaaaaaaaaaaaaaaaaaaaaaaaa\n"
     ]
    }
   ],
   "source": [
    "print( \"a\" * 30 )"
   ]
  },
  {
   "cell_type": "code",
   "execution_count": 72,
   "metadata": {},
   "outputs": [
    {
     "name": "stdout",
     "output_type": "stream",
     "text": [
      "pppppppppp\n",
      "ononon\n",
      "pythonpython\n"
     ]
    }
   ],
   "source": [
    "word = 'python'\n",
    "print( word[0] * 10 )\n",
    "\n",
    "\"ononon\"\n",
    "print( word[4 : ] * 3 )\n",
    "\n",
    "print(word * 2)"
   ]
  },
  {
   "cell_type": "code",
   "execution_count": 73,
   "metadata": {},
   "outputs": [
    {
     "data": {
      "text/plain": [
       "'on'"
      ]
     },
     "execution_count": 73,
     "metadata": {},
     "output_type": "execute_result"
    }
   ],
   "source": [
    "word[len(word) - 2 : len(word)]  # More Favoured : Generic"
   ]
  },
  {
   "cell_type": "code",
   "execution_count": 80,
   "metadata": {},
   "outputs": [
    {
     "name": "stdout",
     "output_type": "stream",
     "text": [
      "False\n",
      "True\n",
      "True\n"
     ]
    }
   ],
   "source": [
    "# 6. Membership (in) : return True if char is present inside the STRING\n",
    "# 6. Membership (not in) : return True if char is absent inside the STRING\n",
    "\n",
    "\n",
    "print( \"a\" in \"python\" )\n",
    "print( \"o\" in \"python\" )\n",
    "\n",
    "print( \"z\" not in \"python\" )\n"
   ]
  },
  {
   "cell_type": "code",
   "execution_count": null,
   "metadata": {},
   "outputs": [],
   "source": []
  },
  {
   "cell_type": "code",
   "execution_count": null,
   "metadata": {},
   "outputs": [],
   "source": [
    "# revise if else... book refer"
   ]
  },
  {
   "cell_type": "code",
   "execution_count": null,
   "metadata": {},
   "outputs": [],
   "source": []
  },
  {
   "cell_type": "code",
   "execution_count": null,
   "metadata": {},
   "outputs": [],
   "source": []
  },
  {
   "cell_type": "code",
   "execution_count": null,
   "metadata": {},
   "outputs": [],
   "source": []
  },
  {
   "cell_type": "code",
   "execution_count": null,
   "metadata": {},
   "outputs": [],
   "source": []
  },
  {
   "cell_type": "code",
   "execution_count": null,
   "metadata": {},
   "outputs": [],
   "source": []
  }
 ],
 "metadata": {
  "kernelspec": {
   "display_name": "Python 3 (ipykernel)",
   "language": "python",
   "name": "python3"
  },
  "language_info": {
   "codemirror_mode": {
    "name": "ipython",
    "version": 3
   },
   "file_extension": ".py",
   "mimetype": "text/x-python",
   "name": "python",
   "nbconvert_exporter": "python",
   "pygments_lexer": "ipython3",
   "version": "3.9.13"
  }
 },
 "nbformat": 4,
 "nbformat_minor": 4
}

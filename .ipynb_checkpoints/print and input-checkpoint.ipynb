{
 "cells": [
  {
   "cell_type": "markdown",
   "metadata": {},
   "source": [
    "# Print Function\n",
    "\n",
    "- display to the OUTPUT screen\n",
    "\n",
    "Syntax : print(expression)\n",
    "\n",
    "Syntax : print(expression1, expression2, expression3 ........)\n",
    "\n",
    "Syntax : print(expression1, expression2, expression3 ........, sep = \" \")\n"
   ]
  },
  {
   "cell_type": "code",
   "execution_count": 1,
   "metadata": {},
   "outputs": [
    {
     "name": "stdout",
     "output_type": "stream",
     "text": [
      "hello\n"
     ]
    }
   ],
   "source": [
    "print(\"hello\")"
   ]
  },
  {
   "cell_type": "code",
   "execution_count": 5,
   "metadata": {},
   "outputs": [
    {
     "name": "stdout",
     "output_type": "stream",
     "text": [
      "hello everyone\n"
     ]
    }
   ],
   "source": [
    "print(\"hello\",\"everyone\")"
   ]
  },
  {
   "cell_type": "code",
   "execution_count": 8,
   "metadata": {},
   "outputs": [
    {
     "name": "stdout",
     "output_type": "stream",
     "text": [
      "hello*****************everyone\n"
     ]
    }
   ],
   "source": [
    "print(\"hello\",\"everyone\", sep = \"*****************\")"
   ]
  },
  {
   "cell_type": "code",
   "execution_count": 4,
   "metadata": {},
   "outputs": [
    {
     "name": "stdout",
     "output_type": "stream",
     "text": [
      "13 2.6666666666666665 14\n"
     ]
    }
   ],
   "source": [
    "print( 10 + 3, 8 / 3, 7 * 2 ) # 13, 2.66, 14"
   ]
  },
  {
   "cell_type": "code",
   "execution_count": 9,
   "metadata": {},
   "outputs": [
    {
     "name": "stdout",
     "output_type": "stream",
     "text": [
      "13##2.6666666666666665##14\n"
     ]
    }
   ],
   "source": [
    "print( 10 + 3, 8 / 3, 7 * 2 , sep = \"##\") # 13, 2.66, 14"
   ]
  },
  {
   "cell_type": "code",
   "execution_count": 17,
   "metadata": {},
   "outputs": [
    {
     "name": "stdout",
     "output_type": "stream",
     "text": [
      "Value of x= 100\n",
      "Value of x = __100__Datatype of x : __<class 'int'>\n"
     ]
    }
   ],
   "source": [
    "x = 100\n",
    "print( \"Value of x = \", x )\n",
    "print( \"Value of x = \", x, \"Datatype of x : \", type(x), sep = \"__\" )\n"
   ]
  },
  {
   "cell_type": "code",
   "execution_count": 11,
   "metadata": {},
   "outputs": [
    {
     "name": "stdout",
     "output_type": "stream",
     "text": [
      "Dear All, Thanks for joining the meeting. Regards Nitish\n"
     ]
    }
   ],
   "source": [
    "# Control the string spacing at the time of displaying it\n",
    "\n",
    "print(\"Dear All, Thanks for joining the meeting. Regards Nitish\")"
   ]
  },
  {
   "cell_type": "code",
   "execution_count": 12,
   "metadata": {},
   "outputs": [
    {
     "name": "stdout",
     "output_type": "stream",
     "text": [
      "Dear All, \n",
      "Thanks for joining the meeting. \n",
      "Regards \n",
      "Nitish\n"
     ]
    }
   ],
   "source": [
    "# \\n : New Line\n",
    "print(\"Dear All, \\nThanks for joining the meeting. \\nRegards \\nNitish\")"
   ]
  },
  {
   "cell_type": "code",
   "execution_count": 13,
   "metadata": {},
   "outputs": [
    {
     "name": "stdout",
     "output_type": "stream",
     "text": [
      "Dear All, \n",
      "Thanks for joining the meeting. \n",
      "\tRegards \tNitish\n"
     ]
    }
   ],
   "source": [
    "# \\t : Tab Line\n",
    "print(\"Dear All, \\nThanks for joining the meeting. \\n\\tRegards \\tNitish\")"
   ]
  },
  {
   "cell_type": "code",
   "execution_count": 14,
   "metadata": {},
   "outputs": [
    {
     "name": "stdout",
     "output_type": "stream",
     "text": [
      "Dear All, \\nThanks for joining the meeting. \\n\\tRegards \\tNitish\n"
     ]
    }
   ],
   "source": [
    "# \\\\ : Avoids the backslash\n",
    "print(\"Dear All, \\\\nThanks for joining the meeting. \\\\n\\\\tRegards \\\\tNitish\")"
   ]
  },
  {
   "cell_type": "code",
   "execution_count": null,
   "metadata": {},
   "outputs": [],
   "source": []
  },
  {
   "cell_type": "code",
   "execution_count": null,
   "metadata": {},
   "outputs": [],
   "source": []
  },
  {
   "cell_type": "markdown",
   "metadata": {},
   "source": [
    "# Input \n",
    "\n",
    "- take value from the user\n",
    "- default value taken is STRING\n",
    "\n",
    "Syntax: \n",
    "- input(\"Message : \")\n"
   ]
  },
  {
   "cell_type": "code",
   "execution_count": 18,
   "metadata": {},
   "outputs": [
    {
     "name": "stdout",
     "output_type": "stream",
     "text": [
      "Provide Name ==> Nitish\n",
      "Provide AGE ==> 30\n",
      "Provide Salary :: 500.55\n",
      "Name -->  Nitish\n",
      "Age ::  30\n",
      "salary ==>  500.55\n"
     ]
    }
   ],
   "source": [
    "name = input(\"Provide Name ==> \")\n",
    "age = input(\"Provide AGE ==> \")\n",
    "sal = input(\"Provide Salary :: \")\n",
    "\n",
    "# age = int(age)\n",
    "# sal = float(sal)\n",
    "\n",
    "print('Name --> '           ,                       name)\n",
    "print('Age :: '               ,            age                             )\n",
    "print('salary ==> '                ,             sal                      )\n"
   ]
  },
  {
   "cell_type": "code",
   "execution_count": 20,
   "metadata": {},
   "outputs": [
    {
     "name": "stdout",
     "output_type": "stream",
     "text": [
      "<class 'str'>\n",
      "<class 'str'>\n",
      "<class 'str'>\n"
     ]
    }
   ],
   "source": [
    "print( type(name) )\n",
    "print( type(age) )\n",
    "print( type(sal) )"
   ]
  },
  {
   "cell_type": "code",
   "execution_count": 19,
   "metadata": {},
   "outputs": [
    {
     "ename": "TypeError",
     "evalue": "can't multiply sequence by non-int of type 'float'",
     "output_type": "error",
     "traceback": [
      "\u001b[1;31m---------------------------------------------------------------------------\u001b[0m",
      "\u001b[1;31mTypeError\u001b[0m                                 Traceback (most recent call last)",
      "\u001b[1;32m<ipython-input-19-67f2ad465246>\u001b[0m in \u001b[0;36m<module>\u001b[1;34m\u001b[0m\n\u001b[1;32m----> 1\u001b[1;33m \u001b[0mprint\u001b[0m\u001b[1;33m(\u001b[0m \u001b[0msal\u001b[0m \u001b[1;33m+\u001b[0m \u001b[0msal\u001b[0m \u001b[1;33m*\u001b[0m \u001b[1;36m0.15\u001b[0m \u001b[1;33m)\u001b[0m \u001b[1;31m#\u001b[0m\u001b[1;33m\u001b[0m\u001b[1;33m\u001b[0m\u001b[0m\n\u001b[0m",
      "\u001b[1;31mTypeError\u001b[0m: can't multiply sequence by non-int of type 'float'"
     ]
    }
   ],
   "source": [
    "print( sal + sal * 0.15 ) # \"500.55\" + \"500.55\" * 0.15"
   ]
  },
  {
   "cell_type": "code",
   "execution_count": 30,
   "metadata": {},
   "outputs": [
    {
     "name": "stdout",
     "output_type": "stream",
     "text": [
      "Provide Name ==> nitish\n",
      "Provide AGE ==> 220\n",
      "Provide Salary :: 57.3\n",
      "Name -->  nitish\n",
      "Age ::  220\n",
      "salary ==>  57.3\n"
     ]
    }
   ],
   "source": [
    "name = input(\"Provide Name ==> \")\n",
    "age = int(  input(\"Provide AGE ==> \")  )\n",
    "sal = float(  input(\"Provide Salary :: \")  )\n",
    "\n",
    "print('Name --> '           ,                       name)\n",
    "print('Age :: '               ,            age                             )\n",
    "print('salary ==> '                ,             sal                      )\n"
   ]
  },
  {
   "cell_type": "code",
   "execution_count": 22,
   "metadata": {},
   "outputs": [
    {
     "name": "stdout",
     "output_type": "stream",
     "text": [
      "<class 'str'>\n",
      "<class 'int'>\n",
      "<class 'float'>\n"
     ]
    }
   ],
   "source": [
    "print( type(name) )\n",
    "print( type(age) )\n",
    "print( type(sal) )\n"
   ]
  },
  {
   "cell_type": "code",
   "execution_count": 24,
   "metadata": {},
   "outputs": [
    {
     "name": "stdout",
     "output_type": "stream",
     "text": [
      "575.6325\n"
     ]
    }
   ],
   "source": [
    "print( sal + sal * 0.15 ) # 500.55 + 500.55 * 0.15"
   ]
  },
  {
   "cell_type": "code",
   "execution_count": null,
   "metadata": {},
   "outputs": [],
   "source": []
  },
  {
   "cell_type": "code",
   "execution_count": 26,
   "metadata": {},
   "outputs": [
    {
     "name": "stdout",
     "output_type": "stream",
     "text": [
      "58 <class 'str'>\n",
      "58 <class 'int'>\n"
     ]
    }
   ],
   "source": [
    "x = \"58\"\n",
    "print( x, type(x) )\n",
    "\n",
    "y = int(x)\n",
    "print(y, type(y))\n"
   ]
  },
  {
   "cell_type": "code",
   "execution_count": 27,
   "metadata": {},
   "outputs": [
    {
     "name": "stdout",
     "output_type": "stream",
     "text": [
      "hello <class 'str'>\n"
     ]
    },
    {
     "ename": "ValueError",
     "evalue": "invalid literal for int() with base 10: 'hello'",
     "output_type": "error",
     "traceback": [
      "\u001b[1;31m---------------------------------------------------------------------------\u001b[0m",
      "\u001b[1;31mValueError\u001b[0m                                Traceback (most recent call last)",
      "\u001b[1;32m<ipython-input-27-9a82882bc88e>\u001b[0m in \u001b[0;36m<module>\u001b[1;34m\u001b[0m\n\u001b[0;32m      2\u001b[0m \u001b[0mprint\u001b[0m\u001b[1;33m(\u001b[0m \u001b[0mx\u001b[0m\u001b[1;33m,\u001b[0m \u001b[0mtype\u001b[0m\u001b[1;33m(\u001b[0m\u001b[0mx\u001b[0m\u001b[1;33m)\u001b[0m \u001b[1;33m)\u001b[0m\u001b[1;33m\u001b[0m\u001b[1;33m\u001b[0m\u001b[0m\n\u001b[0;32m      3\u001b[0m \u001b[1;33m\u001b[0m\u001b[0m\n\u001b[1;32m----> 4\u001b[1;33m \u001b[0my\u001b[0m \u001b[1;33m=\u001b[0m \u001b[0mint\u001b[0m\u001b[1;33m(\u001b[0m\u001b[0mx\u001b[0m\u001b[1;33m)\u001b[0m\u001b[1;33m\u001b[0m\u001b[1;33m\u001b[0m\u001b[0m\n\u001b[0m\u001b[0;32m      5\u001b[0m \u001b[0mprint\u001b[0m\u001b[1;33m(\u001b[0m\u001b[0my\u001b[0m\u001b[1;33m,\u001b[0m \u001b[0mtype\u001b[0m\u001b[1;33m(\u001b[0m\u001b[0my\u001b[0m\u001b[1;33m)\u001b[0m\u001b[1;33m)\u001b[0m\u001b[1;33m\u001b[0m\u001b[1;33m\u001b[0m\u001b[0m\n",
      "\u001b[1;31mValueError\u001b[0m: invalid literal for int() with base 10: 'hello'"
     ]
    }
   ],
   "source": [
    "x = \"hello\"\n",
    "print( x, type(x) )\n",
    "\n",
    "y = int(x)\n",
    "print(y, type(y))\n"
   ]
  },
  {
   "cell_type": "code",
   "execution_count": 28,
   "metadata": {},
   "outputs": [
    {
     "name": "stdout",
     "output_type": "stream",
     "text": [
      "58.25 <class 'str'>\n",
      "58.25 <class 'float'>\n"
     ]
    }
   ],
   "source": [
    "x = \"58.25\"\n",
    "print( x, type(x) )\n",
    "\n",
    "y = float(x)\n",
    "print(y, type(y))\n"
   ]
  },
  {
   "cell_type": "code",
   "execution_count": 31,
   "metadata": {},
   "outputs": [
    {
     "name": "stdout",
     "output_type": "stream",
     "text": [
      "32.5\n"
     ]
    }
   ],
   "source": [
    "print( 5 * 6.5 )"
   ]
  },
  {
   "cell_type": "code",
   "execution_count": null,
   "metadata": {},
   "outputs": [],
   "source": []
  },
  {
   "cell_type": "code",
   "execution_count": null,
   "metadata": {},
   "outputs": [],
   "source": []
  },
  {
   "cell_type": "code",
   "execution_count": null,
   "metadata": {},
   "outputs": [],
   "source": []
  },
  {
   "cell_type": "code",
   "execution_count": 41,
   "metadata": {},
   "outputs": [
    {
     "name": "stdout",
     "output_type": "stream",
     "text": [
      "4\n",
      "60\n",
      "1.6666666666666667\n",
      "16\n"
     ]
    }
   ],
   "source": [
    "print(10 - 6)\n",
    "print(10 * 6)\n",
    "print(10 / 6)\n",
    "print( 10 + 6)"
   ]
  },
  {
   "cell_type": "code",
   "execution_count": 35,
   "metadata": {},
   "outputs": [
    {
     "data": {
      "text/plain": [
       "16"
      ]
     },
     "execution_count": 35,
     "metadata": {},
     "output_type": "execute_result"
    }
   ],
   "source": [
    "10 - 6\n",
    "10 * 6\n",
    "10 / 6\n",
    "10 + 6"
   ]
  },
  {
   "cell_type": "code",
   "execution_count": 37,
   "metadata": {},
   "outputs": [
    {
     "data": {
      "text/plain": [
       "84"
      ]
     },
     "execution_count": 37,
     "metadata": {},
     "output_type": "execute_result"
    }
   ],
   "source": [
    "14 * 6"
   ]
  },
  {
   "cell_type": "code",
   "execution_count": null,
   "metadata": {},
   "outputs": [],
   "source": []
  },
  {
   "cell_type": "code",
   "execution_count": 40,
   "metadata": {},
   "outputs": [],
   "source": [
    "# place = \"chenni\"\n",
    "\n",
    "# if place == \"delhi\" :\n",
    "#     print (\"north\")\n",
    "# else :\n",
    "#     print (\"clueless\")"
   ]
  },
  {
   "cell_type": "code",
   "execution_count": 44,
   "metadata": {},
   "outputs": [],
   "source": [
    "a = 100"
   ]
  },
  {
   "cell_type": "code",
   "execution_count": 45,
   "metadata": {},
   "outputs": [
    {
     "data": {
      "text/plain": [
       "100"
      ]
     },
     "execution_count": 45,
     "metadata": {},
     "output_type": "execute_result"
    }
   ],
   "source": [
    "a"
   ]
  },
  {
   "cell_type": "code",
   "execution_count": null,
   "metadata": {},
   "outputs": [],
   "source": []
  },
  {
   "cell_type": "code",
   "execution_count": null,
   "metadata": {},
   "outputs": [],
   "source": []
  },
  {
   "cell_type": "code",
   "execution_count": null,
   "metadata": {},
   "outputs": [],
   "source": []
  },
  {
   "cell_type": "code",
   "execution_count": null,
   "metadata": {},
   "outputs": [],
   "source": []
  },
  {
   "cell_type": "code",
   "execution_count": null,
   "metadata": {},
   "outputs": [],
   "source": []
  }
 ],
 "metadata": {
  "kernelspec": {
   "display_name": "Python 3 (ipykernel)",
   "language": "python",
   "name": "python3"
  },
  "language_info": {
   "codemirror_mode": {
    "name": "ipython",
    "version": 3
   },
   "file_extension": ".py",
   "mimetype": "text/x-python",
   "name": "python",
   "nbconvert_exporter": "python",
   "pygments_lexer": "ipython3",
   "version": "3.9.13"
  }
 },
 "nbformat": 4,
 "nbformat_minor": 4
}

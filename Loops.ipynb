{
 "cells": [
  {
   "cell_type": "markdown",
   "id": "ff0b3b21",
   "metadata": {},
   "source": [
    "# Loops\n",
    "\n",
    "- Perform the repititive task\n",
    "- help you to iterate over the string\n"
   ]
  },
  {
   "cell_type": "markdown",
   "id": "da0af2c3",
   "metadata": {},
   "source": [
    "##### Syntax for for loop : \n",
    "\n",
    "###### iterator : can be any variable in alphabets\n",
    "        # : it represent a number that is returned by the RANGE function\n",
    "\n",
    "for iterator in range(start, end, stepsize) :\n",
    "    statement\n",
    "    statement\n",
    "    statement\n",
    "    \n",
    "    \n",
    "for iterator in range( start, len(stringName)  ) : \n",
    "    statement\n",
    "    statement\n",
    "    statement\n",
    "    \n",
    "    stringName[iterator]"
   ]
  },
  {
   "cell_type": "markdown",
   "id": "d021b06c",
   "metadata": {},
   "source": [
    "##### Syntax for while loop : \n",
    "\n",
    "###### iterator : can be any variable in alphabets\n",
    "        # : it represent a number that is returned by the RANGE function\n",
    "\n",
    "itertar = value\n",
    "\n",
    "while iterator <> range : \n",
    "    statement\n",
    "    statement\n",
    "    statement\n",
    "    \n",
    "    iterator = iterator +- 1  # itertor value is updated\n",
    "\n",
    "\n"
   ]
  },
  {
   "cell_type": "code",
   "execution_count": null,
   "id": "454f2995",
   "metadata": {},
   "outputs": [],
   "source": []
  },
  {
   "cell_type": "code",
   "execution_count": null,
   "id": "6af8caa3",
   "metadata": {},
   "outputs": [],
   "source": []
  },
  {
   "cell_type": "code",
   "execution_count": 1,
   "id": "43a18af2",
   "metadata": {},
   "outputs": [
    {
     "name": "stdout",
     "output_type": "stream",
     "text": [
      "earth\n",
      "earth\n",
      "earth\n",
      "earth\n",
      "earth\n"
     ]
    }
   ],
   "source": [
    "# Display \"earth\" 5 times\n",
    "print(\"earth\")\n",
    "print(\"earth\")\n",
    "print(\"earth\")\n",
    "print(\"earth\")\n",
    "print(\"earth\")\n"
   ]
  },
  {
   "cell_type": "code",
   "execution_count": 2,
   "id": "4904b89a",
   "metadata": {},
   "outputs": [
    {
     "name": "stdout",
     "output_type": "stream",
     "text": [
      "Mention Animal Name : lion\n",
      "lion\n",
      "Mention Animal Name : tiger\n",
      "tiger\n",
      "Mention Animal Name : zebra\n",
      "zebra\n"
     ]
    }
   ],
   "source": [
    "# Take 3 animal names from the user and display it\n",
    "\n",
    "animalName = input(\"Mention Animal Name : \")\n",
    "print(animalName)\n",
    "\n",
    "animalName = input(\"Mention Animal Name : \")\n",
    "print(animalName)\n",
    "\n",
    "animalName = input(\"Mention Animal Name : \")\n",
    "print(animalName)\n"
   ]
  },
  {
   "cell_type": "code",
   "execution_count": null,
   "id": "9f540260",
   "metadata": {},
   "outputs": [],
   "source": []
  },
  {
   "cell_type": "markdown",
   "id": "c3bead5b",
   "metadata": {},
   "source": [
    "range(start, end) :: return a sequence of numbers between starting and ending point"
   ]
  },
  {
   "cell_type": "code",
   "execution_count": 3,
   "id": "5851aebb",
   "metadata": {},
   "outputs": [
    {
     "data": {
      "text/plain": [
       "range(1, 10)"
      ]
     },
     "execution_count": 3,
     "metadata": {},
     "output_type": "execute_result"
    }
   ],
   "source": [
    "range(1, 10) #1 2 3 4 5 6 7 8 9"
   ]
  },
  {
   "cell_type": "code",
   "execution_count": 7,
   "id": "92ba88b7",
   "metadata": {},
   "outputs": [
    {
     "data": {
      "text/plain": [
       "{1, 2, 3, 4, 5, 6, 7, 8, 9}"
      ]
     },
     "execution_count": 7,
     "metadata": {},
     "output_type": "execute_result"
    }
   ],
   "source": [
    "# set( range(1, 10) )"
   ]
  },
  {
   "cell_type": "code",
   "execution_count": 8,
   "id": "27743167",
   "metadata": {},
   "outputs": [
    {
     "name": "stdout",
     "output_type": "stream",
     "text": [
      "1\n",
      "2\n",
      "3\n",
      "4\n",
      "5\n",
      "6\n",
      "7\n",
      "8\n",
      "9\n",
      "10\n"
     ]
    }
   ],
   "source": [
    "for i in range(1, 11) :\n",
    "    print(i)"
   ]
  },
  {
   "cell_type": "code",
   "execution_count": 10,
   "id": "f93a6d8d",
   "metadata": {},
   "outputs": [
    {
     "name": "stdout",
     "output_type": "stream",
     "text": [
      "earth\n",
      "earth\n",
      "earth\n",
      "earth\n",
      "earth\n"
     ]
    }
   ],
   "source": [
    "# Display \"earth\" 5 times\n",
    "\n",
    "for i in range(1, 6) : \n",
    "#     print(i)\n",
    "    print(\"earth\")\n"
   ]
  },
  {
   "cell_type": "code",
   "execution_count": 13,
   "id": "0b87d992",
   "metadata": {},
   "outputs": [
    {
     "name": "stdout",
     "output_type": "stream",
     "text": [
      "0\n",
      "Mention Animal Name : lion\n",
      "lion\n",
      "1\n",
      "Mention Animal Name : tiger\n",
      "tiger\n",
      "2\n",
      "Mention Animal Name : zebra\n",
      "zebra\n",
      "Program Ended\n"
     ]
    }
   ],
   "source": [
    "# Take 3 animal names from the user and display it\n",
    "\n",
    "for nitish in range(0, 3) : # 0 1 2\n",
    "    print(nitish)\n",
    "    animalName = input(\"Mention Animal Name : \")\n",
    "    print(animalName)\n",
    "\n",
    "print(\"Program Ended\")"
   ]
  },
  {
   "cell_type": "code",
   "execution_count": 16,
   "id": "0e786cad",
   "metadata": {},
   "outputs": [
    {
     "name": "stdout",
     "output_type": "stream",
     "text": [
      "11\n",
      "Mention Animal Name : lion\n",
      "lion\n",
      "12\n",
      "Mention Animal Name : tiger\n",
      "tiger\n",
      "13\n",
      "Mention Animal Name : zebra\n",
      "zebra\n",
      "Program Ended\n"
     ]
    }
   ],
   "source": [
    "# Take 3 animal names from the user and display it\n",
    "\n",
    "for nitish in range(11, 14) : # 11 12 13\n",
    "    print(nitish)\n",
    "    animalName = input(\"Mention Animal Name : \")\n",
    "    print(animalName)\n",
    "\n",
    "print(\"Program Ended\")\n"
   ]
  },
  {
   "cell_type": "code",
   "execution_count": null,
   "id": "18f17ebc",
   "metadata": {},
   "outputs": [],
   "source": []
  },
  {
   "cell_type": "code",
   "execution_count": 18,
   "id": "1c23dfa2",
   "metadata": {},
   "outputs": [
    {
     "name": "stdout",
     "output_type": "stream",
     "text": [
      "python\n",
      "python\n",
      "python\n"
     ]
    }
   ],
   "source": [
    "# print \"python\" 3 timees\n",
    "\n",
    "for I in range (1,4):\n",
    "    print (\"python\")\n"
   ]
  },
  {
   "cell_type": "code",
   "execution_count": 19,
   "id": "e4b6e084",
   "metadata": {},
   "outputs": [
    {
     "name": "stdout",
     "output_type": "stream",
     "text": [
      "*\n",
      "*\n",
      "*\n"
     ]
    }
   ],
   "source": [
    "# *\n",
    "# *\n",
    "# *\n",
    "\n",
    "for I in range (1,4):\n",
    "    print (\"*\")"
   ]
  },
  {
   "cell_type": "code",
   "execution_count": 24,
   "id": "9c0c1c05",
   "metadata": {},
   "outputs": [
    {
     "name": "stdout",
     "output_type": "stream",
     "text": [
      "*\n",
      "**\n",
      "***\n"
     ]
    }
   ],
   "source": [
    "# *\n",
    "# **\n",
    "# ***\n",
    "\n",
    "for I in range (1,4):\n",
    "    print (I * \"*\") # repeat the string"
   ]
  },
  {
   "cell_type": "code",
   "execution_count": null,
   "id": "38fc60f9",
   "metadata": {},
   "outputs": [],
   "source": [
    "p\n",
    "yy\n",
    "ttt\n",
    "hhhh\n",
    "ooooo\n",
    "nnnnnn"
   ]
  },
  {
   "cell_type": "code",
   "execution_count": 31,
   "id": "8f3fc158",
   "metadata": {},
   "outputs": [
    {
     "name": "stdout",
     "output_type": "stream",
     "text": [
      "1\n",
      "22\n",
      "333\n",
      "4444\n",
      "55555\n"
     ]
    }
   ],
   "source": [
    "# 1\n",
    "# 22\n",
    "# 333\n",
    "# 4444\n",
    "# 55555\n",
    "\n",
    "for I in range (1,6):\n",
    "    print (I *  str(I)) # 1 * \"1\" = 1\n",
    "\n",
    "    \n",
    "    # 2 * \"2\" = 22"
   ]
  },
  {
   "cell_type": "code",
   "execution_count": null,
   "id": "5c7765b4",
   "metadata": {},
   "outputs": [],
   "source": [
    "# "
   ]
  },
  {
   "cell_type": "code",
   "execution_count": 33,
   "id": "a9b8bca2",
   "metadata": {},
   "outputs": [
    {
     "name": "stdout",
     "output_type": "stream",
     "text": [
      "p\n",
      "t\n",
      "n\n"
     ]
    }
   ],
   "source": [
    "word = \"python\"\n",
    "\n",
    "print( word[0] ) # p\n",
    "print( word[2] ) # t\n",
    "print( word[ len(word) - 1] ) # n\n"
   ]
  },
  {
   "cell_type": "code",
   "execution_count": 39,
   "id": "d8bc9e9f",
   "metadata": {},
   "outputs": [
    {
     "name": "stdout",
     "output_type": "stream",
     "text": [
      "0 p\n",
      "1 y\n",
      "2 t\n",
      "3 h\n",
      "4 o\n",
      "5 n\n",
      "6  \n",
      "7 p\n",
      "8 r\n",
      "9 o\n",
      "10 g\n",
      "11 r\n",
      "12 t\n",
      "13 a\n",
      "14 m\n",
      "15 m\n",
      "16 i\n",
      "17 n\n",
      "18 g\n"
     ]
    },
    {
     "ename": "IndexError",
     "evalue": "string index out of range",
     "output_type": "error",
     "traceback": [
      "\u001b[1;31m---------------------------------------------------------------------------\u001b[0m",
      "\u001b[1;31mIndexError\u001b[0m                                Traceback (most recent call last)",
      "\u001b[1;32m~\\AppData\\Local\\Temp\\ipykernel_2680\\3402697991.py\u001b[0m in \u001b[0;36m<module>\u001b[1;34m\u001b[0m\n\u001b[0;32m      1\u001b[0m \u001b[0mword\u001b[0m \u001b[1;33m=\u001b[0m \u001b[1;34m\"python progrtamming\"\u001b[0m\u001b[1;33m\u001b[0m\u001b[1;33m\u001b[0m\u001b[0m\n\u001b[0;32m      2\u001b[0m \u001b[1;32mfor\u001b[0m \u001b[0mi\u001b[0m \u001b[1;32min\u001b[0m \u001b[0mrange\u001b[0m\u001b[1;33m(\u001b[0m \u001b[1;36m0\u001b[0m \u001b[1;33m,\u001b[0m \u001b[0mlen\u001b[0m\u001b[1;33m(\u001b[0m\u001b[0mword\u001b[0m\u001b[1;33m)\u001b[0m \u001b[1;33m+\u001b[0m \u001b[1;36m1\u001b[0m \u001b[1;33m)\u001b[0m \u001b[1;33m:\u001b[0m\u001b[1;33m\u001b[0m\u001b[1;33m\u001b[0m\u001b[0m\n\u001b[1;32m----> 3\u001b[1;33m     \u001b[0mprint\u001b[0m\u001b[1;33m(\u001b[0m\u001b[0mi\u001b[0m\u001b[1;33m,\u001b[0m \u001b[0mword\u001b[0m\u001b[1;33m[\u001b[0m\u001b[0mi\u001b[0m\u001b[1;33m]\u001b[0m\u001b[1;33m)\u001b[0m\u001b[1;33m\u001b[0m\u001b[1;33m\u001b[0m\u001b[0m\n\u001b[0m",
      "\u001b[1;31mIndexError\u001b[0m: string index out of range"
     ]
    }
   ],
   "source": [
    "word = \"python progrtamming\"\n",
    "for i in range( 0 , len(word) ) : \n",
    "    print(i, word[i])"
   ]
  },
  {
   "cell_type": "code",
   "execution_count": 40,
   "id": "7c7289e8",
   "metadata": {},
   "outputs": [
    {
     "name": "stdout",
     "output_type": "stream",
     "text": [
      "0 p\n",
      "1 y\n",
      "2 t\n",
      "3 h\n",
      "4 o\n",
      "5 n\n"
     ]
    }
   ],
   "source": [
    "word = \"python\"\n",
    "for i in range( 0 , len(word) ) : \n",
    "    print(i, word[i])"
   ]
  },
  {
   "cell_type": "code",
   "execution_count": 4,
   "id": "8c78e0bd",
   "metadata": {},
   "outputs": [
    {
     "name": "stdout",
     "output_type": "stream",
     "text": [
      "p\n",
      "yy\n",
      "ttt\n",
      "hhhh\n",
      "ooooo\n",
      "nnnnnn\n"
     ]
    }
   ],
   "source": [
    "# p\n",
    "# yy\n",
    "# ttt\n",
    "# hhhh\n",
    "# ooooo\n",
    "# nnnnnn\n",
    "\n",
    "word = \"python\"\n",
    "for i in range( 0 , len(word) ) : \n",
    "    print(  (i+1 ) * word[i])"
   ]
  },
  {
   "cell_type": "code",
   "execution_count": 49,
   "id": "8b8cb504",
   "metadata": {},
   "outputs": [
    {
     "name": "stdout",
     "output_type": "stream",
     "text": [
      "earth\n",
      "earth\n",
      "earth\n",
      "earth\n",
      "earth\n"
     ]
    }
   ],
   "source": [
    "# Display \"earth\" 5 times\n",
    "\n",
    "for i in range(1, 6 , 1) :  # 1 2 3 4 5 \n",
    "#     print(i)\n",
    "    print(\"earth\")\n"
   ]
  },
  {
   "cell_type": "code",
   "execution_count": 46,
   "id": "77401fb7",
   "metadata": {},
   "outputs": [
    {
     "name": "stdout",
     "output_type": "stream",
     "text": [
      "earth\n",
      "earth\n",
      "earth\n"
     ]
    }
   ],
   "source": [
    "# Display \"earth\" 5 times\n",
    "\n",
    "for i in range(1, 6 , 2) :  # 1  3  5 \n",
    "#     print(i)\n",
    "    print(\"earth\")\n"
   ]
  },
  {
   "cell_type": "code",
   "execution_count": 47,
   "id": "034829b2",
   "metadata": {},
   "outputs": [
    {
     "name": "stdout",
     "output_type": "stream",
     "text": [
      "earth\n",
      "earth\n"
     ]
    }
   ],
   "source": [
    "# Display \"earth\" 5 times\n",
    "\n",
    "for i in range(1, 6 , 3) :  # 1 4  \n",
    "#     print(i)\n",
    "    print(\"earth\")\n"
   ]
  },
  {
   "cell_type": "code",
   "execution_count": 51,
   "id": "02da0353",
   "metadata": {},
   "outputs": [
    {
     "name": "stdout",
     "output_type": "stream",
     "text": [
      "0\n",
      "earth\n",
      "1\n",
      "earth\n",
      "2\n",
      "earth\n",
      "3\n",
      "earth\n",
      "4\n",
      "earth\n",
      "5\n",
      "earth\n"
     ]
    }
   ],
   "source": [
    "# Display \"earth\" 6 times\n",
    "\n",
    "# default start is 0\n",
    "for i in range( 6 ) :  # 0 1 2 3 4 5 \n",
    "    print(i)\n",
    "    print(\"earth\") # i = 1 + stepsize\n"
   ]
  },
  {
   "cell_type": "code",
   "execution_count": null,
   "id": "2557a0a9",
   "metadata": {},
   "outputs": [],
   "source": []
  },
  {
   "cell_type": "markdown",
   "id": "f8b3eed7",
   "metadata": {},
   "source": [
    "### While Loop\n",
    "\n"
   ]
  },
  {
   "cell_type": "code",
   "execution_count": 52,
   "id": "4fe953c1",
   "metadata": {},
   "outputs": [
    {
     "name": "stdout",
     "output_type": "stream",
     "text": [
      "earth\n",
      "earth\n",
      "earth\n",
      "earth\n",
      "earth\n"
     ]
    }
   ],
   "source": [
    "# Display \"earth\" 5 times\n",
    "print(\"earth\")\n",
    "print(\"earth\")\n",
    "print(\"earth\")\n",
    "print(\"earth\")\n",
    "print(\"earth\")\n"
   ]
  },
  {
   "cell_type": "code",
   "execution_count": 62,
   "id": "c2110ca9",
   "metadata": {},
   "outputs": [
    {
     "name": "stdout",
     "output_type": "stream",
     "text": [
      "1 earth\n",
      "2 earth\n",
      "3 earth\n",
      "4 earth\n",
      "5 earth\n"
     ]
    }
   ],
   "source": [
    "i = 1\n",
    "\n",
    "while i < 6 : \n",
    "    print(i, \"earth\")\n",
    "    i = i + 1"
   ]
  },
  {
   "cell_type": "code",
   "execution_count": 63,
   "id": "50d80fd0",
   "metadata": {},
   "outputs": [
    {
     "name": "stdout",
     "output_type": "stream",
     "text": [
      "5 earth\n",
      "4 earth\n",
      "3 earth\n",
      "2 earth\n",
      "1 earth\n"
     ]
    }
   ],
   "source": [
    "i = 5\n",
    "\n",
    "while i > 0 : \n",
    "    print(i, \"earth\")\n",
    "    i = i - 1"
   ]
  },
  {
   "cell_type": "code",
   "execution_count": 67,
   "id": "421a8ba8",
   "metadata": {},
   "outputs": [
    {
     "name": "stdout",
     "output_type": "stream",
     "text": [
      "1\n",
      "2\n",
      "3\n",
      "4\n"
     ]
    }
   ],
   "source": [
    "for i in range(1, 5, 1) :  # start, end, step\n",
    "    print(i)"
   ]
  },
  {
   "cell_type": "code",
   "execution_count": 66,
   "id": "5241293f",
   "metadata": {},
   "outputs": [
    {
     "name": "stdout",
     "output_type": "stream",
     "text": [
      "5\n",
      "4\n",
      "3\n",
      "2\n",
      "1\n"
     ]
    }
   ],
   "source": [
    "for i in range(5, 0, -1) :  # start, end, step\n",
    "    print(i)"
   ]
  },
  {
   "cell_type": "code",
   "execution_count": null,
   "id": "bc868dfa",
   "metadata": {},
   "outputs": [],
   "source": []
  },
  {
   "cell_type": "code",
   "execution_count": 13,
   "id": "8ebdd03a",
   "metadata": {},
   "outputs": [
    {
     "name": "stdout",
     "output_type": "stream",
     "text": [
      "0\n",
      "Mention Animal Name : lion\n",
      "lion\n",
      "1\n",
      "Mention Animal Name : tiger\n",
      "tiger\n",
      "2\n",
      "Mention Animal Name : zebra\n",
      "zebra\n",
      "Program Ended\n"
     ]
    }
   ],
   "source": [
    "# Take 3 animal names from the user and display it\n",
    "\n",
    "for nitish in range(0, 3) : # 0 1 2\n",
    "#     print(nitish)\n",
    "    animalName = input(\"Mention Animal Name : \")\n",
    "    print(animalName)\n",
    "\n",
    "print(\"Program Ended\")"
   ]
  },
  {
   "cell_type": "code",
   "execution_count": null,
   "id": "552ac37c",
   "metadata": {},
   "outputs": [],
   "source": [
    "## TIP : If stuck with WHILE loop, then INTERRUPT it"
   ]
  },
  {
   "cell_type": "code",
   "execution_count": 70,
   "id": "bea69e0b",
   "metadata": {},
   "outputs": [
    {
     "name": "stdout",
     "output_type": "stream",
     "text": [
      "0\n",
      "Mention Animal Name : lion\n",
      "lion\n",
      "1\n",
      "Mention Animal Name : tiger\n",
      "tiger\n",
      "2\n",
      "Mention Animal Name : zebra\n",
      "zebra\n"
     ]
    }
   ],
   "source": [
    "# Take 3 animal names from the user and display it\n",
    "\n",
    "yy = 0\n",
    "while yy <= 2 : \n",
    "    print(yy)\n",
    "    animalName = input(\"Mention Animal Name : \")\n",
    "    print(animalName)\n",
    "    yy = yy + 1\n"
   ]
  },
  {
   "cell_type": "code",
   "execution_count": 72,
   "id": "cf69bf44",
   "metadata": {},
   "outputs": [
    {
     "name": "stdout",
     "output_type": "stream",
     "text": [
      "*\n",
      "**\n",
      "***\n"
     ]
    }
   ],
   "source": [
    "# *\n",
    "# **\n",
    "# ***\n",
    "\n",
    "k = 1\n",
    "while k <= 3 : \n",
    "    print(k * \"*\")\n",
    "    k = k + 1\n",
    "\n"
   ]
  },
  {
   "cell_type": "code",
   "execution_count": null,
   "id": "e0ac344b",
   "metadata": {},
   "outputs": [],
   "source": [
    "1\n",
    "22\n",
    "333"
   ]
  },
  {
   "cell_type": "code",
   "execution_count": null,
   "id": "db7332b0",
   "metadata": {},
   "outputs": [],
   "source": [
    "p\n",
    "yy\n",
    "ttt"
   ]
  },
  {
   "cell_type": "code",
   "execution_count": 1,
   "id": "e6317dba",
   "metadata": {},
   "outputs": [
    {
     "name": "stdout",
     "output_type": "stream",
     "text": [
      "red apple\n",
      "red banana\n",
      "red cherry\n",
      "big apple\n",
      "big banana\n",
      "big cherry\n",
      "tasty apple\n",
      "tasty banana\n",
      "tasty cherry\n"
     ]
    }
   ],
   "source": [
    "adj = [\"red\", \"big\", \"tasty\"]\n",
    "fruits = [\"apple\", \"banana\", \"cherry\"]\n",
    "\n",
    "for x in adj:\n",
    "  for y in fruits:\n",
    "    print(x, y)"
   ]
  }
 ],
 "metadata": {
  "kernelspec": {
   "display_name": "base",
   "language": "python",
   "name": "python3"
  },
  "language_info": {
   "codemirror_mode": {
    "name": "ipython",
    "version": 3
   },
   "file_extension": ".py",
   "mimetype": "text/x-python",
   "name": "python",
   "nbconvert_exporter": "python",
   "pygments_lexer": "ipython3",
   "version": "3.9.13"
  },
  "vscode": {
   "interpreter": {
    "hash": "5ae58900cfbb8c43ab3495913814b7cf26024f51651a94ce8bf64d6111688e8d"
   }
  }
 },
 "nbformat": 4,
 "nbformat_minor": 5
}

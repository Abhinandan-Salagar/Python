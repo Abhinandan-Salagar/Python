{
 "cells": [
  {
   "cell_type": "markdown",
   "id": "3d30d547",
   "metadata": {},
   "source": [
    "# is operator (Identity Operator)\n",
    "\n",
    "- They have the same address\n",
    "- they belong to same datatype class\n",
    "- return TRUE if expression is correct \n"
   ]
  },
  {
   "cell_type": "code",
   "execution_count": 3,
   "id": "38f79726",
   "metadata": {},
   "outputs": [
    {
     "name": "stdout",
     "output_type": "stream",
     "text": [
      "num1 => 100; Memory Location => 1782656882128\n",
      "num1 => 100; Memory Location => 1782656882128\n",
      "True\n",
      "True\n"
     ]
    }
   ],
   "source": [
    "num1 = 100\n",
    "num2 = 100\n",
    "\n",
    "print( f\"num1 => {num1}; Memory Location => {id(num1)}\" )\n",
    "print( f\"num1 => {num2}; Memory Location => {id(num2)}\" )\n",
    "\n",
    "print( num1 == num2 )\n",
    "print( num1 is num2 )"
   ]
  },
  {
   "cell_type": "code",
   "execution_count": 19,
   "id": "26084052",
   "metadata": {},
   "outputs": [
    {
     "name": "stdout",
     "output_type": "stream",
     "text": [
      "True\n",
      "True\n"
     ]
    }
   ],
   "source": [
    "a = 256\n",
    "b = 256\n",
    "print(a is b)\n",
    "print(a == b)\n"
   ]
  },
  {
   "cell_type": "code",
   "execution_count": null,
   "id": "bbdab487",
   "metadata": {},
   "outputs": [],
   "source": []
  },
  {
   "cell_type": "code",
   "execution_count": null,
   "id": "ad7adbeb",
   "metadata": {},
   "outputs": [],
   "source": []
  },
  {
   "cell_type": "code",
   "execution_count": null,
   "id": "f81c9e5a",
   "metadata": {},
   "outputs": [],
   "source": []
  },
  {
   "cell_type": "code",
   "execution_count": null,
   "id": "090fa298",
   "metadata": {},
   "outputs": [],
   "source": []
  },
  {
   "cell_type": "code",
   "execution_count": null,
   "id": "b0655205",
   "metadata": {},
   "outputs": [],
   "source": []
  },
  {
   "cell_type": "code",
   "execution_count": null,
   "id": "321ad2cb",
   "metadata": {},
   "outputs": [],
   "source": []
  },
  {
   "cell_type": "code",
   "execution_count": null,
   "id": "4da146e8",
   "metadata": {},
   "outputs": [],
   "source": []
  },
  {
   "cell_type": "code",
   "execution_count": 6,
   "id": "701cab8c",
   "metadata": {},
   "outputs": [
    {
     "name": "stdout",
     "output_type": "stream",
     "text": [
      "num1 => 10.2; Memory Location => 1782739563952\n",
      "num1 => 10.2; Memory Location => 1782739996432\n",
      "True\n",
      "False\n"
     ]
    }
   ],
   "source": [
    "num1 = 10.2\n",
    "num2 = 10.2\n",
    "\n",
    "print( f\"num1 => {num1}; Memory Location => {id(num1)}\" )\n",
    "print( f\"num1 => {num2}; Memory Location => {id(num2)}\" )\n",
    "\n",
    "print( num1 == num2 )\n",
    "print( num1 is num2 )"
   ]
  },
  {
   "cell_type": "code",
   "execution_count": 5,
   "id": "86fdcb85",
   "metadata": {},
   "outputs": [
    {
     "name": "stdout",
     "output_type": "stream",
     "text": [
      "num1 => 1000; Memory Location => 1782739996208\n",
      "num1 => 1000; Memory Location => 1782739995184\n",
      "True\n",
      "False\n"
     ]
    }
   ],
   "source": [
    "num1 = 1000\n",
    "num2 = 1000\n",
    "\n",
    "print( f\"num1 => {num1}; Memory Location => {id(num1)}\" )\n",
    "print( f\"num1 => {num2}; Memory Location => {id(num2)}\" )\n",
    "\n",
    "print( num1 == num2 )\n",
    "print( num1 is num2 )"
   ]
  },
  {
   "cell_type": "code",
   "execution_count": null,
   "id": "237bc156",
   "metadata": {},
   "outputs": [],
   "source": []
  },
  {
   "cell_type": "code",
   "execution_count": null,
   "id": "016ad6e5",
   "metadata": {},
   "outputs": [],
   "source": [
    "#Bitwise Operators\n",
    "#Do below operations on the values provided below:-\n",
    "    #Bitwise and(&) -----------------------------------------> 10, 20   -------> Output is 0\n",
    "    #Bitwise or(|)  -----------------------------------------> 10, 20   -------> Output is 30\n",
    "    #Bitwise(^)  XOR ()   -----------------------------------------> 10, 20   -------> Output is 30\n",
    "    #Bitwise negation(~) ------------------------------------> 10       -------> Output is -11\n",
    "    #Bitwise left shift  ------------------------------------> 10,2     -------> Output is 40\n",
    "    #Bitwise right shift ------------------------------------> 10,2     -------> Output is 2\n",
    "#Cross check the output manually"
   ]
  },
  {
   "cell_type": "code",
   "execution_count": 41,
   "id": "7282cf97",
   "metadata": {},
   "outputs": [
    {
     "name": "stdout",
     "output_type": "stream",
     "text": [
      "False\n",
      "False\n",
      "-11\n"
     ]
    }
   ],
   "source": [
    "a=10\n",
    "b=10\n",
    "c=30\n",
    "print(a==b&b>c)\n",
    "print(a>b|b<c)\n",
    "print(~(a))"
   ]
  },
  {
   "cell_type": "markdown",
   "id": "b322f9b0",
   "metadata": {},
   "source": [
    "## Bitwise Operator"
   ]
  },
  {
   "cell_type": "markdown",
   "id": "8f59f111",
   "metadata": {},
   "source": [
    "#Bitwise(^)  XOR ()   -----------------------------------------> 10, 20   -------> Output is 30\n",
    "return 0 if all the values are equal else it return 1\n",
    "\n",
    "0 1   1 \n",
    "1 1   0\n",
    "0 0   0\n",
    "1 0   1\n"
   ]
  },
  {
   "cell_type": "code",
   "execution_count": null,
   "id": "d288fcee",
   "metadata": {},
   "outputs": [],
   "source": [
    "## Bitwise and (&)\n",
    "# - return TRUE if all the expressions are 1\n",
    "# - return False if any the expressions are 0\n",
    "\n",
    "# b1  b2  Output\n",
    "# 1   1   1\n",
    "# 0   1   0\n",
    "# 1   0   0\n",
    "# 0   0   0## Bitwise and (&)\n",
    "# - return TRUE if all the expressions are 1\n",
    "# - return False if any the expressions are 0\n",
    "\n",
    "# b1  b2  Output\n",
    "# 1   1   1\n",
    "# 0   1   0\n",
    "# 1   0   0\n",
    "# 0   0   0"
   ]
  },
  {
   "cell_type": "code",
   "execution_count": 9,
   "id": "6a0a5c27",
   "metadata": {},
   "outputs": [
    {
     "name": "stdout",
     "output_type": "stream",
     "text": [
      "2\n"
     ]
    }
   ],
   "source": [
    "b1 = 0b0011\n",
    "b2 = 0b1010\n",
    "\n",
    "# 0011\n",
    "# 1010\n",
    "\n",
    "# 0010\n",
    "\n",
    "print( b1 & b2 )\n",
    "\n",
    "\n"
   ]
  },
  {
   "cell_type": "code",
   "execution_count": 8,
   "id": "885050f5",
   "metadata": {},
   "outputs": [
    {
     "data": {
      "text/plain": [
       "2"
      ]
     },
     "execution_count": 8,
     "metadata": {},
     "output_type": "execute_result"
    }
   ],
   "source": [
    "0b0010"
   ]
  },
  {
   "cell_type": "code",
   "execution_count": null,
   "id": "0896aa23",
   "metadata": {},
   "outputs": [],
   "source": [
    "b1  b2\n",
    "\n",
    "0   1   0\n",
    "0   0   0\n",
    "1   1   1\n",
    "1   0   0"
   ]
  },
  {
   "cell_type": "code",
   "execution_count": 11,
   "id": "7fe1e2ab",
   "metadata": {},
   "outputs": [
    {
     "name": "stdout",
     "output_type": "stream",
     "text": [
      "0\n"
     ]
    },
    {
     "data": {
      "text/plain": [
       "'0b0'"
      ]
     },
     "execution_count": 11,
     "metadata": {},
     "output_type": "execute_result"
    }
   ],
   "source": [
    "b1 = 0b111000\n",
    "b2 = 0b0110\n",
    "\n",
    "print(b1 & b2)\n",
    "bin(b1 & b2)"
   ]
  },
  {
   "cell_type": "code",
   "execution_count": null,
   "id": "b3a107f7",
   "metadata": {},
   "outputs": [],
   "source": [
    "# 111000\n",
    "# 000110\n",
    "\n",
    "# 000000"
   ]
  },
  {
   "cell_type": "code",
   "execution_count": null,
   "id": "5c00c1bb",
   "metadata": {},
   "outputs": [],
   "source": []
  },
  {
   "cell_type": "code",
   "execution_count": null,
   "id": "465bd0ea",
   "metadata": {},
   "outputs": [],
   "source": []
  },
  {
   "cell_type": "code",
   "execution_count": null,
   "id": "df4162a1",
   "metadata": {},
   "outputs": [],
   "source": [
    "## Bitwise OR (|)\n",
    "# - return TRUE if any the expressions are 1\n",
    "# - return False if all the expressions are 0\n",
    "\n",
    "# b1  b2  Output\n",
    "# 1   1   1\n",
    "# 0   1   1\n",
    "# 1   0   1\n",
    "# 0   0   0"
   ]
  },
  {
   "cell_type": "code",
   "execution_count": 29,
   "id": "c41b50f9",
   "metadata": {},
   "outputs": [
    {
     "name": "stdout",
     "output_type": "stream",
     "text": [
      "10\n",
      "11\n"
     ]
    }
   ],
   "source": [
    "b1 = 0b0011\n",
    "b2 = 0b1010\n",
    "print(b2)\n",
    "# 0011\n",
    "# 1010\n",
    "\n",
    "# 1011\n",
    "\n",
    "print( b1 | b2 )"
   ]
  },
  {
   "cell_type": "code",
   "execution_count": 13,
   "id": "c4006620",
   "metadata": {},
   "outputs": [
    {
     "data": {
      "text/plain": [
       "11"
      ]
     },
     "execution_count": 13,
     "metadata": {},
     "output_type": "execute_result"
    }
   ],
   "source": [
    "int(0b1011)"
   ]
  },
  {
   "cell_type": "code",
   "execution_count": 17,
   "id": "0cc71f49",
   "metadata": {},
   "outputs": [
    {
     "name": "stdout",
     "output_type": "stream",
     "text": [
      "121\n"
     ]
    }
   ],
   "source": [
    "b1 = 0b1011001\n",
    "b2 = 0b1110001\n",
    "\n",
    "# b1 = 0b1011001\n",
    "# b2 = 0b1110001\n",
    "#        1111001\n",
    "\n",
    "print( b1 | b2 )"
   ]
  },
  {
   "cell_type": "code",
   "execution_count": 16,
   "id": "00ea53b6",
   "metadata": {},
   "outputs": [
    {
     "data": {
      "text/plain": [
       "121"
      ]
     },
     "execution_count": 16,
     "metadata": {},
     "output_type": "execute_result"
    }
   ],
   "source": [
    "int(0b1111001)"
   ]
  },
  {
   "cell_type": "code",
   "execution_count": null,
   "id": "66bcaa0f",
   "metadata": {},
   "outputs": [],
   "source": []
  },
  {
   "cell_type": "markdown",
   "id": "95507a2f",
   "metadata": {},
   "source": [
    "## Bitwise Negation (~)\n",
    "\n",
    "\n",
    "number ==> -(number + 1)\n",
    "\n",
    "--- 2's compliment related\n"
   ]
  },
  {
   "cell_type": "code",
   "execution_count": 23,
   "id": "67ae5294",
   "metadata": {},
   "outputs": [
    {
     "name": "stdout",
     "output_type": "stream",
     "text": [
      "-13\n"
     ]
    }
   ],
   "source": [
    "num = 12  # 0b1100\n",
    "print(~12)\n"
   ]
  },
  {
   "cell_type": "code",
   "execution_count": 24,
   "id": "29bb7e7e",
   "metadata": {},
   "outputs": [
    {
     "data": {
      "text/plain": [
       "'0b1100'"
      ]
     },
     "execution_count": 24,
     "metadata": {},
     "output_type": "execute_result"
    }
   ],
   "source": [
    "bin(12)"
   ]
  },
  {
   "cell_type": "code",
   "execution_count": 21,
   "id": "78306267",
   "metadata": {},
   "outputs": [
    {
     "name": "stdout",
     "output_type": "stream",
     "text": [
      "False\n"
     ]
    }
   ],
   "source": [
    "print( (47 > 10) and (9 < 3) )"
   ]
  },
  {
   "cell_type": "code",
   "execution_count": 22,
   "id": "b476faba",
   "metadata": {},
   "outputs": [
    {
     "name": "stdout",
     "output_type": "stream",
     "text": [
      "False\n"
     ]
    }
   ],
   "source": [
    "print( (47 > 10) & (9 < 3) )"
   ]
  },
  {
   "cell_type": "markdown",
   "id": "909cc9d5",
   "metadata": {},
   "source": [
    "## TIP :\n",
    "\n",
    "Python, R --> You have to use Bitwise Opertor &, |, ~ (EXCLUDE / NOT), while making a Data Query"
   ]
  },
  {
   "cell_type": "code",
   "execution_count": 45,
   "id": "3a664d82",
   "metadata": {},
   "outputs": [
    {
     "name": "stdout",
     "output_type": "stream",
     "text": [
      "100\n"
     ]
    }
   ],
   "source": [
    "print(0b00001100100)"
   ]
  },
  {
   "cell_type": "markdown",
   "id": "2d538506",
   "metadata": {},
   "source": [
    "# Bitwise left shift  ------------------------------------\n",
    "\n",
    "number << digits\n"
   ]
  },
  {
   "cell_type": "code",
   "execution_count": 33,
   "id": "967014b8",
   "metadata": {},
   "outputs": [
    {
     "data": {
      "text/plain": [
       "1600"
      ]
     },
     "execution_count": 33,
     "metadata": {},
     "output_type": "execute_result"
    }
   ],
   "source": [
    "100 << 4"
   ]
  },
  {
   "cell_type": "code",
   "execution_count": null,
   "id": "13308280",
   "metadata": {},
   "outputs": [],
   "source": [
    "# s1 : get the binary version of the number"
   ]
  },
  {
   "cell_type": "code",
   "execution_count": 25,
   "id": "8f33bb9b",
   "metadata": {
    "scrolled": true
   },
   "outputs": [
    {
     "data": {
      "text/plain": [
       "'0b1100100'"
      ]
     },
     "execution_count": 25,
     "metadata": {},
     "output_type": "execute_result"
    }
   ],
   "source": [
    "bin(100)"
   ]
  },
  {
   "cell_type": "code",
   "execution_count": null,
   "id": "5a3ac5e7",
   "metadata": {},
   "outputs": [],
   "source": [
    "# s2 : convert this representation to the 32 / 64 bit format"
   ]
  },
  {
   "cell_type": "code",
   "execution_count": 26,
   "id": "19e723fe",
   "metadata": {},
   "outputs": [
    {
     "data": {
      "text/plain": [
       "7"
      ]
     },
     "execution_count": 26,
     "metadata": {},
     "output_type": "execute_result"
    }
   ],
   "source": [
    "len( \"1100100\" )"
   ]
  },
  {
   "cell_type": "code",
   "execution_count": 28,
   "id": "30773ce4",
   "metadata": {},
   "outputs": [
    {
     "data": {
      "text/plain": [
       "32"
      ]
     },
     "execution_count": 28,
     "metadata": {},
     "output_type": "execute_result"
    }
   ],
   "source": [
    "len( \"00000000000000000000000001100100\" )"
   ]
  },
  {
   "cell_type": "code",
   "execution_count": 29,
   "id": "306a6644",
   "metadata": {},
   "outputs": [],
   "source": [
    "# s3 : shift the number to the left by digits"
   ]
  },
  {
   "cell_type": "code",
   "execution_count": 30,
   "id": "46209ee7",
   "metadata": {},
   "outputs": [
    {
     "data": {
      "text/plain": [
       "28"
      ]
     },
     "execution_count": 30,
     "metadata": {},
     "output_type": "execute_result"
    }
   ],
   "source": [
    "len( \"0000000000000000000001100100\" )"
   ]
  },
  {
   "cell_type": "code",
   "execution_count": null,
   "id": "9b8b118a",
   "metadata": {},
   "outputs": [],
   "source": [
    "# s4 : add that many 0-digits to the right"
   ]
  },
  {
   "cell_type": "code",
   "execution_count": 31,
   "id": "a170d732",
   "metadata": {},
   "outputs": [
    {
     "data": {
      "text/plain": [
       "32"
      ]
     },
     "execution_count": 31,
     "metadata": {},
     "output_type": "execute_result"
    }
   ],
   "source": [
    "len( \"00000000000000000000011001000000\" )"
   ]
  },
  {
   "cell_type": "code",
   "execution_count": null,
   "id": "c88c7210",
   "metadata": {},
   "outputs": [],
   "source": [
    "# s5 : Get the Numerical value of the binary answer"
   ]
  },
  {
   "cell_type": "code",
   "execution_count": 32,
   "id": "9c28a0e1",
   "metadata": {},
   "outputs": [
    {
     "data": {
      "text/plain": [
       "1600"
      ]
     },
     "execution_count": 32,
     "metadata": {},
     "output_type": "execute_result"
    }
   ],
   "source": [
    "int( 0b00000000000000000000011001000000)"
   ]
  },
  {
   "cell_type": "code",
   "execution_count": null,
   "id": "736e6640",
   "metadata": {},
   "outputs": [],
   "source": []
  },
  {
   "cell_type": "code",
   "execution_count": null,
   "id": "19959217",
   "metadata": {},
   "outputs": [],
   "source": []
  },
  {
   "cell_type": "markdown",
   "id": "98aca486",
   "metadata": {},
   "source": [
    "# Bitwise right shift ------------------------------------\n"
   ]
  },
  {
   "cell_type": "code",
   "execution_count": null,
   "id": "8b274d1b",
   "metadata": {},
   "outputs": [],
   "source": [
    "# s1 : get the binary version of the number"
   ]
  },
  {
   "cell_type": "code",
   "execution_count": null,
   "id": "6e52b5bf",
   "metadata": {},
   "outputs": [],
   "source": [
    "# s2 : convert this representation to the 32 / 64 bit format"
   ]
  },
  {
   "cell_type": "code",
   "execution_count": 28,
   "id": "2650bd15",
   "metadata": {},
   "outputs": [
    {
     "data": {
      "text/plain": [
       "32"
      ]
     },
     "execution_count": 28,
     "metadata": {},
     "output_type": "execute_result"
    }
   ],
   "source": [
    "len( \"00000000000000000000000001100100\" )"
   ]
  },
  {
   "cell_type": "code",
   "execution_count": 29,
   "id": "e72295c0",
   "metadata": {},
   "outputs": [],
   "source": [
    "# s3 : shift/remove the number to the right by digits"
   ]
  },
  {
   "cell_type": "code",
   "execution_count": 35,
   "id": "2b41d2bd",
   "metadata": {},
   "outputs": [
    {
     "data": {
      "text/plain": [
       "28"
      ]
     },
     "execution_count": 35,
     "metadata": {},
     "output_type": "execute_result"
    }
   ],
   "source": [
    "len( \"0000000000000000000000000110\" )"
   ]
  },
  {
   "cell_type": "code",
   "execution_count": null,
   "id": "b676d9cb",
   "metadata": {},
   "outputs": [],
   "source": [
    "# s4 : add that many 0-digits to the left"
   ]
  },
  {
   "cell_type": "code",
   "execution_count": 41,
   "id": "11ffa41e",
   "metadata": {},
   "outputs": [
    {
     "data": {
      "text/plain": [
       "32"
      ]
     },
     "execution_count": 41,
     "metadata": {},
     "output_type": "execute_result"
    }
   ],
   "source": [
    "len( \"00000000000000000000000000000110\" )"
   ]
  },
  {
   "cell_type": "code",
   "execution_count": null,
   "id": "52cb47f7",
   "metadata": {},
   "outputs": [],
   "source": [
    "# s5 : Get the Numerical value of the binary answer"
   ]
  },
  {
   "cell_type": "code",
   "execution_count": 42,
   "id": "cd20cbe8",
   "metadata": {},
   "outputs": [
    {
     "data": {
      "text/plain": [
       "6"
      ]
     },
     "execution_count": 42,
     "metadata": {},
     "output_type": "execute_result"
    }
   ],
   "source": [
    "int(0b00000000000000000000000000000110)"
   ]
  },
  {
   "cell_type": "code",
   "execution_count": 44,
   "id": "7873b82a",
   "metadata": {},
   "outputs": [
    {
     "data": {
      "text/plain": [
       "6"
      ]
     },
     "execution_count": 44,
     "metadata": {},
     "output_type": "execute_result"
    }
   ],
   "source": [
    "100 >> 4"
   ]
  },
  {
   "cell_type": "code",
   "execution_count": 67,
   "id": "d9c1e949",
   "metadata": {},
   "outputs": [
    {
     "name": "stdout",
     "output_type": "stream",
     "text": [
      "1600\n"
     ]
    }
   ],
   "source": [
    "print(0b11001000000)"
   ]
  }
 ],
 "metadata": {
  "kernelspec": {
   "display_name": "Python 3 (ipykernel)",
   "language": "python",
   "name": "python3"
  },
  "language_info": {
   "codemirror_mode": {
    "name": "ipython",
    "version": 3
   },
   "file_extension": ".py",
   "mimetype": "text/x-python",
   "name": "python",
   "nbconvert_exporter": "python",
   "pygments_lexer": "ipython3",
   "version": "3.9.13"
  }
 },
 "nbformat": 4,
 "nbformat_minor": 5
}

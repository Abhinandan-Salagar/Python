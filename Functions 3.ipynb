{
 "cells": [
  {
   "cell_type": "markdown",
   "id": "3c64f271",
   "metadata": {},
   "source": [
    "# Functions 3"
   ]
  },
  {
   "cell_type": "markdown",
   "id": "d0f2a51b",
   "metadata": {},
   "source": [
    "## lambda\n",
    "\n",
    "- single line functions\n",
    "- it can exist without a FUNCTIONName also. No Function Calling is then AVAILABLE\n",
    "- def less function\n",
    "\n",
    "\n",
    "Syntax :: lambda arguments : expression \n",
    "\n"
   ]
  },
  {
   "cell_type": "code",
   "execution_count": null,
   "id": "5f5db1be",
   "metadata": {},
   "outputs": [],
   "source": [
    "if  expression: \n",
    "    statements\n",
    "    statements\n",
    "    statements\n",
    "else : \n",
    "    statements\n",
    "    statements\n",
    "    "
   ]
  },
  {
   "cell_type": "code",
   "execution_count": null,
   "id": "fc28763c",
   "metadata": {},
   "outputs": [],
   "source": [
    "if  expression: \n",
    "    statements\n",
    "else : \n",
    "    statements\n",
    "\n",
    "outputOfIF if expression else outputOfELSE\n",
    "    \n",
    "    "
   ]
  },
  {
   "cell_type": "markdown",
   "id": "9c8a1ce1",
   "metadata": {},
   "source": [
    "### Def Syntax\n",
    "\n",
    "**Funtion Declaration**\n",
    "def functionName(a1, a2) :   --- Formal Arguments\n",
    "    statements\n",
    "    statements\n",
    "    \n",
    "    value = _____________________\n",
    "    return value #### To take the value out of the funtion\n",
    "\n",
    "**Calling the Funtion**\n",
    "functionName(a1, a2)       --- Actual Arguments\n",
    "\n",
    "\n",
    "### Lambda Syntax\n",
    "\n",
    "**Funtion Declaration**\n",
    "functionName = lambda a1, a2 : statements\n",
    "\n",
    "**Calling the Funtion**\n",
    "functionName(a1, a2)    \n",
    "\n"
   ]
  },
  {
   "cell_type": "code",
   "execution_count": 4,
   "id": "2d6e7f01",
   "metadata": {},
   "outputs": [
    {
     "name": "stdout",
     "output_type": "stream",
     "text": [
      "<class 'function'>\n",
      "10.0\n"
     ]
    }
   ],
   "source": [
    "## Get Squareroot\n",
    "\n",
    "def getSquareroot(x) : \n",
    "    return x ** 0.5\n",
    "\n",
    "print( type( getSquareroot ) )\n",
    "print( getSquareroot( 100 ) )\n"
   ]
  },
  {
   "cell_type": "code",
   "execution_count": 5,
   "id": "512ea391",
   "metadata": {},
   "outputs": [
    {
     "name": "stdout",
     "output_type": "stream",
     "text": [
      "<class 'function'>\n",
      "10.0\n"
     ]
    }
   ],
   "source": [
    "## Get Squareroot\n",
    "\n",
    "getSquareroot2 = lambda x : x ** 0.5  # common activity if you apply a function on single data row or data column\n",
    "\n",
    "print( type( getSquareroot2 ) )\n",
    "print( getSquareroot2( 100 ) )\n"
   ]
  },
  {
   "cell_type": "code",
   "execution_count": 6,
   "id": "204751af",
   "metadata": {},
   "outputs": [
    {
     "data": {
      "text/plain": [
       "<function __main__.<lambda>(x)>"
      ]
     },
     "execution_count": 6,
     "metadata": {},
     "output_type": "execute_result"
    }
   ],
   "source": [
    "lambda x : x ** 0.5"
   ]
  },
  {
   "cell_type": "code",
   "execution_count": 11,
   "id": "3190691f",
   "metadata": {},
   "outputs": [
    {
     "name": "stdout",
     "output_type": "stream",
     "text": [
      "even\n",
      "odd\n"
     ]
    }
   ],
   "source": [
    "# Weather number is even odd\n",
    "def evenodd(x):\n",
    "    if x%2 == 0:\n",
    "        return \"even\"\n",
    "    else:\n",
    "        return \"odd\"\n",
    "\n",
    "print( evenodd(10) )\n",
    "print( evenodd(11) )"
   ]
  },
  {
   "cell_type": "code",
   "execution_count": 13,
   "id": "c63cf301",
   "metadata": {},
   "outputs": [
    {
     "name": "stdout",
     "output_type": "stream",
     "text": [
      "Even\n",
      "Odd\n"
     ]
    }
   ],
   "source": [
    "even_or_odd = lambda x: \"Even\" if x % 2 == 0 else \"Odd\"\n",
    "print( even_or_odd(10) )\n",
    "print( even_or_odd(11) )\n"
   ]
  },
  {
   "cell_type": "code",
   "execution_count": 14,
   "id": "a164f1a7",
   "metadata": {},
   "outputs": [
    {
     "name": "stdout",
     "output_type": "stream",
     "text": [
      "Enter the word: madam\n",
      "Palindrome\n",
      "Enter the word: 1547\n",
      "Not a Palindrome\n"
     ]
    }
   ],
   "source": [
    "# Weather word is palindrome\n",
    "\n",
    "def palindrome(word) :\n",
    "    if word[ : :1] == word[ : :-1] :\n",
    "        return \"Palindrome\"\n",
    "    else :\n",
    "        return  \"Not a Palindrome\"\n",
    "\n",
    "word = str(input(\"Enter the word: \")).strip()\n",
    "print( palindrome(word) )\n",
    "\n",
    "word = str(input(\"Enter the word: \")).strip()\n",
    "print( palindrome(word) )\n",
    "\n"
   ]
  },
  {
   "cell_type": "code",
   "execution_count": 16,
   "id": "41cbaed6",
   "metadata": {},
   "outputs": [
    {
     "name": "stdout",
     "output_type": "stream",
     "text": [
      "Palindrome\n",
      "Not a Palindrome\n"
     ]
    }
   ],
   "source": [
    "palin_fun = lambda w : \"Palindrome\" if w[ : : 1] == w[ : : -1] else \"Not a Palindrome\"\n",
    "\n",
    "print( palin_fun('madam') )\n",
    "print( palin_fun('16242') )"
   ]
  },
  {
   "cell_type": "code",
   "execution_count": null,
   "id": "7e4d4f28",
   "metadata": {},
   "outputs": [],
   "source": []
  },
  {
   "cell_type": "markdown",
   "id": "9ffb41be",
   "metadata": {},
   "source": [
    "### Filter : \n",
    "\n",
    "- Objective is to Filter the values ONLY. FINDING THE VALUES\n",
    "- Output size may or may not be equal to the Input Size\n",
    "\n",
    "filter( FunctionName, seqName ) # Use a for loop on the seqName and apply the function one by one on every element"
   ]
  },
  {
   "cell_type": "code",
   "execution_count": 24,
   "id": "ef2931f8",
   "metadata": {},
   "outputs": [
    {
     "name": "stdout",
     "output_type": "stream",
     "text": [
      "['naman', ' 75357', 'Madam  ', ' noon ', 8520258]\n",
      "['naman', ' 75357', 'Madam  ', ' noon ', 8520258]\n"
     ]
    }
   ],
   "source": [
    "# find the words that are in palindrome. You can also take care of coverting all characters to lowercases\n",
    "# Input\n",
    "words = [ \"naman\", \" 75357\", \"Madam  \", 57842, False, \"   Orange  \", \" noon \" , 8520258]\n",
    "# output : [ \"naman\", \" 75357\", \"Madam  \", \" noon \" , 8520258]\n",
    "\n",
    "# Way1\n",
    "newList = []\n",
    "for w in words : \n",
    "    if str(w).strip().lower()[ : : 1] == str(w).strip().lower()[ : : -1] : \n",
    "        newList.append(w)\n",
    "\n",
    "print( newList )\n",
    "\n",
    "\n",
    "# Way2\n",
    "newList = [w for w in words if str(w).strip().lower()[ : : 1] == str(w).strip().lower()[ : : -1]  ]\n",
    "print( newList )\n"
   ]
  },
  {
   "cell_type": "code",
   "execution_count": 26,
   "id": "faa97969",
   "metadata": {},
   "outputs": [
    {
     "name": "stdout",
     "output_type": "stream",
     "text": [
      "['naman', ' 75357', 'Madam  ', ' noon ', 8520258]\n",
      "['naman', ' 75357', 'Madam  ', ' noon ', 8520258]\n"
     ]
    }
   ],
   "source": [
    "# find the words that are in palindrome. You can also take care of coverting all characters to lowercases\n",
    "# Input\n",
    "words = [ \"naman\", \" 75357\", \"Madam  \", 57842, False, \"   Orange  \", \" noon \" , 8520258]\n",
    "# output : [ \"naman\", \" 75357\", \"Madam  \", \" noon \" , 8520258]\n",
    "\n",
    "# Way3\n",
    "\n",
    "def palin_check(w) :\n",
    "    if str(w).strip().lower()[ : : 1] == str(w).strip().lower()[ : : -1] : \n",
    "        return True\n",
    "    else :\n",
    "        return False\n",
    "    \n",
    "newList = []\n",
    "for w in words : \n",
    "    if palin_check(w) : \n",
    "        newList.append(w)\n",
    "print( newList )\n",
    "\n",
    "\n",
    "newList = [w for w in words if palin_check(w)]\n",
    "print( newList )\n",
    "\n"
   ]
  },
  {
   "cell_type": "code",
   "execution_count": 6,
   "id": "f02c2d8e",
   "metadata": {},
   "outputs": [
    {
     "data": {
      "text/plain": [
       "['naman', ' 75357', 'Madam  ', ' noon ', 8520258]"
      ]
     },
     "execution_count": 6,
     "metadata": {},
     "output_type": "execute_result"
    }
   ],
   "source": [
    "words = [ \"naman\", \" 75357\", \"Madam  \", 57842, False, \"   Orange  \", \" noon \" , 8520258]\n",
    "# output : [ \"naman\", \" 75357\", \"Madam  \", \" noon \" , 8520258]\n",
    "\n",
    "# Way3\n",
    "\n",
    "def palin_check(w) :\n",
    "    newList = []\n",
    "    for w in words :\n",
    "      if str(w).strip().lower()[ : : 1] == str(w).strip().lower()[ : : -1] : \n",
    "        newList.append(w)\n",
    "    return newList   \n",
    "palin_check(words)\n"
   ]
  },
  {
   "cell_type": "code",
   "execution_count": 131,
   "id": "c7a2263f",
   "metadata": {},
   "outputs": [
    {
     "name": "stdout",
     "output_type": "stream",
     "text": [
      "['naman', ' 75357', 'Madam  ', ' noon ', 8520258]\n"
     ]
    }
   ],
   "source": [
    "# find the words that are in palindrome. You can also take care of coverting all characters to lowercases\n",
    "# Input\n",
    "words = [ \"naman\", \" 75357\", \"Madam  \", 57842, False, \"   Orange  \", \" noon \" , 8520258]\n",
    "# output : [ \"naman\", \" 75357\", \"Madam  \", \" noon \" , 8520258]\n",
    "\n",
    "# Way4\n",
    "\n",
    "palin_lambda = lambda w : [w for w in words if str(w).strip().lower()[ : : 1] == str(w).strip().lower()[ : : -1]]\n",
    "print( palin_lambda(words) )\n",
    "\n"
   ]
  },
  {
   "cell_type": "code",
   "execution_count": 32,
   "id": "f7a04ba0",
   "metadata": {},
   "outputs": [
    {
     "name": "stdout",
     "output_type": "stream",
     "text": [
      "<filter object at 0x00000187B691D790>\n",
      "['naman', ' 75357', 'Madam  ', ' noon ', 8520258]\n",
      "<filter object at 0x00000187B691D0A0>\n",
      "['naman', ' 75357', 'Madam  ', ' noon ', 8520258]\n",
      "<filter object at 0x00000187B691D790>\n",
      "['naman', ' 75357', 'Madam  ', ' noon ', 8520258]\n"
     ]
    }
   ],
   "source": [
    "# find the words that are in palindrome. You can also take care of coverting all characters to lowercases\n",
    "# Input\n",
    "words = [ \"naman\", \" 75357\", \"Madam  \", 57842, False, \"   Orange  \", \" noon \" , 8520258]\n",
    "# output : [ \"naman\", \" 75357\", \"Madam  \", \" noon \" , 8520258]\n",
    "\n",
    "# Way5\n",
    "\n",
    "def palin_check(w) :\n",
    "    if str(w).strip().lower()[ : : 1] == str(w).strip().lower()[ : : -1] : \n",
    "        return True\n",
    "    else :\n",
    "        return False\n",
    "\n",
    "palin_lambda = lambda w : True if str(w).strip().lower()[ : : 1] == str(w).strip().lower()[ : : -1] else False\n",
    "    \n",
    "print( filter( palin_check, words  ) )\n",
    "print( list( filter( palin_check, words  ) ) )\n",
    "\n",
    "print( filter( palin_lambda, words  ) )\n",
    "print( list( filter( palin_lambda, words  ) ) )\n",
    "\n",
    "\n",
    "print( filter( lambda w : True if str(w).strip().lower()[ : : 1] == str(w).strip().lower()[ : : -1] else False, words  ) )\n",
    "print( list( filter( lambda w : True if str(w).strip().lower()[ : : 1] == str(w).strip().lower()[ : : -1] else False, words  ) ) )\n"
   ]
  },
  {
   "cell_type": "code",
   "execution_count": null,
   "id": "c0c06917",
   "metadata": {},
   "outputs": [],
   "source": []
  },
  {
   "cell_type": "code",
   "execution_count": null,
   "id": "46dbbdf9",
   "metadata": {},
   "outputs": [],
   "source": []
  },
  {
   "cell_type": "code",
   "execution_count": null,
   "id": "04b92b9c",
   "metadata": {},
   "outputs": [],
   "source": [
    "# For the given list find out the Even  Numbers ONLY\n",
    "numbers = [ 2, 5, 11, 0, 8, 6, 13, 23, 45  ]\n",
    "\n"
   ]
  },
  {
   "cell_type": "code",
   "execution_count": null,
   "id": "30aee871",
   "metadata": {},
   "outputs": [],
   "source": []
  },
  {
   "cell_type": "code",
   "execution_count": null,
   "id": "361d536e",
   "metadata": {},
   "outputs": [],
   "source": []
  },
  {
   "cell_type": "code",
   "execution_count": null,
   "id": "bf190ee0",
   "metadata": {},
   "outputs": [],
   "source": []
  },
  {
   "cell_type": "code",
   "execution_count": 80,
   "id": "3523306a",
   "metadata": {},
   "outputs": [
    {
     "name": "stdout",
     "output_type": "stream",
     "text": [
      "[2, 120, 39916800, 1, 40320, 720]\n"
     ]
    }
   ],
   "source": [
    "# For the given list find the factorial of the numbers...\n",
    "# Apply all possible Ways 1 - 4 shared Above\n",
    "numbers = [ 2, 5, 11, -3, 0, 8, -4, 6  ]\n",
    "newList=[]\n",
    "for i in numbers:\n",
    "    if i < 0  :\n",
    "        continue   \n",
    "    fact =1\n",
    "    for j in range(i,0,-1):\n",
    "        fact=fact*j    \n",
    "    newList.append(fact)       \n",
    "print(newList)\n",
    "                                                                                                                                  \n"
   ]
  },
  {
   "cell_type": "code",
   "execution_count": null,
   "id": "d3e2ecd1",
   "metadata": {},
   "outputs": [],
   "source": [
    "# Way 1\n",
    "\n",
    "numbers = [ 2, 5, 11, -3, 0, 8, -4, 6  ]\n",
    "newList=[]\n",
    "for i in numbers:\n",
    "    if i < 0  :\n",
    "        continue   \n",
    "    fact =1\n",
    "    for j in range(i,0,-1):\n",
    "        fact=fact*j    \n",
    "    newList.append(fact)       \n",
    "print(newList)\n"
   ]
  },
  {
   "cell_type": "code",
   "execution_count": 84,
   "id": "1b938ed0",
   "metadata": {},
   "outputs": [
    {
     "data": {
      "text/plain": [
       "[2, 120, 39916800, 1, 40320, 720]"
      ]
     },
     "execution_count": 84,
     "metadata": {},
     "output_type": "execute_result"
    }
   ],
   "source": [
    "# Way 2\n",
    "\n",
    "numbers = [ 2, 5, 11, -3, 0, 8, -4, 6  ]\n",
    "newList=[]\n",
    "def find_fact():\n",
    "    for i in numbers:\n",
    "        if i < 0  :\n",
    "            continue   \n",
    "        fact =1\n",
    "        for j in range(i,0,-1):\n",
    "            fact=fact*j    \n",
    "        newList.append(fact)    \n",
    "    return newList   \n",
    "find_fact()\n"
   ]
  },
  {
   "cell_type": "code",
   "execution_count": 90,
   "id": "89a2d121",
   "metadata": {},
   "outputs": [
    {
     "ename": "SyntaxError",
     "evalue": "invalid syntax (1474385163.py, line 17)",
     "output_type": "error",
     "traceback": [
      "\u001b[1;36m  File \u001b[1;32m\"C:\\Users\\DELL\\AppData\\Local\\Temp\\ipykernel_4776\\1474385163.py\"\u001b[1;36m, line \u001b[1;32m17\u001b[0m\n\u001b[1;33m    res=lambda n:[newList.append(fact) for j in range(i,0,-1)  for i in numbers continue if i < 0]\u001b[0m\n\u001b[1;37m                                                                                ^\u001b[0m\n\u001b[1;31mSyntaxError\u001b[0m\u001b[1;31m:\u001b[0m invalid syntax\n"
     ]
    }
   ],
   "source": [
    "# Way 3\n",
    "\n",
    "numbers = [ 2, 5, 11, -3, 0, 8, -4, 6  ]\n",
    "newList=[]\n",
    "#fact_lambda = lambda n : [n for n in numbers if str(w).strip().lower()[ : : 1] == str(w).strip().lower()[ : : -1]]\n",
    "print( palin_lambda(words) )\n",
    "def find_fact():\n",
    "    for i in numbers:\n",
    "        if i < 0  :\n",
    "            continue   \n",
    "        fact =1\n",
    "        for j in range(i,0,-1):\n",
    "            fact=fact*j    \n",
    "        newList.append(fact)    \n",
    "    return newList   \n",
    "find_fact()\n"
   ]
  },
  {
   "cell_type": "code",
   "execution_count": 158,
   "id": "babe0280",
   "metadata": {},
   "outputs": [
    {
     "name": "stdout",
     "output_type": "stream",
     "text": [
      "[2, 5, 11, 0, 8, 6]\n"
     ]
    },
    {
     "data": {
      "text/plain": [
       "[2, 120, 39916800, 1, 40320, 720]"
      ]
     },
     "execution_count": 158,
     "metadata": {},
     "output_type": "execute_result"
    }
   ],
   "source": [
    "# Way 3\n",
    "numbers = [ 2, 5, 11, -3, 0, 8, -4, 6  ]\n",
    "nl=[]\n",
    "import math\n",
    "for i in numbers:\n",
    "    if i<0:\n",
    "        continue\n",
    "    else:\n",
    "        nl.append(i)       \n",
    "print(nl) \n",
    "[math.factorial(n) for n in nl ]"
   ]
  },
  {
   "cell_type": "code",
   "execution_count": null,
   "id": "13172b61",
   "metadata": {},
   "outputs": [],
   "source": [
    "# For the given list find the Square of the numbers...\n",
    "# Apply all possible Ways 1 - 4 shared Above\n",
    "numbers = [ 2, 5, 11, -3, 0, 8, -4, 6  ]\n"
   ]
  },
  {
   "cell_type": "code",
   "execution_count": 159,
   "id": "8ed08eea",
   "metadata": {},
   "outputs": [
    {
     "name": "stdout",
     "output_type": "stream",
     "text": [
      "[4, 25, 121, 9, 0, 64, 16, 36]\n"
     ]
    }
   ],
   "source": [
    "# Way 1\n",
    "\n",
    "numbers = [ 2, 5, 11, -3, 0, 8, -4, 6  ]\n",
    "newList=[]\n",
    "for i in numbers:   \n",
    "    num=i*i     \n",
    "    newList.append(num)       \n",
    "print(newList)\n"
   ]
  },
  {
   "cell_type": "code",
   "execution_count": 160,
   "id": "343fdebb",
   "metadata": {},
   "outputs": [
    {
     "data": {
      "text/plain": [
       "[4, 25, 121, 9, 0, 64, 16, 36]"
      ]
     },
     "execution_count": 160,
     "metadata": {},
     "output_type": "execute_result"
    }
   ],
   "source": [
    "# Way 2\n",
    "\n",
    "numbers = [ 2, 5, 11, -3, 0, 8, -4, 6  ]\n",
    "newList=[]\n",
    "def squre_num():\n",
    "    for i in numbers:   \n",
    "        num=i*i     \n",
    "        newList.append(num)       \n",
    "    return newList\n",
    "squre_num()"
   ]
  },
  {
   "cell_type": "code",
   "execution_count": 171,
   "id": "554a24e9",
   "metadata": {},
   "outputs": [
    {
     "name": "stdout",
     "output_type": "stream",
     "text": [
      "[2, 5, 11, -3, 0, 8, -4, 6]\n"
     ]
    }
   ],
   "source": [
    "# Way 3\n",
    "\n",
    "numbers = [ 2, 5, 11, -3, 0, 8, -4, 6  ]\n",
    "newList=[]\n",
    "square_lambda=list[lambda n:[newList.append(i*i) for i in numbers]]\n",
    "print(square_lambda(numbers))"
   ]
  },
  {
   "cell_type": "code",
   "execution_count": null,
   "id": "10906dd8",
   "metadata": {},
   "outputs": [],
   "source": []
  },
  {
   "cell_type": "code",
   "execution_count": null,
   "id": "1b30be24",
   "metadata": {},
   "outputs": [],
   "source": []
  },
  {
   "cell_type": "code",
   "execution_count": null,
   "id": "5e2d4941",
   "metadata": {},
   "outputs": [],
   "source": []
  },
  {
   "cell_type": "code",
   "execution_count": null,
   "id": "099a85c6",
   "metadata": {},
   "outputs": [],
   "source": []
  }
 ],
 "metadata": {
  "kernelspec": {
   "display_name": "Python 3 (ipykernel)",
   "language": "python",
   "name": "python3"
  },
  "language_info": {
   "codemirror_mode": {
    "name": "ipython",
    "version": 3
   },
   "file_extension": ".py",
   "mimetype": "text/x-python",
   "name": "python",
   "nbconvert_exporter": "python",
   "pygments_lexer": "ipython3",
   "version": "3.9.13"
  }
 },
 "nbformat": 4,
 "nbformat_minor": 5
}

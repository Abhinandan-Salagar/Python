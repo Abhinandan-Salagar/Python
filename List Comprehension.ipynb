{
 "cells": [
  {
   "cell_type": "markdown",
   "id": "43215b9f",
   "metadata": {},
   "source": [
    "Ternary Operations\n",
    "\n",
    "output_Of_If if expression else output_OF_Else"
   ]
  },
  {
   "cell_type": "markdown",
   "id": "9e1392fd",
   "metadata": {},
   "source": [
    "# List Comprehension\n",
    "\n",
    "- Approach to create new List depending on different scenarios depending if it can be done in 1-2 lines\n",
    "\n",
    "-- Purpose : Store the values\n",
    "\n",
    "[output_of_ForLoop for i in list]\n",
    "\n",
    "\n",
    "-- Purpose : Filter the values on the basis of expression\n",
    "\n",
    "[output_of_ForLoop for i in list if expression]\n",
    "\n",
    "\n",
    "-- Purpose : Execute the DIFFERENT Action on the basis of expression\n",
    "\n",
    "[output_of_If if expression else output_ofELSE for i in list ]\n",
    "\n"
   ]
  },
  {
   "cell_type": "code",
   "execution_count": 3,
   "id": "576d48a4",
   "metadata": {},
   "outputs": [
    {
     "name": "stdout",
     "output_type": "stream",
     "text": [
      "[8, 3, 0, -5, 10, 5, -11, 4, -6, 5.2]\n",
      "[8, 3, 0, -5, 10, 5, -11, 4, -6, 5.2]\n",
      "[8, 3, 0, -5, 10, 5, -11, 4, -6, 5.2]\n"
     ]
    }
   ],
   "source": [
    "# Create a new list using below ? \n",
    "inputList = [8, 3, 0, -5, 10, 5, -11, 4, -6, 5.2]\n",
    "\n",
    "newList = inputList.copy()\n",
    "print(newList)\n",
    "\n",
    "newList = inputList\n",
    "print(newList)\n",
    "\n",
    "\n",
    "newList = []\n",
    "for i in inputList : \n",
    "    newList.append(i)\n",
    "print(newList)\n",
    "    \n"
   ]
  },
  {
   "cell_type": "code",
   "execution_count": 8,
   "id": "e139a6ab",
   "metadata": {},
   "outputs": [
    {
     "name": "stdout",
     "output_type": "stream",
     "text": [
      "[8, 3, 0, -5, 10, 5, -11, 4, -6, 5.2]\n",
      "[8, 3, 0, -5, 10, 5, -11, 4, -6, 5.2]\n"
     ]
    }
   ],
   "source": [
    "inputList = [8, 3, 0, -5, 10, 5, -11, 4, -6, 5.2]\n",
    "\n",
    "newList = [ i for i in inputList ]\n",
    "print( newList )\n",
    "\n",
    "newList = [ inputList[i] for i in  range(0, len( inputList) ) ]\n",
    "print( newList )\n"
   ]
  },
  {
   "cell_type": "code",
   "execution_count": 4,
   "id": "14ca83bd",
   "metadata": {},
   "outputs": [
    {
     "name": "stdout",
     "output_type": "stream",
     "text": [
      "How many Names : 3\n",
      "Animal Name : lion\n",
      "Animal Name : tiger\n",
      "Animal Name : zebra\n"
     ]
    },
    {
     "data": {
      "text/plain": [
       "['lion', 'tiger', 'zebra']"
      ]
     },
     "execution_count": 4,
     "metadata": {},
     "output_type": "execute_result"
    }
   ],
   "source": [
    "# store all the aninal names taken from the user to the list\n",
    "\n",
    "animals = []\n",
    "totalName = int(input( \"How many Names : \" )) # 3\n",
    "\n",
    "for i in range(totalName) : \n",
    "#     name = input(\"Animal Name : \")\n",
    "#     animals.append(name)\n",
    "    animals.append(input(\"Animal Name : \"))\n",
    "animals\n"
   ]
  },
  {
   "cell_type": "code",
   "execution_count": 9,
   "id": "257ee697",
   "metadata": {},
   "outputs": [
    {
     "name": "stdout",
     "output_type": "stream",
     "text": [
      "How many Names : 3\n",
      "Animal Name : lion\n",
      "Animal Name : tiger\n",
      "Animal Name : zebra\n"
     ]
    }
   ],
   "source": [
    "totalName = int(input( \"How many Names : \" )) # 3\n",
    "\n",
    "animals = [  input(\"Animal Name : \") for i in range(totalName) ]"
   ]
  },
  {
   "cell_type": "code",
   "execution_count": 10,
   "id": "ea5b93cd",
   "metadata": {},
   "outputs": [
    {
     "data": {
      "text/plain": [
       "['lion', 'tiger', 'zebra']"
      ]
     },
     "execution_count": 10,
     "metadata": {},
     "output_type": "execute_result"
    }
   ],
   "source": [
    "animals"
   ]
  },
  {
   "cell_type": "code",
   "execution_count": null,
   "id": "602ac6e3",
   "metadata": {},
   "outputs": [],
   "source": []
  },
  {
   "cell_type": "code",
   "execution_count": null,
   "id": "5772ff57",
   "metadata": {},
   "outputs": [],
   "source": []
  },
  {
   "cell_type": "code",
   "execution_count": 17,
   "id": "02354bf1",
   "metadata": {},
   "outputs": [
    {
     "name": "stdout",
     "output_type": "stream",
     "text": [
      "[64, 9, 0, 25, 100, 25, 121, 16, 36, 28.09]\n",
      "[64, 9, 0, 25, 100, 25, 121, 16, 36, 28.09]\n"
     ]
    }
   ],
   "source": [
    "# Create a new list with square of each value ? \n",
    "\n",
    "inputList = [8, 3, 0, -5, 10, 5, -11, 4, -6, 5.3]\n",
    "\n",
    "newList = []\n",
    "for i in inputList : \n",
    "    newList.append( i * i )\n",
    "    \n",
    "print( newList )\n",
    "\n",
    "newList = [  i * i for i in inputList ]\n",
    "print( newList )\n",
    "\n"
   ]
  },
  {
   "cell_type": "code",
   "execution_count": 19,
   "id": "bddba545",
   "metadata": {},
   "outputs": [
    {
     "data": {
      "text/plain": [
       "'python--java--ruby--csharp'"
      ]
     },
     "execution_count": 19,
     "metadata": {},
     "output_type": "execute_result"
    }
   ],
   "source": [
    "# Create a string from below list by joining them on basis of \"--\" pattern ? \n",
    "\n",
    "inputList = [\"python\", \"java\", \"ruby\", \"csharp\"]\n",
    "\n",
    "stringName = \"--\".join(inputList)\n",
    "stringName\n"
   ]
  },
  {
   "cell_type": "code",
   "execution_count": 23,
   "id": "c60fd7b9",
   "metadata": {},
   "outputs": [
    {
     "name": "stdout",
     "output_type": "stream",
     "text": [
      "['python', '60055', 'java', '87468', 'ruby', 'False', 'csharp']\n",
      "python--60055--java--87468--ruby--False--csharp\n",
      "python--60055--java--87468--ruby--False--csharp\n"
     ]
    }
   ],
   "source": [
    "# Create a string from below list by joining them on basis of \"--\" pattern ? \n",
    "\n",
    "inputList = [\"python\", 60055, \"java\", 87468, \"ruby\", False, \"csharp\"]\n",
    "\n",
    "newList = []\n",
    "for i in inputList : \n",
    "    newList.append( str(i) )\n",
    "print(newList)\n",
    "\n",
    "stringName = \"--\".join(newList)\n",
    "print( stringName )\n",
    "\n",
    "\n",
    "stringName = \"--\".join([ str(i) for i in inputList  ])\n",
    "print( stringName )\n"
   ]
  },
  {
   "cell_type": "code",
   "execution_count": null,
   "id": "ab605d43",
   "metadata": {},
   "outputs": [],
   "source": []
  },
  {
   "cell_type": "code",
   "execution_count": 25,
   "id": "5af1dba9",
   "metadata": {},
   "outputs": [
    {
     "name": "stdout",
     "output_type": "stream",
     "text": [
      "[8, 3, 0, 10, 5, 4, 5.2]\n",
      "[-5, -11, -6]\n"
     ]
    }
   ],
   "source": [
    "# Create a new list separating both positive and negative number ? \n",
    "\n",
    "inputList = [8, 3, 0, -5, 10, 5, -11, 4, -6, 5.2]\n",
    "\n",
    "positives = []\n",
    "negatives = []\n",
    "\n",
    "for i in inputList : \n",
    "    if i >= 0 : \n",
    "        positives.append(i)\n",
    "    else :\n",
    "         negatives.append(i)\n",
    "            \n",
    "print(positives)\n",
    "print(negatives)\n"
   ]
  },
  {
   "cell_type": "code",
   "execution_count": 28,
   "id": "3a01a05c",
   "metadata": {},
   "outputs": [
    {
     "name": "stdout",
     "output_type": "stream",
     "text": [
      "[8, 3, 0, 10, 5, 4, 5.2]\n",
      "[-5, -11, -6]\n"
     ]
    }
   ],
   "source": [
    "# Create a new list separating both positive and negative number ? \n",
    "\n",
    "inputList = [8, 3, 0, -5, 10, 5, -11, 4, -6, 5.2]\n",
    "\n",
    "positives = [ i for i in inputList if i >= 0 ]\n",
    "negatives = [i for i in inputList if i < 0]\n",
    "\n",
    "            \n",
    "print(positives)\n",
    "print(negatives)\n"
   ]
  },
  {
   "cell_type": "code",
   "execution_count": null,
   "id": "86276e73",
   "metadata": {},
   "outputs": [],
   "source": [
    "# Q2. find which of them is in palindromes using List Comprehenion\n",
    "# inputList = [\"madam\", \"naman\", \"12321\", \"7530\", False, 45621, 85258, \"ADDydda\"]\n",
    "# outputList = [\"madam\", \"naman\", \"12321\", 85258, \"ADDydda\"]\n",
    "\n",
    "inputList = [\"madam\", \"naman\", \"12321\", \"7530\", False, 45621, 85258, \"ADDydda\"]\n",
    "\n",
    "outputList = []\n",
    "for i in inputList : \n",
    "    print(i)\n",
    "    \n",
    "    if str(i).lower()[ : : 1] == str(i).lower()[ : : -1] : \n",
    "        outputList.append(i)\n",
    "\n",
    "outputList"
   ]
  },
  {
   "cell_type": "code",
   "execution_count": 31,
   "id": "180b30ce",
   "metadata": {},
   "outputs": [
    {
     "data": {
      "text/plain": [
       "[2.83, 1.73, 0.0, 25, 3.16, 2.24, 121, 2.0, 36, 2.28]"
      ]
     },
     "execution_count": 31,
     "metadata": {},
     "output_type": "execute_result"
    }
   ],
   "source": [
    "# Create a new list  on Logic. If number is positive then get sqaureroot else get square of negative number ? \n",
    "\n",
    "inputList = [8, 3, 0, -5, 10, 5, -11, 4, -6, 5.2]\n",
    "\n",
    "newList = []\n",
    "for i in inputList : \n",
    "    if i >= 0 : \n",
    "        newList.append( round( i ** 0.5 , 2 )  )\n",
    "    else : \n",
    "        newList.append( i ** 2)\n",
    "\n",
    "newList"
   ]
  },
  {
   "cell_type": "code",
   "execution_count": 37,
   "id": "778a7d3c",
   "metadata": {},
   "outputs": [
    {
     "data": {
      "text/plain": [
       "6.93"
      ]
     },
     "execution_count": 37,
     "metadata": {},
     "output_type": "execute_result"
    }
   ],
   "source": [
    "round( 48 ** 0.5 , 2 )"
   ]
  },
  {
   "cell_type": "code",
   "execution_count": 33,
   "id": "6dd61faa",
   "metadata": {},
   "outputs": [
    {
     "data": {
      "text/plain": [
       "6.928203230275509"
      ]
     },
     "execution_count": 33,
     "metadata": {},
     "output_type": "execute_result"
    }
   ],
   "source": [
    "48 ** 0.5 "
   ]
  },
  {
   "cell_type": "code",
   "execution_count": 35,
   "id": "a15edff7",
   "metadata": {},
   "outputs": [
    {
     "data": {
      "text/plain": [
       "6.0"
      ]
     },
     "execution_count": 35,
     "metadata": {},
     "output_type": "execute_result"
    }
   ],
   "source": [
    "36 ** 0.5"
   ]
  },
  {
   "cell_type": "code",
   "execution_count": 38,
   "id": "df72f4a0",
   "metadata": {},
   "outputs": [
    {
     "data": {
      "text/plain": [
       "[2.83, 1.73, 0.0, 25, 3.16, 2.24, 121, 2.0, 36, 2.28]"
      ]
     },
     "execution_count": 38,
     "metadata": {},
     "output_type": "execute_result"
    }
   ],
   "source": [
    "# Create a new list  on Logic. If number is positive then get sqaureroot else get square of negative number ? \n",
    "\n",
    "inputList = [8, 3, 0, -5, 10, 5, -11, 4, -6, 5.2]\n",
    "\n",
    "newList = [ round( i ** 0.5 , 2 ) if i >= 0 else i ** 2 for i in inputList   ]\n",
    "\n",
    "\n",
    "# for i in inputList : \n",
    "#     if i >= 0 : \n",
    "#         newList.append( round( i ** 0.5 , 2 )  )\n",
    "#     else : \n",
    "#         newList.append( i ** 2)\n",
    "\n",
    "newList"
   ]
  },
  {
   "cell_type": "code",
   "execution_count": null,
   "id": "5ca09757",
   "metadata": {},
   "outputs": [],
   "source": []
  },
  {
   "cell_type": "code",
   "execution_count": null,
   "id": "c94a6ada",
   "metadata": {},
   "outputs": [],
   "source": [
    "# Given the below fruits list, find out the ones which contain apple\n",
    "\n",
    "# input\n",
    "fruits = [\" apple \", \"  grAPes      \", \"mANgo   \", \"custard APPle  \", \"  pineAPPle  \", \"tomaTO  \"]\n",
    "\n",
    "# output\n",
    "fruits = [\" apple \", \"custard APPle  \", \"  pineAPPle  \"]\n"
   ]
  },
  {
   "cell_type": "code",
   "execution_count": null,
   "id": "e140fa27",
   "metadata": {},
   "outputs": [],
   "source": [
    "# Given the below fruits list, if it contain apple, then convert to lower case else convert to uppercase\n",
    "\n",
    "# input\n",
    "fruits = [\" apple \", \"  grAPes      \", \"mANgo   \", \"custard APPle  \", \"  pineAPPle  \", \"tomaTO  \"]\n",
    "\n",
    "# output\n",
    "fruits = [\"apple\", \"GRAPES\", \"MANGO\", \"custard apple\", \"pineapple\", \"TOMATO\"]\n"
   ]
  },
  {
   "cell_type": "code",
   "execution_count": null,
   "id": "ebd1cd10",
   "metadata": {},
   "outputs": [],
   "source": []
  },
  {
   "cell_type": "code",
   "execution_count": null,
   "id": "0d771576",
   "metadata": {},
   "outputs": [],
   "source": []
  },
  {
   "cell_type": "code",
   "execution_count": null,
   "id": "4360ce45",
   "metadata": {},
   "outputs": [],
   "source": []
  },
  {
   "cell_type": "code",
   "execution_count": null,
   "id": "93e02b01",
   "metadata": {},
   "outputs": [],
   "source": []
  },
  {
   "cell_type": "code",
   "execution_count": null,
   "id": "35753574",
   "metadata": {},
   "outputs": [],
   "source": []
  },
  {
   "cell_type": "code",
   "execution_count": null,
   "id": "16afd3b7",
   "metadata": {},
   "outputs": [],
   "source": []
  },
  {
   "cell_type": "code",
   "execution_count": null,
   "id": "a3d55b41",
   "metadata": {},
   "outputs": [],
   "source": []
  },
  {
   "cell_type": "code",
   "execution_count": null,
   "id": "efbfa35f",
   "metadata": {},
   "outputs": [],
   "source": []
  }
 ],
 "metadata": {
  "kernelspec": {
   "display_name": "Python 3 (ipykernel)",
   "language": "python",
   "name": "python3"
  },
  "language_info": {
   "codemirror_mode": {
    "name": "ipython",
    "version": 3
   },
   "file_extension": ".py",
   "mimetype": "text/x-python",
   "name": "python",
   "nbconvert_exporter": "python",
   "pygments_lexer": "ipython3",
   "version": "3.9.13"
  }
 },
 "nbformat": 4,
 "nbformat_minor": 5
}

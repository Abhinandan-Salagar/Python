{
 "cells": [
  {
   "cell_type": "markdown",
   "metadata": {},
   "source": [
    "# file handling questions"
   ]
  },
  {
   "cell_type": "code",
   "execution_count": 2,
   "metadata": {},
   "outputs": [],
   "source": [
    "myData = \"\"\"\n",
    "This is the File Handling data.\n",
    "There is a lot of stuff in @@Python : \n",
    "string\n",
    "list\n",
    "tuple SUN\n",
    "dictionary\n",
    "regular expression\n",
    "functions\n",
    "\n",
    "To learn further, you have to cover @the best topics -- \n",
    "string\n",
    "@list\n",
    "functions SUN\n",
    "\n",
    "You can reach it to Academy;\n",
    "8745742105\n",
    "96457421 SUN\n",
    "9656452580 \n",
    "011-25499746\n",
    "7744120258 and 9874745745\n",
    "\n",
    "nitsih@gmail.com SUN\n",
    "company@hotmail.com\n",
    "\n",
    "abc@yahoo.com and learning@@hive.com\n",
    "\n",
    "\"\"\""
   ]
  },
  {
   "cell_type": "code",
   "execution_count": 6,
   "metadata": {},
   "outputs": [],
   "source": [
    "f = open('xyz.txt', \"w\")\n",
    "f.write(myData)\n",
    "f.close()"
   ]
  },
  {
   "cell_type": "code",
   "execution_count": 42,
   "metadata": {},
   "outputs": [
    {
     "name": "stdout",
     "output_type": "stream",
     "text": [
      "8745742105\n",
      "96457421\n",
      "9656452580\n",
      "7744120258\n",
      "9874745745\n"
     ]
    }
   ],
   "source": [
    "f=open(\"xyz.txt\", 'r')\n",
    "res=f.readlines()\n",
    "for i in res:\n",
    "   a=i.replace(\"\\n\", \"\")\n",
    "   b=a.split(\" \")\n",
    "   \n",
    "   for j in b:\n",
    "      if j.isdigit():\n",
    "         print(j)\n",
    "f.close()"
   ]
  },
  {
   "cell_type": "code",
   "execution_count": 51,
   "metadata": {},
   "outputs": [
    {
     "name": "stdout",
     "output_type": "stream",
     "text": [
      "['8745742105', '9656452580', '7744120258', '9874745745'] ['011-25499746']\n"
     ]
    }
   ],
   "source": [
    "import re\n",
    "f=open(\"xyz.txt\", 'r')\n",
    "res=f.read()\n",
    "\n",
    "n=re.findall(r\"\\d{10}\",res) \n",
    "a=re.findall(r\"\\d{3}-\\d{8}\",res)\n",
    "print(n,a)\n",
    "\n",
    "f.close()"
   ]
  },
  {
   "cell_type": "code",
   "execution_count": 5,
   "metadata": {},
   "outputs": [
    {
     "name": "stdout",
     "output_type": "stream",
     "text": [
      "Count of 'SUN' ==>  4\n"
     ]
    }
   ],
   "source": [
    "# Count how many times \"SUN\" has occured.\n",
    "\n",
    "f = open(\"myData.txt\", \"r\")\n",
    "print( \"Count of 'SUN' ==> \", f.read().count(\"SUN\") )\n",
    "f.close()"
   ]
  },
  {
   "cell_type": "code",
   "execution_count": 13,
   "metadata": {},
   "outputs": [
    {
     "name": "stdout",
     "output_type": "stream",
     "text": [
      "['\\n', 'This is the File Handling data.\\n', 'There is a lot of stuff in @@Python : \\n', 'string\\n', 'list\\n', 'tuple SUN\\n', 'dictionary\\n', 'regular expression\\n', 'functions\\n', '\\n', 'To learn further, you have to cover @the best topics -- \\n', 'string\\n', '@list\\n', 'functions SUN\\n', '\\n', 'You can reach it to Academy;\\n', '8745742105\\n', '96457421 SUN\\n', '9656452580 \\n', '011-25499746\\n', '7744120258 and 9874745745\\n', '\\n', 'nitsih@gmail.com SUN\\n', 'company@hotmail.com\\n', '\\n', 'abc@yahoo.com and learning@@hive.com\\n', '\\n']\n",
      "Line Number :  6\n",
      "Line Number :  14\n",
      "Line Number :  18\n",
      "Line Number :  23\n"
     ]
    }
   ],
   "source": [
    "# Find the line position number where \"SUN\" has occured.\n",
    "\n",
    "f = open(\"myData.txt\", \"r\")\n",
    "\n",
    "res = f.readlines()\n",
    "print(res)\n",
    "\n",
    "for i in range(0, len(res)) : \n",
    "#     print(i)\n",
    "    if \"SUN\" in res[i] :\n",
    "#         print(res[i], i)\n",
    "        print(\"Line Number : \", i + 1)\n",
    "\n",
    "f.close()"
   ]
  },
  {
   "cell_type": "code",
   "execution_count": 18,
   "metadata": {},
   "outputs": [
    {
     "name": "stdout",
     "output_type": "stream",
     "text": [
      "['8745742105', '9656452580', '7744120258', '9874745745']\n"
     ]
    }
   ],
   "source": [
    "# Find out the valid mobile numbers, which are 10-digit long\n",
    "\n",
    "f = open(\"myData.txt\", \"r\")\n",
    "import re\n",
    "output = f.read()\n",
    "res = re.findall(r\"\\d{10}\", output)\n",
    "print(res)\n",
    "\n",
    "f.close()\n"
   ]
  },
  {
   "cell_type": "code",
   "execution_count": null,
   "metadata": {},
   "outputs": [],
   "source": [
    "f = open(\"myData.txt\", \"r\")\n",
    "output = f.readlines()\n",
    "# print(output)\n",
    "\n",
    "for i in range(len(output)) : \n",
    "#     print( output[i] )\n",
    "    stringName = output[i].replace(\"\\n\", \"\")\n",
    "    #print(stringName)\n",
    "    inputList = stringName.split(\" \")\n",
    "    print(inputList)\n",
    "    \n",
    "    for each in inputList : \n",
    "        if each.isdigit() and len(each) == 10 : \n",
    "            print(each)\n",
    "    \n",
    "\n",
    "f.close()\n"
   ]
  },
  {
   "cell_type": "code",
   "execution_count": 54,
   "metadata": {},
   "outputs": [
    {
     "name": "stdout",
     "output_type": "stream",
     "text": [
      "nitsih@gmail.com\n",
      "company@hotmail.com\n",
      "abc@yahoo.com\n"
     ]
    }
   ],
   "source": [
    "f = open(\"myData.txt\", \"r\")\n",
    "op = f.readlines()\n",
    "\n",
    "for i in op:\n",
    "    v=i.replace(\"\\n\", \"\").split(\" \")\n",
    "    for j in v:\n",
    "        if \"@\" in j and j.count(\"@\")==1 and \".\" in j:\n",
    "            print(j)\n",
    "f.close()\n"
   ]
  },
  {
   "cell_type": "code",
   "execution_count": 64,
   "metadata": {},
   "outputs": [
    {
     "name": "stdout",
     "output_type": "stream",
     "text": [
      "Username: nitsih\n",
      "Email: gmail\n",
      "Username: company\n",
      "Email: hotmail\n",
      "Username: abc\n",
      "Email: yahoo\n"
     ]
    }
   ],
   "source": [
    "import re\n",
    "f = open(\"myData.txt\", \"r\")\n",
    "op = f.read()\n",
    "\n",
    "v=re.findall(r\"\\w{1,}@\\w{1,}.\\w{1,}\",op)\n",
    "for i in v:\n",
    "    res=i.split(\"@\")\n",
    "    print(\"Username:\",res[0])\n",
    "    print(\"Email:\",res[1].split(\".\")[0])\n",
    "f.close()"
   ]
  },
  {
   "cell_type": "code",
   "execution_count": null,
   "metadata": {},
   "outputs": [],
   "source": []
  },
  {
   "cell_type": "code",
   "execution_count": 32,
   "metadata": {},
   "outputs": [
    {
     "name": "stdout",
     "output_type": "stream",
     "text": [
      "nitsih@gmail.com\n",
      "company@hotmail.com\n",
      "abc@yahoo.com\n"
     ]
    }
   ],
   "source": [
    "# Find out the valid EMAIL Address numbers.\n",
    "\n",
    "f = open(\"myData.txt\", \"r\")\n",
    "output = f.readlines()\n",
    "# print(output)\n",
    "\n",
    "for i in range(len(output)) : \n",
    "#     print( output[i] )\n",
    "    stringName = output[i].replace(\"\\n\", \"\")\n",
    "#     print(stringName)\n",
    "    inputList = stringName.split(\" \")\n",
    "#     print(inputList)\n",
    "    \n",
    "    for each in inputList : \n",
    "        if  \"@\" in each and each.count('@') == 1: \n",
    "            if \".\" in each : \n",
    "                print(each)\n",
    "    \n",
    "\n",
    "f.close()\n"
   ]
  },
  {
   "cell_type": "code",
   "execution_count": 33,
   "metadata": {},
   "outputs": [
    {
     "name": "stdout",
     "output_type": "stream",
     "text": [
      "['nitsih@gmail.com', 'company@hotmail.com', 'abc@yahoo.com']\n"
     ]
    }
   ],
   "source": [
    "f = open(\"myData.txt\", \"r\")\n",
    "import re\n",
    "output = f.read()\n",
    "res = re.findall(r\"\\w{1,}@\\w{1,}.\\w{1,}\", output)\n",
    "print(res)\n",
    "\n",
    "f.close()\n"
   ]
  },
  {
   "cell_type": "code",
   "execution_count": 43,
   "metadata": {},
   "outputs": [
    {
     "name": "stdout",
     "output_type": "stream",
     "text": [
      "EMAILS =  ['nitsih@gmail.com', 'company@hotmail.com', 'abc@yahoo.com']\n",
      "EMAIL platforms :: \n",
      "gmail\n",
      "hotmail\n",
      "yahoo\n"
     ]
    }
   ],
   "source": [
    "# Find out the valid EMAIL platforms\n",
    "\n",
    "f = open(\"myData.txt\", \"r\")\n",
    "\n",
    "\n",
    "f.close()\n"
   ]
  },
  {
   "cell_type": "code",
   "execution_count": 13,
   "metadata": {},
   "outputs": [
    {
     "name": "stdout",
     "output_type": "stream",
     "text": [
      "UserName :  nitsih\n",
      "Email :  gmail\n",
      "UserName :  company\n",
      "Email :  hotmail\n",
      "UserName :  abc\n",
      "Email :  yahoo\n"
     ]
    }
   ],
   "source": [
    "# Find out the valid EMAIL Address numbers.\n",
    "\n",
    "f = open(\"myData.txt\", \"r\")\n",
    "output = f.readlines()\n",
    "\n",
    "for i in range(len(output)) : \n",
    "    stringName = output[i].replace(\"\\n\", \"\")\n",
    "    inputList = stringName.split(\" \")\n",
    "    \n",
    "    for each in inputList : \n",
    "        if  \"@\" in each and each.count('@') == 1: \n",
    "            if \".\" in each : \n",
    "#                 print(each)\n",
    "                res = each.split(\"@\")\n",
    "                print(\"UserName : \", res[0])\n",
    "                print(\"Email : \", res[1].split(\".\")[0])\n",
    "f.close()\n"
   ]
  },
  {
   "cell_type": "code",
   "execution_count": 74,
   "metadata": {},
   "outputs": [
    {
     "name": "stdout",
     "output_type": "stream",
     "text": [
      "Cursor Position Before:  0\n",
      "Cursor Position Before:  66\n"
     ]
    }
   ],
   "source": [
    "f=open(\"test.txt\",\"w\")\n",
    "print(\"Cursor Position Before: \" ,f.tell())\n",
    "f.write(\"abhi maja aayega na bidu\\nkuch toh maja kr rha hoon\\nkaise hua ye \")\n",
    "print(\"Cursor Position Before: \" ,f.tell())\n",
    "f.close()"
   ]
  },
  {
   "cell_type": "code",
   "execution_count": 92,
   "metadata": {},
   "outputs": [],
   "source": [
    "f=open(\"test.txt\",\"w\")\n",
    "msg='''hey now new data \n",
    "is added to file\n",
    "check out \n",
    "thanks'''\n",
    "f.write(msg)\n",
    "f.close()"
   ]
  },
  {
   "cell_type": "code",
   "execution_count": 96,
   "metadata": {},
   "outputs": [
    {
     "name": "stdout",
     "output_type": "stream",
     "text": [
      "111\n",
      "129\n"
     ]
    }
   ],
   "source": [
    "f=open(\"test.txt\",\"a\")\n",
    "print(f.tell())\n",
    "msg='''ala re ala kon ala'''\n",
    "f.write(msg)\n",
    "print(f.tell())"
   ]
  },
  {
   "cell_type": "code",
   "execution_count": null,
   "metadata": {},
   "outputs": [],
   "source": []
  }
 ],
 "metadata": {
  "kernelspec": {
   "display_name": "Python 3 (ipykernel)",
   "language": "python",
   "name": "python3"
  },
  "language_info": {
   "codemirror_mode": {
    "name": "ipython",
    "version": 3
   },
   "file_extension": ".py",
   "mimetype": "text/x-python",
   "name": "python",
   "nbconvert_exporter": "python",
   "pygments_lexer": "ipython3",
   "version": "3.9.13"
  }
 },
 "nbformat": 4,
 "nbformat_minor": 4
}

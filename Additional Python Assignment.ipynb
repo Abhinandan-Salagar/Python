{
 "cells": [
  {
   "cell_type": "markdown",
   "metadata": {},
   "source": [
    "# Assume Data wherever needed/necessary"
   ]
  },
  {
   "cell_type": "markdown",
   "metadata": {},
   "source": [
    "### Loop Statements"
   ]
  },
  {
   "cell_type": "code",
   "execution_count": null,
   "metadata": {},
   "outputs": [],
   "source": [
    "# WAP stands for Write A Program"
   ]
  },
  {
   "cell_type": "code",
   "execution_count": null,
   "metadata": {},
   "outputs": [],
   "source": [
    "#L1 E\n",
    "WAP to print all elements of a list using a for loop. \n",
    "Take the elements of the list from the user.\n",
    "\n",
    "For e.g. Input: l = [3,'Hi',67,0,12,0,8]\n",
    "        Output: 3\n",
    "                'Hi'\n",
    "                67\n",
    "                0\n",
    "                12\n",
    "                0\n",
    "                8"
   ]
  },
  {
   "cell_type": "code",
   "execution_count": null,
   "metadata": {},
   "outputs": [],
   "source": [
    "#L2 M\n",
    "WAP to take inputs from user to make a list. Length of the list has to be taken from the user.\n",
    "Again take one input from user and search it in the list and delete that element, if found.\n",
    "If not found, print \"Element not present\".\n",
    "\n",
    "For e.g. Input: len_list = 5\n",
    "                list = [\"a\", \"b\", \"y\", \"e\", \"p\"]\n",
    "                search_element = \"g\"\n",
    "                    Output: \"Element not found\"\n",
    "                search_element = \"e\"\n",
    "                    Output: [\"a\", \"b\", \"y\", \"p\"]"
   ]
  },
  {
   "cell_type": "code",
   "execution_count": null,
   "metadata": {},
   "outputs": [],
   "source": [
    "#L3 EM\n",
    "Make a grading system for a school based on the marks of the students using the following criteria.\n",
    "Marks 0 - 40 : Grade F\n",
    "     41 - 50 : Grade E\n",
    "     51 - 70 : Grade D\n",
    "     71 - 80 : Grade C\n",
    "     81 - 90 : Grade B\n",
    "     91 - 100: Grade A\n",
    "Continuously take marks as input from the user and print the grade. \n",
    "The user can enter \"Stop\" to stop the loop.\n",
    "if m>=0 and m<40:\n",
    "          print(\"F\")\n",
    "        elif m>=41 and m<=75:\n",
    "          print(\"B\")\n",
    "        elif m>=76 and m<=100:\n",
    "          print(\"A\") "
   ]
  },
  {
   "cell_type": "code",
   "execution_count": 8,
   "id": "f6dee86f",
   "metadata": {},
   "outputs": [
    {
     "name": "stdout",
     "output_type": "stream",
     "text": [
      "B\n",
      "B\n"
     ]
    }
   ],
   "source": [
    "m=\"s\"\n",
    "\n",
    "while True:\n",
    "      \n",
    "        m=input()\n",
    "        if m==\"s\":\n",
    "          break\n",
    "       \n",
    "        if int(m)>=0 and int(m)<40:\n",
    "          print(\"F\")\n",
    "        elif int(m)>=41 and int(m)<=75:\n",
    "          print(\"B\")\n",
    "        elif int(m)>=76 and int(m)<=100:\n",
    "          print(\"A\") \n",
    "       \n",
    "        \n",
    "\n",
    "\n",
    "\n",
    "       "
   ]
  },
  {
   "cell_type": "code",
   "execution_count": null,
   "metadata": {},
   "outputs": [],
   "source": [
    "#L4 E\n",
    "WAP to save the cube of all numbers from 1 to a number n in list, \n",
    "where n is taken as input from the user.\n",
    "\n",
    "For e.g. Input: 5\n",
    "        Output: [1, 8, 27, 64, 125]  #Cube of numbers from 1 to 5 where 5 is the input from the user"
   ]
  },
  {
   "cell_type": "code",
   "execution_count": null,
   "metadata": {},
   "outputs": [],
   "source": [
    "#L5 E\n",
    "WAP to print even numbers in a given range in reverse order. Take the range from the user.\n",
    "\n",
    "For e.g. Input: start = 3\n",
    "                End = 14\n",
    "        Output: 14, 12, 10, 8, 6, 4"
   ]
  },
  {
   "cell_type": "code",
   "execution_count": null,
   "metadata": {},
   "outputs": [],
   "source": [
    "#L6 E\n",
    "WAP to print odd numbers in a given range in reverse order.\n",
    "Take the range from the user.\n",
    "\n",
    "For e.g. Input: start = 3\n",
    "                End = 14\n",
    "        Output: 13, 11, 9, 7, 5, 3"
   ]
  },
  {
   "cell_type": "code",
   "execution_count": null,
   "metadata": {},
   "outputs": [],
   "source": [
    "#L7 E\n",
    "WAP to print multiplication table of a number taken as input from the user.\n",
    "\n",
    "For e.g. Input: 5\n",
    "        Output: 5*1 = 5\n",
    "                5*2 = 10\n",
    "                .\n",
    "                .\n",
    "                .\n",
    "                5*10 = 50"
   ]
  },
  {
   "cell_type": "code",
   "execution_count": 4,
   "id": "7096884e",
   "metadata": {},
   "outputs": [
    {
     "name": "stdout",
     "output_type": "stream",
     "text": [
      "5 * 1 = 5\n",
      "5 * 2 = 10\n",
      "5 * 3 = 15\n",
      "5 * 4 = 20\n",
      "5 * 5 = 25\n",
      "5 * 6 = 30\n",
      "5 * 7 = 35\n",
      "5 * 8 = 40\n",
      "5 * 9 = 45\n",
      "5 * 10 = 50\n"
     ]
    }
   ],
   "source": [
    "a=5\n",
    "n=10\n",
    "i=1\n",
    "while i<=n:\n",
    "    print(a,\"*\",i,\"=\",a*i)\n",
    "    i+=1"
   ]
  },
  {
   "cell_type": "code",
   "execution_count": null,
   "metadata": {},
   "outputs": [],
   "source": [
    "#L8 E\n",
    "WAP to print the following pattern.\n",
    "\n",
    "1\n",
    "1 2\n",
    "1 2 3\n",
    "1 2 3 4"
   ]
  },
  {
   "cell_type": "code",
   "execution_count": null,
   "metadata": {},
   "outputs": [],
   "source": [
    "#L9 H\n",
    "Write a program to calculate the sum of series up to n terms for a digit d. n & d are taken as input from the user.\n",
    "\n",
    "For example:\n",
    "    Input: n = 5, d = 2\n",
    "    Logic: 2 + 22 + 222 + 2222 + 22222 \n",
    "    Output: 24690"
   ]
  },
  {
   "cell_type": "code",
   "execution_count": null,
   "metadata": {},
   "outputs": [],
   "source": [
    "#L10 M\n",
    "WAP that keeps on accepting numbers from the user until the user enters Zero(0) as input.\n",
    "Display the sum and average of all the numbers.\n",
    "\n",
    "For example:\n",
    "    Input: 3, 6, 8, 2, 5, Stop\n",
    "    Output: Sum = 24\n",
    "            Average = 4.8"
   ]
  },
  {
   "cell_type": "code",
   "execution_count": null,
   "metadata": {},
   "outputs": [],
   "source": [
    "#L11 E\n",
    "Accept n numbers from the user and display their average. n is input from the user.\n",
    "\n",
    "For example:\n",
    "    Input: n = 5\n",
    "        Numbers = 3, 6, 2, 9, 0\n",
    "    Output: Average = 4.0"
   ]
  },
  {
   "cell_type": "code",
   "execution_count": null,
   "metadata": {},
   "outputs": [],
   "source": []
  },
  {
   "cell_type": "code",
   "execution_count": null,
   "metadata": {},
   "outputs": [],
   "source": []
  },
  {
   "cell_type": "code",
   "execution_count": null,
   "metadata": {},
   "outputs": [],
   "source": []
  },
  {
   "cell_type": "markdown",
   "metadata": {},
   "source": [
    "### String Questions"
   ]
  },
  {
   "cell_type": "code",
   "execution_count": null,
   "metadata": {},
   "outputs": [],
   "source": [
    "#S1 E\n",
    "Write a Python program to count the number of each of the characters (character frequency) \n",
    "   in a string input by the user. Ignore the case.\n",
    "   For example: Input: \"Python is great\"\n",
    "\t\tOutput: P = 1, y = 1, t = 2, and so on..."
   ]
  },
  {
   "cell_type": "code",
   "execution_count": 15,
   "id": "835ea513",
   "metadata": {},
   "outputs": [
    {
     "name": "stdout",
     "output_type": "stream",
     "text": [
      "{'r', 'n', 'g', 's', 'e', 'y', 'P', 'o', ' ', 'a', 'i', 't', 'h'}\n",
      "r : 1\n",
      "n : 1\n",
      "g : 1\n",
      "s : 1\n",
      "e : 1\n",
      "y : 1\n",
      "P : 1\n",
      "o : 1\n",
      "a : 1\n",
      "i : 1\n",
      "t : 2\n",
      "h : 1\n",
      "<class 'dict'>\n",
      "{'P': 1, 'y': 1, 't': 2, 'h': 1, 'o': 1, 'n': 1, ' ': 2, 'i': 1, 's': 1, 'g': 1, 'r': 1, 'e': 1, 'a': 1}\n"
     ]
    }
   ],
   "source": [
    "a=\"Python is great\"\n",
    "b=set(a)\n",
    "print(b)\n",
    "for i in b:\n",
    "    if i==\" \":\n",
    "        continue\n",
    "    c=a.count(i)\n",
    "    print(i,\":\",c)\n",
    "    \n",
    "dt={}\n",
    "print(type(dt))\n",
    "for i in a:\n",
    "    dt[i]=a.count(i)\n",
    "print(dt)"
   ]
  },
  {
   "cell_type": "code",
   "execution_count": null,
   "metadata": {},
   "outputs": [],
   "source": [
    "#S2 M\n",
    "Write a Python program to find the digits which are absent in a given mobile number.\n",
    "\n",
    "   For example: Input : 9354328855\n",
    "                Output: 0167"
   ]
  },
  {
   "cell_type": "code",
   "execution_count": 10,
   "id": "0f50d26d",
   "metadata": {},
   "outputs": [
    {
     "name": "stdout",
     "output_type": "stream",
     "text": [
      "0167"
     ]
    },
    {
     "data": {
      "text/plain": [
       "['0', '1', '6', '7']"
      ]
     },
     "execution_count": 10,
     "metadata": {},
     "output_type": "execute_result"
    }
   ],
   "source": [
    "a=\"9354328855\"\n",
    "b=\"0123456789\"\n",
    "for i in b:\n",
    "    if i not in a:\n",
    "        print(i,end=\"\")\n",
    "    \n",
    "res= [i for i in b if i not in a]\n",
    "res"
   ]
  },
  {
   "cell_type": "code",
   "execution_count": null,
   "metadata": {},
   "outputs": [],
   "source": [
    "#S3 M\n",
    "WAP in python to find average of n numbers taken as input from the user dynamically."
   ]
  },
  {
   "cell_type": "code",
   "execution_count": 22,
   "id": "a3e7925e",
   "metadata": {},
   "outputs": [
    {
     "name": "stdout",
     "output_type": "stream",
     "text": [
      "5.0\n"
     ]
    }
   ],
   "source": [
    "\n",
    "a=0\n",
    "c=0\n",
    "while True:\n",
    "    n=int(input(\"enter the value: \"))\n",
    "    c=c+1\n",
    "    a=a+n\n",
    "    if n==0:\n",
    "        break\n",
    "print(a/(c-1))\n",
    "\n"
   ]
  },
  {
   "cell_type": "code",
   "execution_count": null,
   "metadata": {},
   "outputs": [],
   "source": [
    "#S4 E\n",
    "WAP in python that accepts a hyphen-separated sequence of \n",
    "words as input and prints the words in a hyphen-separated \n",
    "sequence after sorting them alphabetically.\n",
    "\n",
    "For e.g. Input: \"p-y-t-h-o-n\"\n",
    "        Output: ['h', 'n','o', 'p', 't', 'y']"
   ]
  },
  {
   "cell_type": "code",
   "execution_count": 27,
   "id": "486d93d1",
   "metadata": {},
   "outputs": [
    {
     "data": {
      "text/plain": [
       "['h', 'n', 'o', 'p', 't', 'y']"
      ]
     },
     "execution_count": 27,
     "metadata": {},
     "output_type": "execute_result"
    }
   ],
   "source": [
    "a=\"p-y-t-h-o-n\"\n",
    "b=a.split(\"-\")\n",
    "c=sorted(b)\n",
    "c"
   ]
  },
  {
   "cell_type": "code",
   "execution_count": null,
   "metadata": {},
   "outputs": [],
   "source": [
    "#S5 MH\n",
    "WAP in python to find the number of vowels, consonants, digits, special \n",
    "characters and white space characters in a string input by the user.\n",
    "\n",
    "Example: Input: \"Qwerty@123 \"\n",
    "\toutput: v = 1, c = 5, d = 3, w = 0, s = 1"
   ]
  },
  {
   "cell_type": "code",
   "execution_count": 30,
   "id": "2bee47fc",
   "metadata": {},
   "outputs": [
    {
     "name": "stdout",
     "output_type": "stream",
     "text": [
      "v= 1 c= 5 d= 3 w= 1 s= 1\n"
     ]
    }
   ],
   "source": [
    "a=\"Qwerty@123 \"\n",
    "s=0\n",
    "v=0\n",
    "c=0\n",
    "d=0\n",
    "w=0\n",
    "for i in a:\n",
    "    if i.isspace():\n",
    "        s=s+1\n",
    "    elif i in (\"aeiou\"):\n",
    "        v=v+1\n",
    "    elif i.isdigit():\n",
    "        d=d+1\n",
    "    elif i.isalpha():\n",
    "        c=c+1\n",
    "    elif not(i.isalnum() and i.isspace()):\n",
    "        w=w+1\n",
    "print(\"v=\",v,\"c=\",c,\"d=\",d,\"w=\",w,\"s=\",s)\n"
   ]
  },
  {
   "cell_type": "code",
   "execution_count": null,
   "metadata": {},
   "outputs": [],
   "source": [
    "#S6 MH\n",
    "WAP in python to check the strength of the password input by the user based on the following features.\n",
    "    Length minimum of 8 characters  (+1 Strength)\n",
    "    Combination of upper case & lower case characters (+1 Strength)\n",
    "    Combination of alphabets & digits (+1 Strength)\n",
    "    Use of Special Characters (+1 Strength)\n",
    "    \n",
    "Example: Input: \"Qwerty@123\"\n",
    "        Output: Strength = 4"
   ]
  },
  {
   "cell_type": "code",
   "execution_count": 101,
   "id": "1ac37a67",
   "metadata": {},
   "outputs": [
    {
     "name": "stdout",
     "output_type": "stream",
     "text": [
      "Please enter strong pwd\n"
     ]
    }
   ],
   "source": [
    "a=input(\"Enter Pwd: \")\n",
    "s=0\n",
    "c=0\n",
    "d=0\n",
    "w=0\n",
    "if len(a)>=8:\n",
    "    for i in a:\n",
    "        if i.isspace():\n",
    "            s=s+1\n",
    "        elif i.isdigit():\n",
    "            d=d+1\n",
    "        elif i.isalpha():\n",
    "            c=c+1\n",
    "        elif not(i.isalnum() and i.isspace()):\n",
    "            w=w+1\n",
    "if (s==0 and d>=1 and c>=1 and w>=1 and (d+c+w>=8)):\n",
    "    print(\"Strength of pwd is: 4\")\n",
    "else:\n",
    "    print(\"Please enter strong pwd\")\n",
    "\n",
    "\n",
    "    \n"
   ]
  },
  {
   "cell_type": "code",
   "execution_count": null,
   "metadata": {},
   "outputs": [],
   "source": [
    "#S7 E\n",
    "WAP in python to compare two strings and tell the user if both of those strings are same or not. \n",
    "Ignore their case.\n",
    "\n",
    "Example: Input String1: \"Hello\"\n",
    "\tInput String2: \"hello\"\n",
    "\tOutput: Strings are same"
   ]
  },
  {
   "cell_type": "code",
   "execution_count": 103,
   "id": "89df5e2d",
   "metadata": {},
   "outputs": [
    {
     "name": "stdout",
     "output_type": "stream",
     "text": [
      "same\n"
     ]
    }
   ],
   "source": [
    "a=\"Hello\"\n",
    "b=\"hello\"\n",
    "if a.lower()==b.lower():\n",
    "    print(\"same\")\n"
   ]
  },
  {
   "cell_type": "code",
   "execution_count": null,
   "metadata": {},
   "outputs": [],
   "source": [
    "#S8 E\n",
    "WAP in python to calculate the number of times a character is repeated in a given string.\n",
    "Take the string and character from the user.\n",
    "\n",
    "Example: Input String: \"Neil Nitin Mukesh\"\n",
    "        Input Character: \"e\"\n",
    "        Output: 2"
   ]
  },
  {
   "cell_type": "code",
   "execution_count": 104,
   "id": "ee48f466",
   "metadata": {},
   "outputs": [
    {
     "name": "stdout",
     "output_type": "stream",
     "text": [
      "2\n"
     ]
    }
   ],
   "source": [
    "a=\"Neil Nitin Mukesh\"\n",
    "b=\"e\"\n",
    "c=0\n",
    "for i in a:\n",
    "    if i==\"e\":\n",
    "        c=c+1\n",
    "print(c)"
   ]
  },
  {
   "cell_type": "code",
   "execution_count": null,
   "metadata": {},
   "outputs": [],
   "source": [
    "#S9 E\n",
    "WAP in python which accepts string from the user and displays only those characters/elements which are present at an even index.\n",
    "\n",
    "Example: \n",
    "    Input: \"Python\"\n",
    "    Output: Pto"
   ]
  },
  {
   "cell_type": "code",
   "execution_count": 105,
   "id": "c6fd87ad",
   "metadata": {},
   "outputs": [
    {
     "name": "stdout",
     "output_type": "stream",
     "text": [
      "Pto\n"
     ]
    }
   ],
   "source": [
    "a=\"Python\"\n",
    "print(a[0::2])"
   ]
  },
  {
   "cell_type": "code",
   "execution_count": null,
   "metadata": {},
   "outputs": [],
   "source": [
    "#S10 E\n",
    "WAP in python to capitalize the first letter of the First Name and Surname where whole name is taken as input from the user.\n",
    "\n",
    "Example: Input: \"first last\" or \"FIRST LAST\" or \"first lAst\" i.e. Input can be in any case.\n",
    "        Output: \"First Last\""
   ]
  },
  {
   "cell_type": "code",
   "execution_count": 106,
   "id": "5909b4b6",
   "metadata": {},
   "outputs": [
    {
     "name": "stdout",
     "output_type": "stream",
     "text": [
      "First Last\n"
     ]
    }
   ],
   "source": [
    "a=\"first last\"\n",
    "print(a.title())"
   ]
  },
  {
   "cell_type": "code",
   "execution_count": null,
   "metadata": {},
   "outputs": [],
   "source": [
    "#S11 EM\n",
    "Write a Python program that accepts a comma separated sequence of words as input and \n",
    "prints the unique words in sorted form (alphanumerically).\n",
    "\n",
    "\tSample Words : red, white, black, red, green    \n",
    "\tExpected Result : black, green, red, red, white"
   ]
  },
  {
   "cell_type": "code",
   "execution_count": 111,
   "id": "d2481b26",
   "metadata": {},
   "outputs": [
    {
     "name": "stdout",
     "output_type": "stream",
     "text": [
      "['black', 'green', 'red', 'red', 'white']\n"
     ]
    }
   ],
   "source": [
    "n=5\n",
    "b=[]\n",
    "for i in range(n):\n",
    "    a=input()\n",
    "    b.append(a)  \n",
    "b.sort()\n",
    "print(b)\n"
   ]
  },
  {
   "cell_type": "code",
   "execution_count": null,
   "metadata": {},
   "outputs": [],
   "source": [
    "#S12 MH\n",
    "Write a Python program to count repeated characters in a string.\n",
    "\n",
    "\tSample string: 'thequickbrownfoxjumpsoverthelazydog'\n",
    "\tExpected output :\n",
    "\t\t\to 4\n",
    "\t\t\te 3\n",
    "\t\t\tu 2\n",
    "\t\t\th 2\n",
    "\t\t\tr 2\n",
    "\n",
    "\t\t\tt 2"
   ]
  },
  {
   "cell_type": "code",
   "execution_count": 121,
   "id": "f236dcb6",
   "metadata": {},
   "outputs": [
    {
     "name": "stdout",
     "output_type": "stream",
     "text": [
      "t : 2\n",
      "e : 3\n",
      "o : 4\n",
      "h : 2\n",
      "r : 2\n",
      "u : 2\n"
     ]
    }
   ],
   "source": [
    "a='thequickbrownfoxjumpsoverthelazydog'\n",
    "for i in set(a):\n",
    "    if i in a:\n",
    "        c=a.count(i)       \n",
    "    if c>1:\n",
    "        print(i,\":\",c)\n",
    " \n"
   ]
  },
  {
   "cell_type": "code",
   "execution_count": null,
   "metadata": {},
   "outputs": [],
   "source": []
  },
  {
   "cell_type": "code",
   "execution_count": null,
   "metadata": {},
   "outputs": [],
   "source": []
  },
  {
   "cell_type": "code",
   "execution_count": null,
   "metadata": {},
   "outputs": [],
   "source": []
  },
  {
   "cell_type": "markdown",
   "metadata": {},
   "source": [
    "### List Questions"
   ]
  },
  {
   "cell_type": "code",
   "execution_count": null,
   "metadata": {},
   "outputs": [],
   "source": [
    "#Li1 M\n",
    "WAP to remove empty strings from the list of strings. Take list as input from the user.\n",
    "\n",
    "For example: Input: [\"My\", \"name\", \"\", \"is\", \"\", \"Alankrita\", \"\", \".\"]\n",
    "            Output: [\"My\", \"name\", \"is\", \"Alankrita\", \".\"]"
   ]
  },
  {
   "cell_type": "code",
   "execution_count": 122,
   "id": "db1ae42a",
   "metadata": {},
   "outputs": [
    {
     "name": "stdout",
     "output_type": "stream",
     "text": [
      "['My', 'name', 'is', 'Alankrita', '.']\n"
     ]
    }
   ],
   "source": [
    "a=[\"My\", \"name\", \"\", \"is\", \"\", \"Alankrita\", \"\", \".\"]\n",
    "for i in a:\n",
    "    if i==\"\":\n",
    "        a.remove(i)\n",
    "print(a)"
   ]
  },
  {
   "cell_type": "code",
   "execution_count": null,
   "metadata": {},
   "outputs": [],
   "source": [
    "#Li2 H\n",
    "WAP to make a list of all the characters starting from character 'A' to input charaacter from the user.\n",
    "\n",
    "For e.g. Input: 'H'\n",
    "        Output: [\"A\", \"B\", \"C\", \"D\", \"E\", \"F\", \"G\", \"H\"]"
   ]
  },
  {
   "cell_type": "code",
   "execution_count": 130,
   "id": "2e4f9800",
   "metadata": {},
   "outputs": [
    {
     "name": "stdout",
     "output_type": "stream",
     "text": [
      "['A', 'B', 'C', 'D', 'E', 'F', 'G', 'H', 'I', 'J']\n"
     ]
    }
   ],
   "source": [
    "a=input()\n",
    "b=ord(a)\n",
    "c=[]\n",
    "for i in range(65,b+1):\n",
    "    c.append(chr(i))\n",
    "print(c)\n"
   ]
  },
  {
   "cell_type": "code",
   "execution_count": null,
   "metadata": {},
   "outputs": [],
   "source": [
    "#Li3 H\n",
    "WAP to check if a specific employee e is present in a company or not. Employee names are saved in a list.\n",
    "e is taken as input from the user.\n",
    "\n",
    "For example: empList = [\"Ashwin\", \"Rachit\", \"Sanjana\", \"David\", \"Komal\"]\n",
    "            Input1: \"Komal\"\n",
    "            Output1: \"Employee is present\"\n",
    "            \n",
    "            Input2: \"Nitish\"\n",
    "            Output2: \"Employee is not present\""
   ]
  },
  {
   "cell_type": "code",
   "execution_count": 136,
   "id": "f69730c0",
   "metadata": {},
   "outputs": [
    {
     "name": "stdout",
     "output_type": "stream",
     "text": [
      "ahe\n"
     ]
    }
   ],
   "source": [
    "a=[\"Ashwin\", \"Rachit\", \"Sanjana\", \"David\", \"Komal\"]\n",
    "if \"Komal\" in a:\n",
    "    print(\"ahe\")\n",
    "else:\n",
    "    print(\"nahi\")\n"
   ]
  },
  {
   "cell_type": "code",
   "execution_count": null,
   "metadata": {},
   "outputs": [],
   "source": [
    "#Li4 M\n",
    "Write a python program to find the maximum and minimum number in a list of 10 elements \n",
    "   (taken as input from the user) and also find the index position of the these numbers.\n",
    "    \n",
    "   For example: Input : [25, 2, 1, 86, 42, 32, 27, 12, 31, 10]\n",
    "\t\tOutput: Max Number: 86, Index of Max Number: 3\n",
    "\t\t\tMin Number: 1, Index of Min Number: 2"
   ]
  },
  {
   "cell_type": "code",
   "execution_count": 143,
   "id": "0b94b267",
   "metadata": {},
   "outputs": [
    {
     "name": "stdout",
     "output_type": "stream",
     "text": [
      "86 3\n",
      "1 2\n"
     ]
    }
   ],
   "source": [
    "a=[25, 2, 1, 86, 42, 32, 27, 12, 31, 10]\n",
    "b=max(a)\n",
    "c=min(a)\n",
    "print(b,a.index(b))\n",
    "print(c,a.index(c))\n",
    "\n",
    "\n"
   ]
  },
  {
   "cell_type": "code",
   "execution_count": null,
   "metadata": {},
   "outputs": [],
   "source": [
    "#Li5 M\n",
    "Given two Python lists of same length. Iterate both lists simultaneously such that list1 \n",
    "   should display item in original order and list2 in reverse order.\n",
    "    \n",
    "   For example: Input = list1 = [10, 20, 30, 40]\n",
    "\t\t\tlist2 = [100, 200, 300, 400]\n",
    "            Output: 10 400\n",
    "                    20 300\n",
    "                    30 200\n",
    "                    40 100"
   ]
  },
  {
   "cell_type": "code",
   "execution_count": 167,
   "id": "4d9a8e39",
   "metadata": {},
   "outputs": [
    {
     "name": "stdout",
     "output_type": "stream",
     "text": [
      "10 400\n",
      "20 300\n",
      "30 200\n",
      "40 100\n"
     ]
    }
   ],
   "source": [
    "a= [10, 20, 30, 40]\n",
    "b= [100, 200, 300, 400]\n",
    "\n",
    "for i in range(len(a)):      \n",
    "    for j in range(len(b)):\n",
    "        pass\n",
    "    print(a[i],b[-i-1])\n"
   ]
  },
  {
   "cell_type": "code",
   "execution_count": null,
   "metadata": {},
   "outputs": [],
   "source": [
    "#Li6 M\n",
    "WAP to concatenate two lists index-wise.\n",
    "    list1 = [\"M\", \"na\", \"i\", \"Ashu\"]\n",
    "    list2 = [\"y\", \"me\", \"s\", \"tosh\"]\n",
    "    Output: ['My', 'name', 'is', 'Ashutosh']"
   ]
  },
  {
   "cell_type": "code",
   "execution_count": 188,
   "id": "438102fe",
   "metadata": {},
   "outputs": [
    {
     "name": "stdout",
     "output_type": "stream",
     "text": [
      "My name is Ashutosh "
     ]
    }
   ],
   "source": [
    "a= [\"M\", \"na\", \"i\", \"Ashu\"]\n",
    "b= [\"y\", \"me\", \"s\", \"tosh\"]\n",
    "for i in range(len(a)):\n",
    "    pass\n",
    "    for j in range(len(b)):\n",
    "      if i==j:\n",
    "         print(a[i]+b[j],end=\" \")\n",
    "         \n",
    "    "
   ]
  },
  {
   "cell_type": "code",
   "execution_count": null,
   "metadata": {},
   "outputs": [],
   "source": [
    "#Li7 M\n",
    "WAP to remove/delete items from a list while iterating without creating a duplicate list.\n",
    "Take the elements to be deleted from the user in real-time.\n",
    "\n",
    "\n",
    "input : [0 , 1 , 2 , 3 , 4 , 5 , 6 , 7 , 8 , 9]\n",
    "num = 5\n",
    "output: [0 , 1 , 2 , 3 , 4 ,6 , 7 , 8 , 9]\n"
   ]
  },
  {
   "cell_type": "code",
   "execution_count": 4,
   "id": "8e5fb764",
   "metadata": {},
   "outputs": [
    {
     "data": {
      "text/plain": [
       "[0, 1, 2, 3, 4, 6, 7, 8, 9]"
      ]
     },
     "execution_count": 4,
     "metadata": {},
     "output_type": "execute_result"
    }
   ],
   "source": [
    "a=[0 , 1 , 2 , 3 , 4 , 5 , 6 , 7 , 8 , 9]\n",
    "n=int(input())\n",
    "for i in a:   \n",
    "    if i==n:\n",
    "        a.remove(i)\n",
    "a"
   ]
  },
  {
   "cell_type": "code",
   "execution_count": null,
   "metadata": {},
   "outputs": [],
   "source": [
    "#Li8 E\n",
    "WAP to generate a Python list of all the prime numbers between n to m where n & m are taken as input from the user."
   ]
  },
  {
   "cell_type": "code",
   "execution_count": 15,
   "id": "915ee9e0",
   "metadata": {},
   "outputs": [
    {
     "name": "stdout",
     "output_type": "stream",
     "text": [
      "[7, 11, 13, 17, 19, 23, 29, 31, 37, 41, 43, 47, 53, 59]\n"
     ]
    }
   ],
   "source": [
    "n=int(input())\n",
    "m=int(input())\n",
    "c=[]\n",
    "for i in range(n,m+1):\n",
    "      for j in range(2,i):\n",
    "          if i%j==0:\n",
    "              break   \n",
    "      else:\n",
    "        c.append(i)\n",
    "print(c)"
   ]
  },
  {
   "cell_type": "code",
   "execution_count": null,
   "metadata": {},
   "outputs": [],
   "source": [
    "#Li9 M\n",
    "WAP to concatenate two lists in the following order:\n",
    "    list1 = [\"Hello \", \"World\"]\n",
    "    list2 = [\"Hi\", \"There\"]\n",
    "    Output: ['Hello Hi', 'Hello There', 'World Hi', 'World There']"
   ]
  },
  {
   "cell_type": "code",
   "execution_count": 32,
   "id": "8cf36b22",
   "metadata": {},
   "outputs": [
    {
     "name": "stdout",
     "output_type": "stream",
     "text": [
      "['Hello  Hi', 'Hello  There', 'World Hi', 'World There']\n"
     ]
    }
   ],
   "source": [
    "a=[\"Hello \", \"World\"]\n",
    "b = [\"Hi\", \"There\"]\n",
    "c=[]\n",
    "for i in range(len(a)):\n",
    "    for j in range(len(b)):\n",
    "        c.append(a[i]+\" \"+b[j])\n",
    "print(c)"
   ]
  },
  {
   "cell_type": "code",
   "execution_count": null,
   "metadata": {},
   "outputs": [],
   "source": [
    "# Li10 M\n",
    "Given two lists having names of students and their corresponding marks.\n",
    "names = [\"Ashutosh\", \"Ajay\", \"Alankrita\", \"Rachit\", \"Komal\", \"Anil\"]\n",
    "marks = [23, 21, 26, 23, 27, 24]\n",
    "Take name of a student as input from the user and output his/her marks.\n",
    "\n",
    "For e.g.:\n",
    "    Input1: \"Alankrita\"\n",
    "    Output1: 26\n",
    "        \n",
    "    Input2: \"Someone\"\n",
    "    Output2: \"Student not found\""
   ]
  },
  {
   "cell_type": "code",
   "execution_count": 4,
   "id": "28edff86",
   "metadata": {},
   "outputs": [
    {
     "name": "stdout",
     "output_type": "stream",
     "text": [
      "26\n"
     ]
    }
   ],
   "source": [
    "n= [\"a\",\"b\",\"c\",\"d\",\"e\",\"f\"]\n",
    "m= [23, 21, 26, 23, 27, 24]\n",
    "z=input()\n",
    "for i in range(len(n)):    \n",
    "    if z!=n[i]:\n",
    "       continue\n",
    "    else:\n",
    "        print(m[i])"
   ]
  },
  {
   "cell_type": "code",
   "execution_count": null,
   "metadata": {},
   "outputs": [],
   "source": [
    "#Li11 H\n",
    "Extended question of #Li10\n",
    "Add an option to change marks of any students in the same code of #Li10. Take student name and new marks from the user. \n",
    "Print the modified list as output.\n",
    "\n",
    "For e.g.: Input: \"Ajay\"\n",
    "        new_mark: 25\n",
    "        Output: marks = [23, 25, 26, 23, 27, 24]"
   ]
  },
  {
   "cell_type": "code",
   "execution_count": 7,
   "id": "61f67f6e",
   "metadata": {},
   "outputs": [
    {
     "name": "stdout",
     "output_type": "stream",
     "text": [
      "[23, 21, 26, 23, 27, 42]\n"
     ]
    }
   ],
   "source": [
    "n= [\"a\",\"b\",\"c\",\"d\",\"e\",\"f\"]\n",
    "m= [23, 21, 26, 23, 27, 24]\n",
    "z=input()\n",
    "nm=int(input())\n",
    "for i in range(len(n)):    \n",
    "    if z!=n[i]:\n",
    "       continue\n",
    "    else:\n",
    "        m[i]=nm\n",
    "        print(m)"
   ]
  },
  {
   "cell_type": "code",
   "execution_count": null,
   "metadata": {},
   "outputs": [],
   "source": [
    "#Li12 H\n",
    "Extended question of #Li10\n",
    "Give an option to enter the marks of a new student into the existing lists names and marks. Take new data as input from user.\n",
    "Print the new names and marks list as output.\n",
    "\n",
    "For e.g.: Input: New_name = \"Nitish\"\n",
    "                new_Marks = 20\n",
    "        Output: names = [\"Ashutosh\", \"Ajay\", \"Alankrita\", \"Rachit\", \"Komal\", \"Anil\", \"Nitish\"]\n",
    "                marks = [23, 21, 26, 23, 27, 24, 20]"
   ]
  },
  {
   "cell_type": "code",
   "execution_count": 10,
   "metadata": {},
   "outputs": [
    {
     "name": "stdout",
     "output_type": "stream",
     "text": [
      "['a', 'b', 'c', 'd', 'e', 'f', 'j']\n",
      "[23, 21, 26, 23, 27, 24, 36]\n"
     ]
    }
   ],
   "source": [
    "n= [\"a\",\"b\",\"c\",\"d\",\"e\",\"f\"]\n",
    "m= [23, 21, 26, 23, 27, 24]\n",
    "z=input()\n",
    "n.append(z)\n",
    "nm=int(input())\n",
    "for i in range(len(n)):       \n",
    "    if z!=n[i]:\n",
    "       continue\n",
    "    else:\n",
    "        m.append(nm)\n",
    "        print(n)\n",
    "        print(m)"
   ]
  },
  {
   "cell_type": "code",
   "execution_count": 21,
   "metadata": {},
   "outputs": [],
   "source": [
    "b=lambda a: \"even\" if a%2==0 else \"odd\"\n",
    "p=lambda a: \"Pallindrome\" if a[::1]==a[::-1] else \"Not Pallindrome\"\n",
    "\n",
    "print(b(10))\n",
    "print(p(\"naman\"))"
   ]
  },
  {
   "cell_type": "code",
   "execution_count": 22,
   "id": "15ce2a7c",
   "metadata": {},
   "outputs": [
    {
     "name": "stdout",
     "output_type": "stream",
     "text": [
      "even\n",
      "Pallindrome\n"
     ]
    }
   ],
   "source": [
    "print(b(10))\n",
    "print(p(\"naman\"))"
   ]
  },
  {
   "cell_type": "markdown",
   "metadata": {},
   "source": [
    "### Dictionary Questions"
   ]
  },
  {
   "cell_type": "code",
   "execution_count": null,
   "metadata": {},
   "outputs": [],
   "source": [
    "#D1\n",
    "WAP in Python to merge following dictionaries to create a new one:\n",
    "\tdic1={1:10, 2:20}\n",
    "\tdic2={3:30, 4:40}\n",
    "\tdic3={5:50, 6:60}"
   ]
  },
  {
   "cell_type": "code",
   "execution_count": 17,
   "id": "5d37d208",
   "metadata": {},
   "outputs": [
    {
     "data": {
      "text/plain": [
       "{1: 10, 2: 20, 3: 30, 4: 40, 5: 50, 6: 60}"
      ]
     },
     "execution_count": 17,
     "metadata": {},
     "output_type": "execute_result"
    }
   ],
   "source": [
    "a={1:10, 2:20}\n",
    "b={3:30, 4:40}\n",
    "c={5:50, 6:60}\n",
    "d={**a,**b,**c}\n",
    "e=a|b|c\n",
    "a.update(b)\n",
    "a.update(c)\n",
    "a"
   ]
  },
  {
   "cell_type": "code",
   "execution_count": null,
   "metadata": {},
   "outputs": [],
   "source": [
    "#D2\n",
    "WAP in python to generate and print a dictionary that contains a number (between 1 and n) \n",
    "in the form {x : x*x} where n is the input from the user.\n",
    "\n",
    "For e.g. Input: 4\n",
    "        Output: {1:1, 2:4, 3:9, 4:16}"
   ]
  },
  {
   "cell_type": "code",
   "execution_count": 20,
   "id": "a9102fe4",
   "metadata": {},
   "outputs": [
    {
     "data": {
      "text/plain": [
       "{1: 1, 2: 4, 3: 9, 4: 16}"
      ]
     },
     "execution_count": 20,
     "metadata": {},
     "output_type": "execute_result"
    }
   ],
   "source": [
    "n=int(input())\n",
    "a=dict()\n",
    "for i in range(1,n+1):\n",
    "    a.update({i:i*i})\n",
    "a"
   ]
  },
  {
   "cell_type": "code",
   "execution_count": null,
   "metadata": {},
   "outputs": [],
   "source": [
    "#D3\n",
    "WAP in python to find the number of vowels, consonants, digits, white space characters & \n",
    "special characters in a string and save the result in the form of a dictionary."
   ]
  },
  {
   "cell_type": "code",
   "execution_count": 28,
   "id": "d08ddae4",
   "metadata": {},
   "outputs": [
    {
     "name": "stdout",
     "output_type": "stream",
     "text": [
      "dict_keys(['1', '2', '5', 'Q', 'W', 'E', 'e', 'r', 'f', 's', 'd', ' ', '@', '#', 'w'])\n",
      "Alpha 13\n",
      "Spaces 2\n",
      "Vowels 0\n",
      "Digits 3\n",
      "Special Chars 2\n"
     ]
    }
   ],
   "source": [
    "a=\"125QWEerfsde @#fw fw\"\n",
    "d=dict()\n",
    "n=0\n",
    "s=0\n",
    "v=0\n",
    "sp=0\n",
    "m=0\n",
    "for i in a:\n",
    "    d.update({i:i})\n",
    "z=d.keys()\n",
    "print(z)\n",
    "for z in a:\n",
    "    \n",
    "    if z.isalpha():\n",
    "        n=n+1\n",
    "        \n",
    "    elif z.isspace():\n",
    "        s=s+1\n",
    "       \n",
    "    elif (z.__contains__(\"a\" ) or z.__contains__(\"e\" ) or z.__contains__(\"i\" ) or z.__contains__(\"o\" ) or z.__contains__(\"u\" ) or z.__contains__(\"A\" ) or z.__contains__(\"E\" ) or z.__contains__(\"I\" ) or z.__contains__(\"I\" ) or z.__contains__(\"O\" ) or z.__contains__(\"U\" )):\n",
    "        \n",
    "        v=v+1\n",
    "        \n",
    "    elif z.isdigit():\n",
    "        m=m+1\n",
    "        \n",
    "    elif not(z.isalnum()) and not(z.isspace()):\n",
    "        sp=sp+1\n",
    "        \n",
    "print(\"Alpha\",n)\n",
    "print(\"Spaces\",s)\n",
    "print(\"Vowels\",v)\n",
    "print(\"Digits\",m)\n",
    "print(\"Special Chars\",sp)\n",
    "\n",
    "\n"
   ]
  },
  {
   "cell_type": "code",
   "execution_count": null,
   "id": "90e9d836",
   "metadata": {},
   "outputs": [],
   "source": [
    "a=\"125QWEerfsde @#fw fw\"\n",
    "d={}\n",
    "n=0\n",
    "s=0\n",
    "v=0\n",
    "sp=0\n",
    "m=0\n",
    "for i in a:\n",
    "    if i.isdigit():\n",
    "        n=n+1\n",
    "        d[\"digit\"]=n"
   ]
  },
  {
   "cell_type": "code",
   "execution_count": null,
   "metadata": {},
   "outputs": [],
   "source": [
    "#D4\n",
    "WAP to reverse map the dictionary items. Take dictionary as input from the user.\n",
    "\n",
    "\tFor eg., Input: d = {'A': 65, 'B': 66, 'C': 67, 'D': 68}\n",
    "            Output: d = {65: 'A', 66: 'B', 67: 'C', 68: 'D'}"
   ]
  },
  {
   "cell_type": "code",
   "execution_count": 27,
   "id": "edc44d85",
   "metadata": {},
   "outputs": [
    {
     "name": "stdout",
     "output_type": "stream",
     "text": [
      "{65: 'A', 66: 'B', 67: 'C', 68: 'D'}\n"
     ]
    }
   ],
   "source": [
    "d = {'A': 65, 'B': 66, 'C': 67, 'D': 68}\n",
    "a=dict()\n",
    "for k,v in d.items():\n",
    "    a.update({v:k})\n",
    "print(a)\n"
   ]
  },
  {
   "cell_type": "code",
   "execution_count": null,
   "metadata": {},
   "outputs": [],
   "source": [
    "#D5\n",
    "WAP to save Username and Password of 10 employees in an organisation. \n",
    "Take the Username and Password as input from the user one by one and save in the Dictionary."
   ]
  },
  {
   "cell_type": "code",
   "execution_count": 68,
   "id": "07ddaa8b",
   "metadata": {},
   "outputs": [
    {
     "data": {
      "text/plain": [
       "{'abhi': '123gdsghd', 'akash': 'afs5243'}"
      ]
     },
     "execution_count": 68,
     "metadata": {},
     "output_type": "execute_result"
    }
   ],
   "source": [
    "n=2\n",
    "d=dict()\n",
    "for i in range(n):\n",
    "    u=input()\n",
    "    p=input()\n",
    "    d.update({u:p})\n",
    "d"
   ]
  },
  {
   "cell_type": "code",
   "execution_count": null,
   "metadata": {},
   "outputs": [],
   "source": [
    "#D6\n",
    "Extended Question from #D5\n",
    "Write an additional functionality to check if an employee is present in the organisation or not.\n",
    "Basically \"Search\" Functionality based on their username\n",
    "Take employee name as input from the user.\n",
    "If the employee is present, print \"Present\" else print \"Not Present\""
   ]
  },
  {
   "cell_type": "code",
   "execution_count": 72,
   "metadata": {},
   "outputs": [
    {
     "name": "stdout",
     "output_type": "stream",
     "text": [
      "{'ab': '34', 'ak': '45'}\n",
      "Absent\n"
     ]
    }
   ],
   "source": [
    "n=2\n",
    "d=dict()\n",
    "for i in range(n):\n",
    "    u=input()\n",
    "    p=input()\n",
    "    d.update({u:p})\n",
    "print(d)\n",
    "s=input(\"Enter the name: \")\n",
    "if s in d.keys():\n",
    "    print(\"Present\")\n",
    "else:\n",
    "    print(\"Absent\")"
   ]
  },
  {
   "cell_type": "markdown",
   "metadata": {},
   "source": [
    "### Misc. Questions - i.e. you can use any data type which seems feasible for question"
   ]
  },
  {
   "cell_type": "code",
   "execution_count": null,
   "metadata": {},
   "outputs": [],
   "source": [
    "#M1\n",
    "WAP in python that accepts two integers (n) & (m) from user and \n",
    "computes the value of 2n3 + 5m2 - 7n + 10"
   ]
  },
  {
   "cell_type": "code",
   "execution_count": 73,
   "id": "4136a5c7",
   "metadata": {},
   "outputs": [
    {
     "data": {
      "text/plain": [
       "32"
      ]
     },
     "execution_count": 73,
     "metadata": {},
     "output_type": "execute_result"
    }
   ],
   "source": [
    "#2n3 + 5m2 - 7n + 10\n",
    "n=int(input())\n",
    "m=int(input())\n",
    "2*n*n*n+5*m*m-7*n+10\n"
   ]
  },
  {
   "cell_type": "code",
   "execution_count": null,
   "metadata": {},
   "outputs": [],
   "source": [
    "#M2\n",
    "Write a python program to find the intersection of elements from two list \n",
    "(find the common elements in two lists)."
   ]
  },
  {
   "cell_type": "code",
   "execution_count": 82,
   "id": "e0dfbd95",
   "metadata": {},
   "outputs": [
    {
     "name": "stdout",
     "output_type": "stream",
     "text": [
      "intersection of a: 30 \n",
      "interection of b:  20\n"
     ]
    },
    {
     "data": {
      "text/plain": [
       "{10, 20, 30}"
      ]
     },
     "execution_count": 82,
     "metadata": {},
     "output_type": "execute_result"
    }
   ],
   "source": [
    "a=[10,20,10,30,10,40]\n",
    "b=[20,30,10,20,30,20]\n",
    "c=[]\n",
    "l1=int(len(a)/2)\n",
    "l2=int(len(b)/2)\n",
    "i1=a[l1]\n",
    "i2=b[l2]\n",
    "print(\"intersection of a:\",i1,\"\\ninterection of b: \",i2)\n",
    "for i in a and b:\n",
    "    if a.count(i)>1 or b.count(i)>1:\n",
    "        c.append(i)\n",
    "d=set(c)\n",
    "d"
   ]
  },
  {
   "cell_type": "code",
   "execution_count": null,
   "metadata": {},
   "outputs": [],
   "source": [
    "#M3\n",
    "WAP in Python to find the Max of n numbers all taken as input from the user."
   ]
  },
  {
   "cell_type": "code",
   "execution_count": 85,
   "id": "ad7e3a25",
   "metadata": {},
   "outputs": [
    {
     "name": "stdout",
     "output_type": "stream",
     "text": [
      "40\n"
     ]
    }
   ],
   "source": [
    "n=int(input())\n",
    "c=[]\n",
    "for i in range(n):\n",
    "    a=int(input())\n",
    "    c.append(a)\n",
    "print(c)\n",
    "print(max(c))"
   ]
  },
  {
   "cell_type": "code",
   "execution_count": null,
   "metadata": {},
   "outputs": [],
   "source": [
    "#M4\n",
    "WAP which takes a sequence of numbers from the user and check if all input numbers are unique."
   ]
  },
  {
   "cell_type": "code",
   "execution_count": 29,
   "id": "1dee9da0",
   "metadata": {},
   "outputs": [
    {
     "name": "stdout",
     "output_type": "stream",
     "text": [
      "[10, 20, 30, 30, 30]\n",
      "all numbers are not unique\n"
     ]
    }
   ],
   "source": [
    "n=int(input(\"enter how man number as input\"))\n",
    "c=[]\n",
    "z=0\n",
    "for i in range(n):\n",
    "    a=int(input(\"enter numbers\"))\n",
    "    c.append(a)\n",
    "print(c)\n",
    "for j in c:\n",
    "    if c.count(j)>1:\n",
    "        z=1        \n",
    "if z:\n",
    "    print(\"all numbers are not unique\")\n",
    "else:\n",
    "    print(\"all numbers are unique\")\n",
    "\n"
   ]
  },
  {
   "cell_type": "code",
   "execution_count": null,
   "metadata": {},
   "outputs": [],
   "source": [
    "#M5\n",
    "WAP to reverse a given integer number.\n",
    "Example: Input: 105320\n",
    "        Output: 023501"
   ]
  },
  {
   "cell_type": "code",
   "execution_count": 119,
   "id": "176b6f0e",
   "metadata": {},
   "outputs": [
    {
     "name": "stdout",
     "output_type": "stream",
     "text": [
      "023501\n"
     ]
    }
   ],
   "source": [
    "a=105320\n",
    "b=str(a)\n",
    "print(b[::-1])"
   ]
  },
  {
   "cell_type": "code",
   "execution_count": null,
   "metadata": {},
   "outputs": [],
   "source": [
    "#M6\n",
    "WAP to take 10 integer inputs from the user and save them in a list. \n",
    "The inputs have to be mix of even and odd numbers. \n",
    "Now make one list to save all the even numbers from the input list. \n",
    "Make another list for odd numbers too."
   ]
  },
  {
   "cell_type": "code",
   "execution_count": 120,
   "id": "4d8cf4d8",
   "metadata": {},
   "outputs": [
    {
     "name": "stdout",
     "output_type": "stream",
     "text": [
      "[10, 20, 33, 36, 35, 47, 62, 13, 69, 84]\n",
      "Even Numbers :  [10, 20, 36, 62, 84]\n",
      "Odd Numbers :  [33, 35, 47, 13, 69]\n"
     ]
    }
   ],
   "source": [
    "n=int(input(\"how many no want to add: \"))\n",
    "m=[]\n",
    "e=[]\n",
    "o=[]\n",
    "for i in range(n):\n",
    "    num=int(input())\n",
    "    m.append(num)\n",
    "print(m)\n",
    "for j in m:\n",
    "    if j%2==0:\n",
    "        e.append(j)\n",
    "    else:\n",
    "        o.append(j)\n",
    "\n",
    "print(\"Even Numbers : \",e)\n",
    "print(\"Odd Numbers : \",o)\n"
   ]
  },
  {
   "cell_type": "code",
   "execution_count": null,
   "metadata": {},
   "outputs": [],
   "source": [
    "#M7\n",
    "WAP to convert temperature in Fahrenheit to Celsius. Take the temperature from the user in float type."
   ]
  },
  {
   "cell_type": "code",
   "execution_count": 122,
   "id": "f0681906",
   "metadata": {},
   "outputs": [
    {
     "name": "stdout",
     "output_type": "stream",
     "text": [
      "farh temp is 55.58 and cel temp is: 13.1\n"
     ]
    }
   ],
   "source": [
    "n=float(input(\"Enter temp: \"))\n",
    "c=round((n - 32) * 5/9 ,2)\n",
    "print(f\"farh temp is {n} and cel temp is: {c}\")"
   ]
  },
  {
   "cell_type": "code",
   "execution_count": null,
   "metadata": {},
   "outputs": [],
   "source": [
    "#M8\n",
    "WAP to continuously take Names as input from the user. \n",
    "Save the incoming names into a list as Full Name and save {First Name:Second Name} in a dictionary.\n",
    "Take inputs till the user enters \"Stop\"\n",
    "\n",
    "For e.g.: Input: \"Shahrukh Khan\", \"Gauri Khan\",...................\"Stop\"\n",
    "         Output: list1 = [\"Shahrukh Khan\", \"Gauri Khan\",....................]\n",
    "                dict1 = {\"Shahrukh\":\"Khan\", \"Gauri\":\"Khan\", .....................}"
   ]
  },
  {
   "cell_type": "code",
   "execution_count": 190,
   "id": "63f49f73",
   "metadata": {},
   "outputs": [
    {
     "name": "stdout",
     "output_type": "stream",
     "text": [
      "['abhi', 'sal', 'akash', 'pat']\n"
     ]
    },
    {
     "data": {
      "text/plain": [
       "{'abhi': 'sal', 'akash': 'pat'}"
      ]
     },
     "execution_count": 190,
     "metadata": {},
     "output_type": "execute_result"
    }
   ],
   "source": [
    "c=[]\n",
    "l=[]\n",
    "d=dict()\n",
    "n=\"stop\"\n",
    "\n",
    "while True:\n",
    "    n=input(\"Enter the Name: \")\n",
    "    if n==\"stop\":\n",
    "        break\n",
    "    l.append(n)    \n",
    "l\n",
    "for i in range(0,len(l)):\n",
    "    c.append(l[i].split(\" \"))\n",
    "    j=sum(c,[])\n",
    "print(j)   \n",
    "g = {j[k]: j[k + 1] for k in range(0, len(j), 2)}  \n",
    "g\n",
    "   \n",
    "   \n",
    "    \n"
   ]
  },
  {
   "cell_type": "code",
   "execution_count": null,
   "metadata": {},
   "outputs": [],
   "source": [
    "#M9\n",
    "WAP to make a simple and compound interest calculator. Take all the necessary data as input from the user.\n",
    "Simple Interest = (P*T*R)/100\n",
    "\n",
    "Compound Interest = P * ( (1+r/100 )t - 1)"
   ]
  },
  {
   "cell_type": "code",
   "execution_count": 192,
   "metadata": {},
   "outputs": [
    {
     "name": "stdout",
     "output_type": "stream",
     "text": [
      "Simple int:  2986.66\n",
      "Compound int:  3726.1\n"
     ]
    }
   ],
   "source": [
    "p= float(input('Principal: '))\n",
    "t = float(input('Time: '))\n",
    "r = float(input('Rate: '))\n",
    "\n",
    "si = (p*t*r)/100\n",
    "print('Simple int: ',round(si,2))\n",
    "ci = p * ( (1+r/100)**t - 1)\n",
    "print('Compound int: ',round(ci,2))"
   ]
  },
  {
   "cell_type": "code",
   "execution_count": 27,
   "metadata": {},
   "outputs": [
    {
     "name": "stdout",
     "output_type": "stream",
     "text": [
      "\n",
      "\n",
      "Recursion Example Results\n",
      "1\n",
      "3\n",
      "6\n",
      "10\n",
      "15\n",
      "21\n"
     ]
    },
    {
     "data": {
      "text/plain": [
       "21"
      ]
     },
     "execution_count": 27,
     "metadata": {},
     "output_type": "execute_result"
    }
   ],
   "source": [
    "def tri_recursion(k):\n",
    "    if(k > 0):\n",
    "      result = k + tri_recursion(k - 1)\n",
    "      print(result)\n",
    "    else:\n",
    "       result = 0\n",
    "    return result\n",
    "\n",
    "print(\"\\n\\nRecursion Example Results\")\n",
    "tri_recursion(6)"
   ]
  },
  {
   "cell_type": "code",
   "execution_count": null,
   "metadata": {},
   "outputs": [],
   "source": []
  },
  {
   "cell_type": "code",
   "execution_count": null,
   "metadata": {},
   "outputs": [],
   "source": []
  }
 ],
 "metadata": {
  "kernelspec": {
   "display_name": "Python 3",
   "language": "python",
   "name": "python3"
  },
  "language_info": {
   "codemirror_mode": {
    "name": "ipython",
    "version": 3
   },
   "file_extension": ".py",
   "mimetype": "text/x-python",
   "name": "python",
   "nbconvert_exporter": "python",
   "pygments_lexer": "ipython3",
   "version": "3.9.13"
  }
 },
 "nbformat": 4,
 "nbformat_minor": 5
}

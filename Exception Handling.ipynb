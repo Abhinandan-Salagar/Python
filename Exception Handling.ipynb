{
 "cells": [
  {
   "cell_type": "markdown",
   "id": "cc9a2973",
   "metadata": {},
   "source": [
    "# Exception Handling\n",
    "\n",
    "- Method to catch the errorv(Rum  Time) is known as Exception Handling\n"
   ]
  },
  {
   "cell_type": "code",
   "execution_count": null,
   "id": "f866ddc7",
   "metadata": {},
   "outputs": [],
   "source": []
  },
  {
   "cell_type": "markdown",
   "id": "64adf011",
   "metadata": {},
   "source": [
    "#### 1. Compile Time Error\n",
    "\n",
    "- Any Syntax Error\n",
    "- PVM doesnot allow you to move to the OUTPUT screen\n",
    "- As it scans the code from top to bottom it will stop and through the ERROR message on any occurence.\n"
   ]
  },
  {
   "cell_type": "code",
   "execution_count": 6,
   "id": "9c44fdd1",
   "metadata": {},
   "outputs": [
    {
     "ename": "SyntaxError",
     "evalue": "invalid syntax (185161451.py, line 2)",
     "output_type": "error",
     "traceback": [
      "\u001b[1;36m  File \u001b[1;32m\"C:\\Users\\Nitish\\AppData\\Local\\Temp\\ipykernel_30724\\185161451.py\"\u001b[1;36m, line \u001b[1;32m2\u001b[0m\n\u001b[1;33m    for i in range(10)\u001b[0m\n\u001b[1;37m                      ^\u001b[0m\n\u001b[1;31mSyntaxError\u001b[0m\u001b[1;31m:\u001b[0m invalid syntax\n"
     ]
    }
   ],
   "source": [
    "print(\"Hi\")\n",
    "for i in range(10)\n",
    "    print(i)"
   ]
  },
  {
   "cell_type": "code",
   "execution_count": 7,
   "id": "2f81bfb4",
   "metadata": {},
   "outputs": [
    {
     "ename": "SyntaxError",
     "evalue": "invalid syntax (1391498986.py, line 3)",
     "output_type": "error",
     "traceback": [
      "\u001b[1;36m  File \u001b[1;32m\"C:\\Users\\Nitish\\AppData\\Local\\Temp\\ipykernel_30724\\1391498986.py\"\u001b[1;36m, line \u001b[1;32m3\u001b[0m\n\u001b[1;33m    print( 25 / 5 )\u001b[0m\n\u001b[1;37m    ^\u001b[0m\n\u001b[1;31mSyntaxError\u001b[0m\u001b[1;31m:\u001b[0m invalid syntax\n"
     ]
    }
   ],
   "source": [
    "print( 10 * 6 )\n",
    "print( 14 - 6 \n",
    "print( 25 / 5 )"
   ]
  },
  {
   "cell_type": "code",
   "execution_count": 8,
   "id": "71eaa5d7",
   "metadata": {},
   "outputs": [
    {
     "ename": "SyntaxError",
     "evalue": "invalid syntax (1978892918.py, line 5)",
     "output_type": "error",
     "traceback": [
      "\u001b[1;36m  File \u001b[1;32m\"C:\\Users\\Nitish\\AppData\\Local\\Temp\\ipykernel_30724\\1978892918.py\"\u001b[1;36m, line \u001b[1;32m5\u001b[0m\n\u001b[1;33m    else :\u001b[0m\n\u001b[1;37m    ^\u001b[0m\n\u001b[1;31mSyntaxError\u001b[0m\u001b[1;31m:\u001b[0m invalid syntax\n"
     ]
    }
   ],
   "source": [
    "num = 11\n",
    "\n",
    "if num %2 == 0 : \n",
    "    print(\"even\")\n",
    "    else : \n",
    "        print(\"Odd\")"
   ]
  },
  {
   "cell_type": "markdown",
   "id": "eb3725f8",
   "metadata": {},
   "source": [
    "#### 2.  Run Time Error\n",
    "\n",
    "- As it scans the code from top to bottom it will run the program if there is no SYNTAX error. \n",
    "- If there is any error found while EXECUTING the code, then it will stop the program\n",
    "- \n"
   ]
  },
  {
   "cell_type": "code",
   "execution_count": 9,
   "id": "167f03d4",
   "metadata": {},
   "outputs": [
    {
     "name": "stdout",
     "output_type": "stream",
     "text": [
      "Start\n"
     ]
    },
    {
     "ename": "FileNotFoundError",
     "evalue": "[Errno 2] No such file or directory: 'data.txt'",
     "output_type": "error",
     "traceback": [
      "\u001b[1;31m---------------------------------------------------------------------------\u001b[0m",
      "\u001b[1;31mFileNotFoundError\u001b[0m                         Traceback (most recent call last)",
      "\u001b[1;32m~\\AppData\\Local\\Temp\\ipykernel_30724\\4174855667.py\u001b[0m in \u001b[0;36m<module>\u001b[1;34m\u001b[0m\n\u001b[0;32m      1\u001b[0m \u001b[0mprint\u001b[0m\u001b[1;33m(\u001b[0m\u001b[1;34m\"Start\"\u001b[0m\u001b[1;33m)\u001b[0m\u001b[1;33m\u001b[0m\u001b[1;33m\u001b[0m\u001b[0m\n\u001b[0;32m      2\u001b[0m \u001b[1;33m\u001b[0m\u001b[0m\n\u001b[1;32m----> 3\u001b[1;33m \u001b[0mf\u001b[0m \u001b[1;33m=\u001b[0m \u001b[0mopen\u001b[0m\u001b[1;33m(\u001b[0m\u001b[1;34m\"data.txt\"\u001b[0m\u001b[1;33m,\u001b[0m \u001b[1;34m\"r\"\u001b[0m\u001b[1;33m)\u001b[0m\u001b[1;33m\u001b[0m\u001b[1;33m\u001b[0m\u001b[0m\n\u001b[0m\u001b[0;32m      4\u001b[0m \u001b[0mprint\u001b[0m\u001b[1;33m(\u001b[0m\u001b[0mf\u001b[0m\u001b[1;33m.\u001b[0m\u001b[0mread\u001b[0m\u001b[1;33m(\u001b[0m\u001b[1;33m)\u001b[0m\u001b[1;33m)\u001b[0m\u001b[1;33m\u001b[0m\u001b[1;33m\u001b[0m\u001b[0m\n\u001b[0;32m      5\u001b[0m \u001b[0mf\u001b[0m\u001b[1;33m.\u001b[0m\u001b[0mclose\u001b[0m\u001b[1;33m(\u001b[0m\u001b[1;33m)\u001b[0m\u001b[1;33m\u001b[0m\u001b[1;33m\u001b[0m\u001b[0m\n",
      "\u001b[1;31mFileNotFoundError\u001b[0m: [Errno 2] No such file or directory: 'data.txt'"
     ]
    }
   ],
   "source": [
    "print(\"Start\")\n",
    "\n",
    "f = open(\"data.txt\", \"r\")\n",
    "print(f.read())\n",
    "f.close()\n",
    "\n",
    "print('End')"
   ]
  },
  {
   "cell_type": "code",
   "execution_count": 10,
   "id": "fc1ccf07",
   "metadata": {},
   "outputs": [
    {
     "name": "stdout",
     "output_type": "stream",
     "text": [
      "Start\n"
     ]
    },
    {
     "ename": "IndexError",
     "evalue": "list index out of range",
     "output_type": "error",
     "traceback": [
      "\u001b[1;31m---------------------------------------------------------------------------\u001b[0m",
      "\u001b[1;31mIndexError\u001b[0m                                Traceback (most recent call last)",
      "\u001b[1;32m~\\AppData\\Local\\Temp\\ipykernel_30724\\914522244.py\u001b[0m in \u001b[0;36m<module>\u001b[1;34m\u001b[0m\n\u001b[0;32m      2\u001b[0m \u001b[1;33m\u001b[0m\u001b[0m\n\u001b[0;32m      3\u001b[0m \u001b[0mfruits\u001b[0m \u001b[1;33m=\u001b[0m \u001b[1;33m[\u001b[0m\u001b[1;34m\"apple\"\u001b[0m\u001b[1;33m,\u001b[0m \u001b[1;34m\"banana\"\u001b[0m\u001b[1;33m,\u001b[0m \u001b[1;34m\"grapes\"\u001b[0m\u001b[1;33m,\u001b[0m \u001b[1;34m\"mango\"\u001b[0m\u001b[1;33m]\u001b[0m\u001b[1;33m\u001b[0m\u001b[1;33m\u001b[0m\u001b[0m\n\u001b[1;32m----> 4\u001b[1;33m \u001b[0mprint\u001b[0m\u001b[1;33m(\u001b[0m \u001b[0mfruits\u001b[0m\u001b[1;33m[\u001b[0m\u001b[1;36m4\u001b[0m\u001b[1;33m]\u001b[0m \u001b[1;33m)\u001b[0m\u001b[1;33m\u001b[0m\u001b[1;33m\u001b[0m\u001b[0m\n\u001b[0m\u001b[0;32m      5\u001b[0m \u001b[1;33m\u001b[0m\u001b[0m\n\u001b[0;32m      6\u001b[0m \u001b[0mprint\u001b[0m\u001b[1;33m(\u001b[0m\u001b[1;34m'End'\u001b[0m\u001b[1;33m)\u001b[0m\u001b[1;33m\u001b[0m\u001b[1;33m\u001b[0m\u001b[0m\n",
      "\u001b[1;31mIndexError\u001b[0m: list index out of range"
     ]
    }
   ],
   "source": [
    "print(\"Start\")\n",
    "\n",
    "fruits = [\"apple\", \"banana\", \"grapes\", \"mango\"] # 0 1 2 3\n",
    "print( fruits[4] )\n",
    "\n",
    "print('End')"
   ]
  },
  {
   "cell_type": "code",
   "execution_count": 11,
   "id": "e1f23ef4",
   "metadata": {},
   "outputs": [
    {
     "name": "stdout",
     "output_type": "stream",
     "text": [
      "60\n",
      "1.6666666666666667\n",
      "1\n"
     ]
    },
    {
     "ename": "ZeroDivisionError",
     "evalue": "division by zero",
     "output_type": "error",
     "traceback": [
      "\u001b[1;31m---------------------------------------------------------------------------\u001b[0m",
      "\u001b[1;31mZeroDivisionError\u001b[0m                         Traceback (most recent call last)",
      "\u001b[1;32m~\\AppData\\Local\\Temp\\ipykernel_30724\\2863527138.py\u001b[0m in \u001b[0;36m<module>\u001b[1;34m\u001b[0m\n\u001b[0;32m      2\u001b[0m \u001b[0mprint\u001b[0m\u001b[1;33m(\u001b[0m \u001b[1;36m10\u001b[0m \u001b[1;33m/\u001b[0m \u001b[1;36m6\u001b[0m \u001b[1;33m)\u001b[0m\u001b[1;33m\u001b[0m\u001b[1;33m\u001b[0m\u001b[0m\n\u001b[0;32m      3\u001b[0m \u001b[0mprint\u001b[0m\u001b[1;33m(\u001b[0m \u001b[1;36m10\u001b[0m \u001b[1;33m//\u001b[0m \u001b[1;36m6\u001b[0m \u001b[1;33m)\u001b[0m\u001b[1;33m\u001b[0m\u001b[1;33m\u001b[0m\u001b[0m\n\u001b[1;32m----> 4\u001b[1;33m \u001b[0mprint\u001b[0m\u001b[1;33m(\u001b[0m \u001b[1;36m10\u001b[0m \u001b[1;33m/\u001b[0m\u001b[1;36m0\u001b[0m \u001b[1;33m)\u001b[0m\u001b[1;33m\u001b[0m\u001b[1;33m\u001b[0m\u001b[0m\n\u001b[0m",
      "\u001b[1;31mZeroDivisionError\u001b[0m: division by zero"
     ]
    }
   ],
   "source": [
    "print( 10 * 6 )\n",
    "print( 10 / 6 )\n",
    "print( 10 // 6 )\n",
    "print( 10 /0 )"
   ]
  },
  {
   "cell_type": "code",
   "execution_count": null,
   "id": "2d8ab86b",
   "metadata": {},
   "outputs": [],
   "source": []
  },
  {
   "cell_type": "code",
   "execution_count": 13,
   "id": "ed86638b",
   "metadata": {},
   "outputs": [
    {
     "name": "stdout",
     "output_type": "stream",
     "text": [
      "Final Salayr =  11000.0\n"
     ]
    }
   ],
   "source": [
    "salary = 10000\n",
    "\n",
    "salary = salary + salary * 0.1\n",
    "print(\"Final Salayr = \", salary)\n"
   ]
  },
  {
   "cell_type": "code",
   "execution_count": null,
   "id": "f47c6eea",
   "metadata": {},
   "outputs": [],
   "source": []
  },
  {
   "cell_type": "markdown",
   "id": "3434a6bb",
   "metadata": {},
   "source": [
    "## Warnings vs Errors\n",
    "\n",
    "Warnings are the message displayed by the Interpreter to make you aware of the changes\n",
    "\n",
    "https://docs.python.org/3/library/warnings.html\n",
    "\n",
    "\n",
    "Exceptions : \n",
    "https://docs.python.org/3/library/exceptions.html\n"
   ]
  },
  {
   "cell_type": "code",
   "execution_count": 14,
   "id": "4dc4f61c",
   "metadata": {},
   "outputs": [],
   "source": [
    "import math"
   ]
  },
  {
   "cell_type": "code",
   "execution_count": 15,
   "id": "e1835797",
   "metadata": {},
   "outputs": [
    {
     "name": "stdout",
     "output_type": "stream",
     "text": [
      "['__doc__', '__loader__', '__name__', '__package__', '__spec__', 'acos', 'acosh', 'asin', 'asinh', 'atan', 'atan2', 'atanh', 'ceil', 'comb', 'copysign', 'cos', 'cosh', 'degrees', 'dist', 'e', 'erf', 'erfc', 'exp', 'expm1', 'fabs', 'factorial', 'floor', 'fmod', 'frexp', 'fsum', 'gamma', 'gcd', 'hypot', 'inf', 'isclose', 'isfinite', 'isinf', 'isnan', 'isqrt', 'lcm', 'ldexp', 'lgamma', 'log', 'log10', 'log1p', 'log2', 'modf', 'nan', 'nextafter', 'perm', 'pi', 'pow', 'prod', 'radians', 'remainder', 'sin', 'sinh', 'sqrt', 'tan', 'tanh', 'tau', 'trunc', 'ulp']\n"
     ]
    }
   ],
   "source": [
    "print( dir(math) )"
   ]
  },
  {
   "cell_type": "markdown",
   "id": "4f4c1a81",
   "metadata": {},
   "source": [
    "## Block of Exception Handling\n",
    "\n",
    "try : \n",
    "    statements\n",
    "    statements\n",
    "    statements\n",
    "\n",
    "except : \n",
    "    statements\n",
    "    statements\n",
    "    statements\n",
    "    \n",
    "finally : \n",
    "    statements\n",
    "    statements\n"
   ]
  },
  {
   "cell_type": "code",
   "execution_count": null,
   "id": "6a59b49a",
   "metadata": {},
   "outputs": [],
   "source": [
    "## Block of Exception Handling\n",
    "\n",
    "try : \n",
    "    statements\n",
    "    statements\n",
    "    try : \n",
    "    statements\n",
    "    statements\n",
    "    statements\n",
    "\n",
    "    except : \n",
    "        statements\n",
    "        statements\n",
    "        statements\n",
    "\n",
    "    statements\n",
    "\n",
    "except : \n",
    "    statements\n",
    "    statements\n",
    "    try : \n",
    "    statements\n",
    "    statements\n",
    "    statements\n",
    "\n",
    "    except : \n",
    "        statements\n",
    "        statements\n",
    "        statements\n",
    "\n",
    "    statements\n",
    "    \n",
    "finally : \n",
    "    statements\n",
    "    statements\n"
   ]
  },
  {
   "cell_type": "markdown",
   "id": "37f23c7d",
   "metadata": {},
   "source": [
    "try block : \n",
    "    \n",
    "- what all code where as a develooper you can predit it can contain the error, you write that line of code inscsse the try block\n"
   ]
  },
  {
   "cell_type": "markdown",
   "id": "c1ceec4a",
   "metadata": {},
   "source": [
    "except block : \n",
    "\n",
    "- we take care of the alternate solution for the RUN TIME error"
   ]
  },
  {
   "cell_type": "markdown",
   "id": "50f7c50f",
   "metadata": {},
   "source": [
    "finally  : \n",
    "\n",
    "- this block is always executed\n",
    "- Application : Last Message befoire wrapping up, send an email , delete the junk file, change the folder..."
   ]
  },
  {
   "cell_type": "markdown",
   "id": "f8ab2467",
   "metadata": {},
   "source": [
    "**NOTES**\n",
    "\n",
    "- try block can exist with or without excpet and finally blocks\n",
    "- except and finally block cannot exist without try block"
   ]
  },
  {
   "cell_type": "code",
   "execution_count": null,
   "id": "871044ae",
   "metadata": {},
   "outputs": [],
   "source": []
  },
  {
   "cell_type": "code",
   "execution_count": null,
   "id": "8038365c",
   "metadata": {},
   "outputs": [],
   "source": []
  },
  {
   "cell_type": "code",
   "execution_count": null,
   "id": "b0de7df1",
   "metadata": {},
   "outputs": [],
   "source": [
    "## Basic Example\n",
    "print(\"Start\")\n",
    "    \n",
    "try : \n",
    "    # Division Example\n",
    "    numerator = int( input( \"Write the Numerator : \" ) )\n",
    "    denominator = int(input(\"Write the Denominator : \"))\n",
    "    res = numerator / denominator\n",
    "    print(res)\n",
    "    \n",
    "\n",
    "except : \n",
    "    print(\"error Found\")\n",
    "    \n",
    "finally : \n",
    "    print(\"________________ thank you ________________\") \n",
    "\n",
    "print(\"End\")\n"
   ]
  },
  {
   "cell_type": "code",
   "execution_count": null,
   "id": "3ba16459",
   "metadata": {},
   "outputs": [],
   "source": [
    "a=int(input(\"Enter first number:\"))\n",
    "b=int(input(\"Enter second number:\"))\n",
    "\n",
    "try:\n",
    "    res=a/b \n",
    "    \n",
    "except ValueError:\n",
    "    try:\n",
    "        res=a/int(input(\"enter number only:\"))   \n",
    "    except:\n",
    "        print(\"characters not accepted\") #10/0\n",
    "except ZeroDivisionError:\n",
    "    try:\n",
    "        res=a/int(input(\"enter number other than zero:\"))\n",
    "    except :\n",
    "        print(\"enter number other than zero\")\n",
    "  \n",
    "else:\n",
    "    print(res)\n",
    "finally:\n",
    "    print(\"Success\")"
   ]
  },
  {
   "cell_type": "code",
   "execution_count": null,
   "id": "c445683a",
   "metadata": {},
   "outputs": [],
   "source": []
  },
  {
   "cell_type": "code",
   "execution_count": 39,
   "id": "394d4693",
   "metadata": {},
   "outputs": [
    {
     "name": "stdout",
     "output_type": "stream",
     "text": [
      "Start\n",
      "Division Answer : 4.0\n",
      "List Example :  apple\n",
      "File Example : \n",
      " Python is easy to go language  \n",
      "  There is a vast collection of packages here \n",
      "There is no Void Functions\n",
      "There are no pointers\n",
      "there are no termination of code with ;\n",
      "\n",
      "Module Example\n",
      "... Error Found ... \n",
      "________________ thank you ________________\n",
      "End\n"
     ]
    }
   ],
   "source": [
    "## Basic Example with Except Block\n",
    "\n",
    "\n",
    "print(\"Start\")\n",
    "    \n",
    "try : \n",
    "    # Division Example\n",
    "    numerator = 100\n",
    "    denominator = 25\n",
    "    res = numerator / denominator\n",
    "    print(\"Division Answer :\", res)\n",
    "    \n",
    "    # List Example\n",
    "    fruits = [\"apple\", \"banana\", \"grapes\", \"mango\"] # 0 1 2 3\n",
    "    print( \"List Example : \", fruits[0] )\n",
    "    \n",
    "    # File Example\n",
    "    fileName = \"python.txt\" # \"python.txt\"\n",
    "    f = open(fileName, \"r\")\n",
    "    print(\"File Example : \")\n",
    "    print(f.read())\n",
    "    f.close()\n",
    "    \n",
    "    # Module Example\n",
    "    print(\"Module Example\")\n",
    "    from math import *\n",
    "    from myFile import * # myFile.py\n",
    "    \n",
    "except : \n",
    "    print(\"... Error Found ... \")\n",
    "    \n",
    "finally : \n",
    "    print(\"________________ thank you ________________\") \n",
    "\n",
    "print(\"End\")\n"
   ]
  },
  {
   "cell_type": "code",
   "execution_count": null,
   "id": "81ed333b",
   "metadata": {},
   "outputs": [],
   "source": [
    "# Division Example\n",
    "numerator = 100\n",
    "denominator = 25\n",
    "res = numerator / denominator\n",
    "print(\"Division Answer :\", res)\n",
    "\n",
    "# List Example\n",
    "fruits = [\"apple\", \"banana\", \"grapes\", \"mango\"] # 0 1 2 3\n",
    "print( \"List Example : \", fruits[10] )\n",
    "\n",
    "# File Example\n",
    "f = open(\"python.txt\", \"r\")\n",
    "print(\"File Example : \")\n",
    "print(f.read())\n",
    "f.close()\n",
    "\n",
    "# Module Example\n",
    "print(\"Module Example\")\n",
    "from math import *\n",
    "#     from myFile import *"
   ]
  },
  {
   "cell_type": "code",
   "execution_count": null,
   "id": "031adb99",
   "metadata": {},
   "outputs": [],
   "source": [
    "a=\"hello\"\n",
    "if not type(a) is int:\n",
    "    raise TypeError(\"only integer values allowed\")\n"
   ]
  },
  {
   "cell_type": "code",
   "execution_count": 47,
   "id": "68f20a0e",
   "metadata": {},
   "outputs": [
    {
     "name": "stdout",
     "output_type": "stream",
     "text": [
      "Start\n",
      "Division Answer : 5.0\n",
      "Error Found ==>  list index out of range\n",
      "________________ thank you ________________\n",
      "End\n"
     ]
    }
   ],
   "source": [
    "## Example with Except Block and Exception Classes\n",
    "\n",
    "\n",
    "print(\"Start\")\n",
    "    \n",
    "try : \n",
    "    # Division Example\n",
    "    numerator = 100\n",
    "    denominator = 20\n",
    "    res = numerator / denominator\n",
    "    print(\"Division Answer :\", res)\n",
    "    \n",
    "    # List Example\n",
    "    fruits = [\"apple\", \"banana\", \"grapes\", \"mango\"] # 0 1 2 3\n",
    "    print( \"List Example : \", fruits[10] )\n",
    "    \n",
    "    # File Example\n",
    "    fileName = \"python.txt\" # \"python.txt\"\n",
    "    f = open(fileName, \"r\")\n",
    "    print(\"File Example : \")\n",
    "    print(f.read())\n",
    "    f.close()\n",
    "    \n",
    "    # Module Example\n",
    "    print(\"Module Example\")\n",
    "    from math import *\n",
    "    from myFile import * # myFile.py\n",
    "    \n",
    "except Exception as e : \n",
    "    print(\"Error Found ==> \", e)\n",
    "    \n",
    "finally : \n",
    "    print(\"________________ thank you ________________\") \n",
    "\n",
    "print(\"End\")\n"
   ]
  },
  {
   "cell_type": "code",
   "execution_count": null,
   "id": "96cf82e9",
   "metadata": {},
   "outputs": [],
   "source": []
  },
  {
   "cell_type": "code",
   "execution_count": 49,
   "id": "50190413",
   "metadata": {},
   "outputs": [
    {
     "name": "stdout",
     "output_type": "stream",
     "text": [
      "Start\n",
      "Division Answer : 10.0\n",
      "List Example :  apple\n",
      "File Example : \n",
      " Python is easy to go language  \n",
      "  There is a vast collection of packages here \n",
      "There is no Void Functions\n",
      "There are no pointers\n",
      "there are no termination of code with ;\n",
      "\n",
      "Module Example\n",
      "Error Found ==>  No module named 'myFile'\n",
      "________________ thank you ________________\n",
      "End\n"
     ]
    }
   ],
   "source": [
    "## Example with Except Block and SPECIFIC Exception Classes\n",
    "\n",
    "\n",
    "print(\"Start\")\n",
    "    \n",
    "try : \n",
    "    # Division Example\n",
    "    numerator = 100\n",
    "    denominator = 10\n",
    "    res = numerator / denominator\n",
    "    print(\"Division Answer :\", res)\n",
    "    \n",
    "    # List Example\n",
    "    fruits = [\"apple\", \"banana\", \"grapes\", \"mango\"] # 0 1 2 3\n",
    "    print( \"List Example : \", fruits[0] )\n",
    "    \n",
    "    # File Example\n",
    "    fileName = \"python.txt\" # \"python.txt\"\n",
    "    f = open(fileName, \"r\")\n",
    "    print(\"File Example : \")\n",
    "    print(f.read())\n",
    "    f.close()\n",
    "    \n",
    "    # Module Example\n",
    "    print(\"Module Example\")\n",
    "    from math import *\n",
    "    from myFile import * # myFile.py\n",
    "\n",
    "except ZeroDivisionError : \n",
    "    print(\"Check the Denominator Carefully ........... \")\n",
    "    \n",
    "except IndexError : \n",
    "    print(\"LIST INDex\")\n",
    "\n",
    "\n",
    "except Exception as e : \n",
    "    print(\"Error Found ==> \", e)\n",
    "    \n",
    "finally : \n",
    "    print(\"________________ thank you ________________\") \n",
    "\n",
    "print(\"End\")\n"
   ]
  },
  {
   "cell_type": "code",
   "execution_count": null,
   "id": "d80f619d",
   "metadata": {},
   "outputs": [],
   "source": []
  },
  {
   "cell_type": "code",
   "execution_count": null,
   "id": "c1f08394",
   "metadata": {},
   "outputs": [],
   "source": []
  },
  {
   "cell_type": "code",
   "execution_count": null,
   "id": "f7de4ff0",
   "metadata": {},
   "outputs": [],
   "source": []
  }
 ],
 "metadata": {
  "kernelspec": {
   "display_name": "Python 3 (ipykernel)",
   "language": "python",
   "name": "python3"
  },
  "language_info": {
   "codemirror_mode": {
    "name": "ipython",
    "version": 3
   },
   "file_extension": ".py",
   "mimetype": "text/x-python",
   "name": "python",
   "nbconvert_exporter": "python",
   "pygments_lexer": "ipython3",
   "version": "3.9.13"
  }
 },
 "nbformat": 4,
 "nbformat_minor": 5
}

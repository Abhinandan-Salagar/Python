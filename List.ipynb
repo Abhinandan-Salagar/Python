{
 "cells": [
  {
   "cell_type": "markdown",
   "id": "87352e81",
   "metadata": {},
   "source": [
    "# List\n",
    "\n",
    "- collection of different datatype elements\n",
    "- []\n",
    "- Ordered object -> access any element with respect to position number\n",
    "- Mutable Object -> Modify the element at any position number"
   ]
  },
  {
   "cell_type": "code",
   "execution_count": 1,
   "id": "4ee275a2",
   "metadata": {},
   "outputs": [
    {
     "name": "stdout",
     "output_type": "stream",
     "text": [
      "<class 'list'>\n"
     ]
    }
   ],
   "source": [
    "s1 = []\n",
    "print( type( s1 ) )"
   ]
  },
  {
   "cell_type": "code",
   "execution_count": 3,
   "id": "dc373831",
   "metadata": {},
   "outputs": [
    {
     "name": "stdout",
     "output_type": "stream",
     "text": [
      "[11, 3.25, False, 6j, 'blue', 'orange', -8]\n",
      "<class 'list'>\n"
     ]
    }
   ],
   "source": [
    "s1 = [ 11, 3.25, False, 6j, \"blue\", \"orange\", -8 ]\n",
    "print(s1)\n",
    "print( type( s1 ) )\n"
   ]
  },
  {
   "cell_type": "markdown",
   "id": "65b40374",
   "metadata": {},
   "source": [
    "## Basic Properties"
   ]
  },
  {
   "cell_type": "code",
   "execution_count": 4,
   "id": "dda81480",
   "metadata": {},
   "outputs": [
    {
     "name": "stdout",
     "output_type": "stream",
     "text": [
      "[11, 3.25, False, 6j, 'blue', 'orange', -8]\n",
      "7\n"
     ]
    }
   ],
   "source": [
    "## 1. Length : return the total elements inside the list\n",
    "\n",
    "s1 = [ 11, 3.25, False, 6j, \"blue\", \"orange\", -8 ]\n",
    "print(s1)\n",
    "print( len(s1) )"
   ]
  },
  {
   "cell_type": "code",
   "execution_count": 9,
   "id": "296f0bd1",
   "metadata": {},
   "outputs": [
    {
     "name": "stdout",
     "output_type": "stream",
     "text": [
      "[11, 3.25, False, 6j, 'blue', 'orange', -8]\n",
      "3.25\n",
      "blue\n",
      "-8\n",
      "-8\n",
      "-8\n"
     ]
    }
   ],
   "source": [
    "# 2. Indexing : Return the element at specified position number. Ordered Object\n",
    "# list[position]\n",
    "\n",
    "s1 = [ 11, 3.25, False, 6j, \"blue\", \"orange\", -8 ]\n",
    "print(s1)\n",
    "\n",
    "\n",
    "# 3.25\n",
    "print( s1[1] )\n",
    "\n",
    "# blue\n",
    "print( s1[4] )\n",
    "\n",
    "\n",
    "# -8\n",
    "print( s1[ 6 ] )\n",
    "print( s1[ len(s1) - 1 ] )\n",
    "print( s1[ -1 ] )\n",
    "\n"
   ]
  },
  {
   "cell_type": "code",
   "execution_count": null,
   "id": "1073f7af",
   "metadata": {},
   "outputs": [],
   "source": [
    "# 3. slicing : return the number of elements between start and stop\n",
    "# list[start : end : step]\n",
    "# end is not included\n",
    "\n",
    "# default values\n",
    "# start : 0\n",
    "# end : len \n",
    "# step : 1\n"
   ]
  },
  {
   "cell_type": "code",
   "execution_count": 13,
   "id": "70449fb6",
   "metadata": {},
   "outputs": [
    {
     "name": "stdout",
     "output_type": "stream",
     "text": [
      "[11, 3.25, False, 6j, 'blue', 'orange', -8]\n",
      "[11, 3.25]\n",
      "[11, 3.25]\n",
      "[11, 3.25]\n"
     ]
    }
   ],
   "source": [
    "s1 = [ 11, 3.25, False, 6j, \"blue\", \"orange\", -8 ]\n",
    "print(s1)\n",
    "\n",
    "# display first 2 elements...\n",
    "print( s1[ 0 : 2 : 1 ] )\n",
    "print( s1[ 0 : 2  ] )\n",
    "print( s1[ : 2 ] )"
   ]
  },
  {
   "cell_type": "code",
   "execution_count": 15,
   "id": "9d1b6821",
   "metadata": {},
   "outputs": [
    {
     "name": "stdout",
     "output_type": "stream",
     "text": [
      "['blue', 'orange']\n"
     ]
    }
   ],
   "source": [
    "# display the colors...\n",
    "print( s1[ 4 : 6] ) # 4 5"
   ]
  },
  {
   "cell_type": "code",
   "execution_count": 16,
   "id": "36c9b646",
   "metadata": {},
   "outputs": [
    {
     "name": "stdout",
     "output_type": "stream",
     "text": [
      "[3.25, 6j, 'orange']\n"
     ]
    }
   ],
   "source": [
    "# return the elemets at odd position number\n",
    "print( s1[ 1 : len(s1) : 2  ] )"
   ]
  },
  {
   "cell_type": "code",
   "execution_count": 17,
   "id": "063c9ae1",
   "metadata": {},
   "outputs": [],
   "source": [
    "# 4. concat : merge 2 or more list to make a single list\n",
    "# list1 + list2 + list3 + ....\n"
   ]
  },
  {
   "cell_type": "code",
   "execution_count": 19,
   "id": "0bb8a622",
   "metadata": {},
   "outputs": [
    {
     "name": "stdout",
     "output_type": "stream",
     "text": [
      "[4, -1, 3, 4]\n",
      "[4, -1, 3, 4]\n"
     ]
    }
   ],
   "source": [
    "a = [4, -1]\n",
    "b = [3, 4]\n",
    "print( a + b )\n",
    "\n",
    "c = a+ b\n",
    "print(c)\n"
   ]
  },
  {
   "cell_type": "code",
   "execution_count": null,
   "id": "49e08a29",
   "metadata": {},
   "outputs": [],
   "source": [
    "# [7, 3]\n",
    "# [4 , -1][3, 4]\n",
    "# [[4 , -1], [3, 4]]\n",
    "# [4 , -1, 3, 4]\n"
   ]
  },
  {
   "cell_type": "code",
   "execution_count": 20,
   "id": "2ed76093",
   "metadata": {},
   "outputs": [
    {
     "ename": "TypeError",
     "evalue": "can only concatenate list (not \"int\") to list",
     "output_type": "error",
     "traceback": [
      "\u001b[1;31m---------------------------------------------------------------------------\u001b[0m",
      "\u001b[1;31mTypeError\u001b[0m                                 Traceback (most recent call last)",
      "\u001b[1;32m~\\AppData\\Local\\Temp\\ipykernel_13984\\3982824657.py\u001b[0m in \u001b[0;36m<module>\u001b[1;34m\u001b[0m\n\u001b[0;32m      1\u001b[0m \u001b[0ma\u001b[0m \u001b[1;33m=\u001b[0m \u001b[1;33m[\u001b[0m\u001b[1;36m4\u001b[0m\u001b[1;33m,\u001b[0m \u001b[1;33m-\u001b[0m\u001b[1;36m1\u001b[0m\u001b[1;33m]\u001b[0m\u001b[1;33m\u001b[0m\u001b[1;33m\u001b[0m\u001b[0m\n\u001b[0;32m      2\u001b[0m \u001b[0mb\u001b[0m \u001b[1;33m=\u001b[0m \u001b[1;33m[\u001b[0m\u001b[1;36m3\u001b[0m\u001b[1;33m,\u001b[0m \u001b[1;36m4\u001b[0m\u001b[1;33m]\u001b[0m\u001b[1;33m\u001b[0m\u001b[1;33m\u001b[0m\u001b[0m\n\u001b[1;32m----> 3\u001b[1;33m \u001b[0mprint\u001b[0m\u001b[1;33m(\u001b[0m \u001b[0ma\u001b[0m \u001b[1;33m+\u001b[0m \u001b[0mb\u001b[0m  \u001b[1;33m+\u001b[0m \u001b[1;36m30\u001b[0m \u001b[1;33m+\u001b[0m \u001b[1;34m\"earth\"\u001b[0m\u001b[1;33m)\u001b[0m\u001b[1;33m\u001b[0m\u001b[1;33m\u001b[0m\u001b[0m\n\u001b[0m",
      "\u001b[1;31mTypeError\u001b[0m: can only concatenate list (not \"int\") to list"
     ]
    }
   ],
   "source": [
    "a = [4, -1]\n",
    "b = [3, 4]\n",
    "print( a + b  + 30 + \"earth\")\n"
   ]
  },
  {
   "cell_type": "code",
   "execution_count": null,
   "id": "c4f1141b",
   "metadata": {},
   "outputs": [],
   "source": [
    "# 5. repeat : repeat the elements by n-times\n",
    "# list * n"
   ]
  },
  {
   "cell_type": "code",
   "execution_count": 21,
   "id": "a6c5a5ae",
   "metadata": {},
   "outputs": [
    {
     "name": "stdout",
     "output_type": "stream",
     "text": [
      "[4, -1, 'k', 11, 2.5, 'b', 4, -1, 'k', 11, 2.5, 'b', 4, -1, 'k', 11, 2.5, 'b']\n"
     ]
    }
   ],
   "source": [
    "a = [4, -1, \"k\", 11, 2.5, \"b\"]\n",
    "\n",
    "# repeat list 3 times\n",
    "print( a * 3 )\n"
   ]
  },
  {
   "cell_type": "code",
   "execution_count": 27,
   "id": "9749c5a4",
   "metadata": {},
   "outputs": [
    {
     "name": "stdout",
     "output_type": "stream",
     "text": [
      "[11, 2.5, 11, 2.5]\n"
     ]
    }
   ],
   "source": [
    "a = [4, -1, \"k\", 11, 2.5, \"b\"]\n",
    "\n",
    "# 11 2.5 11 2.5\n",
    "print( a[ 3 : 5 ] * 2 ) # 3 4\n"
   ]
  },
  {
   "cell_type": "code",
   "execution_count": 29,
   "id": "d05674c8",
   "metadata": {},
   "outputs": [
    {
     "name": "stdout",
     "output_type": "stream",
     "text": [
      "kkkkk\n"
     ]
    }
   ],
   "source": [
    "a = [4, -1, \"k\", 11, 2.5, \"b\"]\n",
    "\n",
    "# kkkkk\n",
    "print( a[2]  * 5) \n"
   ]
  },
  {
   "cell_type": "code",
   "execution_count": 32,
   "id": "fe76fcb7",
   "metadata": {},
   "outputs": [
    {
     "name": "stdout",
     "output_type": "stream",
     "text": [
      "444\n"
     ]
    }
   ],
   "source": [
    "a = [4, -1, \"k\", 11, 2.5, \"b\"]\n",
    "\n",
    "# 444\n",
    "print( str( a[0]  ) * 3 ) \n"
   ]
  },
  {
   "cell_type": "code",
   "execution_count": 33,
   "id": "d945377c",
   "metadata": {},
   "outputs": [],
   "source": [
    "# 6. Membership (in) : return True if element is present inside LIST\n",
    "# element in list"
   ]
  },
  {
   "cell_type": "code",
   "execution_count": 34,
   "id": "0badfc94",
   "metadata": {},
   "outputs": [
    {
     "name": "stdout",
     "output_type": "stream",
     "text": [
      "[11, 3.25, False, 6j, 'blue', 'orange', -8]\n",
      "True\n"
     ]
    }
   ],
   "source": [
    "s1 = [ 11, 3.25, False, 6j, \"blue\", \"orange\", -8 ]\n",
    "print(s1)\n",
    "\n",
    "print( 6j in s1 ) "
   ]
  },
  {
   "cell_type": "code",
   "execution_count": 35,
   "id": "96931401",
   "metadata": {},
   "outputs": [
    {
     "name": "stdout",
     "output_type": "stream",
     "text": [
      "False\n"
     ]
    }
   ],
   "source": [
    "print( \"BLUE\" in s1 )"
   ]
  },
  {
   "cell_type": "code",
   "execution_count": 37,
   "id": "7ab63feb",
   "metadata": {},
   "outputs": [
    {
     "name": "stdout",
     "output_type": "stream",
     "text": [
      "False\n"
     ]
    }
   ],
   "source": [
    "print( True in s1 ) \n"
   ]
  },
  {
   "cell_type": "code",
   "execution_count": null,
   "id": "3c5267e3",
   "metadata": {},
   "outputs": [],
   "source": []
  },
  {
   "cell_type": "code",
   "execution_count": 38,
   "id": "d90ba50c",
   "metadata": {},
   "outputs": [
    {
     "data": {
      "text/plain": [
       "[11, 3.25, False, 6j, [5, 4, 9, 11, 20], 'blue', 'orange', -8]"
      ]
     },
     "execution_count": 38,
     "metadata": {},
     "output_type": "execute_result"
    }
   ],
   "source": [
    "x = [ 11, 3.25, False, 6j, [5, 4, 9, 11, 20], \"blue\", \"orange\", -8  ]\n",
    "x"
   ]
  },
  {
   "cell_type": "code",
   "execution_count": 41,
   "id": "c75d53b1",
   "metadata": {},
   "outputs": [
    {
     "name": "stdout",
     "output_type": "stream",
     "text": [
      "20\n",
      "20\n"
     ]
    }
   ],
   "source": [
    "# 20\n",
    "print( x[4][-1] )\n",
    "print( x[4][4] )\n"
   ]
  },
  {
   "cell_type": "code",
   "execution_count": 44,
   "id": "244f1a57",
   "metadata": {},
   "outputs": [
    {
     "name": "stdout",
     "output_type": "stream",
     "text": [
      "[5, 4, 9, 11, 20]\n",
      "[4, 11]\n",
      "[4, 11, 4, 11]\n"
     ]
    }
   ],
   "source": [
    "# 4 11 4 11\n",
    "print( x[4]  )\n",
    "print( x[4][1 : len( x[4] ) : 2]  )\n",
    "print( x[4][1 : len( x[4] ) : 2]  * 2 )\n"
   ]
  },
  {
   "cell_type": "code",
   "execution_count": 45,
   "id": "e96d73ff",
   "metadata": {},
   "outputs": [
    {
     "name": "stdout",
     "output_type": "stream",
     "text": [
      "False\n"
     ]
    }
   ],
   "source": [
    "print( 9 in x )"
   ]
  },
  {
   "cell_type": "code",
   "execution_count": 46,
   "id": "939652a1",
   "metadata": {},
   "outputs": [
    {
     "name": "stdout",
     "output_type": "stream",
     "text": [
      "False\n"
     ]
    }
   ],
   "source": [
    "print( False in x[4] )"
   ]
  },
  {
   "cell_type": "code",
   "execution_count": null,
   "id": "b50aaf35",
   "metadata": {},
   "outputs": [],
   "source": []
  },
  {
   "cell_type": "markdown",
   "id": "9b3e7fb6",
   "metadata": {},
   "source": [
    "## String Split and Join"
   ]
  },
  {
   "cell_type": "code",
   "execution_count": 47,
   "id": "ecd10542",
   "metadata": {},
   "outputs": [],
   "source": [
    "# string split \n",
    "# --> split the string on the basis of pattern\n",
    "# returns in the form of list\n",
    "\n",
    "# string.split(\"pattern\")"
   ]
  },
  {
   "cell_type": "code",
   "execution_count": 48,
   "id": "34a408d2",
   "metadata": {},
   "outputs": [],
   "source": [
    "stringName = \"this #is python #programming #class\""
   ]
  },
  {
   "cell_type": "code",
   "execution_count": 49,
   "id": "35366bf3",
   "metadata": {},
   "outputs": [
    {
     "name": "stdout",
     "output_type": "stream",
     "text": [
      "['this', '#is', 'python', '#programming', '#class']\n"
     ]
    }
   ],
   "source": [
    "res = stringName.split(\" \")\n",
    "print(res)"
   ]
  },
  {
   "cell_type": "code",
   "execution_count": 50,
   "id": "9264d3bd",
   "metadata": {},
   "outputs": [
    {
     "name": "stdout",
     "output_type": "stream",
     "text": [
      "['this ', 'is python ', 'programming ', 'class']\n"
     ]
    }
   ],
   "source": [
    "res = stringName.split(\"#\") # this ,is python ,programming ,class\n",
    "print(res)"
   ]
  },
  {
   "cell_type": "code",
   "execution_count": 51,
   "id": "fb9c8425",
   "metadata": {},
   "outputs": [
    {
     "name": "stdout",
     "output_type": "stream",
     "text": [
      "['this #is ', 'ython #', 'rogramming #class']\n"
     ]
    }
   ],
   "source": [
    "res = stringName.split(\"p\")  # this #is ,ython #,rogramming #class\n",
    "print(res)"
   ]
  },
  {
   "cell_type": "code",
   "execution_count": 59,
   "id": "a66ef03f",
   "metadata": {},
   "outputs": [
    {
     "name": "stdout",
     "output_type": "stream",
     "text": [
      "['hey', 'alexa,', 'set', 'a', 'reminder', 'to', 'wish', 'my', 'friend', 'on', '25/02/2023']\n",
      "25/02/2023\n",
      "['25', '02', '2023']\n",
      "Date =  25\n",
      "Month =  02\n",
      "Year =  2023\n"
     ]
    }
   ],
   "source": [
    "# extarct date, month and year\n",
    "# date = 25\n",
    "# month = 02\n",
    "# year = 2023\n",
    "\n",
    "msg = \"hey alexa, set a reminder to wish my friend on 25/02/2023\"\n",
    "w = msg.split(\" \")\n",
    "print(w)\n",
    "print(w[-1])\n",
    "\n",
    "res  = msg.split(\" \")[-1].split(\"/\")\n",
    "print(res)\n",
    "print( \"Date = \", res[0] )\n",
    "print( \"Month = \", res[1] )\n",
    "print( \"Year = \", res[2] )\n"
   ]
  },
  {
   "cell_type": "code",
   "execution_count": 58,
   "id": "e507898d",
   "metadata": {},
   "outputs": [
    {
     "data": {
      "text/plain": [
       "['25', '02', '2023']"
      ]
     },
     "execution_count": 58,
     "metadata": {},
     "output_type": "execute_result"
    }
   ],
   "source": [
    "newString = w[-1]\n",
    "newString.split(\"/\")"
   ]
  },
  {
   "cell_type": "code",
   "execution_count": 64,
   "id": "3c69f686",
   "metadata": {},
   "outputs": [
    {
     "name": "stdout",
     "output_type": "stream",
     "text": [
      "['The', 'OTP', 'to', 'authorise', 'current', 'transaction', 'is', '15875', 'and', 'its', 'shared', 'on', '8745821035', 'and', 'nitish@gmail.com']\n",
      "Email Address :  nitish@gmail.com\n"
     ]
    }
   ],
   "source": [
    "# Extract the otp\n",
    "# Extract the mobile\n",
    "# Extract the email\n",
    "\n",
    "\n",
    "yourMessage = \"The OTP to authorise current transaction is 15875 and its shared on 8745821035 and nitish@gmail.com\"\n",
    "\n",
    "res = yourMessage.split(\" \")\n",
    "print( res )\n",
    "\n",
    "\n",
    "for each in res : \n",
    "#     print(each)\n",
    "    if \"@\" in each : \n",
    "        print(\"Email Address : \", each)\n",
    "    \n",
    "# for each in range( 0, len(res) ) : \n",
    "#     print( res[each] )"
   ]
  },
  {
   "cell_type": "code",
   "execution_count": 66,
   "id": "4a9bc5c5",
   "metadata": {},
   "outputs": [
    {
     "name": "stdout",
     "output_type": "stream",
     "text": [
      "['The', 'OTP', 'to', 'authorise', 'current', 'transaction', 'is', '15875', 'and', 'its', 'shared', 'on', '8745821035', 'and', 'nitish@gmail.com']\n",
      "8745821035\n"
     ]
    }
   ],
   "source": [
    "yourMessage = \"The OTP to authorise current transaction is 15875 and its shared on 8745821035 and nitish@gmail.com\"\n",
    "\n",
    "res = yourMessage.split(\" \")\n",
    "print( res )\n",
    "\n",
    "\n",
    "for each in res : \n",
    "    if each.isdigit() and len(each) == 10 : \n",
    "        print(each)\n"
   ]
  },
  {
   "cell_type": "code",
   "execution_count": 67,
   "id": "456666e6",
   "metadata": {},
   "outputs": [
    {
     "name": "stdout",
     "output_type": "stream",
     "text": [
      "['The', 'OTP', 'to', 'authorise', 'current', 'transaction', 'is', '15875', 'and', 'its', 'shared', 'on', '8745821035', 'and', 'nitish@gmail.com']\n",
      "15875\n"
     ]
    }
   ],
   "source": [
    "yourMessage = \"The OTP to authorise current transaction is 15875 and its shared on 8745821035 and nitish@gmail.com\"\n",
    "\n",
    "res = yourMessage.split(\" \")\n",
    "print( res )\n",
    "\n",
    "\n",
    "for each in res : \n",
    "    if each.isdigit() and len(each) != 10 : \n",
    "        print(each)\n"
   ]
  },
  {
   "cell_type": "code",
   "execution_count": null,
   "id": "f823fce3",
   "metadata": {},
   "outputs": [],
   "source": []
  },
  {
   "cell_type": "code",
   "execution_count": null,
   "id": "330bbb58",
   "metadata": {},
   "outputs": [],
   "source": []
  },
  {
   "cell_type": "markdown",
   "id": "86e2286a",
   "metadata": {},
   "source": [
    "## String Split and Join"
   ]
  },
  {
   "cell_type": "code",
   "execution_count": 47,
   "id": "56e53ea4",
   "metadata": {},
   "outputs": [],
   "source": [
    "# string join \n",
    "# --> Join the List on the basis of pattern\n",
    "# returns in the form of string\n",
    "\n",
    "# string.split(\"pattern\")\n",
    "# \"pattern\".join(listName)"
   ]
  },
  {
   "cell_type": "code",
   "execution_count": 68,
   "id": "09b04c6c",
   "metadata": {},
   "outputs": [],
   "source": [
    "stringName = \"this #is python #programming #class\""
   ]
  },
  {
   "cell_type": "code",
   "execution_count": 69,
   "id": "de086b1e",
   "metadata": {},
   "outputs": [
    {
     "name": "stdout",
     "output_type": "stream",
     "text": [
      "['this', '#is', 'python', '#programming', '#class']\n"
     ]
    }
   ],
   "source": [
    "res = stringName.split(\" \")\n",
    "print(res)"
   ]
  },
  {
   "cell_type": "code",
   "execution_count": 70,
   "id": "901a681b",
   "metadata": {},
   "outputs": [
    {
     "data": {
      "text/plain": [
       "'this #is python #programming #class'"
      ]
     },
     "execution_count": 70,
     "metadata": {},
     "output_type": "execute_result"
    }
   ],
   "source": [
    "newString = \" \".join(res)\n",
    "newString"
   ]
  },
  {
   "cell_type": "code",
   "execution_count": 71,
   "id": "32f86ac9",
   "metadata": {},
   "outputs": [
    {
     "name": "stdout",
     "output_type": "stream",
     "text": [
      "['this ', 'is python ', 'programming ', 'class']\n"
     ]
    }
   ],
   "source": [
    "res = stringName.split(\"#\")\n",
    "print(res)"
   ]
  },
  {
   "cell_type": "code",
   "execution_count": 74,
   "id": "c722f02e",
   "metadata": {},
   "outputs": [
    {
     "data": {
      "text/plain": [
       "'this +is python +programming +class'"
      ]
     },
     "execution_count": 74,
     "metadata": {},
     "output_type": "execute_result"
    }
   ],
   "source": [
    "newString = \"+\".join(res)\n",
    "newString"
   ]
  },
  {
   "cell_type": "code",
   "execution_count": 1,
   "id": "618531be",
   "metadata": {},
   "outputs": [
    {
     "name": "stdout",
     "output_type": "stream",
     "text": [
      "['apple', 'banana', 'cherry', 'kiwi', 'orange']\n"
     ]
    }
   ],
   "source": [
    "thislist = [\"apple\", \"banana\", \"cherry\"]\n",
    "thistuple = (\"kiwi\", \"orange\")\n",
    "thislist.extend(thistuple)\n",
    "print(thislist)"
   ]
  },
  {
   "cell_type": "code",
   "execution_count": 3,
   "id": "0061673b",
   "metadata": {},
   "outputs": [
    {
     "data": {
      "text/plain": [
       "(10, 20, 'abc', 50.6, None)"
      ]
     },
     "execution_count": 3,
     "metadata": {},
     "output_type": "execute_result"
    }
   ],
   "source": [
    "t=(10,20,\"abc\",50.6,None)\n",
    "t"
   ]
  },
  {
   "cell_type": "code",
   "execution_count": 4,
   "id": "d6ebf9cb",
   "metadata": {},
   "outputs": [
    {
     "data": {
      "text/plain": [
       "'PYTHON'"
      ]
     },
     "execution_count": 4,
     "metadata": {},
     "output_type": "execute_result"
    }
   ],
   "source": [
    "a=\"p@yTHOn\"\n",
    "res=\"PYTHON\" if \"@\" in a else \"python\"\n",
    "res"
   ]
  },
  {
   "cell_type": "code",
   "execution_count": null,
   "id": "51792c83",
   "metadata": {},
   "outputs": [],
   "source": []
  },
  {
   "cell_type": "code",
   "execution_count": null,
   "id": "d3115bcc",
   "metadata": {},
   "outputs": [],
   "source": []
  },
  {
   "cell_type": "code",
   "execution_count": null,
   "id": "f42f975c",
   "metadata": {},
   "outputs": [],
   "source": []
  },
  {
   "cell_type": "code",
   "execution_count": null,
   "id": "1e45c39e",
   "metadata": {},
   "outputs": [],
   "source": []
  }
 ],
 "metadata": {
  "kernelspec": {
   "display_name": "base",
   "language": "python",
   "name": "python3"
  },
  "language_info": {
   "codemirror_mode": {
    "name": "ipython",
    "version": 3
   },
   "file_extension": ".py",
   "mimetype": "text/x-python",
   "name": "python",
   "nbconvert_exporter": "python",
   "pygments_lexer": "ipython3",
   "version": "3.9.13"
  },
  "vscode": {
   "interpreter": {
    "hash": "5ae58900cfbb8c43ab3495913814b7cf26024f51651a94ce8bf64d6111688e8d"
   }
  }
 },
 "nbformat": 4,
 "nbformat_minor": 5
}

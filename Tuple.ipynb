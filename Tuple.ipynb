{
 "cells": [
  {
   "cell_type": "markdown",
   "id": "66926196",
   "metadata": {},
   "source": [
    "# Tuple\n",
    "\n",
    "- collection of different datatype elements\n",
    "- ()\n",
    "- Ordered Object - Access any element wrt POSITION\n",
    "- Immutable - You Can't modify the element at any position\n"
   ]
  },
  {
   "cell_type": "code",
   "execution_count": 1,
   "id": "a33a36c5",
   "metadata": {},
   "outputs": [
    {
     "name": "stdout",
     "output_type": "stream",
     "text": [
      "<class 'tuple'>\n"
     ]
    }
   ],
   "source": [
    "t1 = ()\n",
    "print( type(t1) )"
   ]
  },
  {
   "cell_type": "code",
   "execution_count": 3,
   "id": "a3283fd5",
   "metadata": {},
   "outputs": [
    {
     "name": "stdout",
     "output_type": "stream",
     "text": [
      "<class 'tuple'>\n",
      "(11, 3.25, False, 6j, 'blue', 'orange', -8)\n"
     ]
    }
   ],
   "source": [
    "t1 = (11, 3.25, False, 6j, \"blue\", \"orange\", -8)\n",
    "print( type(t1) )\n",
    "print(t1)\n"
   ]
  },
  {
   "cell_type": "markdown",
   "id": "8b7b7d5a",
   "metadata": {},
   "source": [
    "## Basic Properties"
   ]
  },
  {
   "cell_type": "code",
   "execution_count": 4,
   "id": "1674f1de",
   "metadata": {},
   "outputs": [
    {
     "name": "stdout",
     "output_type": "stream",
     "text": [
      "(11, 3.25, False, 6j, 'blue', 'orange', -8)\n",
      "7\n"
     ]
    }
   ],
   "source": [
    "# 1. Length : \n",
    "\n",
    "t1 = (11, 3.25, False, 6j, \"blue\", \"orange\", -8)\n",
    "print(t1)\n",
    "\n",
    "print( len(t1) )"
   ]
  },
  {
   "cell_type": "code",
   "execution_count": 8,
   "id": "53883f77",
   "metadata": {},
   "outputs": [
    {
     "name": "stdout",
     "output_type": "stream",
     "text": [
      "(11, 3.25, False, 6j, 'blue', 'orange', -8)\n",
      "blue\n",
      "blue\n",
      "(11, 3.25, False)\n",
      "(11, False, 'blue', -8)\n"
     ]
    }
   ],
   "source": [
    "# 2. Index and Slicing\n",
    "\n",
    "t1 = (11, 3.25, False, 6j, \"blue\", \"orange\", -8)\n",
    "print(t1)\n",
    "\n",
    "print( t1[4] )\n",
    "print( t1[-3] )\n",
    "\n",
    "\n",
    "print( t1[0 : 3] )\n",
    "print( t1[ 0 : : 2] )\n"
   ]
  },
  {
   "cell_type": "code",
   "execution_count": 10,
   "id": "551dbe65",
   "metadata": {},
   "outputs": [
    {
     "data": {
      "text/plain": [
       "(1, -3, False, 'java', 4, 0, -8)"
      ]
     },
     "execution_count": 10,
     "metadata": {},
     "output_type": "execute_result"
    }
   ],
   "source": [
    "# 3. Concatenation\n",
    "\n",
    "res = ( 1, -3, False ) + (\"java\", 4, 0, -8)\n",
    "res\n"
   ]
  },
  {
   "cell_type": "code",
   "execution_count": 11,
   "id": "dcdaa060",
   "metadata": {},
   "outputs": [
    {
     "data": {
      "text/plain": [
       "(1, -3, False, 1, -3, False, 1, -3, False)"
      ]
     },
     "execution_count": 11,
     "metadata": {},
     "output_type": "execute_result"
    }
   ],
   "source": [
    "# 4. repeat : *\n",
    "\n",
    "\n",
    "( 1, -3, False ) * 3\n"
   ]
  },
  {
   "cell_type": "code",
   "execution_count": 18,
   "id": "0af1af54",
   "metadata": {},
   "outputs": [
    {
     "name": "stdout",
     "output_type": "stream",
     "text": [
      "(11, 3.25, False, 6j, (4, 7, 9, 11), 'blue', 'orange', -8)\n",
      "True\n",
      "False\n",
      "False\n",
      "True\n"
     ]
    }
   ],
   "source": [
    "# 5. Membership : \n",
    "\n",
    "t1 = (11, 3.25, False, 6j, (4, 7, 9, 11) , \"blue\", \"orange\", -8)\n",
    "print(t1)\n",
    "\n",
    "print( \"blue\" in t1 )\n",
    "print( \"ORANGE\" in t1 )\n",
    "\n",
    "print( 9 in t1 )\n",
    "print( 9 in t1[4] )\n",
    "\n"
   ]
  },
  {
   "cell_type": "code",
   "execution_count": 17,
   "id": "15fbc4dd",
   "metadata": {},
   "outputs": [
    {
     "data": {
      "text/plain": [
       "(4, 7, 9, 11)"
      ]
     },
     "execution_count": 17,
     "metadata": {},
     "output_type": "execute_result"
    }
   ],
   "source": [
    "t1[4]"
   ]
  },
  {
   "cell_type": "code",
   "execution_count": null,
   "id": "70ede32e",
   "metadata": {},
   "outputs": [],
   "source": []
  },
  {
   "cell_type": "markdown",
   "id": "ff324795",
   "metadata": {},
   "source": [
    "## Tuple Methods"
   ]
  },
  {
   "cell_type": "code",
   "execution_count": 20,
   "id": "bebee88b",
   "metadata": {},
   "outputs": [
    {
     "ename": "TypeError",
     "evalue": "'tuple' object does not support item assignment",
     "output_type": "error",
     "traceback": [
      "\u001b[1;31m---------------------------------------------------------------------------\u001b[0m",
      "\u001b[1;31mTypeError\u001b[0m                                 Traceback (most recent call last)",
      "\u001b[1;32m~\\AppData\\Local\\Temp\\ipykernel_5908\\453780365.py\u001b[0m in \u001b[0;36m<module>\u001b[1;34m\u001b[0m\n\u001b[0;32m      3\u001b[0m \u001b[0mt1\u001b[0m \u001b[1;33m=\u001b[0m \u001b[1;33m(\u001b[0m\u001b[1;36m11\u001b[0m\u001b[1;33m,\u001b[0m \u001b[1;36m3.25\u001b[0m\u001b[1;33m,\u001b[0m \u001b[1;32mFalse\u001b[0m\u001b[1;33m,\u001b[0m \u001b[1;36m6j\u001b[0m\u001b[1;33m,\u001b[0m \u001b[1;33m(\u001b[0m\u001b[1;36m4\u001b[0m\u001b[1;33m,\u001b[0m \u001b[1;36m7\u001b[0m\u001b[1;33m,\u001b[0m \u001b[1;36m9\u001b[0m\u001b[1;33m,\u001b[0m \u001b[1;36m11\u001b[0m\u001b[1;33m)\u001b[0m \u001b[1;33m,\u001b[0m \u001b[1;34m\"blue\"\u001b[0m\u001b[1;33m,\u001b[0m \u001b[1;34m\"orange\"\u001b[0m\u001b[1;33m,\u001b[0m \u001b[1;33m-\u001b[0m\u001b[1;36m8\u001b[0m\u001b[1;33m)\u001b[0m\u001b[1;33m\u001b[0m\u001b[1;33m\u001b[0m\u001b[0m\n\u001b[0;32m      4\u001b[0m \u001b[1;33m\u001b[0m\u001b[0m\n\u001b[1;32m----> 5\u001b[1;33m \u001b[0mt1\u001b[0m\u001b[1;33m[\u001b[0m\u001b[1;36m4\u001b[0m\u001b[1;33m]\u001b[0m \u001b[1;33m=\u001b[0m \u001b[1;36m999999\u001b[0m\u001b[1;33m\u001b[0m\u001b[1;33m\u001b[0m\u001b[0m\n\u001b[0m",
      "\u001b[1;31mTypeError\u001b[0m: 'tuple' object does not support item assignment"
     ]
    }
   ],
   "source": [
    "# Replacement : \n",
    "\n",
    "t1 = (11, 3.25, False, 6j, (4, 7, 9, 11) , \"blue\", \"orange\", -8)\n",
    "\n",
    "t1[4] = 999999\n"
   ]
  },
  {
   "cell_type": "code",
   "execution_count": 22,
   "id": "40c606d2",
   "metadata": {},
   "outputs": [
    {
     "data": {
      "text/plain": [
       "[11, 3.25, False, 6j, 999999, 'blue', 'orange', -8]"
      ]
     },
     "execution_count": 22,
     "metadata": {},
     "output_type": "execute_result"
    }
   ],
   "source": [
    "s1 = [11, 3.25, False, 6j, (4, 7, 9, 11) , \"blue\", \"orange\", -8]\n",
    "\n",
    "s1[4] = 999999\n",
    "s1"
   ]
  },
  {
   "cell_type": "code",
   "execution_count": null,
   "id": "e0c45fd9",
   "metadata": {},
   "outputs": [],
   "source": []
  },
  {
   "cell_type": "code",
   "execution_count": 24,
   "id": "be2a4c38",
   "metadata": {},
   "outputs": [
    {
     "ename": "AttributeError",
     "evalue": "'tuple' object has no attribute 'pop'",
     "output_type": "error",
     "traceback": [
      "\u001b[1;31m---------------------------------------------------------------------------\u001b[0m",
      "\u001b[1;31mAttributeError\u001b[0m                            Traceback (most recent call last)",
      "\u001b[1;32m~\\AppData\\Local\\Temp\\ipykernel_5908\\437087009.py\u001b[0m in \u001b[0;36m<module>\u001b[1;34m\u001b[0m\n\u001b[0;32m      4\u001b[0m \u001b[1;33m\u001b[0m\u001b[0m\n\u001b[0;32m      5\u001b[0m \u001b[1;31m# t1.remove(False)\u001b[0m\u001b[1;33m\u001b[0m\u001b[1;33m\u001b[0m\u001b[0m\n\u001b[1;32m----> 6\u001b[1;33m \u001b[0mt1\u001b[0m\u001b[1;33m.\u001b[0m\u001b[0mpop\u001b[0m\u001b[1;33m(\u001b[0m\u001b[1;33m)\u001b[0m\u001b[1;33m\u001b[0m\u001b[1;33m\u001b[0m\u001b[0m\n\u001b[0m",
      "\u001b[1;31mAttributeError\u001b[0m: 'tuple' object has no attribute 'pop'"
     ]
    }
   ],
   "source": [
    "# Deletion : \n",
    "\n",
    "t1 = (11, 3.25, False, 6j, (4, 7, 9, 11) , \"blue\", \"orange\", -8)\n",
    "\n",
    "# t1.remove(False)\n",
    "# t1.pop()"
   ]
  },
  {
   "cell_type": "code",
   "execution_count": null,
   "id": "d344d1f7",
   "metadata": {},
   "outputs": [],
   "source": [
    "# List Attributes\n",
    "\n",
    "insert, pop, copy, reverse, remove, append, index"
   ]
  },
  {
   "cell_type": "code",
   "execution_count": 25,
   "id": "81fbf76e",
   "metadata": {},
   "outputs": [
    {
     "ename": "AttributeError",
     "evalue": "'tuple' object has no attribute 'insert'",
     "output_type": "error",
     "traceback": [
      "\u001b[1;31m---------------------------------------------------------------------------\u001b[0m",
      "\u001b[1;31mAttributeError\u001b[0m                            Traceback (most recent call last)",
      "\u001b[1;32m~\\AppData\\Local\\Temp\\ipykernel_5908\\656923856.py\u001b[0m in \u001b[0;36m<module>\u001b[1;34m\u001b[0m\n\u001b[0;32m      3\u001b[0m \u001b[0mt1\u001b[0m \u001b[1;33m=\u001b[0m \u001b[1;33m(\u001b[0m\u001b[1;36m11\u001b[0m\u001b[1;33m,\u001b[0m \u001b[1;36m3.25\u001b[0m\u001b[1;33m,\u001b[0m \u001b[1;32mFalse\u001b[0m\u001b[1;33m,\u001b[0m \u001b[1;36m6j\u001b[0m\u001b[1;33m,\u001b[0m \u001b[1;33m(\u001b[0m\u001b[1;36m4\u001b[0m\u001b[1;33m,\u001b[0m \u001b[1;36m7\u001b[0m\u001b[1;33m,\u001b[0m \u001b[1;36m9\u001b[0m\u001b[1;33m,\u001b[0m \u001b[1;36m11\u001b[0m\u001b[1;33m)\u001b[0m \u001b[1;33m,\u001b[0m \u001b[1;34m\"blue\"\u001b[0m\u001b[1;33m,\u001b[0m \u001b[1;34m\"orange\"\u001b[0m\u001b[1;33m,\u001b[0m \u001b[1;33m-\u001b[0m\u001b[1;36m8\u001b[0m\u001b[1;33m)\u001b[0m\u001b[1;33m\u001b[0m\u001b[1;33m\u001b[0m\u001b[0m\n\u001b[0;32m      4\u001b[0m \u001b[1;33m\u001b[0m\u001b[0m\n\u001b[1;32m----> 5\u001b[1;33m \u001b[0mt1\u001b[0m\u001b[1;33m.\u001b[0m\u001b[0minsert\u001b[0m\u001b[1;33m(\u001b[0m\u001b[1;36m2\u001b[0m\u001b[1;33m,\u001b[0m \u001b[1;36m999999999999999999999\u001b[0m\u001b[1;33m)\u001b[0m\u001b[1;33m\u001b[0m\u001b[1;33m\u001b[0m\u001b[0m\n\u001b[0m",
      "\u001b[1;31mAttributeError\u001b[0m: 'tuple' object has no attribute 'insert'"
     ]
    }
   ],
   "source": [
    "# Insert : \n",
    "\n",
    "t1 = (11, 3.25, False, 6j, (4, 7, 9, 11) , \"blue\", \"orange\", -8)\n",
    "\n",
    "t1.insert(2, 999999999999999999999)\n"
   ]
  },
  {
   "cell_type": "code",
   "execution_count": 28,
   "id": "831eb6f2",
   "metadata": {},
   "outputs": [
    {
     "name": "stdout",
     "output_type": "stream",
     "text": [
      "1\n",
      "0\n"
     ]
    }
   ],
   "source": [
    "# 1. Count : \n",
    "\n",
    "t1 = (11, 3.25, False, 6j, (4, 7, 9, 11) , \"blue\", \"orange\", -8)\n",
    "\n",
    "print( t1.count(11) )\n",
    "print( t1.count(99999999999999999999) )"
   ]
  },
  {
   "cell_type": "code",
   "execution_count": 29,
   "id": "5067f717",
   "metadata": {},
   "outputs": [
    {
     "name": "stdout",
     "output_type": "stream",
     "text": [
      "0\n"
     ]
    },
    {
     "ename": "ValueError",
     "evalue": "tuple.index(x): x not in tuple",
     "output_type": "error",
     "traceback": [
      "\u001b[1;31m---------------------------------------------------------------------------\u001b[0m",
      "\u001b[1;31mValueError\u001b[0m                                Traceback (most recent call last)",
      "\u001b[1;32m~\\AppData\\Local\\Temp\\ipykernel_5908\\842087213.py\u001b[0m in \u001b[0;36m<module>\u001b[1;34m\u001b[0m\n\u001b[0;32m      4\u001b[0m \u001b[1;33m\u001b[0m\u001b[0m\n\u001b[0;32m      5\u001b[0m \u001b[0mprint\u001b[0m\u001b[1;33m(\u001b[0m \u001b[0mt1\u001b[0m\u001b[1;33m.\u001b[0m\u001b[0mindex\u001b[0m\u001b[1;33m(\u001b[0m\u001b[1;36m11\u001b[0m\u001b[1;33m)\u001b[0m \u001b[1;33m)\u001b[0m\u001b[1;33m\u001b[0m\u001b[1;33m\u001b[0m\u001b[0m\n\u001b[1;32m----> 6\u001b[1;33m \u001b[0mprint\u001b[0m\u001b[1;33m(\u001b[0m \u001b[0mt1\u001b[0m\u001b[1;33m.\u001b[0m\u001b[0mindex\u001b[0m\u001b[1;33m(\u001b[0m\u001b[1;36m99999999999999999999\u001b[0m\u001b[1;33m)\u001b[0m \u001b[1;33m)\u001b[0m\u001b[1;33m\u001b[0m\u001b[1;33m\u001b[0m\u001b[0m\n\u001b[0m",
      "\u001b[1;31mValueError\u001b[0m: tuple.index(x): x not in tuple"
     ]
    }
   ],
   "source": [
    "# 2. Index : Return the position of the character \n",
    "\n",
    "t1 = (11, 3.25, False, 6j, (4, 7, 9, 11) , \"blue\", \"orange\", -8)\n",
    "\n",
    "print( t1.index(11) )\n",
    "print( t1.index(99999999999999999999) )"
   ]
  },
  {
   "cell_type": "code",
   "execution_count": null,
   "id": "046e16d8",
   "metadata": {},
   "outputs": [],
   "source": []
  },
  {
   "cell_type": "code",
   "execution_count": 32,
   "id": "6a5daa4d",
   "metadata": {},
   "outputs": [
    {
     "data": {
      "text/plain": [
       "(11, 3.25, False, 6j, (4, 7, 9, 11), 'blue', 'orange')"
      ]
     },
     "execution_count": 32,
     "metadata": {},
     "output_type": "execute_result"
    }
   ],
   "source": [
    "t1 = (11, 3.25, False, 6j, (4, 7, 9, 11) , \"blue\", \"orange\", -8)\n",
    "\n",
    "t1 = list(t1)\n",
    "t1.pop()\n",
    "t1 = tuple(t1)\n",
    "t1"
   ]
  },
  {
   "cell_type": "code",
   "execution_count": null,
   "id": "2a71feb8",
   "metadata": {},
   "outputs": [],
   "source": []
  },
  {
   "cell_type": "code",
   "execution_count": null,
   "id": "f114bdb7",
   "metadata": {},
   "outputs": [],
   "source": [
    "# x is a list\n",
    "x.reverse()\n",
    "x.upper()\n"
   ]
  },
  {
   "cell_type": "code",
   "execution_count": null,
   "id": "99c0f043",
   "metadata": {},
   "outputs": [],
   "source": []
  },
  {
   "cell_type": "markdown",
   "id": "e162f42b",
   "metadata": {},
   "source": [
    "## \n",
    "\n",
    "applications : \n",
    "    \n",
    "    \n",
    "tuple\n",
    "- immutable\n",
    "- secure\n",
    "- fetch records from sql ()\n",
    "- wifi packets\n",
    "\n",
    "list \n",
    "- mutable\n",
    "- not secure\n",
    "- excel table, notepad ...\n",
    "\n",
    "\n",
    "\n"
   ]
  },
  {
   "cell_type": "code",
   "execution_count": 35,
   "id": "898617fc",
   "metadata": {},
   "outputs": [
    {
     "name": "stdout",
     "output_type": "stream",
     "text": [
      "p\n",
      "y\n",
      "t\n",
      "h\n",
      "o\n",
      "n\n"
     ]
    }
   ],
   "source": [
    "for i in enumerate('python') : \n",
    "    print(i[1])"
   ]
  },
  {
   "cell_type": "code",
   "execution_count": 52,
   "id": "ad4724f2",
   "metadata": {},
   "outputs": [],
   "source": [
    "### Manipulations in String and Tuple can only be done using Basic Operations ..."
   ]
  },
  {
   "cell_type": "code",
   "execution_count": null,
   "id": "179fc975",
   "metadata": {},
   "outputs": [],
   "source": [
    "# Insert 99 between 3.25 and False\n",
    "\n",
    "t1 = (11, 3.25, False, 6j, (4, 7, 9, 11) , \"blue\", \"orange\", -8)\n",
    "\n",
    "# 11, 3.25, False,\n",
    "# 0    1      2\n"
   ]
  },
  {
   "cell_type": "code",
   "execution_count": 39,
   "id": "da64ac67",
   "metadata": {},
   "outputs": [
    {
     "name": "stdout",
     "output_type": "stream",
     "text": [
      "1\n"
     ]
    },
    {
     "data": {
      "text/plain": [
       "(11, 3.25)"
      ]
     },
     "execution_count": 39,
     "metadata": {},
     "output_type": "execute_result"
    }
   ],
   "source": [
    "pos = t1.index(3.25)\n",
    "print(pos)\n",
    "\n",
    "firstPart = t1[ : pos + 1  ]\n",
    "firstPart"
   ]
  },
  {
   "cell_type": "code",
   "execution_count": 40,
   "id": "6942fd10",
   "metadata": {},
   "outputs": [
    {
     "name": "stdout",
     "output_type": "stream",
     "text": [
      "1\n"
     ]
    },
    {
     "data": {
      "text/plain": [
       "(False, 6j, (4, 7, 9, 11), 'blue', 'orange')"
      ]
     },
     "execution_count": 40,
     "metadata": {},
     "output_type": "execute_result"
    }
   ],
   "source": [
    "pos = t1.index(3.25)\n",
    "print(pos)\n",
    "\n",
    "secondPart = t1[ pos + 1  :  ]\n",
    "secondPart"
   ]
  },
  {
   "cell_type": "code",
   "execution_count": 51,
   "id": "ab195c9f",
   "metadata": {},
   "outputs": [
    {
     "data": {
      "text/plain": [
       "(11, 3.25, 99, False, 6j, (4, 7, 9, 11), 'blue', 'orange')"
      ]
     },
     "execution_count": 51,
     "metadata": {},
     "output_type": "execute_result"
    }
   ],
   "source": [
    "res = firstPart + (99, ) + secondPart\n",
    "res"
   ]
  },
  {
   "cell_type": "code",
   "execution_count": null,
   "id": "109d74e3",
   "metadata": {},
   "outputs": [],
   "source": [
    "pos = t1.index(3.25)\n",
    "print(pos)\n",
    "\n",
    "res = firstPart + (99, ) + secondPart\n",
    "res"
   ]
  },
  {
   "cell_type": "code",
   "execution_count": 53,
   "id": "1e47a0df",
   "metadata": {},
   "outputs": [
    {
     "name": "stdout",
     "output_type": "stream",
     "text": [
      "1\n"
     ]
    },
    {
     "data": {
      "text/plain": [
       "(11, 3.25, 99, False, 6j, (4, 7, 9, 11), 'blue', 'orange')"
      ]
     },
     "execution_count": 53,
     "metadata": {},
     "output_type": "execute_result"
    }
   ],
   "source": [
    "# Insertion ....\n",
    "# Insert 99 between 3.25 and False\n",
    "\n",
    "t1 = (11, 3.25, False, 6j, (4, 7, 9, 11) , \"blue\", \"orange\", -8)\n",
    "\n",
    "pos = t1.index(3.25)\n",
    "print(pos)\n",
    "\n",
    "res = t1[ : pos + 1  ] + (99, ) + t1[ pos + 1  :  ]\n",
    "res"
   ]
  },
  {
   "cell_type": "code",
   "execution_count": null,
   "id": "7793ea69",
   "metadata": {},
   "outputs": [],
   "source": [
    "# Delete the element 6j\n",
    "\n",
    "t1 = (11, 3.25, False, 6j, (4, 7, 9, 11) , \"blue\", \"orange\", -8)\n"
   ]
  },
  {
   "cell_type": "code",
   "execution_count": null,
   "id": "27b70168",
   "metadata": {},
   "outputs": [],
   "source": [
    "# Replace the element blue by green\n",
    "\n",
    "t1 = (11, 3.25, False, 6j, (4, 7, 9, 11) , \"blue\", \"orange\", -8)\n"
   ]
  },
  {
   "cell_type": "code",
   "execution_count": null,
   "id": "4da8397e",
   "metadata": {},
   "outputs": [],
   "source": []
  },
  {
   "cell_type": "code",
   "execution_count": 49,
   "id": "9c9c1761",
   "metadata": {},
   "outputs": [
    {
     "name": "stdout",
     "output_type": "stream",
     "text": [
      "<class 'tuple'>\n"
     ]
    }
   ],
   "source": [
    "x = (100j, )\n",
    "print( type(x) )"
   ]
  },
  {
   "cell_type": "code",
   "execution_count": null,
   "id": "6e63a40b",
   "metadata": {},
   "outputs": [],
   "source": []
  },
  {
   "cell_type": "code",
   "execution_count": null,
   "id": "661bcc47",
   "metadata": {},
   "outputs": [],
   "source": []
  },
  {
   "cell_type": "code",
   "execution_count": null,
   "id": "92d0ed18",
   "metadata": {},
   "outputs": [],
   "source": []
  },
  {
   "cell_type": "code",
   "execution_count": null,
   "id": "48fc0b06",
   "metadata": {},
   "outputs": [],
   "source": []
  },
  {
   "cell_type": "code",
   "execution_count": null,
   "id": "a842ac0e",
   "metadata": {},
   "outputs": [],
   "source": []
  },
  {
   "cell_type": "code",
   "execution_count": null,
   "id": "f81edf41",
   "metadata": {},
   "outputs": [],
   "source": []
  },
  {
   "cell_type": "code",
   "execution_count": null,
   "id": "df5c2a1e",
   "metadata": {},
   "outputs": [],
   "source": []
  },
  {
   "cell_type": "code",
   "execution_count": null,
   "id": "1d930236",
   "metadata": {},
   "outputs": [],
   "source": []
  },
  {
   "cell_type": "code",
   "execution_count": null,
   "id": "08538b65",
   "metadata": {},
   "outputs": [],
   "source": []
  }
 ],
 "metadata": {
  "kernelspec": {
   "display_name": "Python 3 (ipykernel)",
   "language": "python",
   "name": "python3"
  },
  "language_info": {
   "codemirror_mode": {
    "name": "ipython",
    "version": 3
   },
   "file_extension": ".py",
   "mimetype": "text/x-python",
   "name": "python",
   "nbconvert_exporter": "python",
   "pygments_lexer": "ipython3",
   "version": "3.9.13"
  }
 },
 "nbformat": 4,
 "nbformat_minor": 5
}

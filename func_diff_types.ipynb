{
 "cells": [
  {
   "cell_type": "code",
   "execution_count": 6,
   "metadata": {},
   "outputs": [
    {
     "data": {
      "text/plain": [
       "[3, 5, 7, 11, 13, 23, 37]"
      ]
     },
     "execution_count": 6,
     "metadata": {},
     "output_type": "execute_result"
    }
   ],
   "source": [
    "#write a program to find prime numbers in the list\n",
    "n=[3,5,7,11,13,15,20,23,27,37]\n",
    "pn=[]\n",
    "for i in n:\n",
    "    for j in range(2,i):\n",
    "        if i%j==0:        \n",
    "            break     \n",
    "    else:\n",
    "        pn.append(i) \n",
    "pn  \n",
    "            "
   ]
  },
  {
   "cell_type": "code",
   "execution_count": 53,
   "metadata": {},
   "outputs": [
    {
     "data": {
      "text/plain": [
       "[3, 5, 7, 11, 13, 23, 37]"
      ]
     },
     "execution_count": 53,
     "metadata": {},
     "output_type": "execute_result"
    }
   ],
   "source": [
    "# def block\n",
    "pn=[]\n",
    "def prime_num():\n",
    "    for i in n:\n",
    "        for j in range(2,i):\n",
    "            if i%j==0:        \n",
    "                break     \n",
    "        else:\n",
    "            pn.append(i) \n",
    "    return pn\n",
    "prime_num()"
   ]
  },
  {
   "cell_type": "code",
   "execution_count": 64,
   "metadata": {},
   "outputs": [
    {
     "data": {
      "text/plain": [
       "[3, 5, 7, 11, 13, 23, 37]"
      ]
     },
     "execution_count": 64,
     "metadata": {},
     "output_type": "execute_result"
    }
   ],
   "source": [
    "# List comphrensation\n",
    "[i for i in n if all(i % j != 0 for j in range(2, i))]"
   ]
  },
  {
   "cell_type": "code",
   "execution_count": 7,
   "metadata": {},
   "outputs": [
    {
     "data": {
      "text/plain": [
       "[3, 5, 7, 11, 13, 23, 37]"
      ]
     },
     "execution_count": 7,
     "metadata": {},
     "output_type": "execute_result"
    }
   ],
   "source": [
    "# Lambda function\n",
    "res=lambda i:[i for i in n if all(i % j != 0 for j in range(2, i))]\n",
    "res(n)\n"
   ]
  },
  {
   "cell_type": "code",
   "execution_count": 105,
   "metadata": {},
   "outputs": [
    {
     "name": "stdout",
     "output_type": "stream",
     "text": [
      "[3, 5, 7, 11, 13, 15, 23, 27, 37]\n"
     ]
    }
   ],
   "source": [
    "# filter \n",
    "def prno(i): \n",
    "    for j in range(2,i) :\n",
    "        if i%j!=0:\n",
    "            return True\n",
    "        else:\n",
    "            return False\n",
    "val=filter(prno,n)\n",
    "print(list(val))"
   ]
  },
  {
   "cell_type": "code",
   "execution_count": 110,
   "metadata": {},
   "outputs": [
    {
     "name": "stdout",
     "output_type": "stream",
     "text": [
      "[3, 5, 7, 11, 13, 15, 'not prime', 23, 27, 37]\n"
     ]
    }
   ],
   "source": [
    "# map \n",
    "def prno(i):\n",
    "   for j in range(2,i):\n",
    "        if i%j==0:\n",
    "            return \"not prime\"\n",
    "        else:\n",
    "            return i\n",
    "val=map(prno,n)\n",
    "print(list(val))"
   ]
  },
  {
   "cell_type": "code",
   "execution_count": null,
   "metadata": {},
   "outputs": [],
   "source": []
  }
 ],
 "metadata": {
  "kernelspec": {
   "display_name": "base",
   "language": "python",
   "name": "python3"
  },
  "language_info": {
   "codemirror_mode": {
    "name": "ipython",
    "version": 3
   },
   "file_extension": ".py",
   "mimetype": "text/x-python",
   "name": "python",
   "nbconvert_exporter": "python",
   "pygments_lexer": "ipython3",
   "version": "3.9.13"
  },
  "orig_nbformat": 4
 },
 "nbformat": 4,
 "nbformat_minor": 2
}

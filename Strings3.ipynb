{
 "cells": [
  {
   "cell_type": "markdown",
   "id": "384fdade",
   "metadata": {},
   "source": []
  },
  {
   "cell_type": "markdown",
   "id": "b493b2f1",
   "metadata": {},
   "source": [
    "### Test Cases\n",
    "\n",
    "- Given any string, if you have to test some patterns\n",
    "- Return TRUE if expression is correct\n",
    "\n",
    "\n",
    "isdecimal', 'isdigit', '', '', 'isnumeric : Return TRUE is character is a NUMBER\n"
   ]
  },
  {
   "cell_type": "code",
   "execution_count": 2,
   "id": "1e484f21",
   "metadata": {},
   "outputs": [
    {
     "name": "stdout",
     "output_type": "stream",
     "text": [
      "<class 'str'>\n"
     ]
    }
   ],
   "source": [
    "msg = \"Your OTP is 7845 that is shared on nitish@gmail.com\"\n",
    "print(type(msg))"
   ]
  },
  {
   "cell_type": "markdown",
   "id": "3b979d85",
   "metadata": {},
   "source": [
    "##### These 4 will be used a lot\n",
    "print( myString.isalpha() )  # return TRUE if all chars are ALPHABETS\n",
    "print( myString.isdigit() )  # return TRUE if all chars are in NUMBERS\n",
    "print( myString.isalnum() )  # alnum : Alpha Numeric : Characters are ONLY alphabets or number\n",
    "print(myString.isspace())  # return TRUE if string in SPACES"
   ]
  },
  {
   "cell_type": "code",
   "execution_count": 12,
   "id": "cc2fa299",
   "metadata": {},
   "outputs": [
    {
     "name": "stdout",
     "output_type": "stream",
     "text": [
      "True\n",
      "True\n",
      "False\n",
      "False\n",
      "False\n",
      "True\n",
      "False\n"
     ]
    }
   ],
   "source": [
    "myString = \"delhi\"\n",
    "\n",
    "print( myString.isalpha() )  # return TRUE if all chars are ALPHABETS\n",
    "print( myString.islower() )  # return TRUE if all chars are in LOWER case\n",
    "print( myString.isupper() )  # return TRUE if all chars are in UPPER case\n",
    "print( myString.istitle() )  # return TRUE if all chars are in TITLE case\n",
    "print( myString.isdigit() )  # return TRUE if all chars are in NUMBERS\n",
    "print( myString.isalnum() )  # alnum : Alpha Numeric : Characters are ONLY alphabets or number\n",
    "print(myString.isspace())  # return TRUE if string in SPACES"
   ]
  },
  {
   "cell_type": "code",
   "execution_count": 18,
   "id": "ce3b1ed4",
   "metadata": {},
   "outputs": [
    {
     "name": "stdout",
     "output_type": "stream",
     "text": [
      "False\n",
      "False\n",
      "False\n",
      "False\n",
      "False\n",
      "False\n",
      "True\n"
     ]
    }
   ],
   "source": [
    "myString = \"                     \"\n",
    "\n",
    "print( myString.isalpha() )  # return TRUE if all chars are ALPHABETS\n",
    "print( myString.islower() )  # return TRUE if all chars are in LOWER case\n",
    "print( myString.isupper() )  # return TRUE if all chars are in UPPER case\n",
    "print( myString.istitle() )  # return TRUE if all chars are in TITLE case\n",
    "print( myString.isdigit() )  # return TRUE if all chars are in NUMBERS\n",
    "print( myString.isalnum() )  # alnum : Alpha Numeric : Characters are ONLY alphabets or number\n",
    "print(myString.isspace())  # return TRUE if string in SPACES"
   ]
  },
  {
   "cell_type": "code",
   "execution_count": 14,
   "id": "9bbe3619",
   "metadata": {},
   "outputs": [
    {
     "name": "stdout",
     "output_type": "stream",
     "text": [
      "False\n",
      "False\n",
      "False\n",
      "False\n",
      "True\n",
      "True\n",
      "False\n"
     ]
    }
   ],
   "source": [
    "myString = \"8250\"\n",
    "\n",
    "print( myString.isalpha() )  # return TRUE if all chars are ALPHABETS\n",
    "print( myString.islower() )  # return TRUE if all chars are in LOWER case\n",
    "print( myString.isupper() )  # return TRUE if all chars are in UPPER case\n",
    "print( myString.istitle() )  # return TRUE if all chars are in TITLE case\n",
    "print( myString.isdigit() )  # return TRUE if all chars are in NUMBERS\n",
    "print( myString.isalnum() )  # alnum : Alpha Numeric : Characters are ONLY alphabets or number\n",
    "print(myString.isspace())  # return TRUE if string in SPACES"
   ]
  },
  {
   "cell_type": "code",
   "execution_count": 15,
   "id": "d967c333",
   "metadata": {},
   "outputs": [
    {
     "name": "stdout",
     "output_type": "stream",
     "text": [
      "False\n",
      "True\n",
      "False\n",
      "False\n",
      "False\n",
      "True\n",
      "False\n"
     ]
    }
   ],
   "source": [
    "myString = \"delhi897\"\n",
    "\n",
    "print( myString.isalpha() )  # return TRUE if all chars are ALPHABETS\n",
    "print( myString.islower() )  # return TRUE if all chars are in LOWER case\n",
    "print( myString.isupper() )  # return TRUE if all chars are in UPPER case\n",
    "print( myString.istitle() )  # return TRUE if all chars are in TITLE case\n",
    "print( myString.isdigit() )  # return TRUE if all chars are in NUMBERS\n",
    "print( myString.isalnum() )  # alnum : Alpha Numeric : Characters are ONLY alphabets or number : a-z 0-9\n",
    "print(myString.isspace())  # return TRUE if string in SPACES"
   ]
  },
  {
   "cell_type": "code",
   "execution_count": 16,
   "id": "fe32eed5",
   "metadata": {},
   "outputs": [
    {
     "name": "stdout",
     "output_type": "stream",
     "text": [
      "False\n",
      "True\n",
      "False\n",
      "False\n",
      "False\n",
      "False\n",
      "False\n"
     ]
    }
   ],
   "source": [
    "myString = \"delhi 57\"\n",
    "\n",
    "print( myString.isalpha() )  # return TRUE if all chars are ALPHABETS\n",
    "print( myString.islower() )  # return TRUE if all chars are in LOWER case\n",
    "print( myString.isupper() )  # return TRUE if all chars are in UPPER case\n",
    "print( myString.istitle() )  # return TRUE if all chars are in TITLE case\n",
    "print( myString.isdigit() )  # return TRUE if all chars are in NUMBERS\n",
    "print( myString.isalnum() )  # alnum : Alpha Numeric : Characters are ONLY alphabets or number\n",
    "print(myString.isspace())  # return TRUE if string in SPACES"
   ]
  },
  {
   "cell_type": "code",
   "execution_count": 17,
   "id": "12293e33",
   "metadata": {},
   "outputs": [
    {
     "name": "stdout",
     "output_type": "stream",
     "text": [
      "False\n",
      "True\n",
      "False\n",
      "False\n",
      "False\n",
      "False\n",
      "False\n"
     ]
    }
   ],
   "source": [
    "myString = \"delhi@gmail\"\n",
    "\n",
    "print( myString.isalpha() )  # return TRUE if all chars are ALPHABETS\n",
    "print( myString.islower() )  # return TRUE if all chars are in LOWER case\n",
    "print( myString.isupper() )  # return TRUE if all chars are in UPPER case\n",
    "print( myString.istitle() )  # return TRUE if all chars are in TITLE case\n",
    "print( myString.isdigit() )  # return TRUE if all chars are in NUMBERS\n",
    "print( myString.isalnum() )  # alnum : Alpha Numeric : Characters are ONLY alphabets or number : a-z 0-9\n",
    "print(myString.isspace())  # return TRUE if string in SPACES"
   ]
  },
  {
   "cell_type": "code",
   "execution_count": 19,
   "id": "8663f14b",
   "metadata": {},
   "outputs": [
    {
     "name": "stdout",
     "output_type": "stream",
     "text": [
      "False\n",
      "False\n",
      "False\n",
      "False\n",
      "False\n",
      "False\n",
      "False\n"
     ]
    }
   ],
   "source": [
    "myString = \"hUPl fTgb\"\n",
    "\n",
    "print( myString.isalpha() )  # return TRUE if all chars are ALPHABETS\n",
    "print( myString.islower() )  # return TRUE if all chars are in LOWER case\n",
    "print( myString.isupper() )  # return TRUE if all chars are in UPPER case\n",
    "print( myString.istitle() )  # return TRUE if all chars are in TITLE case\n",
    "print( myString.isdigit() )  # return TRUE if all chars are in NUMBERS\n",
    "print( myString.isalnum() )  # alnum : Alpha Numeric : Characters are ONLY alphabets or number : a-z 0-9\n",
    "print(myString.isspace())  # return TRUE if string in SPACES"
   ]
  },
  {
   "cell_type": "code",
   "execution_count": 22,
   "id": "010d752a",
   "metadata": {},
   "outputs": [
    {
     "name": "stdout",
     "output_type": "stream",
     "text": [
      "False\n",
      "False\n",
      "True\n",
      "False\n",
      "False\n",
      "True\n",
      "False\n"
     ]
    }
   ],
   "source": [
    "myString = \"47LKJH45\"\n",
    "\n",
    "print( myString.isalpha() )  # return TRUE if all chars are ALPHABETS\n",
    "print( myString.islower() )  # return TRUE if all chars are in LOWER case\n",
    "print( myString.isupper() )  # return TRUE if all chars are in UPPER case\n",
    "print( myString.istitle() )  # return TRUE if all chars are in TITLE case\n",
    "print( myString.isdigit() )  # return TRUE if all chars are in NUMBERS\n",
    "print( myString.isalnum() )  # alnum : Alpha Numeric : Characters are ONLY alphabets or number : a-z 0-9\n",
    "print(myString.isspace())  # return TRUE if string in SPACES"
   ]
  },
  {
   "cell_type": "code",
   "execution_count": null,
   "id": "05e63296",
   "metadata": {},
   "outputs": [],
   "source": []
  },
  {
   "cell_type": "code",
   "execution_count": 20,
   "id": "a0307416",
   "metadata": {},
   "outputs": [
    {
     "name": "stdout",
     "output_type": "stream",
     "text": [
      "$45 price is there for apple product #7878222\n"
     ]
    }
   ],
   "source": [
    "msg = \"$45 price is there for apple product #7878222\"\n",
    "print(msg.lower())"
   ]
  },
  {
   "cell_type": "code",
   "execution_count": 21,
   "id": "e8204e1a",
   "metadata": {},
   "outputs": [
    {
     "name": "stdout",
     "output_type": "stream",
     "text": [
      "$45 Price Is There For Apple Product #7878222\n"
     ]
    }
   ],
   "source": [
    "msg = \"$45 Price Is There For Apple Product #7878222\"\n",
    "print(msg.title())"
   ]
  },
  {
   "cell_type": "code",
   "execution_count": null,
   "id": "b3b5357d",
   "metadata": {},
   "outputs": [],
   "source": []
  },
  {
   "cell_type": "code",
   "execution_count": 25,
   "id": "7be9b1b7",
   "metadata": {},
   "outputs": [
    {
     "name": "stdout",
     "output_type": "stream",
     "text": [
      "True\n",
      "True\n",
      "True\n"
     ]
    }
   ],
   "source": [
    "# Ascii Chart : https://www.rapidtables.com/code/text/ascii-table.html\n",
    "\n",
    "myString = \"47LKJH45\"\n",
    "print( myString.isascii() )  # return TRUE if all chars are spaces or ASCII (0 - 127 range)\n",
    "\n",
    "\n",
    "myString = \" \"\n",
    "print( myString.isascii() )  # return TRUE if all chars are spaces or ASCII (0 - 127 range)\n",
    "\n",
    "myString = \"sdfyhj 3698745\"\n",
    "print( myString.isascii() )  # return TRUE if all chars are spaces or ASCII (0 - 127 range)\n",
    "\n"
   ]
  },
  {
   "cell_type": "code",
   "execution_count": 27,
   "id": "42534930",
   "metadata": {},
   "outputs": [
    {
     "name": "stdout",
     "output_type": "stream",
     "text": [
      "False\n",
      "False\n"
     ]
    }
   ],
   "source": [
    "myString = \"Ò\"\n",
    "print( myString.isascii() )  # return TRUE if all chars are spaces or ASCII (0 - 127 range)\n",
    "\n",
    "myString = \"ß\"\n",
    "print( myString.isascii() )  # return TRUE if all chars are spaces or ASCII (0 - 127 range)\n",
    "\n"
   ]
  },
  {
   "cell_type": "code",
   "execution_count": 30,
   "id": "2e685a72",
   "metadata": {},
   "outputs": [
    {
     "data": {
      "text/plain": [
       "'A'"
      ]
     },
     "execution_count": 30,
     "metadata": {},
     "output_type": "execute_result"
    }
   ],
   "source": [
    "# Return character by taking the ascii value\n",
    "\n",
    "chr(65)"
   ]
  },
  {
   "cell_type": "code",
   "execution_count": 1,
   "id": "9b2af10e",
   "metadata": {},
   "outputs": [
    {
     "data": {
      "text/plain": [
       "109"
      ]
     },
     "execution_count": 1,
     "metadata": {},
     "output_type": "execute_result"
    }
   ],
   "source": [
    "# Get Ascii value of any character\n",
    "\n",
    "ord(\"m\")"
   ]
  },
  {
   "cell_type": "code",
   "execution_count": null,
   "id": "46ea1065",
   "metadata": {},
   "outputs": [],
   "source": [
    "# isprintable : return TRUE if string is a SINGLE LINE only"
   ]
  },
  {
   "cell_type": "code",
   "execution_count": 32,
   "id": "5aa4b681",
   "metadata": {},
   "outputs": [
    {
     "name": "stdout",
     "output_type": "stream",
     "text": [
      "True\n"
     ]
    }
   ],
   "source": [
    "w1 = \"new delhi\"\n",
    "print( w1.isprintable() )"
   ]
  },
  {
   "cell_type": "code",
   "execution_count": 33,
   "id": "aa6621df",
   "metadata": {},
   "outputs": [
    {
     "name": "stdout",
     "output_type": "stream",
     "text": [
      "True\n"
     ]
    }
   ],
   "source": [
    "w1 = 'new delhi'\n",
    "print( w1.isprintable() )"
   ]
  },
  {
   "cell_type": "code",
   "execution_count": 34,
   "id": "8d6097f7",
   "metadata": {},
   "outputs": [
    {
     "name": "stdout",
     "output_type": "stream",
     "text": [
      "True\n"
     ]
    }
   ],
   "source": [
    "w1 = \"\"\"new delhi\"\"\"\n",
    "print( w1.isprintable() )"
   ]
  },
  {
   "cell_type": "code",
   "execution_count": 35,
   "id": "a8d701b5",
   "metadata": {},
   "outputs": [
    {
     "name": "stdout",
     "output_type": "stream",
     "text": [
      "False\n"
     ]
    }
   ],
   "source": [
    "w1 = \"\"\"new\n",
    "delhi\"\"\"\n",
    "print( w1.isprintable() )"
   ]
  },
  {
   "cell_type": "code",
   "execution_count": null,
   "id": "6e50420b",
   "metadata": {},
   "outputs": [],
   "source": []
  },
  {
   "cell_type": "code",
   "execution_count": null,
   "id": "7561aee1",
   "metadata": {},
   "outputs": [],
   "source": [
    "# isidentifier : return TRUE if string has properly defined VARIABLE name rules, except for KEYWORDS"
   ]
  },
  {
   "cell_type": "code",
   "execution_count": 36,
   "id": "3043c6fa",
   "metadata": {},
   "outputs": [
    {
     "name": "stdout",
     "output_type": "stream",
     "text": [
      "True\n"
     ]
    }
   ],
   "source": [
    "w1 = \"myString\"\n",
    "print( w1.isidentifier() )\n"
   ]
  },
  {
   "cell_type": "code",
   "execution_count": 42,
   "id": "45f3bacc",
   "metadata": {},
   "outputs": [
    {
     "name": "stdout",
     "output_type": "stream",
     "text": [
      "True\n"
     ]
    }
   ],
   "source": [
    "w1 = \"myString_45\"\n",
    "print( w1.isidentifier() )\n"
   ]
  },
  {
   "cell_type": "code",
   "execution_count": 43,
   "id": "be2412f1",
   "metadata": {},
   "outputs": [
    {
     "name": "stdout",
     "output_type": "stream",
     "text": [
      "True\n"
     ]
    }
   ],
   "source": [
    "w1 = \"_myString\"\n",
    "print( w1.isidentifier() )\n"
   ]
  },
  {
   "cell_type": "code",
   "execution_count": 44,
   "id": "b674159c",
   "metadata": {},
   "outputs": [
    {
     "name": "stdout",
     "output_type": "stream",
     "text": [
      "False\n"
     ]
    }
   ],
   "source": [
    "w1 = \"875myString\"\n",
    "print( w1.isidentifier() )\n"
   ]
  },
  {
   "cell_type": "code",
   "execution_count": 38,
   "id": "249eabd9",
   "metadata": {},
   "outputs": [
    {
     "name": "stdout",
     "output_type": "stream",
     "text": [
      "False\n"
     ]
    }
   ],
   "source": [
    "w1 = \"myString 58\"\n",
    "print( w1.isidentifier() )\n"
   ]
  },
  {
   "cell_type": "code",
   "execution_count": 39,
   "id": "1cf6bb65",
   "metadata": {},
   "outputs": [
    {
     "name": "stdout",
     "output_type": "stream",
     "text": [
      "True\n"
     ]
    }
   ],
   "source": [
    "w1 = \"False\" # keyword\n",
    "print( w1.isidentifier() )\n"
   ]
  },
  {
   "cell_type": "code",
   "execution_count": 40,
   "id": "44714d73",
   "metadata": {},
   "outputs": [
    {
     "name": "stdout",
     "output_type": "stream",
     "text": [
      "True\n"
     ]
    }
   ],
   "source": [
    "w1 = \"if\" # keyword\n",
    "print( w1.isidentifier() )\n"
   ]
  },
  {
   "cell_type": "code",
   "execution_count": 41,
   "id": "aa050902",
   "metadata": {},
   "outputs": [
    {
     "name": "stdout",
     "output_type": "stream",
     "text": [
      "False\n"
     ]
    }
   ],
   "source": [
    "w1 = \"myString@85\"\n",
    "print( w1.isidentifier() )\n"
   ]
  },
  {
   "cell_type": "code",
   "execution_count": null,
   "id": "279b4dec",
   "metadata": {},
   "outputs": [],
   "source": []
  },
  {
   "cell_type": "code",
   "execution_count": null,
   "id": "3be88f2c",
   "metadata": {},
   "outputs": [],
   "source": []
  },
  {
   "cell_type": "code",
   "execution_count": null,
   "id": "36d30290",
   "metadata": {},
   "outputs": [],
   "source": []
  },
  {
   "cell_type": "code",
   "execution_count": null,
   "id": "9227d5b3",
   "metadata": {},
   "outputs": [],
   "source": []
  },
  {
   "cell_type": "code",
   "execution_count": 9,
   "id": "5f1e3ef0",
   "metadata": {},
   "outputs": [
    {
     "name": "stdout",
     "output_type": "stream",
     "text": [
      "False\n",
      "False\n",
      "False\n"
     ]
    }
   ],
   "source": [
    "# number = \"98426.25\"\n",
    "number = \"23ᵈ\"\n",
    "print(number.isdigit()) # Only for Numbers\n",
    "print(number.isdecimal()) # roman or supercript or subscript\n",
    "print(number.isnumeric()) # roman or supercript or subscript\n"
   ]
  },
  {
   "cell_type": "code",
   "execution_count": null,
   "id": "28ec32d7",
   "metadata": {},
   "outputs": [],
   "source": []
  },
  {
   "cell_type": "code",
   "execution_count": null,
   "id": "77b813a1",
   "metadata": {},
   "outputs": [],
   "source": []
  },
  {
   "cell_type": "code",
   "execution_count": null,
   "id": "9bff8563",
   "metadata": {},
   "outputs": [],
   "source": []
  },
  {
   "cell_type": "code",
   "execution_count": null,
   "id": "31c03db1",
   "metadata": {},
   "outputs": [],
   "source": []
  },
  {
   "cell_type": "code",
   "execution_count": null,
   "id": "836e76a0",
   "metadata": {},
   "outputs": [],
   "source": []
  },
  {
   "cell_type": "code",
   "execution_count": null,
   "id": "f8781382",
   "metadata": {},
   "outputs": [],
   "source": []
  },
  {
   "cell_type": "code",
   "execution_count": null,
   "id": "ce982685",
   "metadata": {},
   "outputs": [],
   "source": []
  },
  {
   "cell_type": "code",
   "execution_count": null,
   "id": "1b235ac7",
   "metadata": {},
   "outputs": [],
   "source": []
  },
  {
   "cell_type": "code",
   "execution_count": null,
   "id": "30f44f11",
   "metadata": {},
   "outputs": [],
   "source": []
  },
  {
   "cell_type": "code",
   "execution_count": null,
   "id": "5523a5ce",
   "metadata": {},
   "outputs": [],
   "source": []
  },
  {
   "cell_type": "code",
   "execution_count": null,
   "id": "16d89ed5",
   "metadata": {},
   "outputs": [],
   "source": []
  }
 ],
 "metadata": {
  "kernelspec": {
   "display_name": "base",
   "language": "python",
   "name": "python3"
  },
  "language_info": {
   "codemirror_mode": {
    "name": "ipython",
    "version": 3
   },
   "file_extension": ".py",
   "mimetype": "text/x-python",
   "name": "python",
   "nbconvert_exporter": "python",
   "pygments_lexer": "ipython3",
   "version": "3.9.13"
  },
  "vscode": {
   "interpreter": {
    "hash": "5ae58900cfbb8c43ab3495913814b7cf26024f51651a94ce8bf64d6111688e8d"
   }
  }
 },
 "nbformat": 4,
 "nbformat_minor": 5
}

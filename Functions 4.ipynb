{
 "cells": [
  {
   "attachments": {},
   "cell_type": "markdown",
   "id": "3c64f271",
   "metadata": {},
   "source": [
    "# Functions 3"
   ]
  },
  {
   "cell_type": "markdown",
   "id": "d0f2a51b",
   "metadata": {},
   "source": [
    "## lambda\n",
    "\n",
    "- single line functions\n",
    "- it can exist without a FUNCTIONName also. No Function Calling is then AVAILABLE\n",
    "- def less function\n",
    "\n",
    "\n",
    "Syntax :: lambda arguments : expression \n",
    "\n"
   ]
  },
  {
   "cell_type": "code",
   "execution_count": null,
   "id": "5f5db1be",
   "metadata": {},
   "outputs": [],
   "source": [
    "if  expression: \n",
    "    statements\n",
    "    statements\n",
    "    statements\n",
    "else : \n",
    "    statements\n",
    "    statements\n",
    "    "
   ]
  },
  {
   "cell_type": "code",
   "execution_count": 1,
   "id": "7a8fc9d4",
   "metadata": {},
   "outputs": [
    {
     "name": "stdout",
     "output_type": "stream",
     "text": [
      "33\n"
     ]
    }
   ],
   "source": [
    "def myfunc(n):\n",
    "      return lambda a : a * n\n",
    "\n",
    "mytripler = myfunc(3)\n",
    "\n",
    "print(mytripler(11))"
   ]
  },
  {
   "cell_type": "code",
   "execution_count": null,
   "id": "fc28763c",
   "metadata": {},
   "outputs": [],
   "source": [
    "if  expression: \n",
    "    statements\n",
    "else : \n",
    "    statements\n",
    "\n",
    "outputOfIF if expression else outputOfELSE\n",
    "    \n",
    "    "
   ]
  },
  {
   "cell_type": "markdown",
   "id": "9c8a1ce1",
   "metadata": {},
   "source": [
    "### Def Syntax\n",
    "\n",
    "**Funtion Declaration**\n",
    "def functionName(a1, a2) :   --- Formal Arguments\n",
    "    statements\n",
    "    statements\n",
    "    \n",
    "    value = _____________________\n",
    "    return value #### To take the value out of the funtion\n",
    "\n",
    "**Calling the Funtion**\n",
    "functionName(a1, a2)       --- Actual Arguments\n",
    "\n",
    "\n",
    "### Lambda Syntax\n",
    "\n",
    "**Funtion Declaration**\n",
    "functionName = lambda a1, a2 : statements\n",
    "\n",
    "**Calling the Funtion**\n",
    "functionName(a1, a2)    \n",
    "\n"
   ]
  },
  {
   "cell_type": "code",
   "execution_count": 4,
   "id": "2d6e7f01",
   "metadata": {},
   "outputs": [
    {
     "name": "stdout",
     "output_type": "stream",
     "text": [
      "<class 'function'>\n",
      "10.0\n"
     ]
    }
   ],
   "source": [
    "## Get Squareroot\n",
    "\n",
    "def getSquareroot(x) : \n",
    "    return x ** 0.5\n",
    "\n",
    "print( type( getSquareroot ) )\n",
    "print( getSquareroot( 100 ) )\n"
   ]
  },
  {
   "cell_type": "code",
   "execution_count": 5,
   "id": "512ea391",
   "metadata": {},
   "outputs": [
    {
     "name": "stdout",
     "output_type": "stream",
     "text": [
      "<class 'function'>\n",
      "10.0\n"
     ]
    }
   ],
   "source": [
    "## Get Squareroot\n",
    "\n",
    "getSquareroot2 = lambda x : x ** 0.5  # common activity if you apply a function on single data row or data column\n",
    "\n",
    "print( type( getSquareroot2 ) )\n",
    "print( getSquareroot2( 100 ) )\n"
   ]
  },
  {
   "cell_type": "code",
   "execution_count": 6,
   "id": "204751af",
   "metadata": {},
   "outputs": [
    {
     "data": {
      "text/plain": [
       "<function __main__.<lambda>(x)>"
      ]
     },
     "execution_count": 6,
     "metadata": {},
     "output_type": "execute_result"
    }
   ],
   "source": [
    "lambda x : x ** 0.5"
   ]
  },
  {
   "cell_type": "code",
   "execution_count": 11,
   "id": "3190691f",
   "metadata": {},
   "outputs": [
    {
     "name": "stdout",
     "output_type": "stream",
     "text": [
      "even\n",
      "odd\n"
     ]
    }
   ],
   "source": [
    "# Weather number is even odd\n",
    "def evenodd(x):\n",
    "    if x%2 == 0:\n",
    "        return \"even\"\n",
    "    else:\n",
    "        return \"odd\"\n",
    "\n",
    "print( evenodd(10) )\n",
    "print( evenodd(11) )"
   ]
  },
  {
   "cell_type": "code",
   "execution_count": 13,
   "id": "c63cf301",
   "metadata": {},
   "outputs": [
    {
     "name": "stdout",
     "output_type": "stream",
     "text": [
      "Even\n",
      "Odd\n"
     ]
    }
   ],
   "source": [
    "even_or_odd = lambda x: \"Even\" if x % 2 == 0 else \"Odd\"\n",
    "print( even_or_odd(10) )\n",
    "print( even_or_odd(11) )\n"
   ]
  },
  {
   "cell_type": "code",
   "execution_count": 14,
   "id": "a164f1a7",
   "metadata": {},
   "outputs": [
    {
     "name": "stdout",
     "output_type": "stream",
     "text": [
      "Enter the word: madam\n",
      "Palindrome\n",
      "Enter the word: 1547\n",
      "Not a Palindrome\n"
     ]
    }
   ],
   "source": [
    "# Weather word is palindrome\n",
    "\n",
    "def palindrome(word) :\n",
    "    if word[ : :1] == word[ : :-1] :\n",
    "        return \"Palindrome\"\n",
    "    else :\n",
    "        return  \"Not a Palindrome\"\n",
    "\n",
    "word = str(input(\"Enter the word: \")).strip()\n",
    "print( palindrome(word) )\n",
    "\n",
    "word = str(input(\"Enter the word: \")).strip()\n",
    "print( palindrome(word) )\n",
    "\n"
   ]
  },
  {
   "cell_type": "code",
   "execution_count": 16,
   "id": "41cbaed6",
   "metadata": {},
   "outputs": [
    {
     "name": "stdout",
     "output_type": "stream",
     "text": [
      "Palindrome\n",
      "Not a Palindrome\n"
     ]
    }
   ],
   "source": [
    "palin_fun = lambda w : \"Palindrome\" if w[ : : 1] == w[ : : -1] else \"Not a Palindrome\"\n",
    "\n",
    "print( palin_fun('madam') )\n",
    "print( palin_fun('16242') )"
   ]
  },
  {
   "cell_type": "code",
   "execution_count": 6,
   "id": "7e4d4f28",
   "metadata": {},
   "outputs": [
    {
     "name": "stdout",
     "output_type": "stream",
     "text": [
      "[18, 24, 32]\n"
     ]
    }
   ],
   "source": [
    "ages = [5, 12, 17, 18, 24, 32]\n",
    "\n",
    "def myFunc(x):\n",
    "  if x < 18:\n",
    "    return False\n",
    "  else:\n",
    "    return True\n",
    "\n",
    "adults = filter(myFunc, ages)\n",
    "print(list(adults))\n",
    "for x in adults:\n",
    "  print(x)"
   ]
  },
  {
   "cell_type": "markdown",
   "id": "9ffb41be",
   "metadata": {},
   "source": [
    "### Filter : \n",
    "\n",
    "- Objective is to Filter the values ONLY. FINDING THE VALUES\n",
    "- Output size may or may not be equal to the Input Size\n",
    "\n",
    "filter( FunctionName, seqName ) # Use a for loop on the seqName and apply the function one by one on every element"
   ]
  },
  {
   "cell_type": "code",
   "execution_count": 24,
   "id": "ef2931f8",
   "metadata": {},
   "outputs": [
    {
     "name": "stdout",
     "output_type": "stream",
     "text": [
      "['naman', ' 75357', 'Madam  ', ' noon ', 8520258]\n",
      "['naman', ' 75357', 'Madam  ', ' noon ', 8520258]\n"
     ]
    }
   ],
   "source": [
    "# find the words that are in palindrome. You can also take care of coverting all characters to lowercases\n",
    "# Input\n",
    "words = [ \"naman\", \" 75357\", \"Madam  \", 57842, False, \"   Orange  \", \" noon \" , 8520258]\n",
    "# output : [ \"naman\", \" 75357\", \"Madam  \", \" noon \" , 8520258]\n",
    "\n",
    "# Way1\n",
    "newList = []\n",
    "for w in words : \n",
    "    if str(w).strip().lower()[ : : 1] == str(w).strip().lower()[ : : -1] : \n",
    "        newList.append(w)\n",
    "\n",
    "print( newList )\n",
    "\n",
    "\n",
    "# Way2\n",
    "newList = [w for w in words if str(w).strip().lower()[ : : 1] == str(w).strip().lower()[ : : -1]  ]\n",
    "print( newList )\n"
   ]
  },
  {
   "cell_type": "code",
   "execution_count": 2,
   "id": "faa97969",
   "metadata": {},
   "outputs": [
    {
     "name": "stdout",
     "output_type": "stream",
     "text": [
      "['naman', ' 75357', 'Madam  ', ' noon ', 8520258]\n"
     ]
    }
   ],
   "source": [
    "# find the words that are in palindrome. You can also take care of coverting all characters to lowercases\n",
    "# Input\n",
    "words = [ \"naman\", \" 75357\", \"Madam  \", 57842, False, \"   Orange  \", \" noon \" , 8520258]\n",
    "# output : [ \"naman\", \" 75357\", \"Madam  \", \" noon \" , 8520258]\n",
    "\n",
    "# Way3\n",
    "\n",
    "def palin_check(w) :\n",
    "    if str(w).strip().lower()[ : : 1] == str(w).strip().lower()[ : : -1] : \n",
    "        return True\n",
    "    else :\n",
    "        return False\n",
    "    \n",
    "newList = []\n",
    "'''for w in words : \n",
    "    if palin_check(w) :\n",
    "        newList.append(w)\n",
    "print( newList )'''\n",
    "\n",
    "\n",
    "newList = [w for w in words if palin_check(w)]\n",
    "print( newList )\n",
    "\n"
   ]
  },
  {
   "cell_type": "code",
   "execution_count": 27,
   "id": "c7a2263f",
   "metadata": {},
   "outputs": [
    {
     "name": "stdout",
     "output_type": "stream",
     "text": [
      "['naman', ' 75357', 'Madam  ', ' noon ', 8520258]\n",
      "['naman', ' 75357', 'Madam  ', ' noon ', 8520258]\n"
     ]
    }
   ],
   "source": [
    "# find the words that are in palindrome. You can also take care of coverting all characters to lowercases\n",
    "# Input\n",
    "words = [ \"naman\", \" 75357\", \"Madam  \", 57842, False, \"   Orange  \", \" noon \" , 8520258]\n",
    "# output : [ \"naman\", \" 75357\", \"Madam  \", \" noon \" , 8520258]\n",
    "\n",
    "# Way4\n",
    "\n",
    "palin_lambda = lambda w : True if str(w).strip().lower()[ : : 1] == str(w).strip().lower()[ : : -1] else False\n",
    "    \n",
    "newList = []\n",
    "for w in words : \n",
    "    if palin_lambda(w) : \n",
    "        newList.append(w)\n",
    "print( newList )\n",
    "\n",
    "\n",
    "newList = [w for w in words if palin_lambda(w)]\n",
    "print( newList )"
   ]
  },
  {
   "cell_type": "code",
   "execution_count": 32,
   "id": "f7a04ba0",
   "metadata": {},
   "outputs": [
    {
     "name": "stdout",
     "output_type": "stream",
     "text": [
      "<filter object at 0x00000187B691D790>\n",
      "['naman', ' 75357', 'Madam  ', ' noon ', 8520258]\n",
      "<filter object at 0x00000187B691D0A0>\n",
      "['naman', ' 75357', 'Madam  ', ' noon ', 8520258]\n",
      "<filter object at 0x00000187B691D790>\n",
      "['naman', ' 75357', 'Madam  ', ' noon ', 8520258]\n"
     ]
    }
   ],
   "source": [
    "# find the words that are in palindrome. You can also take care of coverting all characters to lowercases\n",
    "# Input\n",
    "words = [ \"naman\", \" 75357\", \"Madam  \", 57842, False, \"   Orange  \", \" noon \" , 8520258]\n",
    "# output : [ \"naman\", \" 75357\", \"Madam  \", \" noon \" , 8520258]\n",
    "\n",
    "# Way5\n",
    "\n",
    "def palin_check(w) :\n",
    "    if str(w).strip().lower()[ : : 1] == str(w).strip().lower()[ : : -1] : \n",
    "        return True\n",
    "    else :\n",
    "        return False\n",
    "\n",
    "palin_lambda = lambda w : True if str(w).strip().lower()[ : : 1] == str(w).strip().lower()[ : : -1] else False\n",
    "    \n",
    "print( filter( palin_check, words  ) )\n",
    "print( list( filter( palin_check, words  ) ) )\n",
    "\n",
    "print( filter( palin_lambda, words  ) )\n",
    "print( list( filter( palin_lambda, words  ) ) )\n",
    "\n",
    "\n",
    "print( filter( lambda w : True if str(w).strip().lower()[ : : 1] == str(w).strip().lower()[ : : -1] else False, words  ) )\n",
    "print( list( filter( lambda w : True if str(w).strip().lower()[ : : 1] == str(w).strip().lower()[ : : -1] else False, words  ) ) )\n"
   ]
  },
  {
   "cell_type": "code",
   "execution_count": 11,
   "id": "c0c06917",
   "metadata": {},
   "outputs": [
    {
     "data": {
      "text/plain": [
       "[False, False, False, True, True, True]"
      ]
     },
     "execution_count": 11,
     "metadata": {},
     "output_type": "execute_result"
    }
   ],
   "source": [
    "ages = [5, 12, 17, 18, 24, 32]\n",
    "\n",
    "def myFunc(x):\n",
    "  if x < 18:\n",
    "    return False\n",
    "  else:\n",
    "    return True\n",
    "\n",
    "adults = map(myFunc, ages)\n",
    "list(adults)"
   ]
  },
  {
   "cell_type": "code",
   "execution_count": null,
   "id": "46dbbdf9",
   "metadata": {},
   "outputs": [],
   "source": []
  },
  {
   "cell_type": "code",
   "execution_count": null,
   "id": "04b92b9c",
   "metadata": {},
   "outputs": [],
   "source": [
    "# For the given list find out the Even  Numbers ONLY\n",
    "numbers = [ 2, 5, 11, 0, 8, 6, 13, 23, 45  ]\n",
    "\n",
    "\n",
    "\n"
   ]
  },
  {
   "cell_type": "code",
   "execution_count": 5,
   "id": "30aee871",
   "metadata": {},
   "outputs": [
    {
     "name": "stdout",
     "output_type": "stream",
     "text": [
      "[2, 0, 8, 6]\n"
     ]
    },
    {
     "data": {
      "text/plain": [
       "[2, 0, 8, 6]"
      ]
     },
     "execution_count": 5,
     "metadata": {},
     "output_type": "execute_result"
    }
   ],
   "source": [
    "numbers = [ 2, 5, 11, 0, 8, 6, 13, 23, 45  ]\n",
    "#Way2\n",
    "\n",
    "def even(w):\n",
    "    if w%2==0:\n",
    "        return True\n",
    "    else:\n",
    "        return False\n",
    "\n",
    "ne=[n for n in numbers if even(n)]\n",
    "print(ne)\n",
    "\n",
    "even_lambda = lambda x : True if x%2 == 0 else False\n",
    "\n",
    "output = [ n for n in numbers if even_lambda(n)  ]\n",
    "output\n"
   ]
  },
  {
   "cell_type": "code",
   "execution_count": 21,
   "id": "e21cb9c3",
   "metadata": {},
   "outputs": [
    {
     "name": "stdout",
     "output_type": "stream",
     "text": [
      "(2, 0, 8, 6)\n",
      "[2, 0, 8, 6]\n",
      "[True, False, False, True, True, True, False, False, False]\n"
     ]
    }
   ],
   "source": [
    "numbers = [ 2, 5, 11, 0, 8, 6, 13, 23, 45  ]\n",
    "\n",
    "def even(w):\n",
    "    if w%2==0:\n",
    "        return True\n",
    "    else:\n",
    "        return False\n",
    "\n",
    "even_lambda = lambda x : True if x%2 == 0 else False\n",
    "\n",
    "res_1 = tuple( filter( even, numbers ) ) # Take a single value from the numbers and execute function on it\n",
    "print( res_1 )\n",
    "\n",
    "res_2 = list( filter( even_lambda , numbers ) ) # Take a single value from the numbers and execute function on it\n",
    "print( res_2 )\n",
    "\n",
    "res_3 = list( map( even_lambda , numbers ) ) # Take a single value from the numbers and execute function on it\n",
    "print( res_3 )\n",
    "\n"
   ]
  },
  {
   "cell_type": "code",
   "execution_count": null,
   "id": "361d536e",
   "metadata": {},
   "outputs": [],
   "source": []
  },
  {
   "cell_type": "code",
   "execution_count": null,
   "id": "bf190ee0",
   "metadata": {},
   "outputs": [],
   "source": []
  },
  {
   "cell_type": "markdown",
   "id": "75109b12",
   "metadata": {},
   "source": [
    "### Map : \n",
    "\n",
    "- Objective is to EXECUTE THE action on all VALUES. MIght or might not change the value as per Expression.\n",
    "- Output size is equal to the Input Size\n",
    "\n",
    "map( FunctionName, seqName ) # Use a for loop on the seqName and apply the function one by one on every element"
   ]
  },
  {
   "cell_type": "code",
   "execution_count": 10,
   "id": "f45f1819",
   "metadata": {},
   "outputs": [
    {
     "name": "stdout",
     "output_type": "stream",
     "text": [
      "['appleorange', 'bananalemon', 'cherrypineapple']\n"
     ]
    }
   ],
   "source": [
    "def myfunc(a, b):\n",
    "      return a + b\n",
    "\n",
    "x = map(myfunc, ('apple', 'banana', 'cherry'), ('orange', 'lemon', 'pineapple'))\n",
    "print(list(x))"
   ]
  },
  {
   "cell_type": "code",
   "execution_count": null,
   "id": "3523306a",
   "metadata": {},
   "outputs": [],
   "source": [
    "# For the given list find the factorial of the numbers...\n",
    "# Apply all possible Ways 1 - 4 shared Above\n",
    "numbers = [ 2, 5, 11, -3, 0, 8, -4, 6  ]\n",
    "\n"
   ]
  },
  {
   "cell_type": "code",
   "execution_count": 13,
   "id": "90959846",
   "metadata": {},
   "outputs": [
    {
     "data": {
      "text/plain": [
       "1"
      ]
     },
     "execution_count": 13,
     "metadata": {},
     "output_type": "execute_result"
    }
   ],
   "source": [
    "num = 0\n",
    "fact = 1\n",
    "\n",
    "if num > 0 : \n",
    "    for i in range(num , 0 , -1) : \n",
    "        fact = fact * i\n",
    "elif num == 0 : \n",
    "    fact = 1\n",
    "else : \n",
    "    fact = \"Invalid\"\n",
    "fact"
   ]
  },
  {
   "cell_type": "code",
   "execution_count": 20,
   "id": "35c5b904",
   "metadata": {},
   "outputs": [
    {
     "name": "stdout",
     "output_type": "stream",
     "text": [
      "2\n",
      "120\n",
      "39916800\n",
      "Invalid\n",
      "1\n",
      "40320\n",
      "Invalid\n",
      "720\n",
      "[2, 120, 39916800, 'Invalid', 1, 40320, 'Invalid', 720]\n",
      "[2, 120, 39916800, 'Invalid', 1, 40320, 'Invalid', 720]\n",
      "[2, 5, 11, -3, 0, 8, -4, 6]\n"
     ]
    }
   ],
   "source": [
    "def findFactorial(num) : \n",
    "    fact = 1\n",
    "\n",
    "    if num > 0 : \n",
    "        for i in range(num , 0 , -1) : \n",
    "            fact = fact * i\n",
    "        return fact\n",
    "    elif num == 0 : \n",
    "        return 1\n",
    "    else : \n",
    "        return \"Invalid\"\n",
    "\n",
    "numbers = [ 2, 5, 11, -3, 0, 8, -4, 6  ]\n",
    "\n",
    "for each in numbers : \n",
    "    print( findFactorial(each) )\n",
    "\n",
    "res = [ findFactorial( each ) for each in numbers ]\n",
    "print( res )\n",
    "\n",
    "\n",
    "res2 = list(  map( findFactorial, numbers ) )\n",
    "print(res2)\n",
    "\n",
    "res3 = list(  filter( findFactorial, numbers ) )\n",
    "print(res3)"
   ]
  },
  {
   "cell_type": "code",
   "execution_count": null,
   "id": "c094e389",
   "metadata": {},
   "outputs": [],
   "source": [
    "'''def even_odd():\n",
    "    for i in num:\n",
    "        if i%2==0:\n",
    "            e.append(i)\n",
    "        else:\n",
    "            o.append(i)\n",
    "    return \"Even Num\",e,\"Odd Num\",o\n",
    "even_odd()'''"
   ]
  },
  {
   "cell_type": "code",
   "execution_count": 132,
   "id": "8a4f3f7c",
   "metadata": {},
   "outputs": [
    {
     "name": "stdout",
     "output_type": "stream",
     "text": [
      "[10, 6, 50]\n",
      "[1, 3, 45]\n"
     ]
    }
   ],
   "source": [
    "numbers = [1, 3, 10, 45, 6, 50]\n",
    "\n",
    "def is_even(number):\n",
    "    return number % 2 == 0\n",
    "def is_odd(number):\n",
    "    return number % 2 != 0\n",
    "\n",
    "even_numbers = list(filter(is_even, numbers))\n",
    "print(even_numbers)\n",
    "odd_numbers = list(filter(is_odd, numbers))\n",
    "print(odd_numbers)"
   ]
  },
  {
   "cell_type": "code",
   "execution_count": null,
   "id": "c6d01949",
   "metadata": {},
   "outputs": [],
   "source": []
  },
  {
   "cell_type": "code",
   "execution_count": null,
   "id": "cf9c36e5",
   "metadata": {},
   "outputs": [],
   "source": []
  },
  {
   "cell_type": "code",
   "execution_count": 23,
   "id": "13172b61",
   "metadata": {},
   "outputs": [
    {
     "name": "stdout",
     "output_type": "stream",
     "text": [
      "[4, 25, 121, 9, 0, 64, 16, 36]\n",
      "[4, 25, 121, 9, 0, 64, 16, 36]\n"
     ]
    }
   ],
   "source": [
    "# For the given list find the Square of the numbers...\n",
    "# Apply all possible Ways 1 - 4 shared Above\n",
    "numbers = [ 2, 5, 11, -3, 0, 8, -4, 6  ]\n",
    "\n",
    "lambda_square = lambda x : x ** 2\n",
    "res = [ lambda_square(each) for each in numbers ]\n",
    "print( res )\n",
    "\n",
    "res_2 = list( map( lambda_square , numbers) )\n",
    "print(res_2)"
   ]
  },
  {
   "cell_type": "code",
   "execution_count": 146,
   "id": "3b4f9621",
   "metadata": {},
   "outputs": [
    {
     "data": {
      "text/plain": [
       "[100, 1156, 2704, 256, 1764]"
      ]
     },
     "execution_count": 146,
     "metadata": {},
     "output_type": "execute_result"
    }
   ],
   "source": [
    "num=[10,21,34,52,37,16,42,31]\n",
    "def is_even(i):\n",
    "    if i%2==0:\n",
    "        return i\n",
    "res=list(map(lambda n: n ** 2, filter(is_even, num)))\n",
    "res"
   ]
  },
  {
   "cell_type": "code",
   "execution_count": null,
   "id": "25e40906",
   "metadata": {},
   "outputs": [],
   "source": []
  },
  {
   "cell_type": "code",
   "execution_count": null,
   "id": "d42717ca",
   "metadata": {},
   "outputs": [],
   "source": []
  },
  {
   "attachments": {},
   "cell_type": "markdown",
   "id": "fe29da60",
   "metadata": {},
   "source": [
    "# Write ONE Program in different ways  "
   ]
  },
  {
   "cell_type": "code",
   "execution_count": 12,
   "id": "8ed08eea",
   "metadata": {},
   "outputs": [
    {
     "name": "stdout",
     "output_type": "stream",
     "text": [
      "Even Num:  [10, 34, 52, 16, 42]\n",
      "Even Num:  [21, 37, 31]\n"
     ]
    }
   ],
   "source": [
    "# Normal Way\n",
    "num=[10,21,34,52,37,16,42,31]\n",
    "e=[]\n",
    "o=[]\n",
    "for i in num:\n",
    "    if i%2==0:\n",
    "        e.append(i)\n",
    "    else:\n",
    "        o.append(i)\n",
    "print(\"Even Num: \",e)\n",
    "print(\"Odd Num: \",o)\n"
   ]
  },
  {
   "cell_type": "code",
   "execution_count": 32,
   "id": "343fdebb",
   "metadata": {},
   "outputs": [
    {
     "name": "stdout",
     "output_type": "stream",
     "text": [
      "Even Num: [10, 34, 52, 16, 42]\n",
      "Odd Num: [21, 37, 31]\n"
     ]
    }
   ],
   "source": [
    "# List Comphresation\n",
    "num=[10,21,34,52,37,16,42,31]\n",
    "e=[i for i in num if i%2==0]\n",
    "print(\"Even Num:\",e)\n",
    "o=[i for i in num if i%2!=0]\n",
    "print(\"Odd Num:\",o)"
   ]
  },
  {
   "cell_type": "code",
   "execution_count": 105,
   "id": "1b30be24",
   "metadata": {},
   "outputs": [
    {
     "name": "stdout",
     "output_type": "stream",
     "text": [
      "Even Num: [10, 34, 52, 16, 42]\n",
      "Odd Num: [21, 37, 31]\n"
     ]
    }
   ],
   "source": [
    "# def Function\n",
    "num=[10,21,34,52,37,16,42,31]\n",
    "def even_odd(i):\n",
    "    \n",
    "    if i%2==0:\n",
    "        return True  \n",
    "    else:\n",
    "        return False\n",
    "\n",
    "e=[n for n in num if even_odd(n)]\n",
    "print(\"Even Num:\",e)\n",
    "o=[n for n in num if not even_odd(n)]\n",
    "print(\"Odd Num:\",o)"
   ]
  },
  {
   "cell_type": "code",
   "execution_count": 108,
   "id": "5e2d4941",
   "metadata": {},
   "outputs": [
    {
     "name": "stdout",
     "output_type": "stream",
     "text": [
      "Even Num: [10, 34, 52, 16, 42]\n",
      "Odd Num: [21, 37, 31]\n"
     ]
    }
   ],
   "source": [
    "# lambda Function\n",
    "num=[10,21,34,52,37,16,42,31]\n",
    "\n",
    "e_o_lambda=lambda x:True if x%2==0 else False\n",
    "e=[n for n in num if e_o_lambda(n)]\n",
    "print(\"Even Num:\",e)\n",
    "o=[n for n in num if not e_o_lambda(n)]\n",
    "print(\"Odd Num:\",o)"
   ]
  },
  {
   "cell_type": "code",
   "execution_count": 133,
   "id": "099a85c6",
   "metadata": {},
   "outputs": [
    {
     "name": "stdout",
     "output_type": "stream",
     "text": [
      "Even Num: [10, 34, 52, 16, 42]\n",
      "Odd Num: [21, 37, 31]\n",
      "**************************************************\n",
      "Even Num: [10, 34, 52, 16, 42]\n",
      "Odd Num: [21, 37, 31]\n"
     ]
    }
   ],
   "source": [
    "# filter Function\n",
    "from itertools import filterfalse\n",
    "num=[10,21,34,52,37,16,42,31]\n",
    "\n",
    "# filter on def function\n",
    "\n",
    "def even_odd(i):\n",
    "    \n",
    "    if i%2==0:\n",
    "        return True  \n",
    "    else:\n",
    "        return False\n",
    "e=list(filter(even_odd,num))\n",
    "print(\"Even Num:\",e)\n",
    "\n",
    "o=list(filterfalse(even_odd,num))\n",
    "print(\"Odd Num:\",o)\n",
    "######################################\n",
    "print(\"*\"*50)\n",
    "# filter on lambda function\n",
    "\n",
    "e_o_lambda=lambda x:True if x%2==0 else False\n",
    "\n",
    "e=list(filter(e_o_lambda,num))\n",
    "print(\"Even Num:\",e)\n",
    "\n",
    "o=list(filterfalse(e_o_lambda,num))\n",
    "print(\"Odd Num:\",o)"
   ]
  },
  {
   "cell_type": "code",
   "execution_count": 145,
   "id": "87da25db",
   "metadata": {},
   "outputs": [
    {
     "name": "stdout",
     "output_type": "stream",
     "text": [
      "Even Num: [10, None, 34, 52, None, 16, 42, None]\n",
      "Odd Num: [None, 21, None, None, 37, None, None, 31]\n",
      "**************************************************\n",
      "Even Num: [10, None, 34, 52, None, 16, 42, None]\n",
      "Odd Num: [None, 21, None, None, 37, None, None, 31]\n"
     ]
    }
   ],
   "source": [
    "# map Function\n",
    "num=[10,21,34,52,37,16,42,31]\n",
    "\n",
    "# map on def function\n",
    "\n",
    "def even_num(i):\n",
    "    if i%2==0:\n",
    "        return i \n",
    "def odd_num(i):\n",
    "    if i%2!=0:\n",
    "        return i\n",
    "e=list(map(even_num,num))\n",
    "print(\"Even Num:\",e)\n",
    "\n",
    "o=list(map(odd_num,num))\n",
    "print(\"Odd Num:\",o)\n",
    "######################################\n",
    "print(\"*\"*50)\n",
    "# map on lambda function\n",
    "\n",
    "even_lambda=lambda x: x if x%2==0 else None\n",
    "odd_lambda=lambda x: x if x%2!=0 else None\n",
    "e=list(map(even_lambda,num))\n",
    "print(\"Even Num:\",e)\n",
    "\n",
    "o=list(map(odd_lambda,num))\n",
    "print(\"Odd Num:\",o)"
   ]
  },
  {
   "cell_type": "code",
   "execution_count": 147,
   "id": "f8252338",
   "metadata": {},
   "outputs": [
    {
     "data": {
      "text/plain": [
       "[100, 1156, 2704, 256, 1764]"
      ]
     },
     "execution_count": 147,
     "metadata": {},
     "output_type": "execute_result"
    }
   ],
   "source": [
    "# use map and filter together to get square of even num\n",
    "\n",
    "num=[10,21,34,52,37,16,42,31]\n",
    "def is_even(i):\n",
    "    if i%2==0:\n",
    "        return i\n",
    "res=list(map(lambda n: n ** 2, filter(is_even, num)))\n",
    "res"
   ]
  },
  {
   "cell_type": "code",
   "execution_count": 149,
   "id": "9daab2fc",
   "metadata": {},
   "outputs": [
    {
     "data": {
      "text/plain": [
       "154"
      ]
     },
     "execution_count": 149,
     "metadata": {},
     "output_type": "execute_result"
    }
   ],
   "source": [
    "# use filter with reduce to calculate cumulative sum of even num\n",
    "from functools import reduce\n",
    "num=[10,21,34,52,37,16,42,31]\n",
    "\n",
    "def is_even(i):\n",
    "    return i % 2 == 0\n",
    "res=reduce(lambda a, b: a + b, filter(is_even, num))\n",
    "res"
   ]
  }
 ],
 "metadata": {
  "kernelspec": {
   "display_name": "Python 3 (ipykernel)",
   "language": "python",
   "name": "python3"
  },
  "language_info": {
   "codemirror_mode": {
    "name": "ipython",
    "version": 3
   },
   "file_extension": ".py",
   "mimetype": "text/x-python",
   "name": "python",
   "nbconvert_exporter": "python",
   "pygments_lexer": "ipython3",
   "version": "3.9.13"
  }
 },
 "nbformat": 4,
 "nbformat_minor": 5
}

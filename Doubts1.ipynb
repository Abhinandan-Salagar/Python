{
 "cells": [
  {
   "cell_type": "code",
   "execution_count": null,
   "metadata": {},
   "outputs": [],
   "source": [
    "f1 = True\n",
    "print(type(f1))"
   ]
  },
  {
   "cell_type": "code",
   "execution_count": null,
   "metadata": {},
   "outputs": [],
   "source": [
    "f2 = False\n",
    "print(type(f2))"
   ]
  },
  {
   "cell_type": "code",
   "execution_count": 1,
   "metadata": {},
   "outputs": [
    {
     "name": "stdout",
     "output_type": "stream",
     "text": [
      "<class 'bool'>\n",
      "1\n",
      "<class 'int'>\n"
     ]
    }
   ],
   "source": [
    "f1 = True\n",
    "print(type(f1))\n",
    "\n",
    "t1 = int(f1)\n",
    "print(t1) # 1\n",
    "print(type(t1))"
   ]
  },
  {
   "cell_type": "code",
   "execution_count": null,
   "metadata": {},
   "outputs": [],
   "source": [
    "f1 = False\n",
    "print(type(f1))\n",
    "\n",
    "t1 = int(f1)\n",
    "print(t1) # 0\n",
    "print(type(t1))"
   ]
  },
  {
   "cell_type": "code",
   "execution_count": null,
   "metadata": {},
   "outputs": [],
   "source": [
    "x1 = 1\n",
    "print(x1)\n",
    "print(type(x1))\n",
    "\n",
    "z1 = bool(x1)\n",
    "print(z1)\n",
    "print(type(z1))"
   ]
  },
  {
   "cell_type": "code",
   "execution_count": 1,
   "metadata": {},
   "outputs": [
    {
     "name": "stdout",
     "output_type": "stream",
     "text": [
      "0\n",
      "<class 'int'>\n",
      "False\n",
      "<class 'bool'>\n"
     ]
    }
   ],
   "source": [
    "x1 = 0\n",
    "print(x1)\n",
    "print(type(x1))\n",
    "\n",
    "z1 = bool(x1)\n",
    "print(z1)\n",
    "print(type(z1))"
   ]
  },
  {
   "cell_type": "code",
   "execution_count": null,
   "metadata": {},
   "outputs": [],
   "source": [
    "res = 10 < 2\n",
    "\n",
    "print(res)\n",
    "print( type(res) )\n"
   ]
  },
  {
   "cell_type": "code",
   "execution_count": null,
   "metadata": {},
   "outputs": [],
   "source": [
    "res = ( 10 < 2 )  and (2 > 1) # F and T\n",
    "\n",
    "print(res)\n",
    "print( type(res) )\n"
   ]
  },
  {
   "cell_type": "code",
   "execution_count": null,
   "metadata": {},
   "outputs": [],
   "source": [
    "res = \"o\" in \"Objective\"\n",
    "\n",
    "print(res)\n",
    "print( type(res) )\n"
   ]
  },
  {
   "cell_type": "markdown",
   "metadata": {},
   "source": [
    "### Python Boolean : \n",
    "- True : Any object that has some value \n",
    "- False : Any object that is ABSENT/NULL/EMPTY\n"
   ]
  },
  {
   "cell_type": "code",
   "execution_count": 2,
   "metadata": {},
   "outputs": [
    {
     "name": "stdout",
     "output_type": "stream",
     "text": [
      "Value of Object : ' Hello '. Datatype of obj :  <class 'str'>\n",
      "Orange\n"
     ]
    }
   ],
   "source": [
    "obj = \"Hello\"\n",
    "print( \"Value of Object : '\", obj, \"'. Datatype of obj : \", type(obj) )\n",
    "\n",
    "# Print color if value is there\n",
    "if obj :  # True\n",
    "    print(\"Orange\")\n",
    "else :\n",
    "    print(\"Black\")"
   ]
  },
  {
   "cell_type": "code",
   "execution_count": 2,
   "metadata": {},
   "outputs": [
    {
     "name": "stdout",
     "output_type": "stream",
     "text": [
      "Value of Object : '  '. Datatype of obj :  <class 'str'>\n",
      "Black\n"
     ]
    }
   ],
   "source": [
    "obj = \"\"\n",
    "print( \"Value of Object : '\", obj, \"'. Datatype of obj : \", type(obj) )\n",
    "\n",
    "# Print color if value is there\n",
    "if obj : # False\n",
    "    print(\"Orange\")\n",
    "else :\n",
    "    print(\"Black\")"
   ]
  },
  {
   "cell_type": "code",
   "execution_count": null,
   "metadata": {},
   "outputs": [],
   "source": [
    "obj = 1452145\n",
    "print( \"Value of Object : '\", obj, \"'. Datatype of obj : \", type(obj) )\n",
    "\n",
    "# Print color if value is there\n",
    "if obj : \n",
    "    print(\"Orange\")\n",
    "else :\n",
    "    print(\"Black\")"
   ]
  },
  {
   "cell_type": "code",
   "execution_count": null,
   "metadata": {},
   "outputs": [],
   "source": [
    "obj = 0.00000\n",
    "print( \"Value of Object : '\", obj, \"'. Datatype of obj : \", type(obj) )\n",
    "\n",
    "# Print color if value is there\n",
    "if obj : # False\n",
    "    print(\"Orange\")\n",
    "else :\n",
    "    print(\"Black\")"
   ]
  },
  {
   "cell_type": "code",
   "execution_count": null,
   "metadata": {},
   "outputs": [],
   "source": [
    "obj = [4, 8, 7, 3] # List\n",
    "print( \"Value of Object : '\", obj, \"'. Datatype of obj : \", type(obj) )\n",
    "\n",
    "# Print color if value is there\n",
    "if obj : \n",
    "    print(\"Orange\")\n",
    "else :\n",
    "    print(\"Black\")"
   ]
  },
  {
   "cell_type": "code",
   "execution_count": null,
   "metadata": {},
   "outputs": [],
   "source": [
    "obj = [] # List\n",
    "print( \"Value of Object : '\", obj, \"'. Datatype of obj : \", type(obj) )\n",
    "\n",
    "# Print color if value is there\n",
    "if obj : \n",
    "    print(\"Orange\")\n",
    "else :\n",
    "    print(\"Black\")"
   ]
  },
  {
   "cell_type": "code",
   "execution_count": null,
   "metadata": {},
   "outputs": [],
   "source": [
    "f = open('myFile.txt', \"r\")\n",
    "data = f.read()\n",
    "\n",
    "if data : # Text file has some content \n",
    "    print(\"CONTENT Found\")\n",
    "    print(\"a\" in data) # Membership operation\n",
    "else : # Text file is empty\n",
    "    print(\"NO Content\")\n"
   ]
  },
  {
   "cell_type": "code",
   "execution_count": null,
   "metadata": {},
   "outputs": [],
   "source": []
  },
  {
   "cell_type": "markdown",
   "metadata": {},
   "source": [
    "## Logical\n",
    "\n",
    "- And : Return TRUE if all the expressions are TRUE\n",
    "        : Return the last value when multiple and are written\n",
    "- Or : Return FALSE if all the expressions are FALSE\n",
    "        : Return the First value when multiple or are written\n",
    "- Not : Perform Vice Versa of the Logical output. Convert True to False or False to True"
   ]
  },
  {
   "cell_type": "code",
   "execution_count": null,
   "metadata": {},
   "outputs": [],
   "source": [
    "print( 10 and \"abc\" and 6j and 587.25 ) # T and T and T and T\n",
    "# True -> 10\n",
    "# True -> abc\n",
    "# True -> 6j\n",
    "# True -> 587.25"
   ]
  },
  {
   "cell_type": "code",
   "execution_count": null,
   "metadata": {},
   "outputs": [],
   "source": [
    "print( 10 and \"abc\" and 6j and 587.25 and 111 ) # T and T and T and T anbd T\n",
    "# True -> 10\n",
    "# True -> abc\n",
    "# True -> 6j\n",
    "# True -> 587.25\n",
    "# True -> 111\n"
   ]
  },
  {
   "cell_type": "code",
   "execution_count": null,
   "metadata": {},
   "outputs": [],
   "source": [
    "print( 10 and \"abc\" and 6j and 0 and 587.25 and 111 ) # T and T and T and F and T anbd T"
   ]
  },
  {
   "cell_type": "code",
   "execution_count": null,
   "metadata": {},
   "outputs": [],
   "source": [
    "print( 10 or \"abc\" or 6j or 0 or 587.25 or 111 ) # T or T or T or F or T or T\n",
    "# True - or"
   ]
  },
  {
   "cell_type": "code",
   "execution_count": null,
   "metadata": {},
   "outputs": [],
   "source": [
    "print( 0 or [] or 10 or \"abc\" or 6j or 0 or 587.25 or 111 ) # T or T or T or F or T or T\n",
    "# True - 10"
   ]
  },
  {
   "cell_type": "code",
   "execution_count": null,
   "metadata": {},
   "outputs": [],
   "source": [
    "print( 0 or [] or 0 or \"\" or 0j or 0 or 0.00 or 111 ) \n",
    "# True - 111"
   ]
  },
  {
   "cell_type": "code",
   "execution_count": null,
   "metadata": {},
   "outputs": [],
   "source": [
    "print( bool([]) )\n"
   ]
  },
  {
   "cell_type": "code",
   "execution_count": null,
   "metadata": {},
   "outputs": [],
   "source": []
  },
  {
   "cell_type": "code",
   "execution_count": null,
   "metadata": {},
   "outputs": [],
   "source": []
  },
  {
   "cell_type": "code",
   "execution_count": null,
   "metadata": {},
   "outputs": [],
   "source": []
  },
  {
   "cell_type": "code",
   "execution_count": null,
   "metadata": {},
   "outputs": [],
   "source": []
  },
  {
   "cell_type": "code",
   "execution_count": null,
   "metadata": {},
   "outputs": [],
   "source": []
  },
  {
   "cell_type": "code",
   "execution_count": null,
   "metadata": {},
   "outputs": [],
   "source": []
  },
  {
   "cell_type": "code",
   "execution_count": null,
   "metadata": {},
   "outputs": [],
   "source": []
  },
  {
   "cell_type": "code",
   "execution_count": null,
   "metadata": {},
   "outputs": [],
   "source": []
  },
  {
   "cell_type": "code",
   "execution_count": null,
   "metadata": {},
   "outputs": [],
   "source": []
  },
  {
   "cell_type": "code",
   "execution_count": null,
   "metadata": {},
   "outputs": [],
   "source": []
  },
  {
   "cell_type": "code",
   "execution_count": null,
   "metadata": {},
   "outputs": [],
   "source": []
  }
 ],
 "metadata": {
  "kernelspec": {
   "display_name": "base",
   "language": "python",
   "name": "python3"
  },
  "language_info": {
   "codemirror_mode": {
    "name": "ipython",
    "version": 3
   },
   "file_extension": ".py",
   "mimetype": "text/x-python",
   "name": "python",
   "nbconvert_exporter": "python",
   "pygments_lexer": "ipython3",
   "version": "3.9.13"
  },
  "vscode": {
   "interpreter": {
    "hash": "5ae58900cfbb8c43ab3495913814b7cf26024f51651a94ce8bf64d6111688e8d"
   }
  }
 },
 "nbformat": 4,
 "nbformat_minor": 4
}

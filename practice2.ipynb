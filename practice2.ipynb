{
 "cells": [
  {
   "cell_type": "code",
   "execution_count": null,
   "metadata": {},
   "outputs": [],
   "source": [
    "'''Q1. Find the number of vowels and digits and spaces from the below string..\n",
    "myString = \"this is the python programming batch of febuary\"\n",
    "\n",
    "Q2. find which of them is in palindromes.\n",
    "inputList = [\"madam\", \"naman\", \"12321\", \"7530\", False, 45621, 85258, \"ADDydda\"]\n",
    "outputList = [\"madam\", \"naman\", \"12321\", 85258, \"ADDydda\"]\n",
    "\n",
    "Q3. Find the factorial of the numbers written inside the tuple;\n",
    "input = (8, 3, 0, -5, 10, 5)\n",
    "\n",
    "\n",
    "Q4. Find the count of each character inside the string\n",
    "myString = \"python programming batch of febuary\"\n",
    "p = ?\n",
    "b = ?\n",
    "f = ??'''"
   ]
  },
  {
   "cell_type": "code",
   "execution_count": 38,
   "metadata": {},
   "outputs": [
    {
     "name": "stdout",
     "output_type": "stream",
     "text": [
      "vowels are:  12\n",
      "digits are:  7\n",
      "spaces are:  0\n"
     ]
    }
   ],
   "source": [
    "a=\"this is the python programming batch of february\"\n",
    "\n",
    "v=0\n",
    "s=0\n",
    "d=0\n",
    "for i in range(len(a)):\n",
    "    if  a[i] in (\"aeiou\"):\n",
    "        v=v+1\n",
    "    elif a[i].isspace():\n",
    "        s=s+1    \n",
    "    elif a[i].isdigit():\n",
    "        d=d+1\n",
    "\n",
    "\n",
    "\n",
    "print(\"vowels are: \",v)\n",
    "print(\"digits are: \",s)\n",
    "print(\"spaces are: \",d)\n",
    "\n"
   ]
  },
  {
   "cell_type": "code",
   "execution_count": 43,
   "metadata": {},
   "outputs": [
    {
     "name": "stdout",
     "output_type": "stream",
     "text": [
      "['madam', 'naman', '12321', 85258, 'ADDydda']\n"
     ]
    }
   ],
   "source": [
    "a= [\"madam\", \"naman\", \"12321\", \"7530\", False, 45621, 85258, \"ADDydda\"]\n",
    "c=[]\n",
    "for i in a:\n",
    "    if str(i).lower()[::1]==str(i).lower()[::-1]:\n",
    "      \n",
    "        c.append(i)\n",
    "\n",
    "print(c)\n",
    "\n"
   ]
  },
  {
   "cell_type": "code",
   "execution_count": 44,
   "metadata": {},
   "outputs": [
    {
     "name": "stdout",
     "output_type": "stream",
     "text": [
      "{'e', 'm', 'i', 'o', 'u', 'n', 'y', 't', 'p', 'h', 'a', 'c', 'f', 'b', ' ', 'r', 'g'}\n",
      " Count of 'e'=1\n",
      " Count of 'm'=2\n",
      " Count of 'i'=1\n",
      " Count of 'o'=3\n",
      " Count of 'u'=1\n",
      " Count of 'n'=2\n",
      " Count of 'y'=2\n",
      " Count of 't'=2\n",
      " Count of 'p'=2\n",
      " Count of 'h'=2\n",
      " Count of 'a'=3\n",
      " Count of 'c'=1\n",
      " Count of 'f'=2\n",
      " Count of 'b'=2\n",
      " Count of ' '=4\n",
      " Count of 'r'=3\n",
      " Count of 'g'=2\n"
     ]
    }
   ],
   "source": [
    "myString = \"python programming batch of febuary\"\n",
    "s=set(myString)\n",
    "print(s)\n",
    "for i in s:\n",
    "    \n",
    "    x= myString.count(i)\n",
    "    print( f\" Count of '{i}'={x}\")"
   ]
  },
  {
   "cell_type": "code",
   "execution_count": null,
   "metadata": {},
   "outputs": [],
   "source": []
  },
  {
   "cell_type": "code",
   "execution_count": null,
   "metadata": {},
   "outputs": [],
   "source": []
  }
 ],
 "metadata": {
  "kernelspec": {
   "display_name": "base",
   "language": "python",
   "name": "python3"
  },
  "language_info": {
   "codemirror_mode": {
    "name": "ipython",
    "version": 3
   },
   "file_extension": ".py",
   "mimetype": "text/x-python",
   "name": "python",
   "nbconvert_exporter": "python",
   "pygments_lexer": "ipython3",
   "version": "3.9.13"
  },
  "orig_nbformat": 4,
  "vscode": {
   "interpreter": {
    "hash": "5ae58900cfbb8c43ab3495913814b7cf26024f51651a94ce8bf64d6111688e8d"
   }
  }
 },
 "nbformat": 4,
 "nbformat_minor": 2
}

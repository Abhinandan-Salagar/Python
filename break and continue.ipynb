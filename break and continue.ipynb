{
 "cells": [
  {
   "cell_type": "markdown",
   "id": "2801a9a4",
   "metadata": {},
   "source": [
    "# break and continue"
   ]
  },
  {
   "cell_type": "code",
   "execution_count": 2,
   "id": "19d3d2e2",
   "metadata": {},
   "outputs": [
    {
     "name": "stdout",
     "output_type": "stream",
     "text": [
      "0 p\n",
      "1 y\n",
      "2 t\n",
      "3 h\n",
      "4 o\n",
      "5 n\n",
      "6  \n",
      "7 j\n",
      "8 a\n",
      "9 v\n",
      "10 a\n",
      "11  \n",
      "12 r\n",
      "13 u\n",
      "14 b\n",
      "15 y\n"
     ]
    }
   ],
   "source": [
    "stringName = \"python java ruby\"\n",
    "\n",
    "for s in range( 0, len(stringName) ) : # 0 - 16\n",
    "    print( s , stringName[s])"
   ]
  },
  {
   "cell_type": "code",
   "execution_count": 5,
   "id": "929cfdce",
   "metadata": {},
   "outputs": [
    {
     "name": "stdout",
     "output_type": "stream",
     "text": [
      "python java ruby"
     ]
    }
   ],
   "source": [
    "stringName = \"python java ruby\"\n",
    "\n",
    "for s in range( 0, len(stringName) ) : # 0 - 16\n",
    "    print( stringName[s], end = \"\") # s in incremented by 1"
   ]
  },
  {
   "cell_type": "code",
   "execution_count": null,
   "id": "253ca46c",
   "metadata": {},
   "outputs": [],
   "source": []
  },
  {
   "cell_type": "markdown",
   "id": "e01e261b",
   "metadata": {},
   "source": [
    "## Break\n",
    "- terminate the loop and come out of it if the expression is TRUE\n",
    "- whatever statement is written after break, its not executed\n",
    "\n",
    "\n",
    "## Continue \n",
    "- skip the statemennt if the expression is TRUE\n",
    "- whatever statement is written after continue, its not executed\n"
   ]
  },
  {
   "cell_type": "code",
   "execution_count": 9,
   "id": "e1f9c0cc",
   "metadata": {},
   "outputs": [
    {
     "name": "stdout",
     "output_type": "stream",
     "text": [
      "p\n",
      "y\n",
      "t\n",
      "h\n",
      "o\n",
      "n\n",
      "Found the SPace\n"
     ]
    }
   ],
   "source": [
    "# Stop the loop if there is any space.\n",
    "\n",
    "stringName = \"python java ruby\"\n",
    "\n",
    "for s in range( 0, len(stringName) ) : # 0 - 16\n",
    "#     print( s , stringName[s])\n",
    "    if stringName[s] == \" \" : \n",
    "        print(\"Found the SPace\")\n",
    "        break\n",
    "        print(\"Command Executed\")\n",
    "    else : \n",
    "        print(stringName[s])\n",
    "        \n",
    "        "
   ]
  },
  {
   "cell_type": "code",
   "execution_count": 11,
   "id": "6b5e446b",
   "metadata": {},
   "outputs": [
    {
     "name": "stdout",
     "output_type": "stream",
     "text": [
      "p\n",
      "y\n",
      "t\n",
      "h\n",
      "o\n",
      "n\n",
      "j\n",
      "a\n",
      "v\n",
      "a\n",
      "r\n",
      "u\n",
      "b\n",
      "y\n"
     ]
    }
   ],
   "source": [
    "# Skip the statment if there is any space.\n",
    "\n",
    "stringName = \"python java ruby\"\n",
    "\n",
    "for s in range( 0, len(stringName) ) : # 0 - 16\n",
    "#     print( s , stringName[s])\n",
    "    if stringName[s] == \" \" : \n",
    "#         print(\"Found the SPace\")\n",
    "        continue\n",
    "        print(\"Command Executed\")\n",
    "    else : \n",
    "        print(stringName[s])\n",
    "        \n",
    "        "
   ]
  },
  {
   "cell_type": "code",
   "execution_count": null,
   "id": "1c7b5c76",
   "metadata": {},
   "outputs": [],
   "source": []
  },
  {
   "cell_type": "markdown",
   "id": "b9d7e66e",
   "metadata": {},
   "source": [
    "## For Loops Syntax"
   ]
  },
  {
   "cell_type": "code",
   "execution_count": 12,
   "id": "9c6c1eb3",
   "metadata": {},
   "outputs": [
    {
     "name": "stdout",
     "output_type": "stream",
     "text": [
      "p\n",
      "y\n",
      "t\n",
      "h\n",
      "o\n",
      "n\n"
     ]
    }
   ],
   "source": [
    "# repeat something\n",
    "# iterate over the string\n",
    "\n",
    "stringName = \"python\"\n",
    "for s in range( 0, len(stringName), 1 )  : # s : 0 - 6\n",
    "    print(stringName[s])\n"
   ]
  },
  {
   "cell_type": "code",
   "execution_count": 14,
   "id": "37bcc27e",
   "metadata": {},
   "outputs": [
    {
     "name": "stdout",
     "output_type": "stream",
     "text": [
      "p\n",
      "y\n",
      "t\n",
      "h\n",
      "o\n",
      "n\n"
     ]
    }
   ],
   "source": [
    "# iterate over the string\n",
    "\n",
    "stringName = \"python\"\n",
    "for s in stringName   : \n",
    "    print(s) # s is moved to next character\n"
   ]
  },
  {
   "cell_type": "code",
   "execution_count": 22,
   "id": "dad01a27",
   "metadata": {},
   "outputs": [
    {
     "name": "stdout",
     "output_type": "stream",
     "text": [
      "i : 7, msg[i] : 8, res : 8\n",
      "i : 8, msg[i] : 7, res : 87\n",
      "i : 9, msg[i] : 5, res : 875\n",
      "i : 10, msg[i] : 8, res : 8758\n",
      "******************************\n",
      "i : 7, msg[i] : 8, empty : 8\n",
      "i : 8, msg[i] : 7, empty : 87\n",
      "i : 9, msg[i] : 5, empty : 875\n",
      "i : 10, msg[i] : 8, empty : 8758\n"
     ]
    }
   ],
   "source": [
    "# display the otp.\n",
    "msg = \"an otp 8758 is sent to your mobile number\"\n",
    "\n",
    "# step1\n",
    "# for i in range( 0, len(msg) ) : \n",
    "#     if msg[i].isdigit() : \n",
    "#         print(msg[i])\n",
    "\n",
    "# step2\n",
    "res = \"\"\n",
    "for i in range( 0, len(msg) ) : \n",
    "    if msg[i].isdigit() : \n",
    "        res = res + msg[i] # string concat\n",
    "        print(f\"i : {i}, msg[i] : {msg[i]}, res : {res}\")\n",
    "\n",
    "        \n",
    "print(\"*\" * 30)\n",
    "# Another Approach of while loop\n",
    "i = 0\n",
    "empty = \"\"\n",
    "while i < len(msg) : \n",
    "    if msg[i].isdigit() : \n",
    "        empty = empty + msg[i]\n",
    "        print(f\"i : {i}, msg[i] : {msg[i]}, empty : {empty}\")\n",
    "    \n",
    "    i = i + 1\n",
    "        \n"
   ]
  },
  {
   "cell_type": "code",
   "execution_count": 26,
   "id": "552cb8fc",
   "metadata": {},
   "outputs": [
    {
     "name": "stdout",
     "output_type": "stream",
     "text": [
      "i : 8,, res : 8\n",
      "i : 7,, res : 87\n",
      "i : 5,, res : 875\n",
      "i : 8,, res : 8758\n",
      "8758\n"
     ]
    }
   ],
   "source": [
    "# Another Approach of for loop        \n",
    "\n",
    "\n",
    "msg = \"an otp 8758 is sent to your mobile number\"\n",
    "res = \"\"\n",
    "for i in msg : \n",
    "#     print(i)\n",
    "    if i.isdigit() : \n",
    "        res = res + i\n",
    "        print(f\"i : {i},, res : {res}\")\n",
    "\n",
    "print(res)"
   ]
  },
  {
   "cell_type": "code",
   "execution_count": null,
   "id": "44068202",
   "metadata": {},
   "outputs": [],
   "source": [
    "# Homework\n",
    "# find out how many alphabets, numbers and spaces are there\n",
    "\n",
    "msg = \"an otp 8758 is sent to your mobile number\"\n"
   ]
  },
  {
   "cell_type": "code",
   "execution_count": null,
   "id": "bd2cc2f3",
   "metadata": {},
   "outputs": [],
   "source": []
  },
  {
   "cell_type": "code",
   "execution_count": null,
   "id": "e4b451c2",
   "metadata": {},
   "outputs": [],
   "source": []
  },
  {
   "cell_type": "code",
   "execution_count": null,
   "id": "71a8d95e",
   "metadata": {},
   "outputs": [],
   "source": []
  },
  {
   "cell_type": "code",
   "execution_count": null,
   "id": "5a9ead30",
   "metadata": {},
   "outputs": [],
   "source": []
  },
  {
   "cell_type": "code",
   "execution_count": null,
   "id": "51402d64",
   "metadata": {},
   "outputs": [],
   "source": []
  },
  {
   "cell_type": "code",
   "execution_count": null,
   "id": "a61e320f",
   "metadata": {},
   "outputs": [],
   "source": []
  }
 ],
 "metadata": {
  "kernelspec": {
   "display_name": "base",
   "language": "python",
   "name": "python3"
  },
  "language_info": {
   "codemirror_mode": {
    "name": "ipython",
    "version": 3
   },
   "file_extension": ".py",
   "mimetype": "text/x-python",
   "name": "python",
   "nbconvert_exporter": "python",
   "pygments_lexer": "ipython3",
   "version": "3.9.13"
  },
  "vscode": {
   "interpreter": {
    "hash": "5ae58900cfbb8c43ab3495913814b7cf26024f51651a94ce8bf64d6111688e8d"
   }
  }
 },
 "nbformat": 4,
 "nbformat_minor": 5
}

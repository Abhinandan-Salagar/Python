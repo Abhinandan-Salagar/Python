{
 "cells": [
  {
   "cell_type": "markdown",
   "id": "74561888",
   "metadata": {},
   "source": [
    "# Agenda : \n",
    "-     tuple\n",
    "-     list comprehension\n",
    "-  copy and alias"
   ]
  },
  {
   "cell_type": "code",
   "execution_count": 2,
   "id": "3d0f5fe8",
   "metadata": {},
   "outputs": [],
   "source": [
    "# copy : \n",
    "# create a duplicate list. \n",
    "# they refer to different memory location. \n",
    "# any change in one list will not rreflect to other.\n",
    "\n",
    "\n",
    "\n",
    "\n",
    "# alias : \n",
    "# Both list are same. \n",
    "# they refer to same memory location. \n",
    "# any change in one list will reflect in other also\n"
   ]
  },
  {
   "cell_type": "code",
   "execution_count": 1,
   "id": "2bece4e2",
   "metadata": {},
   "outputs": [
    {
     "name": "stdout",
     "output_type": "stream",
     "text": [
      "[11, 3.25, False, 6j, 'blue', 'orange', -8]  ::  <class 'list'>  ::  1216204665216\n",
      "[11, 3.25, False, 6j, 'blue', 'orange', -8]  ::  <class 'list'>  ::  1216204665216\n"
     ]
    }
   ],
   "source": [
    "\n",
    "s1 = [ 11, 3.25, False, 6j, \"blue\", \"orange\", -8 ]\n",
    "s3 = s1\n",
    "\n",
    "print(s1, \" :: \", type(s1), \" :: \", id(s1))\n",
    "print(s3, \" :: \", type(s3), \" :: \", id(s3))"
   ]
  },
  {
   "cell_type": "code",
   "execution_count": 2,
   "id": "bdf5f873",
   "metadata": {},
   "outputs": [
    {
     "name": "stdout",
     "output_type": "stream",
     "text": [
      "[11, 3.25, False, 6j, 'blue', 'orange', -8, 99]\n",
      "[11, 3.25, False, 6j, 'blue', 'orange', -8, 99]\n"
     ]
    }
   ],
   "source": [
    "# append 99 to s1\n",
    "\n",
    "s1.append(99)\n",
    "print(s1)\n",
    "print(s3)"
   ]
  },
  {
   "cell_type": "code",
   "execution_count": 3,
   "id": "532ec18c",
   "metadata": {},
   "outputs": [
    {
     "name": "stdout",
     "output_type": "stream",
     "text": [
      "[11, 3.25, 6j, 'blue', 'orange', -8, 99]\n",
      "[11, 3.25, 6j, 'blue', 'orange', -8, 99]\n"
     ]
    }
   ],
   "source": [
    "# remove False on s3\n",
    "\n",
    "s3.remove(False)\n",
    "print(s1)\n",
    "print(s3)\n"
   ]
  },
  {
   "cell_type": "code",
   "execution_count": null,
   "id": "9d2b76fa",
   "metadata": {},
   "outputs": [],
   "source": []
  },
  {
   "cell_type": "code",
   "execution_count": 4,
   "id": "8f39d58e",
   "metadata": {},
   "outputs": [
    {
     "name": "stdout",
     "output_type": "stream",
     "text": [
      "[11, 3.25, False, 6j, 'blue', 'orange', -8]  ::  <class 'list'>  ::  1216204681600\n",
      "[11, 3.25, False, 6j, 'blue', 'orange', -8]  ::  <class 'list'>  ::  1216204682240\n"
     ]
    }
   ],
   "source": [
    "\n",
    "s1 = [ 11, 3.25, False, 6j, \"blue\", \"orange\", -8 ]\n",
    "s2 = s1.copy()\n",
    "\n",
    "print(s1, \" :: \", type(s1), \" :: \", id(s1))\n",
    "print(s2, \" :: \", type(s2), \" :: \", id(s2))\n"
   ]
  },
  {
   "cell_type": "code",
   "execution_count": 5,
   "id": "b9d44d61",
   "metadata": {},
   "outputs": [
    {
     "name": "stdout",
     "output_type": "stream",
     "text": [
      "[11, 3.25, False, 6j, 'blue', 'orange', -8, 99]\n",
      "[11, 3.25, False, 6j, 'blue', 'orange', -8]\n"
     ]
    }
   ],
   "source": [
    "# append 99 to s1\n",
    "\n",
    "s1.append(99)\n",
    "print(s1)\n",
    "print(s2)"
   ]
  },
  {
   "cell_type": "code",
   "execution_count": 7,
   "id": "191ed7fc",
   "metadata": {},
   "outputs": [
    {
     "name": "stdout",
     "output_type": "stream",
     "text": [
      "[11, 3.25, False, 6j, 'blue', 'orange', -8, 99]\n",
      "[11, 3.25, 6j, 'blue', 'orange', -8]\n"
     ]
    }
   ],
   "source": [
    "# remove False on s2\n",
    "\n",
    "s2.remove(False)\n",
    "print(s1)\n",
    "print(s2)\n"
   ]
  },
  {
   "cell_type": "code",
   "execution_count": 8,
   "id": "735921df",
   "metadata": {},
   "outputs": [
    {
     "name": "stdout",
     "output_type": "stream",
     "text": [
      "['__add__', '__class__', '__class_getitem__', '__contains__', '__delattr__', '__delitem__', '__dir__', '__doc__', '__eq__', '__format__', '__ge__', '__getattribute__', '__getitem__', '__gt__', '__hash__', '__iadd__', '__imul__', '__init__', '__init_subclass__', '__iter__', '__le__', '__len__', '__lt__', '__mul__', '__ne__', '__new__', '__reduce__', '__reduce_ex__', '__repr__', '__reversed__', '__rmul__', '__setattr__', '__setitem__', '__sizeof__', '__str__', '__subclasshook__', 'append', 'clear', 'copy', 'count', 'extend', 'index', 'insert', 'pop', 'remove', 'reverse', 'sort']\n"
     ]
    }
   ],
   "source": [
    "# to Find out the attributes / ,methods that are applicatble for datatype\n",
    "\n",
    "print( dir( list ) )\n",
    "'append', 'clear', 'copy', 'count', 'extend', 'index', 'insert', 'pop', 'remove', 'reverse', 'sort'"
   ]
  },
  {
   "cell_type": "code",
   "execution_count": 9,
   "id": "4008d527",
   "metadata": {},
   "outputs": [
    {
     "name": "stdout",
     "output_type": "stream",
     "text": [
      "['__add__', '__class__', '__class_getitem__', '__contains__', '__delattr__', '__dir__', '__doc__', '__eq__', '__format__', '__ge__', '__getattribute__', '__getitem__', '__getnewargs__', '__gt__', '__hash__', '__init__', '__init_subclass__', '__iter__', '__le__', '__len__', '__lt__', '__mul__', '__ne__', '__new__', '__reduce__', '__reduce_ex__', '__repr__', '__rmul__', '__setattr__', '__sizeof__', '__str__', '__subclasshook__', 'count', 'index']\n"
     ]
    }
   ],
   "source": [
    "print( dir( tuple ) )\n",
    "count', 'index'"
   ]
  },
  {
   "cell_type": "code",
   "execution_count": null,
   "id": "e389b08a",
   "metadata": {},
   "outputs": [],
   "source": []
  },
  {
   "cell_type": "code",
   "execution_count": null,
   "id": "469a927c",
   "metadata": {},
   "outputs": [],
   "source": []
  },
  {
   "cell_type": "code",
   "execution_count": null,
   "id": "d3916c39",
   "metadata": {},
   "outputs": [],
   "source": []
  },
  {
   "cell_type": "code",
   "execution_count": null,
   "id": "d31beea0",
   "metadata": {},
   "outputs": [],
   "source": []
  },
  {
   "cell_type": "code",
   "execution_count": null,
   "id": "58eb243d",
   "metadata": {},
   "outputs": [],
   "source": []
  },
  {
   "cell_type": "code",
   "execution_count": null,
   "id": "5352e4e4",
   "metadata": {},
   "outputs": [],
   "source": []
  },
  {
   "cell_type": "code",
   "execution_count": null,
   "id": "de572297",
   "metadata": {},
   "outputs": [],
   "source": []
  },
  {
   "cell_type": "code",
   "execution_count": null,
   "id": "6586b863",
   "metadata": {},
   "outputs": [],
   "source": []
  },
  {
   "cell_type": "code",
   "execution_count": null,
   "id": "1b090b8a",
   "metadata": {},
   "outputs": [],
   "source": []
  },
  {
   "cell_type": "code",
   "execution_count": null,
   "id": "a18c202d",
   "metadata": {},
   "outputs": [],
   "source": []
  }
 ],
 "metadata": {
  "kernelspec": {
   "display_name": "base",
   "language": "python",
   "name": "python3"
  },
  "language_info": {
   "codemirror_mode": {
    "name": "ipython",
    "version": 3
   },
   "file_extension": ".py",
   "mimetype": "text/x-python",
   "name": "python",
   "nbconvert_exporter": "python",
   "pygments_lexer": "ipython3",
   "version": "3.9.13"
  },
  "vscode": {
   "interpreter": {
    "hash": "5ae58900cfbb8c43ab3495913814b7cf26024f51651a94ce8bf64d6111688e8d"
   }
  }
 },
 "nbformat": 4,
 "nbformat_minor": 5
}

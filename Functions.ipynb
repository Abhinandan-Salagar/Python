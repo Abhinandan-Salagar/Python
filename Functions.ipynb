{
 "cells": [
  {
   "cell_type": "markdown",
   "id": "3e2ac57c",
   "metadata": {},
   "source": [
    "# Functions\n",
    "\n",
    "- Block of lines of codes that can be repeated more than once in the code\n",
    "- Save lines of codes\n",
    "- Avoid reptitive task\n",
    "- speeds up the process\n",
    "- Modular Approach : CODE Blocks \n",
    "- Update the codes will make it easier to be completed\n",
    "\n",
    "\n",
    "- Whatever is written inside the function is JUST saved at some MEMORY location\n",
    "- The code insdie the function RUNS, only when you CALL the Function\n",
    "\n",
    "#### Return\n",
    "- return --> Helps to take the value outside the function\n",
    "- A function can have multiple Returns\n",
    "- Whenever a return is called inside the function, then function is STOPPED and value is taken out\n",
    "- We can have single as well as multiple return values\n",
    "\n"
   ]
  },
  {
   "cell_type": "markdown",
   "id": "fd1a91c7",
   "metadata": {},
   "source": [
    "### Syntax\n",
    "\n",
    "**Funtion Declaration**\n",
    "\n",
    "def functionName(a1, a2) :   --- Formal Arguments\n",
    "    statements\n",
    "    statements\n",
    "    statements\n",
    "    statements\n",
    "    \n",
    "    value = _____________________\n",
    "    return value #### To take the value out of the funtion\n",
    "\n",
    "\n",
    "**Calling the Funtion**\n",
    "\n",
    "functionName(a1, a2)       --- Actual Arguments\n",
    "\n"
   ]
  },
  {
   "cell_type": "code",
   "execution_count": null,
   "id": "a26f07da",
   "metadata": {},
   "outputs": [],
   "source": []
  },
  {
   "cell_type": "markdown",
   "id": "e2965425",
   "metadata": {},
   "source": [
    "### First Draft of Program"
   ]
  },
  {
   "cell_type": "code",
   "execution_count": null,
   "id": "07e6af26",
   "metadata": {},
   "outputs": [],
   "source": [
    "## Current Date Time\n",
    "\n",
    "import datetime\n",
    "\n",
    "currentTimeStamp = datetime.datetime.now()\n",
    "# print( currentTimeStamp )\n",
    "\n",
    "currentStamp = currentTimeStamp.strftime(\"%d-%m-%y %H : %M\")\n",
    "print( currentStamp )"
   ]
  },
  {
   "cell_type": "code",
   "execution_count": null,
   "id": "626ae705",
   "metadata": {},
   "outputs": [],
   "source": [
    "## Shows weather word is in palindrome or not.\n",
    "\n",
    "# word = \"namaN\"\n",
    "\n",
    "# namaN\n",
    "# Naman\n",
    "word = input(\"Write Word to check the Palindrome Logic : \")\n",
    "\n",
    "res = \"Palindrome\" if word.strip()[ : : 1] == word.strip()[ : : -1] else \"Not a Palindrome\"\n",
    "print(res)\n",
    "\n",
    "\n",
    "import datetime\n",
    "\n",
    "currentTimeStamp = datetime.datetime.now()\n",
    "# print( currentTimeStamp )\n",
    "\n",
    "currentStamp = currentTimeStamp.strftime(\"%d-%m-%y %H : %M\")\n",
    "print( currentStamp ) # datetime.datetime.now().strftime(\"%d-%m-%y %H : %M\")"
   ]
  },
  {
   "cell_type": "code",
   "execution_count": null,
   "id": "c3e62b31",
   "metadata": {},
   "outputs": [],
   "source": [
    "## Find out the Factorial of the Number.\n",
    "\n",
    "num = int( input(\"Write the Number for which Factorial needs to be Found : \") )\n",
    "\n",
    "fact = 1\n",
    "for i in range( num , 0, -1 ) : \n",
    "    fact = fact * i\n",
    "print(f\"Factorial of {num} = {fact}\")\n",
    "\n",
    "\n",
    "import datetime\n",
    "\n",
    "currentTimeStamp = datetime.datetime.now()\n",
    "# print( currentTimeStamp )\n",
    "\n",
    "currentStamp = currentTimeStamp.strftime(\"%d-%m-%y %H : %M\")\n",
    "print( currentStamp ) # datetime.datetime.now().strftime(\"%d-%m-%y %H : %M\")\n"
   ]
  },
  {
   "cell_type": "code",
   "execution_count": null,
   "id": "ba3a419d",
   "metadata": {},
   "outputs": [],
   "source": [
    "# WAP to print multiplication table of a number taken as input from the user.\n",
    "\n",
    "num=int(input(\"enter number for which MULTIPLICATION table neeed to created ::\"))\n",
    "for i in range (1,11):\n",
    "    print(f\"{num} * {i} = {num*i}\")\n",
    "\n",
    "\n",
    "import datetime\n",
    "\n",
    "currentTimeStamp = datetime.datetime.now()\n",
    "# print( currentTimeStamp )\n",
    "\n",
    "currentStamp = currentTimeStamp.strftime(\"%d-%m-%y %H : %M\")\n",
    "print( currentStamp ) # datetime.datetime.now().strftime(\"%d-%m-%y %H : %M\")\n"
   ]
  },
  {
   "cell_type": "code",
   "execution_count": null,
   "id": "98eb71f0",
   "metadata": {},
   "outputs": [],
   "source": [
    "print(\"$\" * 50)"
   ]
  },
  {
   "cell_type": "code",
   "execution_count": null,
   "id": "af1c338e",
   "metadata": {},
   "outputs": [],
   "source": []
  },
  {
   "cell_type": "markdown",
   "id": "15b11bfe",
   "metadata": {},
   "source": [
    "### Second Draft of Program"
   ]
  },
  {
   "cell_type": "code",
   "execution_count": null,
   "id": "bed733f3",
   "metadata": {},
   "outputs": [],
   "source": [
    "## Current Date Time\n",
    "\n",
    "def getTime() : # Function Creation / Declaration\n",
    "    import datetime\n",
    "    currentTimeStamp = datetime.datetime.now()\n",
    "    currentStamp = currentTimeStamp.strftime(\"%d-%m-%y %H : %M\")\n",
    "    print( currentStamp )"
   ]
  },
  {
   "cell_type": "code",
   "execution_count": null,
   "id": "304e3028",
   "metadata": {},
   "outputs": [],
   "source": [
    "print( getTime )\n",
    "print( id(getTime) )\n"
   ]
  },
  {
   "cell_type": "code",
   "execution_count": null,
   "id": "004e4eef",
   "metadata": {},
   "outputs": [],
   "source": [
    "## Shows weather word is in palindrome or not.\n",
    "word = input(\"Write Word to check the Palindrome Logic : \")\n",
    "res = \"Palindrome\" if word.strip()[ : : 1] == word.strip()[ : : -1] else \"Not a Palindrome\"\n",
    "print(res)\n",
    "\n",
    "getTime() # Calling the Funtion"
   ]
  },
  {
   "cell_type": "code",
   "execution_count": null,
   "id": "4aaf68ee",
   "metadata": {},
   "outputs": [],
   "source": [
    "## Find out the Factorial of the Number.\n",
    "\n",
    "num = int( input(\"Write the Number for which Factorial needs to be Found : \") )\n",
    "\n",
    "fact = 1\n",
    "for i in range( num , 0, -1 ) : \n",
    "    fact = fact * i\n",
    "print(f\"Factorial of {num} = {fact}\")\n",
    "\n",
    "getTime() # Calling the Funtion"
   ]
  },
  {
   "cell_type": "code",
   "execution_count": null,
   "id": "b86035a4",
   "metadata": {},
   "outputs": [],
   "source": [
    "# WAP to print multiplication table of a number taken as input from the user.\n",
    "\n",
    "num=int(input(\"enter number for which MULTIPLICATION table neeed to created ::\"))\n",
    "for i in range (1,11):\n",
    "    print(f\"{num} * {i} = {num*i}\")\n",
    "\n",
    "getTime() # Calling the Funtion"
   ]
  },
  {
   "cell_type": "code",
   "execution_count": null,
   "id": "672a7046",
   "metadata": {},
   "outputs": [],
   "source": [
    "print(\"$\" * 50)"
   ]
  },
  {
   "cell_type": "code",
   "execution_count": null,
   "id": "5d169940",
   "metadata": {},
   "outputs": [],
   "source": []
  },
  {
   "cell_type": "code",
   "execution_count": null,
   "id": "af4ee2f9",
   "metadata": {},
   "outputs": [],
   "source": []
  },
  {
   "cell_type": "markdown",
   "id": "737e7cfd",
   "metadata": {},
   "source": [
    "### Third Draft of Program\n",
    "\n",
    "##### Updating the function"
   ]
  },
  {
   "cell_type": "code",
   "execution_count": null,
   "id": "d093793b",
   "metadata": {},
   "outputs": [],
   "source": [
    "## Current Date Time\n",
    "\n",
    "def getTime() : # Function Creation / Declaration\n",
    "    import datetime\n",
    "    currentTimeStamp = datetime.datetime.now()\n",
    "    currentStamp = currentTimeStamp.strftime(\"%H : %M\")\n",
    "    print( currentStamp )"
   ]
  },
  {
   "cell_type": "code",
   "execution_count": null,
   "id": "00c576eb",
   "metadata": {},
   "outputs": [],
   "source": [
    "print( getTime )\n",
    "print( id(getTime) )\n"
   ]
  },
  {
   "cell_type": "code",
   "execution_count": null,
   "id": "63213360",
   "metadata": {},
   "outputs": [],
   "source": [
    "## Shows weather word is in palindrome or not.\n",
    "word = input(\"Write Word to check the Palindrome Logic : \")\n",
    "res = \"Palindrome\" if word.strip()[ : : 1] == word.strip()[ : : -1] else \"Not a Palindrome\"\n",
    "print(res)\n",
    "\n",
    "getTime() # Calling the Funtion"
   ]
  },
  {
   "cell_type": "code",
   "execution_count": null,
   "id": "dd558f67",
   "metadata": {},
   "outputs": [],
   "source": [
    "## Find out the Factorial of the Number.\n",
    "\n",
    "num = int( input(\"Write the Number for which Factorial needs to be Found : \") )\n",
    "\n",
    "fact = 1\n",
    "for i in range( num , 0, -1 ) : \n",
    "    fact = fact * i\n",
    "print(f\"Factorial of {num} = {fact}\")\n",
    "\n",
    "getTime() # Calling the Funtion"
   ]
  },
  {
   "cell_type": "code",
   "execution_count": null,
   "id": "c25a8421",
   "metadata": {},
   "outputs": [],
   "source": [
    "# WAP to print multiplication table of a number taken as input from the user.\n",
    "\n",
    "num=int(input(\"enter number for which MULTIPLICATION table neeed to created ::\"))\n",
    "for i in range (1,11):\n",
    "    print(f\"{num} * {i} = {num*i}\")\n",
    "\n",
    "getTime() # Calling the Funtion"
   ]
  },
  {
   "cell_type": "code",
   "execution_count": null,
   "id": "23f4fc64",
   "metadata": {},
   "outputs": [],
   "source": [
    "print(\"$\" * 50)"
   ]
  },
  {
   "cell_type": "code",
   "execution_count": null,
   "id": "c8d01798",
   "metadata": {},
   "outputs": [],
   "source": []
  },
  {
   "cell_type": "markdown",
   "id": "5f0b5c22",
   "metadata": {},
   "source": [
    "### Function Working"
   ]
  },
  {
   "cell_type": "code",
   "execution_count": null,
   "id": "3147853b",
   "metadata": {},
   "outputs": [],
   "source": [
    "def myFun() : \n",
    "    \n",
    "    print(\"Hello\")\n",
    "    print(\"Multiplication : \", 50 * 6)\n",
    "    print(\"Division : \", 50 / 6)\n",
    "    "
   ]
  },
  {
   "cell_type": "code",
   "execution_count": null,
   "id": "4bb3343a",
   "metadata": {},
   "outputs": [],
   "source": [
    "myFun()"
   ]
  },
  {
   "cell_type": "code",
   "execution_count": null,
   "id": "4ab89e8d",
   "metadata": {},
   "outputs": [],
   "source": []
  },
  {
   "cell_type": "code",
   "execution_count": null,
   "id": "1fa7719c",
   "metadata": {},
   "outputs": [],
   "source": [
    "stringName = \"Python\"\n",
    "print(\"Hello\")\n",
    "print(\"Multiplication : \",50 * 6)\n",
    "print(\"Division : \", 50 / 6)\n",
    "\n",
    "# print( stringName[10] )\n",
    "\n",
    "m = n - p\n"
   ]
  },
  {
   "cell_type": "code",
   "execution_count": 7,
   "id": "481f07ac",
   "metadata": {},
   "outputs": [],
   "source": [
    "def myFun() : \n",
    "    \n",
    "    stringName = \"Python\"\n",
    "    print(\"Hello\")\n",
    "    print(\"Multiplication : \",50 * 6)\n",
    "    print(\"Division : \", 50 / 6)\n",
    "\n",
    "#     print( stringName[10] )\n",
    "    m = n - p\n",
    "\n",
    "    "
   ]
  },
  {
   "cell_type": "code",
   "execution_count": 8,
   "id": "ac65a698",
   "metadata": {},
   "outputs": [
    {
     "name": "stdout",
     "output_type": "stream",
     "text": [
      "<function myFun at 0x000002E6C1FF4550>\n"
     ]
    }
   ],
   "source": [
    "print( myFun )"
   ]
  },
  {
   "cell_type": "code",
   "execution_count": 9,
   "id": "0fc5b77c",
   "metadata": {},
   "outputs": [
    {
     "name": "stdout",
     "output_type": "stream",
     "text": [
      "Hello\n",
      "Multiplication :  300\n",
      "Division :  8.333333333333334\n"
     ]
    },
    {
     "ename": "NameError",
     "evalue": "name 'n' is not defined",
     "output_type": "error",
     "traceback": [
      "\u001b[1;31m---------------------------------------------------------------------------\u001b[0m",
      "\u001b[1;31mNameError\u001b[0m                                 Traceback (most recent call last)",
      "\u001b[1;32m~\\AppData\\Local\\Temp\\ipykernel_12988\\4154214554.py\u001b[0m in \u001b[0;36m<module>\u001b[1;34m\u001b[0m\n\u001b[1;32m----> 1\u001b[1;33m \u001b[0mmyFun\u001b[0m\u001b[1;33m(\u001b[0m\u001b[1;33m)\u001b[0m\u001b[1;33m\u001b[0m\u001b[1;33m\u001b[0m\u001b[0m\n\u001b[0m",
      "\u001b[1;32m~\\AppData\\Local\\Temp\\ipykernel_12988\\1439202431.py\u001b[0m in \u001b[0;36mmyFun\u001b[1;34m()\u001b[0m\n\u001b[0;32m      7\u001b[0m \u001b[1;33m\u001b[0m\u001b[0m\n\u001b[0;32m      8\u001b[0m \u001b[1;31m#     print( stringName[10] )\u001b[0m\u001b[1;33m\u001b[0m\u001b[1;33m\u001b[0m\u001b[0m\n\u001b[1;32m----> 9\u001b[1;33m     \u001b[0mm\u001b[0m \u001b[1;33m=\u001b[0m \u001b[0mn\u001b[0m \u001b[1;33m-\u001b[0m \u001b[0mp\u001b[0m\u001b[1;33m\u001b[0m\u001b[1;33m\u001b[0m\u001b[0m\n\u001b[0m\u001b[0;32m     10\u001b[0m \u001b[1;33m\u001b[0m\u001b[0m\n\u001b[0;32m     11\u001b[0m \u001b[1;33m\u001b[0m\u001b[0m\n",
      "\u001b[1;31mNameError\u001b[0m: name 'n' is not defined"
     ]
    }
   ],
   "source": [
    "myFun()"
   ]
  },
  {
   "cell_type": "code",
   "execution_count": null,
   "id": "12a06459",
   "metadata": {},
   "outputs": [],
   "source": []
  },
  {
   "cell_type": "code",
   "execution_count": null,
   "id": "cdf0dce1",
   "metadata": {},
   "outputs": [],
   "source": []
  },
  {
   "cell_type": "markdown",
   "id": "4620a08e",
   "metadata": {},
   "source": [
    "### Global and Local Variable"
   ]
  },
  {
   "cell_type": "markdown",
   "id": "e3b5bcff",
   "metadata": {},
   "source": [
    "Global variable :: \n",
    "        Any variable that is written inside the Python code.\n",
    "        It can be used anywhere in the program.  LIfecycle of variable is limited to Entire Program\n",
    "        \n",
    "        \n",
    "Local variable :: \n",
    "        Any variable that is written inside the Python Function\n",
    "        It can ONLY be used in the FUNCTION. LIfecycle of variable is limited to Function"
   ]
  },
  {
   "cell_type": "code",
   "execution_count": null,
   "id": "eb69c009",
   "metadata": {},
   "outputs": [],
   "source": [
    "place = \"Delhi\"\n",
    "\n",
    "def display() :\n",
    "    place = \"Mumbai\"\n",
    "    print(place)\n",
    "\n",
    "print(place) # printing the variable\n",
    "display() # call the function\n",
    "print(place) # printing the variable\n"
   ]
  },
  {
   "cell_type": "code",
   "execution_count": null,
   "id": "b286c3fd",
   "metadata": {},
   "outputs": [],
   "source": [
    "d m \n",
    "m d\n",
    "d d\n",
    "m m"
   ]
  },
  {
   "cell_type": "code",
   "execution_count": 6,
   "id": "b6252182",
   "metadata": {},
   "outputs": [
    {
     "name": "stdout",
     "output_type": "stream",
     "text": [
      "Delhi\n",
      "Delhi\n",
      "Delhi\n"
     ]
    }
   ],
   "source": [
    "place = \"Delhi\"\n",
    "\n",
    "def display() :\n",
    "    print(place)\n",
    "\n",
    "print(place) # printing the variable\n",
    "display() # call the function\n",
    "print(place) # printing the variable\n"
   ]
  },
  {
   "cell_type": "code",
   "execution_count": 5,
   "id": "b8fd0b78",
   "metadata": {},
   "outputs": [
    {
     "name": "stdout",
     "output_type": "stream",
     "text": [
      "Mumbai\n"
     ]
    },
    {
     "ename": "NameError",
     "evalue": "name 'place' is not defined",
     "output_type": "error",
     "traceback": [
      "\u001b[1;31m---------------------------------------------------------------------------\u001b[0m",
      "\u001b[1;31mNameError\u001b[0m                                 Traceback (most recent call last)",
      "\u001b[1;32m~\\AppData\\Local\\Temp\\ipykernel_12988\\2708874897.py\u001b[0m in \u001b[0;36m<module>\u001b[1;34m\u001b[0m\n\u001b[0;32m      5\u001b[0m \u001b[1;31m# print(place) # printing the variable\u001b[0m\u001b[1;33m\u001b[0m\u001b[1;33m\u001b[0m\u001b[0m\n\u001b[0;32m      6\u001b[0m \u001b[0mdisplay\u001b[0m\u001b[1;33m(\u001b[0m\u001b[1;33m)\u001b[0m \u001b[1;31m# call the function\u001b[0m\u001b[1;33m\u001b[0m\u001b[1;33m\u001b[0m\u001b[0m\n\u001b[1;32m----> 7\u001b[1;33m \u001b[0mprint\u001b[0m\u001b[1;33m(\u001b[0m\u001b[0mplace\u001b[0m\u001b[1;33m)\u001b[0m \u001b[1;31m# printing the variable\u001b[0m\u001b[1;33m\u001b[0m\u001b[1;33m\u001b[0m\u001b[0m\n\u001b[0m",
      "\u001b[1;31mNameError\u001b[0m: name 'place' is not defined"
     ]
    }
   ],
   "source": [
    "def display() :\n",
    "    place = \"Mumbai\"\n",
    "    print(place)\n",
    "\n",
    "# print(place) # printing the variable\n",
    "display() # call the function\n",
    "print(place) # printing the variable\n"
   ]
  },
  {
   "cell_type": "code",
   "execution_count": null,
   "id": "11a41061",
   "metadata": {},
   "outputs": [],
   "source": []
  },
  {
   "cell_type": "markdown",
   "id": "251d79b9",
   "metadata": {},
   "source": [
    "### Arguments"
   ]
  },
  {
   "cell_type": "markdown",
   "id": "6651f7b7",
   "metadata": {},
   "source": [
    "##### Syntax\n",
    "\n",
    "**Funtion Declaration**\n",
    "\n",
    "def functionName(a1, a2) :   --- Formal Arguments\n",
    "    statements\n",
    "    statements\n",
    "    statements\n",
    "    statements\n",
    "    \n",
    "    value = _____________________\n",
    "    return value #### To take the value out of the funtion\n",
    "\n",
    "\n",
    "**Calling the Funtion**\n",
    "\n",
    "functionName(a1, a2)       --- Actual Arguments\n",
    "\n"
   ]
  },
  {
   "cell_type": "code",
   "execution_count": 18,
   "id": "eb6bb6d2",
   "metadata": {},
   "outputs": [],
   "source": [
    "## Current Date Time\n",
    "\n",
    "def getTime() : # Function Creation / Declaration\n",
    "    import datetime\n",
    "    currentTimeStamp = datetime.datetime.now()\n",
    "    currentStamp = currentTimeStamp.strftime(\"%H : %M\")\n",
    "    print( currentStamp )"
   ]
  },
  {
   "cell_type": "code",
   "execution_count": 19,
   "id": "d049fafe",
   "metadata": {},
   "outputs": [
    {
     "name": "stdout",
     "output_type": "stream",
     "text": [
      "09 : 07\n",
      "None\n",
      "09 : 07\n",
      "None\n"
     ]
    }
   ],
   "source": [
    "print( getTime() )\n",
    "\n",
    "res = getTime()\n",
    "print( res )\n"
   ]
  },
  {
   "cell_type": "code",
   "execution_count": 14,
   "id": "e4f80cdb",
   "metadata": {},
   "outputs": [],
   "source": [
    "## Current Date Time\n",
    "\n",
    "def getTime2() : # Function Creation / Declaration\n",
    "    import datetime\n",
    "    currentTimeStamp = datetime.datetime.now()\n",
    "    currentStamp = currentTimeStamp.strftime(\"%H : %M\")\n",
    "    return currentStamp"
   ]
  },
  {
   "cell_type": "code",
   "execution_count": 21,
   "id": "1b2d99e7",
   "metadata": {},
   "outputs": [
    {
     "name": "stdout",
     "output_type": "stream",
     "text": [
      "09 : 08\n",
      "09 : 08\n"
     ]
    }
   ],
   "source": [
    "print( getTime2() )\n",
    "\n",
    "res = getTime2()\n",
    "print(res)\n"
   ]
  },
  {
   "cell_type": "code",
   "execution_count": null,
   "id": "8cab2f6c",
   "metadata": {},
   "outputs": [],
   "source": []
  },
  {
   "cell_type": "code",
   "execution_count": 23,
   "id": "fa6eb3a6",
   "metadata": {},
   "outputs": [
    {
     "name": "stdout",
     "output_type": "stream",
     "text": [
      "Write the Number for which Factorial needs to be Found : 6\n",
      "Factorial of 6 = 720\n",
      "Multiplication :  2448.0\n"
     ]
    }
   ],
   "source": [
    "## Find out the Factorial of the Number.\n",
    "\n",
    "\n",
    "def findFactorial(num) : \n",
    "    fact = 1\n",
    "    for i in range( num , 0, -1 ) : \n",
    "        fact = fact * i\n",
    "        \n",
    "    return fact\n",
    "\n",
    "num = int( input(\"Write the Number for which Factorial needs to be Found : \") )\n",
    "print(f\"Factorial of {num} = {findFactorial(num)}\")\n",
    "\n",
    "res = findFactorial(num)\n",
    "print( \"Multiplication : \", res * 3.4 )\n",
    "\n"
   ]
  },
  {
   "cell_type": "code",
   "execution_count": 30,
   "id": "7def684e",
   "metadata": {},
   "outputs": [
    {
     "name": "stdout",
     "output_type": "stream",
     "text": [
      "$$$$$$$$$$$$$$$$$$$$$$$$$$$$$$\n",
      "Write the Number for which Factorial needs to be Found : 5\n",
      " Factorial ==>  120\n",
      "Factorial of 5 = None\n",
      "$$$$$$$$$$$$$$$$$$$$$$$$$$$$$$\n",
      " Factorial ==>  120\n"
     ]
    },
    {
     "ename": "TypeError",
     "evalue": "unsupported operand type(s) for *: 'NoneType' and 'float'",
     "output_type": "error",
     "traceback": [
      "\u001b[1;31m---------------------------------------------------------------------------\u001b[0m",
      "\u001b[1;31mTypeError\u001b[0m                                 Traceback (most recent call last)",
      "\u001b[1;32m~\\AppData\\Local\\Temp\\ipykernel_12988\\1067800291.py\u001b[0m in \u001b[0;36m<module>\u001b[1;34m\u001b[0m\n\u001b[0;32m     15\u001b[0m \u001b[0mprint\u001b[0m\u001b[1;33m(\u001b[0m\u001b[1;34m'$'\u001b[0m \u001b[1;33m*\u001b[0m \u001b[1;36m30\u001b[0m\u001b[1;33m)\u001b[0m\u001b[1;33m\u001b[0m\u001b[1;33m\u001b[0m\u001b[0m\n\u001b[0;32m     16\u001b[0m \u001b[0mres\u001b[0m \u001b[1;33m=\u001b[0m \u001b[0mfindFactorial\u001b[0m\u001b[1;33m(\u001b[0m\u001b[0mnum\u001b[0m\u001b[1;33m)\u001b[0m\u001b[1;33m\u001b[0m\u001b[1;33m\u001b[0m\u001b[0m\n\u001b[1;32m---> 17\u001b[1;33m \u001b[0mprint\u001b[0m\u001b[1;33m(\u001b[0m \u001b[1;34m\"Multiplication : \"\u001b[0m\u001b[1;33m,\u001b[0m \u001b[0mres\u001b[0m \u001b[1;33m*\u001b[0m \u001b[1;36m3.4\u001b[0m \u001b[1;33m)\u001b[0m\u001b[1;33m\u001b[0m\u001b[1;33m\u001b[0m\u001b[0m\n\u001b[0m\u001b[0;32m     18\u001b[0m \u001b[1;33m\u001b[0m\u001b[0m\n",
      "\u001b[1;31mTypeError\u001b[0m: unsupported operand type(s) for *: 'NoneType' and 'float'"
     ]
    }
   ],
   "source": [
    "## Find out the Factorial of the Number.\n",
    "\n",
    "\n",
    "def findFactorial(num) : \n",
    "    fact = 1\n",
    "    for i in range( num , 0, -1 ) : \n",
    "        fact = fact * i\n",
    "        \n",
    "    print(\" Factorial ==> \", fact )\n",
    "\n",
    "print('$' * 30)\n",
    "num = int( input(\"Write the Number for which Factorial needs to be Found : \") )\n",
    "print(f\"Factorial of {num} = {findFactorial(num)}\")\n",
    "\n",
    "print('$' * 30)\n",
    "res = findFactorial(num)\n",
    "print( \"Multiplication : \", res * 3.4 )\n",
    "\n"
   ]
  },
  {
   "cell_type": "code",
   "execution_count": 25,
   "id": "078e10b0",
   "metadata": {},
   "outputs": [],
   "source": [
    "## Find if a number is even or odd?\n",
    "\n",
    "def even_odd(n) : \n",
    "    if n%2 == 0 : \n",
    "        return \"Even\"\n",
    "    else : \n",
    "        return \"Odd\"\n",
    "    \n"
   ]
  },
  {
   "cell_type": "code",
   "execution_count": 26,
   "id": "0efd7f67",
   "metadata": {},
   "outputs": [
    {
     "data": {
      "text/plain": [
       "'Odd'"
      ]
     },
     "execution_count": 26,
     "metadata": {},
     "output_type": "execute_result"
    }
   ],
   "source": [
    "even_odd(15)"
   ]
  },
  {
   "cell_type": "code",
   "execution_count": 27,
   "id": "fd950cc3",
   "metadata": {},
   "outputs": [
    {
     "data": {
      "text/plain": [
       "'Even'"
      ]
     },
     "execution_count": 27,
     "metadata": {},
     "output_type": "execute_result"
    }
   ],
   "source": [
    "even_odd(16)"
   ]
  },
  {
   "cell_type": "code",
   "execution_count": 28,
   "id": "e57c8615",
   "metadata": {},
   "outputs": [],
   "source": [
    "## \n",
    "\n",
    "def ops() : \n",
    "    return 4 * 6\n",
    "    return 10 - 6"
   ]
  },
  {
   "cell_type": "code",
   "execution_count": 29,
   "id": "d4f5263c",
   "metadata": {},
   "outputs": [
    {
     "data": {
      "text/plain": [
       "24"
      ]
     },
     "execution_count": 29,
     "metadata": {},
     "output_type": "execute_result"
    }
   ],
   "source": [
    "ops()"
   ]
  },
  {
   "cell_type": "code",
   "execution_count": 36,
   "id": "87041c34",
   "metadata": {},
   "outputs": [
    {
     "name": "stdout",
     "output_type": "stream",
     "text": [
      "Write the Number for which Factorial needs to be Found : 4\n",
      "Factorial of 4 = 24\n"
     ]
    }
   ],
   "source": [
    "## Find out the Factorial of the Number.\n",
    "\n",
    "\n",
    "def findFactorial(n) :            ## n is written for reference : Formal Argument\n",
    "    fact = 1\n",
    "    for i in range( n , 0, -1 ) : \n",
    "        fact = fact * i\n",
    "        \n",
    "    return fact\n",
    "\n",
    "num = int( input(\"Write the Number for which Factorial needs to be Found : \") )\n",
    "print(f\"Factorial of {num} = {findFactorial(num)}\")  # num is the real value on which Function will be executed. Actual Argument\n"
   ]
  },
  {
   "cell_type": "code",
   "execution_count": 33,
   "id": "abe1688f",
   "metadata": {},
   "outputs": [],
   "source": [
    "# x = \"1000\"\n",
    "\n",
    "# if type(x) == int : \n",
    "#     print(\"Action 1\")\n",
    "# else : \n",
    "#     print(\"Action 2\")"
   ]
  },
  {
   "cell_type": "code",
   "execution_count": 38,
   "id": "e375efa9",
   "metadata": {},
   "outputs": [
    {
     "name": "stdout",
     "output_type": "stream",
     "text": [
      "Write the Number for which Factorial needs to be Found : 5\n",
      "Factorial = 120\n"
     ]
    }
   ],
   "source": [
    "## Find out the Factorial of the Number.\n",
    "\n",
    "\n",
    "def findFactorial() :            # NO Formal Argument\n",
    "    n = int( input(\"Write the Number for which Factorial needs to be Found : \") )\n",
    "    fact = 1\n",
    "    for i in range( n , 0, -1 ) : \n",
    "        fact = fact * i\n",
    "        \n",
    "    return fact\n",
    "\n",
    "print(f\"Factorial = {findFactorial()}\")  # NO real value on which Function will be executed. Actual Argument\n"
   ]
  },
  {
   "cell_type": "code",
   "execution_count": null,
   "id": "40347a35",
   "metadata": {},
   "outputs": [],
   "source": []
  },
  {
   "cell_type": "code",
   "execution_count": null,
   "id": "86f27505",
   "metadata": {},
   "outputs": [],
   "source": []
  },
  {
   "cell_type": "code",
   "execution_count": 41,
   "id": "7f1f5877",
   "metadata": {},
   "outputs": [],
   "source": [
    "# def findFactorial(n): # n is written for reference: formal argument\n",
    "#     fact = 1 \n",
    "#     for i in range(n,0,-1):\n",
    "#         fact =  fact * i # 1 = 1 * 5\n",
    "        \n",
    "#     return fact\n",
    "# num=int(input(\"Write a number whose factorial need to be find : \"))\n",
    "# print(f\"Factorial of {num} = {findFactorial(num)}\")"
   ]
  },
  {
   "cell_type": "code",
   "execution_count": 42,
   "id": "f097e50b",
   "metadata": {},
   "outputs": [
    {
     "name": "stdout",
     "output_type": "stream",
     "text": [
      "11\n"
     ]
    }
   ],
   "source": [
    "### Return \n",
    "\n",
    "def Q1() : \n",
    "    \n",
    "    n = 5\n",
    "    m = 6\n",
    "    \n",
    "    sum_ = n + m\n",
    "    diff_ = n - m\n",
    "    mult_ = n * m\n",
    "    div_ = n / m\n",
    "    \n",
    "    return sum_\n",
    "\n",
    "res = Q1()\n",
    "print(res)\n"
   ]
  },
  {
   "cell_type": "code",
   "execution_count": 52,
   "id": "ecf1caca",
   "metadata": {},
   "outputs": [
    {
     "name": "stdout",
     "output_type": "stream",
     "text": [
      "(11, -1, 30, 0.8333333333333334)\n",
      "11\n",
      "-1\n",
      "30\n",
      "0.8333333333333334\n",
      "******************************\n",
      "11\n",
      "-1\n",
      "30\n",
      "0.8333333333333334\n"
     ]
    }
   ],
   "source": [
    "### Return \n",
    "\n",
    "def Q1() : \n",
    "    \n",
    "    n = 5\n",
    "    m = 6\n",
    "    \n",
    "    sum_ = n + m\n",
    "    diff_ = n - m\n",
    "    mult_ = n * m\n",
    "    div_ = n / m\n",
    "    \n",
    "    return sum_, diff_, mult_, div_\n",
    "\n",
    "res = Q1()\n",
    "print(res)\n",
    "\n",
    "for i in res : \n",
    "    print(i)\n",
    "    \n",
    "print(\"*\" * 30)\n",
    "w, x, y, z = Q1()\n",
    "print(w)\n",
    "print(x)\n",
    "print(y)\n",
    "print(z)\n"
   ]
  },
  {
   "cell_type": "code",
   "execution_count": 47,
   "id": "c805a734",
   "metadata": {},
   "outputs": [
    {
     "name": "stdout",
     "output_type": "stream",
     "text": [
      "0\n",
      "1\n"
     ]
    }
   ],
   "source": [
    "x, y = 0, 1\n",
    "print(x)\n",
    "print(y)\n"
   ]
  },
  {
   "cell_type": "code",
   "execution_count": 48,
   "id": "53993054",
   "metadata": {},
   "outputs": [
    {
     "name": "stdout",
     "output_type": "stream",
     "text": [
      "0\n",
      "1\n"
     ]
    }
   ],
   "source": [
    "x, y = [0, 1]\n",
    "print(x)\n",
    "print(y)\n"
   ]
  },
  {
   "cell_type": "code",
   "execution_count": null,
   "id": "cb412249",
   "metadata": {},
   "outputs": [],
   "source": []
  },
  {
   "cell_type": "code",
   "execution_count": null,
   "id": "6a4432b1",
   "metadata": {},
   "outputs": [],
   "source": [
    "### Types of Arguments\n",
    "## Lambda, Map, Filter\n",
    "## Doubts\n"
   ]
  },
  {
   "cell_type": "code",
   "execution_count": null,
   "id": "a4b4a1e1",
   "metadata": {},
   "outputs": [],
   "source": []
  },
  {
   "cell_type": "code",
   "execution_count": null,
   "id": "4595a4d3",
   "metadata": {},
   "outputs": [],
   "source": []
  }
 ],
 "metadata": {
  "kernelspec": {
   "display_name": "Python 3 (ipykernel)",
   "language": "python",
   "name": "python3"
  },
  "language_info": {
   "codemirror_mode": {
    "name": "ipython",
    "version": 3
   },
   "file_extension": ".py",
   "mimetype": "text/x-python",
   "name": "python",
   "nbconvert_exporter": "python",
   "pygments_lexer": "ipython3",
   "version": "3.9.13"
  }
 },
 "nbformat": 4,
 "nbformat_minor": 5
}

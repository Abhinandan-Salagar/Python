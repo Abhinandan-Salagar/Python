{
 "cells": [
  {
   "cell_type": "code",
   "execution_count": null,
   "id": "f786ede7",
   "metadata": {},
   "outputs": [],
   "source": [
    "for i in range(1,6):\n",
    "    for j in range(1,i+1):  \n",
    "        print(j,end=\" \")\n",
    "    print(\"\")"
   ]
  },
  {
   "cell_type": "code",
   "execution_count": null,
   "id": "4051d7e1",
   "metadata": {},
   "outputs": [],
   "source": [
    "n=5\n",
    "i=1\n",
    "while i<=n:\n",
    "    j=1\n",
    "    while j<=i:\n",
    "        print(\"*\",end=\" \")\n",
    "        j=j+1\n",
    "    print()\n",
    "    i=i+1"
   ]
  },
  {
   "cell_type": "code",
   "execution_count": 2,
   "id": "5c5150cf",
   "metadata": {},
   "outputs": [
    {
     "name": "stdout",
     "output_type": "stream",
     "text": [
      "[500, 400, 300, 200, 100]\n"
     ]
    }
   ],
   "source": [
    "'''Exercise 1: Reverse a list in Python'''\n",
    "list1 = [100, 200, 300, 400, 500]\n",
    "print(list1[::-1])"
   ]
  },
  {
   "cell_type": "code",
   "execution_count": 31,
   "id": "44d1a938",
   "metadata": {},
   "outputs": [
    {
     "name": "stdout",
     "output_type": "stream",
     "text": [
      "['My', 'name', 'is', 'Kelly']\n"
     ]
    }
   ],
   "source": [
    "'''Exercise 2: Concatenate two lists index-wise'''\n",
    "a = [\"M\", \"na\", \"i\", \"Ke\"]\n",
    "b= [\"y\", \"me\", \"s\", \"lly\"]\n",
    "c=[]\n",
    "for i in range(len(a)):\n",
    "    for j in range(len(b)):\n",
    "        if i==j:\n",
    "           c.append(a[i]+b[j])                   \n",
    "        else:\n",
    "           continue\n",
    "print(c) \n",
    "\n"
   ]
  },
  {
   "cell_type": "code",
   "execution_count": 44,
   "id": "b0f43512",
   "metadata": {},
   "outputs": [
    {
     "name": "stdout",
     "output_type": "stream",
     "text": [
      "1\n",
      "4\n",
      "9\n",
      "16\n",
      "25\n",
      "36\n",
      "49\n"
     ]
    }
   ],
   "source": [
    "''''Exercise 3: Turn every item of a list into its square'''\n",
    "\n",
    "a= [1, 2, 3, 4, 5, 6, 7]\n",
    "\n",
    "for i in range(len(a)):\n",
    "    print(a[i]**2)\n"
   ]
  },
  {
   "cell_type": "code",
   "execution_count": 53,
   "id": "ff746bed",
   "metadata": {},
   "outputs": [
    {
     "name": "stdout",
     "output_type": "stream",
     "text": [
      "['Hello Dear', 'Hello Sir', 'take Dear', 'take Sir']\n"
     ]
    }
   ],
   "source": [
    "'''Exercise 4: Concatenate two lists in the following order'''\n",
    "a = [\"Hello \", \"take \"]\n",
    "b = [\"Dear\", \"Sir\"]\n",
    "\n",
    "c=[]\n",
    "for i in range(len(a)):\n",
    "    for j in range(len(b)):\n",
    "        if j<=i+1:\n",
    "           c.append(a[i]+b[j])                   \n",
    "        else:\n",
    "           continue\n",
    "print(c) "
   ]
  },
  {
   "cell_type": "code",
   "execution_count": 99,
   "id": "a5353563",
   "metadata": {},
   "outputs": [
    {
     "name": "stdout",
     "output_type": "stream",
     "text": [
      "10 400\n",
      "20 300\n",
      "30 200\n",
      "40 100\n"
     ]
    }
   ],
   "source": [
    "'''Exercise 5: Iterate both lists simultaneously\n",
    "Given a two Python list. Write a program to iterate both lists simultaneously and display items from list1 in original order and items from list2 in reverse order.'''\n",
    "\n",
    "a = [10, 20, 30, 40]\n",
    "b = [100, 200, 300, 400]\n",
    "\n",
    "\n",
    "for i in range(len(a)):      \n",
    "    for j in range(len(b)):\n",
    "        pass\n",
    "    print(a[i],b[-i-1])"
   ]
  },
  {
   "cell_type": "code",
   "execution_count": 137,
   "id": "8b730960",
   "metadata": {},
   "outputs": [
    {
     "name": "stdout",
     "output_type": "stream",
     "text": [
      "['Mike', 'Emma', 'Kelly', 'Brad']\n"
     ]
    }
   ],
   "source": [
    "'''Exercise 6: Remove empty strings from the list of strings'''\n",
    "a = [\"Mike\", \"\", \"Emma\", \"Kelly\", \"\", \"Brad\"]\n",
    "c=[]\n",
    "for i in range(len(a)):\n",
    "    if a[i]!=\"\":\n",
    "        c.append(a[i])  \n",
    "print(c)"
   ]
  },
  {
   "cell_type": "code",
   "execution_count": 142,
   "id": "6efaa9bb",
   "metadata": {},
   "outputs": [
    {
     "name": "stdout",
     "output_type": "stream",
     "text": [
      "[10, 20, [300, 400, [5000, 6000, 7000], 500], 30, 40]\n"
     ]
    }
   ],
   "source": [
    "'''Exercise 7: Add new item to list after a specified item\n",
    "Write a program to add item 7000 after 6000 in the following Python List'''\n",
    "a = [10, 20, [300, 400, [5000, 6000], 500], 30, 40]\n",
    "\n",
    "a[2][2].append(7000)\n",
    "print(a)\n"
   ]
  },
  {
   "cell_type": "code",
   "execution_count": 145,
   "id": "2ef27932",
   "metadata": {},
   "outputs": [
    {
     "name": "stdout",
     "output_type": "stream",
     "text": [
      "['a', 'b', ['c', ['d', 'e', ['f', 'g', 'h', 'i', 'j'], 'k'], 'l'], 'm', 'n']\n"
     ]
    }
   ],
   "source": [
    "'''Exercise 8: Extend nested list by adding the sublist\n",
    "You have given a nested list. Write a program to extend it by adding the sublist [\"h\", \"i\", \"j\"] in such a way that it will look like the following list.'''\n",
    "l = [\"a\", \"b\", [\"c\", [\"d\", \"e\", [\"f\", \"g\"], \"k\"], \"l\"], \"m\", \"n\"]\n",
    "\n",
    "# sub list to add\n",
    "s = [\"h\", \"i\", \"j\"]\n",
    "\n",
    "#l[2][1][2].append(s)\n",
    "l[2][1][2].extend(s)\n",
    "print(l)"
   ]
  },
  {
   "cell_type": "code",
   "execution_count": 150,
   "id": "c56181a2",
   "metadata": {},
   "outputs": [
    {
     "name": "stdout",
     "output_type": "stream",
     "text": [
      "[5, 10, 15, 200, 20, 25, 50, 20]\n"
     ]
    }
   ],
   "source": [
    "'''9: Replace list’s item with new value if found\n",
    "You have given a Python list. Write a program to find value 20 in the list, and if it is present, replace it with 200. Only update the first occurrence of an item.'''\n",
    "a = [5, 10, 15, 20, 25, 50, 20]\n",
    "b=a.index(20).insert(b,200)\n",
    "a.insert(b,200)\n",
    "print(a)"
   ]
  },
  {
   "cell_type": "code",
   "execution_count": 172,
   "id": "c07f366f",
   "metadata": {},
   "outputs": [
    {
     "name": "stdout",
     "output_type": "stream",
     "text": [
      "[5, 15, 25, 50]\n"
     ]
    }
   ],
   "source": [
    "'''10: Remove all occurrences of a specific item from a list.\n",
    "Given a Python list, write a program to remove all occurrences of item 20.'''\n",
    "a = [5, 20, 15, 20, 25, 50, 20]\n",
    "c=[]\n",
    "for i in range(len(a)) :\n",
    "    if a[i]!=20:\n",
    "        c.append(a[i])\n",
    "print(c)\n"
   ]
  },
  {
   "cell_type": "code",
   "execution_count": 174,
   "id": "b09fb647",
   "metadata": {},
   "outputs": [
    {
     "name": "stdout",
     "output_type": "stream",
     "text": [
      "(50, 40, 30, 20, 10)\n"
     ]
    }
   ],
   "source": [
    "'''Exercise 1: Reverse the tuple'''\n",
    "t = (10, 20, 30, 40, 50)\n",
    "print(t[::-1])\n"
   ]
  },
  {
   "cell_type": "code",
   "execution_count": 180,
   "id": "9cabb82a",
   "metadata": {},
   "outputs": [
    {
     "data": {
      "text/plain": [
       "20"
      ]
     },
     "execution_count": 180,
     "metadata": {},
     "output_type": "execute_result"
    }
   ],
   "source": [
    "'''2: Access value 20 from the tuple\n",
    "The given tuple is a nested tuple. write a Python program to print the value 20.'''\n",
    "a = (\"Orange\", [10, 20, 30], (5, 15, 25))\n",
    "\n",
    "b=a[1][1]\n",
    "b"
   ]
  },
  {
   "cell_type": "code",
   "execution_count": 182,
   "id": "fc593cb0",
   "metadata": {},
   "outputs": [
    {
     "data": {
      "text/plain": [
       "(50,)"
      ]
     },
     "execution_count": 182,
     "metadata": {},
     "output_type": "execute_result"
    }
   ],
   "source": [
    "''' 3: Create a tuple with single item 50'''\n",
    "t=(50,)\n",
    "t"
   ]
  },
  {
   "cell_type": "code",
   "execution_count": 183,
   "id": "67a33ca8",
   "metadata": {},
   "outputs": [
    {
     "name": "stdout",
     "output_type": "stream",
     "text": [
      "10\n",
      "20\n",
      "30\n",
      "40\n"
     ]
    }
   ],
   "source": [
    "'''4: Unpack the tuple into 4 variables'''\n",
    "t = (10, 20, 30, 40)\n",
    "(a,b,c,d)=t\n",
    "\n",
    "print(a) # should print 10\n",
    "print(b) # should print 20\n",
    "print(c) # should print 30\n",
    "print(d) # should print 40"
   ]
  },
  {
   "cell_type": "code",
   "execution_count": 206,
   "id": "316ba3ad",
   "metadata": {},
   "outputs": [
    {
     "name": "stdout",
     "output_type": "stream",
     "text": [
      "(99, 88)\n",
      "(11, 22)\n"
     ]
    }
   ],
   "source": [
    "''' 5: Swap two tuples in Python'''\n",
    "a = (11, 22)\n",
    "b = (99, 88)\n",
    "\n",
    "a,b=b,a\n",
    "print(a)\n",
    "print(b)\n"
   ]
  },
  {
   "cell_type": "code",
   "execution_count": 209,
   "id": "505424e3",
   "metadata": {},
   "outputs": [
    {
     "data": {
      "text/plain": [
       "(44, 55)"
      ]
     },
     "execution_count": 209,
     "metadata": {},
     "output_type": "execute_result"
    }
   ],
   "source": [
    "''' 6: Copy specific elements from one tuple to a new tuple\n",
    "Write a program to copy elements 44 and 55 from the following tuple into a new tuple'''\n",
    "\n",
    "a = (11, 22, 33, 44, 55, 66)\n",
    "b=a[3:5]\n",
    "b"
   ]
  },
  {
   "cell_type": "code",
   "execution_count": 210,
   "id": "8c98e353",
   "metadata": {},
   "outputs": [
    {
     "data": {
      "text/plain": [
       "(11, [222, 33], 44, 55)"
      ]
     },
     "execution_count": 210,
     "metadata": {},
     "output_type": "execute_result"
    }
   ],
   "source": [
    "'''7: Modify the tuple\n",
    "Given is a nested tuple. Write a program to modify the first item (22) of a list inside a following tuple to 222'''\n",
    "a = (11, [22, 33], 44, 55)\n",
    "\n",
    "a[1][0]=222\n",
    "a"
   ]
  },
  {
   "cell_type": "code",
   "execution_count": 219,
   "id": "e14cfb90",
   "metadata": {},
   "outputs": [
    {
     "data": {
      "text/plain": [
       "(('c', 11), ('a', 23), ('d', 29), ('b', 37))"
      ]
     },
     "execution_count": 219,
     "metadata": {},
     "output_type": "execute_result"
    }
   ],
   "source": [
    "'''8: Sort a tuple of tuples by 2nd item'''\n",
    "a = (('a', 23),('b', 37),('c', 11), ('d',29))\n",
    "a = tuple(sorted(list(a), key=lambda x: x[1]))\n",
    "a"
   ]
  },
  {
   "cell_type": "code",
   "execution_count": 220,
   "id": "42b58a7a",
   "metadata": {},
   "outputs": [
    {
     "name": "stdout",
     "output_type": "stream",
     "text": [
      "2\n"
     ]
    }
   ],
   "source": [
    "'''9: Counts the number of occurrences of item 50 from a tuple'''\n",
    "a=(50, 10, 60, 70, 50)\n",
    "print(a.count(50))\n"
   ]
  },
  {
   "cell_type": "code",
   "execution_count": 221,
   "id": "0782f1a7",
   "metadata": {},
   "outputs": [
    {
     "name": "stdout",
     "output_type": "stream",
     "text": [
      "same\n"
     ]
    }
   ],
   "source": [
    "'''10: Check if all items in the tuple are the same'''\n",
    "a = (45, 45, 45, 45)\n",
    "if a[0]==a[1]==a[2]==a[3]:\n",
    "    print(\"same\")\n",
    "else:\n",
    "    print(\"not same\")"
   ]
  },
  {
   "cell_type": "code",
   "execution_count": null,
   "metadata": {},
   "outputs": [],
   "source": []
  }
 ],
 "metadata": {
  "kernelspec": {
   "display_name": "Python 3 (ipykernel)",
   "language": "python",
   "name": "python3"
  },
  "language_info": {
   "codemirror_mode": {
    "name": "ipython",
    "version": 3
   },
   "file_extension": ".py",
   "mimetype": "text/x-python",
   "name": "python",
   "nbconvert_exporter": "python",
   "pygments_lexer": "ipython3",
   "version": "3.9.13"
  }
 },
 "nbformat": 4,
 "nbformat_minor": 5
}

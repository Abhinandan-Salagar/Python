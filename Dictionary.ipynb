{
 "cells": [
  {
   "cell_type": "markdown",
   "id": "9981cc2f",
   "metadata": {},
   "source": [
    "# Dictionary\n",
    "\n",
    "- Have a key to access a value\n",
    "- empty Dictionary --> {}\n",
    "- Combination of Key - value pairs, seperated by commas and they are written in format {key : value , k2 : v2 ... }\n",
    "- Key is something that is used for referring to value\n",
    "- Values can be repeated, but keys can't be repeated because then it will refer to different value\n",
    "- Values can be Mutable or Immutable. Keys are Immutable\n",
    "- Ordered Object -> Refer to the value by its KEYS\n",
    "- Mutable Object -> Can modify the Values"
   ]
  },
  {
   "attachments": {
    "image.png": {
     "image/png": "[encoded data removed]"
    }
   },
   "cell_type": "markdown",
   "id": "42e26887",
   "metadata": {},
   "source": [
    "![image.png](attachment:image.png)"
   ]
  },
  {
   "cell_type": "code",
   "execution_count": 9,
   "id": "0577897c",
   "metadata": {},
   "outputs": [
    {
     "name": "stdout",
     "output_type": "stream",
     "text": [
      "False\n",
      "blue\n",
      "3.25\n",
      "3.25\n",
      "3.25\n"
     ]
    }
   ],
   "source": [
    "t1 = (11, 3.25, False, 6j, \"blue\", \"orange\", -8, 3.25)\n",
    "print( t1[2] )\n",
    "print(t1[4])\n",
    "\n",
    "# 3.25\n",
    "print( t1[1] )\n",
    "print( t1[-1] )\n",
    "print( t1[len(t1) - 1] )\n",
    "\n",
    "# You can access 3.25 with same position number ??\n"
   ]
  },
  {
   "cell_type": "code",
   "execution_count": 25,
   "id": "736656df",
   "metadata": {},
   "outputs": [
    {
     "name": "stdout",
     "output_type": "stream",
     "text": [
      "False\n",
      "[11, 3.25, 9999, 6j, 'blue', 'orange', -8, 3.25]\n",
      "9999\n"
     ]
    },
    {
     "ename": "IndexError",
     "evalue": "list assignment index out of range",
     "output_type": "error",
     "traceback": [
      "\u001b[1;31m---------------------------------------------------------------------------\u001b[0m",
      "\u001b[1;31mIndexError\u001b[0m                                Traceback (most recent call last)",
      "\u001b[1;32m~\\AppData\\Local\\Temp\\ipykernel_20816\\3291008533.py\u001b[0m in \u001b[0;36m<module>\u001b[1;34m\u001b[0m\n\u001b[0;32m      7\u001b[0m \u001b[1;33m\u001b[0m\u001b[0m\n\u001b[0;32m      8\u001b[0m \u001b[1;33m\u001b[0m\u001b[0m\n\u001b[1;32m----> 9\u001b[1;33m \u001b[0ms1\u001b[0m\u001b[1;33m[\u001b[0m\u001b[0mlen\u001b[0m\u001b[1;33m(\u001b[0m\u001b[0ms1\u001b[0m\u001b[1;33m)\u001b[0m\u001b[1;33m]\u001b[0m \u001b[1;33m=\u001b[0m \u001b[1;36m11111111\u001b[0m\u001b[1;33m\u001b[0m\u001b[1;33m\u001b[0m\u001b[0m\n\u001b[0m\u001b[0;32m     10\u001b[0m \u001b[0mprint\u001b[0m\u001b[1;33m(\u001b[0m\u001b[0ms1\u001b[0m\u001b[1;33m)\u001b[0m\u001b[1;33m\u001b[0m\u001b[1;33m\u001b[0m\u001b[0m\n\u001b[0;32m     11\u001b[0m \u001b[1;33m\u001b[0m\u001b[0m\n",
      "\u001b[1;31mIndexError\u001b[0m: list assignment index out of range"
     ]
    }
   ],
   "source": [
    "s1 = [11, 3.25, False, 6j, \"blue\", \"orange\", -8, 3.25]\n",
    "\n",
    "print( s1[2] )\n",
    "s1[2] = 9999\n",
    "print(s1)\n",
    "print( s1[2] )\n",
    "\n",
    "\n",
    "# s1[len(s1)] = 11111111\n",
    "# print(s1)\n",
    "\n"
   ]
  },
  {
   "cell_type": "code",
   "execution_count": 13,
   "id": "4ab32b7a",
   "metadata": {},
   "outputs": [
    {
     "data": {
      "text/plain": [
       "{'a': 11,\n",
       " 'b': 3.25,\n",
       " 'c': 9999,\n",
       " 'd': 6j,\n",
       " 'e': 'blue',\n",
       " 'f': 'orange',\n",
       " 'g': -8,\n",
       " 'j': 3.25}"
      ]
     },
     "execution_count": 13,
     "metadata": {},
     "output_type": "execute_result"
    }
   ],
   "source": [
    "d1 = {\"a\" : 11, \n",
    "     \"b\" : 3.25, \n",
    "     \"c\" : False, \n",
    "     \"d\" : 6j, \n",
    "     \"e\" : 'blue', \n",
    "     \"f\" : \"orange\", \n",
    "     \"g\" : -8, \n",
    "      \"j\" : 3.25, \n",
    "     \"c\" : 9999}\n",
    "\n",
    "d1"
   ]
  },
  {
   "cell_type": "code",
   "execution_count": 8,
   "id": "4df5596f",
   "metadata": {},
   "outputs": [
    {
     "name": "stdout",
     "output_type": "stream",
     "text": [
      "False\n",
      "blue\n"
     ]
    }
   ],
   "source": [
    "print( d1[\"c\"] )\n",
    "print( d1[\"e\"] )\n"
   ]
  },
  {
   "cell_type": "code",
   "execution_count": 11,
   "id": "f5ea801b",
   "metadata": {},
   "outputs": [
    {
     "name": "stdout",
     "output_type": "stream",
     "text": [
      "3.25\n",
      "3.25\n"
     ]
    }
   ],
   "source": [
    "#access 3.25\n",
    "print( d1[\"b\"] )\n",
    "print( d1[\"j\"] )"
   ]
  },
  {
   "cell_type": "code",
   "execution_count": null,
   "id": "2aa16cf5",
   "metadata": {},
   "outputs": [],
   "source": []
  },
  {
   "cell_type": "code",
   "execution_count": 15,
   "id": "ed0eb70b",
   "metadata": {},
   "outputs": [
    {
     "data": {
      "text/plain": [
       "{'a': 11,\n",
       " 'b': 3.25,\n",
       " 'c': False,\n",
       " 'd': 6j,\n",
       " 'e': 'blue',\n",
       " 'f': 'orange',\n",
       " 'g': -8,\n",
       " 'j': 3.25,\n",
       " 'w': [1, 7, -3],\n",
       " 'x': (7, 5, -3),\n",
       " 'y': {1: 100, 2: 200},\n",
       " 'z': {0, 1, 7}}"
      ]
     },
     "execution_count": 15,
     "metadata": {},
     "output_type": "execute_result"
    }
   ],
   "source": [
    "d1 = {\"a\" : 11, \n",
    "     \"b\" : 3.25, \n",
    "     \"c\" : False, \n",
    "     \"d\" : 6j, \n",
    "     \"e\" : 'blue', \n",
    "     \"f\" : \"orange\", \n",
    "     \"g\" : -8, \n",
    "      \"j\" : 3.25, \n",
    "     \"w\" : [1, 7, -3], \n",
    "      \"x\" : (7, 5, -3), \n",
    "     \"y\" : {1 : 100, 2 : 200}, \n",
    "      \"z\" : {7, 7, 7, 0, 1, 7, 7}}\n",
    "\n",
    "d1"
   ]
  },
  {
   "cell_type": "code",
   "execution_count": 16,
   "id": "88756f8b",
   "metadata": {},
   "outputs": [
    {
     "data": {
      "text/plain": [
       "{'a': 11,\n",
       " 1.1: 3.25,\n",
       " 33: False,\n",
       " (5-5j): 6j,\n",
       " False: 'blue',\n",
       " 'f': 'orange',\n",
       " 'g': -8,\n",
       " 'j': 3.25,\n",
       " 'w': [1, 7, -3],\n",
       " 'x': (7, 5, -3),\n",
       " 'y': {1: 100, 2: 200},\n",
       " 'z': {0, 1, 7}}"
      ]
     },
     "execution_count": 16,
     "metadata": {},
     "output_type": "execute_result"
    }
   ],
   "source": [
    "d1 = {\"a\" : 11, \n",
    "     1.1 : 3.25, \n",
    "     33 : False, \n",
    "     5-5j : 6j, \n",
    "     False : 'blue', \n",
    "     \"f\" : \"orange\", \n",
    "     \"g\" : -8, \n",
    "      \"j\" : 3.25, \n",
    "     \"w\" : [1, 7, -3], \n",
    "      \"x\" : (7, 5, -3), \n",
    "     \"y\" : {1 : 100, 2 : 200}, \n",
    "      \"z\" : {7, 7, 7, 0, 1, 7, 7}}\n",
    "\n",
    "d1"
   ]
  },
  {
   "cell_type": "code",
   "execution_count": 17,
   "id": "f739cb9f",
   "metadata": {},
   "outputs": [
    {
     "name": "stdout",
     "output_type": "stream",
     "text": [
      "False\n"
     ]
    }
   ],
   "source": [
    "# check the value False\n",
    "print( d1[33] )"
   ]
  },
  {
   "cell_type": "code",
   "execution_count": 18,
   "id": "2e9ab95a",
   "metadata": {},
   "outputs": [
    {
     "name": "stdout",
     "output_type": "stream",
     "text": [
      "blue\n"
     ]
    }
   ],
   "source": [
    "print( d1[False] )"
   ]
  },
  {
   "cell_type": "code",
   "execution_count": 19,
   "id": "2bd68f2c",
   "metadata": {},
   "outputs": [
    {
     "ename": "TypeError",
     "evalue": "unhashable type: 'list'",
     "output_type": "error",
     "traceback": [
      "\u001b[1;31m---------------------------------------------------------------------------\u001b[0m",
      "\u001b[1;31mTypeError\u001b[0m                                 Traceback (most recent call last)",
      "\u001b[1;32m~\\AppData\\Local\\Temp\\ipykernel_20816\\1269710195.py\u001b[0m in \u001b[0;36m<module>\u001b[1;34m\u001b[0m\n\u001b[1;32m----> 1\u001b[1;33m d1 = {\"a\" : 11, \n\u001b[0m\u001b[0;32m      2\u001b[0m      \u001b[1;36m1.1\u001b[0m \u001b[1;33m:\u001b[0m \u001b[1;36m3.25\u001b[0m\u001b[1;33m,\u001b[0m\u001b[1;33m\u001b[0m\u001b[1;33m\u001b[0m\u001b[0m\n\u001b[0;32m      3\u001b[0m      \u001b[1;36m33\u001b[0m \u001b[1;33m:\u001b[0m \u001b[1;32mFalse\u001b[0m\u001b[1;33m,\u001b[0m\u001b[1;33m\u001b[0m\u001b[1;33m\u001b[0m\u001b[0m\n\u001b[0;32m      4\u001b[0m      \u001b[1;36m5\u001b[0m\u001b[1;33m-\u001b[0m\u001b[1;36m5j\u001b[0m \u001b[1;33m:\u001b[0m \u001b[1;36m6j\u001b[0m\u001b[1;33m,\u001b[0m\u001b[1;33m\u001b[0m\u001b[1;33m\u001b[0m\u001b[0m\n\u001b[0;32m      5\u001b[0m      \u001b[1;32mFalse\u001b[0m \u001b[1;33m:\u001b[0m \u001b[1;34m'blue'\u001b[0m\u001b[1;33m,\u001b[0m\u001b[1;33m\u001b[0m\u001b[1;33m\u001b[0m\u001b[0m\n",
      "\u001b[1;31mTypeError\u001b[0m: unhashable type: 'list'"
     ]
    }
   ],
   "source": [
    "d1 = {\"a\" : 11, \n",
    "     1.1 : 3.25, \n",
    "     33 : False, \n",
    "     5-5j : 6j, \n",
    "     False : 'blue', \n",
    "     \"f\" : \"orange\", \n",
    "     \"g\" : -8, \n",
    "      \"j\" : 3.25, \n",
    "     [1, 7, -3] : 999999999999999999999999999, \n",
    "      \"x\" : (7, 5, -3), \n",
    "     \"y\" : {1 : 100, 2 : 200}, \n",
    "      \"z\" : {7, 7, 7, 0, 1, 7, 7}}\n",
    "\n",
    "d1"
   ]
  },
  {
   "cell_type": "code",
   "execution_count": 21,
   "id": "0eeb4553",
   "metadata": {},
   "outputs": [
    {
     "data": {
      "text/plain": [
       "{'a': 11,\n",
       " 1.1: 3.25,\n",
       " 33: False,\n",
       " (5-5j): 6j,\n",
       " False: 'blue',\n",
       " 'f': 'orange',\n",
       " 'g': -8,\n",
       " 'j': 3.25,\n",
       " (7, 5, -3): 55555555555,\n",
       " 'y': {1: 100, 2: 200},\n",
       " 'z': {0, 1, 7}}"
      ]
     },
     "execution_count": 21,
     "metadata": {},
     "output_type": "execute_result"
    }
   ],
   "source": [
    "d1 = {\"a\" : 11, \n",
    "     1.1 : 3.25, \n",
    "     33 : False, \n",
    "     5-5j : 6j, \n",
    "     False : 'blue', \n",
    "     \"f\" : \"orange\", \n",
    "     \"g\" : -8, \n",
    "      \"j\" : 3.25, \n",
    "     (7, 5, -3) : 55555555555, \n",
    "     \"y\" : {1 : 100, 2 : 200}, \n",
    "      \"z\" : {7, 7, 7, 0, 1, 7, 7}}\n",
    "\n",
    "d1"
   ]
  },
  {
   "cell_type": "code",
   "execution_count": 22,
   "id": "d63cfb3b",
   "metadata": {},
   "outputs": [
    {
     "ename": "TypeError",
     "evalue": "unhashable type: 'dict'",
     "output_type": "error",
     "traceback": [
      "\u001b[1;31m---------------------------------------------------------------------------\u001b[0m",
      "\u001b[1;31mTypeError\u001b[0m                                 Traceback (most recent call last)",
      "\u001b[1;32m~\\AppData\\Local\\Temp\\ipykernel_20816\\953723212.py\u001b[0m in \u001b[0;36m<module>\u001b[1;34m\u001b[0m\n\u001b[1;32m----> 1\u001b[1;33m d1 = {\"a\" : 11, \n\u001b[0m\u001b[0;32m      2\u001b[0m      \u001b[1;36m1.1\u001b[0m \u001b[1;33m:\u001b[0m \u001b[1;36m3.25\u001b[0m\u001b[1;33m,\u001b[0m\u001b[1;33m\u001b[0m\u001b[1;33m\u001b[0m\u001b[0m\n\u001b[0;32m      3\u001b[0m      \u001b[1;36m33\u001b[0m \u001b[1;33m:\u001b[0m \u001b[1;32mFalse\u001b[0m\u001b[1;33m,\u001b[0m\u001b[1;33m\u001b[0m\u001b[1;33m\u001b[0m\u001b[0m\n\u001b[0;32m      4\u001b[0m      \u001b[1;36m5\u001b[0m\u001b[1;33m-\u001b[0m\u001b[1;36m5j\u001b[0m \u001b[1;33m:\u001b[0m \u001b[1;36m6j\u001b[0m\u001b[1;33m,\u001b[0m\u001b[1;33m\u001b[0m\u001b[1;33m\u001b[0m\u001b[0m\n\u001b[0;32m      5\u001b[0m      \u001b[1;32mFalse\u001b[0m \u001b[1;33m:\u001b[0m \u001b[1;34m'blue'\u001b[0m\u001b[1;33m,\u001b[0m\u001b[1;33m\u001b[0m\u001b[1;33m\u001b[0m\u001b[0m\n",
      "\u001b[1;31mTypeError\u001b[0m: unhashable type: 'dict'"
     ]
    }
   ],
   "source": [
    "d1 = {\"a\" : 11, \n",
    "     1.1 : 3.25, \n",
    "     33 : False, \n",
    "     5-5j : 6j, \n",
    "     False : 'blue', \n",
    "     \"f\" : \"orange\", \n",
    "     \"g\" : -8, \n",
    "      \"j\" : 3.25, \n",
    "     (7, 5, -3) : 55555555555, \n",
    "     {1 : 100, 2 : 200} : 9999999999999, \n",
    "      \"z\" : {7, 7, 7, 0, 1, 7, 7}}\n",
    "\n",
    "d1"
   ]
  },
  {
   "cell_type": "code",
   "execution_count": 23,
   "id": "f631b9c5",
   "metadata": {},
   "outputs": [
    {
     "ename": "TypeError",
     "evalue": "unhashable type: 'set'",
     "output_type": "error",
     "traceback": [
      "\u001b[1;31m---------------------------------------------------------------------------\u001b[0m",
      "\u001b[1;31mTypeError\u001b[0m                                 Traceback (most recent call last)",
      "\u001b[1;32m~\\AppData\\Local\\Temp\\ipykernel_20816\\2981527316.py\u001b[0m in \u001b[0;36m<module>\u001b[1;34m\u001b[0m\n\u001b[1;32m----> 1\u001b[1;33m d1 = {\"a\" : 11, \n\u001b[0m\u001b[0;32m      2\u001b[0m      \u001b[1;36m1.1\u001b[0m \u001b[1;33m:\u001b[0m \u001b[1;36m3.25\u001b[0m\u001b[1;33m,\u001b[0m\u001b[1;33m\u001b[0m\u001b[1;33m\u001b[0m\u001b[0m\n\u001b[0;32m      3\u001b[0m      \u001b[1;36m33\u001b[0m \u001b[1;33m:\u001b[0m \u001b[1;32mFalse\u001b[0m\u001b[1;33m,\u001b[0m\u001b[1;33m\u001b[0m\u001b[1;33m\u001b[0m\u001b[0m\n\u001b[0;32m      4\u001b[0m      \u001b[1;36m5\u001b[0m\u001b[1;33m-\u001b[0m\u001b[1;36m5j\u001b[0m \u001b[1;33m:\u001b[0m \u001b[1;36m6j\u001b[0m\u001b[1;33m,\u001b[0m\u001b[1;33m\u001b[0m\u001b[1;33m\u001b[0m\u001b[0m\n\u001b[0;32m      5\u001b[0m      \u001b[1;32mFalse\u001b[0m \u001b[1;33m:\u001b[0m \u001b[1;34m'blue'\u001b[0m\u001b[1;33m,\u001b[0m\u001b[1;33m\u001b[0m\u001b[1;33m\u001b[0m\u001b[0m\n",
      "\u001b[1;31mTypeError\u001b[0m: unhashable type: 'set'"
     ]
    }
   ],
   "source": [
    "d1 = {\"a\" : 11, \n",
    "     1.1 : 3.25, \n",
    "     33 : False, \n",
    "     5-5j : 6j, \n",
    "     False : 'blue', \n",
    "     \"f\" : \"orange\", \n",
    "     \"g\" : -8, \n",
    "      \"j\" : 3.25, \n",
    "     (7, 5, -3) : 55555555555, \n",
    "      {7, 7, 7, 0, 1, 7, 7} : 8888888888888}\n",
    "\n",
    "d1"
   ]
  },
  {
   "cell_type": "markdown",
   "id": "4d96e680",
   "metadata": {},
   "source": [
    "### - Mutable Object -> Can modify the Values"
   ]
  },
  {
   "cell_type": "code",
   "execution_count": 24,
   "id": "2501643c",
   "metadata": {},
   "outputs": [
    {
     "data": {
      "text/plain": [
       "{'a': 11,\n",
       " 'b': 3.25,\n",
       " 'c': 9999,\n",
       " 'd': 6j,\n",
       " 'e': 'blue',\n",
       " 'f': 'orange',\n",
       " 'g': -8,\n",
       " 'j': 3.25,\n",
       " 'z': 9999}"
      ]
     },
     "execution_count": 24,
     "metadata": {},
     "output_type": "execute_result"
    }
   ],
   "source": [
    "# Insert a key value pair\n",
    "\n",
    "d1 = {\"a\" : 11, \n",
    "     \"b\" : 3.25, \n",
    "     \"c\" : False, \n",
    "     \"d\" : 6j, \n",
    "     \"e\" : 'blue', \n",
    "     \"f\" : \"orange\", \n",
    "     \"g\" : -8, \n",
    "      \"j\" : 3.25, \n",
    "     \"c\" : 9999}\n",
    "\n",
    "d1.update( {\"z\" : 9999} )\n",
    "d1"
   ]
  },
  {
   "cell_type": "code",
   "execution_count": 27,
   "id": "77840c36",
   "metadata": {},
   "outputs": [
    {
     "name": "stdout",
     "output_type": "stream",
     "text": [
      "{'a': 9999999, 'b': 3.25, 'c': 9999, 'd': 6j, 'e': 'blue', 'f': 'orange', 'g': -8, 'j': 3.25}\n",
      "{'a': 9999999, 'b': 3.25, 'c': 9999, 'd': 6j, 'e': 'blue', 'f': 'orange', 'g': -8, 'j': 3.25, 'z': 888888888888888}\n"
     ]
    }
   ],
   "source": [
    "# replace or Insert...\n",
    "# dictName[key] = value\n",
    "\n",
    "\n",
    "d1 = {\"a\" : 11, \n",
    "     \"b\" : 3.25, \n",
    "     \"c\" : False, \n",
    "     \"d\" : 6j, \n",
    "     \"e\" : 'blue', \n",
    "     \"f\" : \"orange\", \n",
    "     \"g\" : -8, \n",
    "      \"j\" : 3.25, \n",
    "     \"c\" : 9999}\n",
    "\n",
    "d1[\"a\"] = 9999999  #Replacement\n",
    "print(d1)\n",
    "\n",
    "\n",
    "d1[\"z\"] = 888888888888888 # Insertion\n",
    "print(d1)\n"
   ]
  },
  {
   "cell_type": "code",
   "execution_count": 1,
   "id": "f14b2cba",
   "metadata": {},
   "outputs": [
    {
     "name": "stdout",
     "output_type": "stream",
     "text": [
      "dict_items([('a', 11), ('b', 3.25), ('c', 9999), ('d', 6j), ('e', 'blue'), ('f', 'orange'), ('g', -8), ('j', 3.25)])\n",
      "{'a': 11, 'b': 3.25, 'c': 9999, 'd': 6j, 'e': 'blue', 'f': 'orange', 'g': -8, 'j': 3.25}\n",
      "{'a': 11, 'b': 3.25, 'c': 9999, 'd': 6j, 'e': 'blue', 'f': 'orange', 'g': -8}\n",
      "{'a': 11, 'b': 3.25, 'c': 9999, 'd': 6j, 'e': 'blue', 'f': 'orange'}\n",
      "{'a': 11, 'b': 3.25, 'c': 9999, 'd': 6j, 'e': 'blue'}\n"
     ]
    }
   ],
   "source": [
    "# delete a key value pair\n",
    "# popitem - delete the last key-value pair\n",
    "\n",
    "d1 = {\"a\" : 11, \n",
    "     \"b\" : 3.25, \n",
    "     \"c\" : False, \n",
    "     \"d\" : 6j, \n",
    "     \"e\" : 'blue', \n",
    "     \"f\" : \"orange\", \n",
    "     \"g\" : -8, \n",
    "      \"j\" : 3.25, \n",
    "     \"c\" : 9999}\n",
    "print(d1.items())\n",
    "\n",
    "print( d1 )\n",
    "d1.popitem()\n",
    "print( d1 )\n",
    "\n",
    "d1.popitem()\n",
    "print( d1 )\n",
    "\n",
    "d1.popitem()\n",
    "print( d1 )\n",
    "\n"
   ]
  },
  {
   "cell_type": "code",
   "execution_count": 36,
   "id": "63066eb3",
   "metadata": {},
   "outputs": [
    {
     "name": "stdout",
     "output_type": "stream",
     "text": [
      "{'a': 11, 'b': 3.25, 'c': 9999, 'd': 6j, 'e': 'blue', 'f': 'orange', 'g': -8, 'j': 3.25}\n",
      "9999\n",
      "{'a': 11, 'b': 3.25, 'd': 6j, 'e': 'blue', 'f': 'orange', 'g': -8, 'j': 3.25}\n",
      "11\n",
      "{'b': 3.25, 'd': 6j, 'e': 'blue', 'f': 'orange', 'g': -8, 'j': 3.25}\n",
      "orange\n",
      "{'b': 3.25, 'd': 6j, 'e': 'blue', 'g': -8, 'j': 3.25}\n"
     ]
    }
   ],
   "source": [
    "# delete a key value pair\n",
    "# pop - delete the key-value pair by referring to its KEY. It also return the value against that key\n",
    "\n",
    "d1 = {\"a\" : 11, \n",
    "     \"b\" : 3.25, \n",
    "     \"c\" : False, \n",
    "     \"d\" : 6j, \n",
    "     \"e\" : 'blue', \n",
    "     \"f\" : \"orange\", \n",
    "     \"g\" : -8, \n",
    "      \"j\" : 3.25, \n",
    "     \"c\" : 9999}\n",
    "\n",
    "print( d1 )\n",
    "print( d1.pop(\"c\") )\n",
    "print( d1 )\n",
    "\n",
    "\n",
    "print( d1.pop(\"a\") )\n",
    "print( d1 )\n",
    "\n",
    "\n",
    "print( d1.pop(\"f\") )\n",
    "print( d1 )\n",
    "\n",
    "\n",
    "# print( d1.pop(999) ) # KeyError :  Key does not exist\n",
    "# print( d1 )\n",
    "\n",
    "\n",
    "# print( d1.pop(6j) ) # KeyError :  Key does not exist\n",
    "# print( d1 )\n"
   ]
  },
  {
   "cell_type": "code",
   "execution_count": null,
   "id": "3a574c82",
   "metadata": {},
   "outputs": [],
   "source": [
    "## Basic properties...\n",
    "# len - total key value pairs\n",
    "# index XX\n",
    "# slicing XX\n",
    "# repeat XX\n",
    "# concat XX\n",
    "# Membership : weather Key is present or not"
   ]
  },
  {
   "cell_type": "code",
   "execution_count": null,
   "id": "2d27394a",
   "metadata": {},
   "outputs": [],
   "source": []
  },
  {
   "cell_type": "code",
   "execution_count": null,
   "id": "416ad92d",
   "metadata": {},
   "outputs": [],
   "source": [
    "### API's, Payload, JSON format..."
   ]
  },
  {
   "cell_type": "code",
   "execution_count": 38,
   "id": "a9412dcf",
   "metadata": {},
   "outputs": [
    {
     "data": {
      "text/plain": [
       "dict_keys(['a', 'b', 'c', 'd', 'e', 'f', 'g', 'j'])"
      ]
     },
     "execution_count": 38,
     "metadata": {},
     "output_type": "execute_result"
    }
   ],
   "source": [
    "## Fetch all the Keys...\n",
    "\n",
    "d1 = {\"a\" : 11, \"b\" : 3.25, \"c\" : False,\"d\" : 6j, \"e\" : 'blue', \"f\" : \"orange\", \"g\" : -8,  \"j\" : 3.25, \"c\" : 9999}\n",
    "d1.keys()\n"
   ]
  },
  {
   "cell_type": "code",
   "execution_count": 51,
   "id": "c7abe79a",
   "metadata": {},
   "outputs": [
    {
     "name": "stdout",
     "output_type": "stream",
     "text": [
      "a\n",
      "b\n",
      "c\n",
      "d\n",
      "e\n",
      "f\n",
      "g\n",
      "j\n"
     ]
    }
   ],
   "source": [
    "for k in d1.keys() : \n",
    "    print(k)"
   ]
  },
  {
   "cell_type": "code",
   "execution_count": 50,
   "id": "a647ef84",
   "metadata": {},
   "outputs": [],
   "source": [
    "# d1.keys()[\"d\"]\n",
    "# d1.keys()[3]"
   ]
  },
  {
   "cell_type": "code",
   "execution_count": 39,
   "id": "d2bd9327",
   "metadata": {},
   "outputs": [
    {
     "data": {
      "text/plain": [
       "dict_values([11, 3.25, 9999, 6j, 'blue', 'orange', -8, 3.25])"
      ]
     },
     "execution_count": 39,
     "metadata": {},
     "output_type": "execute_result"
    }
   ],
   "source": [
    "## Fetch all the Values...\n",
    "\n",
    "d1 = {\"a\" : 11, \"b\" : 3.25, \"c\" : False,\"d\" : 6j, \"e\" : 'blue', \"f\" : \"orange\", \"g\" : -8,  \"j\" : 3.25, \"c\" : 9999}\n",
    "d1.values()\n"
   ]
  },
  {
   "cell_type": "code",
   "execution_count": 54,
   "id": "2eca52a3",
   "metadata": {},
   "outputs": [
    {
     "name": "stdout",
     "output_type": "stream",
     "text": [
      "11\n"
     ]
    }
   ],
   "source": [
    "for v in d1.values() : \n",
    "    print(v)\n",
    "    if v == 11 : \n",
    "        break"
   ]
  },
  {
   "cell_type": "code",
   "execution_count": 40,
   "id": "3b8c650f",
   "metadata": {},
   "outputs": [
    {
     "data": {
      "text/plain": [
       "dict_items([('a', 11), ('b', 3.25), ('c', 9999), ('d', 6j), ('e', 'blue'), ('f', 'orange'), ('g', -8), ('j', 3.25)])"
      ]
     },
     "execution_count": 40,
     "metadata": {},
     "output_type": "execute_result"
    }
   ],
   "source": [
    "## Fetch all the Key-value pairs...\n",
    "\n",
    "d1 = {\"a\" : 11, \"b\" : 3.25, \"c\" : False,\"d\" : 6j, \"e\" : 'blue', \"f\" : \"orange\", \"g\" : -8,  \"j\" : 3.25, \"c\" : 9999}\n",
    "d1.items()\n"
   ]
  },
  {
   "cell_type": "code",
   "execution_count": 57,
   "id": "8731a80e",
   "metadata": {},
   "outputs": [
    {
     "name": "stdout",
     "output_type": "stream",
     "text": [
      "('a', 11)\n",
      "('b', 3.25)\n",
      "('c', 9999)\n",
      "('d', 6j)\n",
      "('e', 'blue')\n",
      "('f', 'orange')\n",
      "('g', -8)\n",
      "('j', 3.25)\n"
     ]
    }
   ],
   "source": [
    "for t in d1.items() : \n",
    "    print(t)"
   ]
  },
  {
   "cell_type": "code",
   "execution_count": 60,
   "id": "7169a69f",
   "metadata": {},
   "outputs": [
    {
     "name": "stdout",
     "output_type": "stream",
     "text": [
      "a 11\n",
      "b 3.25\n",
      "c 9999\n",
      "d 6j\n",
      "e blue\n",
      "f orange\n",
      "g -8\n",
      "j 3.25\n"
     ]
    }
   ],
   "source": [
    "for k,v in d1.items() : \n",
    "    print(k, v)\n"
   ]
  },
  {
   "cell_type": "code",
   "execution_count": null,
   "id": "9670cf61",
   "metadata": {},
   "outputs": [],
   "source": []
  },
  {
   "cell_type": "code",
   "execution_count": null,
   "id": "22c7d19c",
   "metadata": {},
   "outputs": [],
   "source": []
  },
  {
   "cell_type": "markdown",
   "id": "1970be9c",
   "metadata": {},
   "source": [
    "### Dicitonary Applications"
   ]
  },
  {
   "attachments": {
    "image.png": {
     "image/png": "[encoded data removed]"
    }
   },
   "cell_type": "markdown",
   "id": "dc0d99e5",
   "metadata": {},
   "source": [
    "###### Frontend Topic\n",
    "\n",
    "\n",
    "--- 1. Used in Json, Rest apis\n",
    "\n",
    "\n",
    "![image.png](attachment:image.png)"
   ]
  },
  {
   "attachments": {
    "image-2.png": {
     "image/png": "[encoded data removed]"
    }
   },
   "cell_type": "markdown",
   "id": "c1bcf1be",
   "metadata": {},
   "source": [
    "--- 2. Working on tables\n",
    "\n",
    "\n",
    "![image-2.png](attachment:image-2.png)"
   ]
  },
  {
   "cell_type": "code",
   "execution_count": 42,
   "id": "7ce252f4",
   "metadata": {},
   "outputs": [
    {
     "name": "stdout",
     "output_type": "stream",
     "text": [
      "{'A': [1, 3, 2, 2, 2], 'B': [5, 4, 3, 5, 3], 'C': [5, 1, 1, 3, 2]}\n"
     ]
    },
    {
     "data": {
      "text/html": [
       "<div>\n",
       "<style scoped>\n",
       "    .dataframe tbody tr th:only-of-type {\n",
       "        vertical-align: middle;\n",
       "    }\n",
       "\n",
       "    .dataframe tbody tr th {\n",
       "        vertical-align: top;\n",
       "    }\n",
       "\n",
       "    .dataframe thead th {\n",
       "        text-align: right;\n",
       "    }\n",
       "</style>\n",
       "<table border=\"1\" class=\"dataframe\">\n",
       "  <thead>\n",
       "    <tr style=\"text-align: right;\">\n",
       "      <th></th>\n",
       "      <th>A</th>\n",
       "      <th>B</th>\n",
       "      <th>C</th>\n",
       "    </tr>\n",
       "  </thead>\n",
       "  <tbody>\n",
       "    <tr>\n",
       "      <th>0</th>\n",
       "      <td>1</td>\n",
       "      <td>5</td>\n",
       "      <td>5</td>\n",
       "    </tr>\n",
       "    <tr>\n",
       "      <th>1</th>\n",
       "      <td>3</td>\n",
       "      <td>4</td>\n",
       "      <td>1</td>\n",
       "    </tr>\n",
       "    <tr>\n",
       "      <th>2</th>\n",
       "      <td>2</td>\n",
       "      <td>3</td>\n",
       "      <td>1</td>\n",
       "    </tr>\n",
       "    <tr>\n",
       "      <th>3</th>\n",
       "      <td>2</td>\n",
       "      <td>5</td>\n",
       "      <td>3</td>\n",
       "    </tr>\n",
       "    <tr>\n",
       "      <th>4</th>\n",
       "      <td>2</td>\n",
       "      <td>3</td>\n",
       "      <td>2</td>\n",
       "    </tr>\n",
       "  </tbody>\n",
       "</table>\n",
       "</div>"
      ],
      "text/plain": [
       "   A  B  C\n",
       "0  1  5  5\n",
       "1  3  4  1\n",
       "2  2  3  1\n",
       "3  2  5  3\n",
       "4  2  3  2"
      ]
     },
     "execution_count": 42,
     "metadata": {},
     "output_type": "execute_result"
    }
   ],
   "source": [
    "# DatA Science Topic\n",
    "\n",
    "\n",
    "import pandas\n",
    "\n",
    "dt = { \"A\" : [1, 3, 2, 2, 2], \n",
    "     \"B\"  : [5, 4, 3, 5, 3], \n",
    "     \"C\" : [5 ,1 , 1, 3 , 2]}\n",
    "\n",
    "print(dt)\n",
    "\n",
    "table = pandas.DataFrame( dt )\n",
    "table\n"
   ]
  },
  {
   "attachments": {
    "image.png": {
     "image/png": "[encoded data removed]"
    }
   },
   "cell_type": "markdown",
   "id": "5c1ec8e3",
   "metadata": {},
   "source": [
    "--- 3. Refer to multiple Objects , that are existing in Python Environment or DatabAse also...\n",
    "\n",
    "![image.png](attachment:image.png)\n"
   ]
  },
  {
   "cell_type": "code",
   "execution_count": 44,
   "id": "397c3dd5",
   "metadata": {},
   "outputs": [],
   "source": [
    "# File handling Topic\n",
    "\n",
    "files = {\"p\" : open(\"python.txt\", \"r\"), \n",
    "        \"j\" : open(\"java.txt\", \"r\"),\n",
    "        \"r\" : open(\"ruby.txt\", \"r\")}"
   ]
  },
  {
   "cell_type": "code",
   "execution_count": 45,
   "id": "0f617658",
   "metadata": {},
   "outputs": [
    {
     "data": {
      "text/plain": [
       "'Java is a high-level, class-based, object-oriented programming language that is designed to have as few implementation dependencies as possible.'"
      ]
     },
     "execution_count": 45,
     "metadata": {},
     "output_type": "execute_result"
    }
   ],
   "source": [
    "files[\"j\"].read()"
   ]
  },
  {
   "cell_type": "code",
   "execution_count": 46,
   "id": "3cb71adf",
   "metadata": {},
   "outputs": [
    {
     "data": {
      "text/plain": [
       "'Python is a high-level, general-purpose programming language. Its design philosophy emphasizes code readability with the use of significant indentation. Python is dynamically typed and garbage-collected. It supports multiple programming paradigms, including structured, object-oriented and functional programming.'"
      ]
     },
     "execution_count": 46,
     "metadata": {},
     "output_type": "execute_result"
    }
   ],
   "source": [
    "files[\"p\"].read()"
   ]
  },
  {
   "cell_type": "code",
   "execution_count": 47,
   "id": "048cbb97",
   "metadata": {},
   "outputs": [
    {
     "data": {
      "text/plain": [
       "'Ruby is an interpreted, high-level, general-purpose programming language which supports multiple programming paradigms. It was designed with an emphasis on programming productivity and simplicity. In Ruby, everything is an object, including primitive data types.'"
      ]
     },
     "execution_count": 47,
     "metadata": {},
     "output_type": "execute_result"
    }
   ],
   "source": [
    "files[\"r\"].read()"
   ]
  },
  {
   "cell_type": "code",
   "execution_count": null,
   "id": "5cacf017",
   "metadata": {},
   "outputs": [],
   "source": []
  },
  {
   "cell_type": "code",
   "execution_count": null,
   "id": "c8964a0e",
   "metadata": {},
   "outputs": [],
   "source": []
  },
  {
   "cell_type": "code",
   "execution_count": null,
   "id": "2b8ca4fe",
   "metadata": {},
   "outputs": [],
   "source": []
  },
  {
   "cell_type": "code",
   "execution_count": null,
   "id": "b07fb5c3",
   "metadata": {},
   "outputs": [],
   "source": []
  }
 ],
 "metadata": {
  "kernelspec": {
   "display_name": "base",
   "language": "python",
   "name": "python3"
  },
  "language_info": {
   "codemirror_mode": {
    "name": "ipython",
    "version": 3
   },
   "file_extension": ".py",
   "mimetype": "text/x-python",
   "name": "python",
   "nbconvert_exporter": "python",
   "pygments_lexer": "ipython3",
   "version": "3.9.13"
  },
  "vscode": {
   "interpreter": {
    "hash": "5ae58900cfbb8c43ab3495913814b7cf26024f51651a94ce8bf64d6111688e8d"
   }
  }
 },
 "nbformat": 4,
 "nbformat_minor": 5
}

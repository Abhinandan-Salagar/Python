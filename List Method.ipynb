{
 "cells": [
  {
   "cell_type": "markdown",
   "id": "7c3e9039",
   "metadata": {},
   "source": [
    "# List\n",
    "\n",
    "- collection of different datatype elements\n",
    "- []\n",
    "- Ordered object -> access any element with respect to position number\n",
    "- Mutable Object -> Modify the element at any position number. Insert , delete or replace the element at any position|"
   ]
  },
  {
   "cell_type": "code",
   "execution_count": null,
   "id": "38a9875a",
   "metadata": {},
   "outputs": [],
   "source": [
    "s1 = [ 11, 3.25, False, 6j, \"blue\", \"orange\", -8 ]\n",
    "print(s1)\n"
   ]
  },
  {
   "cell_type": "code",
   "execution_count": null,
   "id": "1ee1db23",
   "metadata": {},
   "outputs": [],
   "source": [
    "# Insert an element ???"
   ]
  },
  {
   "cell_type": "code",
   "execution_count": 1,
   "id": "59067b7b",
   "metadata": {},
   "outputs": [],
   "source": [
    "# append - insert SINGLE ELEMENT at the end of the list\n"
   ]
  },
  {
   "cell_type": "code",
   "execution_count": 3,
   "id": "4a652502",
   "metadata": {},
   "outputs": [
    {
     "name": "stdout",
     "output_type": "stream",
     "text": [
      "[11, 3.25, False, 6j, 'blue', 'orange', -8]\n",
      "[11, 3.25, False, 6j, 'blue', 'orange', -8, 99]\n",
      "[11, 3.25, False, 6j, 'blue', 'orange', -8, 99, 99]\n",
      "[11, 3.25, False, 6j, 'blue', 'orange', -8, 99, 99, 99]\n"
     ]
    }
   ],
   "source": [
    "s1 = [ 11, 3.25, False, 6j, \"blue\", \"orange\", -8 ]\n",
    "print(s1)\n",
    "\n",
    "s1.append(99)\n",
    "print(s1)\n",
    "\n",
    "s1.append(99)\n",
    "print(s1)\n",
    "\n",
    "s1.append(99)\n",
    "print(s1)\n"
   ]
  },
  {
   "cell_type": "code",
   "execution_count": 5,
   "id": "8033d4e5",
   "metadata": {},
   "outputs": [
    {
     "name": "stdout",
     "output_type": "stream",
     "text": [
      "[11, 3.25, False, 6j, 'blue', 'orange', -8]\n",
      "[11, 3.25, False, 6j, 'blue', 99, 'orange', -8]\n"
     ]
    }
   ],
   "source": [
    "# insert - insert the element at any position number\n",
    "# list.insert( position, element )\n",
    "\n",
    "s1 = [ 11, 3.25, False, 6j, \"blue\", \"orange\", -8 ]\n",
    "print(s1)\n",
    "\n",
    "# insert 99 between blue and orange\n",
    "#  11, 3.25, False, 6j, \"blue\", \"orange\", -8 \n",
    "#  11, 3.25, False, 6j, \"blue\", 99, \"orange\", -8 \n",
    "\n",
    "s1.insert(5, 99)\n",
    "print(s1)"
   ]
  },
  {
   "cell_type": "code",
   "execution_count": 8,
   "id": "c369fff5",
   "metadata": {},
   "outputs": [
    {
     "name": "stdout",
     "output_type": "stream",
     "text": [
      "[11, 3.25, False, 6j, 'blue', 'orange', -8]\n",
      "[11, 3.25, True, 6j, 'blue', 'orange', -8]\n",
      "[11, 3.25, True, 6j, 'blue', 'apple', -8]\n"
     ]
    }
   ],
   "source": [
    "# replace . \n",
    "# list[position] = neewValue\n",
    "\n",
    "s1 = [ 11, 3.25, False, 6j, \"blue\", \"orange\", -8 ]\n",
    "print(s1)\n",
    "\n",
    "# replace False by True\n",
    "s1[2] = True\n",
    "print(s1)\n",
    "\n",
    "# replace \"orange\" byy apple\n",
    "s1[-2] = \"apple\"\n",
    "print(s1)\n"
   ]
  },
  {
   "cell_type": "code",
   "execution_count": 11,
   "id": "f5f78a04",
   "metadata": {},
   "outputs": [
    {
     "name": "stdout",
     "output_type": "stream",
     "text": [
      "[11, 3.25, False, 6j, 11, 'blue', 'orange', -8, 11]\n",
      "[3.25, False, 6j, 11, 'blue', 'orange', -8, 11]\n",
      "[3.25, False, 6j, 'blue', 'orange', -8, 11]\n"
     ]
    },
    {
     "ename": "ValueError",
     "evalue": "list.remove(x): x not in list",
     "output_type": "error",
     "traceback": [
      "\u001b[1;31m---------------------------------------------------------------------------\u001b[0m",
      "\u001b[1;31mValueError\u001b[0m                                Traceback (most recent call last)",
      "\u001b[1;32m~\\AppData\\Local\\Temp\\ipykernel_2076\\1373127783.py\u001b[0m in \u001b[0;36m<module>\u001b[1;34m\u001b[0m\n\u001b[0;32m     10\u001b[0m \u001b[1;33m\u001b[0m\u001b[0m\n\u001b[0;32m     11\u001b[0m \u001b[1;33m\u001b[0m\u001b[0m\n\u001b[1;32m---> 12\u001b[1;33m \u001b[0ms1\u001b[0m\u001b[1;33m.\u001b[0m\u001b[0mremove\u001b[0m\u001b[1;33m(\u001b[0m \u001b[1;36m999\u001b[0m \u001b[1;33m)\u001b[0m\u001b[1;33m\u001b[0m\u001b[1;33m\u001b[0m\u001b[0m\n\u001b[0m\u001b[0;32m     13\u001b[0m \u001b[0mprint\u001b[0m\u001b[1;33m(\u001b[0m\u001b[0ms1\u001b[0m\u001b[1;33m)\u001b[0m\u001b[1;33m\u001b[0m\u001b[1;33m\u001b[0m\u001b[0m\n",
      "\u001b[1;31mValueError\u001b[0m: list.remove(x): x not in list"
     ]
    }
   ],
   "source": [
    "# remove : delete the FIRST element by referring to its Value\n",
    "s1 = [ 11, 3.25, False, 6j, 11, \"blue\", \"orange\", -8, 11 ]\n",
    "print(s1)\n",
    "\n",
    "s1.remove( 11 )\n",
    "print(s1)\n",
    "\n",
    "s1.remove( 11 )\n",
    "print(s1)\n",
    "\n",
    "\n",
    "s1.remove( 999 )\n",
    "print(s1)\n"
   ]
  },
  {
   "cell_type": "code",
   "execution_count": 16,
   "id": "5b959a0a",
   "metadata": {},
   "outputs": [
    {
     "name": "stdout",
     "output_type": "stream",
     "text": [
      "[11, 3.25, False, 6j, 11, 'blue', 'orange', -8, 11]\n",
      "11\n",
      "[11, 3.25, False, 6j, 11, 'blue', 'orange', -8]\n",
      "False\n",
      "[11, 3.25, 6j, 11, 'blue', 'orange', -8]\n",
      "blue\n",
      "[11, 3.25, 6j, 11, 'orange', -8]\n"
     ]
    }
   ],
   "source": [
    "# pop : remove the element by refrring to its position number\n",
    "# by default, it removes the last element of the list\n",
    "# this method return the element also\n",
    "\n",
    "s1 = [ 11, 3.25, False, 6j, 11, \"blue\", \"orange\", -8, 11 ]\n",
    "print(s1)\n",
    "\n",
    "print( s1.pop() )\n",
    "print(s1)\n",
    "\n",
    "print( s1.pop(2) )\n",
    "print(s1)\n",
    "\n",
    "print( s1.pop(4) )\n",
    "print(s1)\n"
   ]
  },
  {
   "cell_type": "code",
   "execution_count": 13,
   "id": "84d448ba",
   "metadata": {},
   "outputs": [
    {
     "name": "stdout",
     "output_type": "stream",
     "text": [
      "[11, 3.25, False, 6j, 11, 'blue', 'orange', -8, 11]\n",
      "None\n",
      "[11, 3.25, False, 6j, 11, 'blue', 'orange', -8, 11, 99]\n"
     ]
    }
   ],
   "source": [
    "s1 = [ 11, 3.25, False, 6j, 11, \"blue\", \"orange\", -8, 11 ]\n",
    "print(s1)\n",
    "\n",
    "print( s1.append(99) )\n",
    "print(s1)\n",
    "\n"
   ]
  },
  {
   "cell_type": "code",
   "execution_count": 14,
   "id": "ec756cb5",
   "metadata": {},
   "outputs": [
    {
     "name": "stdout",
     "output_type": "stream",
     "text": [
      "[11, 3.25, False, 6j, 11, 'blue', 'orange', -8, 11]\n",
      "None\n",
      "[3.25, False, 6j, 11, 'blue', 'orange', -8, 11]\n"
     ]
    }
   ],
   "source": [
    "s1 = [ 11, 3.25, False, 6j, 11, \"blue\", \"orange\", -8, 11 ]\n",
    "print(s1)\n",
    "\n",
    "print( s1.remove(11) )\n",
    "print(s1)\n",
    "\n"
   ]
  },
  {
   "cell_type": "code",
   "execution_count": 1,
   "id": "5cf022ec",
   "metadata": {},
   "outputs": [
    {
     "name": "stdout",
     "output_type": "stream",
     "text": [
      "[50, 65, 23, 82, 100]\n"
     ]
    }
   ],
   "source": [
    "def myfunc(n):\n",
    "  return abs(n - 50)\n",
    "\n",
    "thislist = [100, 50, 65, 82, 23]\n",
    "thislist.sort(key = myfunc)\n",
    "print(thislist)"
   ]
  },
  {
   "cell_type": "code",
   "execution_count": 2,
   "id": "852d49ad",
   "metadata": {},
   "outputs": [
    {
     "name": "stdout",
     "output_type": "stream",
     "text": [
      "['Kiwi', 'Orange', 'banana', 'cherry']\n"
     ]
    }
   ],
   "source": [
    "thislist = [\"banana\", \"Orange\", \"Kiwi\", \"cherry\"]\n",
    "thislist.sort()\n",
    "print(thislist)"
   ]
  },
  {
   "cell_type": "code",
   "execution_count": 3,
   "id": "a9269583",
   "metadata": {},
   "outputs": [
    {
     "name": "stdout",
     "output_type": "stream",
     "text": [
      "['banana', 'cherry', 'Kiwi', 'Orange']\n"
     ]
    }
   ],
   "source": [
    "thislist = [\"banana\", \"Orange\", \"Kiwi\", \"cherry\"]\n",
    "thislist.sort(key = str.lower)\n",
    "print(thislist)"
   ]
  },
  {
   "cell_type": "code",
   "execution_count": null,
   "id": "19ae1965",
   "metadata": {},
   "outputs": [],
   "source": []
  },
  {
   "cell_type": "code",
   "execution_count": 17,
   "id": "370f7326",
   "metadata": {},
   "outputs": [
    {
     "name": "stdout",
     "output_type": "stream",
     "text": [
      "Animal Name : lion\n",
      "lion\n"
     ]
    }
   ],
   "source": [
    "# take 3 animal names from the user and save it in the list\n",
    "\n",
    "animalName = input(\"Animal Name : \")\n",
    "print(animalName)"
   ]
  },
  {
   "cell_type": "code",
   "execution_count": 19,
   "id": "26cd9635",
   "metadata": {},
   "outputs": [
    {
     "name": "stdout",
     "output_type": "stream",
     "text": [
      "Animal Name : lion\n",
      "Animal Name : tiger\n",
      "Animal Name : zebra\n",
      "['lion', 'tiger', 'zebra']\n"
     ]
    }
   ],
   "source": [
    "# take 3 animal names from the user and save it in the list\n",
    "\n",
    "animals = []\n",
    "\n",
    "for i in range(3) : \n",
    "    animalName = input(\"Animal Name : \")\n",
    "    animals.append(animalName)\n",
    "    \n",
    "    \n",
    "print(animals)\n",
    "\n",
    "\n"
   ]
  },
  {
   "cell_type": "code",
   "execution_count": null,
   "id": "47067929",
   "metadata": {},
   "outputs": [],
   "source": []
  },
  {
   "cell_type": "code",
   "execution_count": 23,
   "id": "31651b37",
   "metadata": {},
   "outputs": [
    {
     "name": "stdout",
     "output_type": "stream",
     "text": [
      "[11, 3.25, False, 6j, 11, 'blue', 'orange', -8, 11]\n",
      "3\n",
      "1\n",
      "0\n"
     ]
    }
   ],
   "source": [
    "# Count : frequency of the elements inside the list\n",
    "\n",
    "s1 = [ 11, 3.25, False, 6j, 11, \"blue\", \"orange\", -8, 11 ]\n",
    "print(s1)\n",
    "\n",
    "print( s1.count(11) )\n",
    "print( s1.count(False) )\n",
    "print( s1.count(99) )\n"
   ]
  },
  {
   "cell_type": "code",
   "execution_count": 24,
   "id": "29a5dd80",
   "metadata": {},
   "outputs": [
    {
     "name": "stdout",
     "output_type": "stream",
     "text": [
      "[11, 3.25, False, 6j, 11, 'blue', 'orange', -8, 11]\n",
      "5\n"
     ]
    }
   ],
   "source": [
    "# Index : return Position  number of the element\n",
    "\n",
    "s1 = [ 11, 3.25, False, 6j, 11, \"blue\", \"orange\", -8, 11 ]\n",
    "print(s1)\n",
    "\n",
    "print( s1.index(\"blue\") )\n"
   ]
  },
  {
   "cell_type": "code",
   "execution_count": 25,
   "id": "12ca1b10",
   "metadata": {},
   "outputs": [
    {
     "name": "stdout",
     "output_type": "stream",
     "text": [
      "[11, 3.25, False, 6j, 11, 'blue', 'orange', -8, 11]\n",
      "3\n",
      "[11, 3.25, False, -22, 11, 'blue', 'orange', -8, 11]\n"
     ]
    }
   ],
   "source": [
    "s1 = [ 11, 3.25, False, 6j, 11, \"blue\", \"orange\", -8, 11 ]\n",
    "print(s1)\n",
    "\n",
    "# replace the 6j by -22\n",
    "\n",
    "pos = s1.index(6j)\n",
    "print(pos)\n",
    "s1[pos] = -22\n",
    "print(s1)\n",
    "\n"
   ]
  },
  {
   "cell_type": "code",
   "execution_count": 27,
   "id": "76870579",
   "metadata": {},
   "outputs": [
    {
     "name": "stdout",
     "output_type": "stream",
     "text": [
      "[11, 3.25, False, 6j, 'blue', 'orange', -8]\n",
      "[11, 3.25, False, 6j, 'blue', 99, 'orange', -8]\n"
     ]
    }
   ],
   "source": [
    "# insert - insert the element at any position number\n",
    "# list.insert( position, element )\n",
    "\n",
    "s1 = [ 11, 3.25, False, 6j, \"blue\", \"orange\", -8 ]\n",
    "print(s1)\n",
    "\n",
    "# pos = s1.index(\"blue\")\n",
    "# s1.insert( pos + 1 , 99)\n",
    "\n",
    "pos = s1.index(\"orange\")\n",
    "s1.insert( pos , 99)\n",
    "print(s1)"
   ]
  },
  {
   "cell_type": "code",
   "execution_count": null,
   "id": "e686180d",
   "metadata": {},
   "outputs": [],
   "source": []
  },
  {
   "cell_type": "code",
   "execution_count": 28,
   "id": "90cc46d7",
   "metadata": {},
   "outputs": [
    {
     "name": "stdout",
     "output_type": "stream",
     "text": [
      "[11, 3.25, False, 6j, 'blue', 'orange', -8]\n",
      "[11, 3.25, False, 6j, 'blue', 'orange', -8]\n"
     ]
    }
   ],
   "source": [
    "# copy : create a duplicate list\n",
    "\n",
    "s1 = [ 11, 3.25, False, 6j, \"blue\", \"orange\", -8 ]\n",
    "print(s1)\n",
    "\n",
    "s2 = s1.copy()\n",
    "print(s2)"
   ]
  },
  {
   "cell_type": "code",
   "execution_count": 29,
   "id": "9be6e98c",
   "metadata": {},
   "outputs": [
    {
     "name": "stdout",
     "output_type": "stream",
     "text": [
      "[11, 3.25, False, 6j, 'blue', 'orange', -8]\n",
      "[-8, 'orange', 'blue', 6j, False, 3.25, 11]\n"
     ]
    }
   ],
   "source": [
    "# reverse the list ???\n",
    "\n",
    "s1 = [ 11, 3.25, False, 6j, \"blue\", \"orange\", -8 ]\n",
    "print(s1)\n",
    "\n",
    "print( s1[ : : -1] )  "
   ]
  },
  {
   "cell_type": "code",
   "execution_count": 34,
   "id": "f17fff3f",
   "metadata": {},
   "outputs": [
    {
     "name": "stdout",
     "output_type": "stream",
     "text": [
      "[11, 3.25, False, 6j, 'blue', 'orange', -8]\n",
      "[-8, 'orange', 'blue', 6j, False, 3.25, 11]\n"
     ]
    }
   ],
   "source": [
    "# reverse the list ???\n",
    "\n",
    "s1 = [ 11, 3.25, False, 6j, \"blue\", \"orange\", -8 ]\n",
    "print(s1)\n",
    "\n",
    "s1.reverse()\n",
    "print( s1 )  "
   ]
  },
  {
   "cell_type": "code",
   "execution_count": 31,
   "id": "db76c7a9",
   "metadata": {},
   "outputs": [
    {
     "name": "stdout",
     "output_type": "stream",
     "text": [
      "[4, -1, 3, 4]\n"
     ]
    }
   ],
   "source": [
    "a = [4, -1]\n",
    "b = [3, 4]\n",
    "\n",
    "c = a + b\n",
    "print(c)\n"
   ]
  },
  {
   "cell_type": "code",
   "execution_count": 32,
   "id": "f8abf4a2",
   "metadata": {},
   "outputs": [
    {
     "name": "stdout",
     "output_type": "stream",
     "text": [
      "[4, -1, 3, 4]\n"
     ]
    }
   ],
   "source": [
    "a = [4, -1]\n",
    "b = [3, 4]\n",
    "\n",
    "a.extend(b) # a = a + b\n",
    "print(a)"
   ]
  },
  {
   "cell_type": "code",
   "execution_count": 4,
   "id": "a5de3069",
   "metadata": {},
   "outputs": [
    {
     "name": "stdout",
     "output_type": "stream",
     "text": [
      "['apple', 'banana', 'mango']\n"
     ]
    }
   ],
   "source": [
    "\n",
    "fruits = [\"apple\", \"banana\", \"cherry\", \"kiwi\", \"mango\"]\n",
    "\n",
    "newlist = [x for x in fruits if \"a\" in x]\n",
    "\n",
    "print(newlist)"
   ]
  },
  {
   "cell_type": "code",
   "execution_count": 9,
   "id": "d221616a",
   "metadata": {},
   "outputs": [
    {
     "name": "stdout",
     "output_type": "stream",
     "text": [
      "['APPLE', 'BANANA', 'CHERRY', 'KIWI', 'MANGO']\n"
     ]
    }
   ],
   "source": [
    "newlist = [x for x in range(10) if x < 5]\n",
    "newlist = [x.upper() for x in fruits]\n",
    "print(newlist)"
   ]
  },
  {
   "cell_type": "code",
   "execution_count": 10,
   "id": "99674345",
   "metadata": {},
   "outputs": [
    {
     "name": "stdout",
     "output_type": "stream",
     "text": [
      "['apple', 'orange', 'cherry', 'kiwi', 'mango']\n"
     ]
    }
   ],
   "source": [
    "newlist = [x if x != \"banana\" else \"orange\" for x in fruits]\n",
    "print(newlist)"
   ]
  },
  {
   "cell_type": "code",
   "execution_count": null,
   "id": "4030ad55",
   "metadata": {},
   "outputs": [],
   "source": [
    "# tomorrow : \n",
    "#     tuple\n",
    "#     list comprehension\n",
    "#  copy and alias"
   ]
  },
  {
   "cell_type": "code",
   "execution_count": null,
   "id": "9097cd12",
   "metadata": {},
   "outputs": [],
   "source": []
  },
  {
   "cell_type": "code",
   "execution_count": null,
   "id": "d2d22f02",
   "metadata": {},
   "outputs": [],
   "source": []
  },
  {
   "cell_type": "code",
   "execution_count": null,
   "id": "397983e1",
   "metadata": {},
   "outputs": [],
   "source": []
  },
  {
   "cell_type": "code",
   "execution_count": null,
   "id": "6b2093a9",
   "metadata": {},
   "outputs": [],
   "source": []
  },
  {
   "cell_type": "code",
   "execution_count": null,
   "id": "ea377fae",
   "metadata": {},
   "outputs": [],
   "source": []
  },
  {
   "cell_type": "code",
   "execution_count": null,
   "id": "6f2c4aca",
   "metadata": {},
   "outputs": [],
   "source": []
  }
 ],
 "metadata": {
  "kernelspec": {
   "display_name": "base",
   "language": "python",
   "name": "python3"
  },
  "language_info": {
   "codemirror_mode": {
    "name": "ipython",
    "version": 3
   },
   "file_extension": ".py",
   "mimetype": "text/x-python",
   "name": "python",
   "nbconvert_exporter": "python",
   "pygments_lexer": "ipython3",
   "version": "3.9.13"
  },
  "vscode": {
   "interpreter": {
    "hash": "5ae58900cfbb8c43ab3495913814b7cf26024f51651a94ce8bf64d6111688e8d"
   }
  }
 },
 "nbformat": 4,
 "nbformat_minor": 5
}

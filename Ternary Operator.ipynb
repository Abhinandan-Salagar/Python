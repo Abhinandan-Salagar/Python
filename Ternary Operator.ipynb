{
 "cells": [
  {
   "cell_type": "markdown",
   "id": "a25c4eb6",
   "metadata": {},
   "source": [
    "# Ternary Operator\n",
    "\n",
    "- single line if - else condition\n",
    "\n",
    "\n",
    "- if expression : \n",
    "    statement\n",
    "  else : \n",
    "      statement\n",
    "      \n",
    "- output_of_IF if expression else output_of_Else      \n",
    "\n",
    "\n",
    "\n",
    "- if expression : \n",
    "    statement\n",
    "- elif expression : \n",
    "    statement\n",
    "  else : \n",
    "      statement\n",
    "\n",
    "\n",
    "- output_of_IF if expression else ( output_of_IF if expression else output_of_Else  )      \n",
    "\n",
    "- if expression : \n",
    "    statement\n",
    "  else : \n",
    "    - if expression : \n",
    "        statement\n",
    "      else : \n",
    "          - if expression : \n",
    "                statement\n",
    "              else : \n",
    "                  statement\n",
    "\n",
    "\n"
   ]
  },
  {
   "cell_type": "code",
   "execution_count": 1,
   "id": "4a312d39",
   "metadata": {},
   "outputs": [
    {
     "name": "stdout",
     "output_type": "stream",
     "text": [
      "ODD\n",
      "odd\n",
      "odd\n"
     ]
    }
   ],
   "source": [
    "# Even Odd :\n",
    "\n",
    "num = 11\n",
    "if num%2 == 0 : \n",
    "    print(\"Even\")\n",
    "else : \n",
    "    print('ODD')\n",
    "\n",
    "res = \"even\" if num%2 == 0 else \"odd\"\n",
    "print(res)\n",
    "\n",
    "print( \"even\" if num%2 == 0 else \"odd\" )"
   ]
  },
  {
   "cell_type": "code",
   "execution_count": 8,
   "id": "86107afb",
   "metadata": {},
   "outputs": [
    {
     "name": "stdout",
     "output_type": "stream",
     "text": [
      "Even\n",
      "None\n"
     ]
    }
   ],
   "source": [
    "print( print( \"Even\" ) )"
   ]
  },
  {
   "cell_type": "code",
   "execution_count": 9,
   "id": "45e480e3",
   "metadata": {},
   "outputs": [
    {
     "name": "stdout",
     "output_type": "stream",
     "text": [
      "100\n",
      "None\n"
     ]
    }
   ],
   "source": [
    "print( print( 100 ) )"
   ]
  },
  {
   "cell_type": "code",
   "execution_count": 3,
   "id": "89c0fb38",
   "metadata": {},
   "outputs": [
    {
     "name": "stdout",
     "output_type": "stream",
     "text": [
      "\n",
      "None\n"
     ]
    }
   ],
   "source": [
    "print(print())"
   ]
  },
  {
   "cell_type": "code",
   "execution_count": 4,
   "id": "1ea6e966",
   "metadata": {},
   "outputs": [
    {
     "name": "stdout",
     "output_type": "stream",
     "text": [
      "odd\n",
      "None\n"
     ]
    }
   ],
   "source": [
    "res = print( \"even\" ) if num%2 == 0 else print( \"odd\" )\n",
    "print(res)\n"
   ]
  },
  {
   "cell_type": "code",
   "execution_count": 7,
   "id": "cd0491ff",
   "metadata": {},
   "outputs": [],
   "source": [
    "s = 100"
   ]
  },
  {
   "cell_type": "code",
   "execution_count": null,
   "id": "d2c1764a",
   "metadata": {},
   "outputs": [],
   "source": []
  },
  {
   "cell_type": "code",
   "execution_count": null,
   "id": "9024f90f",
   "metadata": {},
   "outputs": [],
   "source": [
    "# x( y( z(  ) ) )"
   ]
  },
  {
   "cell_type": "code",
   "execution_count": 14,
   "id": "dc77eb78",
   "metadata": {},
   "outputs": [
    {
     "name": "stdout",
     "output_type": "stream",
     "text": [
      "Not a Palindrome\n"
     ]
    }
   ],
   "source": [
    "## Weather a word is in palindrome ...\n",
    "word = \"madaM\"\n",
    "\n",
    "# print( word[ : : 1] )\n",
    "# print( word[ : : -1] )\n",
    "\n",
    "if word[ : : 1] == word[ : : -1] : \n",
    "    print('Palindrome')\n",
    "else : \n",
    "    print(\"Not a Palindrome\")\n",
    "\n"
   ]
  },
  {
   "cell_type": "code",
   "execution_count": 20,
   "id": "a7c231e6",
   "metadata": {},
   "outputs": [
    {
     "name": "stdout",
     "output_type": "stream",
     "text": [
      "Palindrome\n"
     ]
    }
   ],
   "source": [
    "word = \"madam\"\n",
    "\n",
    "res = print(\"Palindrome\") if  word[ : : 1] == word[ : : -1] else print(\"Not a Palindrome\" )\n",
    "res"
   ]
  },
  {
   "cell_type": "code",
   "execution_count": 21,
   "id": "9b594c1e",
   "metadata": {},
   "outputs": [
    {
     "name": "stdout",
     "output_type": "stream",
     "text": [
      "['a', 'e', 't']\n",
      "['a', 'e', 't']\n"
     ]
    }
   ],
   "source": [
    "## Anagrams ...\n",
    "# tea eat\n",
    "# del led\n",
    "# goa  goo\n",
    "\n",
    "w1 = \"tea\"\n",
    "w2 = \"eat\"\n",
    "\n",
    "print( sorted( w1 ) )\n",
    "print( sorted( w2 ) )\n",
    "\n"
   ]
  },
  {
   "cell_type": "code",
   "execution_count": 24,
   "id": "15645ef6",
   "metadata": {},
   "outputs": [
    {
     "name": "stdout",
     "output_type": "stream",
     "text": [
      "Not anagrams\n"
     ]
    }
   ],
   "source": [
    "\n",
    "w1 = \"tea\"\n",
    "# w2 = \"eat\"\n",
    "w2 = \"tee\"\n",
    "\n",
    "if sorted(w1) == sorted(w2) : \n",
    "    print(\"Anagrams\")\n",
    "else : \n",
    "    print(\"Not anagrams\")\n"
   ]
  },
  {
   "cell_type": "code",
   "execution_count": 25,
   "id": "d48f2eaa",
   "metadata": {},
   "outputs": [
    {
     "name": "stdout",
     "output_type": "stream",
     "text": [
      "Not Anagrams\n"
     ]
    }
   ],
   "source": [
    "\n",
    "w1 = \"tea\"\n",
    "# w2 = \"eat\"\n",
    "w2 = \"tee\"\n",
    "\n",
    "expression = \"Anagrams\" if sorted(w1) == sorted(w2) else \"Not Anagrams\"\n",
    "print( expression ) "
   ]
  },
  {
   "cell_type": "code",
   "execution_count": 33,
   "id": "c8097b94",
   "metadata": {},
   "outputs": [
    {
     "name": "stdout",
     "output_type": "stream",
     "text": [
      "PYTHON\n"
     ]
    }
   ],
   "source": [
    "# Convert the word to uppercase if @ is there inside the word else convert to lower case\n",
    "# string = \"p@yTHoN\" : \"PYTHON\"\n",
    "# string = \"pyTHoN\" : \"python\"\n",
    "\n",
    "word = \"p@yTHoN\"\n",
    "\n",
    "if \"@\" in word : \n",
    "    print(word.replace(\"@\", \"\").upper())\n",
    "\n",
    "else : \n",
    "    print(word.lower())\n",
    "\n"
   ]
  },
  {
   "cell_type": "code",
   "execution_count": 31,
   "id": "87222713",
   "metadata": {},
   "outputs": [
    {
     "data": {
      "text/plain": [
       "'OLA WORLD'"
      ]
     },
     "execution_count": 31,
     "metadata": {},
     "output_type": "execute_result"
    }
   ],
   "source": [
    "myString = \"hello world\"\n",
    "myString.replace(\"hello\", \"ola\").upper()"
   ]
  },
  {
   "cell_type": "code",
   "execution_count": 35,
   "id": "1012a58d",
   "metadata": {},
   "outputs": [
    {
     "name": "stdout",
     "output_type": "stream",
     "text": [
      "python\n"
     ]
    }
   ],
   "source": [
    "word = \"pyTHoN\"\n",
    "\n",
    "expp = word.replace(\"@\", \"\").upper() if \"@\" in word else word.lower()\n",
    "print(expp)"
   ]
  },
  {
   "cell_type": "code",
   "execution_count": null,
   "id": "30dc74a3",
   "metadata": {},
   "outputs": [],
   "source": []
  },
  {
   "cell_type": "code",
   "execution_count": 40,
   "id": "71e5bc21",
   "metadata": {},
   "outputs": [
    {
     "name": "stdout",
     "output_type": "stream",
     "text": [
      "50\n",
      "50\n"
     ]
    }
   ],
   "source": [
    "# Find which number is greater out if num1 and num2\n",
    "\n",
    "num1 = 50\n",
    "num2 = 10\n",
    "\n",
    "if num1 > num2 : \n",
    "    print(num1)\n",
    "else : \n",
    "    print(num2)\n",
    "\n",
    "res = num1 if num1 > num2 else num2\n",
    "print(res)"
   ]
  },
  {
   "cell_type": "code",
   "execution_count": 45,
   "id": "a81b83ab",
   "metadata": {},
   "outputs": [
    {
     "name": "stdout",
     "output_type": "stream",
     "text": [
      "10 is greater than 5\n",
      "10 is greater than 5\n"
     ]
    }
   ],
   "source": [
    "# Find which number is greater out if num1 and num2\n",
    "\n",
    "num1 = 5\n",
    "num2 = 10\n",
    "\n",
    "if num1 > num2 : \n",
    "    print(f\"{num1} is greater than {num2}\")\n",
    "else : \n",
    "    print(f\"{num2} is greater than {num1}\")\n",
    "\n",
    "res = f\"{num1} is greater than {num2}\" if num1 > num2 else f\"{num2} is greater than {num1}\"\n",
    "print(res)"
   ]
  },
  {
   "cell_type": "code",
   "execution_count": 50,
   "id": "57163b66",
   "metadata": {},
   "outputs": [
    {
     "name": "stdout",
     "output_type": "stream",
     "text": [
      "10 is greater than 1\n",
      "10 is greater than 1\n"
     ]
    }
   ],
   "source": [
    "# Find which number is greater out if num1 and num2\n",
    "\n",
    "num1 = 1\n",
    "num2 = 10\n",
    "\n",
    "if num1 > num2 : \n",
    "    print(f\"{num1} is greater than {num2}\")\n",
    "elif num2 > num1 : \n",
    "    print(f\"{num2} is greater than {num1}\")\n",
    "else : \n",
    "    print(\"Both are Equal\")\n",
    "    \n",
    "res = f\"{num1} is greater than {num2}\" if num1 > num2 else ( f\"{num2} is greater than {num1}\" if num2 > num1 else \"Both are Equal\"  )\n",
    "print(res)"
   ]
  },
  {
   "cell_type": "code",
   "execution_count": null,
   "id": "2e847fa5",
   "metadata": {},
   "outputs": [],
   "source": [
    "## find the digits if entire word is numbers, find the chaacters if entire word is alphabets else find the count of spaces.\n",
    "\n",
    "input = \"5478\", output : 4 # count digits\n",
    "input = \"ftyghj\", output : 6 #count alphabets\n",
    "input = \"vfjh %^&* 5478\", output : 2 # count spaces\n",
    "\n",
    "\n"
   ]
  },
  {
   "cell_type": "code",
   "execution_count": null,
   "id": "d36231d0",
   "metadata": {},
   "outputs": [],
   "source": [
    "## find the digits if entire word is numbers, \n",
    "# convert word to upper if entire word is alphabets \n",
    "# else convert it to title format.\n",
    "\n",
    "input = \"5478\", output : 4 # count digits\n",
    "input = \"ftyghj\", output : 6 #count alphabets\n",
    "input = \"vfjh %^&* 5478\", output : 2 # count spaces\n",
    "\n",
    "\n"
   ]
  },
  {
   "cell_type": "code",
   "execution_count": null,
   "id": "1700db6f",
   "metadata": {},
   "outputs": [],
   "source": []
  },
  {
   "cell_type": "code",
   "execution_count": null,
   "id": "674f7921",
   "metadata": {},
   "outputs": [],
   "source": []
  },
  {
   "cell_type": "code",
   "execution_count": null,
   "id": "d76f1621",
   "metadata": {},
   "outputs": [],
   "source": []
  },
  {
   "cell_type": "code",
   "execution_count": null,
   "id": "0fc28bb1",
   "metadata": {},
   "outputs": [],
   "source": []
  },
  {
   "cell_type": "code",
   "execution_count": null,
   "id": "cc448289",
   "metadata": {},
   "outputs": [],
   "source": []
  },
  {
   "cell_type": "code",
   "execution_count": null,
   "id": "9037a8ff",
   "metadata": {},
   "outputs": [],
   "source": []
  },
  {
   "cell_type": "code",
   "execution_count": null,
   "id": "ef4f8f44",
   "metadata": {},
   "outputs": [],
   "source": []
  },
  {
   "cell_type": "code",
   "execution_count": null,
   "id": "5e0da186",
   "metadata": {},
   "outputs": [],
   "source": []
  },
  {
   "cell_type": "code",
   "execution_count": null,
   "id": "b5f33cd7",
   "metadata": {},
   "outputs": [],
   "source": []
  },
  {
   "cell_type": "code",
   "execution_count": null,
   "id": "b33dc33c",
   "metadata": {},
   "outputs": [],
   "source": []
  }
 ],
 "metadata": {
  "kernelspec": {
   "display_name": "Python 3 (ipykernel)",
   "language": "python",
   "name": "python3"
  },
  "language_info": {
   "codemirror_mode": {
    "name": "ipython",
    "version": 3
   },
   "file_extension": ".py",
   "mimetype": "text/x-python",
   "name": "python",
   "nbconvert_exporter": "python",
   "pygments_lexer": "ipython3",
   "version": "3.9.13"
  }
 },
 "nbformat": 4,
 "nbformat_minor": 5
}

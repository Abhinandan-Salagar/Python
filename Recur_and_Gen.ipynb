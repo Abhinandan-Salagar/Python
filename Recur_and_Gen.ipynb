{
 "cells": [
  {
   "cell_type": "code",
   "execution_count": 2,
   "metadata": {},
   "outputs": [
    {
     "data": {
      "text/plain": [
       "120"
      ]
     },
     "execution_count": 2,
     "metadata": {},
     "output_type": "execute_result"
    }
   ],
   "source": [
    "#Recursion \n",
    "\n",
    "def find_fact(n):\n",
    "    if n==1:\n",
    "        return 1\n",
    "    else:\n",
    "        return n*find_fact(n-1)\n",
    "find_fact(5)"
   ]
  },
  {
   "cell_type": "code",
   "execution_count": null,
   "metadata": {},
   "outputs": [],
   "source": [
    "# Generator\n",
    "\n",
    "def gen_fun():\n",
    "    yield \"start\"\n",
    "    print(\"10\")\n",
    "    yield \"first print\"\n",
    "    print(\"20\")\n",
    "    yield \"Second print\"\n",
    "g=gen_fun()\n",
    "print(next(g))\n",
    "print(next(g))\n",
    "print(next(g))\n"
   ]
  },
  {
   "cell_type": "code",
   "execution_count": 12,
   "metadata": {},
   "outputs": [
    {
     "name": "stdout",
     "output_type": "stream",
     "text": [
      "0\n",
      "1\n",
      "1\n",
      "2\n",
      "3\n",
      "\n",
      "Using for in loop\n",
      "0\n",
      "1\n",
      "1\n",
      "2\n",
      "3\n"
     ]
    }
   ],
   "source": [
    "# A simple generator for Fibonacci Numbers\n",
    "def fib(limit):\n",
    "\n",
    "    # Initialize first two Fibonacci Numbers\n",
    "    a, b = 0, 1\n",
    "\n",
    "    # One by one yield next Fibonacci Number\n",
    "    while a < limit:\n",
    "        yield a\n",
    "        a, b = b, a + b\n",
    "\n",
    "\n",
    "# Create a generator object\n",
    "x = fib(5)\n",
    "\n",
    "# Iterating over the generator object using next\n",
    "print(next(x))  # In Python 3, __next__()\n",
    "print(next(x))\n",
    "print(next(x))\n",
    "print(next(x))\n",
    "print(next(x))\n",
    "\n",
    "# Iterating over the generator object using for\n",
    "# in loop.\n",
    "print(\"\\nUsing for in loop\")\n",
    "for i in fib(5):\n",
    "    print(i)\n"
   ]
  }
 ],
 "metadata": {
  "kernelspec": {
   "display_name": "base",
   "language": "python",
   "name": "python3"
  },
  "language_info": {
   "codemirror_mode": {
    "name": "ipython",
    "version": 3
   },
   "file_extension": ".py",
   "mimetype": "text/x-python",
   "name": "python",
   "nbconvert_exporter": "python",
   "pygments_lexer": "ipython3",
   "version": "3.9.13"
  },
  "orig_nbformat": 4
 },
 "nbformat": 4,
 "nbformat_minor": 2
}

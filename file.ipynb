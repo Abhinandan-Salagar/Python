{
 "cells": [
  {
   "cell_type": "code",
   "execution_count": 40,
   "metadata": {},
   "outputs": [
    {
     "name": "stdout",
     "output_type": "stream",
     "text": [
      "3\n",
      "4\n",
      "0\n",
      "12\n",
      "0\n",
      "10\n",
      "0\n",
      "20\n",
      "0\n",
      "23\n",
      "27\n",
      "0\n",
      "33\n",
      "0\n",
      "37\n",
      "40\n",
      "0\n"
     ]
    },
    {
     "data": {
      "text/plain": [
       "[3, 23, 37]"
      ]
     },
     "execution_count": 40,
     "metadata": {},
     "output_type": "execute_result"
    }
   ],
   "source": [
    "# 1 way\n",
    "n=[3,4,12,10,20,23,27,33,37,40]\n",
    "ls=[]\n",
    "for num in n: \n",
    " \n",
    "    for i in range(2,num):\n",
    "        if num%i==0: #4/2=0,4/3\n",
    "            print(num%i)\n",
    "            break         # 3\n",
    "    else:\n",
    "         ls.append(num)\n",
    "ls"
   ]
  },
  {
   "cell_type": "code",
   "execution_count": 3,
   "metadata": {},
   "outputs": [
    {
     "name": "stdout",
     "output_type": "stream",
     "text": [
      "3\n",
      "23\n",
      "37\n"
     ]
    }
   ],
   "source": [
    "# 2 way\n",
    "n = [3, 57, 12, 10, 20, 23, 27, 33, 37, 40]\n",
    "def prime_num():\n",
    "    #ls=[]\n",
    "    for num in n: \n",
    "        for i in range(2,num):\n",
    "            if num%i==0:\n",
    "                break\n",
    "        else:\n",
    "            print(num)\n",
    "            #ls.append(num)       \n",
    "    #return num\n",
    "prime_num()\n"
   ]
  },
  {
   "cell_type": "markdown",
   "metadata": {},
   "source": [
    "# list comhrensation"
   ]
  },
  {
   "cell_type": "code",
   "execution_count": null,
   "metadata": {},
   "outputs": [],
   "source": [
    "# 1 req\n",
    "n = [3, 57, 12, 10, 20, 23, 27, 33, 37, 40]\n",
    "for i in n:\n",
    "    print(i)\n",
    "\n",
    "lc1=[i for i in n]\n",
    "lc1"
   ]
  },
  {
   "cell_type": "code",
   "execution_count": 43,
   "metadata": {},
   "outputs": [
    {
     "data": {
      "text/plain": [
       "[12, 10, 20, 40]"
      ]
     },
     "execution_count": 43,
     "metadata": {},
     "output_type": "execute_result"
    }
   ],
   "source": [
    "for i in n:\n",
    "    if i%2==0:\n",
    "        print(i)\n",
    "lc2=[i for i in n if i%2==0]\n",
    "lc2"
   ]
  },
  {
   "cell_type": "code",
   "execution_count": 44,
   "metadata": {},
   "outputs": [
    {
     "data": {
      "text/plain": [
       "['odd', 'odd', 'even', 'even', 'even', 'odd', 'odd', 'odd', 'odd', 'even']"
      ]
     },
     "execution_count": 44,
     "metadata": {},
     "output_type": "execute_result"
    }
   ],
   "source": [
    "lc3=[ \"even\" if i%2==0 else \"odd\" for i in n]\n",
    "lc3"
   ]
  },
  {
   "cell_type": "code",
   "execution_count": 6,
   "metadata": {},
   "outputs": [
    {
     "data": {
      "text/plain": [
       "[3, 23, 37]"
      ]
     },
     "execution_count": 6,
     "metadata": {},
     "output_type": "execute_result"
    }
   ],
   "source": [
    "n = [3, 57, 12, 10, 20, 23, 27, 33, 37, 40]\n",
    "\n",
    "def pr_no():\n",
    "    for num in n:\n",
    "        for i in range(2,num):\n",
    "         if num%i==0: #4/2=0,4/3\n",
    "            print(num%i)\n",
    "            break    \n",
    "             # 3\n",
    "        else:\n",
    "            ls.append(num)\n",
    "    \n",
    "lc=lambda num:[num for num in n if all(num % i !=0 for i in range(2,num))]  \n",
    "lc(n)\n"
   ]
  },
  {
   "cell_type": "code",
   "execution_count": 46,
   "metadata": {},
   "outputs": [
    {
     "data": {
      "text/plain": [
       "[2, 3, 5, 7, 11, 13, 17, 19]"
      ]
     },
     "execution_count": 46,
     "metadata": {},
     "output_type": "execute_result"
    }
   ],
   "source": [
    "[x for x in range(2, 20)\n",
    " if all(x % y for y in range(2, x//2))]\n",
    "[2, 3, 5, 7, 11, 13, 17, 19]\n"
   ]
  },
  {
   "cell_type": "markdown",
   "metadata": {},
   "source": [
    "# lambda fun"
   ]
  },
  {
   "cell_type": "code",
   "execution_count": 47,
   "metadata": {},
   "outputs": [
    {
     "name": "stdout",
     "output_type": "stream",
     "text": [
      "[3, 23, 37]\n"
     ]
    }
   ],
   "source": [
    "n = [3, 57, 12, 10, 20, 23, 27, 33, 37, 40]\n",
    "lf=lambda i:[i for i in n if all(i % j !=0 for j in range(2,i))]\n",
    "print(list(lf(n)))"
   ]
  },
  {
   "cell_type": "code",
   "execution_count": 1,
   "metadata": {},
   "outputs": [
    {
     "name": "stdout",
     "output_type": "stream",
     "text": [
      "7\n"
     ]
    }
   ],
   "source": [
    "def sum(a,b):\n",
    "    res=a+b\n",
    "    print(res)\n",
    "sum(2,5)"
   ]
  },
  {
   "cell_type": "code",
   "execution_count": 5,
   "metadata": {},
   "outputs": [
    {
     "name": "stdout",
     "output_type": "stream",
     "text": [
      "Even Numbers : [12, 10, 20, 40]\n",
      "Odd Numbers : [3, 57, 23, 27, 33, 37]\n"
     ]
    }
   ],
   "source": [
    "from itertools import filterfalse\n",
    "n = [3, 57, 12, 10, 20, 23, 27, 33, 37, 40]\n",
    "def even_odd(i):\n",
    "    if i%2==0:\n",
    "        return True\n",
    "    else:\n",
    "        return False\n",
    "e=list(filter(even_odd,n))\n",
    "print(\"Even Numbers :\",e)\n",
    "o=list(filterfalse(even_odd,n))\n",
    "print(\"Odd Numbers :\",o)"
   ]
  },
  {
   "cell_type": "code",
   "execution_count": 6,
   "metadata": {},
   "outputs": [
    {
     "data": {
      "text/plain": [
       "[None, None, 6.0, 5.0, 10.0, None, None, None, None, 20.0]"
      ]
     },
     "execution_count": 6,
     "metadata": {},
     "output_type": "execute_result"
    }
   ],
   "source": [
    "n = [3, 57, 12, 10, 20, 23, 27, 33, 37, 40]\n",
    "def even_num(i):\n",
    "    if i%2==0:\n",
    "        return i*0.5\n",
    "m=list(map(even_num,n))\n",
    "m"
   ]
  },
  {
   "cell_type": "code",
   "execution_count": null,
   "metadata": {},
   "outputs": [],
   "source": []
  },
  {
   "cell_type": "code",
   "execution_count": null,
   "metadata": {},
   "outputs": [],
   "source": []
  }
 ],
 "metadata": {
  "kernelspec": {
   "display_name": "base",
   "language": "python",
   "name": "python3"
  },
  "language_info": {
   "codemirror_mode": {
    "name": "ipython",
    "version": 3
   },
   "file_extension": ".py",
   "mimetype": "text/x-python",
   "name": "python",
   "nbconvert_exporter": "python",
   "pygments_lexer": "ipython3",
   "version": "3.9.13"
  },
  "orig_nbformat": 4
 },
 "nbformat": 4,
 "nbformat_minor": 2
}

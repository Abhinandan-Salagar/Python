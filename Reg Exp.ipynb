{
 "cells": [
  {
   "cell_type": "code",
   "execution_count": 2,
   "id": "fb6b509f",
   "metadata": {},
   "outputs": [
    {
     "name": "stdout",
     "output_type": "stream",
     "text": [
      "['9874545452']\n",
      "['011-84521476']\n"
     ]
    }
   ],
   "source": [
    "# Extract the Mobil number\n",
    "\n",
    "msg = \"\"\"A customer buys product from ABC company where you can reach via company@gmail.com and company@yahoo.in \n",
    "            also you can connect via 9874545452 and 011-84521476\"\"\"\n",
    "\n",
    "import re\n",
    "res = re.findall( r\"\\b\\d{10}\\b\" , msg)\n",
    "print(res)\n",
    "\n",
    "res = re.findall( r\"\\b\\d{3}-\\d{8}\\b\" , msg)\n",
    "print(res)\n"
   ]
  },
  {
   "cell_type": "code",
   "execution_count": null,
   "id": "ba99c189",
   "metadata": {},
   "outputs": [],
   "source": [
    "9874545452\n",
    "\\d\\d\\d\\d\\d\\d\\d\\d\\d\\d\\d"
   ]
  },
  {
   "cell_type": "code",
   "execution_count": 19,
   "id": "47d312a8",
   "metadata": {},
   "outputs": [
    {
     "name": "stdout",
     "output_type": "stream",
     "text": [
      "['customer', 'product', 'company', 'where', 'reach', 'company', 'gmail', 'nitish', 'yahoo', 'connect', '9874545452', '84521476']\n",
      "['customer', 'product', 'company', 'where', 'reach', 'company', 'gmail', 'nitish', 'yahoo', 'connect', '9874545452', '84521476']\n",
      "['customer', 'product', 'company', 'company@', 'nitish@', 'connect', '9874545452', '-84521476']\n",
      "[' customer ', ' product ', ' company ', ' reach ', ' connect ', ' 9874545452 ']\n"
     ]
    }
   ],
   "source": [
    "# Extract the words that are minimum 5-letter length **\n",
    "\n",
    "msg = \"\"\"A customer buys product from ABC company where you can reach via company@gmail.com and nitish@yahoo.in \n",
    "            also you can connect via 9874545452 and 011-84521476\"\"\"\n",
    "\n",
    "import re\n",
    "res = re.findall( r\"\\w{5,}\" , msg)\n",
    "print(res)\n",
    "\n",
    "res = re.findall( r\"\\b\\w{5,}\\b\" , msg)\n",
    "print(res)\n",
    "\n",
    "res = re.findall( r\"\\S\\w{5,}\\S\" , msg)\n",
    "print(res)\n",
    "\n",
    "res = re.findall( r\"\\s\\w{5,}\\s\" , msg)\n",
    "print(res)\n"
   ]
  },
  {
   "cell_type": "code",
   "execution_count": 20,
   "id": "0d794813",
   "metadata": {},
   "outputs": [
    {
     "name": "stdout",
     "output_type": "stream",
     "text": [
      "['A', '', 'customer', '', 'buys', '', 'product', '', 'from', '', 'ABC', '', 'company', '', 'where', '', 'you', '', 'can', '', 'reach', '', 'via', '', 'company', '', 'gmail', '', 'com', '', 'and', '', 'company', '', 'yahoo', '', 'in', '', '', '', '', '', '', '', '', '', '', '', '', '', '', 'also', '', 'you', '', 'can', '', 'connect', '', 'via', '', '9874545452', '', 'and', '', '011', '', '84521476', '']\n",
      "['A', 'customer', 'buys', 'product', 'from', 'ABC', 'company', 'where', 'you', 'can', 'reach', 'via', 'company', 'gmail', 'com', 'and', 'company', 'yahoo', 'in', 'also', 'you', 'can', 'connect', 'via', '9874545452', 'and', '011', '84521476']\n"
     ]
    }
   ],
   "source": [
    "# Extract the words that are maximum 10-letter length\n",
    "\n",
    "msg = \"\"\"A customer buys product from ABC company where you can reach via company@gmail.com and company@yahoo.in \n",
    "            also you can connect via 9874545452 and 011-84521476\"\"\"\n",
    "\n",
    "import re\n",
    "res = re.findall( r\"\\w{,10}\" , msg)\n",
    "print(res)\n",
    "\n",
    "res = re.findall( r\"\\w{1,10}\" , msg)\n",
    "print(res)\n"
   ]
  },
  {
   "cell_type": "code",
   "execution_count": 64,
   "id": "9cb1922f",
   "metadata": {},
   "outputs": [
    {
     "name": "stdout",
     "output_type": "stream",
     "text": [
      "['company', 'company', 'company']\n",
      "[]\n",
      "[]\n",
      "[]\n",
      "______ No Pattern Matching _____\n"
     ]
    }
   ],
   "source": [
    "# Extract the words that end with 'y' **\n",
    "\n",
    "msg = \"\"\"A customer buys product from ABC company where you can reach via company@gmail.com and company@yahoo.in \n",
    "            also you can connect via 9874545452 and 011-84521476\"\"\"\n",
    "import re\n",
    "res = re.findall( r\"\\b\\w{1,}y\\b\" , msg)\n",
    "print(res)\n",
    "\n",
    "res = re.findall( r\"y\\Z\" , msg)\n",
    "print(res)\n",
    "\n",
    "res = re.findall( r\"[y]\\Z\" , msg)\n",
    "print(res)\n",
    "\n",
    "\n",
    "res = re.findall( r\"y$\" , msg)\n",
    "print(res)\n",
    "\n",
    "if res : \n",
    "    print('Matching Patterns : ', res)\n",
    "else : \n",
    "    print(\"______ No Pattern Matching _____\")\n",
    "\n",
    "\n"
   ]
  },
  {
   "cell_type": "code",
   "execution_count": null,
   "id": "c9d9f81e",
   "metadata": {},
   "outputs": [],
   "source": [
    "company\n",
    "______y"
   ]
  },
  {
   "cell_type": "code",
   "execution_count": null,
   "id": "256b95e8",
   "metadata": {},
   "outputs": [],
   "source": []
  },
  {
   "cell_type": "code",
   "execution_count": null,
   "id": "455f4396",
   "metadata": {},
   "outputs": [],
   "source": [
    "# Extract the words that 3-letter word\n",
    "\n",
    "msg = \"\"\"A customer buys product from ABC company where you can reach via company@gmail.com and company@yahoo.in \n",
    "            also you can connect via 9874545452 and 011-84521476\"\"\"\n",
    "\n"
   ]
  },
  {
   "cell_type": "code",
   "execution_count": null,
   "id": "10e4ed89",
   "metadata": {},
   "outputs": [],
   "source": []
  },
  {
   "cell_type": "code",
   "execution_count": 34,
   "id": "ad494fd6",
   "metadata": {},
   "outputs": [
    {
     "name": "stdout",
     "output_type": "stream",
     "text": [
      "['company@gmail.com', 'company@yahoo.in']\n"
     ]
    }
   ],
   "source": [
    "# Extract the Email Address\n",
    "\n",
    "msg = \"\"\"A customer buys product from ABC company where you can reach via company@gmail.com and company@yahoo.in \n",
    "            also you can connect via 9874545452 and 011-84521476\"\"\"\n",
    "\n",
    "import re\n",
    "\n",
    "res = re.findall( r\"\\w{1,}@\\w{1,}.\\w{1,}\" , msg)\n",
    "print(res)\n",
    "\n"
   ]
  },
  {
   "cell_type": "code",
   "execution_count": null,
   "id": "e1c332fc",
   "metadata": {},
   "outputs": [],
   "source": [
    "company@gmail.com\n",
    "\\w_____@\\w__.\\w___"
   ]
  },
  {
   "cell_type": "code",
   "execution_count": null,
   "id": "c5946f89",
   "metadata": {},
   "outputs": [],
   "source": [
    "company@yahoo.in \n",
    "\\w_____@\\w__.\\w___"
   ]
  },
  {
   "cell_type": "code",
   "execution_count": 44,
   "id": "a765ab41",
   "metadata": {},
   "outputs": [
    {
     "name": "stdout",
     "output_type": "stream",
     "text": [
      "['wherE', 'you', 'via', 'yahoo', 'also', 'you', 'viA']\n"
     ]
    }
   ],
   "source": [
    "# Extract that ends with vowels\n",
    "\n",
    "msg = \"\"\"A customer buys product from ABC company wherE you can reach via company@gmail.com and company@yahoo.in \n",
    "            also you can connect viA 9874545452 and 011-84521476\"\"\"\n",
    "\n",
    "import re\n",
    "\n",
    "res = re.findall( r\"\\b\\w{1,}[aeiouAEIOU]\\b\" , msg)\n",
    "print(res)\n",
    "\n"
   ]
  },
  {
   "cell_type": "code",
   "execution_count": 51,
   "id": "2e6b5208",
   "metadata": {},
   "outputs": [
    {
     "name": "stdout",
     "output_type": "stream",
     "text": [
      "['book', 'back', 'banking']\n",
      "['cook', 'chowk']\n",
      "['cook', 'book', 'back', 'chowk', 'banking']\n",
      "[' look', ' took', ' ook']\n"
     ]
    }
   ],
   "source": [
    "## Extract the words that start with b or c \n",
    "\n",
    "data = \"cook book look took back ook chowk banking\"\n",
    "\n",
    "res = re.findall( r\"\\bb\\w{1,}\\b\" , data)\n",
    "print(res)\n",
    "\n",
    "res = re.findall( r\"\\bc\\w{1,}\\b\" , data)\n",
    "print(res)\n",
    "\n",
    "res = re.findall( r\"\\b[bc]\\w{1,}\\b\" , data)\n",
    "print(res)\n",
    "\n",
    "res = re.findall( r\"\\s[^bc]\\w{1,}\\b\" , data) #Exclude b c\n",
    "print(res)\n",
    "\n"
   ]
  },
  {
   "cell_type": "code",
   "execution_count": 57,
   "id": "47757ea3",
   "metadata": {},
   "outputs": [
    {
     "name": "stdout",
     "output_type": "stream",
     "text": [
      "['cook', 'book', 'back']\n",
      "Matching Patterns :  ['cook', 'book', 'back']\n"
     ]
    }
   ],
   "source": [
    "## Extract the words that start with b or c \n",
    "# It is 4-letter long\n",
    "\n",
    "data = \"cook book look took back ook chowk banking\"\n",
    "\n",
    "res = re.findall( r\"\\b[bc]\\w{3}\\b\" , data)\n",
    "print(res)\n",
    "\n",
    "if res : \n",
    "    print('Matching Patterns : ', res)\n",
    "else : \n",
    "    print(\"______ No Pattern Matching _____\")\n",
    "\n"
   ]
  },
  {
   "cell_type": "code",
   "execution_count": null,
   "id": "18630c9d",
   "metadata": {},
   "outputs": [],
   "source": []
  },
  {
   "cell_type": "markdown",
   "id": "ddd3d62a",
   "metadata": {},
   "source": [
    "### 2. Match\n",
    "\n",
    "- return the word if pattern matches at the beginning on the string ONLY, else None is returned\n",
    "- you have to use .group() method\n"
   ]
  },
  {
   "cell_type": "code",
   "execution_count": 62,
   "id": "fafdee2d",
   "metadata": {},
   "outputs": [
    {
     "name": "stdout",
     "output_type": "stream",
     "text": [
      "<re.Match object; span=(0, 4), match='cook'>\n",
      "Matching Patterns :  cook\n"
     ]
    }
   ],
   "source": [
    "data = \"cook book look took back ook chowk banking\"\n",
    "\n",
    "import re\n",
    "res = re.match( r\"c\\w{1,}\\b\" , data)\n",
    "print(res)\n",
    "\n",
    "if res : \n",
    "    print('Matching Patterns : ', res.group())\n",
    "else : \n",
    "    print(\"______ No Pattern Matching _____\")\n"
   ]
  },
  {
   "cell_type": "code",
   "execution_count": 66,
   "id": "f209d341",
   "metadata": {},
   "outputs": [
    {
     "name": "stdout",
     "output_type": "stream",
     "text": [
      "[]\n",
      "______ No Pattern Matching _____\n"
     ]
    }
   ],
   "source": [
    "data = \"cook book look took back ook chowk banking\"\n",
    "\n",
    "import re\n",
    "res = re.findall( r\"^c\\w{1,}\" , data)\n",
    "print(res)\n",
    "\n",
    "if res : \n",
    "    print('Matching Patterns : ', res)\n",
    "else : \n",
    "    print(\"______ No Pattern Matching _____\")\n"
   ]
  },
  {
   "cell_type": "code",
   "execution_count": 60,
   "id": "35acc236",
   "metadata": {},
   "outputs": [
    {
     "name": "stdout",
     "output_type": "stream",
     "text": [
      "______ No Pattern Matching _____\n"
     ]
    }
   ],
   "source": [
    "data = \"cook book look took back ook chowk banking\"\n",
    "\n",
    "import re\n",
    "res = re.match( r\"b\\w{1,}\\b\" , data)\n",
    "\n",
    "if res : \n",
    "    print('Matching Patterns : ', res.group())\n",
    "else : \n",
    "    print(\"______ No Pattern Matching _____\")\n"
   ]
  },
  {
   "cell_type": "markdown",
   "id": "f67d2b30",
   "metadata": {},
   "source": [
    "### 3. Search\n",
    "\n",
    "- return the FIRST word if pattern matches in the string, else None is returned\n",
    "- you have to use .group() method\n"
   ]
  },
  {
   "cell_type": "code",
   "execution_count": 63,
   "id": "452e1ec0",
   "metadata": {},
   "outputs": [
    {
     "name": "stdout",
     "output_type": "stream",
     "text": [
      "<re.Match object; span=(5, 9), match='book'>\n",
      "Matching Patterns :  book\n"
     ]
    }
   ],
   "source": [
    "data = \"cook book look took back ook chowk banking\"\n",
    "\n",
    "import re\n",
    "res = re.search( r\"b\\w{1,}\\b\" , data)\n",
    "print(res)\n",
    "\n",
    "if res : \n",
    "    print('Matching Patterns : ', res.group())\n",
    "else : \n",
    "    print(\"______ No Pattern Matching _____\")\n"
   ]
  },
  {
   "cell_type": "code",
   "execution_count": null,
   "id": "f1704046",
   "metadata": {},
   "outputs": [],
   "source": []
  },
  {
   "cell_type": "code",
   "execution_count": 69,
   "id": "af106a6a",
   "metadata": {},
   "outputs": [
    {
     "name": "stdout",
     "output_type": "stream",
     "text": [
      "this is python and machine learning batch\n"
     ]
    },
    {
     "data": {
      "text/plain": [
       "'this is python and machine learning batch'"
      ]
     },
     "execution_count": 69,
     "metadata": {},
     "output_type": "execute_result"
    }
   ],
   "source": [
    "# 4. substitute : \n",
    "# re.sub(oldString, newString, stringName)\n",
    "\n",
    "data = \"this is python and data science batch\"\n",
    "\n",
    "# replace data science by machine learning\n",
    "\n",
    "output = data.replace( \"data science\", \"machine learning\" )\n",
    "print(output)\n",
    "\n",
    "import re\n",
    "re.sub(\"data science\", \"machine learning\", data)\n",
    "\n"
   ]
  },
  {
   "cell_type": "code",
   "execution_count": null,
   "id": "0ab6890d",
   "metadata": {},
   "outputs": [],
   "source": []
  },
  {
   "cell_type": "code",
   "execution_count": 72,
   "id": "e4c4b27b",
   "metadata": {},
   "outputs": [
    {
     "data": {
      "text/plain": [
       "'A customer buys product from ABC company where you can reach via company@gmail.com and nitish@yahoo.in \\n            also you can connect via **********, ********** and 011-84521476'"
      ]
     },
     "execution_count": 72,
     "metadata": {},
     "output_type": "execute_result"
    }
   ],
   "source": [
    "msg = \"\"\"A customer buys product from ABC company where you can reach via company@gmail.com and nitish@yahoo.in \n",
    "            also you can connect via 9874545452, 9870000452 and 011-84521476\"\"\"\n",
    "# Mask the mobile numbers\n",
    "# Mask the Email Address\n",
    "\n",
    "re.sub( r\"\\d{10}\", \"*\"*10 , msg)\n",
    "\n"
   ]
  },
  {
   "cell_type": "code",
   "execution_count": null,
   "id": "c8870961",
   "metadata": {},
   "outputs": [],
   "source": [
    "# 5. split\n",
    "# re.split(pattern, stringName)\n",
    "\n",
    "# string split"
   ]
  },
  {
   "cell_type": "code",
   "execution_count": null,
   "id": "89db76d4",
   "metadata": {},
   "outputs": [],
   "source": []
  },
  {
   "cell_type": "code",
   "execution_count": null,
   "id": "61ecd38c",
   "metadata": {},
   "outputs": [],
   "source": []
  },
  {
   "cell_type": "code",
   "execution_count": 9,
   "id": "eda404b0",
   "metadata": {},
   "outputs": [
    {
     "name": "stdout",
     "output_type": "stream",
     "text": [
      "['ai', 'ai']\n"
     ]
    }
   ],
   "source": [
    "import re\n",
    "\n",
    "txt = \"The rain in Spain\"\n",
    "x = re.findall(\"ai\", txt)\n",
    "print(x)"
   ]
  },
  {
   "cell_type": "code",
   "execution_count": 10,
   "id": "3cfca917",
   "metadata": {},
   "outputs": [
    {
     "name": "stdout",
     "output_type": "stream",
     "text": [
      "[]\n"
     ]
    }
   ],
   "source": [
    "import re\n",
    "\n",
    "txt = \"The rain in Spain\"\n",
    "x = re.findall(\"port\", txt)\n",
    "print(x)"
   ]
  },
  {
   "cell_type": "code",
   "execution_count": 1,
   "id": "a065b2fe",
   "metadata": {},
   "outputs": [
    {
     "name": "stdout",
     "output_type": "stream",
     "text": [
      "(12, 17)\n"
     ]
    }
   ],
   "source": [
    "import re\n",
    "\n",
    "txt = \"The rain in Spain\"\n",
    "x = re.search(r\"\\bS\\w+\", txt)\n",
    "print(x.span())"
   ]
  },
  {
   "cell_type": "code",
   "execution_count": 2,
   "id": "a0ea4737",
   "metadata": {},
   "outputs": [
    {
     "name": "stdout",
     "output_type": "stream",
     "text": [
      "The rain in Spain\n"
     ]
    }
   ],
   "source": [
    "import re\n",
    "\n",
    "txt = \"The rain in Spain\"\n",
    "x = re.search(r\"\\bS\\w+\", txt)\n",
    "print(x.string)"
   ]
  },
  {
   "cell_type": "code",
   "execution_count": 3,
   "id": "bb21b81c",
   "metadata": {},
   "outputs": [
    {
     "name": "stdout",
     "output_type": "stream",
     "text": [
      "Spain\n"
     ]
    }
   ],
   "source": [
    "import re\n",
    "\n",
    "txt = \"The rain in Spain\"\n",
    "x = re.search(r\"\\bS\\w+\", txt)\n",
    "print(x.group())"
   ]
  },
  {
   "cell_type": "code",
   "execution_count": 8,
   "id": "0811be4a",
   "metadata": {},
   "outputs": [
    {
     "name": "stdout",
     "output_type": "stream",
     "text": [
      "None\n"
     ]
    }
   ],
   "source": [
    "import re\n",
    "\n",
    "txt = \"The rain in Spain\"\n",
    "x = re.search(\"Portugal\", txt)\n",
    "print(x)"
   ]
  },
  {
   "cell_type": "code",
   "execution_count": 4,
   "id": "c76f047b",
   "metadata": {},
   "outputs": [
    {
     "name": "stdout",
     "output_type": "stream",
     "text": [
      "The9rain9in Spain\n"
     ]
    }
   ],
   "source": [
    "import re\n",
    "\n",
    "txt = \"The rain in Spain\"\n",
    "x = re.sub(\"\\s\", \"9\", txt, 2)\n",
    "print(x)"
   ]
  },
  {
   "cell_type": "code",
   "execution_count": 7,
   "id": "c408cd5b",
   "metadata": {},
   "outputs": [
    {
     "name": "stdout",
     "output_type": "stream",
     "text": [
      "['The', 'rain', 'in', 'Spain']\n"
     ]
    }
   ],
   "source": [
    "import re\n",
    "\n",
    "txt = \"The rain in Spain\"\n",
    "x = re.split(\"\\s\", txt)\n",
    "print(x)"
   ]
  }
 ],
 "metadata": {
  "kernelspec": {
   "display_name": "Python 3 (ipykernel)",
   "language": "python",
   "name": "python3"
  },
  "language_info": {
   "codemirror_mode": {
    "name": "ipython",
    "version": 3
   },
   "file_extension": ".py",
   "mimetype": "text/x-python",
   "name": "python",
   "nbconvert_exporter": "python",
   "pygments_lexer": "ipython3",
   "version": "3.9.13"
  }
 },
 "nbformat": 4,
 "nbformat_minor": 5
}

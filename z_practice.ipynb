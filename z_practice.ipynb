{
 "cells": [
  {
   "cell_type": "code",
   "execution_count": 1,
   "metadata": {},
   "outputs": [
    {
     "name": "stdout",
     "output_type": "stream",
     "text": [
      "['my', 'name', 'is', 'abhi', 'and', 'mobile', 'number', 'is', '9130468832', 'and', 'email', 'id', 'is', 'abhi', 'gmail', 'com']\n"
     ]
    }
   ],
   "source": [
    "import re\n",
    "a= \"my name is abhi and mobile number is 9130468832 and email id is abhi@gmail.com\"\n",
    "\n",
    "res=re.findall(r\"\\b\\w{2,}\",a)\n",
    "print(res)"
   ]
  },
  {
   "cell_type": "code",
   "execution_count": 4,
   "metadata": {},
   "outputs": [
    {
     "name": "stdout",
     "output_type": "stream",
     "text": [
      "['9130468832']\n",
      "['my name is', ' abhi and', ' mobile number', ' is 9130468832', ' and email', ' id is', ' abhi@gmail', '.com']\n"
     ]
    }
   ],
   "source": [
    "res=re.findall(r\"\\b\\d{10}\",a)\n",
    "print(res)\n",
    "res=re.findall(r\"\\b\\w*\\W\\w*.\\w*\\b\",a)\n",
    "print(res)"
   ]
  },
  {
   "cell_type": "code",
   "execution_count": 9,
   "metadata": {},
   "outputs": [
    {
     "name": "stdout",
     "output_type": "stream",
     "text": [
      "none matched\n"
     ]
    }
   ],
   "source": [
    "res=re.match(r\"v\\w{1,}\",a)\n",
    "if res:\n",
    "   print(res.group())\n",
    "else:\n",
    "    print(\"none matched\")"
   ]
  },
  {
   "cell_type": "code",
   "execution_count": 11,
   "metadata": {},
   "outputs": [
    {
     "name": "stdout",
     "output_type": "stream",
     "text": [
      "name\n"
     ]
    }
   ],
   "source": [
    "res=re.search(r\"n\\w{1,}\",a)\n",
    "if res:\n",
    "   print(res.group())\n",
    "else:\n",
    "    print(\"none matched\")"
   ]
  },
  {
   "cell_type": "code",
   "execution_count": 17,
   "metadata": {},
   "outputs": [
    {
     "name": "stdout",
     "output_type": "stream",
     "text": [
      "(3, 7)\n",
      "my name is abhi and mobile number is 9130468832 and email id is abhi@gmail.com\n",
      "<re.Match object; span=(3, 7), match='name'>\n"
     ]
    }
   ],
   "source": [
    "res=re.search(r\"n\\w{1,}\",a)\n",
    "print(res.span())\n",
    "print(res.string)\n",
    "\n"
   ]
  },
  {
   "cell_type": "code",
   "execution_count": 30,
   "metadata": {},
   "outputs": [
    {
     "name": "stdout",
     "output_type": "stream",
     "text": [
      "['my', 'name', 'is', 'abhi', 'and mobile number is 9130468832 and email id is abhi@gmail.com']\n"
     ]
    }
   ],
   "source": [
    "res=re.split(\"\\s\",a,4)\n",
    "print(res)"
   ]
  },
  {
   "cell_type": "code",
   "execution_count": 31,
   "metadata": {},
   "outputs": [
    {
     "name": "stdout",
     "output_type": "stream",
     "text": [
      "4 name is abhi and mobile number is 9130468832 and email id is abhi@gmail.com\n"
     ]
    }
   ],
   "source": [
    "res=re.sub(\"my\",\"4\",a)\n",
    "print(res)"
   ]
  },
  {
   "cell_type": "code",
   "execution_count": 52,
   "metadata": {},
   "outputs": [
    {
     "name": "stdout",
     "output_type": "stream",
     "text": [
      "0.3004676499621235\n",
      "4\n",
      "3\n"
     ]
    }
   ],
   "source": [
    "import random\n",
    "print(random.random())\n",
    "print(random.randint(1,4))\n",
    "print(random.randrange(1,4))\n",
    "random.seed(20)\n",
    "print(random.randrange(1,15))"
   ]
  },
  {
   "cell_type": "code",
   "execution_count": 71,
   "metadata": {},
   "outputs": [
    {
     "name": "stdout",
     "output_type": "stream",
     "text": [
      "13\n",
      "[13, 20, 10]\n"
     ]
    }
   ],
   "source": [
    "n=[10,20,10,11,12,13,16]\n",
    "random.seed(20)\n",
    "\n",
    "print(random.choice(n))\n",
    "print(random.sample(n,3))"
   ]
  },
  {
   "cell_type": "code",
   "execution_count": null,
   "metadata": {},
   "outputs": [],
   "source": [
    "f=open('new_file.txt',\"r\")"
   ]
  },
  {
   "cell_type": "code",
   "execution_count": 80,
   "metadata": {},
   "outputs": [
    {
     "name": "stdout",
     "output_type": "stream",
     "text": [
      "625\n",
      "620, 195, 230, "
     ]
    }
   ],
   "source": [
    "#1: Generate 3 random integers between 100 and 999 which is divisible by 5\n",
    "import random\n",
    "print(random.randrange(100, 999,5))\n",
    "for num in range(3):\n",
    "    print(random.randrange(100, 999, 5), end=', ')"
   ]
  },
  {
   "cell_type": "code",
   "execution_count": 94,
   "metadata": {},
   "outputs": [
    {
     "name": "stdout",
     "output_type": "stream",
     "text": [
      "[3121369029, 9343057494]\n"
     ]
    }
   ],
   "source": [
    "#2: Random Lottery Pick. Generate 100 random lottery tickets and pick two lucky tickets from it as a winner\n",
    "import random\n",
    "res=[]\n",
    "random.seed(111)\n",
    "for i in range(2):\n",
    "   res.append(random.randrange(1000000000,9999999999))\n",
    "print(random.sample(res,2))"
   ]
  },
  {
   "cell_type": "code",
   "execution_count": 97,
   "metadata": {},
   "outputs": [
    {
     "name": "stdout",
     "output_type": "stream",
     "text": [
      "277869\n"
     ]
    }
   ],
   "source": [
    "#3: Generate 6 digit random secure OTP\n",
    "print(random.randint(100000,999999))"
   ]
  },
  {
   "cell_type": "code",
   "execution_count": 98,
   "metadata": {},
   "outputs": [
    {
     "name": "stdout",
     "output_type": "stream",
     "text": [
      "random char is  a\n"
     ]
    }
   ],
   "source": [
    "# 4: Pick a random character from a given String\n",
    "\n",
    "name = 'pynative'\n",
    "char = random.choice(name)\n",
    "print(\"random char is \", char)"
   ]
  },
  {
   "cell_type": "code",
   "execution_count": 109,
   "metadata": {},
   "outputs": [
    {
     "name": "stdout",
     "output_type": "stream",
     "text": [
      "abcdefghijklmnopqrstuvwxyzABCDEFGHIJKLMNOPQRSTUVWXYZ\n",
      "Random String is  StVFE\n"
     ]
    }
   ],
   "source": [
    "'''5: Generate random String of length 5\n",
    "Note: String must be the combination of the UPPER case and lower case letters only. No numbers and a special symbol.'''\n",
    "import random\n",
    "import string\n",
    "\n",
    "def randomString(stringLength):\n",
    "    \"\"\"Generate a random string of 5 charcters\"\"\"\n",
    "    letters = string.ascii_letters\n",
    "    print(letters)\n",
    "    return ''.join(random.choice(letters) for i in range(stringLength))\n",
    "\n",
    "print (\"Random String is \", randomString(5) )"
   ]
  },
  {
   "cell_type": "code",
   "execution_count": 120,
   "metadata": {},
   "outputs": [
    {
     "data": {
      "text/plain": [
       "'p%Y?JBZ`I1'"
      ]
     },
     "execution_count": 120,
     "metadata": {},
     "output_type": "execute_result"
    }
   ],
   "source": [
    "'''6: Generate a random Password which meets the following conditions\n",
    "Password length must be 10 characters long.\n",
    "It must contain at least 2 upper case letters, 1 digit, and 1 special symbol.'''\n",
    "import random\n",
    "import string\n",
    "\n",
    "def generate_password():\n",
    "    source = string.ascii_letters + string.digits+string.punctuation\n",
    "    password=random.sample(source,6)\n",
    "    password += random.sample(string.ascii_uppercase, 2)\n",
    "    password += random.choice(string.digits)\n",
    "    password += random.choice(string.punctuation)\n",
    "    passwordList = list(password)\n",
    "    random.SystemRandom().shuffle(passwordList)\n",
    "    password = ''.join(passwordList)\n",
    "    return password\n",
    "generate_password()\n",
    "    "
   ]
  },
  {
   "cell_type": "code",
   "execution_count": 121,
   "metadata": {},
   "outputs": [
    {
     "name": "stdout",
     "output_type": "stream",
     "text": [
      "Random secure Hexadecimal token is  af0c67bf90048305e01505c9c280d40a28daeb436edb533b432a983358776218cdb157e2917c89e71252e0882ba378cf81f18fc60c2a606073afc1efac3fbb7a\n",
      "Random secure URL is  8TQr29qbOt7JcGf9svxEnra_ViAmNJvXndTPth-EnW9hknOpKPDOcQ2nZjWBAFnsGIhx8gk9o4DJLnbaHWk6Zg\n"
     ]
    }
   ],
   "source": [
    "import secrets\n",
    "\n",
    "print(\"Random secure Hexadecimal token is \", secrets.token_hex(64))\n",
    "print(\"Random secure URL is \", secrets.token_urlsafe(64))"
   ]
  },
  {
   "cell_type": "code",
   "execution_count": 124,
   "metadata": {},
   "outputs": [
    {
     "name": "stdout",
     "output_type": "stream",
     "text": [
      "Randomly selecting same number of a dice\n",
      "3\n",
      "3\n",
      "3\n",
      "3\n",
      "3\n"
     ]
    }
   ],
   "source": [
    "import random\n",
    "\n",
    "dice = [1, 2, 3, 4, 5, 6]\n",
    "print(\"Randomly selecting same number of a dice\")\n",
    "for i in range(5):\n",
    "    random.seed(150)\n",
    "    print(random.choice(dice))"
   ]
  },
  {
   "cell_type": "code",
   "execution_count": 126,
   "metadata": {},
   "outputs": [
    {
     "name": "stdout",
     "output_type": "stream",
     "text": [
      "Printing random date between 1/1/2016  and  12/12/2018\n",
      "Random Date =  07/21/2016\n"
     ]
    }
   ],
   "source": [
    "import random\n",
    "import time\n",
    "\n",
    "def getRandomDate(startDate, endDate ):\n",
    "    print(\"Printing random date between\", startDate, \" and \", endDate)\n",
    "    randomGenerator = random.random()\n",
    "    dateFormat = '%m/%d/%Y'\n",
    "\n",
    "    startTime = time.mktime(time.strptime(startDate, dateFormat))\n",
    "    endTime = time.mktime(time.strptime(endDate, dateFormat))\n",
    "\n",
    "    randomTime = startTime + randomGenerator * (endTime - startTime)\n",
    "    randomDate = time.strftime(dateFormat, time.localtime(randomTime))\n",
    "    return randomDate\n",
    "\n",
    "print (\"Random Date = \", getRandomDate(\"1/1/2016\", \"12/12/2018\"))"
   ]
  }
 ],
 "metadata": {
  "kernelspec": {
   "display_name": "base",
   "language": "python",
   "name": "python3"
  },
  "language_info": {
   "codemirror_mode": {
    "name": "ipython",
    "version": 3
   },
   "file_extension": ".py",
   "mimetype": "text/x-python",
   "name": "python",
   "nbconvert_exporter": "python",
   "pygments_lexer": "ipython3",
   "version": "3.9.13"
  },
  "orig_nbformat": 4
 },
 "nbformat": 4,
 "nbformat_minor": 2
}

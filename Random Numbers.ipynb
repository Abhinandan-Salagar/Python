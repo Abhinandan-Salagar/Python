{
 "cells": [
  {
   "cell_type": "markdown",
   "id": "3ae24db7",
   "metadata": {},
   "source": [
    "# Random Numbers\n",
    "\n",
    "- creating Uncertain Numbers \n",
    "- extract random elements from the list"
   ]
  },
  {
   "cell_type": "code",
   "execution_count": null,
   "id": "5c81c40f",
   "metadata": {},
   "outputs": [],
   "source": []
  },
  {
   "cell_type": "code",
   "execution_count": null,
   "id": "56c305fd",
   "metadata": {},
   "outputs": [],
   "source": [
    "# 1. random.random()\n",
    "#- gives a random number between 0 and 1 . Excel rand()"
   ]
  },
  {
   "cell_type": "code",
   "execution_count": 18,
   "id": "47444332",
   "metadata": {},
   "outputs": [
    {
     "name": "stdout",
     "output_type": "stream",
     "text": [
      "0.7022966492074796\n",
      "0.9182854056749844\n",
      "0.3372599934788417\n"
     ]
    }
   ],
   "source": [
    "import random\n",
    "\n",
    "print( random.random() )\n",
    "print( random.random() )\n",
    "print( random.random() )\n"
   ]
  },
  {
   "cell_type": "code",
   "execution_count": null,
   "id": "937fa29e",
   "metadata": {},
   "outputs": [],
   "source": [
    "# 2. random.randint()\n",
    "# - returns an integer number between start and end. Both are Included. [a,b]\n"
   ]
  },
  {
   "cell_type": "code",
   "execution_count": 28,
   "id": "fbd441ef",
   "metadata": {},
   "outputs": [
    {
     "name": "stdout",
     "output_type": "stream",
     "text": [
      "7\n",
      "8\n",
      "1\n"
     ]
    }
   ],
   "source": [
    "print( random.randint(1, 10) )\n",
    "print( random.randint(1, 10) )\n",
    "print( random.randint(1, 10) )"
   ]
  },
  {
   "cell_type": "code",
   "execution_count": null,
   "id": "8743ae3b",
   "metadata": {},
   "outputs": [],
   "source": [
    "# 2. random.randint()\n",
    "# - returns an integer number between start and end. Both are Included. [a,b]\n"
   ]
  },
  {
   "cell_type": "code",
   "execution_count": 61,
   "id": "49af9932",
   "metadata": {},
   "outputs": [
    {
     "name": "stdout",
     "output_type": "stream",
     "text": [
      "3\n",
      "8\n",
      "10\n"
     ]
    }
   ],
   "source": [
    "import random\n",
    "print( random.randint(1, 10) )\n",
    "print( random.randint(1, 10) )\n",
    "print( random.randint(1, 10) )"
   ]
  },
  {
   "cell_type": "code",
   "execution_count": null,
   "id": "814acf9a",
   "metadata": {},
   "outputs": [],
   "source": [
    "# 3. random.randrange(start, end, step)\n",
    "# - returns an integer number between start and end. ENd is Included. [a,b)\n"
   ]
  },
  {
   "cell_type": "code",
   "execution_count": 39,
   "id": "02e46547",
   "metadata": {},
   "outputs": [
    {
     "name": "stdout",
     "output_type": "stream",
     "text": [
      "8\n",
      "1\n",
      "1\n"
     ]
    }
   ],
   "source": [
    "\n",
    "print( random.randrange(1, 10) )\n",
    "print( random.randrange(1, 10) )\n",
    "print( random.randrange(1, 10) )"
   ]
  },
  {
   "cell_type": "code",
   "execution_count": 60,
   "id": "ca9f0ac1",
   "metadata": {},
   "outputs": [
    {
     "name": "stdout",
     "output_type": "stream",
     "text": [
      "24\n",
      "14\n",
      "14\n",
      "6\n"
     ]
    }
   ],
   "source": [
    "# get random even numbers between 0 to 25\n",
    "\n",
    "print( random.randrange(0, 25, 2) ) # 0 2 4 6 8 10 12 14 16 18 20 22 24\n",
    "print( random.randrange(0, 25, 2) ) # 0 2 4 6 8 10 12 14 16 18 20 22 24\n",
    "print( random.randrange(0, 25, 2) ) # 0 2 4 6 8 10 12 14 16 18 20 22 24\n",
    "print( random.randrange(0, 25, 2) ) # 0 2 4 6 8 10 12 14 16 18 20 22 24\n"
   ]
  },
  {
   "cell_type": "code",
   "execution_count": null,
   "id": "d5da4691",
   "metadata": {},
   "outputs": [],
   "source": []
  },
  {
   "cell_type": "code",
   "execution_count": null,
   "id": "d83d0611",
   "metadata": {},
   "outputs": [],
   "source": [
    "# 4. seed\n",
    "# - fix the selection for a given range"
   ]
  },
  {
   "cell_type": "code",
   "execution_count": 62,
   "id": "d70cee94",
   "metadata": {},
   "outputs": [
    {
     "name": "stdout",
     "output_type": "stream",
     "text": [
      "7\n",
      "1\n",
      "4\n"
     ]
    }
   ],
   "source": [
    "import random\n",
    "random.seed(25)\n",
    "print( random.randint(1, 10) )\n",
    "print( random.randint(1, 10) )\n",
    "print( random.randint(1, 10) )"
   ]
  },
  {
   "cell_type": "code",
   "execution_count": 63,
   "id": "2771b0e7",
   "metadata": {},
   "outputs": [
    {
     "name": "stdout",
     "output_type": "stream",
     "text": [
      "4\n",
      "6\n",
      "8\n"
     ]
    }
   ],
   "source": [
    "import random\n",
    "random.seed(111)\n",
    "print( random.randint(1, 10) )\n",
    "print( random.randint(1, 10) )\n",
    "print( random.randint(1, 10) )"
   ]
  },
  {
   "cell_type": "code",
   "execution_count": 64,
   "id": "b8ab8d91",
   "metadata": {},
   "outputs": [
    {
     "name": "stdout",
     "output_type": "stream",
     "text": [
      "7\n",
      "9\n",
      "9\n"
     ]
    }
   ],
   "source": [
    "import random\n",
    "random.seed(44)\n",
    "print( random.randint(1, 10) )\n",
    "print( random.randint(1, 10) )\n",
    "print( random.randint(1, 10) )"
   ]
  },
  {
   "cell_type": "code",
   "execution_count": null,
   "id": "ef55567d",
   "metadata": {},
   "outputs": [],
   "source": [
    "# 5. choice\n",
    "# - randomly take a single element from the sequence (string, list, tuple, set)\n",
    "\n",
    "# random.choice(seqName)\n"
   ]
  },
  {
   "cell_type": "code",
   "execution_count": null,
   "id": "8801e05a",
   "metadata": {},
   "outputs": [],
   "source": [
    "stringName = \"python\"\n",
    "listName = [10, 5, 6, 7]\n",
    "tupName = (5, 10, 10, 5, 6, 7)\n"
   ]
  },
  {
   "cell_type": "code",
   "execution_count": 73,
   "id": "b8c185d7",
   "metadata": {},
   "outputs": [
    {
     "name": "stdout",
     "output_type": "stream",
     "text": [
      "t\n",
      "p\n",
      "t\n"
     ]
    }
   ],
   "source": [
    "stringName = \"python\"\n",
    "print( random.choice(stringName) )\n",
    "print( random.choice(stringName) )\n",
    "print( random.choice(stringName) )"
   ]
  },
  {
   "cell_type": "code",
   "execution_count": 83,
   "id": "4c4a7165",
   "metadata": {},
   "outputs": [
    {
     "name": "stdout",
     "output_type": "stream",
     "text": [
      "7\n",
      "5\n",
      "5\n"
     ]
    }
   ],
   "source": [
    "listName = [10, 5, 6, 7]\n",
    "print( random.choice(listName) )\n",
    "print( random.choice(listName) )\n",
    "print( random.choice(listName) )\n"
   ]
  },
  {
   "cell_type": "code",
   "execution_count": null,
   "id": "8e058cf5",
   "metadata": {},
   "outputs": [],
   "source": [
    "# 6. sample\n",
    "# - randmly takes some collective elements from the sequence and retuun in the form of list\n",
    "# random.sample(seqName, k) # k - count"
   ]
  },
  {
   "cell_type": "code",
   "execution_count": 127,
   "id": "7338f01d",
   "metadata": {},
   "outputs": [
    {
     "name": "stdout",
     "output_type": "stream",
     "text": [
      "[10, 5, 10]\n",
      "[10]\n",
      "[6, 10, 10]\n"
     ]
    }
   ],
   "source": [
    "tupName = (5, 10, 10, 5, 6, 7)\n",
    "\n",
    "print( random.sample(tupName, 3) )\n",
    "print( random.sample(tupName, 1) )\n",
    "print( random.sample(tupName, 3) )\n"
   ]
  },
  {
   "cell_type": "code",
   "execution_count": null,
   "id": "3290a8fe",
   "metadata": {},
   "outputs": [],
   "source": []
  },
  {
   "cell_type": "code",
   "execution_count": null,
   "id": "0bef24a8",
   "metadata": {},
   "outputs": [],
   "source": [
    "# Guess the NUmber\n",
    "# takes a number from the user and compare with the computer choice. if number matches then win else lose\n",
    "\n",
    "# \n",
    "# 1 - 20\n",
    "# comp = 12 using random choice\n",
    "# user = ask them\n",
    "\n",
    "# compare computer and user choices\n",
    "# user - 10 : Go Up\n",
    "# user - 15 : Come Down\n",
    "\n",
    "# It will stop if user guess it correct"
   ]
  },
  {
   "cell_type": "code",
   "execution_count": null,
   "id": "59263462",
   "metadata": {},
   "outputs": [],
   "source": [
    "# Guess the NUmber\n",
    "# takes a number from the user and compare with the computer choice. if number matches then win else lose\n",
    "# How many trails ?\n",
    "\n",
    "# \n",
    "# 1 - 20\n",
    "# comp = 12 using random choice\n",
    "# user = ask them\n",
    "\n",
    "# compare computer and user choices\n",
    "# user - 10 : Go Up\n",
    "# user - 15 : Come Down\n",
    "\n"
   ]
  },
  {
   "cell_type": "code",
   "execution_count": null,
   "id": "e209e57e",
   "metadata": {},
   "outputs": [],
   "source": [
    "# Rock paper scissor\n",
    "# 1. rock\n",
    "# 2. paper\n",
    "# 3. scissor\n",
    "\n",
    "# user tell the option and you compare that option\n",
    "# user tell the option, you extract the value (r, p, s) and you compare that option\n",
    "# \n",
    "\n",
    "\n",
    "# user tells 2 -> take the value paper from that \n",
    "# randmly take a value for computer also\n",
    "# if else statements..."
   ]
  },
  {
   "cell_type": "code",
   "execution_count": null,
   "id": "f855324d",
   "metadata": {},
   "outputs": [],
   "source": [
    "# divide the team into 2 by randomly selecting the names from Team and then saving in 2 list in such a way that name is not repeated.\n",
    "\n",
    "team = [\"nitish\", \"gaurav\", \"sneha\", \"uday\", \"akash\", \"pratik\", \"priya\", \"rahul\", \"impana\"]\n",
    "team = [\"nitish\", \"gaurav\", \"sneha\", \"uday\", \"akash\", \"pratik\", \"priya\", \"rahul\", \"impana\", \"mayur\"]"
   ]
  },
  {
   "cell_type": "code",
   "execution_count": null,
   "id": "5a0a8b5b",
   "metadata": {},
   "outputs": [],
   "source": [
    "team = [\"nitish\", \"gaurav\", \"sneha\", \"uday\", \"akash\", \"pratik\", \"priya\", \"rahul\", \"impana\", \"mayur\"]\n",
    "teamA\n",
    "teamB"
   ]
  },
  {
   "cell_type": "code",
   "execution_count": null,
   "id": "ae710d5d",
   "metadata": {},
   "outputs": [],
   "source": []
  },
  {
   "cell_type": "code",
   "execution_count": null,
   "id": "55265dd8",
   "metadata": {},
   "outputs": [],
   "source": []
  },
  {
   "cell_type": "code",
   "execution_count": null,
   "id": "12ca0dd6",
   "metadata": {},
   "outputs": [],
   "source": []
  },
  {
   "cell_type": "code",
   "execution_count": null,
   "id": "4b2ad625",
   "metadata": {},
   "outputs": [],
   "source": []
  },
  {
   "cell_type": "code",
   "execution_count": null,
   "id": "cd013753",
   "metadata": {},
   "outputs": [],
   "source": []
  }
 ],
 "metadata": {
  "kernelspec": {
   "display_name": "Python 3 (ipykernel)",
   "language": "python",
   "name": "python3"
  },
  "language_info": {
   "codemirror_mode": {
    "name": "ipython",
    "version": 3
   },
   "file_extension": ".py",
   "mimetype": "text/x-python",
   "name": "python",
   "nbconvert_exporter": "python",
   "pygments_lexer": "ipython3",
   "version": "3.9.13"
  }
 },
 "nbformat": 4,
 "nbformat_minor": 5
}

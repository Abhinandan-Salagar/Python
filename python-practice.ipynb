{
 "cells": [
  {
   "cell_type": "code",
   "execution_count": null,
   "metadata": {},
   "outputs": [],
   "source": [
    "# 8. Formatting\n",
    "\n",
    "s = \"python\"\n",
    "# __python__\n",
    "# ____python\n",
    "# python____\n",
    "\n",
    "'''print( s.center(10) )\n",
    "print( s.rjust(10) )\n",
    "print( s.ljust(10) )'''\n",
    "\n",
    "# print( s.ljust(2) ) # if width < len, then complete WORD will be shown\n",
    "\n",
    "print( s.center(9, \"_\") )\n",
    "print( s.rjust(10, \"_\") )\n",
    "print( s.ljust(10, \"_\") )"
   ]
  },
  {
   "cell_type": "code",
   "execution_count": null,
   "metadata": {},
   "outputs": [],
   "source": [
    "s = \"python\"\n",
    "\n",
    "print(s.zfill(10))"
   ]
  },
  {
   "cell_type": "code",
   "execution_count": null,
   "metadata": {},
   "outputs": [],
   "source": [
    "otp = 8745\n",
    "mobile = 7475747854\n",
    "email = \"nitish@gmail.com\"\n",
    "msg = \"The OTP for current transaction is {1} and is shared in {2} and {0}\"\n",
    "\n",
    "msg.format(mobile, otp, email)"
   ]
  },
  {
   "cell_type": "code",
   "execution_count": null,
   "metadata": {},
   "outputs": [],
   "source": [
    "a=int(input())\n",
    "\n",
    "for i in range(a):\n",
    "    b=int(input())\n",
    "    if b>=80 and b<=100:\n",
    "        print(\"YES\")\n",
    "    else:\n",
    "        print(\"NO\") \n",
    "        "
   ]
  },
  {
   "cell_type": "code",
   "execution_count": null,
   "metadata": {},
   "outputs": [],
   "source": [
    "p=input(int()),input(int()),input(int()),input(int())\n",
    "print(p)"
   ]
  },
  {
   "cell_type": "code",
   "execution_count": null,
   "metadata": {},
   "outputs": [],
   "source": [
    "'''1 1 1 3\n",
    "2 3 1 5\n",
    "4 2 3 4\n",
    "2 1 4 7'''\n",
    "\n",
    "T=int(input())\n",
    "\n",
    "for i in range(T):\n",
    "    p=input(int()),input(int()),input(int()),input(int())\n",
    "    print(p)\n",
    "    a=p[0]\n",
    "    b=p[1]\n",
    "    c=p[2]\n",
    "    x=p[3]\n",
    "    if a+b == x or a+c == x or b+c == x :\n",
    "        print(\"YES\")\n",
    "    else:\n",
    "        print(\"NO\")"
   ]
  },
  {
   "cell_type": "code",
   "execution_count": null,
   "metadata": {},
   "outputs": [],
   "source": [
    "for i in range(20,0,-1):\n",
    "    print(i)"
   ]
  },
  {
   "cell_type": "code",
   "execution_count": null,
   "metadata": {},
   "outputs": [],
   "source": [
    "a=\"formula.mp4\"\n",
    "\n",
    "if a.endswith(\".py\"):\n",
    "    print(\"Yes\")\n",
    "else:\n",
    "    print(\"No\")"
   ]
  },
  {
   "cell_type": "code",
   "execution_count": null,
   "metadata": {},
   "outputs": [],
   "source": [
    "p=int(input(\"enter the principal amt: \"))\n",
    "r=float(input(\"rate of interest: \"))\n",
    "y=float(input(\"number of years: \"))\n",
    "\n",
    "i=p*(1+r*y)\n",
    "print(i)"
   ]
  },
  {
   "cell_type": "code",
   "execution_count": null,
   "metadata": {},
   "outputs": [],
   "source": [
    "a=int(input(\"enter any number: \"))\n",
    "\n",
    "if a%11==0:\n",
    "    print(\"number is multiple of 11\")\n",
    "else:\n",
    "    print(\"nuber is not a multiple of 11\")\n"
   ]
  },
  {
   "cell_type": "code",
   "execution_count": null,
   "metadata": {},
   "outputs": [],
   "source": [
    "a=\"you are doing an amazing job as a python resource. keep excelling...\"\n",
    "\n",
    "print(a.count(\" \"))"
   ]
  },
  {
   "cell_type": "code",
   "execution_count": null,
   "metadata": {},
   "outputs": [],
   "source": [
    "a= \"This is the #worst product * I have @bought ONLINE !!!~\"\n",
    "c=0\n",
    "for i in range(0,len(a)):\n",
    "    if not(a[i].isalnum()):\n",
    "        c=c+1\n",
    "print(c)"
   ]
  },
  {
   "cell_type": "code",
   "execution_count": null,
   "metadata": {},
   "outputs": [],
   "source": [
    "a= \"g$#270*8R746e0.2A__+_)(^!@#~t*^$%^689652||\"\n",
    "c=0\n",
    "for i in range(0,len(a)):\n",
    "    if a[i].isalpha():\n",
    "       print(a[i])\n"
   ]
  },
  {
   "cell_type": "code",
   "execution_count": null,
   "metadata": {},
   "outputs": [],
   "source": [
    "a=654321\n",
    "for i in range(6,0,-1):\n",
    "    print(str(i)*i)"
   ]
  },
  {
   "cell_type": "code",
   "execution_count": null,
   "metadata": {},
   "outputs": [],
   "source": [
    "\n",
    "for i in range(1,11):\n",
    "    print(i*i)"
   ]
  },
  {
   "cell_type": "code",
   "execution_count": null,
   "metadata": {},
   "outputs": [],
   "source": [
    "a = \"python java ruby c++ julia\"\n",
    "\n",
    "b=a.split()\n",
    "for i in range(len(b)):\n",
    "    print(b[i])"
   ]
  },
  {
   "cell_type": "code",
   "execution_count": null,
   "metadata": {},
   "outputs": [],
   "source": [
    "a = \"python java ruby c++ julia\"\n",
    "\n",
    "#b=a.split()\n",
    "b=a.replace(\"python\",\"nodejs\")\n",
    "print(b)"
   ]
  },
  {
   "cell_type": "code",
   "execution_count": null,
   "metadata": {},
   "outputs": [],
   "source": [
    "a,b=10,20\n",
    "print(a)\n",
    "import keyword\n",
    "print(keyword.kwlist)\n",
    "eval\n",
    "\n",
    "_=10\n",
    "print(_)\n",
    "htftfthfhfhfhjhgjgyjfytte45e5tddtdtyfyjgjyftdettdjfftf=10\n",
    "print(htftfthfhfhfhjhgjgyjfytte45e5tddtdtyfyjgjyftdettdjfftf)"
   ]
  },
  {
   "cell_type": "code",
   "execution_count": null,
   "metadata": {},
   "outputs": [],
   "source": [
    "import pytube\n",
    "from pytube import YouTube\n",
    "\n",
    "link = input(\"Enter URL\")\n",
    "video=YouTube(link)\n",
    "stream=video.streams.get_highest_resolution()\n",
    "stream.download()\n"
   ]
  },
  {
   "cell_type": "code",
   "execution_count": null,
   "metadata": {},
   "outputs": [],
   "source": [
    "\n",
    "'''Q12. Find weather a number is PRIME or not.\n",
    "    Case1 : \n",
    "    Input : 6\n",
    "    Output : Not a Prime\n",
    "\n",
    "    Case2 : \n",
    "    Input : 11\n",
    "    Output : Prime'''\n",
    "\n",
    "\n",
    "t= int(input())\n",
    "print(t)\n",
    "c=0\n",
    "for i in range(2,t):\n",
    "   \n",
    "   if  t%i==0:\n",
    "    c=1\n",
    "    break\n",
    "if c==0:\n",
    "    print(\"prime\")\n",
    "else:\n",
    "    print(\"not\")\n",
    "\n"
   ]
  },
  {
   "cell_type": "code",
   "execution_count": null,
   "metadata": {},
   "outputs": [],
   "source": [
    "'''Q13. Find weather a string is in Palindrome or not.\n",
    "    Palindrome are the words that can be read from right to left or left to right and it stays the same\n",
    "    Example : madam is a palindrome\n",
    "    Example : 12321 is a palindrome\n",
    "    Example : naman is a palindrome\n",
    "    Example : wow is a palindrome\n",
    "    Example : 456 not a palindrome\n",
    "    Example : ply not a palindrome\n",
    "    Example : adg not a palindrome'''\n",
    "\n",
    "\n",
    "a= [\"madam\",12321,\"naman\",\"wow\",456,\"ply\",\"adda\"]\n",
    "for i in range(len(a)):\n",
    "    b=str(a[i])\n",
    "    if b[::1]==b[::-1]:\n",
    "        print(\"it is a pallindrome\")\n",
    "    else:\n",
    "        print(\"it is not a pallindrome\")"
   ]
  },
  {
   "cell_type": "code",
   "execution_count": null,
   "metadata": {},
   "outputs": [],
   "source": [
    "'''Q14. Make a program for Systmatic Investment Plan (SIP).\n",
    "    Take the number of years, monthly investment and EXPECTED rate of interest from the user.'''\n",
    "\n",
    "A = float(input(\"Enter the monthly SIP amount: \"))\n",
    "YR = float(input(\"Enter the yearly rate of return: \"))\n",
    "Y = int(input(\"Enter the number of years: \"))\n",
    "\n",
    "3\n",
    "3\n",
    "MR = YR/12/100\n",
    "M = Y * 12\n",
    "\n",
    "\n",
    "FV = A * ((((1 + MR)**(M))-1) * (1 + MR))/MR\n",
    "FV = round(FV)\n",
    "print(\"The expected amount you will get is:\",FV)\n",
    "\n"
   ]
  },
  {
   "cell_type": "code",
   "execution_count": null,
   "metadata": {},
   "outputs": [],
   "source": [
    "'''Q15. Find weather two strings are anagrams are of each other. \n",
    "    Anagrams are defined as the word that when put in ascending order, its the same word\n",
    "    Example : tea and eat are anagrams\n",
    "    Example : sit and its are anagrams\n",
    "    Example : there and their are not anagrams\n",
    "    Example : seven and even are not anagrams\n",
    "    Example : ulbe and blue are anagrams\n",
    "'''\n",
    "\n",
    "a=input()\n",
    "print(a)\n",
    "b=input()\n",
    "print(b)\n",
    "if sorted(a)==sorted(b):\n",
    "    print(\"it is anagram\")\n",
    "else:\n",
    "    print(\"it is not anagram\")"
   ]
  },
  {
   "cell_type": "code",
   "execution_count": 234,
   "metadata": {},
   "outputs": [
    {
     "name": "stdout",
     "output_type": "stream",
     "text": [
      "1st and last num are same\n",
      "false\n"
     ]
    }
   ],
   "source": [
    "# Exercise 5: Check if the first and last number of a list is the same\n",
    "x = [10, 20, 30, 40, 10]\n",
    "y = [75, 65, 35, 75, 30]\n",
    "\n",
    "if x[0]==x[-1]:\n",
    "    print(\"1st and last num are same\")\n",
    "else:\n",
    "    print(\"false\")\n",
    "if y[0]==y[-1]:\n",
    "       print(\"1st and last num are same\")\n",
    "else:\n",
    "    print(\"false\")"
   ]
  },
  {
   "cell_type": "code",
   "execution_count": 249,
   "metadata": {},
   "outputs": [
    {
     "name": "stdout",
     "output_type": "stream",
     "text": [
      "divisible by 5\n",
      "10\n",
      "divisible by 5\n",
      "20\n",
      "not divisible by 5\n",
      "33\n",
      "not divisible by 5\n",
      "46\n",
      "divisible by 5\n",
      "55\n"
     ]
    }
   ],
   "source": [
    "#Exercise 6: Display numbers divisible by 5 from a list\n",
    "\n",
    "a=[10, 20, 33, 46, 55]\n",
    "for i in range(len(a)):\n",
    "    if a[i]%5==0:\n",
    "        print(\"divisible by 5\")\n",
    "        print(a[i])\n",
    "    else:\n",
    "        print(\"not divisible by 5\")\n",
    "        print(a[i])\n",
    "        "
   ]
  },
  {
   "cell_type": "code",
   "execution_count": 250,
   "metadata": {},
   "outputs": [
    {
     "name": "stdout",
     "output_type": "stream",
     "text": [
      "2\n"
     ]
    }
   ],
   "source": [
    "# Write a program to find how many times substring “Emma” appears in the given string.\n",
    "\n",
    "x = \"Emma is good developer. Emma is a writer\"\n",
    "print(x.count(\"Emma\"))"
   ]
  },
  {
   "cell_type": "code",
   "execution_count": 260,
   "metadata": {},
   "outputs": [
    {
     "name": "stdout",
     "output_type": "stream",
     "text": [
      "8\n",
      "i:7,msg[i]:8,res:8\n",
      "7\n",
      "i:8,msg[i]:7,res:87\n",
      "5\n",
      "i:9,msg[i]:5,res:875\n",
      "8\n",
      "i:10,msg[i]:8,res:8758\n",
      "8758\n"
     ]
    }
   ],
   "source": [
    "msg = \"an otp 8758 is sent to your mobile number\"\n",
    "res=\"\"\n",
    "for i in range(len(msg)):\n",
    "    if msg[i].isdigit():\n",
    "        print(msg[i])\n",
    "        res=res+msg[i]\n",
    "        print(f\"i:{i},msg[i]:{msg[i]},res:{res}\")\n",
    "print(res)"
   ]
  },
  {
   "cell_type": "code",
   "execution_count": 263,
   "metadata": {},
   "outputs": [
    {
     "name": "stdout",
     "output_type": "stream",
     "text": [
      "41\n"
     ]
    }
   ],
   "source": [
    "msg = \"an otp 8758 is sent to your mobile number\"\n",
    "c=0\n",
    "for i in range(len(msg)):\n",
    "    if msg[i].isalnum() or msg[i].isspace():\n",
    "        c=c+1\n",
    "print(c)\n"
   ]
  },
  {
   "cell_type": "code",
   "execution_count": 291,
   "metadata": {},
   "outputs": [
    {
     "name": "stdout",
     "output_type": "stream",
     "text": [
      "8657\n"
     ]
    }
   ],
   "source": [
    "a=7568\n",
    "b=str(a)[::-1]\n",
    "\n",
    "print(b)\n",
    "\n"
   ]
  },
  {
   "cell_type": "code",
   "execution_count": 287,
   "metadata": {},
   "outputs": [
    {
     "name": "stdout",
     "output_type": "stream",
     "text": [
      "Given number 7536\n",
      "6 3 5 7 "
     ]
    }
   ],
   "source": [
    "number = 7536\n",
    "print(\"Given number\", number)\n",
    "while number > 0:\n",
    "    # get the last digit\n",
    "    digit = number % 10\n",
    "    # remove the last digit and repeat the loop\n",
    "    number = number // 10\n",
    "    print(digit, end=\" \")"
   ]
  },
  {
   "cell_type": "code",
   "execution_count": 293,
   "metadata": {},
   "outputs": [
    {
     "name": "stdout",
     "output_type": "stream",
     "text": [
      "4000.0\n"
     ]
    }
   ],
   "source": [
    "'''Exercise 12: Calculate income tax for the given income by adhering to the below rules'''\n",
    "\n",
    "amt=int(input(\"please add the amt: \"))\n",
    "\n",
    "a=10000*0.1\n",
    "b=(amt-10000)*0.2\n",
    "tax=a+b\n",
    "print(tax)"
   ]
  },
  {
   "cell_type": "code",
   "execution_count": 317,
   "metadata": {},
   "outputs": [
    {
     "name": "stdout",
     "output_type": "stream",
     "text": [
      "1 2 3 4 5 6 7 8 9 10 2 4 6 8 10 12 14 16 18 20 3 6 9 12 15 18 21 24 27 30 4 8 12 16 20 24 28 32 36 40 5 10 15 20 25 30 35 40 45 50 6 12 18 24 30 36 42 48 54 60 7 14 21 28 35 42 49 56 63 70 8 16 24 32 40 48 56 64 72 80 9 18 27 36 45 54 63 72 81 90 10 20 30 40 50 60 70 80 90 100 "
     ]
    }
   ],
   "source": [
    "'''Exercise 13: Print multiplication table form 1 to 10'''\n",
    "\n",
    "a=10\n",
    "\n",
    "for i in range(1,11):\n",
    "    for j in range(1,11):\n",
    "        print(i*j,end=\" \")"
   ]
  },
  {
   "cell_type": "code",
   "execution_count": 320,
   "metadata": {},
   "outputs": [
    {
     "name": "stdout",
     "output_type": "stream",
     "text": [
      "*****\n",
      "****\n",
      "***\n",
      "**\n",
      "*\n"
     ]
    }
   ],
   "source": [
    "'''Exercise 14: Print downward Half-Pyramid Pattern with Star (asterisk)'''\n",
    "for i in range(5,0,-1):\n",
    "    print(i*\"*\")"
   ]
  },
  {
   "cell_type": "code",
   "execution_count": 325,
   "metadata": {},
   "outputs": [
    {
     "data": {
      "text/plain": [
       "25"
      ]
     },
     "execution_count": 325,
     "metadata": {},
     "output_type": "execute_result"
    }
   ],
   "source": [
    "'''Exercise 15: Write a function called exponent(base, exp) that returns an int value of base raises to the power of exp.'''\n",
    "\n",
    "\n",
    "def exponent(base, exp):\n",
    "    val=base**exp\n",
    "    return val\n",
    "\n",
    "exponent(5,2)"
   ]
  },
  {
   "cell_type": "code",
   "execution_count": 334,
   "metadata": {},
   "outputs": [
    {
     "name": "stdout",
     "output_type": "stream",
     "text": [
      "25\n",
      "35\n",
      "40\n",
      "60\n",
      "90\n",
      "[25, 35, 40, 60, 90]\n"
     ]
    }
   ],
   "source": [
    "'''Exercise 10: Create a new list from a two list using the following condition'''\n",
    "list1 = [10, 20, 25, 30, 35]\n",
    "list2 = [40, 45, 60, 75, 90]\n",
    "def add(list1,list2):\n",
    "    res=[]\n",
    "    for i in range(len(list1)):\n",
    "        if list1[i]%2!=0:\n",
    "            print(list1[i])\n",
    "            res.append(list1[i])\n",
    "    for i in range(len(list2)):\n",
    "        if list2[i]%2==0:\n",
    "            print(list2[i])\n",
    "            res.append(list2[i])\n",
    "    return res  \n",
    "print(add(list1,list2))"
   ]
  },
  {
   "cell_type": "code",
   "execution_count": null,
   "metadata": {},
   "outputs": [],
   "source": []
  }
 ],
 "metadata": {
  "kernelspec": {
   "display_name": "base",
   "language": "python",
   "name": "python3"
  },
  "language_info": {
   "codemirror_mode": {
    "name": "ipython",
    "version": 3
   },
   "file_extension": ".py",
   "mimetype": "text/x-python",
   "name": "python",
   "nbconvert_exporter": "python",
   "pygments_lexer": "ipython3",
   "version": "3.9.13"
  },
  "orig_nbformat": 4,
  "vscode": {
   "interpreter": {
    "hash": "5ae58900cfbb8c43ab3495913814b7cf26024f51651a94ce8bf64d6111688e8d"
   }
  }
 },
 "nbformat": 4,
 "nbformat_minor": 2
}

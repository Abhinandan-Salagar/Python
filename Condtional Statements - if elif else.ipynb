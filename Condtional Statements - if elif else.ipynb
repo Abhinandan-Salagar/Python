{
 "cells": [
  {
   "cell_type": "markdown",
   "metadata": {},
   "source": [
    "## Condtional Statements"
   ]
  },
  {
   "cell_type": "markdown",
   "metadata": {},
   "source": [
    "### if else\n",
    "\n",
    "- cases / scenarios"
   ]
  },
  {
   "cell_type": "markdown",
   "metadata": {},
   "source": [
    "### NOtes : \n",
    "\n",
    "- We can have multiple if blocks\n",
    "- else and elif blocks are not mandatory'\n",
    "- else and elif blocks can't exist without if block\n",
    "- if block can exist without else and elif blocks\n",
    "- "
   ]
  },
  {
   "cell_type": "code",
   "execution_count": null,
   "metadata": {},
   "outputs": [],
   "source": [
    "if expression : \n",
    "    statements\n",
    "    statements\n",
    "    statements\n",
    "    statements"
   ]
  },
  {
   "cell_type": "code",
   "execution_count": null,
   "metadata": {},
   "outputs": [],
   "source": [
    "if expression : \n",
    "    statements\n",
    "    statements\n",
    "    statements\n",
    "    statements\n",
    "else : \n",
    "    statement\n",
    "    statement"
   ]
  },
  {
   "cell_type": "code",
   "execution_count": null,
   "metadata": {},
   "outputs": [],
   "source": [
    "if expression : \n",
    "    statements\n",
    "    statements\n",
    "    statements\n",
    "    statements\n",
    "elif expression : \n",
    "    statements\n",
    "    statements\n",
    "    statements\n",
    "    statements\n",
    "else : \n",
    "    statement\n",
    "    statement"
   ]
  },
  {
   "cell_type": "code",
   "execution_count": null,
   "metadata": {},
   "outputs": [],
   "source": []
  },
  {
   "cell_type": "code",
   "execution_count": 5,
   "metadata": {},
   "outputs": [
    {
     "name": "stdout",
     "output_type": "stream",
     "text": [
      "30\n",
      "0.6666666666666666\n",
      "11\n"
     ]
    }
   ],
   "source": [
    "print( 10 * 3 )\n",
    "print(4 / 6)\n",
    "print(8 + 3)"
   ]
  },
  {
   "cell_type": "code",
   "execution_count": 18,
   "metadata": {},
   "outputs": [
    {
     "name": "stdout",
     "output_type": "stream",
     "text": [
      "END\n"
     ]
    }
   ],
   "source": [
    "# button = \"left\"\n",
    "button = \"right\"\n",
    "\n",
    "if button == \"left\" : \n",
    "    print(\"Turn LEFT\")\n",
    "    \n",
    "print(\"END\")"
   ]
  },
  {
   "cell_type": "code",
   "execution_count": 21,
   "metadata": {},
   "outputs": [
    {
     "ename": "SyntaxError",
     "evalue": "invalid syntax (<ipython-input-21-774c8fa0ebac>, line 4)",
     "output_type": "error",
     "traceback": [
      "\u001b[1;36m  File \u001b[1;32m\"<ipython-input-21-774c8fa0ebac>\"\u001b[1;36m, line \u001b[1;32m4\u001b[0m\n\u001b[1;33m    if button==\"left\"\u001b[0m\n\u001b[1;37m                     ^\u001b[0m\n\u001b[1;31mSyntaxError\u001b[0m\u001b[1;31m:\u001b[0m invalid syntax\n"
     ]
    }
   ],
   "source": [
    "# button = \"left\"\n",
    "button = \"right\"\n",
    "\n",
    "if button==\"left\": \n",
    "    print(\"Turn LEFT\")\n",
    "else: \n",
    "    print(\"Invalid Direction\")\n",
    "    \n",
    "print(\"END\")"
   ]
  },
  {
   "cell_type": "code",
   "execution_count": 14,
   "metadata": {},
   "outputs": [
    {
     "name": "stdout",
     "output_type": "stream",
     "text": [
      "B Grade\n",
      "___END____\n"
     ]
    }
   ],
   "source": [
    "marks = 85\n",
    "\n",
    "if marks >= 90 : # 90 - 100\n",
    "    print(\"A Grade\")\n",
    "    \n",
    "\n",
    "if ( marks >= 70 and marks < 90  )  :   # 70 - 89\n",
    "    print(\"B Grade\")\n",
    "\n",
    "if ( marks >= 50 and marks < 70  )  :  # 50 - 69\n",
    "    print(\"C Grade\")\n",
    "\n",
    "if ( marks >= 30 and marks < 50  )  :  # 30 - 49\n",
    "    print(\"D Grade\")\n",
    "\n",
    "    \n",
    "print(\"___END____\")"
   ]
  },
  {
   "cell_type": "code",
   "execution_count": 15,
   "metadata": {},
   "outputs": [
    {
     "name": "stdout",
     "output_type": "stream",
     "text": [
      "C Grade\n",
      "___END____\n"
     ]
    }
   ],
   "source": [
    "marks = 62\n",
    "\n",
    "if marks >= 90 : # 90 - 100\n",
    "    print(\"A Grade\")\n",
    "    \n",
    "\n",
    "if ( marks >= 70 and marks < 90  )  :   # 70 - 89\n",
    "    print(\"B Grade\")\n",
    "\n",
    "if ( marks >= 50 and marks < 70  )  :  # 50 - 69\n",
    "    print(\"C Grade\")\n",
    "\n",
    "if ( marks >= 30 and marks < 50  )  :  # 30 - 49\n",
    "    print(\"D Grade\")\n",
    "\n",
    "    \n",
    "print(\"___END____\")"
   ]
  },
  {
   "cell_type": "code",
   "execution_count": 16,
   "metadata": {},
   "outputs": [
    {
     "name": "stdout",
     "output_type": "stream",
     "text": [
      "D Grade\n",
      "___END____\n"
     ]
    }
   ],
   "source": [
    "marks = 31\n",
    "\n",
    "if marks >= 90 : # 90 - 100\n",
    "    print(\"A Grade\")\n",
    "    \n",
    "\n",
    "if ( marks >= 70 and marks < 90  )  :   # 70 - 89\n",
    "    print(\"B Grade\")\n",
    "\n",
    "if ( marks >= 50 and marks < 70  )  :  # 50 - 69\n",
    "    print(\"C Grade\")\n",
    "\n",
    "if ( marks >= 30 and marks < 50  )  :  # 30 - 49\n",
    "    print(\"D Grade\")\n",
    "\n",
    "    \n",
    "print(\"___END____\")"
   ]
  },
  {
   "cell_type": "code",
   "execution_count": 17,
   "metadata": {},
   "outputs": [
    {
     "name": "stdout",
     "output_type": "stream",
     "text": [
      "___END____\n"
     ]
    }
   ],
   "source": [
    "marks = 10\n",
    "\n",
    "if marks >= 90 : # 90 - 100\n",
    "    print(\"A Grade\")\n",
    "    \n",
    "if ( marks >= 70 and marks < 90  )  :   # 70 - 89\n",
    "    print(\"B Grade\")\n",
    "\n",
    "if ( marks >= 50 and marks < 70  )  :  # 50 - 69\n",
    "    print(\"C Grade\")\n",
    "\n",
    "if ( marks >= 30 and marks < 50  )  :  # 30 - 49\n",
    "    print(\"D Grade\")\n",
    "\n",
    "    \n",
    "print(\"___END____\")"
   ]
  },
  {
   "cell_type": "code",
   "execution_count": 22,
   "metadata": {},
   "outputs": [
    {
     "name": "stdout",
     "output_type": "stream",
     "text": [
      "___END____\n"
     ]
    }
   ],
   "source": [
    "marks = 10\n",
    "\n",
    "if marks >= 90 : # 90 - 100\n",
    "    print(\"A Grade\")\n",
    "    \n",
    "if ( marks >= 70 and marks < 90  )  :   # 70 - 89\n",
    "    print(\"B Grade\")\n",
    "\n",
    "if ( marks >= 50 and marks < 70  )  :  # 50 - 69\n",
    "    print(\"C Grade\")\n",
    "\n",
    "if  marks >= 30 and marks < 50    :  # 30 - 49\n",
    "    print(\"D Grade\")\n",
    "\n",
    "\n",
    "\n",
    "    \n",
    "print(\"___END____\")"
   ]
  },
  {
   "cell_type": "code",
   "execution_count": 24,
   "metadata": {},
   "outputs": [
    {
     "name": "stdout",
     "output_type": "stream",
     "text": [
      "a is greater\n"
     ]
    }
   ],
   "source": [
    "# Comapre 2 numbers\n",
    "a = 100\n",
    "b = 20\n",
    "\n",
    "if a > b : \n",
    "    print('a is greater')\n",
    "else : \n",
    "    print(\"b is greater\")\n",
    "    \n"
   ]
  },
  {
   "cell_type": "code",
   "execution_count": 29,
   "metadata": {},
   "outputs": [],
   "source": [
    "# Comapre 2 numbers\n",
    "a = 20\n",
    "b = 20\n",
    "\n",
    "if a > b : # 20 > 20\n",
    "    print('a is greater')\n",
    "elif b > a : # 20 > 20\n",
    "    print(\"b is greater\")\n",
    "else : \n",
    "    print(\"EQUAL\")\n",
    "\n"
   ]
  },
  {
   "cell_type": "code",
   "execution_count": 27,
   "metadata": {},
   "outputs": [
    {
     "name": "stdout",
     "output_type": "stream",
     "text": [
      "b is greater\n"
     ]
    }
   ],
   "source": [
    "# Comapre 2 numbers\n",
    "a = 10\n",
    "b = 20\n",
    "\n",
    "if a > b : # 10 > 20\n",
    "    print('a is greater')\n",
    "elif b > a : # 20 > 10\n",
    "    print(\"b is greater\")\n",
    "else : \n",
    "    print(\"EQUAL\")\n"
   ]
  },
  {
   "cell_type": "code",
   "execution_count": 28,
   "metadata": {},
   "outputs": [
    {
     "name": "stdout",
     "output_type": "stream",
     "text": [
      "a is greater\n"
     ]
    }
   ],
   "source": [
    "# Comapre 2 numbers\n",
    "a = 20\n",
    "b = 10\n",
    "\n",
    "if a > b : # 20 > 10\n",
    "    print('a is greater')\n",
    "elif b > a : # 10 > 20\n",
    "    print(\"b is greater\")\n",
    "else : \n",
    "    print(\"EQUAL\")\n"
   ]
  },
  {
   "cell_type": "code",
   "execution_count": null,
   "metadata": {},
   "outputs": [],
   "source": []
  },
  {
   "cell_type": "code",
   "execution_count": 37,
   "metadata": {},
   "outputs": [
    {
     "name": "stdout",
     "output_type": "stream",
     "text": [
      "a is greater\n"
     ]
    }
   ],
   "source": [
    "# Comapre 2 numbers\n",
    "a = 20\n",
    "b = 10\n",
    "\n",
    "if a > b : # 20 > 10\n",
    "    print('a is greater')\n",
    "else : \n",
    "    print(\"EQUAL\")\n"
   ]
  },
  {
   "cell_type": "code",
   "execution_count": null,
   "metadata": {},
   "outputs": [],
   "source": []
  },
  {
   "cell_type": "code",
   "execution_count": 48,
   "metadata": {},
   "outputs": [
    {
     "name": "stdout",
     "output_type": "stream",
     "text": [
      "A Grade\n",
      "FAIL\n",
      "___END____\n"
     ]
    }
   ],
   "source": [
    "marks = 99\n",
    "\n",
    "#################################################\n",
    "if marks >= 90 : # 90 - 100\n",
    "    print(\"A Grade\")\n",
    "#################################################\n",
    "    \n",
    "#################################################\n",
    "if ( marks >= 70 and marks < 90  )  :   # 70 - 89\n",
    "    print(\"B Grade\")\n",
    "#################################################\n",
    "\n",
    "#################################################\n",
    "if ( marks >= 50 and marks < 70  )  :  # 50 - 69\n",
    "    print(\"C Grade\")\n",
    "#################################################\n",
    "\n",
    "#################################################\n",
    "if ( marks >= 30 and marks < 50  )  :  # 30 - 49\n",
    "    print(\"D Grade\")\n",
    "\n",
    "else : \n",
    "    print('FAIL')\n",
    "#################################################\n",
    "\n",
    "print(\"___END____\")"
   ]
  },
  {
   "cell_type": "code",
   "execution_count": 49,
   "metadata": {},
   "outputs": [
    {
     "name": "stdout",
     "output_type": "stream",
     "text": [
      "A Grade\n",
      "___END____\n"
     ]
    }
   ],
   "source": [
    "marks = 99\n",
    "\n",
    "#################################################\n",
    "if marks >= 90 : # 90 - 100\n",
    "    print(\"A Grade\")\n",
    "    \n",
    "elif ( marks >= 70 and marks < 90  )  :   # 70 - 89\n",
    "    print(\"B Grade\")\n",
    "\n",
    "elif ( marks >= 50 and marks < 70  )  :  # 50 - 69\n",
    "    print(\"C Grade\")\n",
    "\n",
    "elif ( marks >= 30 and marks < 50  )  :  # 30 - 49\n",
    "    print(\"D Grade\")\n",
    "else : \n",
    "    print(\"FAIL\")\n",
    "#################################################\n",
    "    \n",
    "print(\"___END____\")"
   ]
  },
  {
   "cell_type": "code",
   "execution_count": null,
   "metadata": {},
   "outputs": [],
   "source": []
  },
  {
   "cell_type": "code",
   "execution_count": 56,
   "metadata": {},
   "outputs": [
    {
     "name": "stdout",
     "output_type": "stream",
     "text": [
      "west\n"
     ]
    }
   ],
   "source": [
    "# delhi -> north\n",
    "# chennai -> south\n",
    "# gujrat -> west\n",
    "# assam -> east\n",
    "# _______ -> CLUELESS\n",
    "\n",
    "\n",
    "place = 'assam'\n",
    "\n",
    "if place == 'delhi' :\n",
    "    print('north')\n",
    "elif place == 'chennai' :\n",
    "    print('south')\n",
    "elif place == 'gujrat':\n",
    "    print('east')\n",
    "elif place == 'assam':\n",
    "    print('west')\n",
    "else:\n",
    "    print('CLUELESS')"
   ]
  },
  {
   "cell_type": "code",
   "execution_count": null,
   "metadata": {},
   "outputs": [],
   "source": []
  },
  {
   "cell_type": "code",
   "execution_count": null,
   "metadata": {},
   "outputs": [],
   "source": []
  },
  {
   "cell_type": "code",
   "execution_count": null,
   "metadata": {},
   "outputs": [],
   "source": []
  },
  {
   "cell_type": "code",
   "execution_count": null,
   "metadata": {},
   "outputs": [],
   "source": []
  },
  {
   "cell_type": "code",
   "execution_count": null,
   "metadata": {},
   "outputs": [],
   "source": []
  },
  {
   "cell_type": "code",
   "execution_count": null,
   "metadata": {},
   "outputs": [],
   "source": []
  },
  {
   "cell_type": "code",
   "execution_count": null,
   "metadata": {},
   "outputs": [],
   "source": []
  },
  {
   "cell_type": "code",
   "execution_count": null,
   "metadata": {},
   "outputs": [],
   "source": []
  }
 ],
 "metadata": {
  "kernelspec": {
   "display_name": "Python 3 (ipykernel)",
   "language": "python",
   "name": "python3"
  },
  "language_info": {
   "codemirror_mode": {
    "name": "ipython",
    "version": 3
   },
   "file_extension": ".py",
   "mimetype": "text/x-python",
   "name": "python",
   "nbconvert_exporter": "python",
   "pygments_lexer": "ipython3",
   "version": "3.9.13"
  }
 },
 "nbformat": 4,
 "nbformat_minor": 4
}

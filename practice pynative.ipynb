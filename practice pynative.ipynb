{
 "cells": [
  {
   "cell_type": "markdown",
   "id": "d5a33b91",
   "metadata": {},
   "source": [
    "Exercise 1: Calculate the multiplication and sum of two numbers\n",
    "Given two integer numbers return their product only if the product is equal to or lower than 1000, else return their sum."
   ]
  },
  {
   "cell_type": "code",
   "execution_count": null,
   "id": "00253523",
   "metadata": {},
   "outputs": [],
   "source": [
    "a=30\n",
    "b=40\n",
    "\n",
    "if((a*b)>=1000):\n",
    "    print(a+b)\n",
    "else:\n",
    "\n",
    "    print(a*b)"
   ]
  },
  {
   "cell_type": "markdown",
   "id": "31404ed4",
   "metadata": {},
   "source": [
    "Exercise 2: Print the sum of the current number and the previous number\n",
    "Write a program to iterate the first 10 numbers and in each iteration, print the sum of the current and previous number."
   ]
  },
  {
   "cell_type": "code",
   "execution_count": null,
   "id": "943d911d",
   "metadata": {},
   "outputs": [],
   "source": [
    "a=0\n",
    "\n",
    "while a<=10:\n",
    "    b=a\n",
    "    a=a+1\n",
    "    print(\"Current Number:\",b ,\"Previous Number:\" , a , \"Sum:\",a+b );"
   ]
  },
  {
   "attachments": {},
   "cell_type": "markdown",
   "id": "63736bf2",
   "metadata": {},
   "source": [
    "Exercise 3: Print characters from a string that are present at an even index number\n",
    "Write a program to accept a string from the user and display characters that are present at an even index number.\n",
    "\n",
    "For example, str = \"pynative\" so you should display ‘p’, ‘n’, ‘t’, ‘v’."
   ]
  },
  {
   "cell_type": "code",
   "execution_count": null,
   "id": "485843c9",
   "metadata": {},
   "outputs": [],
   "source": [
    "a=\"pynative\"\n",
    "x = list(a)\n",
    "for i in x[0::2]:\n",
    "    print(i)"
   ]
  },
  {
   "cell_type": "code",
   "execution_count": null,
   "id": "9980bc1e",
   "metadata": {},
   "outputs": [],
   "source": [
    "l=[1,2,3,4,5,6,7,8]\n",
    "print(l[3:-2])"
   ]
  },
  {
   "attachments": {},
   "cell_type": "markdown",
   "id": "ad97550a",
   "metadata": {},
   "source": [
    "Exercise 4: Remove first n characters from a string\n",
    "Write a program to remove characters from a string starting from zero up to n and return a new string.\n",
    "\n",
    "For example:\n",
    "\n",
    "remove_chars(\"pynative\", 4) so output must be tive. Here we need to remove first four characters from a string.\n",
    "remove_chars(\"pynative\", 2) so output must be native. Here we need to remove first two characters from a string."
   ]
  },
  {
   "cell_type": "code",
   "execution_count": null,
   "id": "f7e162f3",
   "metadata": {},
   "outputs": [],
   "source": [
    "a=\"pynative\"\n",
    "print(a[4:])\n",
    "print(a[2:])\n",
    "\n",
    "def remove_chars(word, n):\n",
    "    print('Original string:', word)\n",
    "    x = word[n:]\n",
    "    return x\n",
    "\n",
    "print(\"Removing characters from a string\")\n",
    "print(remove_chars(\"pynative\", 4))\n",
    "print(remove_chars(\"pynative\", 2))\n"
   ]
  },
  {
   "cell_type": "code",
   "execution_count": null,
   "id": "d39c1413",
   "metadata": {},
   "outputs": [],
   "source": [
    "a=10;b=20\n",
    "if a>b:\n",
    "    print(\"a is greater\")\n",
    "elif a==b:\n",
    "    print(\"a =b\")\n",
    "else:\n",
    "    print(\"b is greater\")"
   ]
  },
  {
   "cell_type": "code",
   "execution_count": null,
   "id": "cdd30fe5",
   "metadata": {},
   "outputs": [],
   "source": [
    "print(\"abhi\\n\",\"\\tsalagar \",\" gm\",sep='#')\n",
    "print(100//-7)\n",
    "print(100%-7)\n",
    "print(100/-7)"
   ]
  },
  {
   "cell_type": "code",
   "execution_count": null,
   "id": "70e8930b",
   "metadata": {},
   "outputs": [],
   "source": [
    "print(\"enter the input\")\n",
    "word=input();\n",
    "print(\"**************\")\n",
    "print(\"input is taken: \",word)"
   ]
  },
  {
   "cell_type": "code",
   "execution_count": null,
   "id": "126836a2",
   "metadata": {},
   "outputs": [],
   "source": [
    "print(\"hi all \\t whats up \\n good morning\")\n",
    "print(\"happy \", \" new \",\" year \", sep=\"*\")"
   ]
  },
  {
   "cell_type": "code",
   "execution_count": null,
   "id": "bb2219f6",
   "metadata": {},
   "outputs": [],
   "source": [
    "f=open('xyz.txt','r')\n",
    "data=f.read()\n",
    "if data:\n",
    "    print(\"data is there\")\n",
    "\n",
    "else:\n",
    "    print(\"data is not available\")"
   ]
  },
  {
   "cell_type": "code",
   "execution_count": null,
   "id": "21ea2c5b",
   "metadata": {},
   "outputs": [],
   "source": [
    "print(10 and 25.3 and \"abc\" and 1)\n",
    "print(10 and 0 and \"abc\" and 1)\n",
    "print(0 or \"\" or \" \" or 0 or \"\" or 0)\n",
    "print(not 0)"
   ]
  },
  {
   "cell_type": "code",
   "execution_count": null,
   "id": "de039eef",
   "metadata": {},
   "outputs": [],
   "source": [
    "print(dir(str))"
   ]
  },
  {
   "cell_type": "code",
   "execution_count": null,
   "id": "9668ea09",
   "metadata": {},
   "outputs": [],
   "source": [
    "print(dir())"
   ]
  },
  {
   "cell_type": "code",
   "execution_count": null,
   "id": "fde7d7ba",
   "metadata": {},
   "outputs": [],
   "source": [
    "print(dir(list))"
   ]
  },
  {
   "cell_type": "code",
   "execution_count": null,
   "id": "36c1857b",
   "metadata": {},
   "outputs": [],
   "source": [
    "import keyword\n",
    "print(keyword.kwlist)"
   ]
  },
  {
   "cell_type": "code",
   "execution_count": null,
   "id": "8ee55460",
   "metadata": {},
   "outputs": [],
   "source": [
    "#'capitalize', 'casefold', 'center', 'count', 'encode', 'endswith', 'expandtabs', 'find', 'format', 'format_map', 'index', 'isalnum', 'isalpha', 'isascii', 'isdecimal', 'isdigit', 'isidentifier', 'islower', 'isnumeric', 'isprintable', 'isspace', 'istitle', 'isupper', 'join', 'ljust', 'lower', 'lstrip', 'maketrans', 'partition', 'removeprefix', 'removesuffix', 'replace', 'rfind', 'rindex', 'rjust', 'rpartition', 'rsplit', 'rstrip', 'split', 'splitlines', 'startswith', 'strip', 'swapcase', 'title', 'translate', 'upper', 'zfill'\n",
    "\n",
    "a=\"PytHon   pryogrammiynG  \"\n",
    "\n",
    "print(a.title())\n",
    "print(a.lower())\n",
    "print(a.upper())\n",
    "print(a.swapcase())\n",
    "print(a.strip())\n",
    "print(a.split())\n",
    "print(a.splitlines())\n",
    "print(a.rsplit())\n",
    "print(a.find(\"y\",1))\n",
    "print(a.find(\"y\",a.find(\"y\")+1))\n",
    "print(a.find(\"y\",a.find(\"y\",a.find(\"y\")+1)+1))\n",
    "print(a.find(\"z\"))\n",
    "print(a.index(\"y\"))\n",
    "print(a.rfind(\"y\"))\n",
    "print(a.rindex(\"y\"))\n",
    "try:\n",
    "  print(a.index(\"z\"))\n",
    "except:\n",
    "  print(\"An exception occurred\")\n",
    "\n",
    "print(a.expandtabs())\n",
    "print(a.capitalize())\n",
    "print(a.casefold())\n",
    "print(a.lstrip())\n",
    "print(a.count(\"a\"))\n",
    "print(a.replace(\"y\",\"x\"))\n",
    "print(a.replace(\"y\",\"x\",1))\n",
    "print(a.center(26))"
   ]
  },
  {
   "cell_type": "code",
   "execution_count": null,
   "id": "8673a127",
   "metadata": {},
   "outputs": [],
   "source": [
    "a=\"python\"\n",
    "print(a.center(10))\n",
    "print(a.center(10,\"#\"))\n",
    "print(a.ljust(10))\n",
    "print(a.ljust(10,\"#\"))\n",
    "print(a.rjust(10))\n",
    "print(a.rjust(10,\"#\"))"
   ]
  },
  {
   "cell_type": "code",
   "execution_count": null,
   "id": "092a190a",
   "metadata": {},
   "outputs": [],
   "source": [
    "name=\"don\"\n",
    "age=60\n",
    "sal=100.5\n",
    "\n",
    "print(\"{0} is {1} older and earning salary of {2}\".format(name,age,sal))\n",
    "print(f\"{name} is {age} older and earning salary of {sal}\")\n",
    "print(\"%s is %0.2f older and earning salary of %d\"%format(name,age,sal))"
   ]
  },
  {
   "cell_type": "code",
   "execution_count": null,
   "id": "a5864c5d",
   "metadata": {},
   "outputs": [],
   "source": [
    "a=12345\n",
    "for i in range(1,6):\n",
    "    for j in range(1,i+1):\n",
    "     print(i,end=\" \")\n",
    "    print()\n",
    "\n",
    "for i in range(1,6):\n",
    "    print(i*str(i))\n",
    "\n",
    "for i in range(1,6):\n",
    "    for j in range(1,i+1):\n",
    "     print(\"*\",end=\" \")\n",
    "    print()\n",
    "\n",
    "word=\"python\"\n",
    "for i in range(0,len(word)):\n",
    "    print((i+1)*word[i])"
   ]
  },
  {
   "cell_type": "code",
   "execution_count": null,
   "id": "f8482b71",
   "metadata": {},
   "outputs": [],
   "source": [
    "a=1\n",
    "while a<=3:\n",
    "    print(a*'*')\n",
    "    a=a+1"
   ]
  },
  {
   "attachments": {},
   "cell_type": "markdown",
   "id": "5eed2d4b",
   "metadata": {},
   "source": [
    "***Python Input and Output Exercise***"
   ]
  },
  {
   "cell_type": "code",
   "execution_count": null,
   "id": "a3d9a897",
   "metadata": {},
   "outputs": [],
   "source": [
    "'''Exercise 1: Accept numbers from a user   \n",
    "Write a program to accept two numbers from the user and calculate multiplication'''\n",
    "\n",
    "a=int(input(\"1st number: \"))\n",
    "b=int(input(\"2nd number: \"))\n",
    "print(a*b)"
   ]
  },
  {
   "cell_type": "code",
   "execution_count": null,
   "id": "e53cd4ec",
   "metadata": {},
   "outputs": [],
   "source": [
    "''' Exercise 2: Display three string “Name”, “Is”, “James” as “Name**Is**James”\n",
    "Use the print() function to format the given words in the mentioned format. Display the ** separator between each string'''\n",
    "\n",
    "Name=\"Name\"\n",
    "Is=\"Is\"\n",
    "James=\"James\"\n",
    "print(Name,Is,James,sep='**')"
   ]
  },
  {
   "cell_type": "code",
   "execution_count": null,
   "id": "eb96c622",
   "metadata": {},
   "outputs": [],
   "source": [
    "'''Exercise 3: Convert Decimal number to octal using print() output formatting'''\n",
    "\n",
    "a=8\n",
    "b=oct(a)\n",
    "print(b[2:])\n",
    "print('%o' % a)"
   ]
  },
  {
   "cell_type": "code",
   "execution_count": null,
   "id": "f8ef3b96",
   "metadata": {},
   "outputs": [],
   "source": [
    "'''Exercise 4: Display float number with 2 decimal places using'''\n",
    "num = 458.541315\n",
    "print(round(num,2))"
   ]
  },
  {
   "cell_type": "code",
   "execution_count": null,
   "id": "aaea3cbe",
   "metadata": {},
   "outputs": [],
   "source": [
    "'''Exercise 5: Accept a list of 5 float numbers as an input from the user'''\n",
    "\n",
    "a=[]\n",
    "\n",
    "for i in range(3):\n",
    "    b=float(input())\n",
    "    a.append(b)\n",
    "print(a)"
   ]
  },
  {
   "cell_type": "code",
   "execution_count": null,
   "id": "8a0ed68b",
   "metadata": {},
   "outputs": [],
   "source": []
  },
  {
   "cell_type": "code",
   "execution_count": null,
   "id": "70534820",
   "metadata": {},
   "outputs": [],
   "source": [
    "'''Exercise 6: Write all content of a given file into a new file by skipping line number 5'''\n",
    "# read test.txt\n",
    "with open(\"test.txt\", \"r\") as fp:\n",
    "    # read all lines from a file\n",
    "    lines = fp.readlines()\n",
    "\n",
    "# open new file in write mode\n",
    "with open(\"new_file.txt\", \"w\") as fp:\n",
    "    count = 0\n",
    "    # iterate each lines from a test.txt\n",
    "    for line in lines:\n",
    "        # skip 5th lines\n",
    "        if count == 4:\n",
    "            count += 1\n",
    "            continue\n",
    "        else:\n",
    "            # write current line\n",
    "            fp.write(line)\n",
    "        # in each iteration reduce the count\n",
    "        count += 1"
   ]
  },
  {
   "cell_type": "code",
   "execution_count": null,
   "id": "a1cc900c",
   "metadata": {},
   "outputs": [],
   "source": []
  },
  {
   "cell_type": "code",
   "execution_count": null,
   "id": "fec20bef",
   "metadata": {},
   "outputs": [],
   "source": [
    "''' Exercise 7: Accept any three string from one input() call\n",
    "Write a program to take three names as input from a user in the single input() function call.'''\n",
    "\n",
    "a=input(\"add 1st name: \",),input(\"2nd name: \"),input(\"3rd name: \")\n",
    "print(a)\n",
    "str1, str2, str3 = input(\"Enter three string\").split()\n",
    "print('Name1:', str1)\n",
    "print('Name2:', str2)\n",
    "print('Name3:', str3)"
   ]
  },
  {
   "cell_type": "code",
   "execution_count": null,
   "id": "5c4b0dc9",
   "metadata": {},
   "outputs": [],
   "source": [
    "'''Exercise 8: Format variables using a string.format() method.\n",
    "Write a program to use string.format() method to format the following three variables as per the expected output'''\n",
    "\n",
    "totalMoney = 1000\n",
    "quantity = 3\n",
    "price = 450\n",
    "\n",
    "statement1 = \"I have {1} dollars so I can buy {0} football for {2:.1f} dollars.\"\n",
    "print(statement1.format(quantity, totalMoney, price))\n",
    "'''print(f\"I have totalMoney:{totalMoney} dollars so I can buy quantity:{quantity} football for price:{price} dollars.\")'''"
   ]
  },
  {
   "cell_type": "code",
   "execution_count": null,
   "id": "88f72c82",
   "metadata": {},
   "outputs": [],
   "source": [
    "'''Exercise 9: Check file is empty or not\n",
    "Write a program to check if the given file is empty or not\n",
    "with open(\"test.txt\", \"r\") as fp:\n",
    "    # read all lines from a file\n",
    "    lines = fp.readlines()\n",
    "\n",
    "for i in range(len(lines)):\n",
    "    if lines==0:\n",
    "        print(\"file is empty\")\n",
    "    else:\n",
    "        print(\"file is not empty\")'''\n",
    "\n",
    "\n",
    "import os\n",
    "\n",
    "size = os.stat(\"test.txt\").st_size\n",
    "if size == 0:\n",
    "    print('file is empty')\n",
    "else:\n",
    "    print('file is not empty')\n"
   ]
  },
  {
   "cell_type": "code",
   "execution_count": null,
   "id": "1d7766f3",
   "metadata": {},
   "outputs": [],
   "source": [
    "'''Exercise 10: Read line number 4 from the following file'''\n",
    "\n",
    "with open(\"test.txt\",\"r\") as fp:\n",
    "    line=fp.readlines()\n",
    "    print(line[3])"
   ]
  },
  {
   "attachments": {},
   "cell_type": "markdown",
   "id": "34d4d298",
   "metadata": {},
   "source": [
    "# LOOPS QUESTIONS"
   ]
  },
  {
   "cell_type": "code",
   "execution_count": null,
   "id": "fc2b36c0",
   "metadata": {},
   "outputs": [],
   "source": [
    "'''Exercise 1: Print First 10 natural numbers using while loop'''\n",
    "n=1\n",
    "\n",
    "while n<=10:\n",
    "    print(n)\n",
    "    n+=1"
   ]
  },
  {
   "cell_type": "code",
   "execution_count": 3,
   "id": "64abfe66",
   "metadata": {},
   "outputs": [
    {
     "name": "stdout",
     "output_type": "stream",
     "text": [
      "1 \n",
      "1 2 \n",
      "1 2 3 \n",
      "1 2 3 4 \n",
      "1 2 3 4 5 \n"
     ]
    }
   ],
   "source": [
    "'''Exercise 2: Print the following pattern\n",
    "Write a program to print the following number pattern using a loop.'''\n",
    "\n",
    "n=5\n",
    "i=1\n",
    "while i<=n:\n",
    "    j=1\n",
    "    while j<=i:\n",
    "        print(j,end=\" \")\n",
    "        j=j+1\n",
    "    print()\n",
    "    i=i+1"
   ]
  },
  {
   "cell_type": "code",
   "execution_count": 1,
   "id": "37cebeb8",
   "metadata": {},
   "outputs": [
    {
     "name": "stdout",
     "output_type": "stream",
     "text": [
      "1 \n",
      "1 2 \n",
      "1 2 3 \n",
      "1 2 3 4 \n",
      "1 2 3 4 5 \n"
     ]
    }
   ],
   "source": [
    "for i in range(1,6):\n",
    "    for j in range(1,i+1):  \n",
    "        print(j,end=\" \")\n",
    "    print(\"\")"
   ]
  },
  {
   "cell_type": "code",
   "execution_count": 4,
   "id": "55b3cf36",
   "metadata": {},
   "outputs": [
    {
     "name": "stdout",
     "output_type": "stream",
     "text": [
      "  1 \n",
      "  2   3 \n",
      "  4   5   6 \n",
      "  7   8   9  10 \n",
      " 11  12  13  14  15 \n"
     ]
    }
   ],
   "source": [
    "k = 1\n",
    "i = 1\n",
    "while i <= 5 :\n",
    "    j = 1\n",
    "    while j <= i:\n",
    "        print(\"{:3d}\".format(k), end = \" \")\n",
    "        j += 1\n",
    "        k += 1\n",
    "    print()\n",
    "    i += 1"
   ]
  },
  {
   "cell_type": "code",
   "execution_count": 25,
   "id": "88f99587",
   "metadata": {},
   "outputs": [
    {
     "name": "stdout",
     "output_type": "stream",
     "text": [
      "55\n"
     ]
    }
   ],
   "source": [
    "'''Exercise 3: Calculate the sum of all numbers from 1 to a given number\n",
    "Write a program to accept a number from a user and calculate the sum of all numbers from 1 to a given number\n",
    "\n",
    "For example, if the user entered 10 the output should be 55 (1+2+3+4+5+6+7+8+9+10)'''\n",
    "\n",
    "num=int(input())\n",
    "c=0\n",
    "for i in range(1,num+1):\n",
    "    c=c+i\n",
    "print(c)"
   ]
  },
  {
   "cell_type": "code",
   "execution_count": 26,
   "id": "a36840f9",
   "metadata": {},
   "outputs": [
    {
     "name": "stdout",
     "output_type": "stream",
     "text": [
      "5\n",
      "10\n",
      "15\n",
      "20\n",
      "25\n",
      "30\n",
      "35\n",
      "40\n",
      "45\n",
      "50\n"
     ]
    }
   ],
   "source": [
    "'''Exercise 4: Write a program to print multiplication table of a given number\n",
    "For example, num = 2 so the output should be'''\n",
    "\n",
    "a=int(input())\n",
    "i=1\n",
    "while i <=10:\n",
    "    print(a*i)\n",
    "    i+=1"
   ]
  },
  {
   "cell_type": "code",
   "execution_count": 56,
   "id": "332e319d",
   "metadata": {},
   "outputs": [
    {
     "name": "stdout",
     "output_type": "stream",
     "text": [
      "75\n",
      "150\n",
      "145\n"
     ]
    }
   ],
   "source": [
    "'''Exercise 5: Display numbers from a list using loop\n",
    "Write a program to display only those numbers from a list that satisfy the following conditions\n",
    "\n",
    "The number must be divisible by five\n",
    "If the number is greater than 150, then skip it and move to the next number\n",
    "If the number is greater than 500, then stop the loop'''\n",
    "\n",
    "a = [12, 75, 150, 180, 145, 525, 50]\n",
    "c=0\n",
    "for i in range(len(a)):\n",
    "    if a[i]>500:\n",
    "        break  \n",
    "    if a[i]>150:\n",
    "        continue \n",
    "        c=c+1   \n",
    "    if a[i]%5==0: \n",
    "        print(a[i])\n",
    "\n",
    "        "
   ]
  },
  {
   "cell_type": "code",
   "execution_count": 63,
   "metadata": {},
   "outputs": [
    {
     "name": "stdout",
     "output_type": "stream",
     "text": [
      "5\n"
     ]
    }
   ],
   "source": [
    "'''Exercise 6: Count the total number of digits in a number\n",
    "Write a program to count the total number of digits in a number using a while loop.'''\n",
    "\n",
    "a=75869\n",
    "b=1\n",
    "while b in range(1,len(str(a))):\n",
    "    b=b+1\n",
    "print(b)"
   ]
  },
  {
   "cell_type": "code",
   "execution_count": 89,
   "id": "29110727",
   "metadata": {},
   "outputs": [
    {
     "name": "stdout",
     "output_type": "stream",
     "text": [
      "1 2 3 4 5 \n",
      "1 2 3 4 \n",
      "1 2 3 \n",
      "1 2 \n",
      "1 \n"
     ]
    }
   ],
   "source": [
    "'''Exercise 7: Print the following pattern\n",
    "Write a program to use for loop to print the following reverse number pattern'''\n",
    "\n",
    "n=1\n",
    "i=5\n",
    "while i>=n:\n",
    "    j=1\n",
    "    while j<=i:\n",
    "        print(j,end=\" \")\n",
    "        j=j+1\n",
    "    print()\n",
    "    i=i-1"
   ]
  },
  {
   "cell_type": "code",
   "execution_count": 100,
   "id": "5b6497d1",
   "metadata": {},
   "outputs": [
    {
     "name": "stdout",
     "output_type": "stream",
     "text": [
      "50\n",
      "40\n",
      "30\n",
      "20\n",
      "10\n",
      "50\n",
      "40\n",
      "30\n",
      "20\n",
      "10\n"
     ]
    }
   ],
   "source": [
    "'''Exercise 8: Print list in reverse order using a loop'''\n",
    "a = [10, 20, 30, 40, 50]\n",
    "b=0\n",
    "c=0\n",
    "while b<len(a):\n",
    "    c=sorted(a,reverse=True)\n",
    "    print(c[b])\n",
    "    b+=1\n",
    "for i in range(len(a)-1,-1,-1):\n",
    "    print(a[i])\n"
   ]
  },
  {
   "cell_type": "code",
   "execution_count": 102,
   "id": "c05e4394",
   "metadata": {},
   "outputs": [
    {
     "name": "stdout",
     "output_type": "stream",
     "text": [
      "-10\n",
      "-9\n",
      "-8\n",
      "-7\n",
      "-6\n",
      "-5\n",
      "-4\n",
      "-3\n",
      "-2\n",
      "-1\n"
     ]
    }
   ],
   "source": [
    "'''Exercise 9: Display numbers from -10 to -1 using for loop'''\n",
    "for i in range(-10,0,1):\n",
    "    print(i)"
   ]
  },
  {
   "cell_type": "code",
   "execution_count": 115,
   "id": "594b0718",
   "metadata": {},
   "outputs": [
    {
     "name": "stdout",
     "output_type": "stream",
     "text": [
      "0\n",
      "1\n",
      "2\n",
      "3\n",
      "4\n",
      "Done!\n"
     ]
    }
   ],
   "source": [
    "'''Exercise 10: Use else block to display a message “Done” after successful execution of for loop\n",
    "For example, the following loop will execute without any error.'''\n",
    "\n",
    "for i in range(5):\n",
    "    print(i)\n",
    "else:\n",
    "    print(\"Done!\")"
   ]
  },
  {
   "cell_type": "code",
   "execution_count": 153,
   "id": "e048d0bb",
   "metadata": {},
   "outputs": [
    {
     "name": "stdout",
     "output_type": "stream",
     "text": [
      "29\n",
      "31\n",
      "37\n",
      "41\n",
      "43\n",
      "47\n"
     ]
    }
   ],
   "source": [
    "'''Exercise 11: Write a program to display all prime numbers within a range'''\n",
    "\n",
    "for i in range(25,51):\n",
    "    for j in range(2,i):\n",
    "        if i%j==0:           \n",
    "            break   \n",
    "    else:\n",
    "        print(i)\n",
    "    "
   ]
  },
  {
   "cell_type": "code",
   "execution_count": 158,
   "id": "2eff6256",
   "metadata": {},
   "outputs": [
    {
     "name": "stdout",
     "output_type": "stream",
     "text": [
      "Fibonacci sequence:\n",
      "0  1  1  2  3  5  8  13  21  34  "
     ]
    }
   ],
   "source": [
    "'''Exercise 12: Display Fibonacci series up to 10 terms'''\n",
    "# first two numbers\n",
    "num1, num2 = 0, 1\n",
    "\n",
    "print(\"Fibonacci sequence:\")\n",
    "# run loop 10 times\n",
    "for i in range(10):\n",
    "    # print next number of a series\n",
    "    print(num1, end=\"  \")\n",
    "    # add last two numbers to get next number\n",
    "    res = num1 + num2\n",
    "\n",
    "    # update values\n",
    "    num1 = num2\n",
    "    num2 = res"
   ]
  },
  {
   "cell_type": "code",
   "execution_count": 165,
   "id": "6abaf26d",
   "metadata": {},
   "outputs": [
    {
     "name": "stdout",
     "output_type": "stream",
     "text": [
      "120\n"
     ]
    }
   ],
   "source": [
    "'''Exercise 13: Find the factorial of a given number'''\n",
    "a=5\n",
    "c=1\n",
    "for i in range(1,a+1) :\n",
    "   c=c*i\n",
    "print(c)  "
   ]
  },
  {
   "cell_type": "code",
   "execution_count": 178,
   "id": "1df82532",
   "metadata": {},
   "outputs": [
    {
     "name": "stdout",
     "output_type": "stream",
     "text": [
      "24567\n"
     ]
    }
   ],
   "source": [
    "'''Exercise 14: Reverse a given integer number'''\n",
    "a=76542\n",
    "a=str(a)\n",
    "print(a[::-1])"
   ]
  },
  {
   "cell_type": "code",
   "execution_count": 186,
   "id": "3e7304a8",
   "metadata": {},
   "outputs": [
    {
     "name": "stdout",
     "output_type": "stream",
     "text": [
      "20\n",
      "40\n",
      "60\n",
      "80\n",
      "100\n"
     ]
    }
   ],
   "source": [
    "'''Exercise 15: Use a loop to display elements from a given list present at odd index positions'''\n",
    "a = [10, 20, 30, 40, 50, 60, 70, 80, 90, 100]\n",
    "\n",
    "for i in a[1::2]:\n",
    "    \n",
    "    print(i)"
   ]
  },
  {
   "cell_type": "code",
   "execution_count": 187,
   "id": "bba685e5",
   "metadata": {},
   "outputs": [
    {
     "name": "stdout",
     "output_type": "stream",
     "text": [
      "1\n",
      "8\n",
      "81\n",
      "1024\n",
      "15625\n"
     ]
    }
   ],
   "source": [
    "'''Exercise 16: Calculate the cube of all numbers from 1 to a given number'''\n",
    "a=5\n",
    "i=1\n",
    "while i<=5:\n",
    "    print(i**i*i)\n",
    "    i+=1"
   ]
  },
  {
   "cell_type": "code",
   "execution_count": 201,
   "id": "7cb7110f",
   "metadata": {},
   "outputs": [
    {
     "name": "stdout",
     "output_type": "stream",
     "text": [
      "2 22 222 2222 22222 24692\n"
     ]
    }
   ],
   "source": [
    "'''Exercise 17: Find the sum of the series upto n terms\n",
    "Write a program to calculate the sum of series up to n term. For example, if n =5 the series will become 2 + 22 + 222 + 2222 + 22222 = 24690'''\n",
    "\n",
    "n=5\n",
    "i=1\n",
    "c=\"2\"\n",
    "d=2\n",
    "while i<=5:\n",
    "    c=i*\"2\"   \n",
    "    d=d+int(c)\n",
    "    print(c,end=\" \") \n",
    "    i+=1\n",
    "print(d)"
   ]
  },
  {
   "cell_type": "code",
   "execution_count": 207,
   "id": "3ca53b0f",
   "metadata": {},
   "outputs": [
    {
     "name": "stdout",
     "output_type": "stream",
     "text": [
      "* \n",
      "* * \n",
      "* * * \n",
      "* * * * \n",
      "* * * * * \n",
      "* * * * * * \n",
      "* * * * * \n",
      "* * * * \n",
      "* * * \n",
      "* * \n",
      "* \n"
     ]
    }
   ],
   "source": [
    "'''Exercise 18: Print the following pattern\n",
    "Write a program to print the following start pattern using the for loop'''\n",
    "\n",
    "\n",
    "n,i=5,1\n",
    "while i<=5:\n",
    "    print(i*\"* \")\n",
    "    i+=1\n",
    "for i in range(6,0,-1):\n",
    "    print(i*\"* \")"
   ]
  },
  {
   "attachments": {},
   "cell_type": "markdown",
   "id": "fe85df0a",
   "metadata": {},
   "source": [
    "# STRING QUESTIONS"
   ]
  },
  {
   "cell_type": "code",
   "execution_count": 221,
   "id": "6faea661",
   "metadata": {},
   "outputs": [
    {
     "name": "stdout",
     "output_type": "stream",
     "text": [
      "Jms\n",
      "\n",
      "Jms\n"
     ]
    }
   ],
   "source": [
    "'''Exercise 1A: Create a string made of the first, middle and last character\n",
    "Write a program to create a new string made of an input string’s first, middle, and last character.'''\n",
    "a=\"James\"\n",
    "for i in range(0,len(a),2):\n",
    "    print(a[i],end=\"\")\n",
    "print(\"\\n\")\n",
    "l=len(a)\n",
    "m=int(l/2)\n",
    "s=a[0]+a[m]+a[-1]\n",
    "print(s)"
   ]
  },
  {
   "cell_type": "code",
   "execution_count": 225,
   "id": "49ffdd2e",
   "metadata": {},
   "outputs": [
    {
     "name": "stdout",
     "output_type": "stream",
     "text": [
      "Dip\n",
      "Son\n"
     ]
    }
   ],
   "source": [
    "'''Exercise 1B: Create a string made of the middle three characters\n",
    "Write a program to create a new string made of the middle three characters of an input string.'''\n",
    "a = \"JhonDipPeta\"\n",
    "l=len(a)\n",
    "m=int(l/2)\n",
    "s1=a[m-1]+a[m]+a[m+1]\n",
    "print(s1)\n",
    "b=\"JaSonAy\"\n",
    "l1=len(b)\n",
    "n=int(l1/2)\n",
    "s2=b[n-1]+b[n]+b[n+1]\n",
    "print(s2)"
   ]
  },
  {
   "cell_type": "code",
   "execution_count": 234,
   "id": "350c49ad",
   "metadata": {},
   "outputs": [
    {
     "name": "stdout",
     "output_type": "stream",
     "text": [
      "AuKellylt\n"
     ]
    }
   ],
   "source": [
    "'''Exercise 2: Append new string in the middle of a given string\n",
    "Given two strings, s1 and s2. Write a program to create a new string s3 by appending s2 in the middle of s1.'''\n",
    "s1 = \"Ault\"\n",
    "s2 = \"Kelly\"\n",
    "s3=\"\"\n",
    "for i in range(len(s1)):\n",
    "    if i==1:\n",
    "     s3=s3+s1[i]+s2    \n",
    "    else:\n",
    "       s3=s3+s1[i]\n",
    "print(s3)"
   ]
  },
  {
   "cell_type": "code",
   "execution_count": 236,
   "id": "ea41e4f6",
   "metadata": {},
   "outputs": [
    {
     "name": "stdout",
     "output_type": "stream",
     "text": [
      "AJrpan\n"
     ]
    }
   ],
   "source": [
    "'''Exercise 3: Create a new string made of the first, middle, and last characters of each input string\n",
    "Given two strings, s1 and s2, write a program to return a new string made of s1 and s2’s first, middle, and last characters.'''\n",
    "\n",
    "a = \"America\"\n",
    "b = \"Japan\"\n",
    "ma=int(len(a)/2)\n",
    "mb=int(len(b)/2)\n",
    "r=a[0]+b[0]+a[ma]+b[mb]+a[-1]+b[-1]\n",
    "print(r)"
   ]
  },
  {
   "cell_type": "code",
   "execution_count": 240,
   "metadata": {},
   "outputs": [
    {
     "name": "stdout",
     "output_type": "stream",
     "text": [
      "yaivePNT\n"
     ]
    }
   ],
   "source": [
    "'''Exercise 4: Arrange string characters such that lowercase letters should come first\n",
    "Given string contains a combination of the lower and upper case letters. Write a program to arrange the characters of a string so that all lowercase letters should come first.'''\n",
    "\n",
    "a = \"PyNaTive\"\n",
    "c=\"\"\n",
    "d=\"\"\n",
    "for i in range(len(a)):\n",
    "    if a[i].islower():\n",
    "        c=c+a[i]\n",
    "    else:\n",
    "        d=d+a[i]\n",
    "\n",
    "print(c+d)"
   ]
  },
  {
   "cell_type": "code",
   "execution_count": 388,
   "id": "f7d2e818",
   "metadata": {},
   "outputs": [
    {
     "name": "stdout",
     "output_type": "stream",
     "text": [
      "Chars:  8 e\n",
      "Digits:  3\n",
      "Symbols:  8\n"
     ]
    }
   ],
   "source": [
    "'''Exercise 5: Count all letters, digits, and special symbols from a given string'''\n",
    "a=\"P@#yn26at^&i5ve\"\n",
    "c=0\n",
    "d=0\n",
    "s=0\n",
    "for i in range(len(a)):\n",
    "    if a[i].isalpha():\n",
    "        c=c+1\n",
    "    if a[i].isdigit():\n",
    "        d=d+1\n",
    "    if not(a[i].isalnum()):\n",
    "        e=e+1\n",
    "\n",
    "print(\"Chars: \",c)\n",
    "print(\"Digits: \",d)\n",
    "print(\"Symbols: \",e)"
   ]
  },
  {
   "cell_type": "code",
   "execution_count": 259,
   "id": "ecba469c",
   "metadata": {},
   "outputs": [
    {
     "name": "stdout",
     "output_type": "stream",
     "text": [
      "True\n",
      "False\n"
     ]
    }
   ],
   "source": [
    "'''Exercise 7: String characters balance Test\n",
    "Write a program to check if two strings are balanced. For example, strings s1 and s2 are balanced if all the characters in the s1 are present in s2. The character’s position doesn’t matter.'''\n",
    "\n",
    "a = \"Yn\"\n",
    "b = \"PYnative\"\n",
    "print(b.__contains__(\"Yn\"))\n",
    "s1 = \"Ynf\"\n",
    "s2 = \"PYnative\"\n",
    "print(s2.__contains__(\"Ynf\"))"
   ]
  },
  {
   "cell_type": "code",
   "execution_count": 270,
   "id": "0f57715b",
   "metadata": {},
   "outputs": [
    {
     "name": "stdout",
     "output_type": "stream",
     "text": [
      "Count of USA:  2\n"
     ]
    }
   ],
   "source": [
    "'''Exercise 8: Find all occurrences of a substring in a given string by ignoring the case'''\n",
    "a = \"Welcome to USA. usa awesome, isn't it?\"\n",
    "b=a.casefold()\n",
    "print(\"Count of USA: \",b.count(\"usa\"))"
   ]
  },
  {
   "cell_type": "code",
   "execution_count": 278,
   "id": "2eb5bb20",
   "metadata": {},
   "outputs": [
    {
     "name": "stdout",
     "output_type": "stream",
     "text": [
      "6\n",
      "sum is:  38 Average is 6.333333333333333\n"
     ]
    }
   ],
   "source": [
    "'''Exercise 9: Calculate the sum and average of the digits present in a string'''\n",
    "a=\"PYnative29@#8496\"\n",
    "c=0\n",
    "n=0\n",
    "for i in range(len(a)):\n",
    "    if a[i].isdigit():\n",
    "        c=c+int(a[i])\n",
    "        n=n+1\n",
    "print(\"sum is: \",c,\"Average is\",c/n)"
   ]
  },
  {
   "cell_type": "code",
   "execution_count": 347,
   "id": "060399bd",
   "metadata": {},
   "outputs": [
    {
     "name": "stdout",
     "output_type": "stream",
     "text": [
      "A : 1 p : 3 l : 1 e : 1 p : 3 a : 1 1\n",
      "2\n",
      "2\n",
      "1\n",
      "1\n",
      "Result: {'A': 1, 'p': 2, 'l': 1, 'e': 1}\n"
     ]
    }
   ],
   "source": [
    "'''Exercise 10: Write a program to count occurrences of all characters within a string'''\n",
    "a = \"Applepa\"\n",
    "c=0\n",
    "for i in range(len(a)):\n",
    "    if a[i]==a[i-1:0:-1] or a[i]==a[i+1:len(a):1]:\n",
    "        i+=1\n",
    "        continue\n",
    "    else:\n",
    "        b=a.count(a[i])\n",
    "        print(a[i], \":\",b,end=\" \")\n",
    "\n",
    "str1 = \"Apple\"\n",
    "\n",
    "# create a result dictionary\n",
    "char_dict = dict()\n",
    "\n",
    "for char in str1:\n",
    "    count = str1.count(char)\n",
    "    # add / update the count of a character\n",
    "    char_dict[char] = count\n",
    "print('Result:', char_dict)\n"
   ]
  },
  {
   "cell_type": "code",
   "execution_count": 350,
   "id": "21106aec",
   "metadata": {},
   "outputs": [
    {
     "name": "stdout",
     "output_type": "stream",
     "text": [
      "evitanY\n",
      "evitanYP"
     ]
    }
   ],
   "source": [
    "'''Exercise 11: Reverse a given string'''\n",
    "a = \"PYnative\"\n",
    "print(a[9:0:-1])\n",
    "for i in reversed(range(len(a))):\n",
    "    print(a[i],end=\"\")\n",
    "\n",
    "    "
   ]
  },
  {
   "cell_type": "code",
   "execution_count": 366,
   "id": "ba01c8e5",
   "metadata": {},
   "outputs": [
    {
     "name": "stdout",
     "output_type": "stream",
     "text": [
      "43\n"
     ]
    }
   ],
   "source": [
    "a=\"Emma is a data scientist who knows Python. Emma works at google.\"\n",
    "\n",
    "print(a.index(\"Emma\",1))"
   ]
  },
  {
   "cell_type": "code",
   "execution_count": 373,
   "id": "5aa4ffdd",
   "metadata": {},
   "outputs": [
    {
     "name": "stdout",
     "output_type": "stream",
     "text": [
      "Emma \n",
      "is \n",
      "a \n",
      "data \n",
      "scientist\n"
     ]
    }
   ],
   "source": [
    "'''Exercise 13: Split a string on hyphens\n",
    "Write a program to split a given string on hyphens and display each substring.'''\n",
    "a= \"Emma-is-a-data-scientist\"\n",
    "print(a.replace(\"-\",\" \\n\"))"
   ]
  },
  {
   "cell_type": "code",
   "execution_count": 392,
   "id": "e14be0f5",
   "metadata": {},
   "outputs": [
    {
     "name": "stdout",
     "output_type": "stream",
     "text": [
      "['Emma', 'Jon', 'Kelly', 'Eric']\n"
     ]
    }
   ],
   "source": [
    "'''Exercise 14: Remove empty strings from a list of strings'''\n",
    "a = [\"Emma\", \"Jon\", \"\", \"Kelly\", None, \"Eric\", \"\"]\n",
    "c=0\n",
    "d=[]\n",
    "for i in range(len(a)):\n",
    "  if a[i]==\"\" or a[i]==None:\n",
    "    c=1   \n",
    "    continue\n",
    "  else:\n",
    "    d.append(a[i])\n",
    "print(d)\n"
   ]
  },
  {
   "cell_type": "code",
   "execution_count": 429,
   "id": "ceb67e5d",
   "metadata": {},
   "outputs": [
    {
     "name": "stdout",
     "output_type": "stream",
     "text": [
      "JonisdevelopermusicianOriginal string is  /*Jon is @developer & musician\n",
      "New string is  Jon is developer  musician\n",
      "Original string is  /*Jon is @developer & musician\n",
      "New string is  Jon is developer  musician\n"
     ]
    }
   ],
   "source": [
    "'''Exercise 15: Remove special symbols / punctuation from a string'''\n",
    "a = \"/*Jon is @developer & musician\"\n",
    "for i in range(len(a)):\n",
    "    if a[i].isalpha():\n",
    "        \n",
    "        print(a[i],end=\"\")\n",
    "\n",
    "\n",
    "import re\n",
    "\n",
    "str1 = \"/*Jon is @developer & musician\"\n",
    "print(\"Original string is \", str1)\n",
    "\n",
    "# replace special symbols with ''\n",
    "res = re.sub(r'[^\\w\\s]', '', str1)\n",
    "print(\"New string is \", res)\n",
    "\n",
    "import string\n",
    "\n",
    "str1 = \"/*Jon is @developer & musician\"\n",
    "print(\"Original string is \", str1)\n",
    "\n",
    "new_str = str1.translate(str.maketrans('', '', string.punctuation))\n",
    "\n",
    "print(\"New string is \", new_str)"
   ]
  },
  {
   "cell_type": "code",
   "execution_count": 394,
   "id": "d76e7491",
   "metadata": {},
   "outputs": [
    {
     "name": "stdout",
     "output_type": "stream",
     "text": [
      "2510"
     ]
    }
   ],
   "source": [
    "'''Exercise 16: Removal all characters from a string except integers'''\n",
    "a= 'I am 25 years and 10 months old'\n",
    "for i in range(len(a)):\n",
    "    if a[i].isdigit():\n",
    "        \n",
    "        print(a[i],end=\"\")"
   ]
  },
  {
   "cell_type": "code",
   "execution_count": 1,
   "id": "56f480e8",
   "metadata": {},
   "outputs": [
    {
     "name": "stdout",
     "output_type": "stream",
     "text": [
      "['Emma25', 'scientist50']\n"
     ]
    }
   ],
   "source": [
    "'''Exercise 17: Find words with both alphabets and numbers\n",
    "Write a program to find words with both alphabets and numbers from an input string.'''\n",
    "a = \"Emma25 is Data scientist50 and AI Expert\"\n",
    "b=a.split()\n",
    "c=[]\n",
    "for i in range(len(b)):\n",
    "    if not(b[i].isalpha()):\n",
    "        c.append(b[i])\n",
    "print(c)\n",
    "\n"
   ]
  },
  {
   "cell_type": "code",
   "execution_count": 463,
   "id": "f141595d",
   "metadata": {},
   "outputs": [
    {
     "name": "stdout",
     "output_type": "stream",
     "text": [
      "##Jon is #developer # musician##"
     ]
    }
   ],
   "source": [
    "'''Exercise 18: Replace each special symbol with # in the following string'''\n",
    "a = '/*Jon is @developer & musician!!'\n",
    "for i in range(len(a)):\n",
    "  if not(a[i].isalnum()) and not(a[i].isspace()): \n",
    "     c=a[i].replace(a[i],\"#\")\n",
    "     print(c,end=\"\")  \n",
    "  else:\n",
    "     print(a[i],end=\"\")\n",
    "   \n",
    "  "
   ]
  },
  {
   "cell_type": "code",
   "execution_count": 474,
   "id": "5c55d8b6",
   "metadata": {},
   "outputs": [
    {
     "name": "stdout",
     "output_type": "stream",
     "text": [
      "['hey', 'alexa,', 'set', 'a', 'reminder', 'to', 'wish', 'my', 'friend', 'on', '25/02/2023']\n"
     ]
    }
   ],
   "source": [
    "msg = \"hey alexa, set a reminder to wish my friend on 25/02/2023\"\n",
    "a=msg.split()\n",
    "print(a)"
   ]
  },
  {
   "cell_type": "code",
   "execution_count": 475,
   "id": "44a28937",
   "metadata": {},
   "outputs": [
    {
     "name": "stdout",
     "output_type": "stream",
     "text": [
      "['hey', 'alexa,', 'set', 'a', 'reminder', 'to', 'wish', 'my', 'friend', 'on', '25/02/2023']\n",
      "25/02/2023\n",
      "['25', '02', '2023']\n",
      "Date =  25\n",
      "Month =  02\n",
      "Year =  2023\n"
     ]
    }
   ],
   "source": [
    "# extarct date, month and year\n",
    "# date = 25\n",
    "# month = 02\n",
    "# year = 2023\n",
    "\n",
    "msg = \"hey alexa, set a reminder to wish my friend on 25/02/2023\"\n",
    "w = msg.split(\" \")\n",
    "print(w)\n",
    "print(w[-1])\n",
    "\n",
    "res  = msg.split(\" \")[-1].split(\"/\")\n",
    "print(res)\n",
    "print( \"Date = \", res[0] )\n",
    "print( \"Month = \", res[1] )\n",
    "print( \"Year = \", res[2] )"
   ]
  },
  {
   "cell_type": "code",
   "execution_count": null,
   "id": "45f2273c",
   "metadata": {},
   "outputs": [],
   "source": []
  },
  {
   "cell_type": "code",
   "execution_count": null,
   "id": "690796ba",
   "metadata": {},
   "outputs": [],
   "source": []
  }
 ],
 "metadata": {
  "kernelspec": {
   "display_name": "Python 3 (ipykernel)",
   "language": "python",
   "name": "python3"
  },
  "language_info": {
   "codemirror_mode": {
    "name": "ipython",
    "version": 3
   },
   "file_extension": ".py",
   "mimetype": "text/x-python",
   "name": "python",
   "nbconvert_exporter": "python",
   "pygments_lexer": "ipython3",
   "version": "3.9.13"
  },
  "vscode": {
   "interpreter": {
    "hash": "5ae58900cfbb8c43ab3495913814b7cf26024f51651a94ce8bf64d6111688e8d"
   }
  }
 },
 "nbformat": 4,
 "nbformat_minor": 5
}

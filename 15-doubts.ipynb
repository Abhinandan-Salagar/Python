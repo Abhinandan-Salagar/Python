{
 "cells": [
  {
   "cell_type": "markdown",
   "id": "61518981",
   "metadata": {},
   "source": [
    "## While Infinite"
   ]
  },
  {
   "cell_type": "code",
   "execution_count": null,
   "id": "b51967d8",
   "metadata": {},
   "outputs": [],
   "source": [
    "\n",
    "# iterator = _____________\n",
    "# while expression  :\n",
    "#     statement\n",
    "#     statement\n",
    "#     statement\n",
    "    \n",
    "#     iterator  =  iterator +- \n",
    "\n",
    "\n",
    "\n",
    "# while True : \n",
    "    \n",
    "#     statement\n",
    "#     statement\n",
    "#     statement\n",
    "    \n",
    "#     if expression : \n",
    "#         break\n",
    "    \n",
    "#     statement\n",
    "#     statement\n",
    "#     statement\n",
    "    \n"
   ]
  },
  {
   "cell_type": "code",
   "execution_count": 5,
   "id": "fc2595b8",
   "metadata": {},
   "outputs": [
    {
     "name": "stdout",
     "output_type": "stream",
     "text": [
      " Enter 'qq' to STOP the program\n",
      "Mention Name : lion\n",
      "Mention Name : tiger\n",
      "Mention Name : qq\n"
     ]
    },
    {
     "data": {
      "text/plain": [
       "['lion', 'tiger']"
      ]
     },
     "execution_count": 5,
     "metadata": {},
     "output_type": "execute_result"
    }
   ],
   "source": [
    "## Take animal names from the user until user has written 'qq'. Save the names to the list\n",
    "\n",
    "pass # This has been checked\n",
    "newList = []\n",
    "print(\" Enter 'qq' to STOP the program\")\n",
    "\n",
    "while True : \n",
    "    name = input(\"Mention Name : \")\n",
    "\n",
    "    if name == \"qq\" : \n",
    "        break\n",
    "    else : \n",
    "        pass\n",
    "    newList.append(name)\n",
    "\n",
    "\n",
    "newList"
   ]
  },
  {
   "cell_type": "code",
   "execution_count": 2,
   "id": "c595effc",
   "metadata": {},
   "outputs": [
    {
     "data": {
      "text/plain": [
       "['lion', 'tiger', 'zebra', 'parrot']"
      ]
     },
     "execution_count": 2,
     "metadata": {},
     "output_type": "execute_result"
    }
   ],
   "source": []
  },
  {
   "cell_type": "code",
   "execution_count": 4,
   "id": "c3f86fbf",
   "metadata": {},
   "outputs": [
    {
     "name": "stdout",
     "output_type": "stream",
     "text": [
      "84\n",
      "2.3333333333333335\n"
     ]
    }
   ],
   "source": [
    "\n",
    "print(14 * 6)\n",
    "pass #Its just a statement for the developer to understand something to just let go\n",
    "print(14 / 6)\n",
    "\n",
    "\n"
   ]
  },
  {
   "cell_type": "code",
   "execution_count": 7,
   "id": "fc82647a",
   "metadata": {},
   "outputs": [
    {
     "name": "stdout",
     "output_type": "stream",
     "text": [
      " Enter 'qq' to STOP the program\n",
      "Mention Name : lion\n",
      "Mention Name :    tiger\n",
      "Mention Name :               qq    \n"
     ]
    },
    {
     "data": {
      "text/plain": [
       "['lion', '   tiger']"
      ]
     },
     "execution_count": 7,
     "metadata": {},
     "output_type": "execute_result"
    }
   ],
   "source": [
    "## Take animal names from the user until user has written 'qq'. Save the names to the list\n",
    "\n",
    "pass # This has been checked\n",
    "newList = []\n",
    "print(\" Enter 'qq' to STOP the program\")\n",
    "\n",
    "while True : \n",
    "    name = input(\"Mention Name : \")\n",
    "\n",
    "    if name.strip().upper() == \"QQ\" : \n",
    "        break\n",
    "    else : \n",
    "        pass\n",
    "    newList.append(name)\n",
    "\n",
    "\n",
    "newList"
   ]
  },
  {
   "cell_type": "code",
   "execution_count": 4,
   "id": "28b4f137",
   "metadata": {},
   "outputs": [
    {
     "name": "stdout",
     "output_type": "stream",
     "text": [
      "even\n",
      "even\n",
      "odd\n",
      "odd\n",
      "even\n"
     ]
    }
   ],
   "source": [
    "while True:\n",
    "    n=input(\"enter the number: \")\n",
    "    if int(n) ==0:\n",
    "        break\n",
    "    else:\n",
    "        if int(n)%2==0:\n",
    "            print(\"even\")\n",
    "        else:\n",
    "            print(\"odd\")"
   ]
  },
  {
   "cell_type": "code",
   "execution_count": 1,
   "id": "ad8e1639",
   "metadata": {},
   "outputs": [
    {
     "data": {
      "text/plain": [
       "'ython rogramming session   2023.'"
      ]
     },
     "execution_count": 1,
     "metadata": {},
     "output_type": "execute_result"
    }
   ],
   "source": [
    "## Remove all the p's from the below message using loops\n",
    "\n",
    "message = \"python programming session  p 2023.\"\n",
    "\n",
    "\n",
    "message.replace(\"p\", \"\")\n"
   ]
  },
  {
   "cell_type": "code",
   "execution_count": 9,
   "id": "06cf9017",
   "metadata": {},
   "outputs": [
    {
     "name": "stdout",
     "output_type": "stream",
     "text": [
      "['python', 'programming', 'session', '', 'p', '2023.']\n"
     ]
    }
   ],
   "source": [
    "## Remove all the p's from the below list using loops\n",
    "\n",
    "message = \"python programming session  p 2023.\"\n",
    "res = message.split(\" \")\n",
    "print(res)\n",
    "\n"
   ]
  },
  {
   "cell_type": "code",
   "execution_count": 17,
   "id": "d5049d14",
   "metadata": {},
   "outputs": [
    {
     "name": "stdout",
     "output_type": "stream",
     "text": [
      "['python', 'programming', 'session', 'p', '2023.']\n",
      "2023.\n",
      "['python', 'programming', 'session', 'p']\n",
      "p\n",
      "['python', 'programming', 'session']\n",
      "session\n",
      "['python', 'programming']\n",
      "programming\n",
      "['python']\n",
      "python\n",
      "[]\n"
     ]
    },
    {
     "ename": "IndexError",
     "evalue": "pop from empty list",
     "output_type": "error",
     "traceback": [
      "\u001b[1;31m---------------------------------------------------------------------------\u001b[0m",
      "\u001b[1;31mIndexError\u001b[0m                                Traceback (most recent call last)",
      "\u001b[1;32m~\\AppData\\Local\\Temp\\ipykernel_1812\\990579646.py\u001b[0m in \u001b[0;36m<module>\u001b[1;34m\u001b[0m\n\u001b[0;32m     22\u001b[0m \u001b[0mprint\u001b[0m\u001b[1;33m(\u001b[0m\u001b[0mmessage\u001b[0m\u001b[1;33m)\u001b[0m\u001b[1;33m\u001b[0m\u001b[1;33m\u001b[0m\u001b[0m\n\u001b[0;32m     23\u001b[0m \u001b[1;33m\u001b[0m\u001b[0m\n\u001b[1;32m---> 24\u001b[1;33m \u001b[0mprint\u001b[0m\u001b[1;33m(\u001b[0m  \u001b[0mmessage\u001b[0m\u001b[1;33m.\u001b[0m\u001b[0mpop\u001b[0m\u001b[1;33m(\u001b[0m\u001b[1;33m)\u001b[0m  \u001b[1;33m)\u001b[0m\u001b[1;33m\u001b[0m\u001b[1;33m\u001b[0m\u001b[0m\n\u001b[0m\u001b[0;32m     25\u001b[0m \u001b[0mprint\u001b[0m\u001b[1;33m(\u001b[0m\u001b[0mmessage\u001b[0m\u001b[1;33m)\u001b[0m\u001b[1;33m\u001b[0m\u001b[1;33m\u001b[0m\u001b[0m\n",
      "\u001b[1;31mIndexError\u001b[0m: pop from empty list"
     ]
    }
   ],
   "source": [
    "## Remove all the elements from the below list \n",
    "\n",
    "# message = ['python', 'programming', 'session', 'p', '2023.']\n",
    "# print(message)\n",
    "\n",
    "# print(  message.pop()  )\n",
    "# print(message)\n",
    "\n",
    "\n",
    "# print(  message.pop()  )\n",
    "# print(message)\n",
    "\n",
    "\n",
    "# print(  message.pop()  )\n",
    "# print(message)\n",
    "\n",
    "\n",
    "# print(  message.pop()  )\n",
    "# print(message)\n",
    "\n",
    "# print(  message.pop()  )\n",
    "# print(message)\n",
    "\n",
    "# print(  message.pop()  )\n",
    "# print(message)\n"
   ]
  },
  {
   "cell_type": "code",
   "execution_count": 19,
   "id": "c33a60ae",
   "metadata": {},
   "outputs": [
    {
     "name": "stdout",
     "output_type": "stream",
     "text": [
      "['python', 'programming', 'session', 'p', '2023.']\n",
      "2023.\n",
      "p\n",
      "session\n",
      "programming\n",
      "python\n",
      "...List is now EMPTY...\n"
     ]
    }
   ],
   "source": [
    "message = ['python', 'programming', 'session', 'p', '2023.']\n",
    "print(message)\n",
    "\n",
    "while True : \n",
    "    \n",
    "    if len(message) == 0 : \n",
    "        print(\"...List is now EMPTY...\")\n",
    "        break\n",
    "    print(  message.pop()  )\n",
    "#     print(message)\n",
    "\n",
    "\n"
   ]
  },
  {
   "cell_type": "code",
   "execution_count": 25,
   "id": "1830778e",
   "metadata": {},
   "outputs": [
    {
     "name": "stdout",
     "output_type": "stream",
     "text": [
      "['python', 'programming', 'session', 'p', '2023.']\n",
      "2023.\n",
      "p\n",
      "session\n",
      "programming\n",
      "python\n",
      "...List is now EMPTY...\n"
     ]
    }
   ],
   "source": [
    "message = ['python', 'programming', 'session', 'p', '2023.']\n",
    "print(message)\n",
    "\n",
    "while True : \n",
    "    \n",
    "    if not( message ) : \n",
    "        print(\"...List is now EMPTY...\")\n",
    "        break\n",
    "    print(  message.pop()  )\n",
    "#     print(message)\n",
    "\n",
    "\n"
   ]
  },
  {
   "cell_type": "code",
   "execution_count": 23,
   "id": "ce9c1b6e",
   "metadata": {},
   "outputs": [
    {
     "name": "stdout",
     "output_type": "stream",
     "text": [
      "Present\n"
     ]
    }
   ],
   "source": [
    "# # message = ['python', 'programming', 'session', 'p', '2023.']\n",
    "# # message = []\n",
    "\n",
    "# # message = \"\"\n",
    "# message = \"ebgvehjdkjwnbhs\"\n",
    "# if message : \n",
    "#     print(\"Present\")\n",
    "# else : \n",
    "#     print(\"Absent\")"
   ]
  },
  {
   "cell_type": "code",
   "execution_count": null,
   "id": "128c7644",
   "metadata": {},
   "outputs": [],
   "source": []
  },
  {
   "cell_type": "code",
   "execution_count": null,
   "id": "c8b832f7",
   "metadata": {},
   "outputs": [],
   "source": []
  },
  {
   "cell_type": "code",
   "execution_count": null,
   "id": "481a7cdc",
   "metadata": {},
   "outputs": [],
   "source": [
    "## Take marks from the user and keep on displaying the person's Grade, unitl user mentions 'stop' / \"qq\""
   ]
  },
  {
   "cell_type": "code",
   "execution_count": 27,
   "id": "4f2062a6",
   "metadata": {},
   "outputs": [
    {
     "name": "stdout",
     "output_type": "stream",
     "text": [
      "Mention Number : 10\n"
     ]
    },
    {
     "data": {
      "text/plain": [
       "3628800"
      ]
     },
     "execution_count": 27,
     "metadata": {},
     "output_type": "execute_result"
    }
   ],
   "source": [
    "## Keep on showing factorial of a number until and unless user mentiones 'stop' / \"qq\"\n",
    "\n",
    "number = int(input(\"Mention Number : \"))\n",
    "fact = 1\n",
    "\n",
    "for i in range(number, 0, -1) : \n",
    "    fact = fact * i\n",
    "fact\n"
   ]
  },
  {
   "cell_type": "code",
   "execution_count": 28,
   "id": "49282f0d",
   "metadata": {},
   "outputs": [
    {
     "name": "stdout",
     "output_type": "stream",
     "text": [
      "Mention Number : 5\n",
      "Factorial of 5 = 120\n",
      "Mention Number : 10\n",
      "Factorial of 10 = 3628800\n",
      "Mention Number : 7\n",
      "Factorial of 7 = 5040\n",
      "Mention Number : 1\n",
      "Factorial of 1 = 1\n",
      "Mention Number : 0\n",
      "Factorial of 0 = 1\n",
      "Mention Number : -3\n",
      "Factorial of -3 = 1\n",
      "Mention Number :   qq\n"
     ]
    }
   ],
   "source": [
    "## Keep on showing factorial of a number until and unless user mentiones 'stop' / \"qq\"\n",
    "\n",
    "\n",
    "while True : \n",
    "\n",
    "    number = input(\"Mention Number : \")\n",
    "    \n",
    "    if number.strip().lower() == \"qq\" : \n",
    "        break\n",
    "    \n",
    "    number = int(number)\n",
    "    fact = 1\n",
    "\n",
    "    for i in range(number, 0, -1) : \n",
    "        fact = fact * i\n",
    "    \n",
    "    print(f\"Factorial of {number} = {fact}\")\n"
   ]
  },
  {
   "cell_type": "code",
   "execution_count": 29,
   "id": "6ffb926b",
   "metadata": {},
   "outputs": [
    {
     "name": "stdout",
     "output_type": "stream",
     "text": [
      "Mention Number : 4\n",
      "Factorial of 4 = 24\n",
      "Mention Number : 5\n",
      "Factorial of 5 = 120\n",
      "Mention Number : -6\n",
      "Factorial Of Number Does not  Exist\n"
     ]
    }
   ],
   "source": [
    "## Keep on showing factorial of a number until and unless user mentiones 'stop' / \"qq\"\n",
    "\n",
    "\n",
    "while True : \n",
    "\n",
    "    number = int( input(\"Mention Number : \") )\n",
    "    \n",
    "    if number < 0  :\n",
    "        print(\"Factorial Of Number Does not  Exist\")\n",
    "        break\n",
    "    \n",
    "    fact = 1\n",
    "\n",
    "    for i in range(number, 0, -1) : \n",
    "        fact = fact * i\n",
    "    \n",
    "    print(f\"Factorial of {number} = {fact}\")\n"
   ]
  },
  {
   "cell_type": "code",
   "execution_count": null,
   "id": "80104bde",
   "metadata": {},
   "outputs": [],
   "source": [
    "## Keep on showing factorial of a number until and unless user mentiones 'stop' / \"qq\"\n",
    "\n",
    "\n",
    "while 1 : \n",
    "\n",
    "    number = int( input(\"Mention Number : \") )\n",
    "    \n",
    "    if number < 0  :\n",
    "        print(\"Factorial Of Number Does not  Exist\")\n",
    "        break\n",
    "    \n",
    "    fact = 1\n",
    "\n",
    "    for i in range(number, 0, -1) : \n",
    "        fact = fact * i\n",
    "    \n",
    "    print(f\"Factorial of {number} = {fact}\")\n"
   ]
  },
  {
   "cell_type": "code",
   "execution_count": null,
   "id": "aae9e9ec",
   "metadata": {},
   "outputs": [],
   "source": []
  },
  {
   "cell_type": "code",
   "execution_count": null,
   "id": "ed6fa6ab",
   "metadata": {},
   "outputs": [],
   "source": []
  },
  {
   "cell_type": "code",
   "execution_count": null,
   "id": "087880c1",
   "metadata": {},
   "outputs": [],
   "source": []
  },
  {
   "cell_type": "code",
   "execution_count": null,
   "id": "5e873fcf",
   "metadata": {},
   "outputs": [],
   "source": []
  },
  {
   "cell_type": "code",
   "execution_count": null,
   "id": "59038a9a",
   "metadata": {},
   "outputs": [],
   "source": []
  }
 ],
 "metadata": {
  "kernelspec": {
   "display_name": "Python 3 (ipykernel)",
   "language": "python",
   "name": "python3"
  },
  "language_info": {
   "codemirror_mode": {
    "name": "ipython",
    "version": 3
   },
   "file_extension": ".py",
   "mimetype": "text/x-python",
   "name": "python",
   "nbconvert_exporter": "python",
   "pygments_lexer": "ipython3",
   "version": "3.9.13"
  }
 },
 "nbformat": 4,
 "nbformat_minor": 5
}

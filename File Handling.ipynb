{
 "cells": [
  {
   "cell_type": "markdown",
   "id": "98668e58",
   "metadata": {},
   "source": [
    "# File Handling"
   ]
  },
  {
   "cell_type": "markdown",
   "id": "630b2508",
   "metadata": {},
   "source": [
    "- its related to file operations ( read, write, append, tell ) \n",
    "\n",
    "- closing the file is a MUST, as failing to do it will lead to data loss. Also, you can't move or rename or delete the file in the folder until and unless that File is CLOSED.\n",
    "\n",
    "- You can't read the file, if it doesnot exist\n",
    "- You can write the file, if it doesnot exist. The file gets created.\n",
    "- In write mode the file is overwritten.\n",
    "- You can append the file, if it doesnot exist. The file gets created.\n",
    "- In append mode the file is not overwritten.\n",
    "\n",
    "\n",
    "\n",
    "Syntax : \n",
    "variableName = open( \"fileName.txt\", mode  ) # mode --> r, w, a\n",
    "\n",
    "Read / Write Task ....\n",
    "Read / Write Task ....\n",
    "Read / Write Task ....\n",
    "\n",
    "variableName.close()\n",
    "\n",
    "variabelName - <class '_io.TextIOWrapper'> ----> f, file, fileHandler \n",
    "\n",
    "read the file :: fileHandler.read()\n",
    "write the file :: fileHandler.write()"
   ]
  },
  {
   "cell_type": "code",
   "execution_count": 4,
   "id": "f3af9370",
   "metadata": {},
   "outputs": [
    {
     "name": "stdout",
     "output_type": "stream",
     "text": [
      "<class 'float'>\n"
     ]
    }
   ],
   "source": [
    "x = 100.3\n",
    "print( type(x) )"
   ]
  },
  {
   "cell_type": "code",
   "execution_count": 9,
   "id": "4a24a61b",
   "metadata": {},
   "outputs": [
    {
     "name": "stdout",
     "output_type": "stream",
     "text": [
      "<class 'function'>\n"
     ]
    }
   ],
   "source": [
    "def fun() : \n",
    "    \n",
    "    n = 100\n",
    "    m = 50\n",
    "    \n",
    "    \n",
    "    return n - m\n",
    "\n",
    "print( type( fun ) )\n",
    "# print(n, m)"
   ]
  },
  {
   "cell_type": "code",
   "execution_count": null,
   "id": "27059bf4",
   "metadata": {},
   "outputs": [],
   "source": []
  },
  {
   "cell_type": "code",
   "execution_count": 13,
   "id": "14db73f4",
   "metadata": {},
   "outputs": [
    {
     "name": "stdout",
     "output_type": "stream",
     "text": [
      "<class '_io.TextIOWrapper'>\n"
     ]
    }
   ],
   "source": [
    "f = open(\"myFile.txt\", \"w\")\n",
    "\n",
    "print( type( f ) )\n",
    "\n",
    "f.close()\n",
    "# f.write(\"dnbevcfd\")"
   ]
  },
  {
   "cell_type": "code",
   "execution_count": 14,
   "id": "fb52dfdf",
   "metadata": {},
   "outputs": [
    {
     "name": "stdout",
     "output_type": "stream",
     "text": [
      "<class '_io.TextIOWrapper'>\n"
     ]
    }
   ],
   "source": [
    "f = open(\"myFile.txt\", \"w\")\n",
    "\n",
    "print( type( f ) )\n",
    "\n"
   ]
  },
  {
   "cell_type": "code",
   "execution_count": 15,
   "id": "563620e2",
   "metadata": {},
   "outputs": [],
   "source": [
    "f.close()"
   ]
  },
  {
   "cell_type": "code",
   "execution_count": null,
   "id": "74b37ec2",
   "metadata": {},
   "outputs": [],
   "source": []
  },
  {
   "cell_type": "markdown",
   "id": "c4eb0640",
   "metadata": {},
   "source": [
    "## Writing to the File\n"
   ]
  },
  {
   "cell_type": "code",
   "execution_count": 21,
   "id": "47c24e7d",
   "metadata": {},
   "outputs": [
    {
     "name": "stdout",
     "output_type": "stream",
     "text": [
      "Cursor Position Before : 0\n",
      "Cursor Position Before : 31\n",
      "Cursor Position Before : 35\n"
     ]
    }
   ],
   "source": [
    "## Writing to the File\n",
    "\n",
    "f = open( \"python.txt\", \"w\" ) # w - write\n",
    "\n",
    "\n",
    "print(f\"Cursor Position Before : {f.tell()}\")\n",
    "f.write(\" Python is easy to go language \")\n",
    "\n",
    "print(f\"Cursor Position Before : {f.tell()}\")\n",
    "f.write(\" \\n \")\n",
    "\n",
    "print(f\"Cursor Position Before : {f.tell()}\")\n",
    "f.write(\" There is a vast collection of packages here \")\n",
    "\n",
    "f.close()\n"
   ]
  },
  {
   "cell_type": "code",
   "execution_count": 17,
   "id": "5f249572",
   "metadata": {},
   "outputs": [],
   "source": [
    "## Writing to the File\n",
    "\n",
    "f = open( \"python.txt\", \"w\" ) # w - write\n",
    "\n",
    "msg = \"\"\"\n",
    "Python is easy to go language\n",
    "There is a vast collection of packages here\n",
    "\"\"\"\n",
    "\n",
    "f.write(msg)\n",
    "\n",
    "f.close()\n"
   ]
  },
  {
   "cell_type": "code",
   "execution_count": 18,
   "id": "c76e5094",
   "metadata": {},
   "outputs": [],
   "source": [
    "## Writing to the File\n",
    "\n",
    "f = open( \"python.txt\", \"w\" ) # w - write\n",
    "\n",
    "msg = \"\"\"\n",
    "There is no Void Functions\n",
    "There are no pointers\n",
    "there are no termination of code with ;\n",
    "\"\"\"\n",
    "\n",
    "f.write(msg)\n",
    "\n",
    "f.close()\n"
   ]
  },
  {
   "cell_type": "code",
   "execution_count": null,
   "id": "3b89338c",
   "metadata": {},
   "outputs": [],
   "source": []
  },
  {
   "cell_type": "markdown",
   "id": "4f62df96",
   "metadata": {},
   "source": [
    "##### Why File is Overwritten in WRITE mode\n",
    "\n",
    "**f.tell() : It tells the Cursor Position inside the File**\n"
   ]
  },
  {
   "cell_type": "code",
   "execution_count": 19,
   "id": "f0fae2c0",
   "metadata": {},
   "outputs": [
    {
     "name": "stdout",
     "output_type": "stream",
     "text": [
      "Cursor Position Before : 0\n",
      "Cursor Position After : 78\n"
     ]
    }
   ],
   "source": [
    "## Writing to the File\n",
    "\n",
    "f = open( \"python.txt\", \"w\" ) # w - write\n",
    "\n",
    "print(f\"Cursor Position Before : {f.tell()}\")\n",
    "\n",
    "msg = \"\"\"\n",
    "Python is easy to go language\n",
    "There is a vast collection of packages here\n",
    "\"\"\"\n",
    "\n",
    "f.write(msg)\n",
    "\n",
    "print(f\"Cursor Position After : {f.tell()}\")\n",
    "\n",
    "\n",
    "f.close()\n"
   ]
  },
  {
   "cell_type": "code",
   "execution_count": 20,
   "id": "b2a3b21e",
   "metadata": {},
   "outputs": [
    {
     "name": "stdout",
     "output_type": "stream",
     "text": [
      "Cursor Position Before : 0\n",
      "Cursor Position After : 94\n"
     ]
    }
   ],
   "source": [
    "## Writing to the File\n",
    "\n",
    "f = open( \"python.txt\", \"w\" ) # w - write\n",
    "print(f\"Cursor Position Before : {f.tell()}\")\n",
    "\n",
    "msg = \"\"\"\n",
    "There is no Void Functions\n",
    "There are no pointers\n",
    "there are no termination of code with ;\n",
    "\"\"\"\n",
    "\n",
    "f.write(msg)\n",
    "\n",
    "print(f\"Cursor Position After : {f.tell()}\")\n",
    "\n",
    "\n",
    "f.close()\n"
   ]
  },
  {
   "cell_type": "code",
   "execution_count": null,
   "id": "ceda0f57",
   "metadata": {},
   "outputs": [],
   "source": []
  },
  {
   "cell_type": "markdown",
   "id": "c2cd0b12",
   "metadata": {},
   "source": [
    "## Reading to the File"
   ]
  },
  {
   "cell_type": "code",
   "execution_count": 24,
   "id": "6606476f",
   "metadata": {},
   "outputs": [
    {
     "name": "stdout",
     "output_type": "stream",
     "text": [
      "Cursor Position Before : 0\n",
      " Python is easy to go language  \n",
      "  There is a vast collection of packages here \n",
      "Cursor Position After : 80\n",
      "\n"
     ]
    }
   ],
   "source": [
    "gaurav = open( \"python.txt\", \"r\" )\n",
    "\n",
    "print(f\"Cursor Position Before : {gaurav.tell()}\")\n",
    "\n",
    "res = gaurav.read()\n",
    "print(res)\n",
    "\n",
    "print(f\"Cursor Position After : {gaurav.tell()}\")\n",
    "\n",
    "gaurav.close()"
   ]
  },
  {
   "cell_type": "code",
   "execution_count": null,
   "id": "ae416626",
   "metadata": {},
   "outputs": [],
   "source": []
  },
  {
   "cell_type": "markdown",
   "id": "3ed68013",
   "metadata": {},
   "source": [
    "## Append to the File\n"
   ]
  },
  {
   "cell_type": "code",
   "execution_count": 30,
   "id": "5989095c",
   "metadata": {},
   "outputs": [
    {
     "name": "stdout",
     "output_type": "stream",
     "text": [
      "Cursor Position Before : 0\n",
      "Cursor Position Before : 31\n",
      "Cursor Position Before : 35\n",
      "Cursor Position After : 80\n"
     ]
    }
   ],
   "source": [
    "## Writing to the File\n",
    "\n",
    "f = open( \"python.txt\", \"a\" ) # a - write to the file\n",
    "\n",
    "\n",
    "print(f\"Cursor Position Before : {f.tell()}\")\n",
    "f.write(\" Python is easy to go language \")\n",
    "\n",
    "print(f\"Cursor Position Before : {f.tell()}\")\n",
    "f.write(\" \\n \")\n",
    "\n",
    "print(f\"Cursor Position Before : {f.tell()}\")\n",
    "f.write(\" There is a vast collection of packages here \")\n",
    "\n",
    "print(f\"Cursor Position After : {f.tell()}\")\n",
    "\n",
    "f.close()\n"
   ]
  },
  {
   "cell_type": "code",
   "execution_count": 31,
   "id": "2e160dba",
   "metadata": {},
   "outputs": [
    {
     "name": "stdout",
     "output_type": "stream",
     "text": [
      "Cursor Position Before : 80\n",
      "Cursor Position After : 174\n"
     ]
    }
   ],
   "source": [
    "f = open( \"python.txt\", \"a\" ) # a - append\n",
    "print(f\"Cursor Position Before : {f.tell()}\")\n",
    "\n",
    "msg = \"\"\"\n",
    "There is no Void Functions\n",
    "There are no pointers\n",
    "there are no termination of code with ;\n",
    "\"\"\"\n",
    "\n",
    "f.write(msg)\n",
    "\n",
    "print(f\"Cursor Position After : {f.tell()}\")\n",
    "\n",
    "\n",
    "f.close()\n"
   ]
  },
  {
   "cell_type": "code",
   "execution_count": null,
   "id": "3c7c3c63",
   "metadata": {},
   "outputs": [],
   "source": []
  },
  {
   "cell_type": "markdown",
   "id": "882377ec",
   "metadata": {},
   "source": [
    "#### Take value from the user and write it"
   ]
  },
  {
   "cell_type": "code",
   "execution_count": 37,
   "id": "be6c7c38",
   "metadata": {},
   "outputs": [
    {
     "name": "stdout",
     "output_type": "stream",
     "text": [
      "-- writing from the File --\n",
      "Write Your Message : hello\n",
      "-- reading from the File --\n",
      "hello\n"
     ]
    }
   ],
   "source": [
    "print(\"-- writing from the File --\")\n",
    "\n",
    "userFile = open(\"USER.txt\", \"w\")\n",
    "content = input(\"Write Your Message : \")\n",
    "userFile.write(content)\n",
    "userFile.close()\n",
    "\n",
    "\n",
    "print(\"-- reading from the File --\")\n",
    "file = open( \"USER.txt\", \"r\" )\n",
    "print(file.read())\n",
    "file.close()\n",
    "\n"
   ]
  },
  {
   "cell_type": "code",
   "execution_count": 40,
   "id": "ddf4e5dc",
   "metadata": {},
   "outputs": [
    {
     "name": "stdout",
     "output_type": "stream",
     "text": [
      "-- writing from the File --\n",
      "How many lines : 5\n",
      "Write Your Message : nitish\n",
      "Write Your Message : gaurav\n",
      "Write Your Message : prita\n",
      "Write Your Message : priya\n",
      "Write Your Message : abhi\n",
      "-- reading from the File --\n",
      "nitish\n",
      "gaurav\n",
      "prita\n",
      "priya\n",
      "abhi\n",
      "\n"
     ]
    }
   ],
   "source": [
    "print(\"-- writing from the File --\")\n",
    "\n",
    "userFile = open(\"USER.txt\", \"w\")\n",
    "\n",
    "lines = int(input(\"How many lines : \"))\n",
    "\n",
    "for i in range(lines) : \n",
    "    content = input(\"Write Your Message : \")\n",
    "    userFile.write(content)\n",
    "    userFile.write(\"\\n\")\n",
    "\n",
    "userFile.close()\n",
    "\n",
    "\n",
    "print(\"-- reading from the File --\")\n",
    "file = open( \"USER.txt\", \"r\" )\n",
    "print(file.read())\n",
    "file.close()\n",
    "\n"
   ]
  },
  {
   "cell_type": "code",
   "execution_count": 41,
   "id": "4097995c",
   "metadata": {},
   "outputs": [
    {
     "name": "stdout",
     "output_type": "stream",
     "text": [
      "-- writing from the File --\n",
      "Write '$$' as Stopping Criteria\n",
      "Write Your Message : nitish\n",
      "Write Your Message : gaurav\n",
      "Write Your Message : abhi\n",
      "Write Your Message : priya\n",
      "Write Your Message : $$\n",
      "-- reading from the File --\n",
      "nitish\n",
      "gaurav\n",
      "abhi\n",
      "priya\n",
      "\n"
     ]
    }
   ],
   "source": [
    "print(\"-- writing from the File --\")\n",
    "\n",
    "userFile = open(\"USER.txt\", \"w\")\n",
    "\n",
    "print(\"Write '$$' as Stopping Criteria\")\n",
    "\n",
    "while True : \n",
    "    content = input(\"Write Your Message : \")\n",
    "    \n",
    "    if content == \"$$\" : \n",
    "        break\n",
    "    \n",
    "    userFile.write(content)\n",
    "    userFile.write(\"\\n\")\n",
    "\n",
    "userFile.close()\n",
    "\n",
    "\n",
    "print(\"-- reading from the File --\")\n",
    "file = open( \"USER.txt\", \"r\" )\n",
    "print(file.read())\n",
    "file.close()\n",
    "\n"
   ]
  },
  {
   "cell_type": "code",
   "execution_count": null,
   "id": "831575b6",
   "metadata": {},
   "outputs": [],
   "source": []
  },
  {
   "cell_type": "code",
   "execution_count": null,
   "id": "d9d5da2e",
   "metadata": {},
   "outputs": [],
   "source": []
  },
  {
   "cell_type": "code",
   "execution_count": null,
   "id": "07b4ed45",
   "metadata": {},
   "outputs": [],
   "source": []
  },
  {
   "cell_type": "code",
   "execution_count": null,
   "id": "b9b91878",
   "metadata": {},
   "outputs": [],
   "source": []
  },
  {
   "cell_type": "code",
   "execution_count": null,
   "id": "9c723585",
   "metadata": {},
   "outputs": [],
   "source": []
  },
  {
   "cell_type": "markdown",
   "id": "47d1e3a5",
   "metadata": {},
   "source": [
    "## Read Modes"
   ]
  },
  {
   "cell_type": "code",
   "execution_count": 44,
   "id": "375961c1",
   "metadata": {},
   "outputs": [
    {
     "name": "stdout",
     "output_type": "stream",
     "text": [
      "lion\n",
      "tiger\n",
      "rabbit\n",
      "zebra\n",
      "elephant\n",
      "giraffe\n",
      "******************************\n",
      "t\n",
      "tiger\n",
      "rabb\n",
      "18\n"
     ]
    }
   ],
   "source": [
    "### 1. read : Reads the Entire File\n",
    "\n",
    "f = open('animal.txt', \"r\")\n",
    "\n",
    "res = f.read()\n",
    "print(res)\n",
    "\n",
    "print(\"*\" * 30)\n",
    "print(res[5])\n",
    "print(res[5 : 15])\n",
    "print( res.index(\"zebra\") )\n",
    "\n",
    "f.close()"
   ]
  },
  {
   "cell_type": "code",
   "execution_count": 49,
   "id": "5524159a",
   "metadata": {},
   "outputs": [
    {
     "name": "stdout",
     "output_type": "stream",
     "text": [
      "lion\n",
      "\n",
      "******************************\n",
      "i\n",
      "lio\n",
      "2\n"
     ]
    }
   ],
   "source": [
    "### 2. readline : Reads ONLY FIRST line of the Entire File\n",
    "\n",
    "f = open('animal.txt', \"r\")\n",
    "\n",
    "res = f.readline()\n",
    "print(res)\n",
    "\n",
    "print(\"*\" * 30)\n",
    "print(res[1])\n",
    "print(res[ : 3])\n",
    "print( res.index(\"o\") )\n",
    "\n",
    "f.close()"
   ]
  },
  {
   "cell_type": "code",
   "execution_count": 53,
   "id": "35079bd4",
   "metadata": {},
   "outputs": [
    {
     "name": "stdout",
     "output_type": "stream",
     "text": [
      "['lion\\n', 'tiger\\n', 'rabbit\\n', 'zebra\\n', 'elephant\\n', 'giraffe']\n",
      "******************************\n",
      "tiger\n",
      "\n",
      "['lion\\n', 'tiger\\n', 'rabbit\\n']\n",
      "2\n"
     ]
    }
   ],
   "source": [
    "### 3. readlines : Reads the Entire File, but it returns lines as element of the LIST\n",
    "\n",
    "f = open('animal.txt', \"r\")\n",
    "\n",
    "res = f.readlines()\n",
    "print(res)\n",
    "\n",
    "print(\"*\" * 30)\n",
    "print(res[1])\n",
    "print(res[ : 3])\n",
    "print( res.index(\"rabbit\\n\") )\n",
    "\n",
    "f.close()"
   ]
  },
  {
   "cell_type": "code",
   "execution_count": 54,
   "id": "7d2b39ef",
   "metadata": {},
   "outputs": [
    {
     "name": "stdout",
     "output_type": "stream",
     "text": [
      "[' Python is easy to go language  \\n', '  There is a vast collection of packages here \\n', 'There is no Void Functions\\n', 'There are no pointers\\n', 'there are no termination of code with ;\\n']\n"
     ]
    }
   ],
   "source": [
    "### 3. readlines : Reads the Entire File, but it returns lines as element of the LIST\n",
    "\n",
    "f = open('python.txt', \"r\")\n",
    "\n",
    "res = f.readlines()\n",
    "print(res)\n",
    "\n",
    "f.close()"
   ]
  },
  {
   "cell_type": "code",
   "execution_count": null,
   "id": "3b3d5c58",
   "metadata": {},
   "outputs": [],
   "source": []
  },
  {
   "cell_type": "code",
   "execution_count": 55,
   "id": "5d53e788",
   "metadata": {},
   "outputs": [
    {
     "name": "stdout",
     "output_type": "stream",
     "text": [
      "lion\n",
      "tiger\n",
      "rabbit\n",
      "zebra\n",
      "elephant\n",
      "giraffe\n"
     ]
    },
    {
     "ename": "ValueError",
     "evalue": "I/O operation on closed file.",
     "output_type": "error",
     "traceback": [
      "\u001b[1;31m---------------------------------------------------------------------------\u001b[0m",
      "\u001b[1;31mValueError\u001b[0m                                Traceback (most recent call last)",
      "\u001b[1;32m~\\AppData\\Local\\Temp\\ipykernel_27780\\760735446.py\u001b[0m in \u001b[0;36m<module>\u001b[1;34m\u001b[0m\n\u001b[0;32m      6\u001b[0m \u001b[0mf\u001b[0m\u001b[1;33m.\u001b[0m\u001b[0mclose\u001b[0m\u001b[1;33m(\u001b[0m\u001b[1;33m)\u001b[0m\u001b[1;33m\u001b[0m\u001b[1;33m\u001b[0m\u001b[0m\n\u001b[0;32m      7\u001b[0m \u001b[1;33m\u001b[0m\u001b[0m\n\u001b[1;32m----> 8\u001b[1;33m \u001b[0mf\u001b[0m\u001b[1;33m.\u001b[0m\u001b[0mread\u001b[0m\u001b[1;33m(\u001b[0m\u001b[1;33m)\u001b[0m\u001b[1;33m\u001b[0m\u001b[1;33m\u001b[0m\u001b[0m\n\u001b[0m",
      "\u001b[1;31mValueError\u001b[0m: I/O operation on closed file."
     ]
    }
   ],
   "source": [
    "f = open('animal.txt', \"r\")\n",
    "\n",
    "res = f.read()\n",
    "print(res)\n",
    "\n",
    "f.close()\n",
    "\n",
    "f.read()\n"
   ]
  },
  {
   "cell_type": "code",
   "execution_count": 56,
   "id": "e8899a97",
   "metadata": {},
   "outputs": [
    {
     "name": "stdout",
     "output_type": "stream",
     "text": [
      "lion\n",
      "tiger\n",
      "rabbit\n",
      "zebra\n",
      "elephant\n",
      "giraffe\n"
     ]
    },
    {
     "ename": "ValueError",
     "evalue": "I/O operation on closed file.",
     "output_type": "error",
     "traceback": [
      "\u001b[1;31m---------------------------------------------------------------------------\u001b[0m",
      "\u001b[1;31mValueError\u001b[0m                                Traceback (most recent call last)",
      "\u001b[1;32m~\\AppData\\Local\\Temp\\ipykernel_27780\\1751842536.py\u001b[0m in \u001b[0;36m<module>\u001b[1;34m\u001b[0m\n\u001b[0;32m      4\u001b[0m     \u001b[0mprint\u001b[0m\u001b[1;33m(\u001b[0m\u001b[0mres\u001b[0m\u001b[1;33m)\u001b[0m\u001b[1;33m\u001b[0m\u001b[1;33m\u001b[0m\u001b[0m\n\u001b[0;32m      5\u001b[0m \u001b[1;33m\u001b[0m\u001b[0m\n\u001b[1;32m----> 6\u001b[1;33m \u001b[0mf\u001b[0m\u001b[1;33m.\u001b[0m\u001b[0mread\u001b[0m\u001b[1;33m(\u001b[0m\u001b[1;33m)\u001b[0m\u001b[1;33m\u001b[0m\u001b[1;33m\u001b[0m\u001b[0m\n\u001b[0m",
      "\u001b[1;31mValueError\u001b[0m: I/O operation on closed file."
     ]
    }
   ],
   "source": [
    "with open('animal.txt', \"r\") as f : \n",
    "\n",
    "    res = f.read()\n",
    "    print(res)\n",
    "\n",
    "f.read()\n"
   ]
  },
  {
   "cell_type": "code",
   "execution_count": null,
   "id": "1490f4b8",
   "metadata": {},
   "outputs": [],
   "source": []
  },
  {
   "cell_type": "markdown",
   "id": "62cc6992",
   "metadata": {},
   "source": [
    "### Directory\n",
    "\n",
    "- any folder (folderName)\n",
    "- any path   ( C:\\Desktop\\folderName )\n",
    "- Collection of files and folders\n",
    "- Use Package : os\n"
   ]
  },
  {
   "cell_type": "code",
   "execution_count": 57,
   "id": "a93e525c",
   "metadata": {},
   "outputs": [
    {
     "data": {
      "text/plain": [
       "'C:\\\\Users\\\\Nitish\\\\Desktop\\\\PP\\\\Batch Python, 07.02.23\\\\Day20 - 17.03.23'"
      ]
     },
     "execution_count": 57,
     "metadata": {},
     "output_type": "execute_result"
    }
   ],
   "source": [
    "## Get the location of the Working Directory\n",
    "# os.getcwd()\n",
    "\n",
    "import os\n",
    "os.getcwd()\n"
   ]
  },
  {
   "cell_type": "code",
   "execution_count": 65,
   "id": "dc6fe91b",
   "metadata": {},
   "outputs": [
    {
     "name": "stdout",
     "output_type": "stream",
     "text": [
      "nitish\n",
      "gaurav\n",
      "abhi\n",
      "priya\n",
      "\n"
     ]
    }
   ],
   "source": [
    "\n",
    "## Read the file from any folder\n",
    "# WAY 1\n",
    "\n",
    "# path = \"C:\\Users\\Nitish\\Documents\\USER.txt\"\n",
    "# path = \"C:\\\\Users\\\\Nitish\\\\Documents\\\\USER.txt\"\n",
    "# path = \"C:/Users/Nitish/Documents/USER.txt\"\n",
    "path = r\"C:\\Users\\Nitish\\Documents\\USER.txt\"\n",
    "\n",
    "f = open(path, \"r\")\n",
    "print(f.read())\n",
    "f.close()\n"
   ]
  },
  {
   "cell_type": "code",
   "execution_count": 66,
   "id": "5c625697",
   "metadata": {},
   "outputs": [
    {
     "name": "stdout",
     "output_type": "stream",
     "text": [
      "C:\\Users\\Nitish\\Desktop\\PP\\Batch Python, 07.02.23\\Day20 - 17.03.23\n",
      "C:\\Users\\Nitish\\Documents\n",
      "nitish\n",
      "gaurav\n",
      "abhi\n",
      "priya\n",
      "\n",
      "C:\\Users\\Nitish\\Desktop\\PP\\Batch Python, 07.02.23\\Day20 - 17.03.23\n"
     ]
    }
   ],
   "source": [
    "# os.chdir() : Change the Directory\n",
    "# os.chdir(folderName) : Change the Directory\n",
    "# os.chdir(path) : Change the Directory\n",
    "\n",
    "## Read the file from any folder\n",
    "# WAY 2\n",
    "\n",
    "basePath = os.getcwd()\n",
    "print( os.getcwd()  ) # Display the Folder Path\n",
    "\n",
    "path = r\"C:\\Users\\Nitish\\Documents\"\n",
    "os.chdir(path)\n",
    "print( os.getcwd()  ) # Display the Folder Path\n",
    "\n",
    "fileName = \"USER.txt\"\n",
    "f = open(fileName, \"r\")\n",
    "print(f.read())\n",
    "f.close()\n",
    "\n",
    "os.chdir(basePath)\n",
    "print( os.getcwd()  ) # Display the Folder Path\n"
   ]
  },
  {
   "cell_type": "code",
   "execution_count": null,
   "id": "8e079562",
   "metadata": {},
   "outputs": [],
   "source": []
  },
  {
   "cell_type": "code",
   "execution_count": 69,
   "id": "3e49e51b",
   "metadata": {},
   "outputs": [
    {
     "name": "stdout",
     "output_type": "stream",
     "text": [
      "C:\\Users\\Nitish\\Desktop\\PP\\Batch Python, 07.02.23\\Day20 - 17.03.23\n",
      "C:\\Users\\Nitish\\Desktop\\PP\\Batch Python, 07.02.23\\Day20 - 17.03.23\n"
     ]
    }
   ],
   "source": [
    "## Make the Directory / Folder\n",
    "# os.mkdir(folderName)\n",
    "\n",
    "print( os.getcwd()  ) # Display the Folder Path\n",
    "os.mkdir(\"Earth\")\n",
    "\n",
    "f = open(\"data.txt\", \"w\")\n",
    "f.write(\"This is the Reference File\")\n",
    "f.close()\n",
    "\n",
    "print( os.getcwd()  ) # Display the Folder Path\n"
   ]
  },
  {
   "cell_type": "code",
   "execution_count": 70,
   "id": "74e4add9",
   "metadata": {},
   "outputs": [
    {
     "name": "stdout",
     "output_type": "stream",
     "text": [
      "C:\\Users\\Nitish\\Desktop\\PP\\Batch Python, 07.02.23\\Day20 - 17.03.23\n",
      "C:\\Users\\Nitish\\Desktop\\PP\\Batch Python, 07.02.23\\Day20 - 17.03.23\n"
     ]
    }
   ],
   "source": [
    "## Delete the Directory / Folder\n",
    "# os.rmdir(folderName)\n",
    "\n",
    "print( os.getcwd()  ) # Display the Folder Path\n",
    "os.rmdir(\"Earth\")\n",
    "print( os.getcwd()  ) # Display the Folder Path\n"
   ]
  },
  {
   "cell_type": "code",
   "execution_count": 71,
   "id": "409a4c33",
   "metadata": {},
   "outputs": [
    {
     "name": "stdout",
     "output_type": "stream",
     "text": [
      "C:\\Users\\Nitish\\Desktop\\PP\\Batch Python, 07.02.23\\Day20 - 17.03.23\n",
      "C:\\Users\\Nitish\\Desktop\\PP\\Batch Python, 07.02.23\\Day20 - 17.03.23\n"
     ]
    }
   ],
   "source": [
    "## rename the Directory / Folder\n",
    "# os.rename(oldName, newName)\n",
    "import os, time\n",
    "\n",
    "print( os.getcwd()  ) # Display the Folder Path\n",
    "os.mkdir(\"Earth\")\n",
    "time.sleep(3)\n",
    "\n",
    "\n",
    "os.rename(\"Earth\", \"Mars\")\n",
    "time.sleep(3)\n",
    "\n",
    "os.rmdir(\"Mars\")\n",
    "time.sleep(3)\n",
    "\n",
    "print( os.getcwd()  ) # Display the Folder Path\n"
   ]
  },
  {
   "cell_type": "code",
   "execution_count": null,
   "id": "669a45d1",
   "metadata": {},
   "outputs": [],
   "source": []
  },
  {
   "cell_type": "code",
   "execution_count": 72,
   "id": "3e07f7c6",
   "metadata": {},
   "outputs": [
    {
     "name": "stdout",
     "output_type": "stream",
     "text": [
      "CWD :  C:\\Users\\Nitish\\Desktop\\PP\\Batch Python, 07.02.23\\Day20 - 17.03.23\n",
      "CWD :  C:\\Users\\Nitish\\Desktop\\PP\\Batch Python, 07.02.23\\Day20 - 17.03.23\\Earth\n",
      "CWD :  C:\\Users\\Nitish\\Desktop\\PP\\Batch Python, 07.02.23\\Day20 - 17.03.23\n"
     ]
    }
   ],
   "source": [
    "## Make the Directory / Folder. Move Into it. Come Out\n",
    "# os.mkdir(folderName)\n",
    "\n",
    "import os, time\n",
    "\n",
    "print( \"CWD : \", os.getcwd()  ) # Display the Folder Path\n",
    "os.mkdir(\"Earth\")\n",
    "time.sleep(5)\n",
    "\n",
    "# Move Into\n",
    "os.chdir('Earth')\n",
    "#os.chdir(r\"C:\\Users\\Nitish\\Desktop\\PP\\Batch Python, 07.02.23\\Day20 - 17.03.23\\Earth\")\n",
    "print( \"CWD : \", os.getcwd()  ) # Display the Folder Path\n",
    "\n",
    "f = open(\"data.txt\", \"w\")\n",
    "f.write(\"This is the Reference File\")\n",
    "f.close()\n",
    "\n",
    "time.sleep(5)\n",
    "\n",
    "# Come Out : # just One Folder \n",
    "#os.chdir(r\"C:\\Users\\Nitish\\Desktop\\PP\\Batch Python, 07.02.23\\Day20 - 17.03.23\")\n",
    "os.chdir(\"..\")\n",
    "\n",
    "print( \"CWD : \", os.getcwd()  ) # Display the Folder Path\n"
   ]
  },
  {
   "cell_type": "code",
   "execution_count": 77,
   "id": "a714aefd",
   "metadata": {},
   "outputs": [
    {
     "name": "stdout",
     "output_type": "stream",
     "text": [
      "CWD :  C:\\Users\\Nitish\\Desktop\\PP\\Batch Python, 07.02.23\\Day20 - 17.03.23\n",
      "CWD :  C:\\Users\\Nitish\\Desktop\\PP\\Batch Python, 07.02.23\\Day20 - 17.03.23\\Earth\n",
      "CWD :  C:\\Users\\Nitish\\Desktop\\PP\\Batch Python, 07.02.23\\Day20 - 17.03.23\n"
     ]
    }
   ],
   "source": [
    "## Make the Directory / Folder. Move Into it. Come Out. Delete the folder\n",
    "# os.mkdir(folderName)\n",
    "\n",
    "import os, time\n",
    "\n",
    "print( \"CWD : \", os.getcwd()  ) # Display the Folder Path\n",
    "os.mkdir(\"Earth\")\n",
    "time.sleep(5)\n",
    "\n",
    "# Move Into\n",
    "os.chdir('Earth')\n",
    "#os.chdir(r\"C:\\Users\\Nitish\\Desktop\\PP\\Batch Python, 07.02.23\\Day20 - 17.03.23\\Earth\")\n",
    "print( \"CWD : \", os.getcwd()  ) # Display the Folder Path\n",
    "\n",
    "f = open(\"data.txt\", \"w\")\n",
    "f.write(\"This is the Reference File\")\n",
    "f.close()\n",
    "\n",
    "time.sleep(5)\n",
    "\n",
    "# Come Out : # just One Folder \n",
    "#os.chdir(r\"C:\\Users\\Nitish\\Desktop\\PP\\Batch Python, 07.02.23\\Day20 - 17.03.23\")\n",
    "os.chdir(\"..\")\n",
    "\n",
    "# os.rmdir(\"Earth\")\n",
    "import shutil\n",
    "shutil.rmtree(\"Earth\")\n",
    "time.sleep(5)\n",
    "\n",
    "print( \"CWD : \", os.getcwd()  ) # Display the Folder Path\n"
   ]
  },
  {
   "cell_type": "code",
   "execution_count": 2,
   "id": "b2921dec",
   "metadata": {},
   "outputs": [],
   "source": [
    "import shutil # : Copy the file from one folder to another"
   ]
  },
  {
   "cell_type": "code",
   "execution_count": null,
   "id": "201f7fce",
   "metadata": {},
   "outputs": [],
   "source": [
    "# os can also help you out to list down all the files and folders\n",
    "# listdir, scandir\n",
    "\n",
    "# to filter out the Python files"
   ]
  },
  {
   "cell_type": "code",
   "execution_count": null,
   "id": "bcb2356e",
   "metadata": {},
   "outputs": [],
   "source": []
  },
  {
   "cell_type": "code",
   "execution_count": null,
   "id": "d14db623",
   "metadata": {},
   "outputs": [],
   "source": []
  },
  {
   "cell_type": "code",
   "execution_count": null,
   "id": "f33656dc",
   "metadata": {},
   "outputs": [],
   "source": []
  },
  {
   "cell_type": "code",
   "execution_count": null,
   "id": "064b55b2",
   "metadata": {},
   "outputs": [],
   "source": []
  },
  {
   "cell_type": "code",
   "execution_count": null,
   "id": "e21c6722",
   "metadata": {},
   "outputs": [],
   "source": []
  }
 ],
 "metadata": {
  "kernelspec": {
   "display_name": "Python 3 (ipykernel)",
   "language": "python",
   "name": "python3"
  },
  "language_info": {
   "codemirror_mode": {
    "name": "ipython",
    "version": 3
   },
   "file_extension": ".py",
   "mimetype": "text/x-python",
   "name": "python",
   "nbconvert_exporter": "python",
   "pygments_lexer": "ipython3",
   "version": "3.9.13"
  }
 },
 "nbformat": 4,
 "nbformat_minor": 5
}

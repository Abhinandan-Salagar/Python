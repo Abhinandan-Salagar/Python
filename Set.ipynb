{
 "cells": [
  {
   "cell_type": "markdown",
   "id": "66926196",
   "metadata": {},
   "source": [
    "# Set\n",
    "\n",
    "- collection of UNIQUE different datatype elements\n",
    "- Empty Set : {''}\n",
    "- Set - {14, 20, 3, -5, ....}\n",
    "- UnOrdered Object - Can't Access any element wrt POSITION\n",
    "- Mutable - You Can modify the element.\n",
    "- Elements written inside sets are Immutable, but Set is itself Mutable\n"
   ]
  },
  {
   "cell_type": "code",
   "execution_count": 2,
   "id": "a33a36c5",
   "metadata": {},
   "outputs": [
    {
     "name": "stdout",
     "output_type": "stream",
     "text": [
      "<class 'set'>\n"
     ]
    }
   ],
   "source": [
    "s1 = {\"\"}\n",
    "print( type(s1) )"
   ]
  },
  {
   "cell_type": "code",
   "execution_count": 4,
   "id": "a3283fd5",
   "metadata": {
    "scrolled": true
   },
   "outputs": [
    {
     "name": "stdout",
     "output_type": "stream",
     "text": [
      "<class 'set'>\n",
      "{False, 6j, 3.25, -8.0, 'blue', 'orange', 11}\n"
     ]
    }
   ],
   "source": [
    "s1 = {11, 3.25, False, 6j, \"blue\", \"orange\", -8., False, 11, \"blue\", 11}\n",
    "print( type(s1) )\n",
    "print(s1)\n"
   ]
  },
  {
   "cell_type": "markdown",
   "id": "f09779ce",
   "metadata": {},
   "source": [
    "## Basic Properties"
   ]
  },
  {
   "cell_type": "code",
   "execution_count": 5,
   "id": "791a80e3",
   "metadata": {},
   "outputs": [
    {
     "name": "stdout",
     "output_type": "stream",
     "text": [
      "{False, 6j, 3.25, -8.0, 'blue', 'orange', 11}\n",
      "7\n"
     ]
    }
   ],
   "source": [
    "# 1. Len : returns total unique elements\n",
    "\n",
    "s1 = {11, 3.25, False, 6j, \"blue\", \"orange\", -8., False, 11, \"blue\", 11}\n",
    "print(s1)\n",
    "print(len(s1))"
   ]
  },
  {
   "cell_type": "code",
   "execution_count": 29,
   "id": "a6dcf003",
   "metadata": {},
   "outputs": [
    {
     "name": "stdout",
     "output_type": "stream",
     "text": [
      "{False, 6j, 3.25, -8.0, 'blue', 'orange', 11}\n"
     ]
    },
    {
     "ename": "TypeError",
     "evalue": "'set' object is not subscriptable",
     "output_type": "error",
     "traceback": [
      "\u001b[1;31m---------------------------------------------------------------------------\u001b[0m",
      "\u001b[1;31mTypeError\u001b[0m                                 Traceback (most recent call last)",
      "\u001b[1;32m~\\AppData\\Local\\Temp\\ipykernel_12324\\1452851918.py\u001b[0m in \u001b[0;36m<module>\u001b[1;34m\u001b[0m\n\u001b[0;32m      4\u001b[0m \u001b[0mprint\u001b[0m\u001b[1;33m(\u001b[0m\u001b[0ms1\u001b[0m\u001b[1;33m)\u001b[0m\u001b[1;33m\u001b[0m\u001b[1;33m\u001b[0m\u001b[0m\n\u001b[0;32m      5\u001b[0m \u001b[1;33m\u001b[0m\u001b[0m\n\u001b[1;32m----> 6\u001b[1;33m \u001b[0mprint\u001b[0m\u001b[1;33m(\u001b[0m \u001b[0ms1\u001b[0m\u001b[1;33m[\u001b[0m\u001b[1;36m0\u001b[0m\u001b[1;33m]\u001b[0m \u001b[1;33m)\u001b[0m \u001b[1;31m# Operation is not defined for set at the backend\u001b[0m\u001b[1;33m\u001b[0m\u001b[1;33m\u001b[0m\u001b[0m\n\u001b[0m\u001b[0;32m      7\u001b[0m \u001b[1;31m# print( s1[0 : 5] ) # Operation is not defined for set at the backend\u001b[0m\u001b[1;33m\u001b[0m\u001b[1;33m\u001b[0m\u001b[0m\n\u001b[0;32m      8\u001b[0m \u001b[1;33m\u001b[0m\u001b[0m\n",
      "\u001b[1;31mTypeError\u001b[0m: 'set' object is not subscriptable"
     ]
    }
   ],
   "source": [
    "# 2. No Index , slice.\n",
    "\n",
    "s1 = {11, 3.25, False, 6j, \"blue\", \"orange\", -8., False, 11, \"blue\", 11}\n",
    "print(s1)\n",
    "\n",
    "print( s1[0] ) # Operation is not defined for set at the backend\n",
    "# print( s1[0 : 5] ) # Operation is not defined for set at the backend\n",
    "\n"
   ]
  },
  {
   "cell_type": "code",
   "execution_count": 13,
   "id": "e580d059",
   "metadata": {},
   "outputs": [
    {
     "name": "stdout",
     "output_type": "stream",
     "text": [
      "{False, 6j, 3.25, -8.0, 'blue', 'orange', 11}\n"
     ]
    }
   ],
   "source": [
    "# 3. No repeat , concat.\n",
    "\n",
    "s1 = {11, 3.25, False, 6j, \"blue\", \"orange\", -8., False, 11, \"blue\", 11}\n",
    "print(s1)\n",
    "\n",
    "# print( s1 * 3 ) # Operation is not defined for set at the backend\n",
    "# print( s1 + s1 ) # Operation is not defined for set at the backend\n",
    "\n"
   ]
  },
  {
   "cell_type": "code",
   "execution_count": 12,
   "id": "bd67b32a",
   "metadata": {},
   "outputs": [
    {
     "name": "stdout",
     "output_type": "stream",
     "text": [
      "{False, 6j, 3.25, -8.0, 'blue', 'orange', 11}\n",
      "True\n",
      "False\n"
     ]
    }
   ],
   "source": [
    "# 4. Membership \n",
    "\n",
    "s1 = {11, 3.25, False, 6j, \"blue\", \"orange\", -8., False, 11, \"blue\", 11}\n",
    "print(s1)\n",
    "\n",
    "print( 11 in s1 ) \n",
    "print( 1000 in s1 ) \n",
    "\n"
   ]
  },
  {
   "cell_type": "code",
   "execution_count": null,
   "id": "6555020e",
   "metadata": {},
   "outputs": [],
   "source": []
  },
  {
   "cell_type": "code",
   "execution_count": 15,
   "id": "02889b85",
   "metadata": {},
   "outputs": [
    {
     "ename": "TypeError",
     "evalue": "unhashable type: 'list'",
     "output_type": "error",
     "traceback": [
      "\u001b[1;31m---------------------------------------------------------------------------\u001b[0m",
      "\u001b[1;31mTypeError\u001b[0m                                 Traceback (most recent call last)",
      "\u001b[1;32m~\\AppData\\Local\\Temp\\ipykernel_12324\\361148530.py\u001b[0m in \u001b[0;36m<module>\u001b[1;34m\u001b[0m\n\u001b[1;32m----> 1\u001b[1;33m \u001b[0ms1\u001b[0m \u001b[1;33m=\u001b[0m \u001b[1;33m{\u001b[0m\u001b[1;36m11\u001b[0m\u001b[1;33m,\u001b[0m \u001b[1;36m3.25\u001b[0m\u001b[1;33m,\u001b[0m \u001b[1;32mFalse\u001b[0m\u001b[1;33m,\u001b[0m \u001b[1;36m6j\u001b[0m\u001b[1;33m,\u001b[0m \u001b[1;34m\"blue\"\u001b[0m\u001b[1;33m,\u001b[0m \u001b[1;34m\"orange\"\u001b[0m\u001b[1;33m,\u001b[0m \u001b[1;33m-\u001b[0m\u001b[1;36m8.\u001b[0m\u001b[1;33m,\u001b[0m \u001b[1;32mFalse\u001b[0m\u001b[1;33m,\u001b[0m \u001b[1;36m11\u001b[0m\u001b[1;33m,\u001b[0m \u001b[1;34m\"blue\"\u001b[0m\u001b[1;33m,\u001b[0m \u001b[1;36m11\u001b[0m\u001b[1;33m,\u001b[0m \u001b[1;33m[\u001b[0m\u001b[1;33m-\u001b[0m\u001b[1;36m6\u001b[0m\u001b[1;33m,\u001b[0m \u001b[1;33m-\u001b[0m\u001b[1;36m9\u001b[0m\u001b[1;33m]\u001b[0m\u001b[1;33m}\u001b[0m\u001b[1;33m\u001b[0m\u001b[1;33m\u001b[0m\u001b[0m\n\u001b[0m\u001b[0;32m      2\u001b[0m \u001b[0mprint\u001b[0m\u001b[1;33m(\u001b[0m\u001b[0ms1\u001b[0m\u001b[1;33m)\u001b[0m\u001b[1;33m\u001b[0m\u001b[1;33m\u001b[0m\u001b[0m\n",
      "\u001b[1;31mTypeError\u001b[0m: unhashable type: 'list'"
     ]
    }
   ],
   "source": [
    "s1 = {11, 3.25, False, 6j, \"blue\", \"orange\", -8., False, 11, \"blue\", 11, [-6, -9]}\n",
    "print(s1)\n"
   ]
  },
  {
   "cell_type": "code",
   "execution_count": 16,
   "id": "160bea6a",
   "metadata": {},
   "outputs": [
    {
     "ename": "TypeError",
     "evalue": "unhashable type: 'set'",
     "output_type": "error",
     "traceback": [
      "\u001b[1;31m---------------------------------------------------------------------------\u001b[0m",
      "\u001b[1;31mTypeError\u001b[0m                                 Traceback (most recent call last)",
      "\u001b[1;32m~\\AppData\\Local\\Temp\\ipykernel_12324\\149298126.py\u001b[0m in \u001b[0;36m<module>\u001b[1;34m\u001b[0m\n\u001b[1;32m----> 1\u001b[1;33m \u001b[0ms1\u001b[0m \u001b[1;33m=\u001b[0m \u001b[1;33m{\u001b[0m\u001b[1;36m11\u001b[0m\u001b[1;33m,\u001b[0m \u001b[1;36m3.25\u001b[0m\u001b[1;33m,\u001b[0m \u001b[1;32mFalse\u001b[0m\u001b[1;33m,\u001b[0m \u001b[1;36m6j\u001b[0m\u001b[1;33m,\u001b[0m \u001b[1;34m\"blue\"\u001b[0m\u001b[1;33m,\u001b[0m \u001b[1;34m\"orange\"\u001b[0m\u001b[1;33m,\u001b[0m \u001b[1;33m-\u001b[0m\u001b[1;36m8.\u001b[0m\u001b[1;33m,\u001b[0m \u001b[1;32mFalse\u001b[0m\u001b[1;33m,\u001b[0m \u001b[1;36m11\u001b[0m\u001b[1;33m,\u001b[0m \u001b[1;34m\"blue\"\u001b[0m\u001b[1;33m,\u001b[0m \u001b[1;36m11\u001b[0m\u001b[1;33m,\u001b[0m \u001b[1;33m{\u001b[0m\u001b[1;33m-\u001b[0m\u001b[1;36m6\u001b[0m\u001b[1;33m,\u001b[0m \u001b[1;33m-\u001b[0m\u001b[1;36m9\u001b[0m\u001b[1;33m}\u001b[0m \u001b[1;33m}\u001b[0m\u001b[1;33m\u001b[0m\u001b[1;33m\u001b[0m\u001b[0m\n\u001b[0m\u001b[0;32m      2\u001b[0m \u001b[0mprint\u001b[0m\u001b[1;33m(\u001b[0m\u001b[0ms1\u001b[0m\u001b[1;33m)\u001b[0m\u001b[1;33m\u001b[0m\u001b[1;33m\u001b[0m\u001b[0m\n",
      "\u001b[1;31mTypeError\u001b[0m: unhashable type: 'set'"
     ]
    }
   ],
   "source": [
    "s1 = {11, 3.25, False, 6j, \"blue\", \"orange\", -8., False, 11, \"blue\", 11, {-6, -9} } \n",
    "print(s1)\n"
   ]
  },
  {
   "cell_type": "code",
   "execution_count": 17,
   "id": "6e894edb",
   "metadata": {},
   "outputs": [
    {
     "name": "stdout",
     "output_type": "stream",
     "text": [
      "{False, 3.25, 'blue', 'orange', 11, (-6, -9), 6j, -8.0}\n"
     ]
    }
   ],
   "source": [
    "s1 = {11, 3.25, False, 6j, \"blue\", \"orange\", -8., False, 11, \"blue\", 11, (-6, -9)  }\n",
    "print(s1)\n"
   ]
  },
  {
   "cell_type": "code",
   "execution_count": null,
   "id": "c345ba8b",
   "metadata": {},
   "outputs": [],
   "source": []
  },
  {
   "cell_type": "markdown",
   "id": "15c399c9",
   "metadata": {},
   "source": [
    "## Set Methods"
   ]
  },
  {
   "cell_type": "code",
   "execution_count": 23,
   "id": "c18eed08",
   "metadata": {},
   "outputs": [
    {
     "name": "stdout",
     "output_type": "stream",
     "text": [
      "{False, 6j, 3.25, -8.0, 'blue', 'orange', 11}\n",
      "{False, 6j, 3.25, 99, -8.0, 'blue', 'orange', 11}\n",
      "{False, 'java', 3.25, 11, 6j, 99, 'blue', 'orange', -8.0}\n",
      "{False, 'java', 3.25, 11, 6j, 99, 'blue', 'orange', -8.0}\n",
      "{False, 'java', 3.25, 11, 6j, 99, 'blue', 'orange', -8.0}\n",
      "{False, 'java', 3.25, 11, 6j, 99, 'blue', 'orange', -8.0}\n"
     ]
    }
   ],
   "source": [
    "# Insert a single element`\n",
    "\n",
    "\n",
    "s1 = {11, 3.25, False, 6j, \"blue\", \"orange\", -8., False, 11, \"blue\", 11 }\n",
    "print(s1)\n",
    "\n",
    "s1.add( 99 )\n",
    "print(s1)\n",
    "\n",
    "\n",
    "s1.add( 'java' )\n",
    "print(s1)\n",
    "\n",
    "s1.add( 11 )\n",
    "print(s1)\n",
    "\n",
    "s1.add( 11 )\n",
    "print(s1)\n",
    "\n",
    "s1.add( 11 )\n",
    "print(s1)\n"
   ]
  },
  {
   "cell_type": "code",
   "execution_count": 21,
   "id": "f1213573",
   "metadata": {},
   "outputs": [],
   "source": [
    "# s1 = [11, 3.25, False, 6j, \"blue\", \"orange\", -8., False, 11, \"blue\", 11 ]\n",
    "\n",
    "# s1 = list( set(s1)  )\n",
    "# print(s1)\n"
   ]
  },
  {
   "cell_type": "code",
   "execution_count": 28,
   "id": "c7dbb283",
   "metadata": {},
   "outputs": [
    {
     "name": "stdout",
     "output_type": "stream",
     "text": [
      "{False, 6j, 3.25, -8.0, 'blue', 'orange', 11}\n",
      "{False, 6j, 3.25, -8.0, 'blue', 'orange', 11, 8}\n",
      "{False, 3.25, 8, 11, 6j, 'blue', 'orange', 'python', -8.0}\n"
     ]
    }
   ],
   "source": [
    "# Insert Multple element`\n",
    "\n",
    "\n",
    "s1 = {11, 3.25, False, 6j, \"blue\", \"orange\", -8., False, 11, \"blue\", 11 }\n",
    "print(s1)\n",
    "\n",
    "s1.update( [8] )  # Insert mutliple elements\n",
    "print(s1)\n",
    "\n",
    "\n",
    "s1.update( [11, 8, False, \"python\"] )  # Insert mutliple elements\n",
    "print(s1)\n",
    "\n"
   ]
  },
  {
   "cell_type": "code",
   "execution_count": 25,
   "id": "170961ea",
   "metadata": {},
   "outputs": [
    {
     "data": {
      "text/plain": [
       "100.0"
      ]
     },
     "execution_count": 25,
     "metadata": {},
     "output_type": "execute_result"
    }
   ],
   "source": [
    "# import math\n",
    "\n",
    "# math.sqrt( 100 )\n",
    "# math.pow(10, 2)"
   ]
  },
  {
   "cell_type": "code",
   "execution_count": 2,
   "id": "42ee6941",
   "metadata": {},
   "outputs": [
    {
     "name": "stdout",
     "output_type": "stream",
     "text": [
      "{False, 6j, 3.25, 'orange', -8.0, 11, 'blue'}\n",
      "False\n",
      "{6j, 3.25, 'orange', -8.0, 11, 'blue'}\n",
      "6j\n",
      "{3.25, 'orange', -8.0, 11, 'blue'}\n",
      "3.25\n",
      "{'orange', -8.0, 11, 'blue'}\n"
     ]
    }
   ],
   "source": [
    "# Delete the element\n",
    "\n",
    "\n",
    "s1 = {11, 3.25, False, 6j, \"blue\", \"orange\", -8., False, 11, \"blue\", 11 }\n",
    "print(s1)\n",
    "\n",
    "print(  s1.pop()  )\n",
    "print(s1)\n",
    "\n",
    "print(  s1.pop()  )\n",
    "print(s1)\n",
    "\n",
    "print(  s1.pop()  )\n",
    "print(s1)\n"
   ]
  },
  {
   "cell_type": "code",
   "execution_count": 40,
   "id": "7ff421a8",
   "metadata": {},
   "outputs": [
    {
     "name": "stdout",
     "output_type": "stream",
     "text": [
      "{False, 6j, 3.25, -8.0, 'blue', 'orange', 11}\n",
      "{False, 6j, 3.25, -8.0, 'blue', 'orange'}\n",
      "{False, 6j, 3.25, -8.0, 'blue', 'orange'}\n",
      "{6j, 3.25, -8.0, 'blue', 'orange'}\n",
      "{6j, 3.25, -8.0, 'blue', 'orange'}\n"
     ]
    }
   ],
   "source": [
    "# Delete the element by taking its value\n",
    "\n",
    "\n",
    "s1 = {11, 3.25, False, 6j, \"blue\", \"orange\", -8., False, 11, \"blue\", 11 }\n",
    "print(s1)\n",
    "\n",
    "s1.discard(11)  \n",
    "print(s1)\n",
    "\n",
    "s1.discard('python')  \n",
    "print(s1)\n",
    "\n",
    "s1.discard(False)  \n",
    "print(s1)\n",
    "\n",
    "s1.discard(99999)  \n",
    "print(s1)\n"
   ]
  },
  {
   "cell_type": "markdown",
   "id": "874f15c4",
   "metadata": {},
   "source": [
    "print( dir( set ) )\n",
    "\n",
    "'add', 'clear', 'copy', 'difference', 'difference_update', 'discard', 'intersection', 'intersection_update', 'isdisjoint', 'issubset', 'issuperset', 'pop', 'remove', 'symmetric_difference', 'symmetric_difference_update', 'union', 'update']"
   ]
  },
  {
   "cell_type": "markdown",
   "id": "d58d96fc",
   "metadata": {},
   "source": [
    " 'clear', 'copy', \n"
   ]
  },
  {
   "cell_type": "code",
   "execution_count": 43,
   "id": "0242abe3",
   "metadata": {},
   "outputs": [
    {
     "name": "stdout",
     "output_type": "stream",
     "text": [
      "a :  {'java', False, 10, 'python'}\n",
      "b :  {10, 'python'}\n",
      "c :  {'java', 99}\n"
     ]
    }
   ],
   "source": [
    "# Relationship : Parent - child\n",
    "# Superset and subset\n",
    "\n",
    "a = {10, \"java\", False, \"python\"}\n",
    "print(\"a : \", a)\n",
    "\n",
    "b = {10, 'python'}\n",
    "print(\"b : \", b)\n",
    "\n",
    "\n",
    "c = {99, 'java'}\n",
    "print(\"c : \", c)"
   ]
  },
  {
   "cell_type": "code",
   "execution_count": 45,
   "id": "746065c8",
   "metadata": {},
   "outputs": [
    {
     "name": "stdout",
     "output_type": "stream",
     "text": [
      "True\n",
      "False\n"
     ]
    }
   ],
   "source": [
    "print( a.issuperset(b) )\n",
    "print( a.issuperset(c) )\n"
   ]
  },
  {
   "cell_type": "code",
   "execution_count": 46,
   "id": "c7941ba0",
   "metadata": {},
   "outputs": [
    {
     "name": "stdout",
     "output_type": "stream",
     "text": [
      "True\n",
      "False\n"
     ]
    }
   ],
   "source": [
    "print( b.issubset(a) )\n",
    "print( c.issubset(a) )"
   ]
  },
  {
   "cell_type": "code",
   "execution_count": 49,
   "id": "ea5dd94c",
   "metadata": {},
   "outputs": [
    {
     "name": "stdout",
     "output_type": "stream",
     "text": [
      "False\n",
      "True\n",
      "False\n"
     ]
    }
   ],
   "source": [
    "# Disjoint : # They are independent. They dont have any common elements\n",
    "\n",
    "print( a.isdisjoint(b) ) \n",
    "print( b.isdisjoint(c) )\n",
    "print( a.isdisjoint(c) )\n"
   ]
  },
  {
   "attachments": {
    "image.png": {
     "image/png": "[encoded data removed]"
    }
   },
   "cell_type": "markdown",
   "id": "c2ff9b14",
   "metadata": {},
   "source": [
    "![image.png](attachment:image.png)"
   ]
  },
  {
   "cell_type": "code",
   "execution_count": 50,
   "id": "3c167795",
   "metadata": {},
   "outputs": [],
   "source": [
    "setA = {\"#\", \"@\", 11, \"python\", \"*\", \"@\", \"@\"}\n",
    "setB = {11, \"@\", \"sql\", False, 11, 11}"
   ]
  },
  {
   "cell_type": "code",
   "execution_count": 51,
   "id": "26f6891b",
   "metadata": {},
   "outputs": [
    {
     "data": {
      "text/plain": [
       "{'#', '*', 11, '@', False, 'python', 'sql'}"
      ]
     },
     "execution_count": 51,
     "metadata": {},
     "output_type": "execute_result"
    }
   ],
   "source": [
    "# Union Operations\n",
    "res = setA.union(setB)\n",
    "res"
   ]
  },
  {
   "cell_type": "code",
   "execution_count": 52,
   "id": "3f366c3d",
   "metadata": {},
   "outputs": [
    {
     "data": {
      "text/plain": [
       "{11, '@'}"
      ]
     },
     "execution_count": 52,
     "metadata": {},
     "output_type": "execute_result"
    }
   ],
   "source": [
    "# Intersection Operations\n",
    "res = setA.intersection(setB)\n",
    "res"
   ]
  },
  {
   "cell_type": "code",
   "execution_count": 53,
   "id": "bbe7963d",
   "metadata": {},
   "outputs": [
    {
     "data": {
      "text/plain": [
       "{'#', '*', False, 'python', 'sql'}"
      ]
     },
     "execution_count": 53,
     "metadata": {},
     "output_type": "execute_result"
    }
   ],
   "source": [
    "# Symmetric Difference Operations - Remove the common elements\n",
    "res = setA.symmetric_difference(setB)\n",
    "res"
   ]
  },
  {
   "cell_type": "code",
   "execution_count": 54,
   "id": "9850dbc7",
   "metadata": {},
   "outputs": [
    {
     "data": {
      "text/plain": [
       "{'#', '*', 'python'}"
      ]
     },
     "execution_count": 54,
     "metadata": {},
     "output_type": "execute_result"
    }
   ],
   "source": [
    "# Difference Operations\n",
    "res = setA.difference(setB)\n",
    "res"
   ]
  },
  {
   "cell_type": "code",
   "execution_count": 55,
   "id": "54efa487",
   "metadata": {},
   "outputs": [
    {
     "data": {
      "text/plain": [
       "{False, 'sql'}"
      ]
     },
     "execution_count": 55,
     "metadata": {},
     "output_type": "execute_result"
    }
   ],
   "source": [
    "# Difference Operations\n",
    "res = setB.difference(setA)\n",
    "res"
   ]
  },
  {
   "cell_type": "code",
   "execution_count": 3,
   "id": "84ccd555",
   "metadata": {},
   "outputs": [
    {
     "name": "stdout",
     "output_type": "stream",
     "text": [
      "{'microsoft', 'cherry', 'banana', 'google'}\n"
     ]
    }
   ],
   "source": [
    "x = {\"apple\", \"banana\", \"cherry\"}\n",
    "y = {\"google\", \"microsoft\", \"apple\"}\n",
    "\n",
    "x.symmetric_difference_update(y)\n",
    "\n",
    "print(x)\n"
   ]
  },
  {
   "cell_type": "code",
   "execution_count": null,
   "id": "3e087f97",
   "metadata": {},
   "outputs": [],
   "source": []
  },
  {
   "cell_type": "code",
   "execution_count": null,
   "id": "5efc59a2",
   "metadata": {},
   "outputs": [],
   "source": []
  },
  {
   "cell_type": "code",
   "execution_count": null,
   "id": "61e941db",
   "metadata": {},
   "outputs": [],
   "source": []
  },
  {
   "cell_type": "code",
   "execution_count": null,
   "id": "81638e79",
   "metadata": {},
   "outputs": [],
   "source": []
  },
  {
   "cell_type": "code",
   "execution_count": null,
   "id": "fa53c3e4",
   "metadata": {},
   "outputs": [],
   "source": []
  }
 ],
 "metadata": {
  "kernelspec": {
   "display_name": "base",
   "language": "python",
   "name": "python3"
  },
  "language_info": {
   "codemirror_mode": {
    "name": "ipython",
    "version": 3
   },
   "file_extension": ".py",
   "mimetype": "text/x-python",
   "name": "python",
   "nbconvert_exporter": "python",
   "pygments_lexer": "ipython3",
   "version": "3.9.13"
  },
  "vscode": {
   "interpreter": {
    "hash": "5ae58900cfbb8c43ab3495913814b7cf26024f51651a94ce8bf64d6111688e8d"
   }
  }
 },
 "nbformat": 4,
 "nbformat_minor": 5
}

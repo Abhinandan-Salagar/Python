{
 "cells": [
  {
   "cell_type": "markdown",
   "id": "0c7f737c",
   "metadata": {},
   "source": [
    "\n",
    "Q1. Find the number of vowels and digits and spaces from the below string..\n",
    "myString = \"this is the python programming batch of febuary\"\n",
    "\n",
    "Q2. find which of them is in palindromes.\n",
    "inputList = [\"madam\", \"naman\", \"12321\", \"7530\", False, 45621, 85258, \"ADDydda\"]\n",
    "outputList = [\"madam\", \"naman\", \"12321\", 85258, \"ADDydda\"]\n",
    "\n",
    "Q3. Find the factorial of the numbers written inside the tuple;\n",
    "input = (8, 3, 0, -5, 10, 5)\n",
    "\n",
    "\n",
    "Q4. Find the count of each character inside the string\n",
    "myString = \"python programming batch of febuary\"\n",
    "p = ?\n",
    "b = ?\n",
    "f = ??\n",
    "\n",
    "Q5. Write a program (WAP) to reverse the tuple\n",
    "input = (8, 3, 0, -5, 10, 5)\n",
    "\n",
    "\n",
    "Q6. You have been given a dictionary highlighting names and their mobile numbers.\n",
    "WAP to find out the mobile number of person by taking its name from user.\n",
    "dictionary = {\"nitish\" : 7503286013, \n",
    "             \"shweta\" : 7451425810, \n",
    "             \"pawan\" :  9987542140, \n",
    "             \"aman\" : 3074514520, \n",
    "             \"pravesh\"  7452479585: \n",
    "              \"aastha\" : 8888999997, \n",
    "              \"pooja\" : 4458777789}\n",
    "\n",
    "Eg : inputName = \"nitish\"\n",
    "output = 7503286013\n",
    "\n",
    "\n",
    "Q7. You have been given a dictionary highlighting names and their mobile numbers.\n",
    "WAP to find replace the mobile number of person by taking its name from user.\n",
    "dictionary = {\"nitish\" : 7503286013, \n",
    "             \"shweta\" : 7451425810, \n",
    "             \"pawan\" :  9987542140, \n",
    "             \"aman\" : 3074514520, \n",
    "             \"pravesh\"  7452479585: \n",
    "              \"aastha\" : 8888999997, \n",
    "              \"pooja\" : 4458777789}\n",
    "\n",
    "Eg : inputName = \"nitish\"\n",
    "number = 9999999999\n",
    "output : dictionary = {\"nitish\" : 9999999999, \n",
    "             \"shweta\" : 7451425810, \n",
    "             \"pawan\" :  9987542140, \n",
    "             \"aman\" : 3074514520, \n",
    "             \"pravesh\"  7452479585: \n",
    "              \"aastha\" : 8888999997, \n",
    "              \"pooja\" : 4458777789}\n",
    "\n",
    "\n",
    "\n",
    "Q8. You have been given a dictionary highlighting names and their mobile numbers.\n",
    "WAP to find insert a pair of new name and their mobile number by taking from user.\n",
    "dictionary = {\"nitish\" : 7503286013, \n",
    "             \"shweta\" : 7451425810, \n",
    "             \"pawan\" :  9987542140, \n",
    "             \"aman\" : 3074514520, \n",
    "             \"pravesh\"  7452479585: \n",
    "              \"aastha\" : 8888999997, \n",
    "              \"pooja\" : 4458777789}\n",
    "\n",
    "Eg : inputName = \"sanjay\"\n",
    "number = 9999999999\n",
    "output : dictionary = {\"nitish\" : 7503286013, \n",
    "             \"shweta\" : 7451425810, \n",
    "             \"pawan\" :  9987542140, \n",
    "             \"aman\" : 3074514520, \n",
    "             \"pravesh\"  7452479585: \n",
    "              \"aastha\" : 8888999997, \n",
    "              \"pooja\" : 4458777789, \n",
    "              \"sanjay\" : 9999999999}\n",
    "\n",
    "Q9. You have been given a dictionary highlighting names and their mobile numbers.\n",
    "Write a program to share a common message as described below to the following users written inside dictionary.\n",
    "message = \"Congratulations <USERNAME> for entering the tournament. Details are shared in your phone number <PHONENUMBER>\"\n",
    "dictionary = {\"nitish\" : 7503286013, \n",
    "             \"shweta\" : 7451425810, \n",
    "             \"pawan\" :  9987542140, \n",
    "             \"aman\" : 3074514520, \n",
    "             \"pravesh\"  7452479585: \n",
    "              \"aastha\" : 8888999997, \n",
    "              \"pooja\" : 4458777789}\n"
   ]
  },
  {
   "cell_type": "code",
   "execution_count": null,
   "id": "75d38b31",
   "metadata": {},
   "outputs": [],
   "source": [
    "dictionary = {\"nitish\" : 7503286013, \n",
    "             \"shweta\" : 7451425810, \n",
    "             \"pawan\" :  9987542140, \n",
    "             \"aman\" : 3074514520, \n",
    "             \"pravesh\"  7452479585: \n",
    "              \"aastha\" : 8888999997, \n",
    "              \"pooja\" : 4458777789}\n"
   ]
  },
  {
   "cell_type": "code",
   "execution_count": 15,
   "id": "981a94d1",
   "metadata": {},
   "outputs": [
    {
     "name": "stdout",
     "output_type": "stream",
     "text": [
      "Digits : 0\n",
      "Spaces : 7\n",
      "Vowels : 12\n"
     ]
    }
   ],
   "source": [
    "# Q1. Find the number of vowels and digits and spaces from the below string..\n",
    "# myString = \"this is the python programming batch of febuary\"\n",
    "\n",
    "myString = \"this is the python programming batch of febuary\"\n",
    "\n",
    "d = 0\n",
    "sp = 0\n",
    "v = 0\n",
    "\n",
    "for s in myString :\n",
    "#     print(s)\n",
    "    \n",
    "    if s.isdigit() : \n",
    "        d = d + 1\n",
    "    elif s.isspace() : \n",
    "        sp = sp + 1\n",
    "    elif s in \"aeiou\" : \n",
    "        v = v + 1\n",
    "\n",
    "print( f\"Digits : {d}\" )\n",
    "print( f\"Spaces : {sp}\" )\n",
    "print( f\"Vowels : {v}\" )\n",
    "\n"
   ]
  },
  {
   "cell_type": "code",
   "execution_count": 7,
   "id": "f7af00bd",
   "metadata": {},
   "outputs": [
    {
     "name": "stdout",
     "output_type": "stream",
     "text": [
      "f\n",
      "e\n",
      "b\n",
      "u\n",
      "a\n",
      "r\n",
      "y\n"
     ]
    }
   ],
   "source": [
    "myString = \"febuary\"\n",
    "\n",
    "for i in range(0, len(myString)) : \n",
    "    print( myString[i] )"
   ]
  },
  {
   "cell_type": "code",
   "execution_count": 10,
   "id": "899cfa08",
   "metadata": {},
   "outputs": [
    {
     "name": "stdout",
     "output_type": "stream",
     "text": [
      "f\n",
      "e\n",
      "b\n",
      "u\n",
      "a\n",
      "r\n",
      "y\n"
     ]
    }
   ],
   "source": [
    "myString = \"febuary\"\n",
    "\n",
    "for i in myString : \n",
    "    print( i)"
   ]
  },
  {
   "cell_type": "code",
   "execution_count": 17,
   "id": "6f3fc601",
   "metadata": {},
   "outputs": [
    {
     "name": "stdout",
     "output_type": "stream",
     "text": [
      "Words = 8\n",
      "Spaces = 7\n"
     ]
    }
   ],
   "source": [
    "# Q1. Find the number words and spaces from the below string..\n",
    "# myString = \"this is the python programming batch of febuary\"\n",
    "\n",
    "myString = \"this is the python programming batch of febuary\"\n",
    "\n",
    "res = myString.split(\" \")\n",
    "res\n",
    "\n",
    "print(f\"Words = {len(res)}\")\n",
    "print(f\"Spaces = {len(res) - 1}\")\n"
   ]
  },
  {
   "cell_type": "code",
   "execution_count": 21,
   "id": "899c3d15",
   "metadata": {},
   "outputs": [
    {
     "name": "stdout",
     "output_type": "stream",
     "text": [
      "madam\n",
      "naman\n",
      "12321\n",
      "7530\n",
      "False\n",
      "45621\n",
      "85258\n",
      "ADDydda\n"
     ]
    },
    {
     "data": {
      "text/plain": [
       "['madam', 'naman', '12321', 85258, 'ADDydda']"
      ]
     },
     "execution_count": 21,
     "metadata": {},
     "output_type": "execute_result"
    }
   ],
   "source": [
    "# Q2. find which of them is in palindromes.\n",
    "# inputList = [\"madam\", \"naman\", \"12321\", \"7530\", False, 45621, 85258, \"ADDydda\"]\n",
    "# outputList = [\"madam\", \"naman\", \"12321\", 85258, \"ADDydda\"]\n",
    "\n",
    "inputList = [\"madam\", \"naman\", \"12321\", \"7530\", False, 45621, 85258, \"ADDydda\"]\n",
    "\n",
    "outputList = []\n",
    "for i in inputList : \n",
    "    print(i)\n",
    "    \n",
    "    if str(i).lower()[ : : 1] == str(i).lower()[ : : -1] : \n",
    "        outputList.append(i)\n",
    "\n",
    "outputList"
   ]
  },
  {
   "cell_type": "code",
   "execution_count": 27,
   "id": "d42fda0d",
   "metadata": {},
   "outputs": [
    {
     "data": {
      "text/plain": [
       "1"
      ]
     },
     "execution_count": 27,
     "metadata": {},
     "output_type": "execute_result"
    }
   ],
   "source": [
    "# Q3. Find the factorial of the numbers written inside the tuple;\n",
    "# input = (8, 3, 0, -5, 10, 5)\n",
    "# 5! = 5 * 4 * 3 * 2 * 1\n",
    "\n",
    "num = 0\n",
    "fact = 1\n",
    "for i in range(num, 0, -1) : # 0 - 0 \n",
    "    print(i)\n",
    "    fact = fact * i\n",
    "fact"
   ]
  },
  {
   "cell_type": "code",
   "execution_count": 32,
   "id": "0ceef721",
   "metadata": {},
   "outputs": [
    {
     "name": "stdout",
     "output_type": "stream",
     "text": [
      "Factorial of 8 = 40320\n",
      "Factorial of 3 = 6\n",
      "Factorial of 0 = 1\n",
      "Factorial of -5 does not exist\n",
      "Factorial of 10 = 3628800\n",
      "Factorial of 5 = 120\n"
     ]
    }
   ],
   "source": [
    "seq = (8, 3, 0, -5, 10, 5)\n",
    "\n",
    "for number in seq : \n",
    "#     print(number)\n",
    "    \n",
    "    if number < 0 :  # number is negative\n",
    "        print(f\"Factorial of {number} does not exist\")\n",
    "    else : # number is positive\n",
    "        \n",
    "        if number == 0 : \n",
    "            print(f\"Factorial of {number} = 1\")\n",
    "        else : # number > 0\n",
    "            fact = 1\n",
    "            for i in range(number, 0, -1) : # 0 - 0 \n",
    "#                 print(i)\n",
    "                fact = fact * i\n",
    "            print(f\"Factorial of {number} = {fact}\")\n"
   ]
  },
  {
   "cell_type": "code",
   "execution_count": 42,
   "id": "bf276af2",
   "metadata": {},
   "outputs": [
    {
     "data": {
      "text/plain": [
       "{'p': 5, 'a': 5, 'w': 3}"
      ]
     },
     "execution_count": 42,
     "metadata": {},
     "output_type": "execute_result"
    }
   ],
   "source": [
    "# Q4. Find the count of each character inside the string\n",
    "# myString = \"python programming batch of febuary\"\n",
    "# p = ?\n",
    "# b = ?\n",
    "# f = ??\n",
    "\n",
    "\n",
    "# myString = \"python programming batch of febuary\"\n",
    "myString = \"pawpawpapapaw\"\n",
    "dt = {}\n",
    "\n",
    "for s in myString : \n",
    "#     print(s)\n",
    "    dt[s] = myString.count(s) # Key value insertion\n",
    "#     print(dt)\n",
    "    \n",
    "dt\n",
    "\n",
    "\n"
   ]
  },
  {
   "cell_type": "code",
   "execution_count": 37,
   "id": "0d7b15cb",
   "metadata": {},
   "outputs": [],
   "source": [
    "# myString = \"python programming batch of febuary\"\n",
    "# res = sorted(myString)\n",
    "# res = set(res)\n",
    "# res\n"
   ]
  },
  {
   "cell_type": "code",
   "execution_count": 41,
   "id": "87549e28",
   "metadata": {},
   "outputs": [
    {
     "data": {
      "text/plain": [
       "{'p': 5, 'a': 5, 'w': 3}"
      ]
     },
     "execution_count": 41,
     "metadata": {},
     "output_type": "execute_result"
    }
   ],
   "source": [
    "# Q4. Find the count of each character inside the string\n",
    "# myString = \"python programming batch of febuary\"\n",
    "# p = ?\n",
    "# b = ?\n",
    "# f = ??\n",
    "\n",
    "\n",
    "# myString = \"python programming batch of febuary\"\n",
    "myString = \"pawpawpapapaw\"\n",
    "dt = {}\n",
    "\n",
    "for s in myString : \n",
    "    if s not in dt : # char is absent inside dictionary\n",
    "        dt[s] = myString.count(s) # Key value insertion\n",
    "#         print(dt)\n",
    "    \n",
    "dt\n",
    "\n",
    "\n",
    "# if s == \"pattern\" : \n",
    "#     myString.count(s) # Key value insertion\n",
    "# #         print(dt)\n"
   ]
  },
  {
   "cell_type": "code",
   "execution_count": 44,
   "id": "64fb6beb",
   "metadata": {},
   "outputs": [
    {
     "data": {
      "text/plain": [
       "(5, 10, -5, 0, 3, 8)"
      ]
     },
     "execution_count": 44,
     "metadata": {},
     "output_type": "execute_result"
    }
   ],
   "source": [
    "# Q5. Write a program (WAP) to reverse the tuple\n",
    "# input = (8, 3, 0, -5, 10, 5)\n",
    "\n",
    "seq = (8, 3, 0, -5, 10, 5)\n",
    "seq[ : : -1]\n"
   ]
  },
  {
   "cell_type": "code",
   "execution_count": 49,
   "id": "08ab8cbf",
   "metadata": {},
   "outputs": [
    {
     "name": "stdout",
     "output_type": "stream",
     "text": [
      "Mention Name : nagfdcfwgy\n",
      "No such Name is there\n"
     ]
    }
   ],
   "source": [
    "# Q6. You have been given a dictionary highlighting names and their mobile numbers.\n",
    "# WAP to find out the mobile number of person by taking its name from user.\n",
    "# dictionary = {\"nitish\" : 7503286013, \n",
    "#              \"shweta\" : 7451425810, \n",
    "#              \"pawan\" :  9987542140, \n",
    "#              \"aman\" : 3074514520, \n",
    "#              \"pravesh\"  7452479585: \n",
    "#               \"aastha\" : 8888999997, \n",
    "#               \"pooja\" : 4458777789}\n",
    "\n",
    "# Eg : inputName = \"nitish\"\n",
    "# output = 7503286013\n",
    "\n",
    "\n",
    "dictionary = {\"nitish\" : 7503286013, \n",
    "             \"shweta\" : 7451425810, \n",
    "             \"pawan\" :  9987542140, \n",
    "             \"aman\" : 3074514520, \n",
    "             \"pravesh\" : 7452479585,\n",
    "              \"aastha\" : 8888999997, \n",
    "              \"pooja\" : 4458777789}\n",
    "\n",
    "inputName = input(\"Mention Name : \")\n",
    "if inputName in dictionary :  # name is present as key in dicionary\n",
    "    print(f\"Mobile Number : {dictionary[inputName]}\") # Number replacement\n",
    "else : # Number Insertion\n",
    "    print(\"No such Name is there\")\n"
   ]
  },
  {
   "cell_type": "code",
   "execution_count": 55,
   "id": "11875cfe",
   "metadata": {},
   "outputs": [
    {
     "name": "stdout",
     "output_type": "stream",
     "text": [
      "Congratulations 'NITISH' for entering the tournament. Details are shared in your phone number 7503286013\n",
      "Congratulations 'SHWETA' for entering the tournament. Details are shared in your phone number 7451425810\n",
      "Congratulations 'PAWAN' for entering the tournament. Details are shared in your phone number 9987542140\n",
      "Congratulations 'AMAN' for entering the tournament. Details are shared in your phone number 3074514520\n",
      "Congratulations 'PRAVESH' for entering the tournament. Details are shared in your phone number 7452479585\n",
      "Congratulations 'AASTHA' for entering the tournament. Details are shared in your phone number 8888999997\n",
      "Congratulations 'POOJA' for entering the tournament. Details are shared in your phone number 4458777789\n"
     ]
    }
   ],
   "source": [
    "# Q9. You have been given a dictionary highlighting names and their mobile numbers.\n",
    "# Write a program to share a common message as described below to the following users written inside dictionary.\n",
    "# message = \"Congratulations <USERNAME> for entering the tournament. Details are shared in your phone number <PHONENUMBER>\"\n",
    "# dictionary = {\"nitish\" : 7503286013, \n",
    "#              \"shweta\" : 7451425810, \n",
    "#              \"pawan\" :  9987542140, \n",
    "#              \"aman\" : 3074514520, \n",
    "#              \"pravesh\"  7452479585: \n",
    "#               \"aastha\" : 8888999997, \n",
    "#               \"pooja\" : 4458777789}\n",
    "\n",
    "\n",
    "message = \"Congratulations <USERNAME> for entering the tournament. Details are shared in your phone number <PHONENUMBER>\"\n",
    "dictionary = {\"nitish\" : 7503286013, \n",
    "             \"shweta\" : 7451425810, \n",
    "             \"pawan\" :  9987542140, \n",
    "             \"aman\" : 3074514520, \n",
    "             \"pravesh\"  : 7452479585, \n",
    "              \"aastha\" : 8888999997, \n",
    "              \"pooja\" : 4458777789}\n",
    "\n",
    "for k, v in dictionary.items() : \n",
    "    print(f\"Congratulations '{k.upper()}' for entering the tournament. Details are shared in your phone number {v}\")\n",
    "#     print(k , v)\n"
   ]
  },
  {
   "cell_type": "code",
   "execution_count": null,
   "id": "a1a18883",
   "metadata": {},
   "outputs": [],
   "source": []
  },
  {
   "cell_type": "code",
   "execution_count": null,
   "id": "2bf8e465",
   "metadata": {},
   "outputs": [],
   "source": []
  },
  {
   "cell_type": "code",
   "execution_count": null,
   "id": "0851f854",
   "metadata": {},
   "outputs": [],
   "source": []
  },
  {
   "cell_type": "code",
   "execution_count": null,
   "id": "94d330cb",
   "metadata": {},
   "outputs": [],
   "source": []
  },
  {
   "cell_type": "code",
   "execution_count": null,
   "id": "ab73dbdd",
   "metadata": {},
   "outputs": [],
   "source": []
  },
  {
   "cell_type": "code",
   "execution_count": null,
   "id": "cddfcdc0",
   "metadata": {},
   "outputs": [],
   "source": []
  },
  {
   "cell_type": "code",
   "execution_count": 1,
   "id": "84790b16",
   "metadata": {},
   "outputs": [
    {
     "name": "stdout",
     "output_type": "stream",
     "text": [
      "-2\n"
     ]
    }
   ],
   "source": [
    "print(~True)"
   ]
  },
  {
   "cell_type": "code",
   "execution_count": null,
   "id": "d4a9d9c9",
   "metadata": {},
   "outputs": [],
   "source": []
  }
 ],
 "metadata": {
  "kernelspec": {
   "display_name": "base",
   "language": "python",
   "name": "python3"
  },
  "language_info": {
   "codemirror_mode": {
    "name": "ipython",
    "version": 3
   },
   "file_extension": ".py",
   "mimetype": "text/x-python",
   "name": "python",
   "nbconvert_exporter": "python",
   "pygments_lexer": "ipython3",
   "version": "3.9.13"
  },
  "vscode": {
   "interpreter": {
    "hash": "5ae58900cfbb8c43ab3495913814b7cf26024f51651a94ce8bf64d6111688e8d"
   }
  }
 },
 "nbformat": 4,
 "nbformat_minor": 5
}
